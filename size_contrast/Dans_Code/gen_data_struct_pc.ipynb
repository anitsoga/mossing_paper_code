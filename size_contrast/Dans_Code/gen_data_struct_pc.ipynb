{
 "cells": [
  {
   "cell_type": "code",
   "execution_count": 1,
   "metadata": {},
   "outputs": [
    {
     "name": "stderr",
     "output_type": "stream",
     "text": [
      "/home/mossing/Documents/code/downloads/OASIS/oasis/functions.py:14: UserWarning: Could not find cvxpy. Don't worry, you can still use OASIS, just not the slower interior point methods we compared to in the papers.\n",
      "  \"just not the slower interior point methods we compared to in the papers.\")\n"
     ]
    }
   ],
   "source": [
    "import os\n",
    "import scipy.io as sio\n",
    "import matplotlib.pyplot as plt\n",
    "%matplotlib notebook\n",
    "import numpy as np\n",
    "import h5py\n",
    "from oasis.functions import deconvolve\n",
    "from oasis import oasisAR1, oasisAR2\n",
    "import pyute as ut\n",
    "\n",
    "from importlib import reload\n",
    "reload(ut)\n",
    "import scipy.ndimage.filters as sfi\n",
    "import scipy.stats as sst\n",
    "import scipy.ndimage.measurements as snm\n",
    "from mpl_toolkits.mplot3d import Axes3D\n",
    "import size_contrast_analysis as sca\n",
    "reload(sca)\n",
    "import retinotopy_analysis as rt\n",
    "reload(rt)\n",
    "import naka_rushton_analysis as nra\n",
    "import pdb\n",
    "import sklearn\n",
    "import pickle as pkl"
   ]
  },
  {
   "cell_type": "code",
   "execution_count": 12,
   "metadata": {},
   "outputs": [],
   "source": [
    "datafoldbase = '/media/mossing/backup_1/data/2P/'\n",
    "info = sio.loadmat(datafoldbase+thisfold+thisfile+'.mat',squeeze_me=True)['info']"
   ]
  },
  {
   "cell_type": "code",
   "execution_count": 15,
   "metadata": {},
   "outputs": [
    {
     "data": {
      "text/plain": [
       "1"
      ]
     },
     "execution_count": 15,
     "metadata": {},
     "output_type": "execute_result"
    }
   ],
   "source": [
    "np.mod(info['frame'][()].size,5)"
   ]
  },
  {
   "cell_type": "code",
   "execution_count": 17,
   "metadata": {},
   "outputs": [],
   "source": [
    "folds = []\n",
    "files = []\n",
    "rets = []\n",
    "adjust_fns = []\n",
    "rgs = []\n",
    "criteria = []\n",
    "datafoldbases = []\n",
    "\n",
    "datafoldbase = '/media/mossing/backup_1/data/2P/'\n",
    "\n",
    "def tack_on(thisfold,thisfile,retnumber,frame_adjust=None,rg=None,criterion=lambda x: np.abs(x)>100,datafoldbase='/home/mossing/scratch/2Pdata/'):\n",
    "    folds.append(thisfold)\n",
    "    files.append(thisfile)\n",
    "    rets.append(retnumber)\n",
    "    adjust_fns.append(frame_adjust)\n",
    "    if rg is None:\n",
    "        info = sio.loadmat(datafoldbase+thisfold+thisfile+'.mat',squeeze_me=True)['info']\n",
    "        frameno = info['frame'][()].size\n",
    "        if np.mod(frameno,5)==1:\n",
    "            rg = (1,0)\n",
    "        else:\n",
    "            rg = (1,-1)\n",
    "    rgs.append(rg)\n",
    "    criteria.append(criterion)\n",
    "    datafoldbases.append(datafoldbase)\n",
    "    \n",
    "thisfold = '181205/M10130/'\n",
    "thisfile = 'M10130_175_004'\n",
    "retnumber = '003'\n",
    "tack_on(thisfold,thisfile,retnumber,datafoldbase=datafoldbase) \n",
    "\n",
    "thisfold = '181213/M8536/'\n",
    "thisfile = 'M8536_155_002'\n",
    "retnumber = '001'\n",
    "tack_on(thisfold,thisfile,retnumber,datafoldbase='/media/mossing/backup_1/data/2P/')\n",
    "\n",
    "thisfold = '181214/M10130/'\n",
    "thisfile = 'M10130_135_002'\n",
    "retnumber = '001'\n",
    "tack_on(thisfold,thisfile,retnumber,datafoldbase='/media/mossing/backup_1/data/2P/')\n",
    "\n",
    "thisfold = '190128/M8982/'\n",
    "thisfile = 'M8982_200_003'\n",
    "retnumber = '002'\n",
    "tack_on(thisfold,thisfile,retnumber,datafoldbase='/media/mossing/backup_1/data/2P/')\n",
    "\n",
    "thisfold = '190130/M9667/'\n",
    "thisfile = 'M9667_135_002'\n",
    "retnumber = '001'\n",
    "tack_on(thisfold,thisfile,retnumber,datafoldbase='/media/mossing/backup_1/data/2P/')\n",
    "\n",
    "thisfold = '190131/M9355/'\n",
    "thisfile = 'M9355_165_002'\n",
    "retnumber = '001'\n",
    "tack_on(thisfold,thisfile,retnumber,datafoldbase='/media/mossing/backup_1/data/2P/')\n",
    "\n",
    "thisfold = '190208/M9355/'\n",
    "thisfile = 'M9355_175_004'\n",
    "retnumber = '003'\n",
    "tack_on(thisfold,thisfile,retnumber,datafoldbase='/media/mossing/backup_1/data/2P/')\n",
    "\n",
    "thisfold = '190212/M8536/'\n",
    "thisfile = 'M8536_150_005'\n",
    "retnumber = '004'\n",
    "tack_on(thisfold,thisfile,retnumber,datafoldbase='/media/mossing/backup_1/data/2P/')\n",
    "\n",
    "thisfold = '190102/M10130/'\n",
    "thisfile = 'M10130_110_002'\n",
    "retnumber = '001'\n",
    "tack_on(thisfold,thisfile,retnumber,datafoldbase='/media/mossing/backup_1/data/2P/')\n",
    "\n",
    "thisfold = '181209/M8536/'\n",
    "thisfile = 'M8536_165_003'\n",
    "retnumber = '002'\n",
    "tack_on(thisfold,thisfile,retnumber,datafoldbase='/media/mossing/backup_1/data/2P/')"
   ]
  },
  {
   "cell_type": "code",
   "execution_count": 18,
   "metadata": {},
   "outputs": [
    {
     "name": "stdout",
     "output_type": "stream",
     "text": [
      "/media/mossing/backup_1/data/2P/181205/M10130/retinotopy_003.mat\n",
      "/media/mossing/backup_1/data/2P/181205/M10130/ot/M10130_175_004_ot_000.rois\n",
      "(477, 11545)\n",
      "/media/mossing/backup_1/data/2P/181205/M10130/ot/M10130_175_004_ot_001.rois\n",
      "(387, 11545)\n",
      "/media/mossing/backup_1/data/2P/181205/M10130/ot/M10130_175_004_ot_002.rois\n",
      "(406, 11545)\n",
      "roi 4 all zeros\n"
     ]
    },
    {
     "name": "stderr",
     "output_type": "stream",
     "text": [
      "/home/mossing/Documents/code/downloads/OASIS/oasis/functions.py:164: RuntimeWarning: invalid value encountered in multiply\n",
      "  penalty=penalty, **kwargs)\n"
     ]
    },
    {
     "name": "stdout",
     "output_type": "stream",
     "text": [
      "roi 151 all zeros\n",
      "/media/mossing/backup_1/data/2P/181205/M10130/ot/M10130_175_004_ot_003.rois\n",
      "(439, 11545)\n"
     ]
    },
    {
     "name": "stderr",
     "output_type": "stream",
     "text": [
      "/home/mossing/anaconda3/lib/python3.6/site-packages/scipy/stats/stats.py:2247: RuntimeWarning: invalid value encountered in true_divide\n",
      "  return (a - mns) / sstd\n",
      "/home/mossing/Documents/code/adesnal/size_contrast_analysis.py:149: RuntimeWarning: Mean of empty slice\n",
      "  Smean[:,i,j,k,:] = np.nanmean(data[:,lkat,:],1)\n",
      "/home/mossing/Documents/code/adesnal/size_contrast_analysis.py:150: RuntimeWarning: Mean of empty slice\n",
      "  Fmean[:,i,j,k,:] = np.nanmean(data_dfof[:,lkat,:],1)\n"
     ]
    },
    {
     "name": "stdout",
     "output_type": "stream",
     "text": [
      "(1709, 1400, 20)\n",
      "0.282142857143\n",
      "0\n",
      "1\n",
      "2\n",
      "3\n",
      "0\n",
      "45\n",
      "90\n",
      "135\n"
     ]
    },
    {
     "name": "stderr",
     "output_type": "stream",
     "text": [
      "/home/mossing/anaconda3/lib/python3.6/site-packages/scipy/stats/_distn_infrastructure.py:879: RuntimeWarning: invalid value encountered in greater\n",
      "  return (self.a < x) & (x < self.b)\n",
      "/home/mossing/anaconda3/lib/python3.6/site-packages/scipy/stats/_distn_infrastructure.py:879: RuntimeWarning: invalid value encountered in less\n",
      "  return (self.a < x) & (x < self.b)\n",
      "/home/mossing/anaconda3/lib/python3.6/site-packages/scipy/stats/_distn_infrastructure.py:1818: RuntimeWarning: invalid value encountered in less_equal\n",
      "  cond2 = cond0 & (x <= self.a)\n",
      "/home/mossing/Documents/code/adesnal/size_contrast_analysis.py:179: RuntimeWarning: Mean of empty slice\n",
      "  Savg = np.nanmean(np.nanmean(Smean[:,:,:,:,nbefore:-nafter],axis=-1),axis=1)\n",
      "/home/mossing/Documents/code/adesnal/size_contrast_analysis.py:180: RuntimeWarning: Mean of empty slice\n",
      "  Favg = np.nanmean(np.nanmean(Fmean[:,:,:,:,nbefore:-nafter],axis=-1),axis=1)\n",
      "/home/mossing/Documents/code/adesnal/size_contrast_analysis.py:191: RuntimeWarning: Mean of empty slice.\n",
      "  spont = spont + Sspont[key].mean(1)/nkeys\n",
      "/home/mossing/anaconda3/lib/python3.6/site-packages/numpy/core/_methods.py:73: RuntimeWarning: invalid value encountered in true_divide\n",
      "  ret, rcount, out=ret, casting='unsafe', subok=False)\n"
     ]
    },
    {
     "name": "stdout",
     "output_type": "stream",
     "text": [
      "/media/mossing/backup_1/data/2P/181205/M10130/ot/M10130_175_004_ot_000.rois\n",
      "(477, 11545)\n",
      "/media/mossing/backup_1/data/2P/181205/M10130/ot/M10130_175_004_ot_001.rois\n",
      "(387, 11545)\n",
      "/media/mossing/backup_1/data/2P/181205/M10130/ot/M10130_175_004_ot_002.rois\n",
      "(406, 11545)\n",
      "roi 4 all zeros\n",
      "roi 151 all zeros\n",
      "/media/mossing/backup_1/data/2P/181205/M10130/ot/M10130_175_004_ot_003.rois\n",
      "(439, 11545)\n",
      "(1709, 1400, 20)\n",
      "0.717857142857\n"
     ]
    },
    {
     "name": "stderr",
     "output_type": "stream",
     "text": [
      "/home/mossing/Documents/code/adesnal/size_contrast_analysis.py:154: RuntimeWarning: Mean of empty slice\n",
      "  Smean_stat[:,i,j,k] = np.nanmean(data[:,stat],1)\n"
     ]
    },
    {
     "name": "stdout",
     "output_type": "stream",
     "text": [
      "0\n",
      "1\n",
      "2\n",
      "3\n",
      "0\n",
      "45\n",
      "90\n",
      "135\n"
     ]
    },
    {
     "name": "stderr",
     "output_type": "stream",
     "text": [
      "/home/mossing/anaconda3/lib/python3.6/site-packages/scipy/io/matlab/mio.py:136: MatReadWarning: Duplicate variable name \"None\" in stream - replacing previous with new\n",
      "Consider mio5.varmats_from_mat to split file into single variable files\n",
      "  matfile_dict = MR.get_variables(variable_names)\n"
     ]
    },
    {
     "name": "stdout",
     "output_type": "stream",
     "text": [
      "loaded retinotopy file\n",
      "/media/mossing/backup_1/data/2P/181213/M8536/retinotopy_001.mat\n",
      "/media/mossing/backup_1/data/2P/181213/M8536/ot/M8536_155_002_ot_000.rois\n",
      "(337, 22034)\n",
      "/media/mossing/backup_1/data/2P/181213/M8536/ot/M8536_155_002_ot_001.rois\n",
      "(299, 22034)\n",
      "/media/mossing/backup_1/data/2P/181213/M8536/ot/M8536_155_002_ot_002.rois\n",
      "(281, 22034)\n",
      "roi 243 all zeros\n",
      "/media/mossing/backup_1/data/2P/181213/M8536/ot/M8536_155_002_ot_003.rois\n",
      "(311, 22034)\n",
      "(1228, 1400, 24)\n",
      "0.986428571429\n"
     ]
    },
    {
     "name": "stderr",
     "output_type": "stream",
     "text": [
      "/home/mossing/Documents/code/adesnal/size_contrast_analysis.py:107: RuntimeWarning: Mean of empty slice.\n",
      "  trialrun[i] = np.abs(dxdt[frame[0::2][i]:frame[1::2][i]]).mean()\n",
      "/home/mossing/anaconda3/lib/python3.6/site-packages/numpy/core/_methods.py:80: RuntimeWarning: invalid value encountered in double_scalars\n",
      "  ret = ret.dtype.type(ret / rcount)\n",
      "/home/mossing/anaconda3/lib/python3.6/site-packages/ipykernel_launcher.py:11: RuntimeWarning: invalid value encountered in greater\n",
      "  # This is added back by InteractiveShellApp.init_path()\n"
     ]
    },
    {
     "name": "stdout",
     "output_type": "stream",
     "text": [
      "0\n",
      "1\n",
      "2\n",
      "3\n",
      "0\n",
      "45\n",
      "90\n",
      "135\n",
      "/media/mossing/backup_1/data/2P/181213/M8536/ot/M8536_155_002_ot_000.rois\n",
      "(337, 22034)\n",
      "/media/mossing/backup_1/data/2P/181213/M8536/ot/M8536_155_002_ot_001.rois\n",
      "(299, 22034)\n",
      "/media/mossing/backup_1/data/2P/181213/M8536/ot/M8536_155_002_ot_002.rois\n",
      "(281, 22034)\n",
      "roi 243 all zeros\n",
      "/media/mossing/backup_1/data/2P/181213/M8536/ot/M8536_155_002_ot_003.rois\n",
      "(311, 22034)\n",
      "(1228, 1400, 24)\n",
      "0.0135714285714\n",
      "loaded retinotopy file\n",
      "/media/mossing/backup_1/data/2P/181214/M10130/retinotopy_001.mat\n",
      "/media/mossing/backup_1/data/2P/181214/M10130/ot/M10130_135_002_ot_000.rois\n",
      "(387, 22033)\n",
      "/media/mossing/backup_1/data/2P/181214/M10130/ot/M10130_135_002_ot_001.rois\n",
      "(418, 22033)\n",
      "/media/mossing/backup_1/data/2P/181214/M10130/ot/M10130_135_002_ot_002.rois\n",
      "(298, 22033)\n",
      "roi 231 all zeros\n",
      "/media/mossing/backup_1/data/2P/181214/M10130/ot/M10130_135_002_ot_003.rois\n",
      "(397, 22033)\n",
      "(1500, 1400, 24)\n",
      "0.767142857143\n",
      "0\n",
      "1\n",
      "2\n",
      "3\n",
      "0\n",
      "45\n",
      "90\n",
      "135\n",
      "/media/mossing/backup_1/data/2P/181214/M10130/ot/M10130_135_002_ot_000.rois\n",
      "(387, 22033)\n",
      "/media/mossing/backup_1/data/2P/181214/M10130/ot/M10130_135_002_ot_001.rois\n",
      "(418, 22033)\n",
      "/media/mossing/backup_1/data/2P/181214/M10130/ot/M10130_135_002_ot_002.rois\n",
      "(298, 22033)\n",
      "roi 231 all zeros\n",
      "/media/mossing/backup_1/data/2P/181214/M10130/ot/M10130_135_002_ot_003.rois\n",
      "(397, 22033)\n",
      "(1500, 1400, 24)\n",
      "0.232857142857\n",
      "0\n",
      "1\n",
      "2\n",
      "3\n",
      "0\n",
      "45\n",
      "90\n",
      "135\n"
     ]
    },
    {
     "name": "stderr",
     "output_type": "stream",
     "text": [
      "/home/mossing/anaconda3/lib/python3.6/site-packages/numpy/core/fromnumeric.py:3146: RuntimeWarning: Degrees of freedom <= 0 for slice\n",
      "  **kwargs)\n",
      "/home/mossing/anaconda3/lib/python3.6/site-packages/numpy/core/_methods.py:125: RuntimeWarning: invalid value encountered in true_divide\n",
      "  ret, rcount, out=ret, casting='unsafe', subok=False)\n"
     ]
    },
    {
     "name": "stdout",
     "output_type": "stream",
     "text": [
      "loaded retinotopy file\n",
      "/media/mossing/backup_1/data/2P/190128/M8982/retinotopy_002.mat\n",
      "/media/mossing/backup_1/data/2P/190128/M8982/ot/M8982_200_003_ot_000.rois\n",
      "(278, 23254)\n",
      "roi 134 all zeros\n",
      "/media/mossing/backup_1/data/2P/190128/M8982/ot/M8982_200_003_ot_001.rois\n",
      "(357, 23254)\n",
      "/media/mossing/backup_1/data/2P/190128/M8982/ot/M8982_200_003_ot_002.rois\n",
      "(313, 23254)\n",
      "/media/mossing/backup_1/data/2P/190128/M8982/ot/M8982_200_003_ot_003.rois\n",
      "(396, 23254)\n",
      "(1344, 1440, 24)\n",
      "0.104861111111\n",
      "/media/mossing/backup_1/data/2P/190128/M8982/ot/M8982_200_003_ot_000.rois\n",
      "(278, 23254)\n",
      "roi 134 all zeros\n",
      "/media/mossing/backup_1/data/2P/190128/M8982/ot/M8982_200_003_ot_001.rois\n",
      "(357, 23254)\n",
      "/media/mossing/backup_1/data/2P/190128/M8982/ot/M8982_200_003_ot_002.rois\n",
      "(313, 23254)\n",
      "/media/mossing/backup_1/data/2P/190128/M8982/ot/M8982_200_003_ot_003.rois\n",
      "(396, 23254)\n",
      "(1344, 1440, 24)\n",
      "0.895138888889\n",
      "0\n",
      "1\n",
      "2\n",
      "3\n",
      "0\n",
      "45\n",
      "90\n",
      "135\n",
      "loaded retinotopy file\n",
      "/media/mossing/backup_1/data/2P/190130/M9667/retinotopy_001.mat\n",
      "/media/mossing/backup_1/data/2P/190130/M9667/ot/M9667_135_002_ot_000.rois\n",
      "(343, 22664)\n",
      "roi 150 all zeros\n",
      "/media/mossing/backup_1/data/2P/190130/M9667/ot/M9667_135_002_ot_001.rois\n",
      "(355, 22664)\n",
      "/media/mossing/backup_1/data/2P/190130/M9667/ot/M9667_135_002_ot_002.rois\n",
      "(348, 22664)\n",
      "/media/mossing/backup_1/data/2P/190130/M9667/ot/M9667_135_002_ot_003.rois\n",
      "(270, 22664)\n",
      "(1316, 1440, 24)\n",
      "0.897916666667\n",
      "0\n",
      "1\n",
      "2\n",
      "3\n",
      "0\n",
      "45\n",
      "90\n",
      "135\n",
      "/media/mossing/backup_1/data/2P/190130/M9667/ot/M9667_135_002_ot_000.rois\n",
      "(343, 22664)\n",
      "roi 150 all zeros\n",
      "/media/mossing/backup_1/data/2P/190130/M9667/ot/M9667_135_002_ot_001.rois\n",
      "(355, 22664)\n",
      "/media/mossing/backup_1/data/2P/190130/M9667/ot/M9667_135_002_ot_002.rois\n",
      "(348, 22664)\n",
      "/media/mossing/backup_1/data/2P/190130/M9667/ot/M9667_135_002_ot_003.rois\n",
      "(270, 22664)\n",
      "(1316, 1440, 24)\n",
      "0.102083333333\n",
      "loaded retinotopy file\n",
      "/media/mossing/backup_1/data/2P/190131/M9355/retinotopy_001.mat\n",
      "/media/mossing/backup_1/data/2P/190131/M9355/ot/M9355_165_002_ot_000.rois\n",
      "(255, 22660)\n",
      "/media/mossing/backup_1/data/2P/190131/M9355/ot/M9355_165_002_ot_001.rois\n",
      "(307, 22660)\n",
      "roi 156 all zeros\n",
      "/media/mossing/backup_1/data/2P/190131/M9355/ot/M9355_165_002_ot_002.rois\n",
      "(300, 22660)\n",
      "/media/mossing/backup_1/data/2P/190131/M9355/ot/M9355_165_002_ot_003.rois\n",
      "(269, 22660)\n",
      "(1131, 1440, 24)\n",
      "0.100694444444\n",
      "/media/mossing/backup_1/data/2P/190131/M9355/ot/M9355_165_002_ot_000.rois\n",
      "(255, 22660)\n",
      "/media/mossing/backup_1/data/2P/190131/M9355/ot/M9355_165_002_ot_001.rois\n",
      "(307, 22660)\n",
      "roi 156 all zeros\n",
      "/media/mossing/backup_1/data/2P/190131/M9355/ot/M9355_165_002_ot_002.rois\n",
      "(300, 22660)\n",
      "/media/mossing/backup_1/data/2P/190131/M9355/ot/M9355_165_002_ot_003.rois\n",
      "(269, 22660)\n",
      "(1131, 1440, 24)\n",
      "0.899305555556\n",
      "0\n",
      "1\n",
      "2\n",
      "3\n",
      "0\n",
      "45\n",
      "90\n",
      "135\n",
      "loaded retinotopy file\n",
      "/media/mossing/backup_1/data/2P/190208/M9355/retinotopy_003.mat\n",
      "/media/mossing/backup_1/data/2P/190208/M9355/ot/M9355_175_004_ot_000.rois\n",
      "(385, 22666)\n",
      "/media/mossing/backup_1/data/2P/190208/M9355/ot/M9355_175_004_ot_001.rois\n",
      "(352, 22666)\n",
      "/media/mossing/backup_1/data/2P/190208/M9355/ot/M9355_175_004_ot_002.rois\n",
      "(384, 22666)\n",
      "/media/mossing/backup_1/data/2P/190208/M9355/ot/M9355_175_004_ot_003.rois\n",
      "(324, 22666)\n",
      "roi 201 all zeros\n",
      "(1445, 1440, 24)\n",
      "0.106944444444\n",
      "/media/mossing/backup_1/data/2P/190208/M9355/ot/M9355_175_004_ot_000.rois\n",
      "(385, 22666)\n",
      "/media/mossing/backup_1/data/2P/190208/M9355/ot/M9355_175_004_ot_001.rois\n",
      "(352, 22666)\n",
      "/media/mossing/backup_1/data/2P/190208/M9355/ot/M9355_175_004_ot_002.rois\n",
      "(384, 22666)\n",
      "/media/mossing/backup_1/data/2P/190208/M9355/ot/M9355_175_004_ot_003.rois\n",
      "(324, 22666)\n",
      "roi 201 all zeros\n",
      "(1445, 1440, 24)\n",
      "0.893055555556\n",
      "0\n",
      "1\n",
      "2\n",
      "3\n",
      "0\n",
      "45\n",
      "90\n",
      "135\n",
      "loaded retinotopy file\n",
      "/media/mossing/backup_1/data/2P/190212/M8536/retinotopy_004.mat\n",
      "/media/mossing/backup_1/data/2P/190212/M8536/ot/M8536_150_005_ot_000.rois\n",
      "(247, 22663)\n",
      "/media/mossing/backup_1/data/2P/190212/M8536/ot/M8536_150_005_ot_001.rois\n",
      "(261, 22663)\n",
      "/media/mossing/backup_1/data/2P/190212/M8536/ot/M8536_150_005_ot_002.rois\n",
      "(225, 22663)\n",
      "/media/mossing/backup_1/data/2P/190212/M8536/ot/M8536_150_005_ot_003.rois\n",
      "(226, 22663)\n",
      "(959, 1440, 24)\n",
      "0.802083333333\n",
      "0\n",
      "1\n",
      "2\n",
      "3\n",
      "0\n",
      "45\n",
      "90\n",
      "135\n",
      "/media/mossing/backup_1/data/2P/190212/M8536/ot/M8536_150_005_ot_000.rois\n",
      "(247, 22663)\n",
      "/media/mossing/backup_1/data/2P/190212/M8536/ot/M8536_150_005_ot_001.rois\n",
      "(261, 22663)\n",
      "/media/mossing/backup_1/data/2P/190212/M8536/ot/M8536_150_005_ot_002.rois\n",
      "(225, 22663)\n",
      "/media/mossing/backup_1/data/2P/190212/M8536/ot/M8536_150_005_ot_003.rois\n",
      "(226, 22663)\n",
      "(959, 1440, 24)\n",
      "0.197916666667\n",
      "loaded retinotopy file\n",
      "/media/mossing/backup_1/data/2P/190102/M10130/retinotopy_001.mat\n",
      "/media/mossing/backup_1/data/2P/190102/M10130/ot/M10130_110_002_ot_000.rois\n",
      "(325, 47209)\n",
      "/media/mossing/backup_1/data/2P/190102/M10130/ot/M10130_110_002_ot_001.rois\n",
      "(373, 47209)\n",
      "roi 349 all zeros\n",
      "/media/mossing/backup_1/data/2P/190102/M10130/ot/M10130_110_002_ot_002.rois\n",
      "(284, 47209)\n",
      "/media/mossing/backup_1/data/2P/190102/M10130/ot/M10130_110_002_ot_003.rois\n",
      "(332, 47209)\n",
      "(1314, 4800, 18)\n",
      "0.621041666667\n"
     ]
    },
    {
     "ename": "ValueError",
     "evalue": "operands could not be broadcast together with shapes (4800,) (2400,) ",
     "output_type": "error",
     "traceback": [
      "\u001b[0;31m---------------------------------------------------------\u001b[0m",
      "\u001b[0;31mValueError\u001b[0m              Traceback (most recent call last)",
      "\u001b[0;32m<ipython-input-18-12cba51e962c>\u001b[0m in \u001b[0;36m<module>\u001b[0;34m()\u001b[0m\n\u001b[1;32m      1\u001b[0m \u001b[0mreload\u001b[0m\u001b[0;34m(\u001b[0m\u001b[0msca\u001b[0m\u001b[0;34m)\u001b[0m\u001b[0;34m\u001b[0m\u001b[0m\n\u001b[0;32m----> 2\u001b[0;31m \u001b[0msoriavg\u001b[0m\u001b[0;34m,\u001b[0m\u001b[0mret_vars\u001b[0m\u001b[0;34m,\u001b[0m\u001b[0mproc\u001b[0m \u001b[0;34m=\u001b[0m \u001b[0msca\u001b[0m\u001b[0;34m.\u001b[0m\u001b[0manalyze_everything_by_criterion\u001b[0m\u001b[0;34m(\u001b[0m\u001b[0mfolds\u001b[0m\u001b[0;34m,\u001b[0m\u001b[0mfiles\u001b[0m\u001b[0;34m,\u001b[0m\u001b[0mrets\u001b[0m\u001b[0;34m,\u001b[0m\u001b[0madjust_fns\u001b[0m\u001b[0;34m,\u001b[0m\u001b[0mrgs\u001b[0m\u001b[0;34m,\u001b[0m\u001b[0mcriteria\u001b[0m\u001b[0;34m=\u001b[0m\u001b[0mcriteria\u001b[0m\u001b[0;34m,\u001b[0m\u001b[0mdatafoldbase\u001b[0m\u001b[0;34m=\u001b[0m\u001b[0mdatafoldbases\u001b[0m\u001b[0;34m,\u001b[0m\u001b[0mstimfoldbase\u001b[0m\u001b[0;34m=\u001b[0m\u001b[0;34m'/home/mossing/modulation/visual_stim/'\u001b[0m\u001b[0;34m,\u001b[0m\u001b[0mcriterion_cutoff\u001b[0m\u001b[0;34m=\u001b[0m\u001b[0;36m0.2\u001b[0m\u001b[0;34m)\u001b[0m\u001b[0;34m\u001b[0m\u001b[0m\n\u001b[0m",
      "\u001b[0;32m~/Documents/code/adesnal/size_contrast_analysis.py\u001b[0m in \u001b[0;36manalyze_everything_by_criterion\u001b[0;34m(folds, files, rets, adjust_fns, rgs, criteria, datafoldbase, stimfoldbase, criterion_cutoff)\u001b[0m\n\u001b[1;32m    418\u001b[0m         \u001b[0;32mfor\u001b[0m \u001b[0mk\u001b[0m \u001b[0;32min\u001b[0m \u001b[0mrange\u001b[0m\u001b[0;34m(\u001b[0m\u001b[0;36m2\u001b[0m\u001b[0;34m)\u001b[0m\u001b[0;34m:\u001b[0m\u001b[0;34m\u001b[0m\u001b[0m\n\u001b[1;32m    419\u001b[0m             \u001b[0;31m#soriavg[thisfold][k],strialavg[thisfold][k],lb[thisfold][k],ub[thisfold][k],pval[thisfold][k],spont[thisfold][k],Smean_stat[thisfold][k],proc[thisfold][k] = analyze_size_contrast(datafiles,stimfile,retfile,frame_adjust=frame_adjust,rg=rg,nbefore=nbefore,nafter=nafter,criterion=thesecriteria[k],criterion_cutoff=criterion_cutoff)\u001b[0m\u001b[0;34m\u001b[0m\u001b[0;34m\u001b[0m\u001b[0m\n\u001b[0;32m--> 420\u001b[0;31m             \u001b[0msoriavg\u001b[0m\u001b[0;34m[\u001b[0m\u001b[0mthisfold\u001b[0m\u001b[0;34m]\u001b[0m\u001b[0;34m[\u001b[0m\u001b[0mk\u001b[0m\u001b[0;34m]\u001b[0m\u001b[0;34m,\u001b[0m\u001b[0m_\u001b[0m\u001b[0;34m,\u001b[0m\u001b[0m_\u001b[0m\u001b[0;34m,\u001b[0m\u001b[0m_\u001b[0m\u001b[0;34m,\u001b[0m\u001b[0m_\u001b[0m\u001b[0;34m,\u001b[0m\u001b[0m_\u001b[0m\u001b[0;34m,\u001b[0m\u001b[0m_\u001b[0m\u001b[0;34m,\u001b[0m\u001b[0mproc\u001b[0m\u001b[0;34m[\u001b[0m\u001b[0mthisfold\u001b[0m\u001b[0;34m]\u001b[0m\u001b[0;34m[\u001b[0m\u001b[0mk\u001b[0m\u001b[0;34m]\u001b[0m \u001b[0;34m=\u001b[0m \u001b[0manalyze_size_contrast\u001b[0m\u001b[0;34m(\u001b[0m\u001b[0mdatafiles\u001b[0m\u001b[0;34m,\u001b[0m\u001b[0mstimfile\u001b[0m\u001b[0;34m,\u001b[0m\u001b[0mretfile\u001b[0m\u001b[0;34m,\u001b[0m\u001b[0mframe_adjust\u001b[0m\u001b[0;34m=\u001b[0m\u001b[0mframe_adjust\u001b[0m\u001b[0;34m,\u001b[0m\u001b[0mrg\u001b[0m\u001b[0;34m=\u001b[0m\u001b[0mrg\u001b[0m\u001b[0;34m,\u001b[0m\u001b[0mnbefore\u001b[0m\u001b[0;34m=\u001b[0m\u001b[0mnbefore\u001b[0m\u001b[0;34m,\u001b[0m\u001b[0mnafter\u001b[0m\u001b[0;34m=\u001b[0m\u001b[0mnafter\u001b[0m\u001b[0;34m,\u001b[0m\u001b[0mcriterion\u001b[0m\u001b[0;34m=\u001b[0m\u001b[0mthesecriteria\u001b[0m\u001b[0;34m[\u001b[0m\u001b[0mk\u001b[0m\u001b[0;34m]\u001b[0m\u001b[0;34m,\u001b[0m\u001b[0mcriterion_cutoff\u001b[0m\u001b[0;34m=\u001b[0m\u001b[0mcriterion_cutoff\u001b[0m\u001b[0;34m)\u001b[0m \u001b[0;31m# changed 2/12/19\u001b[0m\u001b[0;34m\u001b[0m\u001b[0m\n\u001b[0m\u001b[1;32m    421\u001b[0m         \u001b[0mnbydepth\u001b[0m\u001b[0;34m[\u001b[0m\u001b[0mthisfold\u001b[0m\u001b[0;34m]\u001b[0m \u001b[0;34m=\u001b[0m \u001b[0mget_nbydepth\u001b[0m\u001b[0;34m(\u001b[0m\u001b[0mdatafiles\u001b[0m\u001b[0;34m)\u001b[0m\u001b[0;34m\u001b[0m\u001b[0m\n\u001b[1;32m    422\u001b[0m         \u001b[0;32mtry\u001b[0m\u001b[0;34m:\u001b[0m\u001b[0;34m\u001b[0m\u001b[0m\n",
      "\u001b[0;32m~/Documents/code/adesnal/size_contrast_analysis.py\u001b[0m in \u001b[0;36manalyze_size_contrast\u001b[0;34m(datafiles, stimfile, retfile, frame_adjust, rg, nbefore, nafter, criterion, criterion_cutoff)\u001b[0m\n\u001b[1;32m    146\u001b[0m         \u001b[0;32mfor\u001b[0m \u001b[0mj\u001b[0m \u001b[0;32min\u001b[0m \u001b[0mrange\u001b[0m\u001b[0;34m(\u001b[0m\u001b[0mnsize\u001b[0m\u001b[0;34m)\u001b[0m\u001b[0;34m:\u001b[0m\u001b[0;34m\u001b[0m\u001b[0m\n\u001b[1;32m    147\u001b[0m             \u001b[0;32mfor\u001b[0m \u001b[0mk\u001b[0m \u001b[0;32min\u001b[0m \u001b[0mrange\u001b[0m\u001b[0;34m(\u001b[0m\u001b[0mncontrast\u001b[0m\u001b[0;34m)\u001b[0m\u001b[0;34m:\u001b[0m\u001b[0;34m\u001b[0m\u001b[0m\n\u001b[0;32m--> 148\u001b[0;31m                 \u001b[0mlkat\u001b[0m \u001b[0;34m=\u001b[0m \u001b[0mnp\u001b[0m\u001b[0;34m.\u001b[0m\u001b[0mlogical_and\u001b[0m\u001b[0;34m(\u001b[0m\u001b[0mruntrial\u001b[0m\u001b[0;34m,\u001b[0m\u001b[0mnp\u001b[0m\u001b[0;34m.\u001b[0m\u001b[0mlogical_and\u001b[0m\u001b[0;34m(\u001b[0m\u001b[0mangle180\u001b[0m\u001b[0;34m==\u001b[0m\u001b[0muangle180\u001b[0m\u001b[0;34m[\u001b[0m\u001b[0mi\u001b[0m\u001b[0;34m]\u001b[0m\u001b[0;34m,\u001b[0m\u001b[0mnp\u001b[0m\u001b[0;34m.\u001b[0m\u001b[0mlogical_and\u001b[0m\u001b[0;34m(\u001b[0m\u001b[0msize\u001b[0m\u001b[0;34m==\u001b[0m\u001b[0musize\u001b[0m\u001b[0;34m[\u001b[0m\u001b[0mj\u001b[0m\u001b[0;34m]\u001b[0m\u001b[0;34m,\u001b[0m\u001b[0mcontrast\u001b[0m\u001b[0;34m==\u001b[0m\u001b[0mucontrast\u001b[0m\u001b[0;34m[\u001b[0m\u001b[0mk\u001b[0m\u001b[0;34m]\u001b[0m\u001b[0;34m)\u001b[0m\u001b[0;34m)\u001b[0m\u001b[0;34m)\u001b[0m\u001b[0;34m\u001b[0m\u001b[0m\n\u001b[0m\u001b[1;32m    149\u001b[0m                 \u001b[0mSmean\u001b[0m\u001b[0;34m[\u001b[0m\u001b[0;34m:\u001b[0m\u001b[0;34m,\u001b[0m\u001b[0mi\u001b[0m\u001b[0;34m,\u001b[0m\u001b[0mj\u001b[0m\u001b[0;34m,\u001b[0m\u001b[0mk\u001b[0m\u001b[0;34m,\u001b[0m\u001b[0;34m:\u001b[0m\u001b[0;34m]\u001b[0m \u001b[0;34m=\u001b[0m \u001b[0mnp\u001b[0m\u001b[0;34m.\u001b[0m\u001b[0mnanmean\u001b[0m\u001b[0;34m(\u001b[0m\u001b[0mdata\u001b[0m\u001b[0;34m[\u001b[0m\u001b[0;34m:\u001b[0m\u001b[0;34m,\u001b[0m\u001b[0mlkat\u001b[0m\u001b[0;34m,\u001b[0m\u001b[0;34m:\u001b[0m\u001b[0;34m]\u001b[0m\u001b[0;34m,\u001b[0m\u001b[0;36m1\u001b[0m\u001b[0;34m)\u001b[0m\u001b[0;34m\u001b[0m\u001b[0m\n\u001b[1;32m    150\u001b[0m                 \u001b[0mFmean\u001b[0m\u001b[0;34m[\u001b[0m\u001b[0;34m:\u001b[0m\u001b[0;34m,\u001b[0m\u001b[0mi\u001b[0m\u001b[0;34m,\u001b[0m\u001b[0mj\u001b[0m\u001b[0;34m,\u001b[0m\u001b[0mk\u001b[0m\u001b[0;34m,\u001b[0m\u001b[0;34m:\u001b[0m\u001b[0;34m]\u001b[0m \u001b[0;34m=\u001b[0m \u001b[0mnp\u001b[0m\u001b[0;34m.\u001b[0m\u001b[0mnanmean\u001b[0m\u001b[0;34m(\u001b[0m\u001b[0mdata_dfof\u001b[0m\u001b[0;34m[\u001b[0m\u001b[0;34m:\u001b[0m\u001b[0;34m,\u001b[0m\u001b[0mlkat\u001b[0m\u001b[0;34m,\u001b[0m\u001b[0;34m:\u001b[0m\u001b[0;34m]\u001b[0m\u001b[0;34m,\u001b[0m\u001b[0;36m1\u001b[0m\u001b[0;34m)\u001b[0m\u001b[0;34m\u001b[0m\u001b[0m\n",
      "\u001b[0;31mValueError\u001b[0m: operands could not be broadcast together with shapes (4800,) (2400,) "
     ]
    }
   ],
   "source": [
    "reload(sca)\n",
    "soriavg,ret_vars,proc = sca.analyze_everything_by_criterion(folds,files,rets,adjust_fns,rgs,criteria=criteria,datafoldbase=datafoldbases,stimfoldbase='/home/mossing/modulation/visual_stim/',criterion_cutoff=0.2)"
   ]
  },
  {
   "cell_type": "code",
   "execution_count": 19,
   "metadata": {},
   "outputs": [
    {
     "name": "stdout",
     "output_type": "stream",
     "text": [
      "> /home/mossing/Documents/code/adesnal/size_contrast_analysis.py(148)analyze_size_contrast()\n",
      "-> lkat = np.logical_and(runtrial,np.logical_and(angle180==uangle180[i],np.logical_and(size==usize[j],contrast==ucontrast[k])))\n",
      "(Pdb) angle180.shape\n",
      "(2400,)\n",
      "(Pdb) size.shape\n",
      "(2400,)\n",
      "(Pdb) contrast.shape\n",
      "(2400,)\n",
      "(Pdb) runtrial.shape\n",
      "(4800,)\n",
      "(Pdb) u\n",
      "> /home/mossing/Documents/code/adesnal/size_contrast_analysis.py(420)analyze_everything_by_criterion()\n",
      "-> soriavg[thisfold][k],_,_,_,_,_,_,proc[thisfold][k] = analyze_size_contrast(datafiles,stimfile,retfile,frame_adjust=frame_adjust,rg=rg,nbefore=nbefore,nafter=nafter,criterion=thesecriteria[k],criterion_cutoff=criterion_cutoff) # changed 2/12/19\n",
      "(Pdb) datafiles\n",
      "['/media/mossing/backup_1/data/2P/190102/M10130/ot/M10130_110_002_ot_000.rois', '/media/mossing/backup_1/data/2P/190102/M10130/ot/M10130_110_002_ot_001.rois', '/media/mossing/backup_1/data/2P/190102/M10130/ot/M10130_110_002_ot_002.rois', '/media/mossing/backup_1/data/2P/190102/M10130/ot/M10130_110_002_ot_003.rois']\n",
      "(Pdb) exiexit\n",
      "*** NameError: name 'exiexit' is not defined\n",
      "(Pdb) exit\n"
     ]
    }
   ],
   "source": [
    "pdb.pm()"
   ]
  },
  {
   "cell_type": "code",
   "execution_count": null,
   "metadata": {
    "collapsed": true
   },
   "outputs": [],
   "source": [
    "reload(sca)\n",
    "keylist = list(soriavg.keys())\n",
    "data_struct = sca.gen_data_struct(cell_type='Pyr_L23',keylist=keylist, proc=proc, ret_vars=ret_vars)"
   ]
  },
  {
   "cell_type": "code",
   "execution_count": 53,
   "metadata": {
    "collapsed": true
   },
   "outputs": [],
   "source": [
    "sio.savemat('pyr_l23_data_struct.mat',data_struct)"
   ]
  }
 ],
 "metadata": {
  "kernelspec": {
   "display_name": "Python 3",
   "language": "python",
   "name": "python3"
  },
  "language_info": {
   "codemirror_mode": {
    "name": "ipython",
    "version": 3
   },
   "file_extension": ".py",
   "mimetype": "text/x-python",
   "name": "python",
   "nbconvert_exporter": "python",
   "pygments_lexer": "ipython3",
   "version": "3.6.3"
  }
 },
 "nbformat": 4,
 "nbformat_minor": 2
}
