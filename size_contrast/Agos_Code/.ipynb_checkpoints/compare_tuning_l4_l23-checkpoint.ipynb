{
 "cells": [
  {
   "cell_type": "code",
   "execution_count": 26,
   "metadata": {},
   "outputs": [
    {
     "data": {
      "text/html": [
       "<style>.container { width:90% !important; }</style>"
      ],
      "text/plain": [
       "<IPython.core.display.HTML object>"
      ]
     },
     "metadata": {},
     "output_type": "display_data"
    }
   ],
   "source": [
    "\n",
    "import warnings\n",
    "warnings.filterwarnings('ignore')\n",
    "\n",
    "##################################\n",
    "#The notebook needed\n",
    "%matplotlib inline \n",
    "from IPython.core.display import display, HTML\n",
    "display(HTML(\"<style>.container { width:90% !important; }</style>\"))\n",
    "OutputDir='./Output'\n",
    "import pickle\n",
    "import spatial_plots_Agos as spa\n",
    "import matplotlib.pyplot as plt\n",
    "import numpy as np\n",
    "from importlib import reload\n",
    "\n",
    "##################################\n",
    "# General\n",
    "import itertools\n",
    "import numpy as np\n",
    "from scipy.special import erf\n",
    "from scipy import optimize\n",
    "import math\n",
    "import random\n",
    "import scipy as sp\n",
    "from tqdm import tqdm\n",
    "from scipy.stats import norm\n",
    "\n",
    "from scipy import optimize\n",
    "\n",
    "\n",
    "#######################################\n",
    "# Colormaps\n",
    "import matplotlib.colors as mc\n",
    "import matplotlib._color_data as mcd\n",
    "import colorsys\n",
    "import matplotlib.colors as mcolors\n",
    "import matplotlib\n",
    "\n",
    "\n",
    "\n",
    "def lighten_color(color, amount=0.5):\n",
    "    try:\n",
    "        c = mc.cnames[color]\n",
    "    except:\n",
    "        try:\n",
    "            c= mcd.XKCD_COLORS[color].upper()\n",
    "        except:\n",
    "            c = color\n",
    "    c = colorsys.rgb_to_hls(*mc.to_rgb(c))\n",
    "    return colorsys.hls_to_rgb(c[0], 1 - amount * (1 - c[1]), c[2])\n",
    "\n",
    "\n",
    "\n",
    "\n",
    "\n",
    "# import numpy as np\n",
    "# import matplotlib.pyplot as plt\n",
    "# import h5py\n",
    "# import pyute as ut\n",
    "# import sklearn.discriminant_analysis as skd\n",
    "# import size_contrast_analysis as sca\n",
    "# import matplotlib.pyplot as plt\n",
    "# from mpl_toolkits.mplot3d import Axes3D\n",
    "# %matplotlib notebook\n",
    "\n",
    "\n"
   ]
  },
  {
   "cell_type": "code",
   "execution_count": 53,
   "metadata": {},
   "outputs": [],
   "source": [
    "def compute_tuning(dsfile):\n",
    "    with h5py.File(dsfile,mode='r') as f:\n",
    "        keylist = [key for key in f.keys()]\n",
    "        tuning = [None]*len(keylist)\n",
    "        uparam = [None]*len(keylist)\n",
    "        displacement = [None]*len(keylist)\n",
    "        for ikey in range(len(keylist)):\n",
    "#             try:\n",
    "            session = f[keylist[ikey]]\n",
    "            print(session)\n",
    "            print([key for key in session.keys()])\n",
    "            if 'size_contrast_0' in session:\n",
    "                sc0 = session['size_contrast_0']\n",
    "                data = sc0['decon'][:]\n",
    "                stim_id = sc0['stimulus_id'][:]\n",
    "                nbefore = sc0['nbefore'][()]\n",
    "                nafter = sc0['nafter'][()]\n",
    "                trialrun = sc0['running_speed_cm_s'][:,nbefore:-nafter].mean(-1)<10 #\n",
    "                print(sc0['running_speed_cm_s'].shape)\n",
    "                print(np.nanmean(trialrun))\n",
    "                if np.nanmean(trialrun)<0.1:\n",
    "                    tuning[ikey] = ut.compute_tuning(data,stim_id,trial_criteria=trialrun)[:]\n",
    "                for param in sc0['stimulus_parameters']:\n",
    "                    uparam[ikey] = sc0[param][:]\n",
    "                if 'rf_displacement_deg' in sc0:\n",
    "                    displacement[ikey] = sc0['rf_displacement_deg'][:]\n",
    "                elif 'rf_ctr' in sc0:\n",
    "                    displacement[ikey] = sc0['rf_ctr'][:]\n",
    "#             except:\n",
    "#                 print('could not do '+keylist[ikey])\n",
    "    return tuning,uparam,displacement"
   ]
  },
  {
   "cell_type": "code",
   "execution_count": 54,
   "metadata": {},
   "outputs": [
    {
     "name": "stdout",
     "output_type": "stream",
     "text": [
      "<HDF5 group \"/session_181127_M10073\" (8 members)>\n",
      "['cell_center', 'cell_depth', 'cell_id', 'cell_mask', 'cell_type', 'mouse_id', 'retinotopy_0', 'size_contrast_0']\n",
      "(1400, 31)\n",
      "0.8257142857142857\n",
      "<HDF5 group \"/session_190202_M10075\" (9 members)>\n",
      "['cell_center', 'cell_depth', 'cell_id', 'cell_mask', 'cell_type', 'figure_ground_0', 'mouse_id', 'retinotopy_0', 'size_contrast_0']\n",
      "(1440, 47)\n",
      "0.6034722222222222\n",
      "<HDF5 group \"/session_190304_M10077\" (9 members)>\n",
      "['cell_center', 'cell_depth', 'cell_id', 'cell_mask', 'cell_type', 'figure_ground_0', 'mouse_id', 'retinotopy_0', 'size_contrast_0']\n",
      "(1440, 47)\n",
      "0.5597222222222222\n",
      "<HDF5 group \"/session_190607_M10443\" (9 members)>\n",
      "['cell_center', 'cell_depth', 'cell_id', 'cell_mask', 'cell_type', 'figure_ground_0', 'mouse_id', 'retinotopy_0', 'size_contrast_0']\n",
      "(1440, 47)\n",
      "0.14097222222222222\n",
      "<HDF5 group \"/session_190620_M10616\" (9 members)>\n",
      "['cell_center', 'cell_depth', 'cell_id', 'cell_mask', 'cell_type', 'figure_ground_0', 'mouse_id', 'retinotopy_0', 'size_contrast_0']\n",
      "(2016, 47)\n",
      "0.5431547619047619\n",
      "<HDF5 group \"/session_190620_M10619\" (9 members)>\n",
      "['cell_center', 'cell_depth', 'cell_id', 'cell_mask', 'cell_type', 'figure_ground_0', 'mouse_id', 'retinotopy_0', 'size_contrast_0']\n",
      "(2016, 47)\n",
      "0.6006944444444444\n",
      "<HDF5 group \"/session_190624_M10615\" (8 members)>\n",
      "['cell_center', 'cell_depth', 'cell_id', 'cell_mask', 'cell_type', 'mouse_id', 'retinotopy_0', 'size_contrast_0']\n",
      "(2016, 47)\n",
      "0.08234126984126984\n",
      "<HDF5 group \"/session_190627_M10616\" (9 members)>\n",
      "['cell_center', 'cell_depth', 'cell_id', 'cell_mask', 'cell_type', 'figure_ground_0', 'mouse_id', 'retinotopy_0', 'size_contrast_0']\n",
      "(2016, 47)\n",
      "0.7876984126984127\n",
      "<HDF5 group \"/session_190701_M10615\" (8 members)>\n",
      "['cell_center', 'cell_depth', 'cell_id', 'cell_mask', 'cell_type', 'mouse_id', 'retinotopy_0', 'size_contrast_0']\n",
      "(2016, 47)\n",
      "0.6691468253968254\n",
      "<HDF5 group \"/session_191212_M0762\" (8 members)>\n",
      "['cell_center', 'cell_depth', 'cell_id', 'cell_mask', 'cell_type', 'mouse_id', 'retinotopy_0', 'size_contrast_0']\n",
      "(2016, 47)\n",
      "0.8219246031746031\n",
      "<HDF5 group \"/session_181205_M10130\" (8 members)>\n",
      "['cell_center', 'cell_depth', 'cell_id', 'cell_mask', 'cell_type', 'mouse_id', 'retinotopy_0', 'size_contrast_0']\n",
      "(1400, 31)\n",
      "0.7321428571428571\n",
      "<HDF5 group \"/session_181209_M8536\" (9 members)>\n",
      "['cell_center', 'cell_depth', 'cell_id', 'cell_mask', 'cell_type', 'figure_ground_0', 'mouse_id', 'retinotopy_0', 'size_contrast_0']\n",
      "(1400, 31)\n",
      "0.8307142857142857\n",
      "<HDF5 group \"/session_181213_M8536\" (8 members)>\n",
      "['cell_center', 'cell_depth', 'cell_id', 'cell_mask', 'cell_type', 'mouse_id', 'retinotopy_0', 'size_contrast_0']\n",
      "(1400, 47)\n",
      "0.03857142857142857\n",
      "<HDF5 group \"/session_181214_M10130\" (8 members)>\n",
      "['cell_center', 'cell_depth', 'cell_id', 'cell_mask', 'cell_type', 'mouse_id', 'retinotopy_0', 'size_contrast_0']\n",
      "(1400, 47)\n",
      "0.4142857142857143\n",
      "<HDF5 group \"/session_190102_M10130\" (8 members)>\n",
      "['cell_center', 'cell_depth', 'cell_id', 'cell_mask', 'cell_type', 'mouse_id', 'retinotopy_0', 'size_contrast_0']\n",
      "(2400, 47)\n",
      "0.44916666666666666\n",
      "<HDF5 group \"/session_190128_M8982\" (9 members)>\n",
      "['cell_center', 'cell_depth', 'cell_id', 'cell_mask', 'cell_type', 'figure_ground_0', 'mouse_id', 'retinotopy_0', 'size_contrast_0']\n",
      "(1440, 47)\n",
      "0.9472222222222222\n",
      "<HDF5 group \"/session_190130_M9667\" (9 members)>\n",
      "['cell_center', 'cell_depth', 'cell_id', 'cell_mask', 'cell_type', 'figure_ground_0', 'mouse_id', 'retinotopy_0', 'size_contrast_0']\n",
      "(1440, 47)\n",
      "0.19027777777777777\n",
      "<HDF5 group \"/session_190131_M9355\" (9 members)>\n",
      "['cell_center', 'cell_depth', 'cell_id', 'cell_mask', 'cell_type', 'figure_ground_0', 'mouse_id', 'retinotopy_0', 'size_contrast_0']\n",
      "(1440, 47)\n",
      "0.9340277777777778\n",
      "<HDF5 group \"/session_190208_M9355\" (9 members)>\n",
      "['cell_center', 'cell_depth', 'cell_id', 'cell_mask', 'cell_type', 'figure_ground_0', 'mouse_id', 'retinotopy_0', 'size_contrast_0']\n",
      "(1440, 47)\n",
      "0.9506944444444444\n",
      "<HDF5 group \"/session_190212_M8536\" (9 members)>\n",
      "['cell_center', 'cell_depth', 'cell_id', 'cell_mask', 'cell_type', 'figure_ground_0', 'mouse_id', 'retinotopy_0', 'size_contrast_0']\n",
      "(1440, 47)\n",
      "0.2465277777777778\n",
      "<HDF5 group \"/session_191002_M0293\" (8 members)>\n",
      "['cell_center', 'cell_depth', 'cell_id', 'cell_mask', 'cell_type', 'mouse_id', 'retinotopy_0', 'size_contrast_0']\n",
      "(2016, 47)\n",
      "0.8462301587301587\n",
      "<HDF5 group \"/session_191108_M0403\" (8 members)>\n",
      "['cell_center', 'cell_depth', 'cell_id', 'cell_mask', 'cell_type', 'mouse_id', 'retinotopy_0', 'size_contrast_0']\n",
      "(2016, 47)\n",
      "0.9970238095238095\n"
     ]
    }
   ],
   "source": [
    "ds_l4 = '/Users/agos/Dropbox/ColumbiaProjects/Data_NewDanFitting/Data/RawData/DataLatest/pyr_l4_data_struct.hdf5'\n",
    "ds_l23 = '/Users/agos/Dropbox/ColumbiaProjects/Data_NewDanFitting/Data/RawData/DataLatest/pyr_l23_data_struct.hdf5'\n",
    "\n",
    "\n",
    "tuning_l4,uparam_l4,displacement_l4 = compute_tuning(ds_l4)\n",
    "tuning_l23,uparam_l23_l23,displacement_l23 = compute_tuning(ds_l23)"
   ]
  },
  {
   "cell_type": "code",
   "execution_count": 58,
   "metadata": {},
   "outputs": [],
   "source": [
    "\n",
    "usize=np.array([ 5,  8, 13, 22, 36, 60])"
   ]
  },
  {
   "cell_type": "code",
   "execution_count": 63,
   "metadata": {},
   "outputs": [],
   "source": [
    "\n",
    "def plot_SMI(tunings):\n",
    "    for k in range(1,len(tunings)):\n",
    "        try:\n",
    "            this_sess_tuning = tunings[k]\n",
    "            data = np.nanmean(np.nanmean(this_sess_tuning[:,:6,[0,-5,-4,-3,-2,-1],:,8:-8],-1),-1)\n",
    "            data=data/np.nanmean(data)\n",
    "            evoked_60=(data[:,-1,:]-ml.repmat(data[:,0,0],6,1).T)\n",
    "            evoked_max=(np.max(data[:,:,:],1)-ml.repmat(data[:,0,0],6,1).T)\n",
    "            #plt.plot(this_data_class.usize,np.nanmean(data[:,:,-1],0))\n",
    "            #plt.plot(this_data_class.ucontrast,np.nanmean(evoked_60/evoked_max,0))\n",
    "            plt.plot(np.nanmean(evoked_60,0)/np.nanmean(evoked_max,0))\n",
    "        except:\n",
    "            pass\n",
    "plot_SMI(tuning_l4)"
   ]
  },
  {
   "cell_type": "code",
   "execution_count": 57,
   "metadata": {},
   "outputs": [
    {
     "name": "stdout",
     "output_type": "stream",
     "text": [
      "None\n",
      "None\n",
      "None\n",
      "None\n",
      "None\n",
      "None\n",
      "(1664, 6, 6)\n",
      "None\n",
      "None\n",
      "None\n"
     ]
    },
    {
     "data": {
      "image/png": "[encoded data removed]",
      "text/plain": [
       "<Figure size 432x288 with 1 Axes>"
      ]
     },
     "metadata": {
      "needs_background": "light"
     },
     "output_type": "display_data"
    }
   ],
   "source": [
    "\n",
    "for k in range(len(tunings)):\n",
    "    this_sess_tuning = tunings[k]\n",
    "    \n",
    "    try:\n",
    "        data = np.nanmean(np.nanmean(this_sess_tuning[:,:6,[0,-5,-4,-3,-2,-1],:,8:-8],-1),-1)\n",
    "        data=data/np.nanmean(data)\n",
    "        print(data.shape)\n",
    "    #     evoked_60=(data[:,-1,:]-ml.repmat(data[:,0,0],6,1).T)\n",
    "    #     evoked_max=(np.max(data[:,:,:],1)-ml.repmat(data[:,0,0],6,1).T)\n",
    "        plt.plot(np.nanmean(data[:,-1,:],0),color='gray')\n",
    "        plt.plot(np.nanmean(data[:,-1,:],0))\n",
    "    #     plt.plot(this_data_class.ucontrast,np.nanmean(evoked_60/evoked_max,0))\n",
    "        #plt.plot(np.nanmean(evoked_60,0)/np.nanmean(evoked_max,0))\n",
    "    except:\n",
    "        print(this_sess_tuning)\n",
    "        pass"
   ]
  },
  {
   "cell_type": "code",
   "execution_count": null,
   "metadata": {},
   "outputs": [],
   "source": [
    "l4_data = []\n",
    "for k in range(len(info_l4[0])):\n",
    "    tuning = info_l4[0][k]\n",
    "    displacement = info_l4[2][k]\n",
    "    if not tuning is None and not displacement is None:\n",
    "        lkat = (displacement**2).sum(0)<5**2\n",
    "        plt.figure()\n",
    "        data = np.nanmean(np.nanmean(tuning[lkat][:,:5,[0,-5,-4,-3,-2,-1],:,8:-8],-1),-1)\n",
    "        not_data = np.nanmean(np.nanmean(tuning[~lkat][:,:5,[0,-5,-4,-3,-2,-1],:,8:-8],-1),-1)\n",
    "        plt.subplot(1,2,1)\n",
    "        plt.imshow(np.nanmean(data,0))\n",
    "        plt.subplot(1,2,2)\n",
    "        plt.imshow(np.nanmean(not_data,0))\n",
    "        l4_data.append(data)"
   ]
  },
  {
   "cell_type": "code",
   "execution_count": null,
   "metadata": {},
   "outputs": [],
   "source": [
    "l23_data = []\n",
    "for k in range(len(info_l23[0])):\n",
    "    tuning = info_l23[0][k]\n",
    "    displacement = info_l23[2][k]\n",
    "    if not tuning is None and not displacement is None:\n",
    "        lkat = (displacement**2).sum(0)<5**2\n",
    "        try:\n",
    "            plt.figure()\n",
    "            \n",
    "            data = np.nanmean(np.nanmean(tuning[lkat][:,:5,[0,-5,-4,-3,-2,-1],:,8:-8],-1),-1)\n",
    "            not_data = np.nanmean(np.nanmean(tuning[~lkat][:,:5,[0,-5,-4,-3,-2,-1],:,8:-8],-1),-1)\n",
    "            plt.subplot(1,2,1)\n",
    "            plt.imshow(np.nanmean(data,0))\n",
    "            plt.subplot(1,2,2)\n",
    "            plt.imshow(np.nanmean(not_data,0))\n",
    "            l23_data.append(data)\n",
    "        except:\n",
    "            print('whoops')\n",
    "        "
   ]
  },
  {
   "cell_type": "code",
   "execution_count": null,
   "metadata": {},
   "outputs": [],
   "source": []
  },
  {
   "cell_type": "code",
   "execution_count": null,
   "metadata": {},
   "outputs": [],
   "source": [
    "def average_up(arr):\n",
    "    return np.nanmean(np.nanmean(arr[:,:,:,:,8:-8],-1),-1) #.reshape((arr.shape[0],-1))"
   ]
  },
  {
   "cell_type": "code",
   "execution_count": null,
   "metadata": {},
   "outputs": [],
   "source": [
    "rl23 = np.concatenate(l23_data,axis=0)"
   ]
  },
  {
   "cell_type": "code",
   "execution_count": null,
   "metadata": {},
   "outputs": [],
   "source": [
    "rl4 = np.concatenate(l4_data,axis=0)"
   ]
  },
  {
   "cell_type": "code",
   "execution_count": null,
   "metadata": {},
   "outputs": [],
   "source": [
    "plt.figure()\n",
    "plt.subplot(1,2,1)\n",
    "plt.imshow(rl4.mean(0))\n",
    "plt.subplot(1,2,2)\n",
    "plt.imshow(rl23.mean(0))"
   ]
  },
  {
   "cell_type": "code",
   "execution_count": null,
   "metadata": {},
   "outputs": [],
   "source": [
    "R = np.concatenate((rl4,rl23),axis=0).reshape((-1,30))\n",
    "R = R/np.sqrt((R**2).sum(1)[:,np.newaxis])"
   ]
  },
  {
   "cell_type": "code",
   "execution_count": null,
   "metadata": {},
   "outputs": [],
   "source": [
    "u,s,v = np.linalg.svd(R)"
   ]
  },
  {
   "cell_type": "code",
   "execution_count": null,
   "metadata": {},
   "outputs": [],
   "source": [
    "plt.figure()\n",
    "for i in range(30):\n",
    "    plt.subplot(3,10,i+1)\n",
    "    plt.imshow(v[i].reshape((5,6)))\n",
    "    plt.axis('off')"
   ]
  },
  {
   "cell_type": "code",
   "execution_count": null,
   "metadata": {},
   "outputs": [],
   "source": [
    "which = np.zeros(u.shape[0])\n",
    "which[rl4.shape[0]:] = 1\n",
    "n_ev = 8\n",
    "lda = skd.LinearDiscriminantAnalysis(solver='eigen',shrinkage='auto').fit(u[:,:n_ev],which)"
   ]
  },
  {
   "cell_type": "code",
   "execution_count": null,
   "metadata": {},
   "outputs": [],
   "source": [
    "plt.figure(figsize=(10,4))\n",
    "for j in range(30):\n",
    "    bins = np.linspace(u[:,j].min(),u[:,j].max(),25)\n",
    "    plt.subplot(6,5,j+1)\n",
    "    plt.hist(u[:rl4.shape[0],j],bins=bins,alpha=0.5)\n",
    "    plt.hist(u[rl4.shape[0]:,j],bins=bins,alpha=0.5)\n",
    "    plt.axis('off')"
   ]
  },
  {
   "cell_type": "code",
   "execution_count": null,
   "metadata": {},
   "outputs": [],
   "source": [
    "plt.figure()\n",
    "plt.hist(u[which==0,:n_ev] @ lda.coef_.T,bins=50,alpha=0.5,label='L4')\n",
    "plt.hist(u[which==1,:n_ev] @ lda.coef_.T,bins=50,alpha=0.5,label='L2/3')\n",
    "plt.legend()\n",
    "plt.xlabel('projection on LDA axis')\n",
    "plt.ylabel('number of cells')\n",
    "plt.savefig('figures/l4_l23_lda_histogram.pdf')"
   ]
  },
  {
   "cell_type": "code",
   "execution_count": null,
   "metadata": {},
   "outputs": [],
   "source": [
    "fig = plt.figure()\n",
    "ax = fig.add_subplot(111,projection='3d')\n",
    "for ilayer in (0,1):\n",
    "    ax.scatter(u[which==ilayer,:n_ev] @ lda.coef_.T,*[u[which==ilayer,x] for x in (0,1)],alpha=0.25)\n",
    "plt.xlabel('LDA axis')\n"
   ]
  },
  {
   "cell_type": "code",
   "execution_count": null,
   "metadata": {},
   "outputs": [],
   "source": [
    "plt.figure()\n",
    "sca.show_size_contrast((lda.coef_ @ v[:n_ev]).reshape((5,6)))\n",
    "plt.title('LDA axis')\n",
    "plt.savefig('figures/l4_l23_lda.pdf')\n",
    "# plt.colorbar()"
   ]
  },
  {
   "cell_type": "code",
   "execution_count": null,
   "metadata": {},
   "outputs": [],
   "source": [
    "plt.figure()\n",
    "plt.subplot(1,2,1)\n",
    "sca.show_size_contrast(rl4.mean(0))\n",
    "plt.title('L4')\n",
    "plt.subplot(1,2,2)\n",
    "sca.show_size_contrast(rl23.mean(0))\n",
    "plt.title('L2/3')\n",
    "plt.tight_layout()\n",
    "plt.savefig('figures/l4_l23_ontarget.pdf')"
   ]
  },
  {
   "cell_type": "code",
   "execution_count": null,
   "metadata": {},
   "outputs": [],
   "source": [
    "integrative = (u[:,:n_ev] @ lda.coef_.T)[:,0] > 2e-4"
   ]
  },
  {
   "cell_type": "code",
   "execution_count": null,
   "metadata": {},
   "outputs": [],
   "source": [
    "integrative.sum()"
   ]
  },
  {
   "cell_type": "code",
   "execution_count": null,
   "metadata": {},
   "outputs": [],
   "source": [
    "ut.imshow_in_rows(rl4[integrative[:rl4.shape[0]]].reshape((-1,5,6)))\n",
    "plt.savefig('figures/l4_in_l23_range.pdf')"
   ]
  },
  {
   "cell_type": "code",
   "execution_count": null,
   "metadata": {},
   "outputs": [],
   "source": [
    "ut.imshow_in_rows(rl23[integrative[rl4.shape[0]:]].reshape((-1,5,6)))\n",
    "plt.savefig('figures/l23_in_l23_range.pdf')"
   ]
  },
  {
   "cell_type": "code",
   "execution_count": null,
   "metadata": {},
   "outputs": [],
   "source": [
    "ut.imshow_in_rows(rl23[~integrative[rl4.shape[0]:]].reshape((-1,5,6)))"
   ]
  },
  {
   "cell_type": "code",
   "execution_count": null,
   "metadata": {},
   "outputs": [],
   "source": [
    "ut.imshow_in_rows(rl4[~integrative[:rl4.shape[0]]].reshape((-1,5,6)))"
   ]
  },
  {
   "cell_type": "code",
   "execution_count": null,
   "metadata": {},
   "outputs": [],
   "source": []
  }
 ],
 "metadata": {
  "kernelspec": {
   "display_name": "Python 3",
   "language": "python",
   "name": "python3"
  },
  "language_info": {
   "codemirror_mode": {
    "name": "ipython",
    "version": 3
   },
   "file_extension": ".py",
   "mimetype": "text/x-python",
   "name": "python",
   "nbconvert_exporter": "python",
   "pygments_lexer": "ipython3",
   "version": "3.6.13"
  }
 },
 "nbformat": 4,
 "nbformat_minor": 4
}
