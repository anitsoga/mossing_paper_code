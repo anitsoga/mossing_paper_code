{
 "cells": [
  {
   "cell_type": "code",
   "execution_count": 1,
   "metadata": {},
   "outputs": [],
   "source": [
    "\n",
    "import sys\n",
    "sys.path\n",
    "sys.path.append('/Users/agos/Dropbox/ColumbiaProjects/Dans_Data_Package/analysis_dan')\n",
    "sys.path.append('/Users/agos/Dropbox/ColumbiaProjects/Dans_Data_Package/OASIS-master')\n",
    "\n",
    "import warnings\n",
    "warnings.filterwarnings('ignore')\n",
    "\n",
    "\n",
    "import pickle\n",
    "import numpy as np\n",
    "import matplotlib.pyplot as plt\n",
    "import h5py\n",
    "import pyute as ut\n",
    "import sklearn.discriminant_analysis as skd\n",
    "import size_contrast_analysis as sca\n",
    "import matplotlib.pyplot as plt\n",
    "# from mpl_toolkits.mplot3d import Axes3D\n",
    "\n",
    "\n",
    "\n"
   ]
  },
  {
   "cell_type": "code",
   "execution_count": 2,
   "metadata": {},
   "outputs": [],
   "source": [
    "    def compute_tuning(dsfile):\n",
    "        with h5py.File(dsfile,mode='r') as f:\n",
    "            keylist = [key for key in f.keys()]\n",
    "            tuning = [None]*len(keylist)\n",
    "            uparam = [None]*len(keylist)\n",
    "            displacement = [None]*len(keylist)\n",
    "            for ikey in range(len(keylist)):\n",
    "#             try:\n",
    "                session = f[keylist[ikey]]\n",
    "                print(session)\n",
    "                print([key for key in session.keys()])\n",
    "                if 'size_contrast_0' in session:\n",
    "                    sc0 = session['size_contrast_0']\n",
    "                    data = sc0['decon'][:]\n",
    "                    stim_id = sc0['stimulus_id'][:]\n",
    "                    nbefore = sc0['nbefore'][()]\n",
    "                    nafter = sc0['nafter'][()]\n",
    "                    trialrun = sc0['running_speed_cm_s'][:,nbefore:-nafter].mean(-1)>10 #\n",
    "                    print(sc0['running_speed_cm_s'].shape)\n",
    "                    print(np.nanmean(trialrun))\n",
    "                    if np.nanmean(trialrun)>0.4:\n",
    "                        tuning[ikey] = ut.compute_tuning(data,stim_id,trial_criteria=trialrun)[:]\n",
    "                    for param in sc0['stimulus_parameters']:\n",
    "                        uparam[ikey] = sc0[param][:]\n",
    "                    if 'rf_displacement_deg' in sc0:\n",
    "                        displacement[ikey] = sc0['rf_displacement_deg'][:]\n",
    "                    elif 'rf_ctr' in sc0:\n",
    "                        displacement[ikey] = sc0['rf_ctr'][:]\n",
    "    #             except:\n",
    "    #                 print('could not do '+keylist[ikey])\n",
    "        return tuning,uparam,displacement"
   ]
  },
  {
   "cell_type": "code",
   "execution_count": 3,
   "metadata": {},
   "outputs": [],
   "source": [
    "ds_l4 = '/Users/agos/Dropbox/ColumbiaProjects/Data_NewDanFitting/Data/RawData/DataLatest/Lists_from_raw--expttype=size_contrast_0-datafield=decon-running_pct_cutoff=0.1-running_speed_threshold=10-pyr_l4.pkl'\n",
    "ds_l23 = '/Users/agos/Dropbox/ColumbiaProjects/Data_NewDanFitting/Data/RawData/DataLatest/Lists_from_raw--expttype=size_contrast_0-datafield=decon-running_pct_cutoff=0.1-running_speed_threshold=10-pyr_l23.pkl'\n",
    "\n",
    "\n",
    "with open(ds_l4, 'rb') as handle_loadModel:\n",
    "    raw_l4=pickle.load(handle_loadModel)\n",
    "    \n",
    "with open(ds_l23, 'rb') as handle_loadModel:\n",
    "    raw_l23=pickle.load(handle_loadModel)"
   ]
  },
  {
   "cell_type": "code",
   "execution_count": 14,
   "metadata": {},
   "outputs": [
    {
     "data": {
      "text/plain": [
       "dict_keys(['cell_type', 'usize', 'ucontrast', 'tunings_decon', 'uparams_decon', 'displacements', 'pvals', 'ret_info'])"
      ]
     },
     "execution_count": 14,
     "metadata": {},
     "output_type": "execute_result"
    }
   ],
   "source": [
    "raw_l4.keys()"
   ]
  },
  {
   "cell_type": "code",
   "execution_count": 16,
   "metadata": {},
   "outputs": [],
   "source": [
    "tunings=raw_l4['tunings_decon'][0][0]"
   ]
  },
  {
   "cell_type": "code",
   "execution_count": 17,
   "metadata": {},
   "outputs": [
    {
     "data": {
      "image/png": "[encoded data removed]",
      "text/plain": [
       "<Figure size 432x288 with 1 Axes>"
      ]
     },
     "metadata": {
      "needs_background": "light"
     },
     "output_type": "display_data"
    }
   ],
   "source": [
    "plt.plot(tunings[4][:,0,0,0,:]);"
   ]
  },
  {
   "cell_type": "code",
   "execution_count": 5,
   "metadata": {},
   "outputs": [
    {
     "ename": "NameError",
     "evalue": "name 'info_l4' is not defined",
     "output_type": "error",
     "traceback": [
      "\u001b[0;31m---------------------------------------------------------------------------\u001b[0m",
      "\u001b[0;31mNameError\u001b[0m                                 Traceback (most recent call last)",
      "\u001b[0;32m<ipython-input-5-80bec01880ef>\u001b[0m in \u001b[0;36m<module>\u001b[0;34m\u001b[0m\n\u001b[0;32m----> 1\u001b[0;31m \u001b[0;32mfor\u001b[0m \u001b[0mk\u001b[0m \u001b[0;32min\u001b[0m \u001b[0mrange\u001b[0m\u001b[0;34m(\u001b[0m\u001b[0mlen\u001b[0m\u001b[0;34m(\u001b[0m\u001b[0minfo_l4\u001b[0m\u001b[0;34m[\u001b[0m\u001b[0;36m0\u001b[0m\u001b[0;34m]\u001b[0m\u001b[0;34m)\u001b[0m\u001b[0;34m)\u001b[0m\u001b[0;34m:\u001b[0m\u001b[0;34m\u001b[0m\u001b[0;34m\u001b[0m\u001b[0m\n\u001b[0m\u001b[1;32m      2\u001b[0m     \u001b[0mtuning\u001b[0m \u001b[0;34m=\u001b[0m \u001b[0minfo_l4\u001b[0m\u001b[0;34m[\u001b[0m\u001b[0;36m0\u001b[0m\u001b[0;34m]\u001b[0m\u001b[0;34m[\u001b[0m\u001b[0mk\u001b[0m\u001b[0;34m]\u001b[0m\u001b[0;34m\u001b[0m\u001b[0;34m\u001b[0m\u001b[0m\n\u001b[1;32m      3\u001b[0m     \u001b[0mdisplacement\u001b[0m \u001b[0;34m=\u001b[0m \u001b[0minfo_l4\u001b[0m\u001b[0;34m[\u001b[0m\u001b[0;36m2\u001b[0m\u001b[0;34m]\u001b[0m\u001b[0;34m[\u001b[0m\u001b[0mk\u001b[0m\u001b[0;34m]\u001b[0m\u001b[0;34m\u001b[0m\u001b[0;34m\u001b[0m\u001b[0m\n\u001b[1;32m      4\u001b[0m     \u001b[0;32mif\u001b[0m \u001b[0;32mnot\u001b[0m \u001b[0mtuning\u001b[0m \u001b[0;32mis\u001b[0m \u001b[0;32mNone\u001b[0m \u001b[0;32mand\u001b[0m \u001b[0;32mnot\u001b[0m \u001b[0mdisplacement\u001b[0m \u001b[0;32mis\u001b[0m \u001b[0;32mNone\u001b[0m\u001b[0;34m:\u001b[0m\u001b[0;34m\u001b[0m\u001b[0;34m\u001b[0m\u001b[0m\n\u001b[1;32m      5\u001b[0m         \u001b[0minds\u001b[0m \u001b[0;34m=\u001b[0m \u001b[0mnp\u001b[0m\u001b[0;34m.\u001b[0m\u001b[0mdigitize\u001b[0m\u001b[0;34m(\u001b[0m\u001b[0mdisplacement\u001b[0m\u001b[0;34m,\u001b[0m \u001b[0mnp\u001b[0m\u001b[0;34m.\u001b[0m\u001b[0marange\u001b[0m\u001b[0;34m(\u001b[0m\u001b[0;34m-\u001b[0m\u001b[0;36m20\u001b[0m\u001b[0;34m,\u001b[0m\u001b[0;36m21\u001b[0m\u001b[0;34m,\u001b[0m\u001b[0;36m10\u001b[0m\u001b[0;34m)\u001b[0m\u001b[0;34m)\u001b[0m\u001b[0;34m\u001b[0m\u001b[0;34m\u001b[0m\u001b[0m\n",
      "\u001b[0;31mNameError\u001b[0m: name 'info_l4' is not defined"
     ]
    }
   ],
   "source": [
    "for k in range(len(tunings)):\n",
    "    this_sess_tuning = info_l4[0][k]\n",
    "    displacement = info_l4[2][k]\n",
    "    if not tuning is None and not displacement is None:\n",
    "        inds = np.digitize(displacement, np.arange(-20,21,10))\n",
    "        plt.figure()\n",
    "        for ir in range(4):\n",
    "            for jr in range(4):\n",
    "                data = np.nanmean(np.nanmean(tuning[:,:5,[0,-5,-4,-3,-2,-1],:,8:-8],-1),-1)\n",
    "                plt.subplot(4,4,4*ir+jr+1)\n",
    "                plt.imshow(np.nanmean(data[np.logical_and(inds[0]==ir+1,inds[1]==jr+1)],0))\n",
    "                plt.axis('off')\n",
    "        plt.tight_layout()"
   ]
  },
  {
   "cell_type": "code",
   "execution_count": null,
   "metadata": {},
   "outputs": [],
   "source": [
    "l4_data = []\n",
    "for k in range(len(info_l4[0])):\n",
    "    tuning = info_l4[0][k]\n",
    "    if not tuning is None:\n",
    "        plt.figure()\n",
    "        data = np.nanmean(np.nanmean(np.nanmean(np.nanmean(tuning[:,:5,[0,-5,-4,-3,-2,-1],:,:],0),0),0),0)\n",
    "        plt.plot(data)"
   ]
  },
  {
   "cell_type": "code",
   "execution_count": null,
   "metadata": {},
   "outputs": [],
   "source": [
    "l4_data = []\n",
    "for k in range(len(info_l4[0])):\n",
    "    tuning = info_l4[0][k]\n",
    "    displacement = info_l4[2][k]\n",
    "    if not tuning is None and not displacement is None:\n",
    "        lkat = (displacement**2).sum(0)<5**2\n",
    "        plt.figure()\n",
    "        data = np.nanmean(np.nanmean(tuning[lkat][:,:5,[0,-5,-4,-3,-2,-1],:,8:-8],-1),-1)\n",
    "        not_data = np.nanmean(np.nanmean(tuning[~lkat][:,:5,[0,-5,-4,-3,-2,-1],:,8:-8],-1),-1)\n",
    "        plt.subplot(1,2,1)\n",
    "        plt.imshow(np.nanmean(data,0))\n",
    "        plt.subplot(1,2,2)\n",
    "        plt.imshow(np.nanmean(not_data,0))\n",
    "        l4_data.append(data)"
   ]
  },
  {
   "cell_type": "code",
   "execution_count": null,
   "metadata": {},
   "outputs": [],
   "source": [
    "l23_data = []\n",
    "for k in range(len(info_l23[0])):\n",
    "    tuning = info_l23[0][k]\n",
    "    displacement = info_l23[2][k]\n",
    "    if not tuning is None and not displacement is None:\n",
    "        lkat = (displacement**2).sum(0)<5**2\n",
    "        try:\n",
    "            plt.figure()\n",
    "            \n",
    "            data = np.nanmean(np.nanmean(tuning[lkat][:,:5,[0,-5,-4,-3,-2,-1],:,8:-8],-1),-1)\n",
    "            not_data = np.nanmean(np.nanmean(tuning[~lkat][:,:5,[0,-5,-4,-3,-2,-1],:,8:-8],-1),-1)\n",
    "            plt.subplot(1,2,1)\n",
    "            plt.imshow(np.nanmean(data,0))\n",
    "            plt.subplot(1,2,2)\n",
    "            plt.imshow(np.nanmean(not_data,0))\n",
    "            l23_data.append(data)\n",
    "        except:\n",
    "            print('whoops')\n",
    "        "
   ]
  },
  {
   "cell_type": "code",
   "execution_count": null,
   "metadata": {},
   "outputs": [],
   "source": []
  },
  {
   "cell_type": "code",
   "execution_count": null,
   "metadata": {},
   "outputs": [],
   "source": [
    "def average_up(arr):\n",
    "    return np.nanmean(np.nanmean(arr[:,:,:,:,8:-8],-1),-1) #.reshape((arr.shape[0],-1))"
   ]
  },
  {
   "cell_type": "code",
   "execution_count": null,
   "metadata": {},
   "outputs": [],
   "source": [
    "rl23 = np.concatenate(l23_data,axis=0)"
   ]
  },
  {
   "cell_type": "code",
   "execution_count": null,
   "metadata": {},
   "outputs": [],
   "source": [
    "rl4 = np.concatenate(l4_data,axis=0)"
   ]
  },
  {
   "cell_type": "code",
   "execution_count": null,
   "metadata": {},
   "outputs": [],
   "source": [
    "plt.figure()\n",
    "plt.subplot(1,2,1)\n",
    "plt.imshow(rl4.mean(0))\n",
    "plt.subplot(1,2,2)\n",
    "plt.imshow(rl23.mean(0))"
   ]
  },
  {
   "cell_type": "code",
   "execution_count": null,
   "metadata": {},
   "outputs": [],
   "source": [
    "R = np.concatenate((rl4,rl23),axis=0).reshape((-1,30))\n",
    "R = R/np.sqrt((R**2).sum(1)[:,np.newaxis])"
   ]
  },
  {
   "cell_type": "code",
   "execution_count": null,
   "metadata": {},
   "outputs": [],
   "source": [
    "u,s,v = np.linalg.svd(R)"
   ]
  },
  {
   "cell_type": "code",
   "execution_count": null,
   "metadata": {},
   "outputs": [],
   "source": [
    "plt.figure()\n",
    "for i in range(30):\n",
    "    plt.subplot(3,10,i+1)\n",
    "    plt.imshow(v[i].reshape((5,6)))\n",
    "    plt.axis('off')"
   ]
  },
  {
   "cell_type": "code",
   "execution_count": null,
   "metadata": {},
   "outputs": [],
   "source": [
    "which = np.zeros(u.shape[0])\n",
    "which[rl4.shape[0]:] = 1\n",
    "n_ev = 8\n",
    "lda = skd.LinearDiscriminantAnalysis(solver='eigen',shrinkage='auto').fit(u[:,:n_ev],which)"
   ]
  },
  {
   "cell_type": "code",
   "execution_count": null,
   "metadata": {},
   "outputs": [],
   "source": [
    "plt.figure(figsize=(10,4))\n",
    "for j in range(30):\n",
    "    bins = np.linspace(u[:,j].min(),u[:,j].max(),25)\n",
    "    plt.subplot(6,5,j+1)\n",
    "    plt.hist(u[:rl4.shape[0],j],bins=bins,alpha=0.5)\n",
    "    plt.hist(u[rl4.shape[0]:,j],bins=bins,alpha=0.5)\n",
    "    plt.axis('off')"
   ]
  },
  {
   "cell_type": "code",
   "execution_count": null,
   "metadata": {},
   "outputs": [],
   "source": [
    "plt.figure()\n",
    "plt.hist(u[which==0,:n_ev] @ lda.coef_.T,bins=50,alpha=0.5,label='L4')\n",
    "plt.hist(u[which==1,:n_ev] @ lda.coef_.T,bins=50,alpha=0.5,label='L2/3')\n",
    "plt.legend()\n",
    "plt.xlabel('projection on LDA axis')\n",
    "plt.ylabel('number of cells')\n",
    "plt.savefig('figures/l4_l23_lda_histogram.pdf')"
   ]
  },
  {
   "cell_type": "code",
   "execution_count": null,
   "metadata": {},
   "outputs": [],
   "source": [
    "fig = plt.figure()\n",
    "ax = fig.add_subplot(111,projection='3d')\n",
    "for ilayer in (0,1):\n",
    "    ax.scatter(u[which==ilayer,:n_ev] @ lda.coef_.T,*[u[which==ilayer,x] for x in (0,1)],alpha=0.25)\n",
    "plt.xlabel('LDA axis')\n"
   ]
  },
  {
   "cell_type": "code",
   "execution_count": null,
   "metadata": {},
   "outputs": [],
   "source": [
    "plt.figure()\n",
    "sca.show_size_contrast((lda.coef_ @ v[:n_ev]).reshape((5,6)))\n",
    "plt.title('LDA axis')\n",
    "plt.savefig('figures/l4_l23_lda.pdf')\n",
    "# plt.colorbar()"
   ]
  },
  {
   "cell_type": "code",
   "execution_count": null,
   "metadata": {},
   "outputs": [],
   "source": [
    "plt.figure()\n",
    "plt.subplot(1,2,1)\n",
    "sca.show_size_contrast(rl4.mean(0))\n",
    "plt.title('L4')\n",
    "plt.subplot(1,2,2)\n",
    "sca.show_size_contrast(rl23.mean(0))\n",
    "plt.title('L2/3')\n",
    "plt.tight_layout()\n",
    "plt.savefig('figures/l4_l23_ontarget.pdf')"
   ]
  },
  {
   "cell_type": "code",
   "execution_count": null,
   "metadata": {},
   "outputs": [],
   "source": [
    "integrative = (u[:,:n_ev] @ lda.coef_.T)[:,0] > 2e-4"
   ]
  },
  {
   "cell_type": "code",
   "execution_count": null,
   "metadata": {},
   "outputs": [],
   "source": [
    "integrative.sum()"
   ]
  },
  {
   "cell_type": "code",
   "execution_count": null,
   "metadata": {},
   "outputs": [],
   "source": [
    "ut.imshow_in_rows(rl4[integrative[:rl4.shape[0]]].reshape((-1,5,6)))\n",
    "plt.savefig('figures/l4_in_l23_range.pdf')"
   ]
  },
  {
   "cell_type": "code",
   "execution_count": null,
   "metadata": {},
   "outputs": [],
   "source": [
    "ut.imshow_in_rows(rl23[integrative[rl4.shape[0]:]].reshape((-1,5,6)))\n",
    "plt.savefig('figures/l23_in_l23_range.pdf')"
   ]
  },
  {
   "cell_type": "code",
   "execution_count": null,
   "metadata": {},
   "outputs": [],
   "source": [
    "ut.imshow_in_rows(rl23[~integrative[rl4.shape[0]:]].reshape((-1,5,6)))"
   ]
  },
  {
   "cell_type": "code",
   "execution_count": null,
   "metadata": {},
   "outputs": [],
   "source": [
    "ut.imshow_in_rows(rl4[~integrative[:rl4.shape[0]]].reshape((-1,5,6)))"
   ]
  },
  {
   "cell_type": "code",
   "execution_count": null,
   "metadata": {},
   "outputs": [],
   "source": []
  }
 ],
 "metadata": {
  "kernelspec": {
   "display_name": "Python 3",
   "language": "python",
   "name": "python3"
  },
  "language_info": {
   "codemirror_mode": {
    "name": "ipython",
    "version": 3
   },
   "file_extension": ".py",
   "mimetype": "text/x-python",
   "name": "python",
   "nbconvert_exporter": "python",
   "pygments_lexer": "ipython3",
   "version": "3.6.13"
  }
 },
 "nbformat": 4,
 "nbformat_minor": 4
}
