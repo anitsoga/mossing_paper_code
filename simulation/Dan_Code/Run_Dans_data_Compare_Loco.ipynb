{
 "cells": [
  {
   "cell_type": "code",
   "execution_count": 1,
   "metadata": {},
   "outputs": [
    {
     "data": {
      "text/html": [
       "<style>.container { width:90% !important; }</style>"
      ],
      "text/plain": [
       "<IPython.core.display.HTML object>"
      ]
     },
     "metadata": {},
     "output_type": "display_data"
    },
    {
     "name": "stderr",
     "output_type": "stream",
     "text": [
      "/Users/agos/Documents/Work/ColumbiaProjects/Data_NewDanFitting/Data/data_scripts/OASIS-master/oasis/functions.py:14: UserWarning: Could not find cvxpy. Don't worry, you can still use OASIS, just not the slower interior point methods we compared to in the papers.\n",
      "  \"just not the slower interior point methods we compared to in the papers.\")\n"
     ]
    }
   ],
   "source": [
    "##################################\n",
    "#The notebook needed\n",
    "%matplotlib inline \n",
    "from IPython.core.display import display, HTML\n",
    "display(HTML(\"<style>.container { width:90% !important; }</style>\"))\n",
    "\n",
    "#!/usr/bin/env python\n",
    "# coding: utf-8\n",
    "import os\n",
    "import sys\n",
    "sys.path.append(\"/Users/agos/Documents/Work/ColumbiaProjects/Data_NewDanFitting/Data/data_scripts/OASIS-master/\")\n",
    "sys.path.append(\"/Users/agos/Documents/Work/ColumbiaProjects/Data_NewDanFitting/Data/data_scripts/\")\n",
    "\n",
    "\n",
    "from oasis.functions import deconvolve\n",
    "\n",
    "import numpy as np\n",
    "import matplotlib.pyplot as plt\n",
    "import sklearn\n",
    "import h5py\n",
    "import pdb\n",
    "from importlib import reload  # Python 3.4+ only.\n",
    "        \n",
    "import pickle\n",
    "import numpy, scipy.io\n",
    "# import scipy.optimize as sop\n",
    "# from autograd import elementwise_grad as egrad\n",
    "# from mpl_toolkits.mplot3d import Axes3D\n",
    "# import sklearn.discriminant_analysis as skd\n",
    "# import autograd.scipy.special as ssp\n",
    "# from autograd import jacobian\n",
    "\n",
    "import size_contrast_analysis as sca\n",
    "import scipy.stats as sst\n",
    "from sim_utils import *\n",
    "import pyute as ut\n",
    "#reload(utils)\n",
    "# make output path \n",
    "outputDir='/Users/agos/Documents/Work/ColumbiaProjects/Data_NewDanFitting/Data/RawData/RsFiles/Running_VS_Stationary_Same_Cells/'\n",
    "if not os.path.exists(outputDir):\n",
    "    os.makedirs(outputDir)\n",
    "    \n",
    "    \n",
    "# paths\n",
    "dsbase ='/Users/agos/Documents/Work/ColumbiaProjects/Data_NewDanFitting/Data/RawData/DataLatest/'\n",
    "\n",
    "\n",
    "\n",
    "# dsnames = [dsbase+x+'_data_struct.hdf5' for x in ['pyr_l23','sst_l23','vip_l23']]\n"
   ]
  },
  {
   "cell_type": "code",
   "execution_count": 4,
   "metadata": {
    "scrolled": true
   },
   "outputs": [
    {
     "name": "stdout",
     "output_type": "stream",
     "text": [
      "/Users/agos/Documents/Work/ColumbiaProjects/Data_NewDanFitting/Data/RawData/DataLatest/pyr_l4_data_struct.hdf5\n",
      "<HDF5 group \"/session_181127_M10073\" (8 members)>\n",
      "decon\n",
      "0.8257142857142857\n"
     ]
    },
    {
     "name": "stderr",
     "output_type": "stream",
     "text": [
      "/Users/agos/Documents/Work/ColumbiaProjects/Data_NewDanFitting/Data/data_scripts/sim_utils.py:62: RuntimeWarning: invalid value encountered in less\n",
      "  rf_conditions = [ut.k_and(~np.isnan(X[:,0]),~np.isnan(y[:,0])),sqerror<0.75,sigma>3.3,pval[ikey]<0.1]\n"
     ]
    },
    {
     "name": "stdout",
     "output_type": "stream",
     "text": [
      "<HDF5 group \"/session_190202_M10075\" (9 members)>\n",
      "decon\n",
      "0.6034722222222222\n"
     ]
    },
    {
     "name": "stderr",
     "output_type": "stream",
     "text": [
      "/Users/agos/Documents/Work/ColumbiaProjects/Data_NewDanFitting/Data/data_scripts/sim_utils.py:62: RuntimeWarning: invalid value encountered in less\n",
      "  rf_conditions = [ut.k_and(~np.isnan(X[:,0]),~np.isnan(y[:,0])),sqerror<0.75,sigma>3.3,pval[ikey]<0.1]\n"
     ]
    },
    {
     "name": "stdout",
     "output_type": "stream",
     "text": [
      "<HDF5 group \"/session_190304_M10077\" (9 members)>\n",
      "decon\n",
      "0.5597222222222222\n"
     ]
    },
    {
     "name": "stderr",
     "output_type": "stream",
     "text": [
      "/Users/agos/Documents/Work/ColumbiaProjects/Data_NewDanFitting/Data/data_scripts/pyute.py:1069: RuntimeWarning: Mean of empty slice\n",
      "  tuning[:,itype] = np.nanmean(data[cell_criteria][:,these_trials],1)\n"
     ]
    },
    {
     "name": "stdout",
     "output_type": "stream",
     "text": [
      "<HDF5 group \"/session_190607_M10443\" (9 members)>\n",
      "decon\n",
      "0.14097222222222222\n"
     ]
    },
    {
     "name": "stderr",
     "output_type": "stream",
     "text": [
      "/Users/agos/Documents/Work/ColumbiaProjects/Data_NewDanFitting/Data/data_scripts/pyute.py:1069: RuntimeWarning: Mean of empty slice\n",
      "  tuning[:,itype] = np.nanmean(data[cell_criteria][:,these_trials],1)\n",
      "/Users/agos/Documents/Work/ColumbiaProjects/Data_NewDanFitting/Data/data_scripts/sim_utils.py:62: RuntimeWarning: invalid value encountered in less\n",
      "  rf_conditions = [ut.k_and(~np.isnan(X[:,0]),~np.isnan(y[:,0])),sqerror<0.75,sigma>3.3,pval[ikey]<0.1]\n"
     ]
    },
    {
     "name": "stdout",
     "output_type": "stream",
     "text": [
      "<HDF5 group \"/session_190620_M10616\" (9 members)>\n",
      "decon\n",
      "0.5431547619047619\n"
     ]
    },
    {
     "name": "stderr",
     "output_type": "stream",
     "text": [
      "/Users/agos/Documents/Work/ColumbiaProjects/Data_NewDanFitting/Data/data_scripts/pyute.py:1069: RuntimeWarning: Mean of empty slice\n",
      "  tuning[:,itype] = np.nanmean(data[cell_criteria][:,these_trials],1)\n"
     ]
    },
    {
     "name": "stdout",
     "output_type": "stream",
     "text": [
      "<HDF5 group \"/session_190620_M10619\" (9 members)>\n",
      "decon\n",
      "0.6006944444444444\n"
     ]
    },
    {
     "name": "stderr",
     "output_type": "stream",
     "text": [
      "/Users/agos/Documents/Work/ColumbiaProjects/Data_NewDanFitting/Data/data_scripts/pyute.py:1069: RuntimeWarning: Mean of empty slice\n",
      "  tuning[:,itype] = np.nanmean(data[cell_criteria][:,these_trials],1)\n",
      "/Users/agos/Documents/Work/ColumbiaProjects/Data_NewDanFitting/Data/data_scripts/sim_utils.py:62: RuntimeWarning: invalid value encountered in less\n",
      "  rf_conditions = [ut.k_and(~np.isnan(X[:,0]),~np.isnan(y[:,0])),sqerror<0.75,sigma>3.3,pval[ikey]<0.1]\n"
     ]
    },
    {
     "name": "stdout",
     "output_type": "stream",
     "text": [
      "<HDF5 group \"/session_190624_M10615\" (8 members)>\n",
      "decon\n",
      "0.08234126984126984\n"
     ]
    },
    {
     "name": "stderr",
     "output_type": "stream",
     "text": [
      "/Users/agos/Documents/Work/ColumbiaProjects/Data_NewDanFitting/Data/data_scripts/pyute.py:1069: RuntimeWarning: Mean of empty slice\n",
      "  tuning[:,itype] = np.nanmean(data[cell_criteria][:,these_trials],1)\n",
      "/Users/agos/Documents/Work/ColumbiaProjects/Data_NewDanFitting/Data/data_scripts/sim_utils.py:62: RuntimeWarning: invalid value encountered in less\n",
      "  rf_conditions = [ut.k_and(~np.isnan(X[:,0]),~np.isnan(y[:,0])),sqerror<0.75,sigma>3.3,pval[ikey]<0.1]\n"
     ]
    },
    {
     "name": "stdout",
     "output_type": "stream",
     "text": [
      "<HDF5 group \"/session_190627_M10616\" (9 members)>\n",
      "decon\n",
      "0.7876984126984127\n",
      "<HDF5 group \"/session_190701_M10615\" (8 members)>\n",
      "decon\n",
      "0.6691468253968254\n"
     ]
    },
    {
     "name": "stderr",
     "output_type": "stream",
     "text": [
      "/Users/agos/Documents/Work/ColumbiaProjects/Data_NewDanFitting/Data/data_scripts/sim_utils.py:62: RuntimeWarning: invalid value encountered in less\n",
      "  rf_conditions = [ut.k_and(~np.isnan(X[:,0]),~np.isnan(y[:,0])),sqerror<0.75,sigma>3.3,pval[ikey]<0.1]\n"
     ]
    },
    {
     "name": "stdout",
     "output_type": "stream",
     "text": [
      "<HDF5 group \"/session_191212_M0762\" (8 members)>\n",
      "decon\n",
      "0.8219246031746031\n",
      "/Users/agos/Documents/Work/ColumbiaProjects/Data_NewDanFitting/Data/RawData/DataLatest/pyr_l23_data_struct.hdf5\n",
      "<HDF5 group \"/session_181205_M10130\" (8 members)>\n",
      "decon\n",
      "0.7321428571428571\n",
      "<HDF5 group \"/session_181209_M8536\" (9 members)>\n",
      "decon\n",
      "0.8307142857142857\n"
     ]
    },
    {
     "name": "stderr",
     "output_type": "stream",
     "text": [
      "/Users/agos/Documents/Work/ColumbiaProjects/Data_NewDanFitting/Data/data_scripts/sim_utils.py:62: RuntimeWarning: invalid value encountered in less\n",
      "  rf_conditions = [ut.k_and(~np.isnan(X[:,0]),~np.isnan(y[:,0])),sqerror<0.75,sigma>3.3,pval[ikey]<0.1]\n"
     ]
    },
    {
     "name": "stdout",
     "output_type": "stream",
     "text": [
      "<HDF5 group \"/session_181213_M8536\" (8 members)>\n",
      "decon\n",
      "0.03857142857142857\n"
     ]
    },
    {
     "name": "stderr",
     "output_type": "stream",
     "text": [
      "/Users/agos/Documents/Work/ColumbiaProjects/Data_NewDanFitting/Data/data_scripts/pyute.py:1069: RuntimeWarning: Mean of empty slice\n",
      "  tuning[:,itype] = np.nanmean(data[cell_criteria][:,these_trials],1)\n"
     ]
    },
    {
     "name": "stdout",
     "output_type": "stream",
     "text": [
      "<HDF5 group \"/session_181214_M10130\" (8 members)>\n",
      "decon\n",
      "0.4142857142857143\n"
     ]
    },
    {
     "name": "stderr",
     "output_type": "stream",
     "text": [
      "/Users/agos/Documents/Work/ColumbiaProjects/Data_NewDanFitting/Data/data_scripts/pyute.py:1069: RuntimeWarning: Mean of empty slice\n",
      "  tuning[:,itype] = np.nanmean(data[cell_criteria][:,these_trials],1)\n",
      "/Users/agos/Documents/Work/ColumbiaProjects/Data_NewDanFitting/Data/data_scripts/sim_utils.py:62: RuntimeWarning: invalid value encountered in less\n",
      "  rf_conditions = [ut.k_and(~np.isnan(X[:,0]),~np.isnan(y[:,0])),sqerror<0.75,sigma>3.3,pval[ikey]<0.1]\n"
     ]
    },
    {
     "name": "stdout",
     "output_type": "stream",
     "text": [
      "<HDF5 group \"/session_190102_M10130\" (8 members)>\n",
      "decon\n",
      "0.44916666666666666\n",
      "<HDF5 group \"/session_190128_M8982\" (9 members)>\n",
      "decon\n",
      "0.9472222222222222\n"
     ]
    },
    {
     "name": "stderr",
     "output_type": "stream",
     "text": [
      "/Users/agos/Documents/Work/ColumbiaProjects/Data_NewDanFitting/Data/data_scripts/sim_utils.py:62: RuntimeWarning: invalid value encountered in less\n",
      "  rf_conditions = [ut.k_and(~np.isnan(X[:,0]),~np.isnan(y[:,0])),sqerror<0.75,sigma>3.3,pval[ikey]<0.1]\n"
     ]
    },
    {
     "name": "stdout",
     "output_type": "stream",
     "text": [
      "<HDF5 group \"/session_190130_M9667\" (9 members)>\n",
      "decon\n",
      "0.19027777777777777\n"
     ]
    },
    {
     "name": "stderr",
     "output_type": "stream",
     "text": [
      "/Users/agos/Documents/Work/ColumbiaProjects/Data_NewDanFitting/Data/data_scripts/pyute.py:1069: RuntimeWarning: Mean of empty slice\n",
      "  tuning[:,itype] = np.nanmean(data[cell_criteria][:,these_trials],1)\n",
      "/Users/agos/Documents/Work/ColumbiaProjects/Data_NewDanFitting/Data/data_scripts/sim_utils.py:62: RuntimeWarning: invalid value encountered in less\n",
      "  rf_conditions = [ut.k_and(~np.isnan(X[:,0]),~np.isnan(y[:,0])),sqerror<0.75,sigma>3.3,pval[ikey]<0.1]\n"
     ]
    },
    {
     "name": "stdout",
     "output_type": "stream",
     "text": [
      "<HDF5 group \"/session_190131_M9355\" (9 members)>\n",
      "decon\n",
      "0.9340277777777778\n"
     ]
    },
    {
     "name": "stderr",
     "output_type": "stream",
     "text": [
      "/Users/agos/Documents/Work/ColumbiaProjects/Data_NewDanFitting/Data/data_scripts/sim_utils.py:62: RuntimeWarning: invalid value encountered in less\n",
      "  rf_conditions = [ut.k_and(~np.isnan(X[:,0]),~np.isnan(y[:,0])),sqerror<0.75,sigma>3.3,pval[ikey]<0.1]\n"
     ]
    },
    {
     "name": "stdout",
     "output_type": "stream",
     "text": [
      "<HDF5 group \"/session_190208_M9355\" (9 members)>\n",
      "decon\n",
      "0.9506944444444444\n"
     ]
    },
    {
     "name": "stderr",
     "output_type": "stream",
     "text": [
      "/Users/agos/Documents/Work/ColumbiaProjects/Data_NewDanFitting/Data/data_scripts/sim_utils.py:62: RuntimeWarning: invalid value encountered in less\n",
      "  rf_conditions = [ut.k_and(~np.isnan(X[:,0]),~np.isnan(y[:,0])),sqerror<0.75,sigma>3.3,pval[ikey]<0.1]\n"
     ]
    },
    {
     "name": "stdout",
     "output_type": "stream",
     "text": [
      "<HDF5 group \"/session_190212_M8536\" (9 members)>\n",
      "decon\n",
      "0.2465277777777778\n"
     ]
    },
    {
     "name": "stderr",
     "output_type": "stream",
     "text": [
      "/Users/agos/Documents/Work/ColumbiaProjects/Data_NewDanFitting/Data/data_scripts/pyute.py:1069: RuntimeWarning: Mean of empty slice\n",
      "  tuning[:,itype] = np.nanmean(data[cell_criteria][:,these_trials],1)\n"
     ]
    },
    {
     "name": "stdout",
     "output_type": "stream",
     "text": [
      "<HDF5 group \"/session_191002_M0293\" (8 members)>\n",
      "decon\n",
      "0.8462301587301587\n"
     ]
    },
    {
     "name": "stderr",
     "output_type": "stream",
     "text": [
      "/Users/agos/Documents/Work/ColumbiaProjects/Data_NewDanFitting/Data/data_scripts/sim_utils.py:62: RuntimeWarning: invalid value encountered in less\n",
      "  rf_conditions = [ut.k_and(~np.isnan(X[:,0]),~np.isnan(y[:,0])),sqerror<0.75,sigma>3.3,pval[ikey]<0.1]\n"
     ]
    },
    {
     "name": "stdout",
     "output_type": "stream",
     "text": [
      "<HDF5 group \"/session_191108_M0403\" (8 members)>\n",
      "decon\n",
      "0.9970238095238095\n"
     ]
    },
    {
     "name": "stderr",
     "output_type": "stream",
     "text": [
      "/Users/agos/Documents/Work/ColumbiaProjects/Data_NewDanFitting/Data/data_scripts/sim_utils.py:62: RuntimeWarning: invalid value encountered in less\n",
      "  rf_conditions = [ut.k_and(~np.isnan(X[:,0]),~np.isnan(y[:,0])),sqerror<0.75,sigma>3.3,pval[ikey]<0.1]\n"
     ]
    },
    {
     "name": "stdout",
     "output_type": "stream",
     "text": [
      "/Users/agos/Documents/Work/ColumbiaProjects/Data_NewDanFitting/Data/RawData/DataLatest/pv_l23_data_struct.hdf5\n",
      "<HDF5 group \"/session_191105_M0589\" (12 members)>\n",
      "decon\n",
      "1.0\n"
     ]
    },
    {
     "name": "stderr",
     "output_type": "stream",
     "text": [
      "/Users/agos/Documents/Work/ColumbiaProjects/Data_NewDanFitting/Data/data_scripts/sim_utils.py:62: RuntimeWarning: invalid value encountered in less\n",
      "  rf_conditions = [ut.k_and(~np.isnan(X[:,0]),~np.isnan(y[:,0])),sqerror<0.75,sigma>3.3,pval[ikey]<0.1]\n"
     ]
    },
    {
     "name": "stdout",
     "output_type": "stream",
     "text": [
      "<HDF5 group \"/session_191220_M0589\" (12 members)>\n",
      "decon\n",
      "0.9995039682539683\n",
      "<HDF5 group \"/session_191229_M0892\" (12 members)>\n",
      "decon\n",
      "0.9995039682539683\n",
      "<HDF5 group \"/session_200102_M0892\" (12 members)>\n",
      "decon\n",
      "0.9350198412698413\n",
      "<HDF5 group \"/session_200108_M0891\" (12 members)>\n",
      "decon\n",
      "0.8606150793650794\n",
      "<HDF5 group \"/session_200620_M0891\" (13 members)>\n",
      "decon\n",
      "0.44543650793650796\n"
     ]
    },
    {
     "name": "stderr",
     "output_type": "stream",
     "text": [
      "/Users/agos/Documents/Work/ColumbiaProjects/Data_NewDanFitting/Data/data_scripts/pyute.py:1069: RuntimeWarning: Mean of empty slice\n",
      "  tuning[:,itype] = np.nanmean(data[cell_criteria][:,these_trials],1)\n"
     ]
    },
    {
     "name": "stdout",
     "output_type": "stream",
     "text": [
      "<HDF5 group \"/session_200621_M0893\" (13 members)>\n",
      "decon\n",
      "0.5277777777777778\n"
     ]
    },
    {
     "name": "stderr",
     "output_type": "stream",
     "text": [
      "/Users/agos/Documents/Work/ColumbiaProjects/Data_NewDanFitting/Data/data_scripts/pyute.py:1069: RuntimeWarning: Mean of empty slice\n",
      "  tuning[:,itype] = np.nanmean(data[cell_criteria][:,these_trials],1)\n"
     ]
    },
    {
     "name": "stdout",
     "output_type": "stream",
     "text": [
      "/Users/agos/Documents/Work/ColumbiaProjects/Data_NewDanFitting/Data/RawData/DataLatest/sst_l23_data_struct.hdf5\n",
      "<HDF5 group \"/session_180713_M9053\" (9 members)>\n",
      "decon\n",
      "0.19083333333333333\n"
     ]
    },
    {
     "name": "stderr",
     "output_type": "stream",
     "text": [
      "/Users/agos/Documents/Work/ColumbiaProjects/Data_NewDanFitting/Data/data_scripts/pyute.py:1069: RuntimeWarning: Mean of empty slice\n",
      "  tuning[:,itype] = np.nanmean(data[cell_criteria][:,these_trials],1)\n"
     ]
    },
    {
     "name": "stdout",
     "output_type": "stream",
     "text": [
      "<HDF5 group \"/session_180714_M9053\" (9 members)>\n",
      "decon\n",
      "0.15583333333333332\n"
     ]
    },
    {
     "name": "stderr",
     "output_type": "stream",
     "text": [
      "/Users/agos/Documents/Work/ColumbiaProjects/Data_NewDanFitting/Data/data_scripts/pyute.py:1069: RuntimeWarning: Mean of empty slice\n",
      "  tuning[:,itype] = np.nanmean(data[cell_criteria][:,these_trials],1)\n",
      "/Users/agos/Documents/Work/ColumbiaProjects/Data_NewDanFitting/Data/data_scripts/sim_utils.py:62: RuntimeWarning: invalid value encountered in less\n",
      "  rf_conditions = [ut.k_and(~np.isnan(X[:,0]),~np.isnan(y[:,0])),sqerror<0.75,sigma>3.3,pval[ikey]<0.1]\n",
      "/Users/agos/Documents/Work/ColumbiaProjects/Data_NewDanFitting/Data/data_scripts/pyute.py:1069: RuntimeWarning: Mean of empty slice\n",
      "  tuning[:,itype] = np.nanmean(data[cell_criteria][:,these_trials],1)\n"
     ]
    },
    {
     "name": "stdout",
     "output_type": "stream",
     "text": [
      "<HDF5 group \"/session_180802_M9053\" (8 members)>\n",
      "decon\n",
      "0.49166666666666664\n",
      "<HDF5 group \"/session_180821_M9417\" (9 members)>\n",
      "decon\n",
      "0.8525\n",
      "<HDF5 group \"/session_181117_M10039\" (9 members)>\n",
      "decon\n",
      "0.7892857142857143\n",
      "<HDF5 group \"/session_181120_M10039\" (8 members)>\n",
      "decon\n",
      "0.8571428571428571\n"
     ]
    },
    {
     "name": "stderr",
     "output_type": "stream",
     "text": [
      "/Users/agos/Documents/Work/ColumbiaProjects/Data_NewDanFitting/Data/data_scripts/sim_utils.py:62: RuntimeWarning: invalid value encountered in less\n",
      "  rf_conditions = [ut.k_and(~np.isnan(X[:,0]),~np.isnan(y[:,0])),sqerror<0.75,sigma>3.3,pval[ikey]<0.1]\n"
     ]
    },
    {
     "name": "stdout",
     "output_type": "stream",
     "text": [
      "<HDF5 group \"/session_181121_M10039\" (8 members)>\n",
      "decon\n",
      "0.9385714285714286\n",
      "<HDF5 group \"/session_191224_M0390\" (11 members)>\n",
      "decon\n",
      "0.9404761904761905\n",
      "/Users/agos/Documents/Work/ColumbiaProjects/Data_NewDanFitting/Data/RawData/DataLatest/vip_l23_data_struct.hdf5\n",
      "<HDF5 group \"/session_180321_M7955\" (8 members)>\n",
      "<HDF5 group \"/session_180412_M7955\" (8 members)>\n",
      "decon\n",
      "0.011\n"
     ]
    },
    {
     "name": "stderr",
     "output_type": "stream",
     "text": [
      "/Users/agos/Documents/Work/ColumbiaProjects/Data_NewDanFitting/Data/data_scripts/pyute.py:1069: RuntimeWarning: Mean of empty slice\n",
      "  tuning[:,itype] = np.nanmean(data[cell_criteria][:,these_trials],1)\n",
      "/Users/agos/Documents/Work/ColumbiaProjects/Data_NewDanFitting/Data/data_scripts/sim_utils.py:62: RuntimeWarning: invalid value encountered in less\n",
      "  rf_conditions = [ut.k_and(~np.isnan(X[:,0]),~np.isnan(y[:,0])),sqerror<0.75,sigma>3.3,pval[ikey]<0.1]\n",
      "/Users/agos/Documents/Work/ColumbiaProjects/Data_NewDanFitting/Data/data_scripts/pyute.py:1069: RuntimeWarning: Mean of empty slice\n",
      "  tuning[:,itype] = np.nanmean(data[cell_criteria][:,these_trials],1)\n"
     ]
    },
    {
     "name": "stdout",
     "output_type": "stream",
     "text": [
      "<HDF5 group \"/session_180516_M8956\" (9 members)>\n",
      "decon\n",
      "0.275\n",
      "<HDF5 group \"/session_180519_M8959\" (8 members)>\n",
      "decon\n",
      "0.0575\n"
     ]
    },
    {
     "name": "stderr",
     "output_type": "stream",
     "text": [
      "/Users/agos/Documents/Work/ColumbiaProjects/Data_NewDanFitting/Data/data_scripts/pyute.py:1069: RuntimeWarning: Mean of empty slice\n",
      "  tuning[:,itype] = np.nanmean(data[cell_criteria][:,these_trials],1)\n"
     ]
    },
    {
     "name": "stdout",
     "output_type": "stream",
     "text": [
      "<HDF5 group \"/session_180528_M8959\" (9 members)>\n",
      "decon\n",
      "0.3383333333333333\n"
     ]
    },
    {
     "name": "stderr",
     "output_type": "stream",
     "text": [
      "/Users/agos/Documents/Work/ColumbiaProjects/Data_NewDanFitting/Data/data_scripts/pyute.py:1069: RuntimeWarning: Mean of empty slice\n",
      "  tuning[:,itype] = np.nanmean(data[cell_criteria][:,these_trials],1)\n"
     ]
    },
    {
     "name": "stdout",
     "output_type": "stream",
     "text": [
      "<HDF5 group \"/session_180531_M8961\" (9 members)>\n",
      "decon\n",
      "0.3625\n"
     ]
    },
    {
     "name": "stderr",
     "output_type": "stream",
     "text": [
      "/Users/agos/Documents/Work/ColumbiaProjects/Data_NewDanFitting/Data/data_scripts/pyute.py:1069: RuntimeWarning: Mean of empty slice\n",
      "  tuning[:,itype] = np.nanmean(data[cell_criteria][:,these_trials],1)\n"
     ]
    },
    {
     "name": "stdout",
     "output_type": "stream",
     "text": [
      "<HDF5 group \"/session_180618_M8956\" (9 members)>\n",
      "decon\n",
      "0.004166666666666667\n"
     ]
    },
    {
     "name": "stderr",
     "output_type": "stream",
     "text": [
      "/Users/agos/Documents/Work/ColumbiaProjects/Data_NewDanFitting/Data/data_scripts/pyute.py:1069: RuntimeWarning: Mean of empty slice\n",
      "  tuning[:,itype] = np.nanmean(data[cell_criteria][:,these_trials],1)\n"
     ]
    },
    {
     "name": "stdout",
     "output_type": "stream",
     "text": [
      "<HDF5 group \"/session_180719_M8961\" (8 members)>\n",
      "decon\n",
      "0.9908333333333333\n",
      "<HDF5 group \"/session_180720_M8961\" (8 members)>\n",
      "decon\n",
      "0.9541666666666667\n",
      "<HDF5 group \"/session_180903_M8961\" (9 members)>\n",
      "decon\n",
      "0.16583333333333333\n"
     ]
    },
    {
     "name": "stderr",
     "output_type": "stream",
     "text": [
      "/Users/agos/Documents/Work/ColumbiaProjects/Data_NewDanFitting/Data/data_scripts/pyute.py:1069: RuntimeWarning: Mean of empty slice\n",
      "  tuning[:,itype] = np.nanmean(data[cell_criteria][:,these_trials],1)\n",
      "/Users/agos/Documents/Work/ColumbiaProjects/Data_NewDanFitting/Data/data_scripts/sim_utils.py:62: RuntimeWarning: invalid value encountered in less\n",
      "  rf_conditions = [ut.k_and(~np.isnan(X[:,0]),~np.isnan(y[:,0])),sqerror<0.75,sigma>3.3,pval[ikey]<0.1]\n"
     ]
    },
    {
     "name": "stdout",
     "output_type": "stream",
     "text": [
      "<HDF5 group \"/session_190710_M0208\" (9 members)>\n",
      "decon\n",
      "0.7237103174603174\n",
      "<HDF5 group \"/session_191215_M0385\" (9 members)>\n",
      "decon\n",
      "0.8100198412698413\n",
      "<HDF5 group \"/session_200103_M0388\" (9 members)>\n",
      "decon\n",
      "0.9191468253968254\n"
     ]
    },
    {
     "name": "stderr",
     "output_type": "stream",
     "text": [
      "/Users/agos/Documents/Work/ColumbiaProjects/Data_NewDanFitting/Data/data_scripts/sim_utils.py:163: RuntimeWarning: invalid value encountered in less\n",
      "  return np.logical_and(criterion(displacement),pval < pcutoff)\n",
      "/Users/agos/Documents/Work/ColumbiaProjects/Data_NewDanFitting/Data/data_scripts/sim_utils.py:143: FutureWarning: Using a non-tuple sequence for multidimensional indexing is deprecated; use `arr[tuple(seq)]` instead of `arr[seq]`. In the future this will be interpreted as an array index, `arr[np.array(seq)]`, which will result either in an error or a different result.\n",
      "  return np.nanmean(np.nanmean(arr[slicer],-1),-1)\n",
      "/Users/agos/anaconda3/lib/python3.6/site-packages/autograd/tracer.py:48: RuntimeWarning: Mean of empty slice\n",
      "  return f_raw(*args, **kwargs)\n"
     ]
    },
    {
     "name": "stdout",
     "output_type": "stream",
     "text": [
      "/Users/agos/Documents/Work/ColumbiaProjects/Data_NewDanFitting/Data/RawData/DataLatest/pyr_l4_data_struct.hdf5\n",
      "<HDF5 group \"/session_181127_M10073\" (8 members)>\n",
      "decon\n",
      "0.1742857142857143\n"
     ]
    },
    {
     "name": "stderr",
     "output_type": "stream",
     "text": [
      "/Users/agos/Documents/Work/ColumbiaProjects/Data_NewDanFitting/Data/data_scripts/pyute.py:1069: RuntimeWarning: Mean of empty slice\n",
      "  tuning[:,itype] = np.nanmean(data[cell_criteria][:,these_trials],1)\n",
      "/Users/agos/Documents/Work/ColumbiaProjects/Data_NewDanFitting/Data/data_scripts/sim_utils.py:62: RuntimeWarning: invalid value encountered in less\n",
      "  rf_conditions = [ut.k_and(~np.isnan(X[:,0]),~np.isnan(y[:,0])),sqerror<0.75,sigma>3.3,pval[ikey]<0.1]\n"
     ]
    },
    {
     "name": "stdout",
     "output_type": "stream",
     "text": [
      "<HDF5 group \"/session_190202_M10075\" (9 members)>\n",
      "decon\n",
      "0.39652777777777776\n"
     ]
    },
    {
     "name": "stderr",
     "output_type": "stream",
     "text": [
      "/Users/agos/Documents/Work/ColumbiaProjects/Data_NewDanFitting/Data/data_scripts/pyute.py:1069: RuntimeWarning: Mean of empty slice\n",
      "  tuning[:,itype] = np.nanmean(data[cell_criteria][:,these_trials],1)\n",
      "/Users/agos/Documents/Work/ColumbiaProjects/Data_NewDanFitting/Data/data_scripts/sim_utils.py:62: RuntimeWarning: invalid value encountered in less\n",
      "  rf_conditions = [ut.k_and(~np.isnan(X[:,0]),~np.isnan(y[:,0])),sqerror<0.75,sigma>3.3,pval[ikey]<0.1]\n"
     ]
    },
    {
     "name": "stdout",
     "output_type": "stream",
     "text": [
      "<HDF5 group \"/session_190304_M10077\" (9 members)>\n",
      "decon\n",
      "0.44027777777777777\n"
     ]
    },
    {
     "name": "stderr",
     "output_type": "stream",
     "text": [
      "/Users/agos/Documents/Work/ColumbiaProjects/Data_NewDanFitting/Data/data_scripts/pyute.py:1069: RuntimeWarning: Mean of empty slice\n",
      "  tuning[:,itype] = np.nanmean(data[cell_criteria][:,these_trials],1)\n"
     ]
    },
    {
     "name": "stdout",
     "output_type": "stream",
     "text": [
      "<HDF5 group \"/session_190607_M10443\" (9 members)>\n",
      "decon\n",
      "0.8590277777777777\n"
     ]
    },
    {
     "name": "stderr",
     "output_type": "stream",
     "text": [
      "/Users/agos/Documents/Work/ColumbiaProjects/Data_NewDanFitting/Data/data_scripts/sim_utils.py:62: RuntimeWarning: invalid value encountered in less\n",
      "  rf_conditions = [ut.k_and(~np.isnan(X[:,0]),~np.isnan(y[:,0])),sqerror<0.75,sigma>3.3,pval[ikey]<0.1]\n"
     ]
    },
    {
     "name": "stdout",
     "output_type": "stream",
     "text": [
      "<HDF5 group \"/session_190620_M10616\" (9 members)>\n",
      "decon\n",
      "0.4568452380952381\n"
     ]
    },
    {
     "name": "stderr",
     "output_type": "stream",
     "text": [
      "/Users/agos/Documents/Work/ColumbiaProjects/Data_NewDanFitting/Data/data_scripts/pyute.py:1069: RuntimeWarning: Mean of empty slice\n",
      "  tuning[:,itype] = np.nanmean(data[cell_criteria][:,these_trials],1)\n"
     ]
    },
    {
     "name": "stdout",
     "output_type": "stream",
     "text": [
      "<HDF5 group \"/session_190620_M10619\" (9 members)>\n",
      "decon\n",
      "0.3993055555555556\n"
     ]
    },
    {
     "name": "stderr",
     "output_type": "stream",
     "text": [
      "/Users/agos/Documents/Work/ColumbiaProjects/Data_NewDanFitting/Data/data_scripts/pyute.py:1069: RuntimeWarning: Mean of empty slice\n",
      "  tuning[:,itype] = np.nanmean(data[cell_criteria][:,these_trials],1)\n",
      "/Users/agos/Documents/Work/ColumbiaProjects/Data_NewDanFitting/Data/data_scripts/sim_utils.py:62: RuntimeWarning: invalid value encountered in less\n",
      "  rf_conditions = [ut.k_and(~np.isnan(X[:,0]),~np.isnan(y[:,0])),sqerror<0.75,sigma>3.3,pval[ikey]<0.1]\n"
     ]
    },
    {
     "name": "stdout",
     "output_type": "stream",
     "text": [
      "<HDF5 group \"/session_190624_M10615\" (8 members)>\n",
      "decon\n",
      "0.9176587301587301\n"
     ]
    },
    {
     "name": "stderr",
     "output_type": "stream",
     "text": [
      "/Users/agos/Documents/Work/ColumbiaProjects/Data_NewDanFitting/Data/data_scripts/sim_utils.py:62: RuntimeWarning: invalid value encountered in less\n",
      "  rf_conditions = [ut.k_and(~np.isnan(X[:,0]),~np.isnan(y[:,0])),sqerror<0.75,sigma>3.3,pval[ikey]<0.1]\n"
     ]
    },
    {
     "name": "stdout",
     "output_type": "stream",
     "text": [
      "<HDF5 group \"/session_190627_M10616\" (9 members)>\n",
      "decon\n",
      "0.2123015873015873\n"
     ]
    },
    {
     "name": "stderr",
     "output_type": "stream",
     "text": [
      "/Users/agos/Documents/Work/ColumbiaProjects/Data_NewDanFitting/Data/data_scripts/pyute.py:1069: RuntimeWarning: Mean of empty slice\n",
      "  tuning[:,itype] = np.nanmean(data[cell_criteria][:,these_trials],1)\n"
     ]
    },
    {
     "name": "stdout",
     "output_type": "stream",
     "text": [
      "<HDF5 group \"/session_190701_M10615\" (8 members)>\n",
      "decon\n",
      "0.3308531746031746\n"
     ]
    },
    {
     "name": "stderr",
     "output_type": "stream",
     "text": [
      "/Users/agos/Documents/Work/ColumbiaProjects/Data_NewDanFitting/Data/data_scripts/pyute.py:1069: RuntimeWarning: Mean of empty slice\n",
      "  tuning[:,itype] = np.nanmean(data[cell_criteria][:,these_trials],1)\n",
      "/Users/agos/Documents/Work/ColumbiaProjects/Data_NewDanFitting/Data/data_scripts/sim_utils.py:62: RuntimeWarning: invalid value encountered in less\n",
      "  rf_conditions = [ut.k_and(~np.isnan(X[:,0]),~np.isnan(y[:,0])),sqerror<0.75,sigma>3.3,pval[ikey]<0.1]\n"
     ]
    },
    {
     "name": "stdout",
     "output_type": "stream",
     "text": [
      "<HDF5 group \"/session_191212_M0762\" (8 members)>\n",
      "decon\n",
      "0.17807539682539683\n"
     ]
    },
    {
     "name": "stderr",
     "output_type": "stream",
     "text": [
      "/Users/agos/Documents/Work/ColumbiaProjects/Data_NewDanFitting/Data/data_scripts/pyute.py:1069: RuntimeWarning: Mean of empty slice\n",
      "  tuning[:,itype] = np.nanmean(data[cell_criteria][:,these_trials],1)\n"
     ]
    },
    {
     "name": "stdout",
     "output_type": "stream",
     "text": [
      "/Users/agos/Documents/Work/ColumbiaProjects/Data_NewDanFitting/Data/RawData/DataLatest/pyr_l23_data_struct.hdf5\n",
      "<HDF5 group \"/session_181205_M10130\" (8 members)>\n",
      "decon\n",
      "0.26785714285714285\n"
     ]
    },
    {
     "name": "stderr",
     "output_type": "stream",
     "text": [
      "/Users/agos/Documents/Work/ColumbiaProjects/Data_NewDanFitting/Data/data_scripts/pyute.py:1069: RuntimeWarning: Mean of empty slice\n",
      "  tuning[:,itype] = np.nanmean(data[cell_criteria][:,these_trials],1)\n"
     ]
    },
    {
     "name": "stdout",
     "output_type": "stream",
     "text": [
      "<HDF5 group \"/session_181209_M8536\" (9 members)>\n",
      "decon\n",
      "0.1692857142857143\n"
     ]
    },
    {
     "name": "stderr",
     "output_type": "stream",
     "text": [
      "/Users/agos/Documents/Work/ColumbiaProjects/Data_NewDanFitting/Data/data_scripts/pyute.py:1069: RuntimeWarning: Mean of empty slice\n",
      "  tuning[:,itype] = np.nanmean(data[cell_criteria][:,these_trials],1)\n",
      "/Users/agos/Documents/Work/ColumbiaProjects/Data_NewDanFitting/Data/data_scripts/sim_utils.py:62: RuntimeWarning: invalid value encountered in less\n",
      "  rf_conditions = [ut.k_and(~np.isnan(X[:,0]),~np.isnan(y[:,0])),sqerror<0.75,sigma>3.3,pval[ikey]<0.1]\n"
     ]
    },
    {
     "name": "stdout",
     "output_type": "stream",
     "text": [
      "<HDF5 group \"/session_181213_M8536\" (8 members)>\n",
      "decon\n",
      "0.9614285714285714\n",
      "<HDF5 group \"/session_181214_M10130\" (8 members)>\n",
      "decon\n",
      "0.5857142857142857\n"
     ]
    },
    {
     "name": "stderr",
     "output_type": "stream",
     "text": [
      "/Users/agos/Documents/Work/ColumbiaProjects/Data_NewDanFitting/Data/data_scripts/sim_utils.py:62: RuntimeWarning: invalid value encountered in less\n",
      "  rf_conditions = [ut.k_and(~np.isnan(X[:,0]),~np.isnan(y[:,0])),sqerror<0.75,sigma>3.3,pval[ikey]<0.1]\n"
     ]
    },
    {
     "name": "stdout",
     "output_type": "stream",
     "text": [
      "<HDF5 group \"/session_190102_M10130\" (8 members)>\n",
      "decon\n",
      "0.5508333333333333\n",
      "<HDF5 group \"/session_190128_M8982\" (9 members)>\n",
      "decon\n",
      "0.05277777777777778\n"
     ]
    },
    {
     "name": "stderr",
     "output_type": "stream",
     "text": [
      "/Users/agos/Documents/Work/ColumbiaProjects/Data_NewDanFitting/Data/data_scripts/pyute.py:1069: RuntimeWarning: Mean of empty slice\n",
      "  tuning[:,itype] = np.nanmean(data[cell_criteria][:,these_trials],1)\n",
      "/Users/agos/Documents/Work/ColumbiaProjects/Data_NewDanFitting/Data/data_scripts/sim_utils.py:62: RuntimeWarning: invalid value encountered in less\n",
      "  rf_conditions = [ut.k_and(~np.isnan(X[:,0]),~np.isnan(y[:,0])),sqerror<0.75,sigma>3.3,pval[ikey]<0.1]\n"
     ]
    },
    {
     "name": "stdout",
     "output_type": "stream",
     "text": [
      "<HDF5 group \"/session_190130_M9667\" (9 members)>\n",
      "decon\n",
      "0.8097222222222222\n"
     ]
    },
    {
     "name": "stderr",
     "output_type": "stream",
     "text": [
      "/Users/agos/Documents/Work/ColumbiaProjects/Data_NewDanFitting/Data/data_scripts/sim_utils.py:62: RuntimeWarning: invalid value encountered in less\n",
      "  rf_conditions = [ut.k_and(~np.isnan(X[:,0]),~np.isnan(y[:,0])),sqerror<0.75,sigma>3.3,pval[ikey]<0.1]\n"
     ]
    },
    {
     "name": "stdout",
     "output_type": "stream",
     "text": [
      "<HDF5 group \"/session_190131_M9355\" (9 members)>\n",
      "decon\n",
      "0.06597222222222222\n"
     ]
    },
    {
     "name": "stderr",
     "output_type": "stream",
     "text": [
      "/Users/agos/Documents/Work/ColumbiaProjects/Data_NewDanFitting/Data/data_scripts/pyute.py:1069: RuntimeWarning: Mean of empty slice\n",
      "  tuning[:,itype] = np.nanmean(data[cell_criteria][:,these_trials],1)\n",
      "/Users/agos/Documents/Work/ColumbiaProjects/Data_NewDanFitting/Data/data_scripts/sim_utils.py:62: RuntimeWarning: invalid value encountered in less\n",
      "  rf_conditions = [ut.k_and(~np.isnan(X[:,0]),~np.isnan(y[:,0])),sqerror<0.75,sigma>3.3,pval[ikey]<0.1]\n"
     ]
    },
    {
     "name": "stdout",
     "output_type": "stream",
     "text": [
      "<HDF5 group \"/session_190208_M9355\" (9 members)>\n",
      "decon\n",
      "0.049305555555555554\n"
     ]
    },
    {
     "name": "stderr",
     "output_type": "stream",
     "text": [
      "/Users/agos/Documents/Work/ColumbiaProjects/Data_NewDanFitting/Data/data_scripts/pyute.py:1069: RuntimeWarning: Mean of empty slice\n",
      "  tuning[:,itype] = np.nanmean(data[cell_criteria][:,these_trials],1)\n",
      "/Users/agos/Documents/Work/ColumbiaProjects/Data_NewDanFitting/Data/data_scripts/sim_utils.py:62: RuntimeWarning: invalid value encountered in less\n",
      "  rf_conditions = [ut.k_and(~np.isnan(X[:,0]),~np.isnan(y[:,0])),sqerror<0.75,sigma>3.3,pval[ikey]<0.1]\n"
     ]
    },
    {
     "name": "stdout",
     "output_type": "stream",
     "text": [
      "<HDF5 group \"/session_190212_M8536\" (9 members)>\n",
      "decon\n",
      "0.7534722222222222\n"
     ]
    },
    {
     "name": "stderr",
     "output_type": "stream",
     "text": [
      "/Users/agos/Documents/Work/ColumbiaProjects/Data_NewDanFitting/Data/data_scripts/pyute.py:1069: RuntimeWarning: Mean of empty slice\n",
      "  tuning[:,itype] = np.nanmean(data[cell_criteria][:,these_trials],1)\n"
     ]
    },
    {
     "name": "stdout",
     "output_type": "stream",
     "text": [
      "<HDF5 group \"/session_191002_M0293\" (8 members)>\n",
      "decon\n",
      "0.15376984126984128\n"
     ]
    },
    {
     "name": "stderr",
     "output_type": "stream",
     "text": [
      "/Users/agos/Documents/Work/ColumbiaProjects/Data_NewDanFitting/Data/data_scripts/pyute.py:1069: RuntimeWarning: Mean of empty slice\n",
      "  tuning[:,itype] = np.nanmean(data[cell_criteria][:,these_trials],1)\n",
      "/Users/agos/Documents/Work/ColumbiaProjects/Data_NewDanFitting/Data/data_scripts/sim_utils.py:62: RuntimeWarning: invalid value encountered in less\n",
      "  rf_conditions = [ut.k_and(~np.isnan(X[:,0]),~np.isnan(y[:,0])),sqerror<0.75,sigma>3.3,pval[ikey]<0.1]\n"
     ]
    },
    {
     "name": "stdout",
     "output_type": "stream",
     "text": [
      "<HDF5 group \"/session_191108_M0403\" (8 members)>\n",
      "decon\n",
      "0.002976190476190476\n"
     ]
    },
    {
     "name": "stderr",
     "output_type": "stream",
     "text": [
      "/Users/agos/Documents/Work/ColumbiaProjects/Data_NewDanFitting/Data/data_scripts/pyute.py:1069: RuntimeWarning: Mean of empty slice\n",
      "  tuning[:,itype] = np.nanmean(data[cell_criteria][:,these_trials],1)\n",
      "/Users/agos/Documents/Work/ColumbiaProjects/Data_NewDanFitting/Data/data_scripts/sim_utils.py:62: RuntimeWarning: invalid value encountered in less\n",
      "  rf_conditions = [ut.k_and(~np.isnan(X[:,0]),~np.isnan(y[:,0])),sqerror<0.75,sigma>3.3,pval[ikey]<0.1]\n"
     ]
    },
    {
     "name": "stdout",
     "output_type": "stream",
     "text": [
      "/Users/agos/Documents/Work/ColumbiaProjects/Data_NewDanFitting/Data/RawData/DataLatest/pv_l23_data_struct.hdf5\n",
      "<HDF5 group \"/session_191105_M0589\" (12 members)>\n",
      "decon\n",
      "0.0\n"
     ]
    },
    {
     "name": "stderr",
     "output_type": "stream",
     "text": [
      "/Users/agos/Documents/Work/ColumbiaProjects/Data_NewDanFitting/Data/data_scripts/pyute.py:1069: RuntimeWarning: Mean of empty slice\n",
      "  tuning[:,itype] = np.nanmean(data[cell_criteria][:,these_trials],1)\n",
      "/Users/agos/Documents/Work/ColumbiaProjects/Data_NewDanFitting/Data/data_scripts/sim_utils.py:62: RuntimeWarning: invalid value encountered in less\n",
      "  rf_conditions = [ut.k_and(~np.isnan(X[:,0]),~np.isnan(y[:,0])),sqerror<0.75,sigma>3.3,pval[ikey]<0.1]\n",
      "/Users/agos/Documents/Work/ColumbiaProjects/Data_NewDanFitting/Data/data_scripts/pyute.py:1069: RuntimeWarning: Mean of empty slice\n",
      "  tuning[:,itype] = np.nanmean(data[cell_criteria][:,these_trials],1)\n"
     ]
    },
    {
     "name": "stdout",
     "output_type": "stream",
     "text": [
      "<HDF5 group \"/session_191220_M0589\" (12 members)>\n",
      "decon\n",
      "0.000496031746031746\n",
      "<HDF5 group \"/session_191229_M0892\" (12 members)>\n",
      "decon\n",
      "0.000496031746031746\n"
     ]
    },
    {
     "name": "stderr",
     "output_type": "stream",
     "text": [
      "/Users/agos/Documents/Work/ColumbiaProjects/Data_NewDanFitting/Data/data_scripts/pyute.py:1069: RuntimeWarning: Mean of empty slice\n",
      "  tuning[:,itype] = np.nanmean(data[cell_criteria][:,these_trials],1)\n"
     ]
    },
    {
     "name": "stdout",
     "output_type": "stream",
     "text": [
      "<HDF5 group \"/session_200102_M0892\" (12 members)>\n",
      "decon\n",
      "0.06498015873015874\n"
     ]
    },
    {
     "name": "stderr",
     "output_type": "stream",
     "text": [
      "/Users/agos/Documents/Work/ColumbiaProjects/Data_NewDanFitting/Data/data_scripts/pyute.py:1069: RuntimeWarning: Mean of empty slice\n",
      "  tuning[:,itype] = np.nanmean(data[cell_criteria][:,these_trials],1)\n"
     ]
    },
    {
     "name": "stdout",
     "output_type": "stream",
     "text": [
      "<HDF5 group \"/session_200108_M0891\" (12 members)>\n",
      "decon\n",
      "0.13938492063492064\n"
     ]
    },
    {
     "name": "stderr",
     "output_type": "stream",
     "text": [
      "/Users/agos/Documents/Work/ColumbiaProjects/Data_NewDanFitting/Data/data_scripts/pyute.py:1069: RuntimeWarning: Mean of empty slice\n",
      "  tuning[:,itype] = np.nanmean(data[cell_criteria][:,these_trials],1)\n"
     ]
    },
    {
     "name": "stdout",
     "output_type": "stream",
     "text": [
      "<HDF5 group \"/session_200620_M0891\" (13 members)>\n",
      "decon\n",
      "0.5545634920634921\n"
     ]
    },
    {
     "name": "stderr",
     "output_type": "stream",
     "text": [
      "/Users/agos/Documents/Work/ColumbiaProjects/Data_NewDanFitting/Data/data_scripts/pyute.py:1069: RuntimeWarning: Mean of empty slice\n",
      "  tuning[:,itype] = np.nanmean(data[cell_criteria][:,these_trials],1)\n"
     ]
    },
    {
     "name": "stdout",
     "output_type": "stream",
     "text": [
      "<HDF5 group \"/session_200621_M0893\" (13 members)>\n",
      "decon\n",
      "0.4722222222222222\n"
     ]
    },
    {
     "name": "stderr",
     "output_type": "stream",
     "text": [
      "/Users/agos/Documents/Work/ColumbiaProjects/Data_NewDanFitting/Data/data_scripts/pyute.py:1069: RuntimeWarning: Mean of empty slice\n",
      "  tuning[:,itype] = np.nanmean(data[cell_criteria][:,these_trials],1)\n"
     ]
    },
    {
     "name": "stdout",
     "output_type": "stream",
     "text": [
      "/Users/agos/Documents/Work/ColumbiaProjects/Data_NewDanFitting/Data/RawData/DataLatest/sst_l23_data_struct.hdf5\n",
      "<HDF5 group \"/session_180713_M9053\" (9 members)>\n",
      "decon\n",
      "0.8091666666666667\n",
      "<HDF5 group \"/session_180714_M9053\" (9 members)>\n",
      "decon\n",
      "0.8441666666666666\n"
     ]
    },
    {
     "name": "stderr",
     "output_type": "stream",
     "text": [
      "/Users/agos/Documents/Work/ColumbiaProjects/Data_NewDanFitting/Data/data_scripts/sim_utils.py:62: RuntimeWarning: invalid value encountered in less\n",
      "  rf_conditions = [ut.k_and(~np.isnan(X[:,0]),~np.isnan(y[:,0])),sqerror<0.75,sigma>3.3,pval[ikey]<0.1]\n"
     ]
    },
    {
     "name": "stdout",
     "output_type": "stream",
     "text": [
      "<HDF5 group \"/session_180802_M9053\" (8 members)>\n",
      "decon\n",
      "0.5083333333333333\n"
     ]
    },
    {
     "name": "stderr",
     "output_type": "stream",
     "text": [
      "/Users/agos/Documents/Work/ColumbiaProjects/Data_NewDanFitting/Data/data_scripts/pyute.py:1069: RuntimeWarning: Mean of empty slice\n",
      "  tuning[:,itype] = np.nanmean(data[cell_criteria][:,these_trials],1)\n"
     ]
    },
    {
     "name": "stdout",
     "output_type": "stream",
     "text": [
      "<HDF5 group \"/session_180821_M9417\" (9 members)>\n",
      "decon\n",
      "0.1475\n"
     ]
    },
    {
     "name": "stderr",
     "output_type": "stream",
     "text": [
      "/Users/agos/Documents/Work/ColumbiaProjects/Data_NewDanFitting/Data/data_scripts/pyute.py:1069: RuntimeWarning: Mean of empty slice\n",
      "  tuning[:,itype] = np.nanmean(data[cell_criteria][:,these_trials],1)\n"
     ]
    },
    {
     "name": "stdout",
     "output_type": "stream",
     "text": [
      "<HDF5 group \"/session_181117_M10039\" (9 members)>\n",
      "decon\n",
      "0.21071428571428572\n"
     ]
    },
    {
     "name": "stderr",
     "output_type": "stream",
     "text": [
      "/Users/agos/Documents/Work/ColumbiaProjects/Data_NewDanFitting/Data/data_scripts/pyute.py:1069: RuntimeWarning: Mean of empty slice\n",
      "  tuning[:,itype] = np.nanmean(data[cell_criteria][:,these_trials],1)\n"
     ]
    },
    {
     "name": "stdout",
     "output_type": "stream",
     "text": [
      "<HDF5 group \"/session_181120_M10039\" (8 members)>\n",
      "decon\n",
      "0.14285714285714285\n"
     ]
    },
    {
     "name": "stderr",
     "output_type": "stream",
     "text": [
      "/Users/agos/Documents/Work/ColumbiaProjects/Data_NewDanFitting/Data/data_scripts/pyute.py:1069: RuntimeWarning: Mean of empty slice\n",
      "  tuning[:,itype] = np.nanmean(data[cell_criteria][:,these_trials],1)\n",
      "/Users/agos/Documents/Work/ColumbiaProjects/Data_NewDanFitting/Data/data_scripts/sim_utils.py:62: RuntimeWarning: invalid value encountered in less\n",
      "  rf_conditions = [ut.k_and(~np.isnan(X[:,0]),~np.isnan(y[:,0])),sqerror<0.75,sigma>3.3,pval[ikey]<0.1]\n",
      "/Users/agos/Documents/Work/ColumbiaProjects/Data_NewDanFitting/Data/data_scripts/pyute.py:1069: RuntimeWarning: Mean of empty slice\n",
      "  tuning[:,itype] = np.nanmean(data[cell_criteria][:,these_trials],1)\n"
     ]
    },
    {
     "name": "stdout",
     "output_type": "stream",
     "text": [
      "<HDF5 group \"/session_181121_M10039\" (8 members)>\n",
      "decon\n",
      "0.06142857142857143\n",
      "<HDF5 group \"/session_191224_M0390\" (11 members)>\n",
      "decon\n",
      "0.05952380952380952\n"
     ]
    },
    {
     "name": "stderr",
     "output_type": "stream",
     "text": [
      "/Users/agos/Documents/Work/ColumbiaProjects/Data_NewDanFitting/Data/data_scripts/pyute.py:1069: RuntimeWarning: Mean of empty slice\n",
      "  tuning[:,itype] = np.nanmean(data[cell_criteria][:,these_trials],1)\n"
     ]
    },
    {
     "name": "stdout",
     "output_type": "stream",
     "text": [
      "/Users/agos/Documents/Work/ColumbiaProjects/Data_NewDanFitting/Data/RawData/DataLatest/vip_l23_data_struct.hdf5\n",
      "<HDF5 group \"/session_180321_M7955\" (8 members)>\n",
      "<HDF5 group \"/session_180412_M7955\" (8 members)>\n",
      "decon\n",
      "0.989\n"
     ]
    },
    {
     "name": "stderr",
     "output_type": "stream",
     "text": [
      "/Users/agos/Documents/Work/ColumbiaProjects/Data_NewDanFitting/Data/data_scripts/sim_utils.py:62: RuntimeWarning: invalid value encountered in less\n",
      "  rf_conditions = [ut.k_and(~np.isnan(X[:,0]),~np.isnan(y[:,0])),sqerror<0.75,sigma>3.3,pval[ikey]<0.1]\n"
     ]
    },
    {
     "name": "stdout",
     "output_type": "stream",
     "text": [
      "<HDF5 group \"/session_180516_M8956\" (9 members)>\n",
      "decon\n",
      "0.725\n",
      "<HDF5 group \"/session_180519_M8959\" (8 members)>\n",
      "decon\n",
      "0.9425\n",
      "<HDF5 group \"/session_180528_M8959\" (9 members)>\n",
      "decon\n",
      "0.6616666666666666\n"
     ]
    },
    {
     "name": "stderr",
     "output_type": "stream",
     "text": [
      "/Users/agos/Documents/Work/ColumbiaProjects/Data_NewDanFitting/Data/data_scripts/pyute.py:1069: RuntimeWarning: Mean of empty slice\n",
      "  tuning[:,itype] = np.nanmean(data[cell_criteria][:,these_trials],1)\n"
     ]
    },
    {
     "name": "stdout",
     "output_type": "stream",
     "text": [
      "<HDF5 group \"/session_180531_M8961\" (9 members)>\n",
      "decon\n",
      "0.6375\n"
     ]
    },
    {
     "name": "stderr",
     "output_type": "stream",
     "text": [
      "/Users/agos/Documents/Work/ColumbiaProjects/Data_NewDanFitting/Data/data_scripts/pyute.py:1069: RuntimeWarning: Mean of empty slice\n",
      "  tuning[:,itype] = np.nanmean(data[cell_criteria][:,these_trials],1)\n"
     ]
    },
    {
     "name": "stdout",
     "output_type": "stream",
     "text": [
      "<HDF5 group \"/session_180618_M8956\" (9 members)>\n",
      "decon\n",
      "0.9958333333333333\n",
      "<HDF5 group \"/session_180719_M8961\" (8 members)>\n",
      "decon\n",
      "0.009166666666666667\n"
     ]
    },
    {
     "name": "stderr",
     "output_type": "stream",
     "text": [
      "/Users/agos/Documents/Work/ColumbiaProjects/Data_NewDanFitting/Data/data_scripts/pyute.py:1069: RuntimeWarning: Mean of empty slice\n",
      "  tuning[:,itype] = np.nanmean(data[cell_criteria][:,these_trials],1)\n"
     ]
    },
    {
     "name": "stdout",
     "output_type": "stream",
     "text": [
      "<HDF5 group \"/session_180720_M8961\" (8 members)>\n",
      "decon\n",
      "0.04583333333333333\n"
     ]
    },
    {
     "name": "stderr",
     "output_type": "stream",
     "text": [
      "/Users/agos/Documents/Work/ColumbiaProjects/Data_NewDanFitting/Data/data_scripts/pyute.py:1069: RuntimeWarning: Mean of empty slice\n",
      "  tuning[:,itype] = np.nanmean(data[cell_criteria][:,these_trials],1)\n"
     ]
    },
    {
     "name": "stdout",
     "output_type": "stream",
     "text": [
      "<HDF5 group \"/session_180903_M8961\" (9 members)>\n",
      "decon\n",
      "0.8341666666666666\n"
     ]
    },
    {
     "name": "stderr",
     "output_type": "stream",
     "text": [
      "/Users/agos/Documents/Work/ColumbiaProjects/Data_NewDanFitting/Data/data_scripts/sim_utils.py:62: RuntimeWarning: invalid value encountered in less\n",
      "  rf_conditions = [ut.k_and(~np.isnan(X[:,0]),~np.isnan(y[:,0])),sqerror<0.75,sigma>3.3,pval[ikey]<0.1]\n"
     ]
    },
    {
     "name": "stdout",
     "output_type": "stream",
     "text": [
      "<HDF5 group \"/session_190710_M0208\" (9 members)>\n",
      "decon\n",
      "0.27628968253968256\n"
     ]
    },
    {
     "name": "stderr",
     "output_type": "stream",
     "text": [
      "/Users/agos/Documents/Work/ColumbiaProjects/Data_NewDanFitting/Data/data_scripts/pyute.py:1069: RuntimeWarning: Mean of empty slice\n",
      "  tuning[:,itype] = np.nanmean(data[cell_criteria][:,these_trials],1)\n"
     ]
    },
    {
     "name": "stdout",
     "output_type": "stream",
     "text": [
      "<HDF5 group \"/session_191215_M0385\" (9 members)>\n",
      "decon\n",
      "0.18998015873015872\n"
     ]
    },
    {
     "name": "stderr",
     "output_type": "stream",
     "text": [
      "/Users/agos/Documents/Work/ColumbiaProjects/Data_NewDanFitting/Data/data_scripts/pyute.py:1069: RuntimeWarning: Mean of empty slice\n",
      "  tuning[:,itype] = np.nanmean(data[cell_criteria][:,these_trials],1)\n"
     ]
    },
    {
     "name": "stdout",
     "output_type": "stream",
     "text": [
      "<HDF5 group \"/session_200103_M0388\" (9 members)>\n",
      "decon\n",
      "0.08085317460317461\n"
     ]
    },
    {
     "name": "stderr",
     "output_type": "stream",
     "text": [
      "/Users/agos/Documents/Work/ColumbiaProjects/Data_NewDanFitting/Data/data_scripts/pyute.py:1069: RuntimeWarning: Mean of empty slice\n",
      "  tuning[:,itype] = np.nanmean(data[cell_criteria][:,these_trials],1)\n",
      "/Users/agos/Documents/Work/ColumbiaProjects/Data_NewDanFitting/Data/data_scripts/sim_utils.py:163: RuntimeWarning: invalid value encountered in less\n",
      "  return np.logical_and(criterion(displacement),pval < pcutoff)\n",
      "/Users/agos/Documents/Work/ColumbiaProjects/Data_NewDanFitting/Data/data_scripts/sim_utils.py:143: FutureWarning: Using a non-tuple sequence for multidimensional indexing is deprecated; use `arr[tuple(seq)]` instead of `arr[seq]`. In the future this will be interpreted as an array index, `arr[np.array(seq)]`, which will result either in an error or a different result.\n",
      "  return np.nanmean(np.nanmean(arr[slicer],-1),-1)\n",
      "/Users/agos/anaconda3/lib/python3.6/site-packages/autograd/tracer.py:48: RuntimeWarning: Mean of empty slice\n",
      "  return f_raw(*args, **kwargs)\n"
     ]
    },
    {
     "name": "stdout",
     "output_type": "stream",
     "text": [
      "/Users/agos/Documents/Work/ColumbiaProjects/Data_NewDanFitting/Data/RawData/DataLatest/pyr_l4_data_struct.hdf5\n",
      "<HDF5 group \"/session_181127_M10073\" (8 members)>\n",
      "decon\n",
      "0.8257142857142857\n"
     ]
    },
    {
     "name": "stderr",
     "output_type": "stream",
     "text": [
      "/Users/agos/Documents/Work/ColumbiaProjects/Data_NewDanFitting/Data/data_scripts/sim_utils.py:62: RuntimeWarning: invalid value encountered in less\n",
      "  rf_conditions = [ut.k_and(~np.isnan(X[:,0]),~np.isnan(y[:,0])),sqerror<0.75,sigma>3.3,pval[ikey]<0.1]\n"
     ]
    },
    {
     "name": "stdout",
     "output_type": "stream",
     "text": [
      "<HDF5 group \"/session_190202_M10075\" (9 members)>\n",
      "decon\n",
      "0.6034722222222222\n"
     ]
    },
    {
     "name": "stderr",
     "output_type": "stream",
     "text": [
      "/Users/agos/Documents/Work/ColumbiaProjects/Data_NewDanFitting/Data/data_scripts/sim_utils.py:62: RuntimeWarning: invalid value encountered in less\n",
      "  rf_conditions = [ut.k_and(~np.isnan(X[:,0]),~np.isnan(y[:,0])),sqerror<0.75,sigma>3.3,pval[ikey]<0.1]\n"
     ]
    },
    {
     "name": "stdout",
     "output_type": "stream",
     "text": [
      "<HDF5 group \"/session_190304_M10077\" (9 members)>\n",
      "decon\n",
      "0.5597222222222222\n"
     ]
    },
    {
     "name": "stderr",
     "output_type": "stream",
     "text": [
      "/Users/agos/Documents/Work/ColumbiaProjects/Data_NewDanFitting/Data/data_scripts/pyute.py:1069: RuntimeWarning: Mean of empty slice\n",
      "  tuning[:,itype] = np.nanmean(data[cell_criteria][:,these_trials],1)\n"
     ]
    },
    {
     "name": "stdout",
     "output_type": "stream",
     "text": [
      "<HDF5 group \"/session_190607_M10443\" (9 members)>\n",
      "decon\n",
      "0.14097222222222222\n"
     ]
    },
    {
     "name": "stderr",
     "output_type": "stream",
     "text": [
      "/Users/agos/Documents/Work/ColumbiaProjects/Data_NewDanFitting/Data/data_scripts/pyute.py:1069: RuntimeWarning: Mean of empty slice\n",
      "  tuning[:,itype] = np.nanmean(data[cell_criteria][:,these_trials],1)\n",
      "/Users/agos/Documents/Work/ColumbiaProjects/Data_NewDanFitting/Data/data_scripts/sim_utils.py:62: RuntimeWarning: invalid value encountered in less\n",
      "  rf_conditions = [ut.k_and(~np.isnan(X[:,0]),~np.isnan(y[:,0])),sqerror<0.75,sigma>3.3,pval[ikey]<0.1]\n"
     ]
    },
    {
     "name": "stdout",
     "output_type": "stream",
     "text": [
      "<HDF5 group \"/session_190620_M10616\" (9 members)>\n",
      "decon\n",
      "0.5431547619047619\n"
     ]
    },
    {
     "name": "stderr",
     "output_type": "stream",
     "text": [
      "/Users/agos/Documents/Work/ColumbiaProjects/Data_NewDanFitting/Data/data_scripts/pyute.py:1069: RuntimeWarning: Mean of empty slice\n",
      "  tuning[:,itype] = np.nanmean(data[cell_criteria][:,these_trials],1)\n"
     ]
    },
    {
     "name": "stdout",
     "output_type": "stream",
     "text": [
      "<HDF5 group \"/session_190620_M10619\" (9 members)>\n",
      "decon\n",
      "0.6006944444444444\n"
     ]
    },
    {
     "name": "stderr",
     "output_type": "stream",
     "text": [
      "/Users/agos/Documents/Work/ColumbiaProjects/Data_NewDanFitting/Data/data_scripts/pyute.py:1069: RuntimeWarning: Mean of empty slice\n",
      "  tuning[:,itype] = np.nanmean(data[cell_criteria][:,these_trials],1)\n",
      "/Users/agos/Documents/Work/ColumbiaProjects/Data_NewDanFitting/Data/data_scripts/sim_utils.py:62: RuntimeWarning: invalid value encountered in less\n",
      "  rf_conditions = [ut.k_and(~np.isnan(X[:,0]),~np.isnan(y[:,0])),sqerror<0.75,sigma>3.3,pval[ikey]<0.1]\n"
     ]
    },
    {
     "name": "stdout",
     "output_type": "stream",
     "text": [
      "<HDF5 group \"/session_190624_M10615\" (8 members)>\n",
      "decon\n",
      "0.08234126984126984\n"
     ]
    },
    {
     "name": "stderr",
     "output_type": "stream",
     "text": [
      "/Users/agos/Documents/Work/ColumbiaProjects/Data_NewDanFitting/Data/data_scripts/pyute.py:1069: RuntimeWarning: Mean of empty slice\n",
      "  tuning[:,itype] = np.nanmean(data[cell_criteria][:,these_trials],1)\n",
      "/Users/agos/Documents/Work/ColumbiaProjects/Data_NewDanFitting/Data/data_scripts/sim_utils.py:62: RuntimeWarning: invalid value encountered in less\n",
      "  rf_conditions = [ut.k_and(~np.isnan(X[:,0]),~np.isnan(y[:,0])),sqerror<0.75,sigma>3.3,pval[ikey]<0.1]\n"
     ]
    },
    {
     "name": "stdout",
     "output_type": "stream",
     "text": [
      "<HDF5 group \"/session_190627_M10616\" (9 members)>\n",
      "decon\n",
      "0.7876984126984127\n",
      "<HDF5 group \"/session_190701_M10615\" (8 members)>\n",
      "decon\n",
      "0.6691468253968254\n"
     ]
    },
    {
     "name": "stderr",
     "output_type": "stream",
     "text": [
      "/Users/agos/Documents/Work/ColumbiaProjects/Data_NewDanFitting/Data/data_scripts/sim_utils.py:62: RuntimeWarning: invalid value encountered in less\n",
      "  rf_conditions = [ut.k_and(~np.isnan(X[:,0]),~np.isnan(y[:,0])),sqerror<0.75,sigma>3.3,pval[ikey]<0.1]\n"
     ]
    },
    {
     "name": "stdout",
     "output_type": "stream",
     "text": [
      "<HDF5 group \"/session_191212_M0762\" (8 members)>\n",
      "decon\n",
      "0.8219246031746031\n",
      "/Users/agos/Documents/Work/ColumbiaProjects/Data_NewDanFitting/Data/RawData/DataLatest/pyr_l23_data_struct.hdf5\n",
      "<HDF5 group \"/session_181205_M10130\" (8 members)>\n",
      "decon\n",
      "0.7321428571428571\n",
      "<HDF5 group \"/session_181209_M8536\" (9 members)>\n",
      "decon\n",
      "0.8307142857142857\n"
     ]
    },
    {
     "name": "stderr",
     "output_type": "stream",
     "text": [
      "/Users/agos/Documents/Work/ColumbiaProjects/Data_NewDanFitting/Data/data_scripts/sim_utils.py:62: RuntimeWarning: invalid value encountered in less\n",
      "  rf_conditions = [ut.k_and(~np.isnan(X[:,0]),~np.isnan(y[:,0])),sqerror<0.75,sigma>3.3,pval[ikey]<0.1]\n"
     ]
    },
    {
     "name": "stdout",
     "output_type": "stream",
     "text": [
      "<HDF5 group \"/session_181213_M8536\" (8 members)>\n",
      "decon\n",
      "0.03857142857142857\n"
     ]
    },
    {
     "name": "stderr",
     "output_type": "stream",
     "text": [
      "/Users/agos/Documents/Work/ColumbiaProjects/Data_NewDanFitting/Data/data_scripts/pyute.py:1069: RuntimeWarning: Mean of empty slice\n",
      "  tuning[:,itype] = np.nanmean(data[cell_criteria][:,these_trials],1)\n"
     ]
    },
    {
     "name": "stdout",
     "output_type": "stream",
     "text": [
      "<HDF5 group \"/session_181214_M10130\" (8 members)>\n",
      "decon\n",
      "0.4142857142857143\n"
     ]
    },
    {
     "name": "stderr",
     "output_type": "stream",
     "text": [
      "/Users/agos/Documents/Work/ColumbiaProjects/Data_NewDanFitting/Data/data_scripts/pyute.py:1069: RuntimeWarning: Mean of empty slice\n",
      "  tuning[:,itype] = np.nanmean(data[cell_criteria][:,these_trials],1)\n",
      "/Users/agos/Documents/Work/ColumbiaProjects/Data_NewDanFitting/Data/data_scripts/sim_utils.py:62: RuntimeWarning: invalid value encountered in less\n",
      "  rf_conditions = [ut.k_and(~np.isnan(X[:,0]),~np.isnan(y[:,0])),sqerror<0.75,sigma>3.3,pval[ikey]<0.1]\n"
     ]
    },
    {
     "name": "stdout",
     "output_type": "stream",
     "text": [
      "<HDF5 group \"/session_190102_M10130\" (8 members)>\n",
      "decon\n",
      "0.44916666666666666\n",
      "<HDF5 group \"/session_190128_M8982\" (9 members)>\n",
      "decon\n",
      "0.9472222222222222\n"
     ]
    },
    {
     "name": "stderr",
     "output_type": "stream",
     "text": [
      "/Users/agos/Documents/Work/ColumbiaProjects/Data_NewDanFitting/Data/data_scripts/sim_utils.py:62: RuntimeWarning: invalid value encountered in less\n",
      "  rf_conditions = [ut.k_and(~np.isnan(X[:,0]),~np.isnan(y[:,0])),sqerror<0.75,sigma>3.3,pval[ikey]<0.1]\n"
     ]
    },
    {
     "name": "stdout",
     "output_type": "stream",
     "text": [
      "<HDF5 group \"/session_190130_M9667\" (9 members)>\n",
      "decon\n",
      "0.19027777777777777\n"
     ]
    },
    {
     "name": "stderr",
     "output_type": "stream",
     "text": [
      "/Users/agos/Documents/Work/ColumbiaProjects/Data_NewDanFitting/Data/data_scripts/pyute.py:1069: RuntimeWarning: Mean of empty slice\n",
      "  tuning[:,itype] = np.nanmean(data[cell_criteria][:,these_trials],1)\n",
      "/Users/agos/Documents/Work/ColumbiaProjects/Data_NewDanFitting/Data/data_scripts/sim_utils.py:62: RuntimeWarning: invalid value encountered in less\n",
      "  rf_conditions = [ut.k_and(~np.isnan(X[:,0]),~np.isnan(y[:,0])),sqerror<0.75,sigma>3.3,pval[ikey]<0.1]\n"
     ]
    },
    {
     "name": "stdout",
     "output_type": "stream",
     "text": [
      "<HDF5 group \"/session_190131_M9355\" (9 members)>\n",
      "decon\n",
      "0.9340277777777778\n"
     ]
    },
    {
     "name": "stderr",
     "output_type": "stream",
     "text": [
      "/Users/agos/Documents/Work/ColumbiaProjects/Data_NewDanFitting/Data/data_scripts/sim_utils.py:62: RuntimeWarning: invalid value encountered in less\n",
      "  rf_conditions = [ut.k_and(~np.isnan(X[:,0]),~np.isnan(y[:,0])),sqerror<0.75,sigma>3.3,pval[ikey]<0.1]\n"
     ]
    },
    {
     "name": "stdout",
     "output_type": "stream",
     "text": [
      "<HDF5 group \"/session_190208_M9355\" (9 members)>\n",
      "decon\n",
      "0.9506944444444444\n"
     ]
    },
    {
     "name": "stderr",
     "output_type": "stream",
     "text": [
      "/Users/agos/Documents/Work/ColumbiaProjects/Data_NewDanFitting/Data/data_scripts/sim_utils.py:62: RuntimeWarning: invalid value encountered in less\n",
      "  rf_conditions = [ut.k_and(~np.isnan(X[:,0]),~np.isnan(y[:,0])),sqerror<0.75,sigma>3.3,pval[ikey]<0.1]\n"
     ]
    },
    {
     "name": "stdout",
     "output_type": "stream",
     "text": [
      "<HDF5 group \"/session_190212_M8536\" (9 members)>\n",
      "decon\n",
      "0.2465277777777778\n"
     ]
    },
    {
     "name": "stderr",
     "output_type": "stream",
     "text": [
      "/Users/agos/Documents/Work/ColumbiaProjects/Data_NewDanFitting/Data/data_scripts/pyute.py:1069: RuntimeWarning: Mean of empty slice\n",
      "  tuning[:,itype] = np.nanmean(data[cell_criteria][:,these_trials],1)\n"
     ]
    },
    {
     "name": "stdout",
     "output_type": "stream",
     "text": [
      "<HDF5 group \"/session_191002_M0293\" (8 members)>\n",
      "decon\n",
      "0.8462301587301587\n"
     ]
    },
    {
     "name": "stderr",
     "output_type": "stream",
     "text": [
      "/Users/agos/Documents/Work/ColumbiaProjects/Data_NewDanFitting/Data/data_scripts/sim_utils.py:62: RuntimeWarning: invalid value encountered in less\n",
      "  rf_conditions = [ut.k_and(~np.isnan(X[:,0]),~np.isnan(y[:,0])),sqerror<0.75,sigma>3.3,pval[ikey]<0.1]\n"
     ]
    },
    {
     "name": "stdout",
     "output_type": "stream",
     "text": [
      "<HDF5 group \"/session_191108_M0403\" (8 members)>\n",
      "decon\n",
      "0.9970238095238095\n"
     ]
    },
    {
     "name": "stderr",
     "output_type": "stream",
     "text": [
      "/Users/agos/Documents/Work/ColumbiaProjects/Data_NewDanFitting/Data/data_scripts/sim_utils.py:62: RuntimeWarning: invalid value encountered in less\n",
      "  rf_conditions = [ut.k_and(~np.isnan(X[:,0]),~np.isnan(y[:,0])),sqerror<0.75,sigma>3.3,pval[ikey]<0.1]\n"
     ]
    },
    {
     "name": "stdout",
     "output_type": "stream",
     "text": [
      "/Users/agos/Documents/Work/ColumbiaProjects/Data_NewDanFitting/Data/RawData/DataLatest/pv_l23_data_struct.hdf5\n",
      "<HDF5 group \"/session_191105_M0589\" (12 members)>\n",
      "decon\n",
      "1.0\n"
     ]
    },
    {
     "name": "stderr",
     "output_type": "stream",
     "text": [
      "/Users/agos/Documents/Work/ColumbiaProjects/Data_NewDanFitting/Data/data_scripts/sim_utils.py:62: RuntimeWarning: invalid value encountered in less\n",
      "  rf_conditions = [ut.k_and(~np.isnan(X[:,0]),~np.isnan(y[:,0])),sqerror<0.75,sigma>3.3,pval[ikey]<0.1]\n"
     ]
    },
    {
     "name": "stdout",
     "output_type": "stream",
     "text": [
      "<HDF5 group \"/session_191220_M0589\" (12 members)>\n",
      "decon\n",
      "0.9995039682539683\n",
      "<HDF5 group \"/session_191229_M0892\" (12 members)>\n",
      "decon\n",
      "0.9995039682539683\n",
      "<HDF5 group \"/session_200102_M0892\" (12 members)>\n",
      "decon\n",
      "0.9350198412698413\n",
      "<HDF5 group \"/session_200108_M0891\" (12 members)>\n",
      "decon\n",
      "0.8606150793650794\n",
      "<HDF5 group \"/session_200620_M0891\" (13 members)>\n",
      "decon\n",
      "0.44543650793650796\n"
     ]
    },
    {
     "name": "stderr",
     "output_type": "stream",
     "text": [
      "/Users/agos/Documents/Work/ColumbiaProjects/Data_NewDanFitting/Data/data_scripts/pyute.py:1069: RuntimeWarning: Mean of empty slice\n",
      "  tuning[:,itype] = np.nanmean(data[cell_criteria][:,these_trials],1)\n"
     ]
    },
    {
     "name": "stdout",
     "output_type": "stream",
     "text": [
      "<HDF5 group \"/session_200621_M0893\" (13 members)>\n",
      "decon\n",
      "0.5277777777777778\n"
     ]
    },
    {
     "name": "stderr",
     "output_type": "stream",
     "text": [
      "/Users/agos/Documents/Work/ColumbiaProjects/Data_NewDanFitting/Data/data_scripts/pyute.py:1069: RuntimeWarning: Mean of empty slice\n",
      "  tuning[:,itype] = np.nanmean(data[cell_criteria][:,these_trials],1)\n"
     ]
    },
    {
     "name": "stdout",
     "output_type": "stream",
     "text": [
      "/Users/agos/Documents/Work/ColumbiaProjects/Data_NewDanFitting/Data/RawData/DataLatest/sst_l23_data_struct.hdf5\n",
      "<HDF5 group \"/session_180713_M9053\" (9 members)>\n",
      "decon\n",
      "0.19083333333333333\n"
     ]
    },
    {
     "name": "stderr",
     "output_type": "stream",
     "text": [
      "/Users/agos/Documents/Work/ColumbiaProjects/Data_NewDanFitting/Data/data_scripts/pyute.py:1069: RuntimeWarning: Mean of empty slice\n",
      "  tuning[:,itype] = np.nanmean(data[cell_criteria][:,these_trials],1)\n"
     ]
    },
    {
     "name": "stdout",
     "output_type": "stream",
     "text": [
      "<HDF5 group \"/session_180714_M9053\" (9 members)>\n",
      "decon\n",
      "0.15583333333333332\n"
     ]
    },
    {
     "name": "stderr",
     "output_type": "stream",
     "text": [
      "/Users/agos/Documents/Work/ColumbiaProjects/Data_NewDanFitting/Data/data_scripts/pyute.py:1069: RuntimeWarning: Mean of empty slice\n",
      "  tuning[:,itype] = np.nanmean(data[cell_criteria][:,these_trials],1)\n",
      "/Users/agos/Documents/Work/ColumbiaProjects/Data_NewDanFitting/Data/data_scripts/sim_utils.py:62: RuntimeWarning: invalid value encountered in less\n",
      "  rf_conditions = [ut.k_and(~np.isnan(X[:,0]),~np.isnan(y[:,0])),sqerror<0.75,sigma>3.3,pval[ikey]<0.1]\n",
      "/Users/agos/Documents/Work/ColumbiaProjects/Data_NewDanFitting/Data/data_scripts/pyute.py:1069: RuntimeWarning: Mean of empty slice\n",
      "  tuning[:,itype] = np.nanmean(data[cell_criteria][:,these_trials],1)\n"
     ]
    },
    {
     "name": "stdout",
     "output_type": "stream",
     "text": [
      "<HDF5 group \"/session_180802_M9053\" (8 members)>\n",
      "decon\n",
      "0.49166666666666664\n",
      "<HDF5 group \"/session_180821_M9417\" (9 members)>\n",
      "decon\n",
      "0.8525\n",
      "<HDF5 group \"/session_181117_M10039\" (9 members)>\n",
      "decon\n",
      "0.7892857142857143\n",
      "<HDF5 group \"/session_181120_M10039\" (8 members)>\n",
      "decon\n",
      "0.8571428571428571\n"
     ]
    },
    {
     "name": "stderr",
     "output_type": "stream",
     "text": [
      "/Users/agos/Documents/Work/ColumbiaProjects/Data_NewDanFitting/Data/data_scripts/sim_utils.py:62: RuntimeWarning: invalid value encountered in less\n",
      "  rf_conditions = [ut.k_and(~np.isnan(X[:,0]),~np.isnan(y[:,0])),sqerror<0.75,sigma>3.3,pval[ikey]<0.1]\n"
     ]
    },
    {
     "name": "stdout",
     "output_type": "stream",
     "text": [
      "<HDF5 group \"/session_181121_M10039\" (8 members)>\n",
      "decon\n",
      "0.9385714285714286\n",
      "<HDF5 group \"/session_191224_M0390\" (11 members)>\n",
      "decon\n",
      "0.9404761904761905\n",
      "/Users/agos/Documents/Work/ColumbiaProjects/Data_NewDanFitting/Data/RawData/DataLatest/vip_l23_data_struct.hdf5\n",
      "<HDF5 group \"/session_180321_M7955\" (8 members)>\n",
      "<HDF5 group \"/session_180412_M7955\" (8 members)>\n",
      "decon\n",
      "0.011\n"
     ]
    },
    {
     "name": "stderr",
     "output_type": "stream",
     "text": [
      "/Users/agos/Documents/Work/ColumbiaProjects/Data_NewDanFitting/Data/data_scripts/pyute.py:1069: RuntimeWarning: Mean of empty slice\n",
      "  tuning[:,itype] = np.nanmean(data[cell_criteria][:,these_trials],1)\n",
      "/Users/agos/Documents/Work/ColumbiaProjects/Data_NewDanFitting/Data/data_scripts/sim_utils.py:62: RuntimeWarning: invalid value encountered in less\n",
      "  rf_conditions = [ut.k_and(~np.isnan(X[:,0]),~np.isnan(y[:,0])),sqerror<0.75,sigma>3.3,pval[ikey]<0.1]\n",
      "/Users/agos/Documents/Work/ColumbiaProjects/Data_NewDanFitting/Data/data_scripts/pyute.py:1069: RuntimeWarning: Mean of empty slice\n",
      "  tuning[:,itype] = np.nanmean(data[cell_criteria][:,these_trials],1)\n"
     ]
    },
    {
     "name": "stdout",
     "output_type": "stream",
     "text": [
      "<HDF5 group \"/session_180516_M8956\" (9 members)>\n",
      "decon\n",
      "0.275\n",
      "<HDF5 group \"/session_180519_M8959\" (8 members)>\n",
      "decon\n",
      "0.0575\n"
     ]
    },
    {
     "name": "stderr",
     "output_type": "stream",
     "text": [
      "/Users/agos/Documents/Work/ColumbiaProjects/Data_NewDanFitting/Data/data_scripts/pyute.py:1069: RuntimeWarning: Mean of empty slice\n",
      "  tuning[:,itype] = np.nanmean(data[cell_criteria][:,these_trials],1)\n"
     ]
    },
    {
     "name": "stdout",
     "output_type": "stream",
     "text": [
      "<HDF5 group \"/session_180528_M8959\" (9 members)>\n",
      "decon\n",
      "0.3383333333333333\n"
     ]
    },
    {
     "name": "stderr",
     "output_type": "stream",
     "text": [
      "/Users/agos/Documents/Work/ColumbiaProjects/Data_NewDanFitting/Data/data_scripts/pyute.py:1069: RuntimeWarning: Mean of empty slice\n",
      "  tuning[:,itype] = np.nanmean(data[cell_criteria][:,these_trials],1)\n"
     ]
    },
    {
     "name": "stdout",
     "output_type": "stream",
     "text": [
      "<HDF5 group \"/session_180531_M8961\" (9 members)>\n",
      "decon\n",
      "0.3625\n"
     ]
    },
    {
     "name": "stderr",
     "output_type": "stream",
     "text": [
      "/Users/agos/Documents/Work/ColumbiaProjects/Data_NewDanFitting/Data/data_scripts/pyute.py:1069: RuntimeWarning: Mean of empty slice\n",
      "  tuning[:,itype] = np.nanmean(data[cell_criteria][:,these_trials],1)\n"
     ]
    },
    {
     "name": "stdout",
     "output_type": "stream",
     "text": [
      "<HDF5 group \"/session_180618_M8956\" (9 members)>\n",
      "decon\n",
      "0.004166666666666667\n"
     ]
    },
    {
     "name": "stderr",
     "output_type": "stream",
     "text": [
      "/Users/agos/Documents/Work/ColumbiaProjects/Data_NewDanFitting/Data/data_scripts/pyute.py:1069: RuntimeWarning: Mean of empty slice\n",
      "  tuning[:,itype] = np.nanmean(data[cell_criteria][:,these_trials],1)\n"
     ]
    },
    {
     "name": "stdout",
     "output_type": "stream",
     "text": [
      "<HDF5 group \"/session_180719_M8961\" (8 members)>\n",
      "decon\n",
      "0.9908333333333333\n",
      "<HDF5 group \"/session_180720_M8961\" (8 members)>\n",
      "decon\n",
      "0.9541666666666667\n",
      "<HDF5 group \"/session_180903_M8961\" (9 members)>\n",
      "decon\n",
      "0.16583333333333333\n"
     ]
    },
    {
     "name": "stderr",
     "output_type": "stream",
     "text": [
      "/Users/agos/Documents/Work/ColumbiaProjects/Data_NewDanFitting/Data/data_scripts/pyute.py:1069: RuntimeWarning: Mean of empty slice\n",
      "  tuning[:,itype] = np.nanmean(data[cell_criteria][:,these_trials],1)\n",
      "/Users/agos/Documents/Work/ColumbiaProjects/Data_NewDanFitting/Data/data_scripts/sim_utils.py:62: RuntimeWarning: invalid value encountered in less\n",
      "  rf_conditions = [ut.k_and(~np.isnan(X[:,0]),~np.isnan(y[:,0])),sqerror<0.75,sigma>3.3,pval[ikey]<0.1]\n"
     ]
    },
    {
     "name": "stdout",
     "output_type": "stream",
     "text": [
      "<HDF5 group \"/session_190710_M0208\" (9 members)>\n",
      "decon\n",
      "0.7237103174603174\n",
      "<HDF5 group \"/session_191215_M0385\" (9 members)>\n",
      "decon\n",
      "0.8100198412698413\n",
      "<HDF5 group \"/session_200103_M0388\" (9 members)>\n",
      "decon\n",
      "0.9191468253968254\n"
     ]
    },
    {
     "name": "stderr",
     "output_type": "stream",
     "text": [
      "/Users/agos/Documents/Work/ColumbiaProjects/Data_NewDanFitting/Data/data_scripts/sim_utils.py:163: RuntimeWarning: invalid value encountered in less\n",
      "  return np.logical_and(criterion(displacement),pval < pcutoff)\n",
      "/Users/agos/Documents/Work/ColumbiaProjects/Data_NewDanFitting/Data/data_scripts/sim_utils.py:143: FutureWarning: Using a non-tuple sequence for multidimensional indexing is deprecated; use `arr[tuple(seq)]` instead of `arr[seq]`. In the future this will be interpreted as an array index, `arr[np.array(seq)]`, which will result either in an error or a different result.\n",
      "  return np.nanmean(np.nanmean(arr[slicer],-1),-1)\n",
      "/Users/agos/anaconda3/lib/python3.6/site-packages/autograd/tracer.py:48: RuntimeWarning: Mean of empty slice\n",
      "  return f_raw(*args, **kwargs)\n"
     ]
    },
    {
     "name": "stdout",
     "output_type": "stream",
     "text": [
      "/Users/agos/Documents/Work/ColumbiaProjects/Data_NewDanFitting/Data/RawData/DataLatest/pyr_l4_data_struct.hdf5\n",
      "<HDF5 group \"/session_181127_M10073\" (8 members)>\n",
      "decon\n",
      "0.1742857142857143\n"
     ]
    },
    {
     "name": "stderr",
     "output_type": "stream",
     "text": [
      "/Users/agos/Documents/Work/ColumbiaProjects/Data_NewDanFitting/Data/data_scripts/pyute.py:1069: RuntimeWarning: Mean of empty slice\n",
      "  tuning[:,itype] = np.nanmean(data[cell_criteria][:,these_trials],1)\n",
      "/Users/agos/Documents/Work/ColumbiaProjects/Data_NewDanFitting/Data/data_scripts/sim_utils.py:62: RuntimeWarning: invalid value encountered in less\n",
      "  rf_conditions = [ut.k_and(~np.isnan(X[:,0]),~np.isnan(y[:,0])),sqerror<0.75,sigma>3.3,pval[ikey]<0.1]\n"
     ]
    },
    {
     "name": "stdout",
     "output_type": "stream",
     "text": [
      "<HDF5 group \"/session_190202_M10075\" (9 members)>\n",
      "decon\n",
      "0.39652777777777776\n"
     ]
    },
    {
     "name": "stderr",
     "output_type": "stream",
     "text": [
      "/Users/agos/Documents/Work/ColumbiaProjects/Data_NewDanFitting/Data/data_scripts/pyute.py:1069: RuntimeWarning: Mean of empty slice\n",
      "  tuning[:,itype] = np.nanmean(data[cell_criteria][:,these_trials],1)\n",
      "/Users/agos/Documents/Work/ColumbiaProjects/Data_NewDanFitting/Data/data_scripts/sim_utils.py:62: RuntimeWarning: invalid value encountered in less\n",
      "  rf_conditions = [ut.k_and(~np.isnan(X[:,0]),~np.isnan(y[:,0])),sqerror<0.75,sigma>3.3,pval[ikey]<0.1]\n"
     ]
    },
    {
     "name": "stdout",
     "output_type": "stream",
     "text": [
      "<HDF5 group \"/session_190304_M10077\" (9 members)>\n",
      "decon\n",
      "0.44027777777777777\n"
     ]
    },
    {
     "name": "stderr",
     "output_type": "stream",
     "text": [
      "/Users/agos/Documents/Work/ColumbiaProjects/Data_NewDanFitting/Data/data_scripts/pyute.py:1069: RuntimeWarning: Mean of empty slice\n",
      "  tuning[:,itype] = np.nanmean(data[cell_criteria][:,these_trials],1)\n"
     ]
    },
    {
     "name": "stdout",
     "output_type": "stream",
     "text": [
      "<HDF5 group \"/session_190607_M10443\" (9 members)>\n",
      "decon\n",
      "0.8590277777777777\n"
     ]
    },
    {
     "name": "stderr",
     "output_type": "stream",
     "text": [
      "/Users/agos/Documents/Work/ColumbiaProjects/Data_NewDanFitting/Data/data_scripts/sim_utils.py:62: RuntimeWarning: invalid value encountered in less\n",
      "  rf_conditions = [ut.k_and(~np.isnan(X[:,0]),~np.isnan(y[:,0])),sqerror<0.75,sigma>3.3,pval[ikey]<0.1]\n"
     ]
    },
    {
     "name": "stdout",
     "output_type": "stream",
     "text": [
      "<HDF5 group \"/session_190620_M10616\" (9 members)>\n",
      "decon\n",
      "0.4568452380952381\n"
     ]
    },
    {
     "name": "stderr",
     "output_type": "stream",
     "text": [
      "/Users/agos/Documents/Work/ColumbiaProjects/Data_NewDanFitting/Data/data_scripts/pyute.py:1069: RuntimeWarning: Mean of empty slice\n",
      "  tuning[:,itype] = np.nanmean(data[cell_criteria][:,these_trials],1)\n"
     ]
    },
    {
     "name": "stdout",
     "output_type": "stream",
     "text": [
      "<HDF5 group \"/session_190620_M10619\" (9 members)>\n",
      "decon\n",
      "0.3993055555555556\n"
     ]
    },
    {
     "name": "stderr",
     "output_type": "stream",
     "text": [
      "/Users/agos/Documents/Work/ColumbiaProjects/Data_NewDanFitting/Data/data_scripts/pyute.py:1069: RuntimeWarning: Mean of empty slice\n",
      "  tuning[:,itype] = np.nanmean(data[cell_criteria][:,these_trials],1)\n",
      "/Users/agos/Documents/Work/ColumbiaProjects/Data_NewDanFitting/Data/data_scripts/sim_utils.py:62: RuntimeWarning: invalid value encountered in less\n",
      "  rf_conditions = [ut.k_and(~np.isnan(X[:,0]),~np.isnan(y[:,0])),sqerror<0.75,sigma>3.3,pval[ikey]<0.1]\n"
     ]
    },
    {
     "name": "stdout",
     "output_type": "stream",
     "text": [
      "<HDF5 group \"/session_190624_M10615\" (8 members)>\n",
      "decon\n",
      "0.9176587301587301\n"
     ]
    },
    {
     "name": "stderr",
     "output_type": "stream",
     "text": [
      "/Users/agos/Documents/Work/ColumbiaProjects/Data_NewDanFitting/Data/data_scripts/sim_utils.py:62: RuntimeWarning: invalid value encountered in less\n",
      "  rf_conditions = [ut.k_and(~np.isnan(X[:,0]),~np.isnan(y[:,0])),sqerror<0.75,sigma>3.3,pval[ikey]<0.1]\n"
     ]
    },
    {
     "name": "stdout",
     "output_type": "stream",
     "text": [
      "<HDF5 group \"/session_190627_M10616\" (9 members)>\n",
      "decon\n",
      "0.2123015873015873\n"
     ]
    },
    {
     "name": "stderr",
     "output_type": "stream",
     "text": [
      "/Users/agos/Documents/Work/ColumbiaProjects/Data_NewDanFitting/Data/data_scripts/pyute.py:1069: RuntimeWarning: Mean of empty slice\n",
      "  tuning[:,itype] = np.nanmean(data[cell_criteria][:,these_trials],1)\n"
     ]
    },
    {
     "name": "stdout",
     "output_type": "stream",
     "text": [
      "<HDF5 group \"/session_190701_M10615\" (8 members)>\n",
      "decon\n",
      "0.3308531746031746\n"
     ]
    },
    {
     "name": "stderr",
     "output_type": "stream",
     "text": [
      "/Users/agos/Documents/Work/ColumbiaProjects/Data_NewDanFitting/Data/data_scripts/pyute.py:1069: RuntimeWarning: Mean of empty slice\n",
      "  tuning[:,itype] = np.nanmean(data[cell_criteria][:,these_trials],1)\n",
      "/Users/agos/Documents/Work/ColumbiaProjects/Data_NewDanFitting/Data/data_scripts/sim_utils.py:62: RuntimeWarning: invalid value encountered in less\n",
      "  rf_conditions = [ut.k_and(~np.isnan(X[:,0]),~np.isnan(y[:,0])),sqerror<0.75,sigma>3.3,pval[ikey]<0.1]\n"
     ]
    },
    {
     "name": "stdout",
     "output_type": "stream",
     "text": [
      "<HDF5 group \"/session_191212_M0762\" (8 members)>\n",
      "decon\n",
      "0.17807539682539683\n"
     ]
    },
    {
     "name": "stderr",
     "output_type": "stream",
     "text": [
      "/Users/agos/Documents/Work/ColumbiaProjects/Data_NewDanFitting/Data/data_scripts/pyute.py:1069: RuntimeWarning: Mean of empty slice\n",
      "  tuning[:,itype] = np.nanmean(data[cell_criteria][:,these_trials],1)\n"
     ]
    },
    {
     "name": "stdout",
     "output_type": "stream",
     "text": [
      "/Users/agos/Documents/Work/ColumbiaProjects/Data_NewDanFitting/Data/RawData/DataLatest/pyr_l23_data_struct.hdf5\n",
      "<HDF5 group \"/session_181205_M10130\" (8 members)>\n",
      "decon\n",
      "0.26785714285714285\n"
     ]
    },
    {
     "name": "stderr",
     "output_type": "stream",
     "text": [
      "/Users/agos/Documents/Work/ColumbiaProjects/Data_NewDanFitting/Data/data_scripts/pyute.py:1069: RuntimeWarning: Mean of empty slice\n",
      "  tuning[:,itype] = np.nanmean(data[cell_criteria][:,these_trials],1)\n"
     ]
    },
    {
     "name": "stdout",
     "output_type": "stream",
     "text": [
      "<HDF5 group \"/session_181209_M8536\" (9 members)>\n",
      "decon\n",
      "0.1692857142857143\n"
     ]
    },
    {
     "name": "stderr",
     "output_type": "stream",
     "text": [
      "/Users/agos/Documents/Work/ColumbiaProjects/Data_NewDanFitting/Data/data_scripts/pyute.py:1069: RuntimeWarning: Mean of empty slice\n",
      "  tuning[:,itype] = np.nanmean(data[cell_criteria][:,these_trials],1)\n",
      "/Users/agos/Documents/Work/ColumbiaProjects/Data_NewDanFitting/Data/data_scripts/sim_utils.py:62: RuntimeWarning: invalid value encountered in less\n",
      "  rf_conditions = [ut.k_and(~np.isnan(X[:,0]),~np.isnan(y[:,0])),sqerror<0.75,sigma>3.3,pval[ikey]<0.1]\n"
     ]
    },
    {
     "name": "stdout",
     "output_type": "stream",
     "text": [
      "<HDF5 group \"/session_181213_M8536\" (8 members)>\n",
      "decon\n",
      "0.9614285714285714\n",
      "<HDF5 group \"/session_181214_M10130\" (8 members)>\n",
      "decon\n",
      "0.5857142857142857\n"
     ]
    },
    {
     "name": "stderr",
     "output_type": "stream",
     "text": [
      "/Users/agos/Documents/Work/ColumbiaProjects/Data_NewDanFitting/Data/data_scripts/sim_utils.py:62: RuntimeWarning: invalid value encountered in less\n",
      "  rf_conditions = [ut.k_and(~np.isnan(X[:,0]),~np.isnan(y[:,0])),sqerror<0.75,sigma>3.3,pval[ikey]<0.1]\n"
     ]
    },
    {
     "name": "stdout",
     "output_type": "stream",
     "text": [
      "<HDF5 group \"/session_190102_M10130\" (8 members)>\n",
      "decon\n",
      "0.5508333333333333\n",
      "<HDF5 group \"/session_190128_M8982\" (9 members)>\n",
      "decon\n",
      "0.05277777777777778\n"
     ]
    },
    {
     "name": "stderr",
     "output_type": "stream",
     "text": [
      "/Users/agos/Documents/Work/ColumbiaProjects/Data_NewDanFitting/Data/data_scripts/pyute.py:1069: RuntimeWarning: Mean of empty slice\n",
      "  tuning[:,itype] = np.nanmean(data[cell_criteria][:,these_trials],1)\n",
      "/Users/agos/Documents/Work/ColumbiaProjects/Data_NewDanFitting/Data/data_scripts/sim_utils.py:62: RuntimeWarning: invalid value encountered in less\n",
      "  rf_conditions = [ut.k_and(~np.isnan(X[:,0]),~np.isnan(y[:,0])),sqerror<0.75,sigma>3.3,pval[ikey]<0.1]\n"
     ]
    },
    {
     "name": "stdout",
     "output_type": "stream",
     "text": [
      "<HDF5 group \"/session_190130_M9667\" (9 members)>\n",
      "decon\n",
      "0.8097222222222222\n"
     ]
    },
    {
     "name": "stderr",
     "output_type": "stream",
     "text": [
      "/Users/agos/Documents/Work/ColumbiaProjects/Data_NewDanFitting/Data/data_scripts/sim_utils.py:62: RuntimeWarning: invalid value encountered in less\n",
      "  rf_conditions = [ut.k_and(~np.isnan(X[:,0]),~np.isnan(y[:,0])),sqerror<0.75,sigma>3.3,pval[ikey]<0.1]\n"
     ]
    },
    {
     "name": "stdout",
     "output_type": "stream",
     "text": [
      "<HDF5 group \"/session_190131_M9355\" (9 members)>\n",
      "decon\n",
      "0.06597222222222222\n"
     ]
    },
    {
     "name": "stderr",
     "output_type": "stream",
     "text": [
      "/Users/agos/Documents/Work/ColumbiaProjects/Data_NewDanFitting/Data/data_scripts/pyute.py:1069: RuntimeWarning: Mean of empty slice\n",
      "  tuning[:,itype] = np.nanmean(data[cell_criteria][:,these_trials],1)\n",
      "/Users/agos/Documents/Work/ColumbiaProjects/Data_NewDanFitting/Data/data_scripts/sim_utils.py:62: RuntimeWarning: invalid value encountered in less\n",
      "  rf_conditions = [ut.k_and(~np.isnan(X[:,0]),~np.isnan(y[:,0])),sqerror<0.75,sigma>3.3,pval[ikey]<0.1]\n"
     ]
    },
    {
     "name": "stdout",
     "output_type": "stream",
     "text": [
      "<HDF5 group \"/session_190208_M9355\" (9 members)>\n",
      "decon\n",
      "0.049305555555555554\n"
     ]
    },
    {
     "name": "stderr",
     "output_type": "stream",
     "text": [
      "/Users/agos/Documents/Work/ColumbiaProjects/Data_NewDanFitting/Data/data_scripts/pyute.py:1069: RuntimeWarning: Mean of empty slice\n",
      "  tuning[:,itype] = np.nanmean(data[cell_criteria][:,these_trials],1)\n",
      "/Users/agos/Documents/Work/ColumbiaProjects/Data_NewDanFitting/Data/data_scripts/sim_utils.py:62: RuntimeWarning: invalid value encountered in less\n",
      "  rf_conditions = [ut.k_and(~np.isnan(X[:,0]),~np.isnan(y[:,0])),sqerror<0.75,sigma>3.3,pval[ikey]<0.1]\n"
     ]
    },
    {
     "name": "stdout",
     "output_type": "stream",
     "text": [
      "<HDF5 group \"/session_190212_M8536\" (9 members)>\n",
      "decon\n",
      "0.7534722222222222\n"
     ]
    },
    {
     "name": "stderr",
     "output_type": "stream",
     "text": [
      "/Users/agos/Documents/Work/ColumbiaProjects/Data_NewDanFitting/Data/data_scripts/pyute.py:1069: RuntimeWarning: Mean of empty slice\n",
      "  tuning[:,itype] = np.nanmean(data[cell_criteria][:,these_trials],1)\n"
     ]
    },
    {
     "name": "stdout",
     "output_type": "stream",
     "text": [
      "<HDF5 group \"/session_191002_M0293\" (8 members)>\n",
      "decon\n",
      "0.15376984126984128\n"
     ]
    },
    {
     "name": "stderr",
     "output_type": "stream",
     "text": [
      "/Users/agos/Documents/Work/ColumbiaProjects/Data_NewDanFitting/Data/data_scripts/pyute.py:1069: RuntimeWarning: Mean of empty slice\n",
      "  tuning[:,itype] = np.nanmean(data[cell_criteria][:,these_trials],1)\n",
      "/Users/agos/Documents/Work/ColumbiaProjects/Data_NewDanFitting/Data/data_scripts/sim_utils.py:62: RuntimeWarning: invalid value encountered in less\n",
      "  rf_conditions = [ut.k_and(~np.isnan(X[:,0]),~np.isnan(y[:,0])),sqerror<0.75,sigma>3.3,pval[ikey]<0.1]\n"
     ]
    },
    {
     "name": "stdout",
     "output_type": "stream",
     "text": [
      "<HDF5 group \"/session_191108_M0403\" (8 members)>\n",
      "decon\n",
      "0.002976190476190476\n"
     ]
    },
    {
     "name": "stderr",
     "output_type": "stream",
     "text": [
      "/Users/agos/Documents/Work/ColumbiaProjects/Data_NewDanFitting/Data/data_scripts/pyute.py:1069: RuntimeWarning: Mean of empty slice\n",
      "  tuning[:,itype] = np.nanmean(data[cell_criteria][:,these_trials],1)\n",
      "/Users/agos/Documents/Work/ColumbiaProjects/Data_NewDanFitting/Data/data_scripts/sim_utils.py:62: RuntimeWarning: invalid value encountered in less\n",
      "  rf_conditions = [ut.k_and(~np.isnan(X[:,0]),~np.isnan(y[:,0])),sqerror<0.75,sigma>3.3,pval[ikey]<0.1]\n"
     ]
    },
    {
     "name": "stdout",
     "output_type": "stream",
     "text": [
      "/Users/agos/Documents/Work/ColumbiaProjects/Data_NewDanFitting/Data/RawData/DataLatest/pv_l23_data_struct.hdf5\n",
      "<HDF5 group \"/session_191105_M0589\" (12 members)>\n",
      "decon\n",
      "0.0\n"
     ]
    },
    {
     "name": "stderr",
     "output_type": "stream",
     "text": [
      "/Users/agos/Documents/Work/ColumbiaProjects/Data_NewDanFitting/Data/data_scripts/pyute.py:1069: RuntimeWarning: Mean of empty slice\n",
      "  tuning[:,itype] = np.nanmean(data[cell_criteria][:,these_trials],1)\n",
      "/Users/agos/Documents/Work/ColumbiaProjects/Data_NewDanFitting/Data/data_scripts/sim_utils.py:62: RuntimeWarning: invalid value encountered in less\n",
      "  rf_conditions = [ut.k_and(~np.isnan(X[:,0]),~np.isnan(y[:,0])),sqerror<0.75,sigma>3.3,pval[ikey]<0.1]\n",
      "/Users/agos/Documents/Work/ColumbiaProjects/Data_NewDanFitting/Data/data_scripts/pyute.py:1069: RuntimeWarning: Mean of empty slice\n",
      "  tuning[:,itype] = np.nanmean(data[cell_criteria][:,these_trials],1)\n"
     ]
    },
    {
     "name": "stdout",
     "output_type": "stream",
     "text": [
      "<HDF5 group \"/session_191220_M0589\" (12 members)>\n",
      "decon\n",
      "0.000496031746031746\n",
      "<HDF5 group \"/session_191229_M0892\" (12 members)>\n",
      "decon\n",
      "0.000496031746031746\n"
     ]
    },
    {
     "name": "stderr",
     "output_type": "stream",
     "text": [
      "/Users/agos/Documents/Work/ColumbiaProjects/Data_NewDanFitting/Data/data_scripts/pyute.py:1069: RuntimeWarning: Mean of empty slice\n",
      "  tuning[:,itype] = np.nanmean(data[cell_criteria][:,these_trials],1)\n"
     ]
    },
    {
     "name": "stdout",
     "output_type": "stream",
     "text": [
      "<HDF5 group \"/session_200102_M0892\" (12 members)>\n",
      "decon\n",
      "0.06498015873015874\n"
     ]
    },
    {
     "name": "stderr",
     "output_type": "stream",
     "text": [
      "/Users/agos/Documents/Work/ColumbiaProjects/Data_NewDanFitting/Data/data_scripts/pyute.py:1069: RuntimeWarning: Mean of empty slice\n",
      "  tuning[:,itype] = np.nanmean(data[cell_criteria][:,these_trials],1)\n"
     ]
    },
    {
     "name": "stdout",
     "output_type": "stream",
     "text": [
      "<HDF5 group \"/session_200108_M0891\" (12 members)>\n",
      "decon\n",
      "0.13938492063492064\n"
     ]
    },
    {
     "name": "stderr",
     "output_type": "stream",
     "text": [
      "/Users/agos/Documents/Work/ColumbiaProjects/Data_NewDanFitting/Data/data_scripts/pyute.py:1069: RuntimeWarning: Mean of empty slice\n",
      "  tuning[:,itype] = np.nanmean(data[cell_criteria][:,these_trials],1)\n"
     ]
    },
    {
     "name": "stdout",
     "output_type": "stream",
     "text": [
      "<HDF5 group \"/session_200620_M0891\" (13 members)>\n",
      "decon\n",
      "0.5545634920634921\n"
     ]
    },
    {
     "name": "stderr",
     "output_type": "stream",
     "text": [
      "/Users/agos/Documents/Work/ColumbiaProjects/Data_NewDanFitting/Data/data_scripts/pyute.py:1069: RuntimeWarning: Mean of empty slice\n",
      "  tuning[:,itype] = np.nanmean(data[cell_criteria][:,these_trials],1)\n"
     ]
    },
    {
     "name": "stdout",
     "output_type": "stream",
     "text": [
      "<HDF5 group \"/session_200621_M0893\" (13 members)>\n",
      "decon\n",
      "0.4722222222222222\n"
     ]
    },
    {
     "name": "stderr",
     "output_type": "stream",
     "text": [
      "/Users/agos/Documents/Work/ColumbiaProjects/Data_NewDanFitting/Data/data_scripts/pyute.py:1069: RuntimeWarning: Mean of empty slice\n",
      "  tuning[:,itype] = np.nanmean(data[cell_criteria][:,these_trials],1)\n"
     ]
    },
    {
     "name": "stdout",
     "output_type": "stream",
     "text": [
      "/Users/agos/Documents/Work/ColumbiaProjects/Data_NewDanFitting/Data/RawData/DataLatest/sst_l23_data_struct.hdf5\n",
      "<HDF5 group \"/session_180713_M9053\" (9 members)>\n",
      "decon\n",
      "0.8091666666666667\n",
      "<HDF5 group \"/session_180714_M9053\" (9 members)>\n",
      "decon\n",
      "0.8441666666666666\n"
     ]
    },
    {
     "name": "stderr",
     "output_type": "stream",
     "text": [
      "/Users/agos/Documents/Work/ColumbiaProjects/Data_NewDanFitting/Data/data_scripts/sim_utils.py:62: RuntimeWarning: invalid value encountered in less\n",
      "  rf_conditions = [ut.k_and(~np.isnan(X[:,0]),~np.isnan(y[:,0])),sqerror<0.75,sigma>3.3,pval[ikey]<0.1]\n"
     ]
    },
    {
     "name": "stdout",
     "output_type": "stream",
     "text": [
      "<HDF5 group \"/session_180802_M9053\" (8 members)>\n",
      "decon\n",
      "0.5083333333333333\n"
     ]
    },
    {
     "name": "stderr",
     "output_type": "stream",
     "text": [
      "/Users/agos/Documents/Work/ColumbiaProjects/Data_NewDanFitting/Data/data_scripts/pyute.py:1069: RuntimeWarning: Mean of empty slice\n",
      "  tuning[:,itype] = np.nanmean(data[cell_criteria][:,these_trials],1)\n"
     ]
    },
    {
     "name": "stdout",
     "output_type": "stream",
     "text": [
      "<HDF5 group \"/session_180821_M9417\" (9 members)>\n",
      "decon\n",
      "0.1475\n"
     ]
    },
    {
     "name": "stderr",
     "output_type": "stream",
     "text": [
      "/Users/agos/Documents/Work/ColumbiaProjects/Data_NewDanFitting/Data/data_scripts/pyute.py:1069: RuntimeWarning: Mean of empty slice\n",
      "  tuning[:,itype] = np.nanmean(data[cell_criteria][:,these_trials],1)\n"
     ]
    },
    {
     "name": "stdout",
     "output_type": "stream",
     "text": [
      "<HDF5 group \"/session_181117_M10039\" (9 members)>\n",
      "decon\n",
      "0.21071428571428572\n"
     ]
    },
    {
     "name": "stderr",
     "output_type": "stream",
     "text": [
      "/Users/agos/Documents/Work/ColumbiaProjects/Data_NewDanFitting/Data/data_scripts/pyute.py:1069: RuntimeWarning: Mean of empty slice\n",
      "  tuning[:,itype] = np.nanmean(data[cell_criteria][:,these_trials],1)\n"
     ]
    },
    {
     "name": "stdout",
     "output_type": "stream",
     "text": [
      "<HDF5 group \"/session_181120_M10039\" (8 members)>\n",
      "decon\n",
      "0.14285714285714285\n"
     ]
    },
    {
     "name": "stderr",
     "output_type": "stream",
     "text": [
      "/Users/agos/Documents/Work/ColumbiaProjects/Data_NewDanFitting/Data/data_scripts/pyute.py:1069: RuntimeWarning: Mean of empty slice\n",
      "  tuning[:,itype] = np.nanmean(data[cell_criteria][:,these_trials],1)\n",
      "/Users/agos/Documents/Work/ColumbiaProjects/Data_NewDanFitting/Data/data_scripts/sim_utils.py:62: RuntimeWarning: invalid value encountered in less\n",
      "  rf_conditions = [ut.k_and(~np.isnan(X[:,0]),~np.isnan(y[:,0])),sqerror<0.75,sigma>3.3,pval[ikey]<0.1]\n",
      "/Users/agos/Documents/Work/ColumbiaProjects/Data_NewDanFitting/Data/data_scripts/pyute.py:1069: RuntimeWarning: Mean of empty slice\n",
      "  tuning[:,itype] = np.nanmean(data[cell_criteria][:,these_trials],1)\n"
     ]
    },
    {
     "name": "stdout",
     "output_type": "stream",
     "text": [
      "<HDF5 group \"/session_181121_M10039\" (8 members)>\n",
      "decon\n",
      "0.06142857142857143\n",
      "<HDF5 group \"/session_191224_M0390\" (11 members)>\n",
      "decon\n",
      "0.05952380952380952\n"
     ]
    },
    {
     "name": "stderr",
     "output_type": "stream",
     "text": [
      "/Users/agos/Documents/Work/ColumbiaProjects/Data_NewDanFitting/Data/data_scripts/pyute.py:1069: RuntimeWarning: Mean of empty slice\n",
      "  tuning[:,itype] = np.nanmean(data[cell_criteria][:,these_trials],1)\n"
     ]
    },
    {
     "name": "stdout",
     "output_type": "stream",
     "text": [
      "/Users/agos/Documents/Work/ColumbiaProjects/Data_NewDanFitting/Data/RawData/DataLatest/vip_l23_data_struct.hdf5\n",
      "<HDF5 group \"/session_180321_M7955\" (8 members)>\n",
      "<HDF5 group \"/session_180412_M7955\" (8 members)>\n",
      "decon\n",
      "0.989\n"
     ]
    },
    {
     "name": "stderr",
     "output_type": "stream",
     "text": [
      "/Users/agos/Documents/Work/ColumbiaProjects/Data_NewDanFitting/Data/data_scripts/sim_utils.py:62: RuntimeWarning: invalid value encountered in less\n",
      "  rf_conditions = [ut.k_and(~np.isnan(X[:,0]),~np.isnan(y[:,0])),sqerror<0.75,sigma>3.3,pval[ikey]<0.1]\n"
     ]
    },
    {
     "name": "stdout",
     "output_type": "stream",
     "text": [
      "<HDF5 group \"/session_180516_M8956\" (9 members)>\n",
      "decon\n",
      "0.725\n",
      "<HDF5 group \"/session_180519_M8959\" (8 members)>\n",
      "decon\n",
      "0.9425\n",
      "<HDF5 group \"/session_180528_M8959\" (9 members)>\n",
      "decon\n",
      "0.6616666666666666\n"
     ]
    },
    {
     "name": "stderr",
     "output_type": "stream",
     "text": [
      "/Users/agos/Documents/Work/ColumbiaProjects/Data_NewDanFitting/Data/data_scripts/pyute.py:1069: RuntimeWarning: Mean of empty slice\n",
      "  tuning[:,itype] = np.nanmean(data[cell_criteria][:,these_trials],1)\n"
     ]
    },
    {
     "name": "stdout",
     "output_type": "stream",
     "text": [
      "<HDF5 group \"/session_180531_M8961\" (9 members)>\n",
      "decon\n",
      "0.6375\n"
     ]
    },
    {
     "name": "stderr",
     "output_type": "stream",
     "text": [
      "/Users/agos/Documents/Work/ColumbiaProjects/Data_NewDanFitting/Data/data_scripts/pyute.py:1069: RuntimeWarning: Mean of empty slice\n",
      "  tuning[:,itype] = np.nanmean(data[cell_criteria][:,these_trials],1)\n"
     ]
    },
    {
     "name": "stdout",
     "output_type": "stream",
     "text": [
      "<HDF5 group \"/session_180618_M8956\" (9 members)>\n",
      "decon\n",
      "0.9958333333333333\n",
      "<HDF5 group \"/session_180719_M8961\" (8 members)>\n",
      "decon\n",
      "0.009166666666666667\n"
     ]
    },
    {
     "name": "stderr",
     "output_type": "stream",
     "text": [
      "/Users/agos/Documents/Work/ColumbiaProjects/Data_NewDanFitting/Data/data_scripts/pyute.py:1069: RuntimeWarning: Mean of empty slice\n",
      "  tuning[:,itype] = np.nanmean(data[cell_criteria][:,these_trials],1)\n"
     ]
    },
    {
     "name": "stdout",
     "output_type": "stream",
     "text": [
      "<HDF5 group \"/session_180720_M8961\" (8 members)>\n",
      "decon\n",
      "0.04583333333333333\n"
     ]
    },
    {
     "name": "stderr",
     "output_type": "stream",
     "text": [
      "/Users/agos/Documents/Work/ColumbiaProjects/Data_NewDanFitting/Data/data_scripts/pyute.py:1069: RuntimeWarning: Mean of empty slice\n",
      "  tuning[:,itype] = np.nanmean(data[cell_criteria][:,these_trials],1)\n"
     ]
    },
    {
     "name": "stdout",
     "output_type": "stream",
     "text": [
      "<HDF5 group \"/session_180903_M8961\" (9 members)>\n",
      "decon\n",
      "0.8341666666666666\n"
     ]
    },
    {
     "name": "stderr",
     "output_type": "stream",
     "text": [
      "/Users/agos/Documents/Work/ColumbiaProjects/Data_NewDanFitting/Data/data_scripts/sim_utils.py:62: RuntimeWarning: invalid value encountered in less\n",
      "  rf_conditions = [ut.k_and(~np.isnan(X[:,0]),~np.isnan(y[:,0])),sqerror<0.75,sigma>3.3,pval[ikey]<0.1]\n"
     ]
    },
    {
     "name": "stdout",
     "output_type": "stream",
     "text": [
      "<HDF5 group \"/session_190710_M0208\" (9 members)>\n",
      "decon\n",
      "0.27628968253968256\n"
     ]
    },
    {
     "name": "stderr",
     "output_type": "stream",
     "text": [
      "/Users/agos/Documents/Work/ColumbiaProjects/Data_NewDanFitting/Data/data_scripts/pyute.py:1069: RuntimeWarning: Mean of empty slice\n",
      "  tuning[:,itype] = np.nanmean(data[cell_criteria][:,these_trials],1)\n"
     ]
    },
    {
     "name": "stdout",
     "output_type": "stream",
     "text": [
      "<HDF5 group \"/session_191215_M0385\" (9 members)>\n",
      "decon\n",
      "0.18998015873015872\n"
     ]
    },
    {
     "name": "stderr",
     "output_type": "stream",
     "text": [
      "/Users/agos/Documents/Work/ColumbiaProjects/Data_NewDanFitting/Data/data_scripts/pyute.py:1069: RuntimeWarning: Mean of empty slice\n",
      "  tuning[:,itype] = np.nanmean(data[cell_criteria][:,these_trials],1)\n"
     ]
    },
    {
     "name": "stdout",
     "output_type": "stream",
     "text": [
      "<HDF5 group \"/session_200103_M0388\" (9 members)>\n",
      "decon\n",
      "0.08085317460317461\n"
     ]
    },
    {
     "name": "stderr",
     "output_type": "stream",
     "text": [
      "/Users/agos/Documents/Work/ColumbiaProjects/Data_NewDanFitting/Data/data_scripts/pyute.py:1069: RuntimeWarning: Mean of empty slice\n",
      "  tuning[:,itype] = np.nanmean(data[cell_criteria][:,these_trials],1)\n",
      "/Users/agos/Documents/Work/ColumbiaProjects/Data_NewDanFitting/Data/data_scripts/sim_utils.py:163: RuntimeWarning: invalid value encountered in less\n",
      "  return np.logical_and(criterion(displacement),pval < pcutoff)\n",
      "/Users/agos/Documents/Work/ColumbiaProjects/Data_NewDanFitting/Data/data_scripts/sim_utils.py:143: FutureWarning: Using a non-tuple sequence for multidimensional indexing is deprecated; use `arr[tuple(seq)]` instead of `arr[seq]`. In the future this will be interpreted as an array index, `arr[np.array(seq)]`, which will result either in an error or a different result.\n",
      "  return np.nanmean(np.nanmean(arr[slicer],-1),-1)\n",
      "/Users/agos/anaconda3/lib/python3.6/site-packages/autograd/tracer.py:48: RuntimeWarning: Mean of empty slice\n",
      "  return f_raw(*args, **kwargs)\n"
     ]
    },
    {
     "name": "stdout",
     "output_type": "stream",
     "text": [
      "/Users/agos/Documents/Work/ColumbiaProjects/Data_NewDanFitting/Data/RawData/DataLatest/pyr_l4_data_struct.hdf5\n",
      "<HDF5 group \"/session_181127_M10073\" (8 members)>\n",
      "decon\n",
      "0.8257142857142857\n"
     ]
    },
    {
     "name": "stderr",
     "output_type": "stream",
     "text": [
      "/Users/agos/Documents/Work/ColumbiaProjects/Data_NewDanFitting/Data/data_scripts/sim_utils.py:62: RuntimeWarning: invalid value encountered in less\n",
      "  rf_conditions = [ut.k_and(~np.isnan(X[:,0]),~np.isnan(y[:,0])),sqerror<0.75,sigma>3.3,pval[ikey]<0.1]\n"
     ]
    },
    {
     "name": "stdout",
     "output_type": "stream",
     "text": [
      "<HDF5 group \"/session_190202_M10075\" (9 members)>\n",
      "decon\n",
      "0.6034722222222222\n"
     ]
    },
    {
     "name": "stderr",
     "output_type": "stream",
     "text": [
      "/Users/agos/Documents/Work/ColumbiaProjects/Data_NewDanFitting/Data/data_scripts/sim_utils.py:62: RuntimeWarning: invalid value encountered in less\n",
      "  rf_conditions = [ut.k_and(~np.isnan(X[:,0]),~np.isnan(y[:,0])),sqerror<0.75,sigma>3.3,pval[ikey]<0.1]\n"
     ]
    },
    {
     "name": "stdout",
     "output_type": "stream",
     "text": [
      "<HDF5 group \"/session_190304_M10077\" (9 members)>\n",
      "decon\n",
      "0.5597222222222222\n"
     ]
    },
    {
     "name": "stderr",
     "output_type": "stream",
     "text": [
      "/Users/agos/Documents/Work/ColumbiaProjects/Data_NewDanFitting/Data/data_scripts/pyute.py:1069: RuntimeWarning: Mean of empty slice\n",
      "  tuning[:,itype] = np.nanmean(data[cell_criteria][:,these_trials],1)\n"
     ]
    },
    {
     "name": "stdout",
     "output_type": "stream",
     "text": [
      "<HDF5 group \"/session_190607_M10443\" (9 members)>\n",
      "decon\n",
      "0.14097222222222222\n"
     ]
    },
    {
     "name": "stderr",
     "output_type": "stream",
     "text": [
      "/Users/agos/Documents/Work/ColumbiaProjects/Data_NewDanFitting/Data/data_scripts/pyute.py:1069: RuntimeWarning: Mean of empty slice\n",
      "  tuning[:,itype] = np.nanmean(data[cell_criteria][:,these_trials],1)\n",
      "/Users/agos/Documents/Work/ColumbiaProjects/Data_NewDanFitting/Data/data_scripts/sim_utils.py:62: RuntimeWarning: invalid value encountered in less\n",
      "  rf_conditions = [ut.k_and(~np.isnan(X[:,0]),~np.isnan(y[:,0])),sqerror<0.75,sigma>3.3,pval[ikey]<0.1]\n"
     ]
    },
    {
     "name": "stdout",
     "output_type": "stream",
     "text": [
      "<HDF5 group \"/session_190620_M10616\" (9 members)>\n",
      "decon\n",
      "0.5431547619047619\n"
     ]
    },
    {
     "name": "stderr",
     "output_type": "stream",
     "text": [
      "/Users/agos/Documents/Work/ColumbiaProjects/Data_NewDanFitting/Data/data_scripts/pyute.py:1069: RuntimeWarning: Mean of empty slice\n",
      "  tuning[:,itype] = np.nanmean(data[cell_criteria][:,these_trials],1)\n"
     ]
    },
    {
     "name": "stdout",
     "output_type": "stream",
     "text": [
      "<HDF5 group \"/session_190620_M10619\" (9 members)>\n",
      "decon\n",
      "0.6006944444444444\n"
     ]
    },
    {
     "name": "stderr",
     "output_type": "stream",
     "text": [
      "/Users/agos/Documents/Work/ColumbiaProjects/Data_NewDanFitting/Data/data_scripts/pyute.py:1069: RuntimeWarning: Mean of empty slice\n",
      "  tuning[:,itype] = np.nanmean(data[cell_criteria][:,these_trials],1)\n",
      "/Users/agos/Documents/Work/ColumbiaProjects/Data_NewDanFitting/Data/data_scripts/sim_utils.py:62: RuntimeWarning: invalid value encountered in less\n",
      "  rf_conditions = [ut.k_and(~np.isnan(X[:,0]),~np.isnan(y[:,0])),sqerror<0.75,sigma>3.3,pval[ikey]<0.1]\n"
     ]
    },
    {
     "name": "stdout",
     "output_type": "stream",
     "text": [
      "<HDF5 group \"/session_190624_M10615\" (8 members)>\n",
      "decon\n",
      "0.08234126984126984\n"
     ]
    },
    {
     "name": "stderr",
     "output_type": "stream",
     "text": [
      "/Users/agos/Documents/Work/ColumbiaProjects/Data_NewDanFitting/Data/data_scripts/pyute.py:1069: RuntimeWarning: Mean of empty slice\n",
      "  tuning[:,itype] = np.nanmean(data[cell_criteria][:,these_trials],1)\n",
      "/Users/agos/Documents/Work/ColumbiaProjects/Data_NewDanFitting/Data/data_scripts/sim_utils.py:62: RuntimeWarning: invalid value encountered in less\n",
      "  rf_conditions = [ut.k_and(~np.isnan(X[:,0]),~np.isnan(y[:,0])),sqerror<0.75,sigma>3.3,pval[ikey]<0.1]\n"
     ]
    },
    {
     "name": "stdout",
     "output_type": "stream",
     "text": [
      "<HDF5 group \"/session_190627_M10616\" (9 members)>\n",
      "decon\n",
      "0.7876984126984127\n",
      "<HDF5 group \"/session_190701_M10615\" (8 members)>\n",
      "decon\n",
      "0.6691468253968254\n"
     ]
    },
    {
     "name": "stderr",
     "output_type": "stream",
     "text": [
      "/Users/agos/Documents/Work/ColumbiaProjects/Data_NewDanFitting/Data/data_scripts/sim_utils.py:62: RuntimeWarning: invalid value encountered in less\n",
      "  rf_conditions = [ut.k_and(~np.isnan(X[:,0]),~np.isnan(y[:,0])),sqerror<0.75,sigma>3.3,pval[ikey]<0.1]\n"
     ]
    },
    {
     "name": "stdout",
     "output_type": "stream",
     "text": [
      "<HDF5 group \"/session_191212_M0762\" (8 members)>\n",
      "decon\n",
      "0.8219246031746031\n",
      "/Users/agos/Documents/Work/ColumbiaProjects/Data_NewDanFitting/Data/RawData/DataLatest/pyr_l23_data_struct.hdf5\n",
      "<HDF5 group \"/session_181205_M10130\" (8 members)>\n",
      "decon\n",
      "0.7321428571428571\n",
      "<HDF5 group \"/session_181209_M8536\" (9 members)>\n",
      "decon\n",
      "0.8307142857142857\n"
     ]
    },
    {
     "name": "stderr",
     "output_type": "stream",
     "text": [
      "/Users/agos/Documents/Work/ColumbiaProjects/Data_NewDanFitting/Data/data_scripts/sim_utils.py:62: RuntimeWarning: invalid value encountered in less\n",
      "  rf_conditions = [ut.k_and(~np.isnan(X[:,0]),~np.isnan(y[:,0])),sqerror<0.75,sigma>3.3,pval[ikey]<0.1]\n"
     ]
    },
    {
     "name": "stdout",
     "output_type": "stream",
     "text": [
      "<HDF5 group \"/session_181213_M8536\" (8 members)>\n",
      "decon\n",
      "0.03857142857142857\n"
     ]
    },
    {
     "name": "stderr",
     "output_type": "stream",
     "text": [
      "/Users/agos/Documents/Work/ColumbiaProjects/Data_NewDanFitting/Data/data_scripts/pyute.py:1069: RuntimeWarning: Mean of empty slice\n",
      "  tuning[:,itype] = np.nanmean(data[cell_criteria][:,these_trials],1)\n"
     ]
    },
    {
     "name": "stdout",
     "output_type": "stream",
     "text": [
      "<HDF5 group \"/session_181214_M10130\" (8 members)>\n",
      "decon\n",
      "0.4142857142857143\n"
     ]
    },
    {
     "name": "stderr",
     "output_type": "stream",
     "text": [
      "/Users/agos/Documents/Work/ColumbiaProjects/Data_NewDanFitting/Data/data_scripts/pyute.py:1069: RuntimeWarning: Mean of empty slice\n",
      "  tuning[:,itype] = np.nanmean(data[cell_criteria][:,these_trials],1)\n",
      "/Users/agos/Documents/Work/ColumbiaProjects/Data_NewDanFitting/Data/data_scripts/sim_utils.py:62: RuntimeWarning: invalid value encountered in less\n",
      "  rf_conditions = [ut.k_and(~np.isnan(X[:,0]),~np.isnan(y[:,0])),sqerror<0.75,sigma>3.3,pval[ikey]<0.1]\n"
     ]
    },
    {
     "name": "stdout",
     "output_type": "stream",
     "text": [
      "<HDF5 group \"/session_190102_M10130\" (8 members)>\n",
      "decon\n",
      "0.44916666666666666\n",
      "<HDF5 group \"/session_190128_M8982\" (9 members)>\n",
      "decon\n",
      "0.9472222222222222\n"
     ]
    },
    {
     "name": "stderr",
     "output_type": "stream",
     "text": [
      "/Users/agos/Documents/Work/ColumbiaProjects/Data_NewDanFitting/Data/data_scripts/sim_utils.py:62: RuntimeWarning: invalid value encountered in less\n",
      "  rf_conditions = [ut.k_and(~np.isnan(X[:,0]),~np.isnan(y[:,0])),sqerror<0.75,sigma>3.3,pval[ikey]<0.1]\n"
     ]
    },
    {
     "name": "stdout",
     "output_type": "stream",
     "text": [
      "<HDF5 group \"/session_190130_M9667\" (9 members)>\n",
      "decon\n",
      "0.19027777777777777\n"
     ]
    },
    {
     "name": "stderr",
     "output_type": "stream",
     "text": [
      "/Users/agos/Documents/Work/ColumbiaProjects/Data_NewDanFitting/Data/data_scripts/pyute.py:1069: RuntimeWarning: Mean of empty slice\n",
      "  tuning[:,itype] = np.nanmean(data[cell_criteria][:,these_trials],1)\n",
      "/Users/agos/Documents/Work/ColumbiaProjects/Data_NewDanFitting/Data/data_scripts/sim_utils.py:62: RuntimeWarning: invalid value encountered in less\n",
      "  rf_conditions = [ut.k_and(~np.isnan(X[:,0]),~np.isnan(y[:,0])),sqerror<0.75,sigma>3.3,pval[ikey]<0.1]\n"
     ]
    },
    {
     "name": "stdout",
     "output_type": "stream",
     "text": [
      "<HDF5 group \"/session_190131_M9355\" (9 members)>\n",
      "decon\n",
      "0.9340277777777778\n"
     ]
    },
    {
     "name": "stderr",
     "output_type": "stream",
     "text": [
      "/Users/agos/Documents/Work/ColumbiaProjects/Data_NewDanFitting/Data/data_scripts/sim_utils.py:62: RuntimeWarning: invalid value encountered in less\n",
      "  rf_conditions = [ut.k_and(~np.isnan(X[:,0]),~np.isnan(y[:,0])),sqerror<0.75,sigma>3.3,pval[ikey]<0.1]\n"
     ]
    },
    {
     "name": "stdout",
     "output_type": "stream",
     "text": [
      "<HDF5 group \"/session_190208_M9355\" (9 members)>\n",
      "decon\n",
      "0.9506944444444444\n"
     ]
    },
    {
     "name": "stderr",
     "output_type": "stream",
     "text": [
      "/Users/agos/Documents/Work/ColumbiaProjects/Data_NewDanFitting/Data/data_scripts/sim_utils.py:62: RuntimeWarning: invalid value encountered in less\n",
      "  rf_conditions = [ut.k_and(~np.isnan(X[:,0]),~np.isnan(y[:,0])),sqerror<0.75,sigma>3.3,pval[ikey]<0.1]\n"
     ]
    },
    {
     "name": "stdout",
     "output_type": "stream",
     "text": [
      "<HDF5 group \"/session_190212_M8536\" (9 members)>\n",
      "decon\n",
      "0.2465277777777778\n"
     ]
    },
    {
     "name": "stderr",
     "output_type": "stream",
     "text": [
      "/Users/agos/Documents/Work/ColumbiaProjects/Data_NewDanFitting/Data/data_scripts/pyute.py:1069: RuntimeWarning: Mean of empty slice\n",
      "  tuning[:,itype] = np.nanmean(data[cell_criteria][:,these_trials],1)\n"
     ]
    },
    {
     "name": "stdout",
     "output_type": "stream",
     "text": [
      "<HDF5 group \"/session_191002_M0293\" (8 members)>\n",
      "decon\n",
      "0.8462301587301587\n"
     ]
    },
    {
     "name": "stderr",
     "output_type": "stream",
     "text": [
      "/Users/agos/Documents/Work/ColumbiaProjects/Data_NewDanFitting/Data/data_scripts/sim_utils.py:62: RuntimeWarning: invalid value encountered in less\n",
      "  rf_conditions = [ut.k_and(~np.isnan(X[:,0]),~np.isnan(y[:,0])),sqerror<0.75,sigma>3.3,pval[ikey]<0.1]\n"
     ]
    },
    {
     "name": "stdout",
     "output_type": "stream",
     "text": [
      "<HDF5 group \"/session_191108_M0403\" (8 members)>\n",
      "decon\n",
      "0.9970238095238095\n"
     ]
    },
    {
     "name": "stderr",
     "output_type": "stream",
     "text": [
      "/Users/agos/Documents/Work/ColumbiaProjects/Data_NewDanFitting/Data/data_scripts/sim_utils.py:62: RuntimeWarning: invalid value encountered in less\n",
      "  rf_conditions = [ut.k_and(~np.isnan(X[:,0]),~np.isnan(y[:,0])),sqerror<0.75,sigma>3.3,pval[ikey]<0.1]\n"
     ]
    },
    {
     "name": "stdout",
     "output_type": "stream",
     "text": [
      "/Users/agos/Documents/Work/ColumbiaProjects/Data_NewDanFitting/Data/RawData/DataLatest/pv_l23_data_struct.hdf5\n",
      "<HDF5 group \"/session_191105_M0589\" (12 members)>\n",
      "decon\n",
      "1.0\n"
     ]
    },
    {
     "name": "stderr",
     "output_type": "stream",
     "text": [
      "/Users/agos/Documents/Work/ColumbiaProjects/Data_NewDanFitting/Data/data_scripts/sim_utils.py:62: RuntimeWarning: invalid value encountered in less\n",
      "  rf_conditions = [ut.k_and(~np.isnan(X[:,0]),~np.isnan(y[:,0])),sqerror<0.75,sigma>3.3,pval[ikey]<0.1]\n"
     ]
    },
    {
     "name": "stdout",
     "output_type": "stream",
     "text": [
      "<HDF5 group \"/session_191220_M0589\" (12 members)>\n",
      "decon\n",
      "0.9995039682539683\n",
      "<HDF5 group \"/session_191229_M0892\" (12 members)>\n",
      "decon\n",
      "0.9995039682539683\n",
      "<HDF5 group \"/session_200102_M0892\" (12 members)>\n",
      "decon\n",
      "0.9350198412698413\n",
      "<HDF5 group \"/session_200108_M0891\" (12 members)>\n",
      "decon\n",
      "0.8606150793650794\n",
      "<HDF5 group \"/session_200620_M0891\" (13 members)>\n",
      "decon\n",
      "0.44543650793650796\n"
     ]
    },
    {
     "name": "stderr",
     "output_type": "stream",
     "text": [
      "/Users/agos/Documents/Work/ColumbiaProjects/Data_NewDanFitting/Data/data_scripts/pyute.py:1069: RuntimeWarning: Mean of empty slice\n",
      "  tuning[:,itype] = np.nanmean(data[cell_criteria][:,these_trials],1)\n"
     ]
    },
    {
     "name": "stdout",
     "output_type": "stream",
     "text": [
      "<HDF5 group \"/session_200621_M0893\" (13 members)>\n",
      "decon\n",
      "0.5277777777777778\n"
     ]
    },
    {
     "name": "stderr",
     "output_type": "stream",
     "text": [
      "/Users/agos/Documents/Work/ColumbiaProjects/Data_NewDanFitting/Data/data_scripts/pyute.py:1069: RuntimeWarning: Mean of empty slice\n",
      "  tuning[:,itype] = np.nanmean(data[cell_criteria][:,these_trials],1)\n"
     ]
    },
    {
     "name": "stdout",
     "output_type": "stream",
     "text": [
      "/Users/agos/Documents/Work/ColumbiaProjects/Data_NewDanFitting/Data/RawData/DataLatest/sst_l23_data_struct.hdf5\n",
      "<HDF5 group \"/session_180713_M9053\" (9 members)>\n",
      "decon\n",
      "0.19083333333333333\n"
     ]
    },
    {
     "name": "stderr",
     "output_type": "stream",
     "text": [
      "/Users/agos/Documents/Work/ColumbiaProjects/Data_NewDanFitting/Data/data_scripts/pyute.py:1069: RuntimeWarning: Mean of empty slice\n",
      "  tuning[:,itype] = np.nanmean(data[cell_criteria][:,these_trials],1)\n"
     ]
    },
    {
     "name": "stdout",
     "output_type": "stream",
     "text": [
      "<HDF5 group \"/session_180714_M9053\" (9 members)>\n",
      "decon\n",
      "0.15583333333333332\n"
     ]
    },
    {
     "name": "stderr",
     "output_type": "stream",
     "text": [
      "/Users/agos/Documents/Work/ColumbiaProjects/Data_NewDanFitting/Data/data_scripts/pyute.py:1069: RuntimeWarning: Mean of empty slice\n",
      "  tuning[:,itype] = np.nanmean(data[cell_criteria][:,these_trials],1)\n",
      "/Users/agos/Documents/Work/ColumbiaProjects/Data_NewDanFitting/Data/data_scripts/sim_utils.py:62: RuntimeWarning: invalid value encountered in less\n",
      "  rf_conditions = [ut.k_and(~np.isnan(X[:,0]),~np.isnan(y[:,0])),sqerror<0.75,sigma>3.3,pval[ikey]<0.1]\n",
      "/Users/agos/Documents/Work/ColumbiaProjects/Data_NewDanFitting/Data/data_scripts/pyute.py:1069: RuntimeWarning: Mean of empty slice\n",
      "  tuning[:,itype] = np.nanmean(data[cell_criteria][:,these_trials],1)\n"
     ]
    },
    {
     "name": "stdout",
     "output_type": "stream",
     "text": [
      "<HDF5 group \"/session_180802_M9053\" (8 members)>\n",
      "decon\n",
      "0.49166666666666664\n",
      "<HDF5 group \"/session_180821_M9417\" (9 members)>\n",
      "decon\n",
      "0.8525\n",
      "<HDF5 group \"/session_181117_M10039\" (9 members)>\n",
      "decon\n",
      "0.7892857142857143\n",
      "<HDF5 group \"/session_181120_M10039\" (8 members)>\n",
      "decon\n",
      "0.8571428571428571\n"
     ]
    },
    {
     "name": "stderr",
     "output_type": "stream",
     "text": [
      "/Users/agos/Documents/Work/ColumbiaProjects/Data_NewDanFitting/Data/data_scripts/sim_utils.py:62: RuntimeWarning: invalid value encountered in less\n",
      "  rf_conditions = [ut.k_and(~np.isnan(X[:,0]),~np.isnan(y[:,0])),sqerror<0.75,sigma>3.3,pval[ikey]<0.1]\n"
     ]
    },
    {
     "name": "stdout",
     "output_type": "stream",
     "text": [
      "<HDF5 group \"/session_181121_M10039\" (8 members)>\n",
      "decon\n",
      "0.9385714285714286\n",
      "<HDF5 group \"/session_191224_M0390\" (11 members)>\n",
      "decon\n",
      "0.9404761904761905\n",
      "/Users/agos/Documents/Work/ColumbiaProjects/Data_NewDanFitting/Data/RawData/DataLatest/vip_l23_data_struct.hdf5\n",
      "<HDF5 group \"/session_180321_M7955\" (8 members)>\n",
      "<HDF5 group \"/session_180412_M7955\" (8 members)>\n",
      "decon\n",
      "0.011\n"
     ]
    },
    {
     "name": "stderr",
     "output_type": "stream",
     "text": [
      "/Users/agos/Documents/Work/ColumbiaProjects/Data_NewDanFitting/Data/data_scripts/pyute.py:1069: RuntimeWarning: Mean of empty slice\n",
      "  tuning[:,itype] = np.nanmean(data[cell_criteria][:,these_trials],1)\n",
      "/Users/agos/Documents/Work/ColumbiaProjects/Data_NewDanFitting/Data/data_scripts/sim_utils.py:62: RuntimeWarning: invalid value encountered in less\n",
      "  rf_conditions = [ut.k_and(~np.isnan(X[:,0]),~np.isnan(y[:,0])),sqerror<0.75,sigma>3.3,pval[ikey]<0.1]\n",
      "/Users/agos/Documents/Work/ColumbiaProjects/Data_NewDanFitting/Data/data_scripts/pyute.py:1069: RuntimeWarning: Mean of empty slice\n",
      "  tuning[:,itype] = np.nanmean(data[cell_criteria][:,these_trials],1)\n"
     ]
    },
    {
     "name": "stdout",
     "output_type": "stream",
     "text": [
      "<HDF5 group \"/session_180516_M8956\" (9 members)>\n",
      "decon\n",
      "0.275\n",
      "<HDF5 group \"/session_180519_M8959\" (8 members)>\n",
      "decon\n",
      "0.0575\n"
     ]
    },
    {
     "name": "stderr",
     "output_type": "stream",
     "text": [
      "/Users/agos/Documents/Work/ColumbiaProjects/Data_NewDanFitting/Data/data_scripts/pyute.py:1069: RuntimeWarning: Mean of empty slice\n",
      "  tuning[:,itype] = np.nanmean(data[cell_criteria][:,these_trials],1)\n"
     ]
    },
    {
     "name": "stdout",
     "output_type": "stream",
     "text": [
      "<HDF5 group \"/session_180528_M8959\" (9 members)>\n",
      "decon\n",
      "0.3383333333333333\n"
     ]
    },
    {
     "name": "stderr",
     "output_type": "stream",
     "text": [
      "/Users/agos/Documents/Work/ColumbiaProjects/Data_NewDanFitting/Data/data_scripts/pyute.py:1069: RuntimeWarning: Mean of empty slice\n",
      "  tuning[:,itype] = np.nanmean(data[cell_criteria][:,these_trials],1)\n"
     ]
    },
    {
     "name": "stdout",
     "output_type": "stream",
     "text": [
      "<HDF5 group \"/session_180531_M8961\" (9 members)>\n",
      "decon\n",
      "0.3625\n"
     ]
    },
    {
     "name": "stderr",
     "output_type": "stream",
     "text": [
      "/Users/agos/Documents/Work/ColumbiaProjects/Data_NewDanFitting/Data/data_scripts/pyute.py:1069: RuntimeWarning: Mean of empty slice\n",
      "  tuning[:,itype] = np.nanmean(data[cell_criteria][:,these_trials],1)\n"
     ]
    },
    {
     "name": "stdout",
     "output_type": "stream",
     "text": [
      "<HDF5 group \"/session_180618_M8956\" (9 members)>\n",
      "decon\n",
      "0.004166666666666667\n"
     ]
    },
    {
     "name": "stderr",
     "output_type": "stream",
     "text": [
      "/Users/agos/Documents/Work/ColumbiaProjects/Data_NewDanFitting/Data/data_scripts/pyute.py:1069: RuntimeWarning: Mean of empty slice\n",
      "  tuning[:,itype] = np.nanmean(data[cell_criteria][:,these_trials],1)\n"
     ]
    },
    {
     "name": "stdout",
     "output_type": "stream",
     "text": [
      "<HDF5 group \"/session_180719_M8961\" (8 members)>\n",
      "decon\n",
      "0.9908333333333333\n",
      "<HDF5 group \"/session_180720_M8961\" (8 members)>\n",
      "decon\n",
      "0.9541666666666667\n",
      "<HDF5 group \"/session_180903_M8961\" (9 members)>\n",
      "decon\n",
      "0.16583333333333333\n"
     ]
    },
    {
     "name": "stderr",
     "output_type": "stream",
     "text": [
      "/Users/agos/Documents/Work/ColumbiaProjects/Data_NewDanFitting/Data/data_scripts/pyute.py:1069: RuntimeWarning: Mean of empty slice\n",
      "  tuning[:,itype] = np.nanmean(data[cell_criteria][:,these_trials],1)\n",
      "/Users/agos/Documents/Work/ColumbiaProjects/Data_NewDanFitting/Data/data_scripts/sim_utils.py:62: RuntimeWarning: invalid value encountered in less\n",
      "  rf_conditions = [ut.k_and(~np.isnan(X[:,0]),~np.isnan(y[:,0])),sqerror<0.75,sigma>3.3,pval[ikey]<0.1]\n"
     ]
    },
    {
     "name": "stdout",
     "output_type": "stream",
     "text": [
      "<HDF5 group \"/session_190710_M0208\" (9 members)>\n",
      "decon\n",
      "0.7237103174603174\n",
      "<HDF5 group \"/session_191215_M0385\" (9 members)>\n",
      "decon\n",
      "0.8100198412698413\n",
      "<HDF5 group \"/session_200103_M0388\" (9 members)>\n",
      "decon\n",
      "0.9191468253968254\n"
     ]
    },
    {
     "name": "stderr",
     "output_type": "stream",
     "text": [
      "/Users/agos/Documents/Work/ColumbiaProjects/Data_NewDanFitting/Data/data_scripts/sim_utils.py:163: RuntimeWarning: invalid value encountered in less\n",
      "  return np.logical_and(criterion(displacement),pval < pcutoff)\n",
      "/Users/agos/Documents/Work/ColumbiaProjects/Data_NewDanFitting/Data/data_scripts/sim_utils.py:143: FutureWarning: Using a non-tuple sequence for multidimensional indexing is deprecated; use `arr[tuple(seq)]` instead of `arr[seq]`. In the future this will be interpreted as an array index, `arr[np.array(seq)]`, which will result either in an error or a different result.\n",
      "  return np.nanmean(np.nanmean(arr[slicer],-1),-1)\n",
      "/Users/agos/anaconda3/lib/python3.6/site-packages/autograd/tracer.py:48: RuntimeWarning: Mean of empty slice\n",
      "  return f_raw(*args, **kwargs)\n"
     ]
    },
    {
     "name": "stdout",
     "output_type": "stream",
     "text": [
      "/Users/agos/Documents/Work/ColumbiaProjects/Data_NewDanFitting/Data/RawData/DataLatest/pyr_l4_data_struct.hdf5\n",
      "<HDF5 group \"/session_181127_M10073\" (8 members)>\n",
      "decon\n",
      "0.1742857142857143\n"
     ]
    },
    {
     "name": "stderr",
     "output_type": "stream",
     "text": [
      "/Users/agos/Documents/Work/ColumbiaProjects/Data_NewDanFitting/Data/data_scripts/pyute.py:1069: RuntimeWarning: Mean of empty slice\n",
      "  tuning[:,itype] = np.nanmean(data[cell_criteria][:,these_trials],1)\n",
      "/Users/agos/Documents/Work/ColumbiaProjects/Data_NewDanFitting/Data/data_scripts/sim_utils.py:62: RuntimeWarning: invalid value encountered in less\n",
      "  rf_conditions = [ut.k_and(~np.isnan(X[:,0]),~np.isnan(y[:,0])),sqerror<0.75,sigma>3.3,pval[ikey]<0.1]\n"
     ]
    },
    {
     "name": "stdout",
     "output_type": "stream",
     "text": [
      "<HDF5 group \"/session_190202_M10075\" (9 members)>\n",
      "decon\n",
      "0.39652777777777776\n"
     ]
    },
    {
     "name": "stderr",
     "output_type": "stream",
     "text": [
      "/Users/agos/Documents/Work/ColumbiaProjects/Data_NewDanFitting/Data/data_scripts/pyute.py:1069: RuntimeWarning: Mean of empty slice\n",
      "  tuning[:,itype] = np.nanmean(data[cell_criteria][:,these_trials],1)\n",
      "/Users/agos/Documents/Work/ColumbiaProjects/Data_NewDanFitting/Data/data_scripts/sim_utils.py:62: RuntimeWarning: invalid value encountered in less\n",
      "  rf_conditions = [ut.k_and(~np.isnan(X[:,0]),~np.isnan(y[:,0])),sqerror<0.75,sigma>3.3,pval[ikey]<0.1]\n"
     ]
    },
    {
     "name": "stdout",
     "output_type": "stream",
     "text": [
      "<HDF5 group \"/session_190304_M10077\" (9 members)>\n",
      "decon\n",
      "0.44027777777777777\n"
     ]
    },
    {
     "name": "stderr",
     "output_type": "stream",
     "text": [
      "/Users/agos/Documents/Work/ColumbiaProjects/Data_NewDanFitting/Data/data_scripts/pyute.py:1069: RuntimeWarning: Mean of empty slice\n",
      "  tuning[:,itype] = np.nanmean(data[cell_criteria][:,these_trials],1)\n"
     ]
    },
    {
     "name": "stdout",
     "output_type": "stream",
     "text": [
      "<HDF5 group \"/session_190607_M10443\" (9 members)>\n",
      "decon\n",
      "0.8590277777777777\n"
     ]
    },
    {
     "name": "stderr",
     "output_type": "stream",
     "text": [
      "/Users/agos/Documents/Work/ColumbiaProjects/Data_NewDanFitting/Data/data_scripts/sim_utils.py:62: RuntimeWarning: invalid value encountered in less\n",
      "  rf_conditions = [ut.k_and(~np.isnan(X[:,0]),~np.isnan(y[:,0])),sqerror<0.75,sigma>3.3,pval[ikey]<0.1]\n"
     ]
    },
    {
     "name": "stdout",
     "output_type": "stream",
     "text": [
      "<HDF5 group \"/session_190620_M10616\" (9 members)>\n",
      "decon\n",
      "0.4568452380952381\n"
     ]
    },
    {
     "name": "stderr",
     "output_type": "stream",
     "text": [
      "/Users/agos/Documents/Work/ColumbiaProjects/Data_NewDanFitting/Data/data_scripts/pyute.py:1069: RuntimeWarning: Mean of empty slice\n",
      "  tuning[:,itype] = np.nanmean(data[cell_criteria][:,these_trials],1)\n"
     ]
    },
    {
     "name": "stdout",
     "output_type": "stream",
     "text": [
      "<HDF5 group \"/session_190620_M10619\" (9 members)>\n",
      "decon\n",
      "0.3993055555555556\n"
     ]
    },
    {
     "name": "stderr",
     "output_type": "stream",
     "text": [
      "/Users/agos/Documents/Work/ColumbiaProjects/Data_NewDanFitting/Data/data_scripts/pyute.py:1069: RuntimeWarning: Mean of empty slice\n",
      "  tuning[:,itype] = np.nanmean(data[cell_criteria][:,these_trials],1)\n",
      "/Users/agos/Documents/Work/ColumbiaProjects/Data_NewDanFitting/Data/data_scripts/sim_utils.py:62: RuntimeWarning: invalid value encountered in less\n",
      "  rf_conditions = [ut.k_and(~np.isnan(X[:,0]),~np.isnan(y[:,0])),sqerror<0.75,sigma>3.3,pval[ikey]<0.1]\n"
     ]
    },
    {
     "name": "stdout",
     "output_type": "stream",
     "text": [
      "<HDF5 group \"/session_190624_M10615\" (8 members)>\n",
      "decon\n",
      "0.9176587301587301\n"
     ]
    },
    {
     "name": "stderr",
     "output_type": "stream",
     "text": [
      "/Users/agos/Documents/Work/ColumbiaProjects/Data_NewDanFitting/Data/data_scripts/sim_utils.py:62: RuntimeWarning: invalid value encountered in less\n",
      "  rf_conditions = [ut.k_and(~np.isnan(X[:,0]),~np.isnan(y[:,0])),sqerror<0.75,sigma>3.3,pval[ikey]<0.1]\n"
     ]
    },
    {
     "name": "stdout",
     "output_type": "stream",
     "text": [
      "<HDF5 group \"/session_190627_M10616\" (9 members)>\n",
      "decon\n",
      "0.2123015873015873\n"
     ]
    },
    {
     "name": "stderr",
     "output_type": "stream",
     "text": [
      "/Users/agos/Documents/Work/ColumbiaProjects/Data_NewDanFitting/Data/data_scripts/pyute.py:1069: RuntimeWarning: Mean of empty slice\n",
      "  tuning[:,itype] = np.nanmean(data[cell_criteria][:,these_trials],1)\n"
     ]
    },
    {
     "name": "stdout",
     "output_type": "stream",
     "text": [
      "<HDF5 group \"/session_190701_M10615\" (8 members)>\n",
      "decon\n",
      "0.3308531746031746\n"
     ]
    },
    {
     "name": "stderr",
     "output_type": "stream",
     "text": [
      "/Users/agos/Documents/Work/ColumbiaProjects/Data_NewDanFitting/Data/data_scripts/pyute.py:1069: RuntimeWarning: Mean of empty slice\n",
      "  tuning[:,itype] = np.nanmean(data[cell_criteria][:,these_trials],1)\n",
      "/Users/agos/Documents/Work/ColumbiaProjects/Data_NewDanFitting/Data/data_scripts/sim_utils.py:62: RuntimeWarning: invalid value encountered in less\n",
      "  rf_conditions = [ut.k_and(~np.isnan(X[:,0]),~np.isnan(y[:,0])),sqerror<0.75,sigma>3.3,pval[ikey]<0.1]\n"
     ]
    },
    {
     "name": "stdout",
     "output_type": "stream",
     "text": [
      "<HDF5 group \"/session_191212_M0762\" (8 members)>\n",
      "decon\n",
      "0.17807539682539683\n"
     ]
    },
    {
     "name": "stderr",
     "output_type": "stream",
     "text": [
      "/Users/agos/Documents/Work/ColumbiaProjects/Data_NewDanFitting/Data/data_scripts/pyute.py:1069: RuntimeWarning: Mean of empty slice\n",
      "  tuning[:,itype] = np.nanmean(data[cell_criteria][:,these_trials],1)\n"
     ]
    },
    {
     "name": "stdout",
     "output_type": "stream",
     "text": [
      "/Users/agos/Documents/Work/ColumbiaProjects/Data_NewDanFitting/Data/RawData/DataLatest/pyr_l23_data_struct.hdf5\n",
      "<HDF5 group \"/session_181205_M10130\" (8 members)>\n",
      "decon\n",
      "0.26785714285714285\n"
     ]
    },
    {
     "name": "stderr",
     "output_type": "stream",
     "text": [
      "/Users/agos/Documents/Work/ColumbiaProjects/Data_NewDanFitting/Data/data_scripts/pyute.py:1069: RuntimeWarning: Mean of empty slice\n",
      "  tuning[:,itype] = np.nanmean(data[cell_criteria][:,these_trials],1)\n"
     ]
    },
    {
     "name": "stdout",
     "output_type": "stream",
     "text": [
      "<HDF5 group \"/session_181209_M8536\" (9 members)>\n",
      "decon\n",
      "0.1692857142857143\n"
     ]
    },
    {
     "name": "stderr",
     "output_type": "stream",
     "text": [
      "/Users/agos/Documents/Work/ColumbiaProjects/Data_NewDanFitting/Data/data_scripts/pyute.py:1069: RuntimeWarning: Mean of empty slice\n",
      "  tuning[:,itype] = np.nanmean(data[cell_criteria][:,these_trials],1)\n",
      "/Users/agos/Documents/Work/ColumbiaProjects/Data_NewDanFitting/Data/data_scripts/sim_utils.py:62: RuntimeWarning: invalid value encountered in less\n",
      "  rf_conditions = [ut.k_and(~np.isnan(X[:,0]),~np.isnan(y[:,0])),sqerror<0.75,sigma>3.3,pval[ikey]<0.1]\n"
     ]
    },
    {
     "name": "stdout",
     "output_type": "stream",
     "text": [
      "<HDF5 group \"/session_181213_M8536\" (8 members)>\n",
      "decon\n",
      "0.9614285714285714\n",
      "<HDF5 group \"/session_181214_M10130\" (8 members)>\n",
      "decon\n",
      "0.5857142857142857\n"
     ]
    },
    {
     "name": "stderr",
     "output_type": "stream",
     "text": [
      "/Users/agos/Documents/Work/ColumbiaProjects/Data_NewDanFitting/Data/data_scripts/sim_utils.py:62: RuntimeWarning: invalid value encountered in less\n",
      "  rf_conditions = [ut.k_and(~np.isnan(X[:,0]),~np.isnan(y[:,0])),sqerror<0.75,sigma>3.3,pval[ikey]<0.1]\n"
     ]
    },
    {
     "name": "stdout",
     "output_type": "stream",
     "text": [
      "<HDF5 group \"/session_190102_M10130\" (8 members)>\n",
      "decon\n",
      "0.5508333333333333\n",
      "<HDF5 group \"/session_190128_M8982\" (9 members)>\n",
      "decon\n",
      "0.05277777777777778\n"
     ]
    },
    {
     "name": "stderr",
     "output_type": "stream",
     "text": [
      "/Users/agos/Documents/Work/ColumbiaProjects/Data_NewDanFitting/Data/data_scripts/pyute.py:1069: RuntimeWarning: Mean of empty slice\n",
      "  tuning[:,itype] = np.nanmean(data[cell_criteria][:,these_trials],1)\n",
      "/Users/agos/Documents/Work/ColumbiaProjects/Data_NewDanFitting/Data/data_scripts/sim_utils.py:62: RuntimeWarning: invalid value encountered in less\n",
      "  rf_conditions = [ut.k_and(~np.isnan(X[:,0]),~np.isnan(y[:,0])),sqerror<0.75,sigma>3.3,pval[ikey]<0.1]\n"
     ]
    },
    {
     "name": "stdout",
     "output_type": "stream",
     "text": [
      "<HDF5 group \"/session_190130_M9667\" (9 members)>\n",
      "decon\n",
      "0.8097222222222222\n"
     ]
    },
    {
     "name": "stderr",
     "output_type": "stream",
     "text": [
      "/Users/agos/Documents/Work/ColumbiaProjects/Data_NewDanFitting/Data/data_scripts/sim_utils.py:62: RuntimeWarning: invalid value encountered in less\n",
      "  rf_conditions = [ut.k_and(~np.isnan(X[:,0]),~np.isnan(y[:,0])),sqerror<0.75,sigma>3.3,pval[ikey]<0.1]\n"
     ]
    },
    {
     "name": "stdout",
     "output_type": "stream",
     "text": [
      "<HDF5 group \"/session_190131_M9355\" (9 members)>\n",
      "decon\n",
      "0.06597222222222222\n"
     ]
    },
    {
     "name": "stderr",
     "output_type": "stream",
     "text": [
      "/Users/agos/Documents/Work/ColumbiaProjects/Data_NewDanFitting/Data/data_scripts/pyute.py:1069: RuntimeWarning: Mean of empty slice\n",
      "  tuning[:,itype] = np.nanmean(data[cell_criteria][:,these_trials],1)\n",
      "/Users/agos/Documents/Work/ColumbiaProjects/Data_NewDanFitting/Data/data_scripts/sim_utils.py:62: RuntimeWarning: invalid value encountered in less\n",
      "  rf_conditions = [ut.k_and(~np.isnan(X[:,0]),~np.isnan(y[:,0])),sqerror<0.75,sigma>3.3,pval[ikey]<0.1]\n"
     ]
    },
    {
     "name": "stdout",
     "output_type": "stream",
     "text": [
      "<HDF5 group \"/session_190208_M9355\" (9 members)>\n",
      "decon\n",
      "0.049305555555555554\n"
     ]
    },
    {
     "name": "stderr",
     "output_type": "stream",
     "text": [
      "/Users/agos/Documents/Work/ColumbiaProjects/Data_NewDanFitting/Data/data_scripts/pyute.py:1069: RuntimeWarning: Mean of empty slice\n",
      "  tuning[:,itype] = np.nanmean(data[cell_criteria][:,these_trials],1)\n",
      "/Users/agos/Documents/Work/ColumbiaProjects/Data_NewDanFitting/Data/data_scripts/sim_utils.py:62: RuntimeWarning: invalid value encountered in less\n",
      "  rf_conditions = [ut.k_and(~np.isnan(X[:,0]),~np.isnan(y[:,0])),sqerror<0.75,sigma>3.3,pval[ikey]<0.1]\n"
     ]
    },
    {
     "name": "stdout",
     "output_type": "stream",
     "text": [
      "<HDF5 group \"/session_190212_M8536\" (9 members)>\n",
      "decon\n",
      "0.7534722222222222\n"
     ]
    },
    {
     "name": "stderr",
     "output_type": "stream",
     "text": [
      "/Users/agos/Documents/Work/ColumbiaProjects/Data_NewDanFitting/Data/data_scripts/pyute.py:1069: RuntimeWarning: Mean of empty slice\n",
      "  tuning[:,itype] = np.nanmean(data[cell_criteria][:,these_trials],1)\n"
     ]
    },
    {
     "name": "stdout",
     "output_type": "stream",
     "text": [
      "<HDF5 group \"/session_191002_M0293\" (8 members)>\n",
      "decon\n",
      "0.15376984126984128\n"
     ]
    },
    {
     "name": "stderr",
     "output_type": "stream",
     "text": [
      "/Users/agos/Documents/Work/ColumbiaProjects/Data_NewDanFitting/Data/data_scripts/pyute.py:1069: RuntimeWarning: Mean of empty slice\n",
      "  tuning[:,itype] = np.nanmean(data[cell_criteria][:,these_trials],1)\n",
      "/Users/agos/Documents/Work/ColumbiaProjects/Data_NewDanFitting/Data/data_scripts/sim_utils.py:62: RuntimeWarning: invalid value encountered in less\n",
      "  rf_conditions = [ut.k_and(~np.isnan(X[:,0]),~np.isnan(y[:,0])),sqerror<0.75,sigma>3.3,pval[ikey]<0.1]\n"
     ]
    },
    {
     "name": "stdout",
     "output_type": "stream",
     "text": [
      "<HDF5 group \"/session_191108_M0403\" (8 members)>\n",
      "decon\n",
      "0.002976190476190476\n"
     ]
    },
    {
     "name": "stderr",
     "output_type": "stream",
     "text": [
      "/Users/agos/Documents/Work/ColumbiaProjects/Data_NewDanFitting/Data/data_scripts/pyute.py:1069: RuntimeWarning: Mean of empty slice\n",
      "  tuning[:,itype] = np.nanmean(data[cell_criteria][:,these_trials],1)\n",
      "/Users/agos/Documents/Work/ColumbiaProjects/Data_NewDanFitting/Data/data_scripts/sim_utils.py:62: RuntimeWarning: invalid value encountered in less\n",
      "  rf_conditions = [ut.k_and(~np.isnan(X[:,0]),~np.isnan(y[:,0])),sqerror<0.75,sigma>3.3,pval[ikey]<0.1]\n"
     ]
    },
    {
     "name": "stdout",
     "output_type": "stream",
     "text": [
      "/Users/agos/Documents/Work/ColumbiaProjects/Data_NewDanFitting/Data/RawData/DataLatest/pv_l23_data_struct.hdf5\n",
      "<HDF5 group \"/session_191105_M0589\" (12 members)>\n",
      "decon\n",
      "0.0\n"
     ]
    },
    {
     "name": "stderr",
     "output_type": "stream",
     "text": [
      "/Users/agos/Documents/Work/ColumbiaProjects/Data_NewDanFitting/Data/data_scripts/pyute.py:1069: RuntimeWarning: Mean of empty slice\n",
      "  tuning[:,itype] = np.nanmean(data[cell_criteria][:,these_trials],1)\n",
      "/Users/agos/Documents/Work/ColumbiaProjects/Data_NewDanFitting/Data/data_scripts/sim_utils.py:62: RuntimeWarning: invalid value encountered in less\n",
      "  rf_conditions = [ut.k_and(~np.isnan(X[:,0]),~np.isnan(y[:,0])),sqerror<0.75,sigma>3.3,pval[ikey]<0.1]\n",
      "/Users/agos/Documents/Work/ColumbiaProjects/Data_NewDanFitting/Data/data_scripts/pyute.py:1069: RuntimeWarning: Mean of empty slice\n",
      "  tuning[:,itype] = np.nanmean(data[cell_criteria][:,these_trials],1)\n"
     ]
    },
    {
     "name": "stdout",
     "output_type": "stream",
     "text": [
      "<HDF5 group \"/session_191220_M0589\" (12 members)>\n",
      "decon\n",
      "0.000496031746031746\n",
      "<HDF5 group \"/session_191229_M0892\" (12 members)>\n",
      "decon\n",
      "0.000496031746031746\n"
     ]
    },
    {
     "name": "stderr",
     "output_type": "stream",
     "text": [
      "/Users/agos/Documents/Work/ColumbiaProjects/Data_NewDanFitting/Data/data_scripts/pyute.py:1069: RuntimeWarning: Mean of empty slice\n",
      "  tuning[:,itype] = np.nanmean(data[cell_criteria][:,these_trials],1)\n"
     ]
    },
    {
     "name": "stdout",
     "output_type": "stream",
     "text": [
      "<HDF5 group \"/session_200102_M0892\" (12 members)>\n",
      "decon\n",
      "0.06498015873015874\n"
     ]
    },
    {
     "name": "stderr",
     "output_type": "stream",
     "text": [
      "/Users/agos/Documents/Work/ColumbiaProjects/Data_NewDanFitting/Data/data_scripts/pyute.py:1069: RuntimeWarning: Mean of empty slice\n",
      "  tuning[:,itype] = np.nanmean(data[cell_criteria][:,these_trials],1)\n"
     ]
    },
    {
     "name": "stdout",
     "output_type": "stream",
     "text": [
      "<HDF5 group \"/session_200108_M0891\" (12 members)>\n",
      "decon\n",
      "0.13938492063492064\n"
     ]
    },
    {
     "name": "stderr",
     "output_type": "stream",
     "text": [
      "/Users/agos/Documents/Work/ColumbiaProjects/Data_NewDanFitting/Data/data_scripts/pyute.py:1069: RuntimeWarning: Mean of empty slice\n",
      "  tuning[:,itype] = np.nanmean(data[cell_criteria][:,these_trials],1)\n"
     ]
    },
    {
     "name": "stdout",
     "output_type": "stream",
     "text": [
      "<HDF5 group \"/session_200620_M0891\" (13 members)>\n",
      "decon\n",
      "0.5545634920634921\n"
     ]
    },
    {
     "name": "stderr",
     "output_type": "stream",
     "text": [
      "/Users/agos/Documents/Work/ColumbiaProjects/Data_NewDanFitting/Data/data_scripts/pyute.py:1069: RuntimeWarning: Mean of empty slice\n",
      "  tuning[:,itype] = np.nanmean(data[cell_criteria][:,these_trials],1)\n"
     ]
    },
    {
     "name": "stdout",
     "output_type": "stream",
     "text": [
      "<HDF5 group \"/session_200621_M0893\" (13 members)>\n",
      "decon\n",
      "0.4722222222222222\n"
     ]
    },
    {
     "name": "stderr",
     "output_type": "stream",
     "text": [
      "/Users/agos/Documents/Work/ColumbiaProjects/Data_NewDanFitting/Data/data_scripts/pyute.py:1069: RuntimeWarning: Mean of empty slice\n",
      "  tuning[:,itype] = np.nanmean(data[cell_criteria][:,these_trials],1)\n"
     ]
    },
    {
     "name": "stdout",
     "output_type": "stream",
     "text": [
      "/Users/agos/Documents/Work/ColumbiaProjects/Data_NewDanFitting/Data/RawData/DataLatest/sst_l23_data_struct.hdf5\n",
      "<HDF5 group \"/session_180713_M9053\" (9 members)>\n",
      "decon\n",
      "0.8091666666666667\n",
      "<HDF5 group \"/session_180714_M9053\" (9 members)>\n",
      "decon\n",
      "0.8441666666666666\n"
     ]
    },
    {
     "name": "stderr",
     "output_type": "stream",
     "text": [
      "/Users/agos/Documents/Work/ColumbiaProjects/Data_NewDanFitting/Data/data_scripts/sim_utils.py:62: RuntimeWarning: invalid value encountered in less\n",
      "  rf_conditions = [ut.k_and(~np.isnan(X[:,0]),~np.isnan(y[:,0])),sqerror<0.75,sigma>3.3,pval[ikey]<0.1]\n"
     ]
    },
    {
     "name": "stdout",
     "output_type": "stream",
     "text": [
      "<HDF5 group \"/session_180802_M9053\" (8 members)>\n",
      "decon\n",
      "0.5083333333333333\n"
     ]
    },
    {
     "name": "stderr",
     "output_type": "stream",
     "text": [
      "/Users/agos/Documents/Work/ColumbiaProjects/Data_NewDanFitting/Data/data_scripts/pyute.py:1069: RuntimeWarning: Mean of empty slice\n",
      "  tuning[:,itype] = np.nanmean(data[cell_criteria][:,these_trials],1)\n"
     ]
    },
    {
     "name": "stdout",
     "output_type": "stream",
     "text": [
      "<HDF5 group \"/session_180821_M9417\" (9 members)>\n",
      "decon\n",
      "0.1475\n"
     ]
    },
    {
     "name": "stderr",
     "output_type": "stream",
     "text": [
      "/Users/agos/Documents/Work/ColumbiaProjects/Data_NewDanFitting/Data/data_scripts/pyute.py:1069: RuntimeWarning: Mean of empty slice\n",
      "  tuning[:,itype] = np.nanmean(data[cell_criteria][:,these_trials],1)\n"
     ]
    },
    {
     "name": "stdout",
     "output_type": "stream",
     "text": [
      "<HDF5 group \"/session_181117_M10039\" (9 members)>\n",
      "decon\n",
      "0.21071428571428572\n"
     ]
    },
    {
     "name": "stderr",
     "output_type": "stream",
     "text": [
      "/Users/agos/Documents/Work/ColumbiaProjects/Data_NewDanFitting/Data/data_scripts/pyute.py:1069: RuntimeWarning: Mean of empty slice\n",
      "  tuning[:,itype] = np.nanmean(data[cell_criteria][:,these_trials],1)\n"
     ]
    },
    {
     "name": "stdout",
     "output_type": "stream",
     "text": [
      "<HDF5 group \"/session_181120_M10039\" (8 members)>\n",
      "decon\n",
      "0.14285714285714285\n"
     ]
    },
    {
     "name": "stderr",
     "output_type": "stream",
     "text": [
      "/Users/agos/Documents/Work/ColumbiaProjects/Data_NewDanFitting/Data/data_scripts/pyute.py:1069: RuntimeWarning: Mean of empty slice\n",
      "  tuning[:,itype] = np.nanmean(data[cell_criteria][:,these_trials],1)\n",
      "/Users/agos/Documents/Work/ColumbiaProjects/Data_NewDanFitting/Data/data_scripts/sim_utils.py:62: RuntimeWarning: invalid value encountered in less\n",
      "  rf_conditions = [ut.k_and(~np.isnan(X[:,0]),~np.isnan(y[:,0])),sqerror<0.75,sigma>3.3,pval[ikey]<0.1]\n",
      "/Users/agos/Documents/Work/ColumbiaProjects/Data_NewDanFitting/Data/data_scripts/pyute.py:1069: RuntimeWarning: Mean of empty slice\n",
      "  tuning[:,itype] = np.nanmean(data[cell_criteria][:,these_trials],1)\n"
     ]
    },
    {
     "name": "stdout",
     "output_type": "stream",
     "text": [
      "<HDF5 group \"/session_181121_M10039\" (8 members)>\n",
      "decon\n",
      "0.06142857142857143\n",
      "<HDF5 group \"/session_191224_M0390\" (11 members)>\n",
      "decon\n",
      "0.05952380952380952\n"
     ]
    },
    {
     "name": "stderr",
     "output_type": "stream",
     "text": [
      "/Users/agos/Documents/Work/ColumbiaProjects/Data_NewDanFitting/Data/data_scripts/pyute.py:1069: RuntimeWarning: Mean of empty slice\n",
      "  tuning[:,itype] = np.nanmean(data[cell_criteria][:,these_trials],1)\n"
     ]
    },
    {
     "name": "stdout",
     "output_type": "stream",
     "text": [
      "/Users/agos/Documents/Work/ColumbiaProjects/Data_NewDanFitting/Data/RawData/DataLatest/vip_l23_data_struct.hdf5\n",
      "<HDF5 group \"/session_180321_M7955\" (8 members)>\n",
      "<HDF5 group \"/session_180412_M7955\" (8 members)>\n",
      "decon\n",
      "0.989\n"
     ]
    },
    {
     "name": "stderr",
     "output_type": "stream",
     "text": [
      "/Users/agos/Documents/Work/ColumbiaProjects/Data_NewDanFitting/Data/data_scripts/sim_utils.py:62: RuntimeWarning: invalid value encountered in less\n",
      "  rf_conditions = [ut.k_and(~np.isnan(X[:,0]),~np.isnan(y[:,0])),sqerror<0.75,sigma>3.3,pval[ikey]<0.1]\n"
     ]
    },
    {
     "name": "stdout",
     "output_type": "stream",
     "text": [
      "<HDF5 group \"/session_180516_M8956\" (9 members)>\n",
      "decon\n",
      "0.725\n",
      "<HDF5 group \"/session_180519_M8959\" (8 members)>\n",
      "decon\n",
      "0.9425\n",
      "<HDF5 group \"/session_180528_M8959\" (9 members)>\n",
      "decon\n",
      "0.6616666666666666\n"
     ]
    },
    {
     "name": "stderr",
     "output_type": "stream",
     "text": [
      "/Users/agos/Documents/Work/ColumbiaProjects/Data_NewDanFitting/Data/data_scripts/pyute.py:1069: RuntimeWarning: Mean of empty slice\n",
      "  tuning[:,itype] = np.nanmean(data[cell_criteria][:,these_trials],1)\n"
     ]
    },
    {
     "name": "stdout",
     "output_type": "stream",
     "text": [
      "<HDF5 group \"/session_180531_M8961\" (9 members)>\n",
      "decon\n",
      "0.6375\n"
     ]
    },
    {
     "name": "stderr",
     "output_type": "stream",
     "text": [
      "/Users/agos/Documents/Work/ColumbiaProjects/Data_NewDanFitting/Data/data_scripts/pyute.py:1069: RuntimeWarning: Mean of empty slice\n",
      "  tuning[:,itype] = np.nanmean(data[cell_criteria][:,these_trials],1)\n"
     ]
    },
    {
     "name": "stdout",
     "output_type": "stream",
     "text": [
      "<HDF5 group \"/session_180618_M8956\" (9 members)>\n",
      "decon\n",
      "0.9958333333333333\n",
      "<HDF5 group \"/session_180719_M8961\" (8 members)>\n",
      "decon\n",
      "0.009166666666666667\n"
     ]
    },
    {
     "name": "stderr",
     "output_type": "stream",
     "text": [
      "/Users/agos/Documents/Work/ColumbiaProjects/Data_NewDanFitting/Data/data_scripts/pyute.py:1069: RuntimeWarning: Mean of empty slice\n",
      "  tuning[:,itype] = np.nanmean(data[cell_criteria][:,these_trials],1)\n"
     ]
    },
    {
     "name": "stdout",
     "output_type": "stream",
     "text": [
      "<HDF5 group \"/session_180720_M8961\" (8 members)>\n",
      "decon\n",
      "0.04583333333333333\n"
     ]
    },
    {
     "name": "stderr",
     "output_type": "stream",
     "text": [
      "/Users/agos/Documents/Work/ColumbiaProjects/Data_NewDanFitting/Data/data_scripts/pyute.py:1069: RuntimeWarning: Mean of empty slice\n",
      "  tuning[:,itype] = np.nanmean(data[cell_criteria][:,these_trials],1)\n"
     ]
    },
    {
     "name": "stdout",
     "output_type": "stream",
     "text": [
      "<HDF5 group \"/session_180903_M8961\" (9 members)>\n",
      "decon\n",
      "0.8341666666666666\n"
     ]
    },
    {
     "name": "stderr",
     "output_type": "stream",
     "text": [
      "/Users/agos/Documents/Work/ColumbiaProjects/Data_NewDanFitting/Data/data_scripts/sim_utils.py:62: RuntimeWarning: invalid value encountered in less\n",
      "  rf_conditions = [ut.k_and(~np.isnan(X[:,0]),~np.isnan(y[:,0])),sqerror<0.75,sigma>3.3,pval[ikey]<0.1]\n"
     ]
    },
    {
     "name": "stdout",
     "output_type": "stream",
     "text": [
      "<HDF5 group \"/session_190710_M0208\" (9 members)>\n",
      "decon\n",
      "0.27628968253968256\n"
     ]
    },
    {
     "name": "stderr",
     "output_type": "stream",
     "text": [
      "/Users/agos/Documents/Work/ColumbiaProjects/Data_NewDanFitting/Data/data_scripts/pyute.py:1069: RuntimeWarning: Mean of empty slice\n",
      "  tuning[:,itype] = np.nanmean(data[cell_criteria][:,these_trials],1)\n"
     ]
    },
    {
     "name": "stdout",
     "output_type": "stream",
     "text": [
      "<HDF5 group \"/session_191215_M0385\" (9 members)>\n",
      "decon\n",
      "0.18998015873015872\n"
     ]
    },
    {
     "name": "stderr",
     "output_type": "stream",
     "text": [
      "/Users/agos/Documents/Work/ColumbiaProjects/Data_NewDanFitting/Data/data_scripts/pyute.py:1069: RuntimeWarning: Mean of empty slice\n",
      "  tuning[:,itype] = np.nanmean(data[cell_criteria][:,these_trials],1)\n"
     ]
    },
    {
     "name": "stdout",
     "output_type": "stream",
     "text": [
      "<HDF5 group \"/session_200103_M0388\" (9 members)>\n",
      "decon\n",
      "0.08085317460317461\n"
     ]
    },
    {
     "name": "stderr",
     "output_type": "stream",
     "text": [
      "/Users/agos/Documents/Work/ColumbiaProjects/Data_NewDanFitting/Data/data_scripts/pyute.py:1069: RuntimeWarning: Mean of empty slice\n",
      "  tuning[:,itype] = np.nanmean(data[cell_criteria][:,these_trials],1)\n",
      "/Users/agos/Documents/Work/ColumbiaProjects/Data_NewDanFitting/Data/data_scripts/sim_utils.py:163: RuntimeWarning: invalid value encountered in less\n",
      "  return np.logical_and(criterion(displacement),pval < pcutoff)\n",
      "/Users/agos/Documents/Work/ColumbiaProjects/Data_NewDanFitting/Data/data_scripts/sim_utils.py:143: FutureWarning: Using a non-tuple sequence for multidimensional indexing is deprecated; use `arr[tuple(seq)]` instead of `arr[seq]`. In the future this will be interpreted as an array index, `arr[np.array(seq)]`, which will result either in an error or a different result.\n",
      "  return np.nanmean(np.nanmean(arr[slicer],-1),-1)\n",
      "/Users/agos/anaconda3/lib/python3.6/site-packages/autograd/tracer.py:48: RuntimeWarning: Mean of empty slice\n",
      "  return f_raw(*args, **kwargs)\n"
     ]
    },
    {
     "name": "stdout",
     "output_type": "stream",
     "text": [
      "/Users/agos/Documents/Work/ColumbiaProjects/Data_NewDanFitting/Data/RawData/DataLatest/pyr_l4_data_struct.hdf5\n",
      "<HDF5 group \"/session_181127_M10073\" (8 members)>\n",
      "decon\n",
      "0.8257142857142857\n"
     ]
    },
    {
     "name": "stderr",
     "output_type": "stream",
     "text": [
      "/Users/agos/Documents/Work/ColumbiaProjects/Data_NewDanFitting/Data/data_scripts/sim_utils.py:62: RuntimeWarning: invalid value encountered in less\n",
      "  rf_conditions = [ut.k_and(~np.isnan(X[:,0]),~np.isnan(y[:,0])),sqerror<0.75,sigma>3.3,pval[ikey]<0.1]\n"
     ]
    },
    {
     "name": "stdout",
     "output_type": "stream",
     "text": [
      "<HDF5 group \"/session_190202_M10075\" (9 members)>\n",
      "decon\n",
      "0.6034722222222222\n"
     ]
    },
    {
     "name": "stderr",
     "output_type": "stream",
     "text": [
      "/Users/agos/Documents/Work/ColumbiaProjects/Data_NewDanFitting/Data/data_scripts/sim_utils.py:62: RuntimeWarning: invalid value encountered in less\n",
      "  rf_conditions = [ut.k_and(~np.isnan(X[:,0]),~np.isnan(y[:,0])),sqerror<0.75,sigma>3.3,pval[ikey]<0.1]\n"
     ]
    },
    {
     "name": "stdout",
     "output_type": "stream",
     "text": [
      "<HDF5 group \"/session_190304_M10077\" (9 members)>\n",
      "decon\n",
      "0.5597222222222222\n"
     ]
    },
    {
     "name": "stderr",
     "output_type": "stream",
     "text": [
      "/Users/agos/Documents/Work/ColumbiaProjects/Data_NewDanFitting/Data/data_scripts/pyute.py:1069: RuntimeWarning: Mean of empty slice\n",
      "  tuning[:,itype] = np.nanmean(data[cell_criteria][:,these_trials],1)\n"
     ]
    },
    {
     "name": "stdout",
     "output_type": "stream",
     "text": [
      "<HDF5 group \"/session_190607_M10443\" (9 members)>\n",
      "decon\n",
      "0.14097222222222222\n"
     ]
    },
    {
     "name": "stderr",
     "output_type": "stream",
     "text": [
      "/Users/agos/Documents/Work/ColumbiaProjects/Data_NewDanFitting/Data/data_scripts/pyute.py:1069: RuntimeWarning: Mean of empty slice\n",
      "  tuning[:,itype] = np.nanmean(data[cell_criteria][:,these_trials],1)\n",
      "/Users/agos/Documents/Work/ColumbiaProjects/Data_NewDanFitting/Data/data_scripts/sim_utils.py:62: RuntimeWarning: invalid value encountered in less\n",
      "  rf_conditions = [ut.k_and(~np.isnan(X[:,0]),~np.isnan(y[:,0])),sqerror<0.75,sigma>3.3,pval[ikey]<0.1]\n"
     ]
    },
    {
     "name": "stdout",
     "output_type": "stream",
     "text": [
      "<HDF5 group \"/session_190620_M10616\" (9 members)>\n",
      "decon\n",
      "0.5431547619047619\n"
     ]
    },
    {
     "name": "stderr",
     "output_type": "stream",
     "text": [
      "/Users/agos/Documents/Work/ColumbiaProjects/Data_NewDanFitting/Data/data_scripts/pyute.py:1069: RuntimeWarning: Mean of empty slice\n",
      "  tuning[:,itype] = np.nanmean(data[cell_criteria][:,these_trials],1)\n"
     ]
    },
    {
     "name": "stdout",
     "output_type": "stream",
     "text": [
      "<HDF5 group \"/session_190620_M10619\" (9 members)>\n",
      "decon\n",
      "0.6006944444444444\n"
     ]
    },
    {
     "name": "stderr",
     "output_type": "stream",
     "text": [
      "/Users/agos/Documents/Work/ColumbiaProjects/Data_NewDanFitting/Data/data_scripts/pyute.py:1069: RuntimeWarning: Mean of empty slice\n",
      "  tuning[:,itype] = np.nanmean(data[cell_criteria][:,these_trials],1)\n",
      "/Users/agos/Documents/Work/ColumbiaProjects/Data_NewDanFitting/Data/data_scripts/sim_utils.py:62: RuntimeWarning: invalid value encountered in less\n",
      "  rf_conditions = [ut.k_and(~np.isnan(X[:,0]),~np.isnan(y[:,0])),sqerror<0.75,sigma>3.3,pval[ikey]<0.1]\n"
     ]
    },
    {
     "name": "stdout",
     "output_type": "stream",
     "text": [
      "<HDF5 group \"/session_190624_M10615\" (8 members)>\n",
      "decon\n",
      "0.08234126984126984\n"
     ]
    },
    {
     "name": "stderr",
     "output_type": "stream",
     "text": [
      "/Users/agos/Documents/Work/ColumbiaProjects/Data_NewDanFitting/Data/data_scripts/pyute.py:1069: RuntimeWarning: Mean of empty slice\n",
      "  tuning[:,itype] = np.nanmean(data[cell_criteria][:,these_trials],1)\n",
      "/Users/agos/Documents/Work/ColumbiaProjects/Data_NewDanFitting/Data/data_scripts/sim_utils.py:62: RuntimeWarning: invalid value encountered in less\n",
      "  rf_conditions = [ut.k_and(~np.isnan(X[:,0]),~np.isnan(y[:,0])),sqerror<0.75,sigma>3.3,pval[ikey]<0.1]\n"
     ]
    },
    {
     "name": "stdout",
     "output_type": "stream",
     "text": [
      "<HDF5 group \"/session_190627_M10616\" (9 members)>\n",
      "decon\n",
      "0.7876984126984127\n",
      "<HDF5 group \"/session_190701_M10615\" (8 members)>\n",
      "decon\n",
      "0.6691468253968254\n"
     ]
    },
    {
     "name": "stderr",
     "output_type": "stream",
     "text": [
      "/Users/agos/Documents/Work/ColumbiaProjects/Data_NewDanFitting/Data/data_scripts/sim_utils.py:62: RuntimeWarning: invalid value encountered in less\n",
      "  rf_conditions = [ut.k_and(~np.isnan(X[:,0]),~np.isnan(y[:,0])),sqerror<0.75,sigma>3.3,pval[ikey]<0.1]\n"
     ]
    },
    {
     "name": "stdout",
     "output_type": "stream",
     "text": [
      "<HDF5 group \"/session_191212_M0762\" (8 members)>\n",
      "decon\n",
      "0.8219246031746031\n",
      "/Users/agos/Documents/Work/ColumbiaProjects/Data_NewDanFitting/Data/RawData/DataLatest/pyr_l23_data_struct.hdf5\n",
      "<HDF5 group \"/session_181205_M10130\" (8 members)>\n",
      "decon\n",
      "0.7321428571428571\n",
      "<HDF5 group \"/session_181209_M8536\" (9 members)>\n",
      "decon\n",
      "0.8307142857142857\n"
     ]
    },
    {
     "name": "stderr",
     "output_type": "stream",
     "text": [
      "/Users/agos/Documents/Work/ColumbiaProjects/Data_NewDanFitting/Data/data_scripts/sim_utils.py:62: RuntimeWarning: invalid value encountered in less\n",
      "  rf_conditions = [ut.k_and(~np.isnan(X[:,0]),~np.isnan(y[:,0])),sqerror<0.75,sigma>3.3,pval[ikey]<0.1]\n"
     ]
    },
    {
     "name": "stdout",
     "output_type": "stream",
     "text": [
      "<HDF5 group \"/session_181213_M8536\" (8 members)>\n",
      "decon\n",
      "0.03857142857142857\n"
     ]
    },
    {
     "name": "stderr",
     "output_type": "stream",
     "text": [
      "/Users/agos/Documents/Work/ColumbiaProjects/Data_NewDanFitting/Data/data_scripts/pyute.py:1069: RuntimeWarning: Mean of empty slice\n",
      "  tuning[:,itype] = np.nanmean(data[cell_criteria][:,these_trials],1)\n"
     ]
    },
    {
     "name": "stdout",
     "output_type": "stream",
     "text": [
      "<HDF5 group \"/session_181214_M10130\" (8 members)>\n",
      "decon\n",
      "0.4142857142857143\n"
     ]
    },
    {
     "name": "stderr",
     "output_type": "stream",
     "text": [
      "/Users/agos/Documents/Work/ColumbiaProjects/Data_NewDanFitting/Data/data_scripts/pyute.py:1069: RuntimeWarning: Mean of empty slice\n",
      "  tuning[:,itype] = np.nanmean(data[cell_criteria][:,these_trials],1)\n",
      "/Users/agos/Documents/Work/ColumbiaProjects/Data_NewDanFitting/Data/data_scripts/sim_utils.py:62: RuntimeWarning: invalid value encountered in less\n",
      "  rf_conditions = [ut.k_and(~np.isnan(X[:,0]),~np.isnan(y[:,0])),sqerror<0.75,sigma>3.3,pval[ikey]<0.1]\n"
     ]
    },
    {
     "name": "stdout",
     "output_type": "stream",
     "text": [
      "<HDF5 group \"/session_190102_M10130\" (8 members)>\n",
      "decon\n",
      "0.44916666666666666\n",
      "<HDF5 group \"/session_190128_M8982\" (9 members)>\n",
      "decon\n",
      "0.9472222222222222\n"
     ]
    },
    {
     "name": "stderr",
     "output_type": "stream",
     "text": [
      "/Users/agos/Documents/Work/ColumbiaProjects/Data_NewDanFitting/Data/data_scripts/sim_utils.py:62: RuntimeWarning: invalid value encountered in less\n",
      "  rf_conditions = [ut.k_and(~np.isnan(X[:,0]),~np.isnan(y[:,0])),sqerror<0.75,sigma>3.3,pval[ikey]<0.1]\n"
     ]
    },
    {
     "name": "stdout",
     "output_type": "stream",
     "text": [
      "<HDF5 group \"/session_190130_M9667\" (9 members)>\n",
      "decon\n",
      "0.19027777777777777\n"
     ]
    },
    {
     "name": "stderr",
     "output_type": "stream",
     "text": [
      "/Users/agos/Documents/Work/ColumbiaProjects/Data_NewDanFitting/Data/data_scripts/pyute.py:1069: RuntimeWarning: Mean of empty slice\n",
      "  tuning[:,itype] = np.nanmean(data[cell_criteria][:,these_trials],1)\n",
      "/Users/agos/Documents/Work/ColumbiaProjects/Data_NewDanFitting/Data/data_scripts/sim_utils.py:62: RuntimeWarning: invalid value encountered in less\n",
      "  rf_conditions = [ut.k_and(~np.isnan(X[:,0]),~np.isnan(y[:,0])),sqerror<0.75,sigma>3.3,pval[ikey]<0.1]\n"
     ]
    },
    {
     "name": "stdout",
     "output_type": "stream",
     "text": [
      "<HDF5 group \"/session_190131_M9355\" (9 members)>\n",
      "decon\n",
      "0.9340277777777778\n"
     ]
    },
    {
     "name": "stderr",
     "output_type": "stream",
     "text": [
      "/Users/agos/Documents/Work/ColumbiaProjects/Data_NewDanFitting/Data/data_scripts/sim_utils.py:62: RuntimeWarning: invalid value encountered in less\n",
      "  rf_conditions = [ut.k_and(~np.isnan(X[:,0]),~np.isnan(y[:,0])),sqerror<0.75,sigma>3.3,pval[ikey]<0.1]\n"
     ]
    },
    {
     "name": "stdout",
     "output_type": "stream",
     "text": [
      "<HDF5 group \"/session_190208_M9355\" (9 members)>\n",
      "decon\n",
      "0.9506944444444444\n"
     ]
    },
    {
     "name": "stderr",
     "output_type": "stream",
     "text": [
      "/Users/agos/Documents/Work/ColumbiaProjects/Data_NewDanFitting/Data/data_scripts/sim_utils.py:62: RuntimeWarning: invalid value encountered in less\n",
      "  rf_conditions = [ut.k_and(~np.isnan(X[:,0]),~np.isnan(y[:,0])),sqerror<0.75,sigma>3.3,pval[ikey]<0.1]\n"
     ]
    },
    {
     "name": "stdout",
     "output_type": "stream",
     "text": [
      "<HDF5 group \"/session_190212_M8536\" (9 members)>\n",
      "decon\n",
      "0.2465277777777778\n"
     ]
    },
    {
     "name": "stderr",
     "output_type": "stream",
     "text": [
      "/Users/agos/Documents/Work/ColumbiaProjects/Data_NewDanFitting/Data/data_scripts/pyute.py:1069: RuntimeWarning: Mean of empty slice\n",
      "  tuning[:,itype] = np.nanmean(data[cell_criteria][:,these_trials],1)\n"
     ]
    },
    {
     "name": "stdout",
     "output_type": "stream",
     "text": [
      "<HDF5 group \"/session_191002_M0293\" (8 members)>\n",
      "decon\n",
      "0.8462301587301587\n"
     ]
    },
    {
     "name": "stderr",
     "output_type": "stream",
     "text": [
      "/Users/agos/Documents/Work/ColumbiaProjects/Data_NewDanFitting/Data/data_scripts/sim_utils.py:62: RuntimeWarning: invalid value encountered in less\n",
      "  rf_conditions = [ut.k_and(~np.isnan(X[:,0]),~np.isnan(y[:,0])),sqerror<0.75,sigma>3.3,pval[ikey]<0.1]\n"
     ]
    },
    {
     "name": "stdout",
     "output_type": "stream",
     "text": [
      "<HDF5 group \"/session_191108_M0403\" (8 members)>\n",
      "decon\n",
      "0.9970238095238095\n"
     ]
    },
    {
     "name": "stderr",
     "output_type": "stream",
     "text": [
      "/Users/agos/Documents/Work/ColumbiaProjects/Data_NewDanFitting/Data/data_scripts/sim_utils.py:62: RuntimeWarning: invalid value encountered in less\n",
      "  rf_conditions = [ut.k_and(~np.isnan(X[:,0]),~np.isnan(y[:,0])),sqerror<0.75,sigma>3.3,pval[ikey]<0.1]\n"
     ]
    },
    {
     "name": "stdout",
     "output_type": "stream",
     "text": [
      "/Users/agos/Documents/Work/ColumbiaProjects/Data_NewDanFitting/Data/RawData/DataLatest/pv_l23_data_struct.hdf5\n",
      "<HDF5 group \"/session_191105_M0589\" (12 members)>\n",
      "decon\n",
      "1.0\n"
     ]
    },
    {
     "name": "stderr",
     "output_type": "stream",
     "text": [
      "/Users/agos/Documents/Work/ColumbiaProjects/Data_NewDanFitting/Data/data_scripts/sim_utils.py:62: RuntimeWarning: invalid value encountered in less\n",
      "  rf_conditions = [ut.k_and(~np.isnan(X[:,0]),~np.isnan(y[:,0])),sqerror<0.75,sigma>3.3,pval[ikey]<0.1]\n"
     ]
    },
    {
     "name": "stdout",
     "output_type": "stream",
     "text": [
      "<HDF5 group \"/session_191220_M0589\" (12 members)>\n",
      "decon\n",
      "0.9995039682539683\n",
      "<HDF5 group \"/session_191229_M0892\" (12 members)>\n",
      "decon\n",
      "0.9995039682539683\n",
      "<HDF5 group \"/session_200102_M0892\" (12 members)>\n",
      "decon\n",
      "0.9350198412698413\n",
      "<HDF5 group \"/session_200108_M0891\" (12 members)>\n",
      "decon\n",
      "0.8606150793650794\n",
      "<HDF5 group \"/session_200620_M0891\" (13 members)>\n",
      "decon\n",
      "0.44543650793650796\n"
     ]
    },
    {
     "name": "stderr",
     "output_type": "stream",
     "text": [
      "/Users/agos/Documents/Work/ColumbiaProjects/Data_NewDanFitting/Data/data_scripts/pyute.py:1069: RuntimeWarning: Mean of empty slice\n",
      "  tuning[:,itype] = np.nanmean(data[cell_criteria][:,these_trials],1)\n"
     ]
    },
    {
     "name": "stdout",
     "output_type": "stream",
     "text": [
      "<HDF5 group \"/session_200621_M0893\" (13 members)>\n",
      "decon\n",
      "0.5277777777777778\n"
     ]
    },
    {
     "name": "stderr",
     "output_type": "stream",
     "text": [
      "/Users/agos/Documents/Work/ColumbiaProjects/Data_NewDanFitting/Data/data_scripts/pyute.py:1069: RuntimeWarning: Mean of empty slice\n",
      "  tuning[:,itype] = np.nanmean(data[cell_criteria][:,these_trials],1)\n"
     ]
    },
    {
     "name": "stdout",
     "output_type": "stream",
     "text": [
      "/Users/agos/Documents/Work/ColumbiaProjects/Data_NewDanFitting/Data/RawData/DataLatest/sst_l23_data_struct.hdf5\n",
      "<HDF5 group \"/session_180713_M9053\" (9 members)>\n",
      "decon\n",
      "0.19083333333333333\n"
     ]
    },
    {
     "name": "stderr",
     "output_type": "stream",
     "text": [
      "/Users/agos/Documents/Work/ColumbiaProjects/Data_NewDanFitting/Data/data_scripts/pyute.py:1069: RuntimeWarning: Mean of empty slice\n",
      "  tuning[:,itype] = np.nanmean(data[cell_criteria][:,these_trials],1)\n"
     ]
    },
    {
     "name": "stdout",
     "output_type": "stream",
     "text": [
      "<HDF5 group \"/session_180714_M9053\" (9 members)>\n",
      "decon\n",
      "0.15583333333333332\n"
     ]
    },
    {
     "name": "stderr",
     "output_type": "stream",
     "text": [
      "/Users/agos/Documents/Work/ColumbiaProjects/Data_NewDanFitting/Data/data_scripts/pyute.py:1069: RuntimeWarning: Mean of empty slice\n",
      "  tuning[:,itype] = np.nanmean(data[cell_criteria][:,these_trials],1)\n",
      "/Users/agos/Documents/Work/ColumbiaProjects/Data_NewDanFitting/Data/data_scripts/sim_utils.py:62: RuntimeWarning: invalid value encountered in less\n",
      "  rf_conditions = [ut.k_and(~np.isnan(X[:,0]),~np.isnan(y[:,0])),sqerror<0.75,sigma>3.3,pval[ikey]<0.1]\n",
      "/Users/agos/Documents/Work/ColumbiaProjects/Data_NewDanFitting/Data/data_scripts/pyute.py:1069: RuntimeWarning: Mean of empty slice\n",
      "  tuning[:,itype] = np.nanmean(data[cell_criteria][:,these_trials],1)\n"
     ]
    },
    {
     "name": "stdout",
     "output_type": "stream",
     "text": [
      "<HDF5 group \"/session_180802_M9053\" (8 members)>\n",
      "decon\n",
      "0.49166666666666664\n",
      "<HDF5 group \"/session_180821_M9417\" (9 members)>\n",
      "decon\n",
      "0.8525\n",
      "<HDF5 group \"/session_181117_M10039\" (9 members)>\n",
      "decon\n",
      "0.7892857142857143\n",
      "<HDF5 group \"/session_181120_M10039\" (8 members)>\n",
      "decon\n",
      "0.8571428571428571\n"
     ]
    },
    {
     "name": "stderr",
     "output_type": "stream",
     "text": [
      "/Users/agos/Documents/Work/ColumbiaProjects/Data_NewDanFitting/Data/data_scripts/sim_utils.py:62: RuntimeWarning: invalid value encountered in less\n",
      "  rf_conditions = [ut.k_and(~np.isnan(X[:,0]),~np.isnan(y[:,0])),sqerror<0.75,sigma>3.3,pval[ikey]<0.1]\n"
     ]
    },
    {
     "name": "stdout",
     "output_type": "stream",
     "text": [
      "<HDF5 group \"/session_181121_M10039\" (8 members)>\n",
      "decon\n",
      "0.9385714285714286\n",
      "<HDF5 group \"/session_191224_M0390\" (11 members)>\n",
      "decon\n",
      "0.9404761904761905\n",
      "/Users/agos/Documents/Work/ColumbiaProjects/Data_NewDanFitting/Data/RawData/DataLatest/vip_l23_data_struct.hdf5\n",
      "<HDF5 group \"/session_180321_M7955\" (8 members)>\n",
      "<HDF5 group \"/session_180412_M7955\" (8 members)>\n",
      "decon\n",
      "0.011\n"
     ]
    },
    {
     "name": "stderr",
     "output_type": "stream",
     "text": [
      "/Users/agos/Documents/Work/ColumbiaProjects/Data_NewDanFitting/Data/data_scripts/pyute.py:1069: RuntimeWarning: Mean of empty slice\n",
      "  tuning[:,itype] = np.nanmean(data[cell_criteria][:,these_trials],1)\n",
      "/Users/agos/Documents/Work/ColumbiaProjects/Data_NewDanFitting/Data/data_scripts/sim_utils.py:62: RuntimeWarning: invalid value encountered in less\n",
      "  rf_conditions = [ut.k_and(~np.isnan(X[:,0]),~np.isnan(y[:,0])),sqerror<0.75,sigma>3.3,pval[ikey]<0.1]\n",
      "/Users/agos/Documents/Work/ColumbiaProjects/Data_NewDanFitting/Data/data_scripts/pyute.py:1069: RuntimeWarning: Mean of empty slice\n",
      "  tuning[:,itype] = np.nanmean(data[cell_criteria][:,these_trials],1)\n"
     ]
    },
    {
     "name": "stdout",
     "output_type": "stream",
     "text": [
      "<HDF5 group \"/session_180516_M8956\" (9 members)>\n",
      "decon\n",
      "0.275\n",
      "<HDF5 group \"/session_180519_M8959\" (8 members)>\n",
      "decon\n",
      "0.0575\n"
     ]
    },
    {
     "name": "stderr",
     "output_type": "stream",
     "text": [
      "/Users/agos/Documents/Work/ColumbiaProjects/Data_NewDanFitting/Data/data_scripts/pyute.py:1069: RuntimeWarning: Mean of empty slice\n",
      "  tuning[:,itype] = np.nanmean(data[cell_criteria][:,these_trials],1)\n"
     ]
    },
    {
     "name": "stdout",
     "output_type": "stream",
     "text": [
      "<HDF5 group \"/session_180528_M8959\" (9 members)>\n",
      "decon\n",
      "0.3383333333333333\n"
     ]
    },
    {
     "name": "stderr",
     "output_type": "stream",
     "text": [
      "/Users/agos/Documents/Work/ColumbiaProjects/Data_NewDanFitting/Data/data_scripts/pyute.py:1069: RuntimeWarning: Mean of empty slice\n",
      "  tuning[:,itype] = np.nanmean(data[cell_criteria][:,these_trials],1)\n"
     ]
    },
    {
     "name": "stdout",
     "output_type": "stream",
     "text": [
      "<HDF5 group \"/session_180531_M8961\" (9 members)>\n",
      "decon\n",
      "0.3625\n"
     ]
    },
    {
     "name": "stderr",
     "output_type": "stream",
     "text": [
      "/Users/agos/Documents/Work/ColumbiaProjects/Data_NewDanFitting/Data/data_scripts/pyute.py:1069: RuntimeWarning: Mean of empty slice\n",
      "  tuning[:,itype] = np.nanmean(data[cell_criteria][:,these_trials],1)\n"
     ]
    },
    {
     "name": "stdout",
     "output_type": "stream",
     "text": [
      "<HDF5 group \"/session_180618_M8956\" (9 members)>\n",
      "decon\n",
      "0.004166666666666667\n"
     ]
    },
    {
     "name": "stderr",
     "output_type": "stream",
     "text": [
      "/Users/agos/Documents/Work/ColumbiaProjects/Data_NewDanFitting/Data/data_scripts/pyute.py:1069: RuntimeWarning: Mean of empty slice\n",
      "  tuning[:,itype] = np.nanmean(data[cell_criteria][:,these_trials],1)\n"
     ]
    },
    {
     "name": "stdout",
     "output_type": "stream",
     "text": [
      "<HDF5 group \"/session_180719_M8961\" (8 members)>\n",
      "decon\n",
      "0.9908333333333333\n",
      "<HDF5 group \"/session_180720_M8961\" (8 members)>\n",
      "decon\n",
      "0.9541666666666667\n",
      "<HDF5 group \"/session_180903_M8961\" (9 members)>\n",
      "decon\n",
      "0.16583333333333333\n"
     ]
    },
    {
     "name": "stderr",
     "output_type": "stream",
     "text": [
      "/Users/agos/Documents/Work/ColumbiaProjects/Data_NewDanFitting/Data/data_scripts/pyute.py:1069: RuntimeWarning: Mean of empty slice\n",
      "  tuning[:,itype] = np.nanmean(data[cell_criteria][:,these_trials],1)\n",
      "/Users/agos/Documents/Work/ColumbiaProjects/Data_NewDanFitting/Data/data_scripts/sim_utils.py:62: RuntimeWarning: invalid value encountered in less\n",
      "  rf_conditions = [ut.k_and(~np.isnan(X[:,0]),~np.isnan(y[:,0])),sqerror<0.75,sigma>3.3,pval[ikey]<0.1]\n"
     ]
    },
    {
     "name": "stdout",
     "output_type": "stream",
     "text": [
      "<HDF5 group \"/session_190710_M0208\" (9 members)>\n",
      "decon\n",
      "0.7237103174603174\n",
      "<HDF5 group \"/session_191215_M0385\" (9 members)>\n",
      "decon\n",
      "0.8100198412698413\n",
      "<HDF5 group \"/session_200103_M0388\" (9 members)>\n",
      "decon\n",
      "0.9191468253968254\n"
     ]
    },
    {
     "name": "stderr",
     "output_type": "stream",
     "text": [
      "/Users/agos/Documents/Work/ColumbiaProjects/Data_NewDanFitting/Data/data_scripts/sim_utils.py:163: RuntimeWarning: invalid value encountered in less\n",
      "  return np.logical_and(criterion(displacement),pval < pcutoff)\n",
      "/Users/agos/Documents/Work/ColumbiaProjects/Data_NewDanFitting/Data/data_scripts/sim_utils.py:143: FutureWarning: Using a non-tuple sequence for multidimensional indexing is deprecated; use `arr[tuple(seq)]` instead of `arr[seq]`. In the future this will be interpreted as an array index, `arr[np.array(seq)]`, which will result either in an error or a different result.\n",
      "  return np.nanmean(np.nanmean(arr[slicer],-1),-1)\n",
      "/Users/agos/anaconda3/lib/python3.6/site-packages/autograd/tracer.py:48: RuntimeWarning: Mean of empty slice\n",
      "  return f_raw(*args, **kwargs)\n"
     ]
    },
    {
     "name": "stdout",
     "output_type": "stream",
     "text": [
      "/Users/agos/Documents/Work/ColumbiaProjects/Data_NewDanFitting/Data/RawData/DataLatest/pyr_l4_data_struct.hdf5\n",
      "<HDF5 group \"/session_181127_M10073\" (8 members)>\n",
      "decon\n",
      "0.1742857142857143\n"
     ]
    },
    {
     "name": "stderr",
     "output_type": "stream",
     "text": [
      "/Users/agos/Documents/Work/ColumbiaProjects/Data_NewDanFitting/Data/data_scripts/pyute.py:1069: RuntimeWarning: Mean of empty slice\n",
      "  tuning[:,itype] = np.nanmean(data[cell_criteria][:,these_trials],1)\n",
      "/Users/agos/Documents/Work/ColumbiaProjects/Data_NewDanFitting/Data/data_scripts/sim_utils.py:62: RuntimeWarning: invalid value encountered in less\n",
      "  rf_conditions = [ut.k_and(~np.isnan(X[:,0]),~np.isnan(y[:,0])),sqerror<0.75,sigma>3.3,pval[ikey]<0.1]\n"
     ]
    },
    {
     "name": "stdout",
     "output_type": "stream",
     "text": [
      "<HDF5 group \"/session_190202_M10075\" (9 members)>\n",
      "decon\n",
      "0.39652777777777776\n"
     ]
    },
    {
     "name": "stderr",
     "output_type": "stream",
     "text": [
      "/Users/agos/Documents/Work/ColumbiaProjects/Data_NewDanFitting/Data/data_scripts/pyute.py:1069: RuntimeWarning: Mean of empty slice\n",
      "  tuning[:,itype] = np.nanmean(data[cell_criteria][:,these_trials],1)\n",
      "/Users/agos/Documents/Work/ColumbiaProjects/Data_NewDanFitting/Data/data_scripts/sim_utils.py:62: RuntimeWarning: invalid value encountered in less\n",
      "  rf_conditions = [ut.k_and(~np.isnan(X[:,0]),~np.isnan(y[:,0])),sqerror<0.75,sigma>3.3,pval[ikey]<0.1]\n"
     ]
    },
    {
     "name": "stdout",
     "output_type": "stream",
     "text": [
      "<HDF5 group \"/session_190304_M10077\" (9 members)>\n",
      "decon\n",
      "0.44027777777777777\n"
     ]
    },
    {
     "name": "stderr",
     "output_type": "stream",
     "text": [
      "/Users/agos/Documents/Work/ColumbiaProjects/Data_NewDanFitting/Data/data_scripts/pyute.py:1069: RuntimeWarning: Mean of empty slice\n",
      "  tuning[:,itype] = np.nanmean(data[cell_criteria][:,these_trials],1)\n"
     ]
    },
    {
     "name": "stdout",
     "output_type": "stream",
     "text": [
      "<HDF5 group \"/session_190607_M10443\" (9 members)>\n",
      "decon\n",
      "0.8590277777777777\n"
     ]
    },
    {
     "name": "stderr",
     "output_type": "stream",
     "text": [
      "/Users/agos/Documents/Work/ColumbiaProjects/Data_NewDanFitting/Data/data_scripts/sim_utils.py:62: RuntimeWarning: invalid value encountered in less\n",
      "  rf_conditions = [ut.k_and(~np.isnan(X[:,0]),~np.isnan(y[:,0])),sqerror<0.75,sigma>3.3,pval[ikey]<0.1]\n"
     ]
    },
    {
     "name": "stdout",
     "output_type": "stream",
     "text": [
      "<HDF5 group \"/session_190620_M10616\" (9 members)>\n",
      "decon\n",
      "0.4568452380952381\n"
     ]
    },
    {
     "name": "stderr",
     "output_type": "stream",
     "text": [
      "/Users/agos/Documents/Work/ColumbiaProjects/Data_NewDanFitting/Data/data_scripts/pyute.py:1069: RuntimeWarning: Mean of empty slice\n",
      "  tuning[:,itype] = np.nanmean(data[cell_criteria][:,these_trials],1)\n"
     ]
    },
    {
     "name": "stdout",
     "output_type": "stream",
     "text": [
      "<HDF5 group \"/session_190620_M10619\" (9 members)>\n",
      "decon\n",
      "0.3993055555555556\n"
     ]
    },
    {
     "name": "stderr",
     "output_type": "stream",
     "text": [
      "/Users/agos/Documents/Work/ColumbiaProjects/Data_NewDanFitting/Data/data_scripts/pyute.py:1069: RuntimeWarning: Mean of empty slice\n",
      "  tuning[:,itype] = np.nanmean(data[cell_criteria][:,these_trials],1)\n",
      "/Users/agos/Documents/Work/ColumbiaProjects/Data_NewDanFitting/Data/data_scripts/sim_utils.py:62: RuntimeWarning: invalid value encountered in less\n",
      "  rf_conditions = [ut.k_and(~np.isnan(X[:,0]),~np.isnan(y[:,0])),sqerror<0.75,sigma>3.3,pval[ikey]<0.1]\n"
     ]
    },
    {
     "name": "stdout",
     "output_type": "stream",
     "text": [
      "<HDF5 group \"/session_190624_M10615\" (8 members)>\n",
      "decon\n",
      "0.9176587301587301\n"
     ]
    },
    {
     "name": "stderr",
     "output_type": "stream",
     "text": [
      "/Users/agos/Documents/Work/ColumbiaProjects/Data_NewDanFitting/Data/data_scripts/sim_utils.py:62: RuntimeWarning: invalid value encountered in less\n",
      "  rf_conditions = [ut.k_and(~np.isnan(X[:,0]),~np.isnan(y[:,0])),sqerror<0.75,sigma>3.3,pval[ikey]<0.1]\n"
     ]
    },
    {
     "name": "stdout",
     "output_type": "stream",
     "text": [
      "<HDF5 group \"/session_190627_M10616\" (9 members)>\n",
      "decon\n",
      "0.2123015873015873\n"
     ]
    },
    {
     "name": "stderr",
     "output_type": "stream",
     "text": [
      "/Users/agos/Documents/Work/ColumbiaProjects/Data_NewDanFitting/Data/data_scripts/pyute.py:1069: RuntimeWarning: Mean of empty slice\n",
      "  tuning[:,itype] = np.nanmean(data[cell_criteria][:,these_trials],1)\n"
     ]
    },
    {
     "name": "stdout",
     "output_type": "stream",
     "text": [
      "<HDF5 group \"/session_190701_M10615\" (8 members)>\n",
      "decon\n",
      "0.3308531746031746\n"
     ]
    },
    {
     "name": "stderr",
     "output_type": "stream",
     "text": [
      "/Users/agos/Documents/Work/ColumbiaProjects/Data_NewDanFitting/Data/data_scripts/pyute.py:1069: RuntimeWarning: Mean of empty slice\n",
      "  tuning[:,itype] = np.nanmean(data[cell_criteria][:,these_trials],1)\n",
      "/Users/agos/Documents/Work/ColumbiaProjects/Data_NewDanFitting/Data/data_scripts/sim_utils.py:62: RuntimeWarning: invalid value encountered in less\n",
      "  rf_conditions = [ut.k_and(~np.isnan(X[:,0]),~np.isnan(y[:,0])),sqerror<0.75,sigma>3.3,pval[ikey]<0.1]\n"
     ]
    },
    {
     "name": "stdout",
     "output_type": "stream",
     "text": [
      "<HDF5 group \"/session_191212_M0762\" (8 members)>\n",
      "decon\n",
      "0.17807539682539683\n"
     ]
    },
    {
     "name": "stderr",
     "output_type": "stream",
     "text": [
      "/Users/agos/Documents/Work/ColumbiaProjects/Data_NewDanFitting/Data/data_scripts/pyute.py:1069: RuntimeWarning: Mean of empty slice\n",
      "  tuning[:,itype] = np.nanmean(data[cell_criteria][:,these_trials],1)\n"
     ]
    },
    {
     "name": "stdout",
     "output_type": "stream",
     "text": [
      "/Users/agos/Documents/Work/ColumbiaProjects/Data_NewDanFitting/Data/RawData/DataLatest/pyr_l23_data_struct.hdf5\n",
      "<HDF5 group \"/session_181205_M10130\" (8 members)>\n",
      "decon\n",
      "0.26785714285714285\n"
     ]
    },
    {
     "name": "stderr",
     "output_type": "stream",
     "text": [
      "/Users/agos/Documents/Work/ColumbiaProjects/Data_NewDanFitting/Data/data_scripts/pyute.py:1069: RuntimeWarning: Mean of empty slice\n",
      "  tuning[:,itype] = np.nanmean(data[cell_criteria][:,these_trials],1)\n"
     ]
    },
    {
     "name": "stdout",
     "output_type": "stream",
     "text": [
      "<HDF5 group \"/session_181209_M8536\" (9 members)>\n",
      "decon\n",
      "0.1692857142857143\n"
     ]
    },
    {
     "name": "stderr",
     "output_type": "stream",
     "text": [
      "/Users/agos/Documents/Work/ColumbiaProjects/Data_NewDanFitting/Data/data_scripts/pyute.py:1069: RuntimeWarning: Mean of empty slice\n",
      "  tuning[:,itype] = np.nanmean(data[cell_criteria][:,these_trials],1)\n",
      "/Users/agos/Documents/Work/ColumbiaProjects/Data_NewDanFitting/Data/data_scripts/sim_utils.py:62: RuntimeWarning: invalid value encountered in less\n",
      "  rf_conditions = [ut.k_and(~np.isnan(X[:,0]),~np.isnan(y[:,0])),sqerror<0.75,sigma>3.3,pval[ikey]<0.1]\n"
     ]
    },
    {
     "name": "stdout",
     "output_type": "stream",
     "text": [
      "<HDF5 group \"/session_181213_M8536\" (8 members)>\n",
      "decon\n",
      "0.9614285714285714\n",
      "<HDF5 group \"/session_181214_M10130\" (8 members)>\n",
      "decon\n",
      "0.5857142857142857\n"
     ]
    },
    {
     "name": "stderr",
     "output_type": "stream",
     "text": [
      "/Users/agos/Documents/Work/ColumbiaProjects/Data_NewDanFitting/Data/data_scripts/sim_utils.py:62: RuntimeWarning: invalid value encountered in less\n",
      "  rf_conditions = [ut.k_and(~np.isnan(X[:,0]),~np.isnan(y[:,0])),sqerror<0.75,sigma>3.3,pval[ikey]<0.1]\n"
     ]
    },
    {
     "name": "stdout",
     "output_type": "stream",
     "text": [
      "<HDF5 group \"/session_190102_M10130\" (8 members)>\n",
      "decon\n",
      "0.5508333333333333\n",
      "<HDF5 group \"/session_190128_M8982\" (9 members)>\n",
      "decon\n",
      "0.05277777777777778\n"
     ]
    },
    {
     "name": "stderr",
     "output_type": "stream",
     "text": [
      "/Users/agos/Documents/Work/ColumbiaProjects/Data_NewDanFitting/Data/data_scripts/pyute.py:1069: RuntimeWarning: Mean of empty slice\n",
      "  tuning[:,itype] = np.nanmean(data[cell_criteria][:,these_trials],1)\n",
      "/Users/agos/Documents/Work/ColumbiaProjects/Data_NewDanFitting/Data/data_scripts/sim_utils.py:62: RuntimeWarning: invalid value encountered in less\n",
      "  rf_conditions = [ut.k_and(~np.isnan(X[:,0]),~np.isnan(y[:,0])),sqerror<0.75,sigma>3.3,pval[ikey]<0.1]\n"
     ]
    },
    {
     "name": "stdout",
     "output_type": "stream",
     "text": [
      "<HDF5 group \"/session_190130_M9667\" (9 members)>\n",
      "decon\n",
      "0.8097222222222222\n"
     ]
    },
    {
     "name": "stderr",
     "output_type": "stream",
     "text": [
      "/Users/agos/Documents/Work/ColumbiaProjects/Data_NewDanFitting/Data/data_scripts/sim_utils.py:62: RuntimeWarning: invalid value encountered in less\n",
      "  rf_conditions = [ut.k_and(~np.isnan(X[:,0]),~np.isnan(y[:,0])),sqerror<0.75,sigma>3.3,pval[ikey]<0.1]\n"
     ]
    },
    {
     "name": "stdout",
     "output_type": "stream",
     "text": [
      "<HDF5 group \"/session_190131_M9355\" (9 members)>\n",
      "decon\n",
      "0.06597222222222222\n"
     ]
    },
    {
     "name": "stderr",
     "output_type": "stream",
     "text": [
      "/Users/agos/Documents/Work/ColumbiaProjects/Data_NewDanFitting/Data/data_scripts/pyute.py:1069: RuntimeWarning: Mean of empty slice\n",
      "  tuning[:,itype] = np.nanmean(data[cell_criteria][:,these_trials],1)\n",
      "/Users/agos/Documents/Work/ColumbiaProjects/Data_NewDanFitting/Data/data_scripts/sim_utils.py:62: RuntimeWarning: invalid value encountered in less\n",
      "  rf_conditions = [ut.k_and(~np.isnan(X[:,0]),~np.isnan(y[:,0])),sqerror<0.75,sigma>3.3,pval[ikey]<0.1]\n"
     ]
    },
    {
     "name": "stdout",
     "output_type": "stream",
     "text": [
      "<HDF5 group \"/session_190208_M9355\" (9 members)>\n",
      "decon\n",
      "0.049305555555555554\n"
     ]
    },
    {
     "name": "stderr",
     "output_type": "stream",
     "text": [
      "/Users/agos/Documents/Work/ColumbiaProjects/Data_NewDanFitting/Data/data_scripts/pyute.py:1069: RuntimeWarning: Mean of empty slice\n",
      "  tuning[:,itype] = np.nanmean(data[cell_criteria][:,these_trials],1)\n",
      "/Users/agos/Documents/Work/ColumbiaProjects/Data_NewDanFitting/Data/data_scripts/sim_utils.py:62: RuntimeWarning: invalid value encountered in less\n",
      "  rf_conditions = [ut.k_and(~np.isnan(X[:,0]),~np.isnan(y[:,0])),sqerror<0.75,sigma>3.3,pval[ikey]<0.1]\n"
     ]
    },
    {
     "name": "stdout",
     "output_type": "stream",
     "text": [
      "<HDF5 group \"/session_190212_M8536\" (9 members)>\n",
      "decon\n",
      "0.7534722222222222\n"
     ]
    },
    {
     "name": "stderr",
     "output_type": "stream",
     "text": [
      "/Users/agos/Documents/Work/ColumbiaProjects/Data_NewDanFitting/Data/data_scripts/pyute.py:1069: RuntimeWarning: Mean of empty slice\n",
      "  tuning[:,itype] = np.nanmean(data[cell_criteria][:,these_trials],1)\n"
     ]
    },
    {
     "name": "stdout",
     "output_type": "stream",
     "text": [
      "<HDF5 group \"/session_191002_M0293\" (8 members)>\n",
      "decon\n",
      "0.15376984126984128\n"
     ]
    },
    {
     "name": "stderr",
     "output_type": "stream",
     "text": [
      "/Users/agos/Documents/Work/ColumbiaProjects/Data_NewDanFitting/Data/data_scripts/pyute.py:1069: RuntimeWarning: Mean of empty slice\n",
      "  tuning[:,itype] = np.nanmean(data[cell_criteria][:,these_trials],1)\n",
      "/Users/agos/Documents/Work/ColumbiaProjects/Data_NewDanFitting/Data/data_scripts/sim_utils.py:62: RuntimeWarning: invalid value encountered in less\n",
      "  rf_conditions = [ut.k_and(~np.isnan(X[:,0]),~np.isnan(y[:,0])),sqerror<0.75,sigma>3.3,pval[ikey]<0.1]\n"
     ]
    },
    {
     "name": "stdout",
     "output_type": "stream",
     "text": [
      "<HDF5 group \"/session_191108_M0403\" (8 members)>\n",
      "decon\n",
      "0.002976190476190476\n"
     ]
    },
    {
     "name": "stderr",
     "output_type": "stream",
     "text": [
      "/Users/agos/Documents/Work/ColumbiaProjects/Data_NewDanFitting/Data/data_scripts/pyute.py:1069: RuntimeWarning: Mean of empty slice\n",
      "  tuning[:,itype] = np.nanmean(data[cell_criteria][:,these_trials],1)\n",
      "/Users/agos/Documents/Work/ColumbiaProjects/Data_NewDanFitting/Data/data_scripts/sim_utils.py:62: RuntimeWarning: invalid value encountered in less\n",
      "  rf_conditions = [ut.k_and(~np.isnan(X[:,0]),~np.isnan(y[:,0])),sqerror<0.75,sigma>3.3,pval[ikey]<0.1]\n"
     ]
    },
    {
     "name": "stdout",
     "output_type": "stream",
     "text": [
      "/Users/agos/Documents/Work/ColumbiaProjects/Data_NewDanFitting/Data/RawData/DataLatest/pv_l23_data_struct.hdf5\n",
      "<HDF5 group \"/session_191105_M0589\" (12 members)>\n",
      "decon\n",
      "0.0\n"
     ]
    },
    {
     "name": "stderr",
     "output_type": "stream",
     "text": [
      "/Users/agos/Documents/Work/ColumbiaProjects/Data_NewDanFitting/Data/data_scripts/pyute.py:1069: RuntimeWarning: Mean of empty slice\n",
      "  tuning[:,itype] = np.nanmean(data[cell_criteria][:,these_trials],1)\n",
      "/Users/agos/Documents/Work/ColumbiaProjects/Data_NewDanFitting/Data/data_scripts/sim_utils.py:62: RuntimeWarning: invalid value encountered in less\n",
      "  rf_conditions = [ut.k_and(~np.isnan(X[:,0]),~np.isnan(y[:,0])),sqerror<0.75,sigma>3.3,pval[ikey]<0.1]\n",
      "/Users/agos/Documents/Work/ColumbiaProjects/Data_NewDanFitting/Data/data_scripts/pyute.py:1069: RuntimeWarning: Mean of empty slice\n",
      "  tuning[:,itype] = np.nanmean(data[cell_criteria][:,these_trials],1)\n"
     ]
    },
    {
     "name": "stdout",
     "output_type": "stream",
     "text": [
      "<HDF5 group \"/session_191220_M0589\" (12 members)>\n",
      "decon\n",
      "0.000496031746031746\n",
      "<HDF5 group \"/session_191229_M0892\" (12 members)>\n",
      "decon\n",
      "0.000496031746031746\n"
     ]
    },
    {
     "name": "stderr",
     "output_type": "stream",
     "text": [
      "/Users/agos/Documents/Work/ColumbiaProjects/Data_NewDanFitting/Data/data_scripts/pyute.py:1069: RuntimeWarning: Mean of empty slice\n",
      "  tuning[:,itype] = np.nanmean(data[cell_criteria][:,these_trials],1)\n"
     ]
    },
    {
     "name": "stdout",
     "output_type": "stream",
     "text": [
      "<HDF5 group \"/session_200102_M0892\" (12 members)>\n",
      "decon\n",
      "0.06498015873015874\n"
     ]
    },
    {
     "name": "stderr",
     "output_type": "stream",
     "text": [
      "/Users/agos/Documents/Work/ColumbiaProjects/Data_NewDanFitting/Data/data_scripts/pyute.py:1069: RuntimeWarning: Mean of empty slice\n",
      "  tuning[:,itype] = np.nanmean(data[cell_criteria][:,these_trials],1)\n"
     ]
    },
    {
     "name": "stdout",
     "output_type": "stream",
     "text": [
      "<HDF5 group \"/session_200108_M0891\" (12 members)>\n",
      "decon\n",
      "0.13938492063492064\n"
     ]
    },
    {
     "name": "stderr",
     "output_type": "stream",
     "text": [
      "/Users/agos/Documents/Work/ColumbiaProjects/Data_NewDanFitting/Data/data_scripts/pyute.py:1069: RuntimeWarning: Mean of empty slice\n",
      "  tuning[:,itype] = np.nanmean(data[cell_criteria][:,these_trials],1)\n"
     ]
    },
    {
     "name": "stdout",
     "output_type": "stream",
     "text": [
      "<HDF5 group \"/session_200620_M0891\" (13 members)>\n",
      "decon\n",
      "0.5545634920634921\n"
     ]
    },
    {
     "name": "stderr",
     "output_type": "stream",
     "text": [
      "/Users/agos/Documents/Work/ColumbiaProjects/Data_NewDanFitting/Data/data_scripts/pyute.py:1069: RuntimeWarning: Mean of empty slice\n",
      "  tuning[:,itype] = np.nanmean(data[cell_criteria][:,these_trials],1)\n"
     ]
    },
    {
     "name": "stdout",
     "output_type": "stream",
     "text": [
      "<HDF5 group \"/session_200621_M0893\" (13 members)>\n",
      "decon\n",
      "0.4722222222222222\n"
     ]
    },
    {
     "name": "stderr",
     "output_type": "stream",
     "text": [
      "/Users/agos/Documents/Work/ColumbiaProjects/Data_NewDanFitting/Data/data_scripts/pyute.py:1069: RuntimeWarning: Mean of empty slice\n",
      "  tuning[:,itype] = np.nanmean(data[cell_criteria][:,these_trials],1)\n"
     ]
    },
    {
     "name": "stdout",
     "output_type": "stream",
     "text": [
      "/Users/agos/Documents/Work/ColumbiaProjects/Data_NewDanFitting/Data/RawData/DataLatest/sst_l23_data_struct.hdf5\n",
      "<HDF5 group \"/session_180713_M9053\" (9 members)>\n",
      "decon\n",
      "0.8091666666666667\n",
      "<HDF5 group \"/session_180714_M9053\" (9 members)>\n",
      "decon\n",
      "0.8441666666666666\n"
     ]
    },
    {
     "name": "stderr",
     "output_type": "stream",
     "text": [
      "/Users/agos/Documents/Work/ColumbiaProjects/Data_NewDanFitting/Data/data_scripts/sim_utils.py:62: RuntimeWarning: invalid value encountered in less\n",
      "  rf_conditions = [ut.k_and(~np.isnan(X[:,0]),~np.isnan(y[:,0])),sqerror<0.75,sigma>3.3,pval[ikey]<0.1]\n"
     ]
    },
    {
     "name": "stdout",
     "output_type": "stream",
     "text": [
      "<HDF5 group \"/session_180802_M9053\" (8 members)>\n",
      "decon\n",
      "0.5083333333333333\n"
     ]
    },
    {
     "name": "stderr",
     "output_type": "stream",
     "text": [
      "/Users/agos/Documents/Work/ColumbiaProjects/Data_NewDanFitting/Data/data_scripts/pyute.py:1069: RuntimeWarning: Mean of empty slice\n",
      "  tuning[:,itype] = np.nanmean(data[cell_criteria][:,these_trials],1)\n"
     ]
    },
    {
     "name": "stdout",
     "output_type": "stream",
     "text": [
      "<HDF5 group \"/session_180821_M9417\" (9 members)>\n",
      "decon\n",
      "0.1475\n"
     ]
    },
    {
     "name": "stderr",
     "output_type": "stream",
     "text": [
      "/Users/agos/Documents/Work/ColumbiaProjects/Data_NewDanFitting/Data/data_scripts/pyute.py:1069: RuntimeWarning: Mean of empty slice\n",
      "  tuning[:,itype] = np.nanmean(data[cell_criteria][:,these_trials],1)\n"
     ]
    },
    {
     "name": "stdout",
     "output_type": "stream",
     "text": [
      "<HDF5 group \"/session_181117_M10039\" (9 members)>\n",
      "decon\n",
      "0.21071428571428572\n"
     ]
    },
    {
     "name": "stderr",
     "output_type": "stream",
     "text": [
      "/Users/agos/Documents/Work/ColumbiaProjects/Data_NewDanFitting/Data/data_scripts/pyute.py:1069: RuntimeWarning: Mean of empty slice\n",
      "  tuning[:,itype] = np.nanmean(data[cell_criteria][:,these_trials],1)\n"
     ]
    },
    {
     "name": "stdout",
     "output_type": "stream",
     "text": [
      "<HDF5 group \"/session_181120_M10039\" (8 members)>\n",
      "decon\n",
      "0.14285714285714285\n"
     ]
    },
    {
     "name": "stderr",
     "output_type": "stream",
     "text": [
      "/Users/agos/Documents/Work/ColumbiaProjects/Data_NewDanFitting/Data/data_scripts/pyute.py:1069: RuntimeWarning: Mean of empty slice\n",
      "  tuning[:,itype] = np.nanmean(data[cell_criteria][:,these_trials],1)\n",
      "/Users/agos/Documents/Work/ColumbiaProjects/Data_NewDanFitting/Data/data_scripts/sim_utils.py:62: RuntimeWarning: invalid value encountered in less\n",
      "  rf_conditions = [ut.k_and(~np.isnan(X[:,0]),~np.isnan(y[:,0])),sqerror<0.75,sigma>3.3,pval[ikey]<0.1]\n",
      "/Users/agos/Documents/Work/ColumbiaProjects/Data_NewDanFitting/Data/data_scripts/pyute.py:1069: RuntimeWarning: Mean of empty slice\n",
      "  tuning[:,itype] = np.nanmean(data[cell_criteria][:,these_trials],1)\n"
     ]
    },
    {
     "name": "stdout",
     "output_type": "stream",
     "text": [
      "<HDF5 group \"/session_181121_M10039\" (8 members)>\n",
      "decon\n",
      "0.06142857142857143\n",
      "<HDF5 group \"/session_191224_M0390\" (11 members)>\n",
      "decon\n",
      "0.05952380952380952\n"
     ]
    },
    {
     "name": "stderr",
     "output_type": "stream",
     "text": [
      "/Users/agos/Documents/Work/ColumbiaProjects/Data_NewDanFitting/Data/data_scripts/pyute.py:1069: RuntimeWarning: Mean of empty slice\n",
      "  tuning[:,itype] = np.nanmean(data[cell_criteria][:,these_trials],1)\n"
     ]
    },
    {
     "name": "stdout",
     "output_type": "stream",
     "text": [
      "/Users/agos/Documents/Work/ColumbiaProjects/Data_NewDanFitting/Data/RawData/DataLatest/vip_l23_data_struct.hdf5\n",
      "<HDF5 group \"/session_180321_M7955\" (8 members)>\n",
      "<HDF5 group \"/session_180412_M7955\" (8 members)>\n",
      "decon\n",
      "0.989\n"
     ]
    },
    {
     "name": "stderr",
     "output_type": "stream",
     "text": [
      "/Users/agos/Documents/Work/ColumbiaProjects/Data_NewDanFitting/Data/data_scripts/sim_utils.py:62: RuntimeWarning: invalid value encountered in less\n",
      "  rf_conditions = [ut.k_and(~np.isnan(X[:,0]),~np.isnan(y[:,0])),sqerror<0.75,sigma>3.3,pval[ikey]<0.1]\n"
     ]
    },
    {
     "name": "stdout",
     "output_type": "stream",
     "text": [
      "<HDF5 group \"/session_180516_M8956\" (9 members)>\n",
      "decon\n",
      "0.725\n",
      "<HDF5 group \"/session_180519_M8959\" (8 members)>\n",
      "decon\n",
      "0.9425\n",
      "<HDF5 group \"/session_180528_M8959\" (9 members)>\n",
      "decon\n",
      "0.6616666666666666\n"
     ]
    },
    {
     "name": "stderr",
     "output_type": "stream",
     "text": [
      "/Users/agos/Documents/Work/ColumbiaProjects/Data_NewDanFitting/Data/data_scripts/pyute.py:1069: RuntimeWarning: Mean of empty slice\n",
      "  tuning[:,itype] = np.nanmean(data[cell_criteria][:,these_trials],1)\n"
     ]
    },
    {
     "name": "stdout",
     "output_type": "stream",
     "text": [
      "<HDF5 group \"/session_180531_M8961\" (9 members)>\n",
      "decon\n",
      "0.6375\n"
     ]
    },
    {
     "name": "stderr",
     "output_type": "stream",
     "text": [
      "/Users/agos/Documents/Work/ColumbiaProjects/Data_NewDanFitting/Data/data_scripts/pyute.py:1069: RuntimeWarning: Mean of empty slice\n",
      "  tuning[:,itype] = np.nanmean(data[cell_criteria][:,these_trials],1)\n"
     ]
    },
    {
     "name": "stdout",
     "output_type": "stream",
     "text": [
      "<HDF5 group \"/session_180618_M8956\" (9 members)>\n",
      "decon\n",
      "0.9958333333333333\n",
      "<HDF5 group \"/session_180719_M8961\" (8 members)>\n",
      "decon\n",
      "0.009166666666666667\n"
     ]
    },
    {
     "name": "stderr",
     "output_type": "stream",
     "text": [
      "/Users/agos/Documents/Work/ColumbiaProjects/Data_NewDanFitting/Data/data_scripts/pyute.py:1069: RuntimeWarning: Mean of empty slice\n",
      "  tuning[:,itype] = np.nanmean(data[cell_criteria][:,these_trials],1)\n"
     ]
    },
    {
     "name": "stdout",
     "output_type": "stream",
     "text": [
      "<HDF5 group \"/session_180720_M8961\" (8 members)>\n",
      "decon\n",
      "0.04583333333333333\n"
     ]
    },
    {
     "name": "stderr",
     "output_type": "stream",
     "text": [
      "/Users/agos/Documents/Work/ColumbiaProjects/Data_NewDanFitting/Data/data_scripts/pyute.py:1069: RuntimeWarning: Mean of empty slice\n",
      "  tuning[:,itype] = np.nanmean(data[cell_criteria][:,these_trials],1)\n"
     ]
    },
    {
     "name": "stdout",
     "output_type": "stream",
     "text": [
      "<HDF5 group \"/session_180903_M8961\" (9 members)>\n",
      "decon\n",
      "0.8341666666666666\n"
     ]
    },
    {
     "name": "stderr",
     "output_type": "stream",
     "text": [
      "/Users/agos/Documents/Work/ColumbiaProjects/Data_NewDanFitting/Data/data_scripts/sim_utils.py:62: RuntimeWarning: invalid value encountered in less\n",
      "  rf_conditions = [ut.k_and(~np.isnan(X[:,0]),~np.isnan(y[:,0])),sqerror<0.75,sigma>3.3,pval[ikey]<0.1]\n"
     ]
    },
    {
     "name": "stdout",
     "output_type": "stream",
     "text": [
      "<HDF5 group \"/session_190710_M0208\" (9 members)>\n",
      "decon\n",
      "0.27628968253968256\n"
     ]
    },
    {
     "name": "stderr",
     "output_type": "stream",
     "text": [
      "/Users/agos/Documents/Work/ColumbiaProjects/Data_NewDanFitting/Data/data_scripts/pyute.py:1069: RuntimeWarning: Mean of empty slice\n",
      "  tuning[:,itype] = np.nanmean(data[cell_criteria][:,these_trials],1)\n"
     ]
    },
    {
     "name": "stdout",
     "output_type": "stream",
     "text": [
      "<HDF5 group \"/session_191215_M0385\" (9 members)>\n",
      "decon\n",
      "0.18998015873015872\n"
     ]
    },
    {
     "name": "stderr",
     "output_type": "stream",
     "text": [
      "/Users/agos/Documents/Work/ColumbiaProjects/Data_NewDanFitting/Data/data_scripts/pyute.py:1069: RuntimeWarning: Mean of empty slice\n",
      "  tuning[:,itype] = np.nanmean(data[cell_criteria][:,these_trials],1)\n"
     ]
    },
    {
     "name": "stdout",
     "output_type": "stream",
     "text": [
      "<HDF5 group \"/session_200103_M0388\" (9 members)>\n",
      "decon\n",
      "0.08085317460317461\n"
     ]
    },
    {
     "name": "stderr",
     "output_type": "stream",
     "text": [
      "/Users/agos/Documents/Work/ColumbiaProjects/Data_NewDanFitting/Data/data_scripts/pyute.py:1069: RuntimeWarning: Mean of empty slice\n",
      "  tuning[:,itype] = np.nanmean(data[cell_criteria][:,these_trials],1)\n",
      "/Users/agos/Documents/Work/ColumbiaProjects/Data_NewDanFitting/Data/data_scripts/sim_utils.py:163: RuntimeWarning: invalid value encountered in less\n",
      "  return np.logical_and(criterion(displacement),pval < pcutoff)\n",
      "/Users/agos/Documents/Work/ColumbiaProjects/Data_NewDanFitting/Data/data_scripts/sim_utils.py:143: FutureWarning: Using a non-tuple sequence for multidimensional indexing is deprecated; use `arr[tuple(seq)]` instead of `arr[seq]`. In the future this will be interpreted as an array index, `arr[np.array(seq)]`, which will result either in an error or a different result.\n",
      "  return np.nanmean(np.nanmean(arr[slicer],-1),-1)\n",
      "/Users/agos/anaconda3/lib/python3.6/site-packages/autograd/tracer.py:48: RuntimeWarning: Mean of empty slice\n",
      "  return f_raw(*args, **kwargs)\n"
     ]
    },
    {
     "name": "stdout",
     "output_type": "stream",
     "text": [
      "/Users/agos/Documents/Work/ColumbiaProjects/Data_NewDanFitting/Data/RawData/DataLatest/pyr_l4_data_struct.hdf5\n",
      "<HDF5 group \"/session_181127_M10073\" (8 members)>\n",
      "decon\n",
      "0.8257142857142857\n"
     ]
    },
    {
     "name": "stderr",
     "output_type": "stream",
     "text": [
      "/Users/agos/Documents/Work/ColumbiaProjects/Data_NewDanFitting/Data/data_scripts/sim_utils.py:62: RuntimeWarning: invalid value encountered in less\n",
      "  rf_conditions = [ut.k_and(~np.isnan(X[:,0]),~np.isnan(y[:,0])),sqerror<0.75,sigma>3.3,pval[ikey]<0.1]\n"
     ]
    },
    {
     "name": "stdout",
     "output_type": "stream",
     "text": [
      "<HDF5 group \"/session_190202_M10075\" (9 members)>\n",
      "decon\n",
      "0.6034722222222222\n"
     ]
    },
    {
     "name": "stderr",
     "output_type": "stream",
     "text": [
      "/Users/agos/Documents/Work/ColumbiaProjects/Data_NewDanFitting/Data/data_scripts/sim_utils.py:62: RuntimeWarning: invalid value encountered in less\n",
      "  rf_conditions = [ut.k_and(~np.isnan(X[:,0]),~np.isnan(y[:,0])),sqerror<0.75,sigma>3.3,pval[ikey]<0.1]\n"
     ]
    },
    {
     "name": "stdout",
     "output_type": "stream",
     "text": [
      "<HDF5 group \"/session_190304_M10077\" (9 members)>\n",
      "decon\n",
      "0.5597222222222222\n"
     ]
    },
    {
     "name": "stderr",
     "output_type": "stream",
     "text": [
      "/Users/agos/Documents/Work/ColumbiaProjects/Data_NewDanFitting/Data/data_scripts/pyute.py:1069: RuntimeWarning: Mean of empty slice\n",
      "  tuning[:,itype] = np.nanmean(data[cell_criteria][:,these_trials],1)\n"
     ]
    },
    {
     "name": "stdout",
     "output_type": "stream",
     "text": [
      "<HDF5 group \"/session_190607_M10443\" (9 members)>\n",
      "decon\n",
      "0.14097222222222222\n"
     ]
    },
    {
     "name": "stderr",
     "output_type": "stream",
     "text": [
      "/Users/agos/Documents/Work/ColumbiaProjects/Data_NewDanFitting/Data/data_scripts/pyute.py:1069: RuntimeWarning: Mean of empty slice\n",
      "  tuning[:,itype] = np.nanmean(data[cell_criteria][:,these_trials],1)\n",
      "/Users/agos/Documents/Work/ColumbiaProjects/Data_NewDanFitting/Data/data_scripts/sim_utils.py:62: RuntimeWarning: invalid value encountered in less\n",
      "  rf_conditions = [ut.k_and(~np.isnan(X[:,0]),~np.isnan(y[:,0])),sqerror<0.75,sigma>3.3,pval[ikey]<0.1]\n"
     ]
    },
    {
     "name": "stdout",
     "output_type": "stream",
     "text": [
      "<HDF5 group \"/session_190620_M10616\" (9 members)>\n",
      "decon\n",
      "0.5431547619047619\n"
     ]
    },
    {
     "name": "stderr",
     "output_type": "stream",
     "text": [
      "/Users/agos/Documents/Work/ColumbiaProjects/Data_NewDanFitting/Data/data_scripts/pyute.py:1069: RuntimeWarning: Mean of empty slice\n",
      "  tuning[:,itype] = np.nanmean(data[cell_criteria][:,these_trials],1)\n"
     ]
    },
    {
     "name": "stdout",
     "output_type": "stream",
     "text": [
      "<HDF5 group \"/session_190620_M10619\" (9 members)>\n",
      "decon\n",
      "0.6006944444444444\n"
     ]
    },
    {
     "name": "stderr",
     "output_type": "stream",
     "text": [
      "/Users/agos/Documents/Work/ColumbiaProjects/Data_NewDanFitting/Data/data_scripts/pyute.py:1069: RuntimeWarning: Mean of empty slice\n",
      "  tuning[:,itype] = np.nanmean(data[cell_criteria][:,these_trials],1)\n",
      "/Users/agos/Documents/Work/ColumbiaProjects/Data_NewDanFitting/Data/data_scripts/sim_utils.py:62: RuntimeWarning: invalid value encountered in less\n",
      "  rf_conditions = [ut.k_and(~np.isnan(X[:,0]),~np.isnan(y[:,0])),sqerror<0.75,sigma>3.3,pval[ikey]<0.1]\n"
     ]
    },
    {
     "name": "stdout",
     "output_type": "stream",
     "text": [
      "<HDF5 group \"/session_190624_M10615\" (8 members)>\n",
      "decon\n",
      "0.08234126984126984\n"
     ]
    },
    {
     "name": "stderr",
     "output_type": "stream",
     "text": [
      "/Users/agos/Documents/Work/ColumbiaProjects/Data_NewDanFitting/Data/data_scripts/pyute.py:1069: RuntimeWarning: Mean of empty slice\n",
      "  tuning[:,itype] = np.nanmean(data[cell_criteria][:,these_trials],1)\n",
      "/Users/agos/Documents/Work/ColumbiaProjects/Data_NewDanFitting/Data/data_scripts/sim_utils.py:62: RuntimeWarning: invalid value encountered in less\n",
      "  rf_conditions = [ut.k_and(~np.isnan(X[:,0]),~np.isnan(y[:,0])),sqerror<0.75,sigma>3.3,pval[ikey]<0.1]\n"
     ]
    },
    {
     "name": "stdout",
     "output_type": "stream",
     "text": [
      "<HDF5 group \"/session_190627_M10616\" (9 members)>\n",
      "decon\n",
      "0.7876984126984127\n",
      "<HDF5 group \"/session_190701_M10615\" (8 members)>\n",
      "decon\n",
      "0.6691468253968254\n"
     ]
    },
    {
     "name": "stderr",
     "output_type": "stream",
     "text": [
      "/Users/agos/Documents/Work/ColumbiaProjects/Data_NewDanFitting/Data/data_scripts/sim_utils.py:62: RuntimeWarning: invalid value encountered in less\n",
      "  rf_conditions = [ut.k_and(~np.isnan(X[:,0]),~np.isnan(y[:,0])),sqerror<0.75,sigma>3.3,pval[ikey]<0.1]\n"
     ]
    },
    {
     "name": "stdout",
     "output_type": "stream",
     "text": [
      "<HDF5 group \"/session_191212_M0762\" (8 members)>\n",
      "decon\n",
      "0.8219246031746031\n",
      "/Users/agos/Documents/Work/ColumbiaProjects/Data_NewDanFitting/Data/RawData/DataLatest/pyr_l23_data_struct.hdf5\n",
      "<HDF5 group \"/session_181205_M10130\" (8 members)>\n",
      "decon\n",
      "0.7321428571428571\n",
      "<HDF5 group \"/session_181209_M8536\" (9 members)>\n",
      "decon\n",
      "0.8307142857142857\n"
     ]
    },
    {
     "name": "stderr",
     "output_type": "stream",
     "text": [
      "/Users/agos/Documents/Work/ColumbiaProjects/Data_NewDanFitting/Data/data_scripts/sim_utils.py:62: RuntimeWarning: invalid value encountered in less\n",
      "  rf_conditions = [ut.k_and(~np.isnan(X[:,0]),~np.isnan(y[:,0])),sqerror<0.75,sigma>3.3,pval[ikey]<0.1]\n"
     ]
    },
    {
     "name": "stdout",
     "output_type": "stream",
     "text": [
      "<HDF5 group \"/session_181213_M8536\" (8 members)>\n",
      "decon\n",
      "0.03857142857142857\n"
     ]
    },
    {
     "name": "stderr",
     "output_type": "stream",
     "text": [
      "/Users/agos/Documents/Work/ColumbiaProjects/Data_NewDanFitting/Data/data_scripts/pyute.py:1069: RuntimeWarning: Mean of empty slice\n",
      "  tuning[:,itype] = np.nanmean(data[cell_criteria][:,these_trials],1)\n"
     ]
    },
    {
     "name": "stdout",
     "output_type": "stream",
     "text": [
      "<HDF5 group \"/session_181214_M10130\" (8 members)>\n",
      "decon\n",
      "0.4142857142857143\n"
     ]
    },
    {
     "name": "stderr",
     "output_type": "stream",
     "text": [
      "/Users/agos/Documents/Work/ColumbiaProjects/Data_NewDanFitting/Data/data_scripts/pyute.py:1069: RuntimeWarning: Mean of empty slice\n",
      "  tuning[:,itype] = np.nanmean(data[cell_criteria][:,these_trials],1)\n",
      "/Users/agos/Documents/Work/ColumbiaProjects/Data_NewDanFitting/Data/data_scripts/sim_utils.py:62: RuntimeWarning: invalid value encountered in less\n",
      "  rf_conditions = [ut.k_and(~np.isnan(X[:,0]),~np.isnan(y[:,0])),sqerror<0.75,sigma>3.3,pval[ikey]<0.1]\n"
     ]
    },
    {
     "name": "stdout",
     "output_type": "stream",
     "text": [
      "<HDF5 group \"/session_190102_M10130\" (8 members)>\n",
      "decon\n",
      "0.44916666666666666\n",
      "<HDF5 group \"/session_190128_M8982\" (9 members)>\n",
      "decon\n",
      "0.9472222222222222\n"
     ]
    },
    {
     "name": "stderr",
     "output_type": "stream",
     "text": [
      "/Users/agos/Documents/Work/ColumbiaProjects/Data_NewDanFitting/Data/data_scripts/sim_utils.py:62: RuntimeWarning: invalid value encountered in less\n",
      "  rf_conditions = [ut.k_and(~np.isnan(X[:,0]),~np.isnan(y[:,0])),sqerror<0.75,sigma>3.3,pval[ikey]<0.1]\n"
     ]
    },
    {
     "name": "stdout",
     "output_type": "stream",
     "text": [
      "<HDF5 group \"/session_190130_M9667\" (9 members)>\n",
      "decon\n",
      "0.19027777777777777\n"
     ]
    },
    {
     "name": "stderr",
     "output_type": "stream",
     "text": [
      "/Users/agos/Documents/Work/ColumbiaProjects/Data_NewDanFitting/Data/data_scripts/pyute.py:1069: RuntimeWarning: Mean of empty slice\n",
      "  tuning[:,itype] = np.nanmean(data[cell_criteria][:,these_trials],1)\n",
      "/Users/agos/Documents/Work/ColumbiaProjects/Data_NewDanFitting/Data/data_scripts/sim_utils.py:62: RuntimeWarning: invalid value encountered in less\n",
      "  rf_conditions = [ut.k_and(~np.isnan(X[:,0]),~np.isnan(y[:,0])),sqerror<0.75,sigma>3.3,pval[ikey]<0.1]\n"
     ]
    },
    {
     "name": "stdout",
     "output_type": "stream",
     "text": [
      "<HDF5 group \"/session_190131_M9355\" (9 members)>\n",
      "decon\n",
      "0.9340277777777778\n"
     ]
    },
    {
     "name": "stderr",
     "output_type": "stream",
     "text": [
      "/Users/agos/Documents/Work/ColumbiaProjects/Data_NewDanFitting/Data/data_scripts/sim_utils.py:62: RuntimeWarning: invalid value encountered in less\n",
      "  rf_conditions = [ut.k_and(~np.isnan(X[:,0]),~np.isnan(y[:,0])),sqerror<0.75,sigma>3.3,pval[ikey]<0.1]\n"
     ]
    },
    {
     "name": "stdout",
     "output_type": "stream",
     "text": [
      "<HDF5 group \"/session_190208_M9355\" (9 members)>\n",
      "decon\n",
      "0.9506944444444444\n"
     ]
    },
    {
     "name": "stderr",
     "output_type": "stream",
     "text": [
      "/Users/agos/Documents/Work/ColumbiaProjects/Data_NewDanFitting/Data/data_scripts/sim_utils.py:62: RuntimeWarning: invalid value encountered in less\n",
      "  rf_conditions = [ut.k_and(~np.isnan(X[:,0]),~np.isnan(y[:,0])),sqerror<0.75,sigma>3.3,pval[ikey]<0.1]\n"
     ]
    },
    {
     "name": "stdout",
     "output_type": "stream",
     "text": [
      "<HDF5 group \"/session_190212_M8536\" (9 members)>\n",
      "decon\n",
      "0.2465277777777778\n"
     ]
    },
    {
     "name": "stderr",
     "output_type": "stream",
     "text": [
      "/Users/agos/Documents/Work/ColumbiaProjects/Data_NewDanFitting/Data/data_scripts/pyute.py:1069: RuntimeWarning: Mean of empty slice\n",
      "  tuning[:,itype] = np.nanmean(data[cell_criteria][:,these_trials],1)\n"
     ]
    },
    {
     "name": "stdout",
     "output_type": "stream",
     "text": [
      "<HDF5 group \"/session_191002_M0293\" (8 members)>\n",
      "decon\n",
      "0.8462301587301587\n"
     ]
    },
    {
     "name": "stderr",
     "output_type": "stream",
     "text": [
      "/Users/agos/Documents/Work/ColumbiaProjects/Data_NewDanFitting/Data/data_scripts/sim_utils.py:62: RuntimeWarning: invalid value encountered in less\n",
      "  rf_conditions = [ut.k_and(~np.isnan(X[:,0]),~np.isnan(y[:,0])),sqerror<0.75,sigma>3.3,pval[ikey]<0.1]\n"
     ]
    },
    {
     "name": "stdout",
     "output_type": "stream",
     "text": [
      "<HDF5 group \"/session_191108_M0403\" (8 members)>\n",
      "decon\n",
      "0.9970238095238095\n"
     ]
    },
    {
     "name": "stderr",
     "output_type": "stream",
     "text": [
      "/Users/agos/Documents/Work/ColumbiaProjects/Data_NewDanFitting/Data/data_scripts/sim_utils.py:62: RuntimeWarning: invalid value encountered in less\n",
      "  rf_conditions = [ut.k_and(~np.isnan(X[:,0]),~np.isnan(y[:,0])),sqerror<0.75,sigma>3.3,pval[ikey]<0.1]\n"
     ]
    },
    {
     "name": "stdout",
     "output_type": "stream",
     "text": [
      "/Users/agos/Documents/Work/ColumbiaProjects/Data_NewDanFitting/Data/RawData/DataLatest/pv_l23_data_struct.hdf5\n",
      "<HDF5 group \"/session_191105_M0589\" (12 members)>\n",
      "decon\n",
      "1.0\n"
     ]
    },
    {
     "name": "stderr",
     "output_type": "stream",
     "text": [
      "/Users/agos/Documents/Work/ColumbiaProjects/Data_NewDanFitting/Data/data_scripts/sim_utils.py:62: RuntimeWarning: invalid value encountered in less\n",
      "  rf_conditions = [ut.k_and(~np.isnan(X[:,0]),~np.isnan(y[:,0])),sqerror<0.75,sigma>3.3,pval[ikey]<0.1]\n"
     ]
    },
    {
     "name": "stdout",
     "output_type": "stream",
     "text": [
      "<HDF5 group \"/session_191220_M0589\" (12 members)>\n",
      "decon\n",
      "0.9995039682539683\n",
      "<HDF5 group \"/session_191229_M0892\" (12 members)>\n",
      "decon\n",
      "0.9995039682539683\n",
      "<HDF5 group \"/session_200102_M0892\" (12 members)>\n",
      "decon\n",
      "0.9350198412698413\n",
      "<HDF5 group \"/session_200108_M0891\" (12 members)>\n",
      "decon\n",
      "0.8606150793650794\n",
      "<HDF5 group \"/session_200620_M0891\" (13 members)>\n",
      "decon\n",
      "0.44543650793650796\n"
     ]
    },
    {
     "name": "stderr",
     "output_type": "stream",
     "text": [
      "/Users/agos/Documents/Work/ColumbiaProjects/Data_NewDanFitting/Data/data_scripts/pyute.py:1069: RuntimeWarning: Mean of empty slice\n",
      "  tuning[:,itype] = np.nanmean(data[cell_criteria][:,these_trials],1)\n"
     ]
    },
    {
     "name": "stdout",
     "output_type": "stream",
     "text": [
      "<HDF5 group \"/session_200621_M0893\" (13 members)>\n",
      "decon\n",
      "0.5277777777777778\n"
     ]
    },
    {
     "name": "stderr",
     "output_type": "stream",
     "text": [
      "/Users/agos/Documents/Work/ColumbiaProjects/Data_NewDanFitting/Data/data_scripts/pyute.py:1069: RuntimeWarning: Mean of empty slice\n",
      "  tuning[:,itype] = np.nanmean(data[cell_criteria][:,these_trials],1)\n"
     ]
    },
    {
     "name": "stdout",
     "output_type": "stream",
     "text": [
      "/Users/agos/Documents/Work/ColumbiaProjects/Data_NewDanFitting/Data/RawData/DataLatest/sst_l23_data_struct.hdf5\n",
      "<HDF5 group \"/session_180713_M9053\" (9 members)>\n",
      "decon\n",
      "0.19083333333333333\n"
     ]
    },
    {
     "name": "stderr",
     "output_type": "stream",
     "text": [
      "/Users/agos/Documents/Work/ColumbiaProjects/Data_NewDanFitting/Data/data_scripts/pyute.py:1069: RuntimeWarning: Mean of empty slice\n",
      "  tuning[:,itype] = np.nanmean(data[cell_criteria][:,these_trials],1)\n"
     ]
    },
    {
     "name": "stdout",
     "output_type": "stream",
     "text": [
      "<HDF5 group \"/session_180714_M9053\" (9 members)>\n",
      "decon\n",
      "0.15583333333333332\n"
     ]
    },
    {
     "name": "stderr",
     "output_type": "stream",
     "text": [
      "/Users/agos/Documents/Work/ColumbiaProjects/Data_NewDanFitting/Data/data_scripts/pyute.py:1069: RuntimeWarning: Mean of empty slice\n",
      "  tuning[:,itype] = np.nanmean(data[cell_criteria][:,these_trials],1)\n",
      "/Users/agos/Documents/Work/ColumbiaProjects/Data_NewDanFitting/Data/data_scripts/sim_utils.py:62: RuntimeWarning: invalid value encountered in less\n",
      "  rf_conditions = [ut.k_and(~np.isnan(X[:,0]),~np.isnan(y[:,0])),sqerror<0.75,sigma>3.3,pval[ikey]<0.1]\n",
      "/Users/agos/Documents/Work/ColumbiaProjects/Data_NewDanFitting/Data/data_scripts/pyute.py:1069: RuntimeWarning: Mean of empty slice\n",
      "  tuning[:,itype] = np.nanmean(data[cell_criteria][:,these_trials],1)\n"
     ]
    },
    {
     "name": "stdout",
     "output_type": "stream",
     "text": [
      "<HDF5 group \"/session_180802_M9053\" (8 members)>\n",
      "decon\n",
      "0.49166666666666664\n",
      "<HDF5 group \"/session_180821_M9417\" (9 members)>\n",
      "decon\n",
      "0.8525\n",
      "<HDF5 group \"/session_181117_M10039\" (9 members)>\n",
      "decon\n",
      "0.7892857142857143\n",
      "<HDF5 group \"/session_181120_M10039\" (8 members)>\n",
      "decon\n",
      "0.8571428571428571\n"
     ]
    },
    {
     "name": "stderr",
     "output_type": "stream",
     "text": [
      "/Users/agos/Documents/Work/ColumbiaProjects/Data_NewDanFitting/Data/data_scripts/sim_utils.py:62: RuntimeWarning: invalid value encountered in less\n",
      "  rf_conditions = [ut.k_and(~np.isnan(X[:,0]),~np.isnan(y[:,0])),sqerror<0.75,sigma>3.3,pval[ikey]<0.1]\n"
     ]
    },
    {
     "name": "stdout",
     "output_type": "stream",
     "text": [
      "<HDF5 group \"/session_181121_M10039\" (8 members)>\n",
      "decon\n",
      "0.9385714285714286\n",
      "<HDF5 group \"/session_191224_M0390\" (11 members)>\n",
      "decon\n",
      "0.9404761904761905\n",
      "/Users/agos/Documents/Work/ColumbiaProjects/Data_NewDanFitting/Data/RawData/DataLatest/vip_l23_data_struct.hdf5\n",
      "<HDF5 group \"/session_180321_M7955\" (8 members)>\n",
      "<HDF5 group \"/session_180412_M7955\" (8 members)>\n",
      "decon\n",
      "0.011\n"
     ]
    },
    {
     "name": "stderr",
     "output_type": "stream",
     "text": [
      "/Users/agos/Documents/Work/ColumbiaProjects/Data_NewDanFitting/Data/data_scripts/pyute.py:1069: RuntimeWarning: Mean of empty slice\n",
      "  tuning[:,itype] = np.nanmean(data[cell_criteria][:,these_trials],1)\n",
      "/Users/agos/Documents/Work/ColumbiaProjects/Data_NewDanFitting/Data/data_scripts/sim_utils.py:62: RuntimeWarning: invalid value encountered in less\n",
      "  rf_conditions = [ut.k_and(~np.isnan(X[:,0]),~np.isnan(y[:,0])),sqerror<0.75,sigma>3.3,pval[ikey]<0.1]\n",
      "/Users/agos/Documents/Work/ColumbiaProjects/Data_NewDanFitting/Data/data_scripts/pyute.py:1069: RuntimeWarning: Mean of empty slice\n",
      "  tuning[:,itype] = np.nanmean(data[cell_criteria][:,these_trials],1)\n"
     ]
    },
    {
     "name": "stdout",
     "output_type": "stream",
     "text": [
      "<HDF5 group \"/session_180516_M8956\" (9 members)>\n",
      "decon\n",
      "0.275\n",
      "<HDF5 group \"/session_180519_M8959\" (8 members)>\n",
      "decon\n",
      "0.0575\n"
     ]
    },
    {
     "name": "stderr",
     "output_type": "stream",
     "text": [
      "/Users/agos/Documents/Work/ColumbiaProjects/Data_NewDanFitting/Data/data_scripts/pyute.py:1069: RuntimeWarning: Mean of empty slice\n",
      "  tuning[:,itype] = np.nanmean(data[cell_criteria][:,these_trials],1)\n"
     ]
    },
    {
     "name": "stdout",
     "output_type": "stream",
     "text": [
      "<HDF5 group \"/session_180528_M8959\" (9 members)>\n",
      "decon\n",
      "0.3383333333333333\n"
     ]
    },
    {
     "name": "stderr",
     "output_type": "stream",
     "text": [
      "/Users/agos/Documents/Work/ColumbiaProjects/Data_NewDanFitting/Data/data_scripts/pyute.py:1069: RuntimeWarning: Mean of empty slice\n",
      "  tuning[:,itype] = np.nanmean(data[cell_criteria][:,these_trials],1)\n"
     ]
    },
    {
     "name": "stdout",
     "output_type": "stream",
     "text": [
      "<HDF5 group \"/session_180531_M8961\" (9 members)>\n",
      "decon\n",
      "0.3625\n"
     ]
    },
    {
     "name": "stderr",
     "output_type": "stream",
     "text": [
      "/Users/agos/Documents/Work/ColumbiaProjects/Data_NewDanFitting/Data/data_scripts/pyute.py:1069: RuntimeWarning: Mean of empty slice\n",
      "  tuning[:,itype] = np.nanmean(data[cell_criteria][:,these_trials],1)\n"
     ]
    },
    {
     "name": "stdout",
     "output_type": "stream",
     "text": [
      "<HDF5 group \"/session_180618_M8956\" (9 members)>\n",
      "decon\n",
      "0.004166666666666667\n"
     ]
    },
    {
     "name": "stderr",
     "output_type": "stream",
     "text": [
      "/Users/agos/Documents/Work/ColumbiaProjects/Data_NewDanFitting/Data/data_scripts/pyute.py:1069: RuntimeWarning: Mean of empty slice\n",
      "  tuning[:,itype] = np.nanmean(data[cell_criteria][:,these_trials],1)\n"
     ]
    },
    {
     "name": "stdout",
     "output_type": "stream",
     "text": [
      "<HDF5 group \"/session_180719_M8961\" (8 members)>\n",
      "decon\n",
      "0.9908333333333333\n",
      "<HDF5 group \"/session_180720_M8961\" (8 members)>\n",
      "decon\n",
      "0.9541666666666667\n",
      "<HDF5 group \"/session_180903_M8961\" (9 members)>\n",
      "decon\n",
      "0.16583333333333333\n"
     ]
    },
    {
     "name": "stderr",
     "output_type": "stream",
     "text": [
      "/Users/agos/Documents/Work/ColumbiaProjects/Data_NewDanFitting/Data/data_scripts/pyute.py:1069: RuntimeWarning: Mean of empty slice\n",
      "  tuning[:,itype] = np.nanmean(data[cell_criteria][:,these_trials],1)\n",
      "/Users/agos/Documents/Work/ColumbiaProjects/Data_NewDanFitting/Data/data_scripts/sim_utils.py:62: RuntimeWarning: invalid value encountered in less\n",
      "  rf_conditions = [ut.k_and(~np.isnan(X[:,0]),~np.isnan(y[:,0])),sqerror<0.75,sigma>3.3,pval[ikey]<0.1]\n"
     ]
    },
    {
     "name": "stdout",
     "output_type": "stream",
     "text": [
      "<HDF5 group \"/session_190710_M0208\" (9 members)>\n",
      "decon\n",
      "0.7237103174603174\n",
      "<HDF5 group \"/session_191215_M0385\" (9 members)>\n",
      "decon\n",
      "0.8100198412698413\n",
      "<HDF5 group \"/session_200103_M0388\" (9 members)>\n",
      "decon\n",
      "0.9191468253968254\n"
     ]
    },
    {
     "name": "stderr",
     "output_type": "stream",
     "text": [
      "/Users/agos/Documents/Work/ColumbiaProjects/Data_NewDanFitting/Data/data_scripts/sim_utils.py:163: RuntimeWarning: invalid value encountered in less\n",
      "  return np.logical_and(criterion(displacement),pval < pcutoff)\n",
      "/Users/agos/Documents/Work/ColumbiaProjects/Data_NewDanFitting/Data/data_scripts/sim_utils.py:143: FutureWarning: Using a non-tuple sequence for multidimensional indexing is deprecated; use `arr[tuple(seq)]` instead of `arr[seq]`. In the future this will be interpreted as an array index, `arr[np.array(seq)]`, which will result either in an error or a different result.\n",
      "  return np.nanmean(np.nanmean(arr[slicer],-1),-1)\n",
      "/Users/agos/anaconda3/lib/python3.6/site-packages/autograd/tracer.py:48: RuntimeWarning: Mean of empty slice\n",
      "  return f_raw(*args, **kwargs)\n"
     ]
    },
    {
     "name": "stdout",
     "output_type": "stream",
     "text": [
      "/Users/agos/Documents/Work/ColumbiaProjects/Data_NewDanFitting/Data/RawData/DataLatest/pyr_l4_data_struct.hdf5\n",
      "<HDF5 group \"/session_181127_M10073\" (8 members)>\n",
      "decon\n",
      "0.1742857142857143\n"
     ]
    },
    {
     "name": "stderr",
     "output_type": "stream",
     "text": [
      "/Users/agos/Documents/Work/ColumbiaProjects/Data_NewDanFitting/Data/data_scripts/pyute.py:1069: RuntimeWarning: Mean of empty slice\n",
      "  tuning[:,itype] = np.nanmean(data[cell_criteria][:,these_trials],1)\n",
      "/Users/agos/Documents/Work/ColumbiaProjects/Data_NewDanFitting/Data/data_scripts/sim_utils.py:62: RuntimeWarning: invalid value encountered in less\n",
      "  rf_conditions = [ut.k_and(~np.isnan(X[:,0]),~np.isnan(y[:,0])),sqerror<0.75,sigma>3.3,pval[ikey]<0.1]\n"
     ]
    },
    {
     "name": "stdout",
     "output_type": "stream",
     "text": [
      "<HDF5 group \"/session_190202_M10075\" (9 members)>\n",
      "decon\n",
      "0.39652777777777776\n"
     ]
    },
    {
     "name": "stderr",
     "output_type": "stream",
     "text": [
      "/Users/agos/Documents/Work/ColumbiaProjects/Data_NewDanFitting/Data/data_scripts/pyute.py:1069: RuntimeWarning: Mean of empty slice\n",
      "  tuning[:,itype] = np.nanmean(data[cell_criteria][:,these_trials],1)\n",
      "/Users/agos/Documents/Work/ColumbiaProjects/Data_NewDanFitting/Data/data_scripts/sim_utils.py:62: RuntimeWarning: invalid value encountered in less\n",
      "  rf_conditions = [ut.k_and(~np.isnan(X[:,0]),~np.isnan(y[:,0])),sqerror<0.75,sigma>3.3,pval[ikey]<0.1]\n"
     ]
    },
    {
     "name": "stdout",
     "output_type": "stream",
     "text": [
      "<HDF5 group \"/session_190304_M10077\" (9 members)>\n",
      "decon\n",
      "0.44027777777777777\n"
     ]
    },
    {
     "name": "stderr",
     "output_type": "stream",
     "text": [
      "/Users/agos/Documents/Work/ColumbiaProjects/Data_NewDanFitting/Data/data_scripts/pyute.py:1069: RuntimeWarning: Mean of empty slice\n",
      "  tuning[:,itype] = np.nanmean(data[cell_criteria][:,these_trials],1)\n"
     ]
    },
    {
     "name": "stdout",
     "output_type": "stream",
     "text": [
      "<HDF5 group \"/session_190607_M10443\" (9 members)>\n",
      "decon\n",
      "0.8590277777777777\n"
     ]
    },
    {
     "name": "stderr",
     "output_type": "stream",
     "text": [
      "/Users/agos/Documents/Work/ColumbiaProjects/Data_NewDanFitting/Data/data_scripts/sim_utils.py:62: RuntimeWarning: invalid value encountered in less\n",
      "  rf_conditions = [ut.k_and(~np.isnan(X[:,0]),~np.isnan(y[:,0])),sqerror<0.75,sigma>3.3,pval[ikey]<0.1]\n"
     ]
    },
    {
     "name": "stdout",
     "output_type": "stream",
     "text": [
      "<HDF5 group \"/session_190620_M10616\" (9 members)>\n",
      "decon\n",
      "0.4568452380952381\n"
     ]
    },
    {
     "name": "stderr",
     "output_type": "stream",
     "text": [
      "/Users/agos/Documents/Work/ColumbiaProjects/Data_NewDanFitting/Data/data_scripts/pyute.py:1069: RuntimeWarning: Mean of empty slice\n",
      "  tuning[:,itype] = np.nanmean(data[cell_criteria][:,these_trials],1)\n"
     ]
    },
    {
     "name": "stdout",
     "output_type": "stream",
     "text": [
      "<HDF5 group \"/session_190620_M10619\" (9 members)>\n",
      "decon\n",
      "0.3993055555555556\n"
     ]
    },
    {
     "name": "stderr",
     "output_type": "stream",
     "text": [
      "/Users/agos/Documents/Work/ColumbiaProjects/Data_NewDanFitting/Data/data_scripts/pyute.py:1069: RuntimeWarning: Mean of empty slice\n",
      "  tuning[:,itype] = np.nanmean(data[cell_criteria][:,these_trials],1)\n",
      "/Users/agos/Documents/Work/ColumbiaProjects/Data_NewDanFitting/Data/data_scripts/sim_utils.py:62: RuntimeWarning: invalid value encountered in less\n",
      "  rf_conditions = [ut.k_and(~np.isnan(X[:,0]),~np.isnan(y[:,0])),sqerror<0.75,sigma>3.3,pval[ikey]<0.1]\n"
     ]
    },
    {
     "name": "stdout",
     "output_type": "stream",
     "text": [
      "<HDF5 group \"/session_190624_M10615\" (8 members)>\n",
      "decon\n",
      "0.9176587301587301\n"
     ]
    },
    {
     "name": "stderr",
     "output_type": "stream",
     "text": [
      "/Users/agos/Documents/Work/ColumbiaProjects/Data_NewDanFitting/Data/data_scripts/sim_utils.py:62: RuntimeWarning: invalid value encountered in less\n",
      "  rf_conditions = [ut.k_and(~np.isnan(X[:,0]),~np.isnan(y[:,0])),sqerror<0.75,sigma>3.3,pval[ikey]<0.1]\n"
     ]
    },
    {
     "name": "stdout",
     "output_type": "stream",
     "text": [
      "<HDF5 group \"/session_190627_M10616\" (9 members)>\n",
      "decon\n",
      "0.2123015873015873\n"
     ]
    },
    {
     "name": "stderr",
     "output_type": "stream",
     "text": [
      "/Users/agos/Documents/Work/ColumbiaProjects/Data_NewDanFitting/Data/data_scripts/pyute.py:1069: RuntimeWarning: Mean of empty slice\n",
      "  tuning[:,itype] = np.nanmean(data[cell_criteria][:,these_trials],1)\n"
     ]
    },
    {
     "name": "stdout",
     "output_type": "stream",
     "text": [
      "<HDF5 group \"/session_190701_M10615\" (8 members)>\n",
      "decon\n",
      "0.3308531746031746\n"
     ]
    },
    {
     "name": "stderr",
     "output_type": "stream",
     "text": [
      "/Users/agos/Documents/Work/ColumbiaProjects/Data_NewDanFitting/Data/data_scripts/pyute.py:1069: RuntimeWarning: Mean of empty slice\n",
      "  tuning[:,itype] = np.nanmean(data[cell_criteria][:,these_trials],1)\n",
      "/Users/agos/Documents/Work/ColumbiaProjects/Data_NewDanFitting/Data/data_scripts/sim_utils.py:62: RuntimeWarning: invalid value encountered in less\n",
      "  rf_conditions = [ut.k_and(~np.isnan(X[:,0]),~np.isnan(y[:,0])),sqerror<0.75,sigma>3.3,pval[ikey]<0.1]\n"
     ]
    },
    {
     "name": "stdout",
     "output_type": "stream",
     "text": [
      "<HDF5 group \"/session_191212_M0762\" (8 members)>\n",
      "decon\n",
      "0.17807539682539683\n"
     ]
    },
    {
     "name": "stderr",
     "output_type": "stream",
     "text": [
      "/Users/agos/Documents/Work/ColumbiaProjects/Data_NewDanFitting/Data/data_scripts/pyute.py:1069: RuntimeWarning: Mean of empty slice\n",
      "  tuning[:,itype] = np.nanmean(data[cell_criteria][:,these_trials],1)\n"
     ]
    },
    {
     "name": "stdout",
     "output_type": "stream",
     "text": [
      "/Users/agos/Documents/Work/ColumbiaProjects/Data_NewDanFitting/Data/RawData/DataLatest/pyr_l23_data_struct.hdf5\n",
      "<HDF5 group \"/session_181205_M10130\" (8 members)>\n",
      "decon\n",
      "0.26785714285714285\n"
     ]
    },
    {
     "name": "stderr",
     "output_type": "stream",
     "text": [
      "/Users/agos/Documents/Work/ColumbiaProjects/Data_NewDanFitting/Data/data_scripts/pyute.py:1069: RuntimeWarning: Mean of empty slice\n",
      "  tuning[:,itype] = np.nanmean(data[cell_criteria][:,these_trials],1)\n"
     ]
    },
    {
     "name": "stdout",
     "output_type": "stream",
     "text": [
      "<HDF5 group \"/session_181209_M8536\" (9 members)>\n",
      "decon\n",
      "0.1692857142857143\n"
     ]
    },
    {
     "name": "stderr",
     "output_type": "stream",
     "text": [
      "/Users/agos/Documents/Work/ColumbiaProjects/Data_NewDanFitting/Data/data_scripts/pyute.py:1069: RuntimeWarning: Mean of empty slice\n",
      "  tuning[:,itype] = np.nanmean(data[cell_criteria][:,these_trials],1)\n",
      "/Users/agos/Documents/Work/ColumbiaProjects/Data_NewDanFitting/Data/data_scripts/sim_utils.py:62: RuntimeWarning: invalid value encountered in less\n",
      "  rf_conditions = [ut.k_and(~np.isnan(X[:,0]),~np.isnan(y[:,0])),sqerror<0.75,sigma>3.3,pval[ikey]<0.1]\n"
     ]
    },
    {
     "name": "stdout",
     "output_type": "stream",
     "text": [
      "<HDF5 group \"/session_181213_M8536\" (8 members)>\n",
      "decon\n",
      "0.9614285714285714\n",
      "<HDF5 group \"/session_181214_M10130\" (8 members)>\n",
      "decon\n",
      "0.5857142857142857\n"
     ]
    },
    {
     "name": "stderr",
     "output_type": "stream",
     "text": [
      "/Users/agos/Documents/Work/ColumbiaProjects/Data_NewDanFitting/Data/data_scripts/sim_utils.py:62: RuntimeWarning: invalid value encountered in less\n",
      "  rf_conditions = [ut.k_and(~np.isnan(X[:,0]),~np.isnan(y[:,0])),sqerror<0.75,sigma>3.3,pval[ikey]<0.1]\n"
     ]
    },
    {
     "name": "stdout",
     "output_type": "stream",
     "text": [
      "<HDF5 group \"/session_190102_M10130\" (8 members)>\n",
      "decon\n",
      "0.5508333333333333\n",
      "<HDF5 group \"/session_190128_M8982\" (9 members)>\n",
      "decon\n",
      "0.05277777777777778\n"
     ]
    },
    {
     "name": "stderr",
     "output_type": "stream",
     "text": [
      "/Users/agos/Documents/Work/ColumbiaProjects/Data_NewDanFitting/Data/data_scripts/pyute.py:1069: RuntimeWarning: Mean of empty slice\n",
      "  tuning[:,itype] = np.nanmean(data[cell_criteria][:,these_trials],1)\n",
      "/Users/agos/Documents/Work/ColumbiaProjects/Data_NewDanFitting/Data/data_scripts/sim_utils.py:62: RuntimeWarning: invalid value encountered in less\n",
      "  rf_conditions = [ut.k_and(~np.isnan(X[:,0]),~np.isnan(y[:,0])),sqerror<0.75,sigma>3.3,pval[ikey]<0.1]\n"
     ]
    },
    {
     "name": "stdout",
     "output_type": "stream",
     "text": [
      "<HDF5 group \"/session_190130_M9667\" (9 members)>\n",
      "decon\n",
      "0.8097222222222222\n"
     ]
    },
    {
     "name": "stderr",
     "output_type": "stream",
     "text": [
      "/Users/agos/Documents/Work/ColumbiaProjects/Data_NewDanFitting/Data/data_scripts/sim_utils.py:62: RuntimeWarning: invalid value encountered in less\n",
      "  rf_conditions = [ut.k_and(~np.isnan(X[:,0]),~np.isnan(y[:,0])),sqerror<0.75,sigma>3.3,pval[ikey]<0.1]\n"
     ]
    },
    {
     "name": "stdout",
     "output_type": "stream",
     "text": [
      "<HDF5 group \"/session_190131_M9355\" (9 members)>\n",
      "decon\n",
      "0.06597222222222222\n"
     ]
    },
    {
     "name": "stderr",
     "output_type": "stream",
     "text": [
      "/Users/agos/Documents/Work/ColumbiaProjects/Data_NewDanFitting/Data/data_scripts/pyute.py:1069: RuntimeWarning: Mean of empty slice\n",
      "  tuning[:,itype] = np.nanmean(data[cell_criteria][:,these_trials],1)\n",
      "/Users/agos/Documents/Work/ColumbiaProjects/Data_NewDanFitting/Data/data_scripts/sim_utils.py:62: RuntimeWarning: invalid value encountered in less\n",
      "  rf_conditions = [ut.k_and(~np.isnan(X[:,0]),~np.isnan(y[:,0])),sqerror<0.75,sigma>3.3,pval[ikey]<0.1]\n"
     ]
    },
    {
     "name": "stdout",
     "output_type": "stream",
     "text": [
      "<HDF5 group \"/session_190208_M9355\" (9 members)>\n",
      "decon\n",
      "0.049305555555555554\n"
     ]
    },
    {
     "name": "stderr",
     "output_type": "stream",
     "text": [
      "/Users/agos/Documents/Work/ColumbiaProjects/Data_NewDanFitting/Data/data_scripts/pyute.py:1069: RuntimeWarning: Mean of empty slice\n",
      "  tuning[:,itype] = np.nanmean(data[cell_criteria][:,these_trials],1)\n",
      "/Users/agos/Documents/Work/ColumbiaProjects/Data_NewDanFitting/Data/data_scripts/sim_utils.py:62: RuntimeWarning: invalid value encountered in less\n",
      "  rf_conditions = [ut.k_and(~np.isnan(X[:,0]),~np.isnan(y[:,0])),sqerror<0.75,sigma>3.3,pval[ikey]<0.1]\n"
     ]
    },
    {
     "name": "stdout",
     "output_type": "stream",
     "text": [
      "<HDF5 group \"/session_190212_M8536\" (9 members)>\n",
      "decon\n",
      "0.7534722222222222\n"
     ]
    },
    {
     "name": "stderr",
     "output_type": "stream",
     "text": [
      "/Users/agos/Documents/Work/ColumbiaProjects/Data_NewDanFitting/Data/data_scripts/pyute.py:1069: RuntimeWarning: Mean of empty slice\n",
      "  tuning[:,itype] = np.nanmean(data[cell_criteria][:,these_trials],1)\n"
     ]
    },
    {
     "name": "stdout",
     "output_type": "stream",
     "text": [
      "<HDF5 group \"/session_191002_M0293\" (8 members)>\n",
      "decon\n",
      "0.15376984126984128\n"
     ]
    },
    {
     "name": "stderr",
     "output_type": "stream",
     "text": [
      "/Users/agos/Documents/Work/ColumbiaProjects/Data_NewDanFitting/Data/data_scripts/pyute.py:1069: RuntimeWarning: Mean of empty slice\n",
      "  tuning[:,itype] = np.nanmean(data[cell_criteria][:,these_trials],1)\n",
      "/Users/agos/Documents/Work/ColumbiaProjects/Data_NewDanFitting/Data/data_scripts/sim_utils.py:62: RuntimeWarning: invalid value encountered in less\n",
      "  rf_conditions = [ut.k_and(~np.isnan(X[:,0]),~np.isnan(y[:,0])),sqerror<0.75,sigma>3.3,pval[ikey]<0.1]\n"
     ]
    },
    {
     "name": "stdout",
     "output_type": "stream",
     "text": [
      "<HDF5 group \"/session_191108_M0403\" (8 members)>\n",
      "decon\n",
      "0.002976190476190476\n"
     ]
    },
    {
     "name": "stderr",
     "output_type": "stream",
     "text": [
      "/Users/agos/Documents/Work/ColumbiaProjects/Data_NewDanFitting/Data/data_scripts/pyute.py:1069: RuntimeWarning: Mean of empty slice\n",
      "  tuning[:,itype] = np.nanmean(data[cell_criteria][:,these_trials],1)\n",
      "/Users/agos/Documents/Work/ColumbiaProjects/Data_NewDanFitting/Data/data_scripts/sim_utils.py:62: RuntimeWarning: invalid value encountered in less\n",
      "  rf_conditions = [ut.k_and(~np.isnan(X[:,0]),~np.isnan(y[:,0])),sqerror<0.75,sigma>3.3,pval[ikey]<0.1]\n"
     ]
    },
    {
     "name": "stdout",
     "output_type": "stream",
     "text": [
      "/Users/agos/Documents/Work/ColumbiaProjects/Data_NewDanFitting/Data/RawData/DataLatest/pv_l23_data_struct.hdf5\n",
      "<HDF5 group \"/session_191105_M0589\" (12 members)>\n",
      "decon\n",
      "0.0\n"
     ]
    },
    {
     "name": "stderr",
     "output_type": "stream",
     "text": [
      "/Users/agos/Documents/Work/ColumbiaProjects/Data_NewDanFitting/Data/data_scripts/pyute.py:1069: RuntimeWarning: Mean of empty slice\n",
      "  tuning[:,itype] = np.nanmean(data[cell_criteria][:,these_trials],1)\n",
      "/Users/agos/Documents/Work/ColumbiaProjects/Data_NewDanFitting/Data/data_scripts/sim_utils.py:62: RuntimeWarning: invalid value encountered in less\n",
      "  rf_conditions = [ut.k_and(~np.isnan(X[:,0]),~np.isnan(y[:,0])),sqerror<0.75,sigma>3.3,pval[ikey]<0.1]\n",
      "/Users/agos/Documents/Work/ColumbiaProjects/Data_NewDanFitting/Data/data_scripts/pyute.py:1069: RuntimeWarning: Mean of empty slice\n",
      "  tuning[:,itype] = np.nanmean(data[cell_criteria][:,these_trials],1)\n"
     ]
    },
    {
     "name": "stdout",
     "output_type": "stream",
     "text": [
      "<HDF5 group \"/session_191220_M0589\" (12 members)>\n",
      "decon\n",
      "0.000496031746031746\n",
      "<HDF5 group \"/session_191229_M0892\" (12 members)>\n",
      "decon\n",
      "0.000496031746031746\n"
     ]
    },
    {
     "name": "stderr",
     "output_type": "stream",
     "text": [
      "/Users/agos/Documents/Work/ColumbiaProjects/Data_NewDanFitting/Data/data_scripts/pyute.py:1069: RuntimeWarning: Mean of empty slice\n",
      "  tuning[:,itype] = np.nanmean(data[cell_criteria][:,these_trials],1)\n"
     ]
    },
    {
     "name": "stdout",
     "output_type": "stream",
     "text": [
      "<HDF5 group \"/session_200102_M0892\" (12 members)>\n",
      "decon\n",
      "0.06498015873015874\n"
     ]
    },
    {
     "name": "stderr",
     "output_type": "stream",
     "text": [
      "/Users/agos/Documents/Work/ColumbiaProjects/Data_NewDanFitting/Data/data_scripts/pyute.py:1069: RuntimeWarning: Mean of empty slice\n",
      "  tuning[:,itype] = np.nanmean(data[cell_criteria][:,these_trials],1)\n"
     ]
    },
    {
     "name": "stdout",
     "output_type": "stream",
     "text": [
      "<HDF5 group \"/session_200108_M0891\" (12 members)>\n",
      "decon\n",
      "0.13938492063492064\n"
     ]
    },
    {
     "name": "stderr",
     "output_type": "stream",
     "text": [
      "/Users/agos/Documents/Work/ColumbiaProjects/Data_NewDanFitting/Data/data_scripts/pyute.py:1069: RuntimeWarning: Mean of empty slice\n",
      "  tuning[:,itype] = np.nanmean(data[cell_criteria][:,these_trials],1)\n"
     ]
    },
    {
     "name": "stdout",
     "output_type": "stream",
     "text": [
      "<HDF5 group \"/session_200620_M0891\" (13 members)>\n",
      "decon\n",
      "0.5545634920634921\n"
     ]
    },
    {
     "name": "stderr",
     "output_type": "stream",
     "text": [
      "/Users/agos/Documents/Work/ColumbiaProjects/Data_NewDanFitting/Data/data_scripts/pyute.py:1069: RuntimeWarning: Mean of empty slice\n",
      "  tuning[:,itype] = np.nanmean(data[cell_criteria][:,these_trials],1)\n"
     ]
    },
    {
     "name": "stdout",
     "output_type": "stream",
     "text": [
      "<HDF5 group \"/session_200621_M0893\" (13 members)>\n",
      "decon\n",
      "0.4722222222222222\n"
     ]
    },
    {
     "name": "stderr",
     "output_type": "stream",
     "text": [
      "/Users/agos/Documents/Work/ColumbiaProjects/Data_NewDanFitting/Data/data_scripts/pyute.py:1069: RuntimeWarning: Mean of empty slice\n",
      "  tuning[:,itype] = np.nanmean(data[cell_criteria][:,these_trials],1)\n"
     ]
    },
    {
     "name": "stdout",
     "output_type": "stream",
     "text": [
      "/Users/agos/Documents/Work/ColumbiaProjects/Data_NewDanFitting/Data/RawData/DataLatest/sst_l23_data_struct.hdf5\n",
      "<HDF5 group \"/session_180713_M9053\" (9 members)>\n",
      "decon\n",
      "0.8091666666666667\n",
      "<HDF5 group \"/session_180714_M9053\" (9 members)>\n",
      "decon\n",
      "0.8441666666666666\n"
     ]
    },
    {
     "name": "stderr",
     "output_type": "stream",
     "text": [
      "/Users/agos/Documents/Work/ColumbiaProjects/Data_NewDanFitting/Data/data_scripts/sim_utils.py:62: RuntimeWarning: invalid value encountered in less\n",
      "  rf_conditions = [ut.k_and(~np.isnan(X[:,0]),~np.isnan(y[:,0])),sqerror<0.75,sigma>3.3,pval[ikey]<0.1]\n"
     ]
    },
    {
     "name": "stdout",
     "output_type": "stream",
     "text": [
      "<HDF5 group \"/session_180802_M9053\" (8 members)>\n",
      "decon\n",
      "0.5083333333333333\n"
     ]
    },
    {
     "name": "stderr",
     "output_type": "stream",
     "text": [
      "/Users/agos/Documents/Work/ColumbiaProjects/Data_NewDanFitting/Data/data_scripts/pyute.py:1069: RuntimeWarning: Mean of empty slice\n",
      "  tuning[:,itype] = np.nanmean(data[cell_criteria][:,these_trials],1)\n"
     ]
    },
    {
     "name": "stdout",
     "output_type": "stream",
     "text": [
      "<HDF5 group \"/session_180821_M9417\" (9 members)>\n",
      "decon\n",
      "0.1475\n"
     ]
    },
    {
     "name": "stderr",
     "output_type": "stream",
     "text": [
      "/Users/agos/Documents/Work/ColumbiaProjects/Data_NewDanFitting/Data/data_scripts/pyute.py:1069: RuntimeWarning: Mean of empty slice\n",
      "  tuning[:,itype] = np.nanmean(data[cell_criteria][:,these_trials],1)\n"
     ]
    },
    {
     "name": "stdout",
     "output_type": "stream",
     "text": [
      "<HDF5 group \"/session_181117_M10039\" (9 members)>\n",
      "decon\n",
      "0.21071428571428572\n"
     ]
    },
    {
     "name": "stderr",
     "output_type": "stream",
     "text": [
      "/Users/agos/Documents/Work/ColumbiaProjects/Data_NewDanFitting/Data/data_scripts/pyute.py:1069: RuntimeWarning: Mean of empty slice\n",
      "  tuning[:,itype] = np.nanmean(data[cell_criteria][:,these_trials],1)\n"
     ]
    },
    {
     "name": "stdout",
     "output_type": "stream",
     "text": [
      "<HDF5 group \"/session_181120_M10039\" (8 members)>\n",
      "decon\n",
      "0.14285714285714285\n"
     ]
    },
    {
     "name": "stderr",
     "output_type": "stream",
     "text": [
      "/Users/agos/Documents/Work/ColumbiaProjects/Data_NewDanFitting/Data/data_scripts/pyute.py:1069: RuntimeWarning: Mean of empty slice\n",
      "  tuning[:,itype] = np.nanmean(data[cell_criteria][:,these_trials],1)\n",
      "/Users/agos/Documents/Work/ColumbiaProjects/Data_NewDanFitting/Data/data_scripts/sim_utils.py:62: RuntimeWarning: invalid value encountered in less\n",
      "  rf_conditions = [ut.k_and(~np.isnan(X[:,0]),~np.isnan(y[:,0])),sqerror<0.75,sigma>3.3,pval[ikey]<0.1]\n",
      "/Users/agos/Documents/Work/ColumbiaProjects/Data_NewDanFitting/Data/data_scripts/pyute.py:1069: RuntimeWarning: Mean of empty slice\n",
      "  tuning[:,itype] = np.nanmean(data[cell_criteria][:,these_trials],1)\n"
     ]
    },
    {
     "name": "stdout",
     "output_type": "stream",
     "text": [
      "<HDF5 group \"/session_181121_M10039\" (8 members)>\n",
      "decon\n",
      "0.06142857142857143\n",
      "<HDF5 group \"/session_191224_M0390\" (11 members)>\n",
      "decon\n",
      "0.05952380952380952\n"
     ]
    },
    {
     "name": "stderr",
     "output_type": "stream",
     "text": [
      "/Users/agos/Documents/Work/ColumbiaProjects/Data_NewDanFitting/Data/data_scripts/pyute.py:1069: RuntimeWarning: Mean of empty slice\n",
      "  tuning[:,itype] = np.nanmean(data[cell_criteria][:,these_trials],1)\n"
     ]
    },
    {
     "name": "stdout",
     "output_type": "stream",
     "text": [
      "/Users/agos/Documents/Work/ColumbiaProjects/Data_NewDanFitting/Data/RawData/DataLatest/vip_l23_data_struct.hdf5\n",
      "<HDF5 group \"/session_180321_M7955\" (8 members)>\n",
      "<HDF5 group \"/session_180412_M7955\" (8 members)>\n",
      "decon\n",
      "0.989\n"
     ]
    },
    {
     "name": "stderr",
     "output_type": "stream",
     "text": [
      "/Users/agos/Documents/Work/ColumbiaProjects/Data_NewDanFitting/Data/data_scripts/sim_utils.py:62: RuntimeWarning: invalid value encountered in less\n",
      "  rf_conditions = [ut.k_and(~np.isnan(X[:,0]),~np.isnan(y[:,0])),sqerror<0.75,sigma>3.3,pval[ikey]<0.1]\n"
     ]
    },
    {
     "name": "stdout",
     "output_type": "stream",
     "text": [
      "<HDF5 group \"/session_180516_M8956\" (9 members)>\n",
      "decon\n",
      "0.725\n",
      "<HDF5 group \"/session_180519_M8959\" (8 members)>\n",
      "decon\n",
      "0.9425\n",
      "<HDF5 group \"/session_180528_M8959\" (9 members)>\n",
      "decon\n",
      "0.6616666666666666\n"
     ]
    },
    {
     "name": "stderr",
     "output_type": "stream",
     "text": [
      "/Users/agos/Documents/Work/ColumbiaProjects/Data_NewDanFitting/Data/data_scripts/pyute.py:1069: RuntimeWarning: Mean of empty slice\n",
      "  tuning[:,itype] = np.nanmean(data[cell_criteria][:,these_trials],1)\n"
     ]
    },
    {
     "name": "stdout",
     "output_type": "stream",
     "text": [
      "<HDF5 group \"/session_180531_M8961\" (9 members)>\n",
      "decon\n",
      "0.6375\n"
     ]
    },
    {
     "name": "stderr",
     "output_type": "stream",
     "text": [
      "/Users/agos/Documents/Work/ColumbiaProjects/Data_NewDanFitting/Data/data_scripts/pyute.py:1069: RuntimeWarning: Mean of empty slice\n",
      "  tuning[:,itype] = np.nanmean(data[cell_criteria][:,these_trials],1)\n"
     ]
    },
    {
     "name": "stdout",
     "output_type": "stream",
     "text": [
      "<HDF5 group \"/session_180618_M8956\" (9 members)>\n",
      "decon\n",
      "0.9958333333333333\n",
      "<HDF5 group \"/session_180719_M8961\" (8 members)>\n",
      "decon\n",
      "0.009166666666666667\n"
     ]
    },
    {
     "name": "stderr",
     "output_type": "stream",
     "text": [
      "/Users/agos/Documents/Work/ColumbiaProjects/Data_NewDanFitting/Data/data_scripts/pyute.py:1069: RuntimeWarning: Mean of empty slice\n",
      "  tuning[:,itype] = np.nanmean(data[cell_criteria][:,these_trials],1)\n"
     ]
    },
    {
     "name": "stdout",
     "output_type": "stream",
     "text": [
      "<HDF5 group \"/session_180720_M8961\" (8 members)>\n",
      "decon\n",
      "0.04583333333333333\n"
     ]
    },
    {
     "name": "stderr",
     "output_type": "stream",
     "text": [
      "/Users/agos/Documents/Work/ColumbiaProjects/Data_NewDanFitting/Data/data_scripts/pyute.py:1069: RuntimeWarning: Mean of empty slice\n",
      "  tuning[:,itype] = np.nanmean(data[cell_criteria][:,these_trials],1)\n"
     ]
    },
    {
     "name": "stdout",
     "output_type": "stream",
     "text": [
      "<HDF5 group \"/session_180903_M8961\" (9 members)>\n",
      "decon\n",
      "0.8341666666666666\n"
     ]
    },
    {
     "name": "stderr",
     "output_type": "stream",
     "text": [
      "/Users/agos/Documents/Work/ColumbiaProjects/Data_NewDanFitting/Data/data_scripts/sim_utils.py:62: RuntimeWarning: invalid value encountered in less\n",
      "  rf_conditions = [ut.k_and(~np.isnan(X[:,0]),~np.isnan(y[:,0])),sqerror<0.75,sigma>3.3,pval[ikey]<0.1]\n"
     ]
    },
    {
     "name": "stdout",
     "output_type": "stream",
     "text": [
      "<HDF5 group \"/session_190710_M0208\" (9 members)>\n",
      "decon\n",
      "0.27628968253968256\n"
     ]
    },
    {
     "name": "stderr",
     "output_type": "stream",
     "text": [
      "/Users/agos/Documents/Work/ColumbiaProjects/Data_NewDanFitting/Data/data_scripts/pyute.py:1069: RuntimeWarning: Mean of empty slice\n",
      "  tuning[:,itype] = np.nanmean(data[cell_criteria][:,these_trials],1)\n"
     ]
    },
    {
     "name": "stdout",
     "output_type": "stream",
     "text": [
      "<HDF5 group \"/session_191215_M0385\" (9 members)>\n",
      "decon\n",
      "0.18998015873015872\n"
     ]
    },
    {
     "name": "stderr",
     "output_type": "stream",
     "text": [
      "/Users/agos/Documents/Work/ColumbiaProjects/Data_NewDanFitting/Data/data_scripts/pyute.py:1069: RuntimeWarning: Mean of empty slice\n",
      "  tuning[:,itype] = np.nanmean(data[cell_criteria][:,these_trials],1)\n"
     ]
    },
    {
     "name": "stdout",
     "output_type": "stream",
     "text": [
      "<HDF5 group \"/session_200103_M0388\" (9 members)>\n",
      "decon\n",
      "0.08085317460317461\n"
     ]
    },
    {
     "name": "stderr",
     "output_type": "stream",
     "text": [
      "/Users/agos/Documents/Work/ColumbiaProjects/Data_NewDanFitting/Data/data_scripts/pyute.py:1069: RuntimeWarning: Mean of empty slice\n",
      "  tuning[:,itype] = np.nanmean(data[cell_criteria][:,these_trials],1)\n",
      "/Users/agos/Documents/Work/ColumbiaProjects/Data_NewDanFitting/Data/data_scripts/sim_utils.py:163: RuntimeWarning: invalid value encountered in less\n",
      "  return np.logical_and(criterion(displacement),pval < pcutoff)\n",
      "/Users/agos/Documents/Work/ColumbiaProjects/Data_NewDanFitting/Data/data_scripts/sim_utils.py:143: FutureWarning: Using a non-tuple sequence for multidimensional indexing is deprecated; use `arr[tuple(seq)]` instead of `arr[seq]`. In the future this will be interpreted as an array index, `arr[np.array(seq)]`, which will result either in an error or a different result.\n",
      "  return np.nanmean(np.nanmean(arr[slicer],-1),-1)\n",
      "/Users/agos/anaconda3/lib/python3.6/site-packages/autograd/tracer.py:48: RuntimeWarning: Mean of empty slice\n",
      "  return f_raw(*args, **kwargs)\n"
     ]
    },
    {
     "name": "stdout",
     "output_type": "stream",
     "text": [
      "/Users/agos/Documents/Work/ColumbiaProjects/Data_NewDanFitting/Data/RawData/DataLatest/pyr_l4_data_struct.hdf5\n",
      "<HDF5 group \"/session_181127_M10073\" (8 members)>\n",
      "decon\n",
      "0.8257142857142857\n"
     ]
    },
    {
     "name": "stderr",
     "output_type": "stream",
     "text": [
      "/Users/agos/Documents/Work/ColumbiaProjects/Data_NewDanFitting/Data/data_scripts/sim_utils.py:62: RuntimeWarning: invalid value encountered in less\n",
      "  rf_conditions = [ut.k_and(~np.isnan(X[:,0]),~np.isnan(y[:,0])),sqerror<0.75,sigma>3.3,pval[ikey]<0.1]\n"
     ]
    },
    {
     "name": "stdout",
     "output_type": "stream",
     "text": [
      "<HDF5 group \"/session_190202_M10075\" (9 members)>\n",
      "decon\n",
      "0.6034722222222222\n"
     ]
    },
    {
     "name": "stderr",
     "output_type": "stream",
     "text": [
      "/Users/agos/Documents/Work/ColumbiaProjects/Data_NewDanFitting/Data/data_scripts/sim_utils.py:62: RuntimeWarning: invalid value encountered in less\n",
      "  rf_conditions = [ut.k_and(~np.isnan(X[:,0]),~np.isnan(y[:,0])),sqerror<0.75,sigma>3.3,pval[ikey]<0.1]\n"
     ]
    },
    {
     "name": "stdout",
     "output_type": "stream",
     "text": [
      "<HDF5 group \"/session_190304_M10077\" (9 members)>\n",
      "decon\n",
      "0.5597222222222222\n"
     ]
    },
    {
     "name": "stderr",
     "output_type": "stream",
     "text": [
      "/Users/agos/Documents/Work/ColumbiaProjects/Data_NewDanFitting/Data/data_scripts/pyute.py:1069: RuntimeWarning: Mean of empty slice\n",
      "  tuning[:,itype] = np.nanmean(data[cell_criteria][:,these_trials],1)\n"
     ]
    },
    {
     "name": "stdout",
     "output_type": "stream",
     "text": [
      "<HDF5 group \"/session_190607_M10443\" (9 members)>\n",
      "decon\n",
      "0.14097222222222222\n"
     ]
    },
    {
     "name": "stderr",
     "output_type": "stream",
     "text": [
      "/Users/agos/Documents/Work/ColumbiaProjects/Data_NewDanFitting/Data/data_scripts/pyute.py:1069: RuntimeWarning: Mean of empty slice\n",
      "  tuning[:,itype] = np.nanmean(data[cell_criteria][:,these_trials],1)\n",
      "/Users/agos/Documents/Work/ColumbiaProjects/Data_NewDanFitting/Data/data_scripts/sim_utils.py:62: RuntimeWarning: invalid value encountered in less\n",
      "  rf_conditions = [ut.k_and(~np.isnan(X[:,0]),~np.isnan(y[:,0])),sqerror<0.75,sigma>3.3,pval[ikey]<0.1]\n"
     ]
    },
    {
     "name": "stdout",
     "output_type": "stream",
     "text": [
      "<HDF5 group \"/session_190620_M10616\" (9 members)>\n",
      "decon\n",
      "0.5431547619047619\n"
     ]
    },
    {
     "name": "stderr",
     "output_type": "stream",
     "text": [
      "/Users/agos/Documents/Work/ColumbiaProjects/Data_NewDanFitting/Data/data_scripts/pyute.py:1069: RuntimeWarning: Mean of empty slice\n",
      "  tuning[:,itype] = np.nanmean(data[cell_criteria][:,these_trials],1)\n"
     ]
    },
    {
     "name": "stdout",
     "output_type": "stream",
     "text": [
      "<HDF5 group \"/session_190620_M10619\" (9 members)>\n",
      "decon\n",
      "0.6006944444444444\n"
     ]
    },
    {
     "name": "stderr",
     "output_type": "stream",
     "text": [
      "/Users/agos/Documents/Work/ColumbiaProjects/Data_NewDanFitting/Data/data_scripts/pyute.py:1069: RuntimeWarning: Mean of empty slice\n",
      "  tuning[:,itype] = np.nanmean(data[cell_criteria][:,these_trials],1)\n",
      "/Users/agos/Documents/Work/ColumbiaProjects/Data_NewDanFitting/Data/data_scripts/sim_utils.py:62: RuntimeWarning: invalid value encountered in less\n",
      "  rf_conditions = [ut.k_and(~np.isnan(X[:,0]),~np.isnan(y[:,0])),sqerror<0.75,sigma>3.3,pval[ikey]<0.1]\n"
     ]
    },
    {
     "name": "stdout",
     "output_type": "stream",
     "text": [
      "<HDF5 group \"/session_190624_M10615\" (8 members)>\n",
      "decon\n",
      "0.08234126984126984\n"
     ]
    },
    {
     "name": "stderr",
     "output_type": "stream",
     "text": [
      "/Users/agos/Documents/Work/ColumbiaProjects/Data_NewDanFitting/Data/data_scripts/pyute.py:1069: RuntimeWarning: Mean of empty slice\n",
      "  tuning[:,itype] = np.nanmean(data[cell_criteria][:,these_trials],1)\n",
      "/Users/agos/Documents/Work/ColumbiaProjects/Data_NewDanFitting/Data/data_scripts/sim_utils.py:62: RuntimeWarning: invalid value encountered in less\n",
      "  rf_conditions = [ut.k_and(~np.isnan(X[:,0]),~np.isnan(y[:,0])),sqerror<0.75,sigma>3.3,pval[ikey]<0.1]\n"
     ]
    },
    {
     "name": "stdout",
     "output_type": "stream",
     "text": [
      "<HDF5 group \"/session_190627_M10616\" (9 members)>\n",
      "decon\n",
      "0.7876984126984127\n",
      "<HDF5 group \"/session_190701_M10615\" (8 members)>\n",
      "decon\n",
      "0.6691468253968254\n"
     ]
    },
    {
     "name": "stderr",
     "output_type": "stream",
     "text": [
      "/Users/agos/Documents/Work/ColumbiaProjects/Data_NewDanFitting/Data/data_scripts/sim_utils.py:62: RuntimeWarning: invalid value encountered in less\n",
      "  rf_conditions = [ut.k_and(~np.isnan(X[:,0]),~np.isnan(y[:,0])),sqerror<0.75,sigma>3.3,pval[ikey]<0.1]\n"
     ]
    },
    {
     "name": "stdout",
     "output_type": "stream",
     "text": [
      "<HDF5 group \"/session_191212_M0762\" (8 members)>\n",
      "decon\n",
      "0.8219246031746031\n",
      "/Users/agos/Documents/Work/ColumbiaProjects/Data_NewDanFitting/Data/RawData/DataLatest/pyr_l23_data_struct.hdf5\n",
      "<HDF5 group \"/session_181205_M10130\" (8 members)>\n",
      "decon\n",
      "0.7321428571428571\n",
      "<HDF5 group \"/session_181209_M8536\" (9 members)>\n",
      "decon\n",
      "0.8307142857142857\n"
     ]
    },
    {
     "name": "stderr",
     "output_type": "stream",
     "text": [
      "/Users/agos/Documents/Work/ColumbiaProjects/Data_NewDanFitting/Data/data_scripts/sim_utils.py:62: RuntimeWarning: invalid value encountered in less\n",
      "  rf_conditions = [ut.k_and(~np.isnan(X[:,0]),~np.isnan(y[:,0])),sqerror<0.75,sigma>3.3,pval[ikey]<0.1]\n"
     ]
    },
    {
     "name": "stdout",
     "output_type": "stream",
     "text": [
      "<HDF5 group \"/session_181213_M8536\" (8 members)>\n",
      "decon\n",
      "0.03857142857142857\n"
     ]
    },
    {
     "name": "stderr",
     "output_type": "stream",
     "text": [
      "/Users/agos/Documents/Work/ColumbiaProjects/Data_NewDanFitting/Data/data_scripts/pyute.py:1069: RuntimeWarning: Mean of empty slice\n",
      "  tuning[:,itype] = np.nanmean(data[cell_criteria][:,these_trials],1)\n"
     ]
    },
    {
     "name": "stdout",
     "output_type": "stream",
     "text": [
      "<HDF5 group \"/session_181214_M10130\" (8 members)>\n",
      "decon\n",
      "0.4142857142857143\n"
     ]
    },
    {
     "name": "stderr",
     "output_type": "stream",
     "text": [
      "/Users/agos/Documents/Work/ColumbiaProjects/Data_NewDanFitting/Data/data_scripts/pyute.py:1069: RuntimeWarning: Mean of empty slice\n",
      "  tuning[:,itype] = np.nanmean(data[cell_criteria][:,these_trials],1)\n",
      "/Users/agos/Documents/Work/ColumbiaProjects/Data_NewDanFitting/Data/data_scripts/sim_utils.py:62: RuntimeWarning: invalid value encountered in less\n",
      "  rf_conditions = [ut.k_and(~np.isnan(X[:,0]),~np.isnan(y[:,0])),sqerror<0.75,sigma>3.3,pval[ikey]<0.1]\n"
     ]
    },
    {
     "name": "stdout",
     "output_type": "stream",
     "text": [
      "<HDF5 group \"/session_190102_M10130\" (8 members)>\n",
      "decon\n",
      "0.44916666666666666\n",
      "<HDF5 group \"/session_190128_M8982\" (9 members)>\n",
      "decon\n",
      "0.9472222222222222\n"
     ]
    },
    {
     "name": "stderr",
     "output_type": "stream",
     "text": [
      "/Users/agos/Documents/Work/ColumbiaProjects/Data_NewDanFitting/Data/data_scripts/sim_utils.py:62: RuntimeWarning: invalid value encountered in less\n",
      "  rf_conditions = [ut.k_and(~np.isnan(X[:,0]),~np.isnan(y[:,0])),sqerror<0.75,sigma>3.3,pval[ikey]<0.1]\n"
     ]
    },
    {
     "name": "stdout",
     "output_type": "stream",
     "text": [
      "<HDF5 group \"/session_190130_M9667\" (9 members)>\n",
      "decon\n",
      "0.19027777777777777\n"
     ]
    },
    {
     "name": "stderr",
     "output_type": "stream",
     "text": [
      "/Users/agos/Documents/Work/ColumbiaProjects/Data_NewDanFitting/Data/data_scripts/pyute.py:1069: RuntimeWarning: Mean of empty slice\n",
      "  tuning[:,itype] = np.nanmean(data[cell_criteria][:,these_trials],1)\n",
      "/Users/agos/Documents/Work/ColumbiaProjects/Data_NewDanFitting/Data/data_scripts/sim_utils.py:62: RuntimeWarning: invalid value encountered in less\n",
      "  rf_conditions = [ut.k_and(~np.isnan(X[:,0]),~np.isnan(y[:,0])),sqerror<0.75,sigma>3.3,pval[ikey]<0.1]\n"
     ]
    },
    {
     "name": "stdout",
     "output_type": "stream",
     "text": [
      "<HDF5 group \"/session_190131_M9355\" (9 members)>\n",
      "decon\n",
      "0.9340277777777778\n"
     ]
    },
    {
     "name": "stderr",
     "output_type": "stream",
     "text": [
      "/Users/agos/Documents/Work/ColumbiaProjects/Data_NewDanFitting/Data/data_scripts/sim_utils.py:62: RuntimeWarning: invalid value encountered in less\n",
      "  rf_conditions = [ut.k_and(~np.isnan(X[:,0]),~np.isnan(y[:,0])),sqerror<0.75,sigma>3.3,pval[ikey]<0.1]\n"
     ]
    },
    {
     "name": "stdout",
     "output_type": "stream",
     "text": [
      "<HDF5 group \"/session_190208_M9355\" (9 members)>\n",
      "decon\n",
      "0.9506944444444444\n"
     ]
    },
    {
     "name": "stderr",
     "output_type": "stream",
     "text": [
      "/Users/agos/Documents/Work/ColumbiaProjects/Data_NewDanFitting/Data/data_scripts/sim_utils.py:62: RuntimeWarning: invalid value encountered in less\n",
      "  rf_conditions = [ut.k_and(~np.isnan(X[:,0]),~np.isnan(y[:,0])),sqerror<0.75,sigma>3.3,pval[ikey]<0.1]\n"
     ]
    },
    {
     "name": "stdout",
     "output_type": "stream",
     "text": [
      "<HDF5 group \"/session_190212_M8536\" (9 members)>\n",
      "decon\n",
      "0.2465277777777778\n"
     ]
    },
    {
     "name": "stderr",
     "output_type": "stream",
     "text": [
      "/Users/agos/Documents/Work/ColumbiaProjects/Data_NewDanFitting/Data/data_scripts/pyute.py:1069: RuntimeWarning: Mean of empty slice\n",
      "  tuning[:,itype] = np.nanmean(data[cell_criteria][:,these_trials],1)\n"
     ]
    },
    {
     "name": "stdout",
     "output_type": "stream",
     "text": [
      "<HDF5 group \"/session_191002_M0293\" (8 members)>\n",
      "decon\n",
      "0.8462301587301587\n"
     ]
    },
    {
     "name": "stderr",
     "output_type": "stream",
     "text": [
      "/Users/agos/Documents/Work/ColumbiaProjects/Data_NewDanFitting/Data/data_scripts/sim_utils.py:62: RuntimeWarning: invalid value encountered in less\n",
      "  rf_conditions = [ut.k_and(~np.isnan(X[:,0]),~np.isnan(y[:,0])),sqerror<0.75,sigma>3.3,pval[ikey]<0.1]\n"
     ]
    },
    {
     "name": "stdout",
     "output_type": "stream",
     "text": [
      "<HDF5 group \"/session_191108_M0403\" (8 members)>\n",
      "decon\n",
      "0.9970238095238095\n"
     ]
    },
    {
     "name": "stderr",
     "output_type": "stream",
     "text": [
      "/Users/agos/Documents/Work/ColumbiaProjects/Data_NewDanFitting/Data/data_scripts/sim_utils.py:62: RuntimeWarning: invalid value encountered in less\n",
      "  rf_conditions = [ut.k_and(~np.isnan(X[:,0]),~np.isnan(y[:,0])),sqerror<0.75,sigma>3.3,pval[ikey]<0.1]\n"
     ]
    },
    {
     "name": "stdout",
     "output_type": "stream",
     "text": [
      "/Users/agos/Documents/Work/ColumbiaProjects/Data_NewDanFitting/Data/RawData/DataLatest/pv_l23_data_struct.hdf5\n",
      "<HDF5 group \"/session_191105_M0589\" (12 members)>\n",
      "decon\n",
      "1.0\n"
     ]
    },
    {
     "name": "stderr",
     "output_type": "stream",
     "text": [
      "/Users/agos/Documents/Work/ColumbiaProjects/Data_NewDanFitting/Data/data_scripts/sim_utils.py:62: RuntimeWarning: invalid value encountered in less\n",
      "  rf_conditions = [ut.k_and(~np.isnan(X[:,0]),~np.isnan(y[:,0])),sqerror<0.75,sigma>3.3,pval[ikey]<0.1]\n"
     ]
    },
    {
     "name": "stdout",
     "output_type": "stream",
     "text": [
      "<HDF5 group \"/session_191220_M0589\" (12 members)>\n",
      "decon\n",
      "0.9995039682539683\n",
      "<HDF5 group \"/session_191229_M0892\" (12 members)>\n",
      "decon\n",
      "0.9995039682539683\n",
      "<HDF5 group \"/session_200102_M0892\" (12 members)>\n",
      "decon\n",
      "0.9350198412698413\n",
      "<HDF5 group \"/session_200108_M0891\" (12 members)>\n",
      "decon\n",
      "0.8606150793650794\n",
      "<HDF5 group \"/session_200620_M0891\" (13 members)>\n",
      "decon\n",
      "0.44543650793650796\n"
     ]
    },
    {
     "name": "stderr",
     "output_type": "stream",
     "text": [
      "/Users/agos/Documents/Work/ColumbiaProjects/Data_NewDanFitting/Data/data_scripts/pyute.py:1069: RuntimeWarning: Mean of empty slice\n",
      "  tuning[:,itype] = np.nanmean(data[cell_criteria][:,these_trials],1)\n"
     ]
    },
    {
     "name": "stdout",
     "output_type": "stream",
     "text": [
      "<HDF5 group \"/session_200621_M0893\" (13 members)>\n",
      "decon\n",
      "0.5277777777777778\n"
     ]
    },
    {
     "name": "stderr",
     "output_type": "stream",
     "text": [
      "/Users/agos/Documents/Work/ColumbiaProjects/Data_NewDanFitting/Data/data_scripts/pyute.py:1069: RuntimeWarning: Mean of empty slice\n",
      "  tuning[:,itype] = np.nanmean(data[cell_criteria][:,these_trials],1)\n"
     ]
    },
    {
     "name": "stdout",
     "output_type": "stream",
     "text": [
      "/Users/agos/Documents/Work/ColumbiaProjects/Data_NewDanFitting/Data/RawData/DataLatest/sst_l23_data_struct.hdf5\n",
      "<HDF5 group \"/session_180713_M9053\" (9 members)>\n",
      "decon\n",
      "0.19083333333333333\n"
     ]
    },
    {
     "name": "stderr",
     "output_type": "stream",
     "text": [
      "/Users/agos/Documents/Work/ColumbiaProjects/Data_NewDanFitting/Data/data_scripts/pyute.py:1069: RuntimeWarning: Mean of empty slice\n",
      "  tuning[:,itype] = np.nanmean(data[cell_criteria][:,these_trials],1)\n"
     ]
    },
    {
     "name": "stdout",
     "output_type": "stream",
     "text": [
      "<HDF5 group \"/session_180714_M9053\" (9 members)>\n",
      "decon\n",
      "0.15583333333333332\n"
     ]
    },
    {
     "name": "stderr",
     "output_type": "stream",
     "text": [
      "/Users/agos/Documents/Work/ColumbiaProjects/Data_NewDanFitting/Data/data_scripts/pyute.py:1069: RuntimeWarning: Mean of empty slice\n",
      "  tuning[:,itype] = np.nanmean(data[cell_criteria][:,these_trials],1)\n",
      "/Users/agos/Documents/Work/ColumbiaProjects/Data_NewDanFitting/Data/data_scripts/sim_utils.py:62: RuntimeWarning: invalid value encountered in less\n",
      "  rf_conditions = [ut.k_and(~np.isnan(X[:,0]),~np.isnan(y[:,0])),sqerror<0.75,sigma>3.3,pval[ikey]<0.1]\n",
      "/Users/agos/Documents/Work/ColumbiaProjects/Data_NewDanFitting/Data/data_scripts/pyute.py:1069: RuntimeWarning: Mean of empty slice\n",
      "  tuning[:,itype] = np.nanmean(data[cell_criteria][:,these_trials],1)\n"
     ]
    },
    {
     "name": "stdout",
     "output_type": "stream",
     "text": [
      "<HDF5 group \"/session_180802_M9053\" (8 members)>\n",
      "decon\n",
      "0.49166666666666664\n",
      "<HDF5 group \"/session_180821_M9417\" (9 members)>\n",
      "decon\n",
      "0.8525\n",
      "<HDF5 group \"/session_181117_M10039\" (9 members)>\n",
      "decon\n",
      "0.7892857142857143\n",
      "<HDF5 group \"/session_181120_M10039\" (8 members)>\n",
      "decon\n",
      "0.8571428571428571\n"
     ]
    },
    {
     "name": "stderr",
     "output_type": "stream",
     "text": [
      "/Users/agos/Documents/Work/ColumbiaProjects/Data_NewDanFitting/Data/data_scripts/sim_utils.py:62: RuntimeWarning: invalid value encountered in less\n",
      "  rf_conditions = [ut.k_and(~np.isnan(X[:,0]),~np.isnan(y[:,0])),sqerror<0.75,sigma>3.3,pval[ikey]<0.1]\n"
     ]
    },
    {
     "name": "stdout",
     "output_type": "stream",
     "text": [
      "<HDF5 group \"/session_181121_M10039\" (8 members)>\n",
      "decon\n",
      "0.9385714285714286\n",
      "<HDF5 group \"/session_191224_M0390\" (11 members)>\n",
      "decon\n",
      "0.9404761904761905\n",
      "/Users/agos/Documents/Work/ColumbiaProjects/Data_NewDanFitting/Data/RawData/DataLatest/vip_l23_data_struct.hdf5\n",
      "<HDF5 group \"/session_180321_M7955\" (8 members)>\n",
      "<HDF5 group \"/session_180412_M7955\" (8 members)>\n",
      "decon\n",
      "0.011\n"
     ]
    },
    {
     "name": "stderr",
     "output_type": "stream",
     "text": [
      "/Users/agos/Documents/Work/ColumbiaProjects/Data_NewDanFitting/Data/data_scripts/pyute.py:1069: RuntimeWarning: Mean of empty slice\n",
      "  tuning[:,itype] = np.nanmean(data[cell_criteria][:,these_trials],1)\n",
      "/Users/agos/Documents/Work/ColumbiaProjects/Data_NewDanFitting/Data/data_scripts/sim_utils.py:62: RuntimeWarning: invalid value encountered in less\n",
      "  rf_conditions = [ut.k_and(~np.isnan(X[:,0]),~np.isnan(y[:,0])),sqerror<0.75,sigma>3.3,pval[ikey]<0.1]\n",
      "/Users/agos/Documents/Work/ColumbiaProjects/Data_NewDanFitting/Data/data_scripts/pyute.py:1069: RuntimeWarning: Mean of empty slice\n",
      "  tuning[:,itype] = np.nanmean(data[cell_criteria][:,these_trials],1)\n"
     ]
    },
    {
     "name": "stdout",
     "output_type": "stream",
     "text": [
      "<HDF5 group \"/session_180516_M8956\" (9 members)>\n",
      "decon\n",
      "0.275\n",
      "<HDF5 group \"/session_180519_M8959\" (8 members)>\n",
      "decon\n",
      "0.0575\n"
     ]
    },
    {
     "name": "stderr",
     "output_type": "stream",
     "text": [
      "/Users/agos/Documents/Work/ColumbiaProjects/Data_NewDanFitting/Data/data_scripts/pyute.py:1069: RuntimeWarning: Mean of empty slice\n",
      "  tuning[:,itype] = np.nanmean(data[cell_criteria][:,these_trials],1)\n"
     ]
    },
    {
     "name": "stdout",
     "output_type": "stream",
     "text": [
      "<HDF5 group \"/session_180528_M8959\" (9 members)>\n",
      "decon\n",
      "0.3383333333333333\n"
     ]
    },
    {
     "name": "stderr",
     "output_type": "stream",
     "text": [
      "/Users/agos/Documents/Work/ColumbiaProjects/Data_NewDanFitting/Data/data_scripts/pyute.py:1069: RuntimeWarning: Mean of empty slice\n",
      "  tuning[:,itype] = np.nanmean(data[cell_criteria][:,these_trials],1)\n"
     ]
    },
    {
     "name": "stdout",
     "output_type": "stream",
     "text": [
      "<HDF5 group \"/session_180531_M8961\" (9 members)>\n",
      "decon\n",
      "0.3625\n"
     ]
    },
    {
     "name": "stderr",
     "output_type": "stream",
     "text": [
      "/Users/agos/Documents/Work/ColumbiaProjects/Data_NewDanFitting/Data/data_scripts/pyute.py:1069: RuntimeWarning: Mean of empty slice\n",
      "  tuning[:,itype] = np.nanmean(data[cell_criteria][:,these_trials],1)\n"
     ]
    },
    {
     "name": "stdout",
     "output_type": "stream",
     "text": [
      "<HDF5 group \"/session_180618_M8956\" (9 members)>\n",
      "decon\n",
      "0.004166666666666667\n"
     ]
    },
    {
     "name": "stderr",
     "output_type": "stream",
     "text": [
      "/Users/agos/Documents/Work/ColumbiaProjects/Data_NewDanFitting/Data/data_scripts/pyute.py:1069: RuntimeWarning: Mean of empty slice\n",
      "  tuning[:,itype] = np.nanmean(data[cell_criteria][:,these_trials],1)\n"
     ]
    },
    {
     "name": "stdout",
     "output_type": "stream",
     "text": [
      "<HDF5 group \"/session_180719_M8961\" (8 members)>\n",
      "decon\n",
      "0.9908333333333333\n",
      "<HDF5 group \"/session_180720_M8961\" (8 members)>\n",
      "decon\n",
      "0.9541666666666667\n",
      "<HDF5 group \"/session_180903_M8961\" (9 members)>\n",
      "decon\n",
      "0.16583333333333333\n"
     ]
    },
    {
     "name": "stderr",
     "output_type": "stream",
     "text": [
      "/Users/agos/Documents/Work/ColumbiaProjects/Data_NewDanFitting/Data/data_scripts/pyute.py:1069: RuntimeWarning: Mean of empty slice\n",
      "  tuning[:,itype] = np.nanmean(data[cell_criteria][:,these_trials],1)\n",
      "/Users/agos/Documents/Work/ColumbiaProjects/Data_NewDanFitting/Data/data_scripts/sim_utils.py:62: RuntimeWarning: invalid value encountered in less\n",
      "  rf_conditions = [ut.k_and(~np.isnan(X[:,0]),~np.isnan(y[:,0])),sqerror<0.75,sigma>3.3,pval[ikey]<0.1]\n"
     ]
    },
    {
     "name": "stdout",
     "output_type": "stream",
     "text": [
      "<HDF5 group \"/session_190710_M0208\" (9 members)>\n",
      "decon\n",
      "0.7237103174603174\n",
      "<HDF5 group \"/session_191215_M0385\" (9 members)>\n",
      "decon\n",
      "0.8100198412698413\n",
      "<HDF5 group \"/session_200103_M0388\" (9 members)>\n",
      "decon\n",
      "0.9191468253968254\n"
     ]
    },
    {
     "name": "stderr",
     "output_type": "stream",
     "text": [
      "/Users/agos/Documents/Work/ColumbiaProjects/Data_NewDanFitting/Data/data_scripts/sim_utils.py:163: RuntimeWarning: invalid value encountered in less\n",
      "  return np.logical_and(criterion(displacement),pval < pcutoff)\n",
      "/Users/agos/Documents/Work/ColumbiaProjects/Data_NewDanFitting/Data/data_scripts/sim_utils.py:143: FutureWarning: Using a non-tuple sequence for multidimensional indexing is deprecated; use `arr[tuple(seq)]` instead of `arr[seq]`. In the future this will be interpreted as an array index, `arr[np.array(seq)]`, which will result either in an error or a different result.\n",
      "  return np.nanmean(np.nanmean(arr[slicer],-1),-1)\n",
      "/Users/agos/anaconda3/lib/python3.6/site-packages/autograd/tracer.py:48: RuntimeWarning: Mean of empty slice\n",
      "  return f_raw(*args, **kwargs)\n"
     ]
    },
    {
     "name": "stdout",
     "output_type": "stream",
     "text": [
      "/Users/agos/Documents/Work/ColumbiaProjects/Data_NewDanFitting/Data/RawData/DataLatest/pyr_l4_data_struct.hdf5\n",
      "<HDF5 group \"/session_181127_M10073\" (8 members)>\n",
      "decon\n",
      "0.1742857142857143\n"
     ]
    },
    {
     "name": "stderr",
     "output_type": "stream",
     "text": [
      "/Users/agos/Documents/Work/ColumbiaProjects/Data_NewDanFitting/Data/data_scripts/pyute.py:1069: RuntimeWarning: Mean of empty slice\n",
      "  tuning[:,itype] = np.nanmean(data[cell_criteria][:,these_trials],1)\n",
      "/Users/agos/Documents/Work/ColumbiaProjects/Data_NewDanFitting/Data/data_scripts/sim_utils.py:62: RuntimeWarning: invalid value encountered in less\n",
      "  rf_conditions = [ut.k_and(~np.isnan(X[:,0]),~np.isnan(y[:,0])),sqerror<0.75,sigma>3.3,pval[ikey]<0.1]\n"
     ]
    },
    {
     "name": "stdout",
     "output_type": "stream",
     "text": [
      "<HDF5 group \"/session_190202_M10075\" (9 members)>\n",
      "decon\n",
      "0.39652777777777776\n"
     ]
    },
    {
     "name": "stderr",
     "output_type": "stream",
     "text": [
      "/Users/agos/Documents/Work/ColumbiaProjects/Data_NewDanFitting/Data/data_scripts/pyute.py:1069: RuntimeWarning: Mean of empty slice\n",
      "  tuning[:,itype] = np.nanmean(data[cell_criteria][:,these_trials],1)\n",
      "/Users/agos/Documents/Work/ColumbiaProjects/Data_NewDanFitting/Data/data_scripts/sim_utils.py:62: RuntimeWarning: invalid value encountered in less\n",
      "  rf_conditions = [ut.k_and(~np.isnan(X[:,0]),~np.isnan(y[:,0])),sqerror<0.75,sigma>3.3,pval[ikey]<0.1]\n"
     ]
    },
    {
     "name": "stdout",
     "output_type": "stream",
     "text": [
      "<HDF5 group \"/session_190304_M10077\" (9 members)>\n",
      "decon\n",
      "0.44027777777777777\n"
     ]
    },
    {
     "name": "stderr",
     "output_type": "stream",
     "text": [
      "/Users/agos/Documents/Work/ColumbiaProjects/Data_NewDanFitting/Data/data_scripts/pyute.py:1069: RuntimeWarning: Mean of empty slice\n",
      "  tuning[:,itype] = np.nanmean(data[cell_criteria][:,these_trials],1)\n"
     ]
    },
    {
     "name": "stdout",
     "output_type": "stream",
     "text": [
      "<HDF5 group \"/session_190607_M10443\" (9 members)>\n",
      "decon\n",
      "0.8590277777777777\n"
     ]
    },
    {
     "name": "stderr",
     "output_type": "stream",
     "text": [
      "/Users/agos/Documents/Work/ColumbiaProjects/Data_NewDanFitting/Data/data_scripts/sim_utils.py:62: RuntimeWarning: invalid value encountered in less\n",
      "  rf_conditions = [ut.k_and(~np.isnan(X[:,0]),~np.isnan(y[:,0])),sqerror<0.75,sigma>3.3,pval[ikey]<0.1]\n"
     ]
    },
    {
     "name": "stdout",
     "output_type": "stream",
     "text": [
      "<HDF5 group \"/session_190620_M10616\" (9 members)>\n",
      "decon\n",
      "0.4568452380952381\n"
     ]
    },
    {
     "name": "stderr",
     "output_type": "stream",
     "text": [
      "/Users/agos/Documents/Work/ColumbiaProjects/Data_NewDanFitting/Data/data_scripts/pyute.py:1069: RuntimeWarning: Mean of empty slice\n",
      "  tuning[:,itype] = np.nanmean(data[cell_criteria][:,these_trials],1)\n"
     ]
    },
    {
     "name": "stdout",
     "output_type": "stream",
     "text": [
      "<HDF5 group \"/session_190620_M10619\" (9 members)>\n",
      "decon\n",
      "0.3993055555555556\n"
     ]
    },
    {
     "name": "stderr",
     "output_type": "stream",
     "text": [
      "/Users/agos/Documents/Work/ColumbiaProjects/Data_NewDanFitting/Data/data_scripts/pyute.py:1069: RuntimeWarning: Mean of empty slice\n",
      "  tuning[:,itype] = np.nanmean(data[cell_criteria][:,these_trials],1)\n",
      "/Users/agos/Documents/Work/ColumbiaProjects/Data_NewDanFitting/Data/data_scripts/sim_utils.py:62: RuntimeWarning: invalid value encountered in less\n",
      "  rf_conditions = [ut.k_and(~np.isnan(X[:,0]),~np.isnan(y[:,0])),sqerror<0.75,sigma>3.3,pval[ikey]<0.1]\n"
     ]
    },
    {
     "name": "stdout",
     "output_type": "stream",
     "text": [
      "<HDF5 group \"/session_190624_M10615\" (8 members)>\n",
      "decon\n",
      "0.9176587301587301\n"
     ]
    },
    {
     "name": "stderr",
     "output_type": "stream",
     "text": [
      "/Users/agos/Documents/Work/ColumbiaProjects/Data_NewDanFitting/Data/data_scripts/sim_utils.py:62: RuntimeWarning: invalid value encountered in less\n",
      "  rf_conditions = [ut.k_and(~np.isnan(X[:,0]),~np.isnan(y[:,0])),sqerror<0.75,sigma>3.3,pval[ikey]<0.1]\n"
     ]
    },
    {
     "name": "stdout",
     "output_type": "stream",
     "text": [
      "<HDF5 group \"/session_190627_M10616\" (9 members)>\n",
      "decon\n",
      "0.2123015873015873\n"
     ]
    },
    {
     "name": "stderr",
     "output_type": "stream",
     "text": [
      "/Users/agos/Documents/Work/ColumbiaProjects/Data_NewDanFitting/Data/data_scripts/pyute.py:1069: RuntimeWarning: Mean of empty slice\n",
      "  tuning[:,itype] = np.nanmean(data[cell_criteria][:,these_trials],1)\n"
     ]
    },
    {
     "name": "stdout",
     "output_type": "stream",
     "text": [
      "<HDF5 group \"/session_190701_M10615\" (8 members)>\n",
      "decon\n",
      "0.3308531746031746\n"
     ]
    },
    {
     "name": "stderr",
     "output_type": "stream",
     "text": [
      "/Users/agos/Documents/Work/ColumbiaProjects/Data_NewDanFitting/Data/data_scripts/pyute.py:1069: RuntimeWarning: Mean of empty slice\n",
      "  tuning[:,itype] = np.nanmean(data[cell_criteria][:,these_trials],1)\n",
      "/Users/agos/Documents/Work/ColumbiaProjects/Data_NewDanFitting/Data/data_scripts/sim_utils.py:62: RuntimeWarning: invalid value encountered in less\n",
      "  rf_conditions = [ut.k_and(~np.isnan(X[:,0]),~np.isnan(y[:,0])),sqerror<0.75,sigma>3.3,pval[ikey]<0.1]\n"
     ]
    },
    {
     "name": "stdout",
     "output_type": "stream",
     "text": [
      "<HDF5 group \"/session_191212_M0762\" (8 members)>\n",
      "decon\n",
      "0.17807539682539683\n"
     ]
    },
    {
     "name": "stderr",
     "output_type": "stream",
     "text": [
      "/Users/agos/Documents/Work/ColumbiaProjects/Data_NewDanFitting/Data/data_scripts/pyute.py:1069: RuntimeWarning: Mean of empty slice\n",
      "  tuning[:,itype] = np.nanmean(data[cell_criteria][:,these_trials],1)\n"
     ]
    },
    {
     "name": "stdout",
     "output_type": "stream",
     "text": [
      "/Users/agos/Documents/Work/ColumbiaProjects/Data_NewDanFitting/Data/RawData/DataLatest/pyr_l23_data_struct.hdf5\n",
      "<HDF5 group \"/session_181205_M10130\" (8 members)>\n",
      "decon\n",
      "0.26785714285714285\n"
     ]
    },
    {
     "name": "stderr",
     "output_type": "stream",
     "text": [
      "/Users/agos/Documents/Work/ColumbiaProjects/Data_NewDanFitting/Data/data_scripts/pyute.py:1069: RuntimeWarning: Mean of empty slice\n",
      "  tuning[:,itype] = np.nanmean(data[cell_criteria][:,these_trials],1)\n"
     ]
    },
    {
     "name": "stdout",
     "output_type": "stream",
     "text": [
      "<HDF5 group \"/session_181209_M8536\" (9 members)>\n",
      "decon\n",
      "0.1692857142857143\n"
     ]
    },
    {
     "name": "stderr",
     "output_type": "stream",
     "text": [
      "/Users/agos/Documents/Work/ColumbiaProjects/Data_NewDanFitting/Data/data_scripts/pyute.py:1069: RuntimeWarning: Mean of empty slice\n",
      "  tuning[:,itype] = np.nanmean(data[cell_criteria][:,these_trials],1)\n",
      "/Users/agos/Documents/Work/ColumbiaProjects/Data_NewDanFitting/Data/data_scripts/sim_utils.py:62: RuntimeWarning: invalid value encountered in less\n",
      "  rf_conditions = [ut.k_and(~np.isnan(X[:,0]),~np.isnan(y[:,0])),sqerror<0.75,sigma>3.3,pval[ikey]<0.1]\n"
     ]
    },
    {
     "name": "stdout",
     "output_type": "stream",
     "text": [
      "<HDF5 group \"/session_181213_M8536\" (8 members)>\n",
      "decon\n",
      "0.9614285714285714\n",
      "<HDF5 group \"/session_181214_M10130\" (8 members)>\n",
      "decon\n",
      "0.5857142857142857\n"
     ]
    },
    {
     "name": "stderr",
     "output_type": "stream",
     "text": [
      "/Users/agos/Documents/Work/ColumbiaProjects/Data_NewDanFitting/Data/data_scripts/sim_utils.py:62: RuntimeWarning: invalid value encountered in less\n",
      "  rf_conditions = [ut.k_and(~np.isnan(X[:,0]),~np.isnan(y[:,0])),sqerror<0.75,sigma>3.3,pval[ikey]<0.1]\n"
     ]
    },
    {
     "name": "stdout",
     "output_type": "stream",
     "text": [
      "<HDF5 group \"/session_190102_M10130\" (8 members)>\n",
      "decon\n",
      "0.5508333333333333\n",
      "<HDF5 group \"/session_190128_M8982\" (9 members)>\n",
      "decon\n",
      "0.05277777777777778\n"
     ]
    },
    {
     "name": "stderr",
     "output_type": "stream",
     "text": [
      "/Users/agos/Documents/Work/ColumbiaProjects/Data_NewDanFitting/Data/data_scripts/pyute.py:1069: RuntimeWarning: Mean of empty slice\n",
      "  tuning[:,itype] = np.nanmean(data[cell_criteria][:,these_trials],1)\n",
      "/Users/agos/Documents/Work/ColumbiaProjects/Data_NewDanFitting/Data/data_scripts/sim_utils.py:62: RuntimeWarning: invalid value encountered in less\n",
      "  rf_conditions = [ut.k_and(~np.isnan(X[:,0]),~np.isnan(y[:,0])),sqerror<0.75,sigma>3.3,pval[ikey]<0.1]\n"
     ]
    },
    {
     "name": "stdout",
     "output_type": "stream",
     "text": [
      "<HDF5 group \"/session_190130_M9667\" (9 members)>\n",
      "decon\n",
      "0.8097222222222222\n"
     ]
    },
    {
     "name": "stderr",
     "output_type": "stream",
     "text": [
      "/Users/agos/Documents/Work/ColumbiaProjects/Data_NewDanFitting/Data/data_scripts/sim_utils.py:62: RuntimeWarning: invalid value encountered in less\n",
      "  rf_conditions = [ut.k_and(~np.isnan(X[:,0]),~np.isnan(y[:,0])),sqerror<0.75,sigma>3.3,pval[ikey]<0.1]\n"
     ]
    },
    {
     "name": "stdout",
     "output_type": "stream",
     "text": [
      "<HDF5 group \"/session_190131_M9355\" (9 members)>\n",
      "decon\n",
      "0.06597222222222222\n"
     ]
    },
    {
     "name": "stderr",
     "output_type": "stream",
     "text": [
      "/Users/agos/Documents/Work/ColumbiaProjects/Data_NewDanFitting/Data/data_scripts/pyute.py:1069: RuntimeWarning: Mean of empty slice\n",
      "  tuning[:,itype] = np.nanmean(data[cell_criteria][:,these_trials],1)\n",
      "/Users/agos/Documents/Work/ColumbiaProjects/Data_NewDanFitting/Data/data_scripts/sim_utils.py:62: RuntimeWarning: invalid value encountered in less\n",
      "  rf_conditions = [ut.k_and(~np.isnan(X[:,0]),~np.isnan(y[:,0])),sqerror<0.75,sigma>3.3,pval[ikey]<0.1]\n"
     ]
    },
    {
     "name": "stdout",
     "output_type": "stream",
     "text": [
      "<HDF5 group \"/session_190208_M9355\" (9 members)>\n",
      "decon\n",
      "0.049305555555555554\n"
     ]
    },
    {
     "name": "stderr",
     "output_type": "stream",
     "text": [
      "/Users/agos/Documents/Work/ColumbiaProjects/Data_NewDanFitting/Data/data_scripts/pyute.py:1069: RuntimeWarning: Mean of empty slice\n",
      "  tuning[:,itype] = np.nanmean(data[cell_criteria][:,these_trials],1)\n",
      "/Users/agos/Documents/Work/ColumbiaProjects/Data_NewDanFitting/Data/data_scripts/sim_utils.py:62: RuntimeWarning: invalid value encountered in less\n",
      "  rf_conditions = [ut.k_and(~np.isnan(X[:,0]),~np.isnan(y[:,0])),sqerror<0.75,sigma>3.3,pval[ikey]<0.1]\n"
     ]
    },
    {
     "name": "stdout",
     "output_type": "stream",
     "text": [
      "<HDF5 group \"/session_190212_M8536\" (9 members)>\n",
      "decon\n",
      "0.7534722222222222\n"
     ]
    },
    {
     "name": "stderr",
     "output_type": "stream",
     "text": [
      "/Users/agos/Documents/Work/ColumbiaProjects/Data_NewDanFitting/Data/data_scripts/pyute.py:1069: RuntimeWarning: Mean of empty slice\n",
      "  tuning[:,itype] = np.nanmean(data[cell_criteria][:,these_trials],1)\n"
     ]
    },
    {
     "name": "stdout",
     "output_type": "stream",
     "text": [
      "<HDF5 group \"/session_191002_M0293\" (8 members)>\n",
      "decon\n",
      "0.15376984126984128\n"
     ]
    },
    {
     "name": "stderr",
     "output_type": "stream",
     "text": [
      "/Users/agos/Documents/Work/ColumbiaProjects/Data_NewDanFitting/Data/data_scripts/pyute.py:1069: RuntimeWarning: Mean of empty slice\n",
      "  tuning[:,itype] = np.nanmean(data[cell_criteria][:,these_trials],1)\n",
      "/Users/agos/Documents/Work/ColumbiaProjects/Data_NewDanFitting/Data/data_scripts/sim_utils.py:62: RuntimeWarning: invalid value encountered in less\n",
      "  rf_conditions = [ut.k_and(~np.isnan(X[:,0]),~np.isnan(y[:,0])),sqerror<0.75,sigma>3.3,pval[ikey]<0.1]\n"
     ]
    },
    {
     "name": "stdout",
     "output_type": "stream",
     "text": [
      "<HDF5 group \"/session_191108_M0403\" (8 members)>\n",
      "decon\n",
      "0.002976190476190476\n"
     ]
    },
    {
     "name": "stderr",
     "output_type": "stream",
     "text": [
      "/Users/agos/Documents/Work/ColumbiaProjects/Data_NewDanFitting/Data/data_scripts/pyute.py:1069: RuntimeWarning: Mean of empty slice\n",
      "  tuning[:,itype] = np.nanmean(data[cell_criteria][:,these_trials],1)\n",
      "/Users/agos/Documents/Work/ColumbiaProjects/Data_NewDanFitting/Data/data_scripts/sim_utils.py:62: RuntimeWarning: invalid value encountered in less\n",
      "  rf_conditions = [ut.k_and(~np.isnan(X[:,0]),~np.isnan(y[:,0])),sqerror<0.75,sigma>3.3,pval[ikey]<0.1]\n"
     ]
    },
    {
     "name": "stdout",
     "output_type": "stream",
     "text": [
      "/Users/agos/Documents/Work/ColumbiaProjects/Data_NewDanFitting/Data/RawData/DataLatest/pv_l23_data_struct.hdf5\n",
      "<HDF5 group \"/session_191105_M0589\" (12 members)>\n",
      "decon\n",
      "0.0\n"
     ]
    },
    {
     "name": "stderr",
     "output_type": "stream",
     "text": [
      "/Users/agos/Documents/Work/ColumbiaProjects/Data_NewDanFitting/Data/data_scripts/pyute.py:1069: RuntimeWarning: Mean of empty slice\n",
      "  tuning[:,itype] = np.nanmean(data[cell_criteria][:,these_trials],1)\n",
      "/Users/agos/Documents/Work/ColumbiaProjects/Data_NewDanFitting/Data/data_scripts/sim_utils.py:62: RuntimeWarning: invalid value encountered in less\n",
      "  rf_conditions = [ut.k_and(~np.isnan(X[:,0]),~np.isnan(y[:,0])),sqerror<0.75,sigma>3.3,pval[ikey]<0.1]\n",
      "/Users/agos/Documents/Work/ColumbiaProjects/Data_NewDanFitting/Data/data_scripts/pyute.py:1069: RuntimeWarning: Mean of empty slice\n",
      "  tuning[:,itype] = np.nanmean(data[cell_criteria][:,these_trials],1)\n"
     ]
    },
    {
     "name": "stdout",
     "output_type": "stream",
     "text": [
      "<HDF5 group \"/session_191220_M0589\" (12 members)>\n",
      "decon\n",
      "0.000496031746031746\n",
      "<HDF5 group \"/session_191229_M0892\" (12 members)>\n",
      "decon\n",
      "0.000496031746031746\n"
     ]
    },
    {
     "name": "stderr",
     "output_type": "stream",
     "text": [
      "/Users/agos/Documents/Work/ColumbiaProjects/Data_NewDanFitting/Data/data_scripts/pyute.py:1069: RuntimeWarning: Mean of empty slice\n",
      "  tuning[:,itype] = np.nanmean(data[cell_criteria][:,these_trials],1)\n"
     ]
    },
    {
     "name": "stdout",
     "output_type": "stream",
     "text": [
      "<HDF5 group \"/session_200102_M0892\" (12 members)>\n",
      "decon\n",
      "0.06498015873015874\n"
     ]
    },
    {
     "name": "stderr",
     "output_type": "stream",
     "text": [
      "/Users/agos/Documents/Work/ColumbiaProjects/Data_NewDanFitting/Data/data_scripts/pyute.py:1069: RuntimeWarning: Mean of empty slice\n",
      "  tuning[:,itype] = np.nanmean(data[cell_criteria][:,these_trials],1)\n"
     ]
    },
    {
     "name": "stdout",
     "output_type": "stream",
     "text": [
      "<HDF5 group \"/session_200108_M0891\" (12 members)>\n",
      "decon\n",
      "0.13938492063492064\n"
     ]
    },
    {
     "name": "stderr",
     "output_type": "stream",
     "text": [
      "/Users/agos/Documents/Work/ColumbiaProjects/Data_NewDanFitting/Data/data_scripts/pyute.py:1069: RuntimeWarning: Mean of empty slice\n",
      "  tuning[:,itype] = np.nanmean(data[cell_criteria][:,these_trials],1)\n"
     ]
    },
    {
     "name": "stdout",
     "output_type": "stream",
     "text": [
      "<HDF5 group \"/session_200620_M0891\" (13 members)>\n",
      "decon\n",
      "0.5545634920634921\n"
     ]
    },
    {
     "name": "stderr",
     "output_type": "stream",
     "text": [
      "/Users/agos/Documents/Work/ColumbiaProjects/Data_NewDanFitting/Data/data_scripts/pyute.py:1069: RuntimeWarning: Mean of empty slice\n",
      "  tuning[:,itype] = np.nanmean(data[cell_criteria][:,these_trials],1)\n"
     ]
    },
    {
     "name": "stdout",
     "output_type": "stream",
     "text": [
      "<HDF5 group \"/session_200621_M0893\" (13 members)>\n",
      "decon\n",
      "0.4722222222222222\n"
     ]
    },
    {
     "name": "stderr",
     "output_type": "stream",
     "text": [
      "/Users/agos/Documents/Work/ColumbiaProjects/Data_NewDanFitting/Data/data_scripts/pyute.py:1069: RuntimeWarning: Mean of empty slice\n",
      "  tuning[:,itype] = np.nanmean(data[cell_criteria][:,these_trials],1)\n"
     ]
    },
    {
     "name": "stdout",
     "output_type": "stream",
     "text": [
      "/Users/agos/Documents/Work/ColumbiaProjects/Data_NewDanFitting/Data/RawData/DataLatest/sst_l23_data_struct.hdf5\n",
      "<HDF5 group \"/session_180713_M9053\" (9 members)>\n",
      "decon\n",
      "0.8091666666666667\n",
      "<HDF5 group \"/session_180714_M9053\" (9 members)>\n",
      "decon\n",
      "0.8441666666666666\n"
     ]
    },
    {
     "name": "stderr",
     "output_type": "stream",
     "text": [
      "/Users/agos/Documents/Work/ColumbiaProjects/Data_NewDanFitting/Data/data_scripts/sim_utils.py:62: RuntimeWarning: invalid value encountered in less\n",
      "  rf_conditions = [ut.k_and(~np.isnan(X[:,0]),~np.isnan(y[:,0])),sqerror<0.75,sigma>3.3,pval[ikey]<0.1]\n"
     ]
    },
    {
     "name": "stdout",
     "output_type": "stream",
     "text": [
      "<HDF5 group \"/session_180802_M9053\" (8 members)>\n",
      "decon\n",
      "0.5083333333333333\n"
     ]
    },
    {
     "name": "stderr",
     "output_type": "stream",
     "text": [
      "/Users/agos/Documents/Work/ColumbiaProjects/Data_NewDanFitting/Data/data_scripts/pyute.py:1069: RuntimeWarning: Mean of empty slice\n",
      "  tuning[:,itype] = np.nanmean(data[cell_criteria][:,these_trials],1)\n"
     ]
    },
    {
     "name": "stdout",
     "output_type": "stream",
     "text": [
      "<HDF5 group \"/session_180821_M9417\" (9 members)>\n",
      "decon\n",
      "0.1475\n"
     ]
    },
    {
     "name": "stderr",
     "output_type": "stream",
     "text": [
      "/Users/agos/Documents/Work/ColumbiaProjects/Data_NewDanFitting/Data/data_scripts/pyute.py:1069: RuntimeWarning: Mean of empty slice\n",
      "  tuning[:,itype] = np.nanmean(data[cell_criteria][:,these_trials],1)\n"
     ]
    },
    {
     "name": "stdout",
     "output_type": "stream",
     "text": [
      "<HDF5 group \"/session_181117_M10039\" (9 members)>\n",
      "decon\n",
      "0.21071428571428572\n"
     ]
    },
    {
     "name": "stderr",
     "output_type": "stream",
     "text": [
      "/Users/agos/Documents/Work/ColumbiaProjects/Data_NewDanFitting/Data/data_scripts/pyute.py:1069: RuntimeWarning: Mean of empty slice\n",
      "  tuning[:,itype] = np.nanmean(data[cell_criteria][:,these_trials],1)\n"
     ]
    },
    {
     "name": "stdout",
     "output_type": "stream",
     "text": [
      "<HDF5 group \"/session_181120_M10039\" (8 members)>\n",
      "decon\n",
      "0.14285714285714285\n"
     ]
    },
    {
     "name": "stderr",
     "output_type": "stream",
     "text": [
      "/Users/agos/Documents/Work/ColumbiaProjects/Data_NewDanFitting/Data/data_scripts/pyute.py:1069: RuntimeWarning: Mean of empty slice\n",
      "  tuning[:,itype] = np.nanmean(data[cell_criteria][:,these_trials],1)\n",
      "/Users/agos/Documents/Work/ColumbiaProjects/Data_NewDanFitting/Data/data_scripts/sim_utils.py:62: RuntimeWarning: invalid value encountered in less\n",
      "  rf_conditions = [ut.k_and(~np.isnan(X[:,0]),~np.isnan(y[:,0])),sqerror<0.75,sigma>3.3,pval[ikey]<0.1]\n",
      "/Users/agos/Documents/Work/ColumbiaProjects/Data_NewDanFitting/Data/data_scripts/pyute.py:1069: RuntimeWarning: Mean of empty slice\n",
      "  tuning[:,itype] = np.nanmean(data[cell_criteria][:,these_trials],1)\n"
     ]
    },
    {
     "name": "stdout",
     "output_type": "stream",
     "text": [
      "<HDF5 group \"/session_181121_M10039\" (8 members)>\n",
      "decon\n",
      "0.06142857142857143\n",
      "<HDF5 group \"/session_191224_M0390\" (11 members)>\n",
      "decon\n",
      "0.05952380952380952\n"
     ]
    },
    {
     "name": "stderr",
     "output_type": "stream",
     "text": [
      "/Users/agos/Documents/Work/ColumbiaProjects/Data_NewDanFitting/Data/data_scripts/pyute.py:1069: RuntimeWarning: Mean of empty slice\n",
      "  tuning[:,itype] = np.nanmean(data[cell_criteria][:,these_trials],1)\n"
     ]
    },
    {
     "name": "stdout",
     "output_type": "stream",
     "text": [
      "/Users/agos/Documents/Work/ColumbiaProjects/Data_NewDanFitting/Data/RawData/DataLatest/vip_l23_data_struct.hdf5\n",
      "<HDF5 group \"/session_180321_M7955\" (8 members)>\n",
      "<HDF5 group \"/session_180412_M7955\" (8 members)>\n",
      "decon\n",
      "0.989\n"
     ]
    },
    {
     "name": "stderr",
     "output_type": "stream",
     "text": [
      "/Users/agos/Documents/Work/ColumbiaProjects/Data_NewDanFitting/Data/data_scripts/sim_utils.py:62: RuntimeWarning: invalid value encountered in less\n",
      "  rf_conditions = [ut.k_and(~np.isnan(X[:,0]),~np.isnan(y[:,0])),sqerror<0.75,sigma>3.3,pval[ikey]<0.1]\n"
     ]
    },
    {
     "name": "stdout",
     "output_type": "stream",
     "text": [
      "<HDF5 group \"/session_180516_M8956\" (9 members)>\n",
      "decon\n",
      "0.725\n",
      "<HDF5 group \"/session_180519_M8959\" (8 members)>\n",
      "decon\n",
      "0.9425\n",
      "<HDF5 group \"/session_180528_M8959\" (9 members)>\n",
      "decon\n",
      "0.6616666666666666\n"
     ]
    },
    {
     "name": "stderr",
     "output_type": "stream",
     "text": [
      "/Users/agos/Documents/Work/ColumbiaProjects/Data_NewDanFitting/Data/data_scripts/pyute.py:1069: RuntimeWarning: Mean of empty slice\n",
      "  tuning[:,itype] = np.nanmean(data[cell_criteria][:,these_trials],1)\n"
     ]
    },
    {
     "name": "stdout",
     "output_type": "stream",
     "text": [
      "<HDF5 group \"/session_180531_M8961\" (9 members)>\n",
      "decon\n",
      "0.6375\n"
     ]
    },
    {
     "name": "stderr",
     "output_type": "stream",
     "text": [
      "/Users/agos/Documents/Work/ColumbiaProjects/Data_NewDanFitting/Data/data_scripts/pyute.py:1069: RuntimeWarning: Mean of empty slice\n",
      "  tuning[:,itype] = np.nanmean(data[cell_criteria][:,these_trials],1)\n"
     ]
    },
    {
     "name": "stdout",
     "output_type": "stream",
     "text": [
      "<HDF5 group \"/session_180618_M8956\" (9 members)>\n",
      "decon\n",
      "0.9958333333333333\n",
      "<HDF5 group \"/session_180719_M8961\" (8 members)>\n",
      "decon\n",
      "0.009166666666666667\n"
     ]
    },
    {
     "name": "stderr",
     "output_type": "stream",
     "text": [
      "/Users/agos/Documents/Work/ColumbiaProjects/Data_NewDanFitting/Data/data_scripts/pyute.py:1069: RuntimeWarning: Mean of empty slice\n",
      "  tuning[:,itype] = np.nanmean(data[cell_criteria][:,these_trials],1)\n"
     ]
    },
    {
     "name": "stdout",
     "output_type": "stream",
     "text": [
      "<HDF5 group \"/session_180720_M8961\" (8 members)>\n",
      "decon\n",
      "0.04583333333333333\n"
     ]
    },
    {
     "name": "stderr",
     "output_type": "stream",
     "text": [
      "/Users/agos/Documents/Work/ColumbiaProjects/Data_NewDanFitting/Data/data_scripts/pyute.py:1069: RuntimeWarning: Mean of empty slice\n",
      "  tuning[:,itype] = np.nanmean(data[cell_criteria][:,these_trials],1)\n"
     ]
    },
    {
     "name": "stdout",
     "output_type": "stream",
     "text": [
      "<HDF5 group \"/session_180903_M8961\" (9 members)>\n",
      "decon\n",
      "0.8341666666666666\n"
     ]
    },
    {
     "name": "stderr",
     "output_type": "stream",
     "text": [
      "/Users/agos/Documents/Work/ColumbiaProjects/Data_NewDanFitting/Data/data_scripts/sim_utils.py:62: RuntimeWarning: invalid value encountered in less\n",
      "  rf_conditions = [ut.k_and(~np.isnan(X[:,0]),~np.isnan(y[:,0])),sqerror<0.75,sigma>3.3,pval[ikey]<0.1]\n"
     ]
    },
    {
     "name": "stdout",
     "output_type": "stream",
     "text": [
      "<HDF5 group \"/session_190710_M0208\" (9 members)>\n",
      "decon\n",
      "0.27628968253968256\n"
     ]
    },
    {
     "name": "stderr",
     "output_type": "stream",
     "text": [
      "/Users/agos/Documents/Work/ColumbiaProjects/Data_NewDanFitting/Data/data_scripts/pyute.py:1069: RuntimeWarning: Mean of empty slice\n",
      "  tuning[:,itype] = np.nanmean(data[cell_criteria][:,these_trials],1)\n"
     ]
    },
    {
     "name": "stdout",
     "output_type": "stream",
     "text": [
      "<HDF5 group \"/session_191215_M0385\" (9 members)>\n",
      "decon\n",
      "0.18998015873015872\n"
     ]
    },
    {
     "name": "stderr",
     "output_type": "stream",
     "text": [
      "/Users/agos/Documents/Work/ColumbiaProjects/Data_NewDanFitting/Data/data_scripts/pyute.py:1069: RuntimeWarning: Mean of empty slice\n",
      "  tuning[:,itype] = np.nanmean(data[cell_criteria][:,these_trials],1)\n"
     ]
    },
    {
     "name": "stdout",
     "output_type": "stream",
     "text": [
      "<HDF5 group \"/session_200103_M0388\" (9 members)>\n",
      "decon\n",
      "0.08085317460317461\n"
     ]
    },
    {
     "name": "stderr",
     "output_type": "stream",
     "text": [
      "/Users/agos/Documents/Work/ColumbiaProjects/Data_NewDanFitting/Data/data_scripts/pyute.py:1069: RuntimeWarning: Mean of empty slice\n",
      "  tuning[:,itype] = np.nanmean(data[cell_criteria][:,these_trials],1)\n",
      "/Users/agos/Documents/Work/ColumbiaProjects/Data_NewDanFitting/Data/data_scripts/sim_utils.py:163: RuntimeWarning: invalid value encountered in less\n",
      "  return np.logical_and(criterion(displacement),pval < pcutoff)\n",
      "/Users/agos/Documents/Work/ColumbiaProjects/Data_NewDanFitting/Data/data_scripts/sim_utils.py:143: FutureWarning: Using a non-tuple sequence for multidimensional indexing is deprecated; use `arr[tuple(seq)]` instead of `arr[seq]`. In the future this will be interpreted as an array index, `arr[np.array(seq)]`, which will result either in an error or a different result.\n",
      "  return np.nanmean(np.nanmean(arr[slicer],-1),-1)\n",
      "/Users/agos/anaconda3/lib/python3.6/site-packages/autograd/tracer.py:48: RuntimeWarning: Mean of empty slice\n",
      "  return f_raw(*args, **kwargs)\n"
     ]
    }
   ],
   "source": [
    "#######################\n",
    "#parameters\n",
    "\n",
    "nsize,ncontrast = 5,6\n",
    "to_exclude = ['session_'+exptname for exptname in ['180714_M9053','180321_M7955', '180519_M8959', '180531_M8961',\\\n",
    "                                                 '180618_M8956','190202_M10075', '190620_M10619','200103_M0388']]\n",
    "pval_cutoff=0.05 \n",
    "\n",
    "#######################\n",
    "#Files to analyze\n",
    "\n",
    "for ctr_cutoff in [13,5,7,9,11,1]:\n",
    "    for lt in [False,True]:\n",
    "\n",
    "        if lt:\n",
    "            dsnames = [dsbase+x+'_data_struct.hdf5' for x in ['pyr_l4','pyr_l23','pv_l23','sst_l23','vip_l23']]\n",
    "        else:\n",
    "            dsnames = [dsbase+x+'_data_struct.hdf5' for x in ['pyr_l4','pyr_l23','pv_l23','sst_l23','vip_l23']]\n",
    "\n",
    "\n",
    "\n",
    "\n",
    "        ncelltypes = len(dsnames)\n",
    "        selection = [None for itype in range(ncelltypes)]\n",
    "        for itype in range(ncelltypes):\n",
    "            with ut.hdf5read(dsnames[itype]) as ds:\n",
    "                keylist = list(ds.keys())\n",
    "                nexpt = len(keylist)\n",
    "                to_keep = np.array([k not in to_exclude for k in keylist])\n",
    "                selection[itype] = np.arange(nexpt)[to_keep]\n",
    "\n",
    "\n",
    "\n",
    "        #########################################################\n",
    "        #########################################################\n",
    "        # Run\n",
    "\n",
    "        rs =gen_rs(dsnames=dsnames,selection=selection,dcutoff=ctr_cutoff,pval_cutoff=pval_cutoff,slices=None,running=lt,fill_nans_under_cutoff=True)\n",
    "        #r_spatial=gen_rspatial(dsnames=dsnames,selection=selection,dcutoffs=[0,5,10,15],pval_cutoff=pval_cutoff,slices=None,datafield='decon')\n",
    "        #########################################################\n",
    "        paramstring='-running_'+str(lt)+'-pval_cutoff_'+str(pval_cutoff)+'-ctrcutoff_'+str(ctr_cutoff)\n",
    "\n",
    "\n",
    "        #Save rs\n",
    "\n",
    "        with open(outputDir+'rs'+paramstring+'.pickle', 'wb') as handle:\n",
    "            pickle.dump(rs, handle, protocol=pickle.HIGHEST_PROTOCOL)\n",
    "\n",
    "        scipy.io.savemat(outputDir+'rs'+paramstring+'.mat', mdict={'rs': rs})    \n",
    "\n",
    "#         #########################################################   \n",
    "#         #########################################################\n",
    "#         def sum_to_1(r):\n",
    "#             R = r.reshape((r.shape[0],-1))\n",
    "#             R = R/np.nansum(R,axis=1)[:,np.newaxis]\n",
    "#             return R\n",
    "\n",
    "#         RsFlatten = [[None,None] for i in range(len(rs))]\n",
    "\n",
    "#         for iR,r in enumerate(rs):\n",
    "#             for ialign in range(2):\n",
    "#                 RsFlatten[iR][ialign] = sum_to_1(r[ialign])\n",
    "#         #########################################################\n",
    "#         #########################################################\n",
    "#         #Save RsFlatten\n",
    "\n",
    "#         with open(outputDir+'RsFlatten'+paramstring+'.pickle', 'wb') as handle:\n",
    "#             pickle.dump(RsFlatten, handle, protocol=pickle.HIGHEST_PROTOCOL)\n",
    "\n",
    "#         scipy.io.savemat(outputDir+'RsFlatten'+paramstring+'.mat', mdict={'RsFlatten': RsFlatten})            \n",
    "\n",
    "#         #########################################################\n",
    "#         #De flatten Rs\n",
    "#         Rs_sum_to_1=np.zeros_like(rs)\n",
    "#         for k in range(len(dsnames)): # this is the number of files we have\n",
    "#             for l in range(1): #This is locomotion/ no locomotions\n",
    "#                 ncells=RsFlatten[k][l].shape[0]\n",
    "#                 Rs_sum_to_1[k][l]=np.reshape(RsFlatten[k][l], (ncells,5, 6)) \n",
    "\n",
    "\n",
    "#         with open(outputDir+'Rs_sum_to_1'+paramstring+'.pickle', 'wb') as handle:\n",
    "#             pickle.dump(RsFlatten, handle, protocol=pickle.HIGHEST_PROTOCOL)\n",
    "\n",
    "#         scipy.io.savemat(outputDir+'Rs_sum_to_1'+paramstring+'.mat', mdict={'Rs': Rs_sum_to_1})            \n",
    "\n",
    "\n"
   ]
  },
  {
   "cell_type": "markdown",
   "metadata": {},
   "source": [
    "# P-value comparison"
   ]
  },
  {
   "cell_type": "code",
   "execution_count": 3,
   "metadata": {
    "scrolled": false
   },
   "outputs": [
    {
     "name": "stdout",
     "output_type": "stream",
     "text": [
      "/Users/agos/Documents/Work/ColumbiaProjects/Data_NewDanFitting/Data/RawData/DataLatest/pyr_l4_data_struct.hdf5\n",
      "<HDF5 group \"/session_181127_M10073\" (8 members)>\n",
      "decon\n",
      "0.1742857142857143\n"
     ]
    },
    {
     "name": "stderr",
     "output_type": "stream",
     "text": [
      "/Users/agos/Documents/Work/ColumbiaProjects/Data_NewDanFitting/Data/data_scripts/pyute.py:1069: RuntimeWarning: Mean of empty slice\n",
      "  tuning[:,itype] = np.nanmean(data[cell_criteria][:,these_trials],1)\n",
      "/Users/agos/Documents/Work/ColumbiaProjects/Data_NewDanFitting/Data/data_scripts/sim_utils.py:62: RuntimeWarning: invalid value encountered in less\n",
      "  rf_conditions = [ut.k_and(~np.isnan(X[:,0]),~np.isnan(y[:,0])),sqerror<0.75,sigma>3.3,pval[ikey]<0.1]\n"
     ]
    },
    {
     "name": "stdout",
     "output_type": "stream",
     "text": [
      "<HDF5 group \"/session_190202_M10075\" (9 members)>\n",
      "decon\n",
      "0.39652777777777776\n"
     ]
    },
    {
     "name": "stderr",
     "output_type": "stream",
     "text": [
      "/Users/agos/Documents/Work/ColumbiaProjects/Data_NewDanFitting/Data/data_scripts/pyute.py:1069: RuntimeWarning: Mean of empty slice\n",
      "  tuning[:,itype] = np.nanmean(data[cell_criteria][:,these_trials],1)\n",
      "/Users/agos/Documents/Work/ColumbiaProjects/Data_NewDanFitting/Data/data_scripts/sim_utils.py:62: RuntimeWarning: invalid value encountered in less\n",
      "  rf_conditions = [ut.k_and(~np.isnan(X[:,0]),~np.isnan(y[:,0])),sqerror<0.75,sigma>3.3,pval[ikey]<0.1]\n"
     ]
    },
    {
     "name": "stdout",
     "output_type": "stream",
     "text": [
      "<HDF5 group \"/session_190304_M10077\" (9 members)>\n",
      "decon\n",
      "0.44027777777777777\n"
     ]
    },
    {
     "name": "stderr",
     "output_type": "stream",
     "text": [
      "/Users/agos/Documents/Work/ColumbiaProjects/Data_NewDanFitting/Data/data_scripts/pyute.py:1069: RuntimeWarning: Mean of empty slice\n",
      "  tuning[:,itype] = np.nanmean(data[cell_criteria][:,these_trials],1)\n"
     ]
    },
    {
     "name": "stdout",
     "output_type": "stream",
     "text": [
      "<HDF5 group \"/session_190607_M10443\" (9 members)>\n",
      "decon\n",
      "0.8590277777777777\n"
     ]
    },
    {
     "name": "stderr",
     "output_type": "stream",
     "text": [
      "/Users/agos/Documents/Work/ColumbiaProjects/Data_NewDanFitting/Data/data_scripts/sim_utils.py:62: RuntimeWarning: invalid value encountered in less\n",
      "  rf_conditions = [ut.k_and(~np.isnan(X[:,0]),~np.isnan(y[:,0])),sqerror<0.75,sigma>3.3,pval[ikey]<0.1]\n"
     ]
    },
    {
     "name": "stdout",
     "output_type": "stream",
     "text": [
      "<HDF5 group \"/session_190620_M10616\" (9 members)>\n",
      "decon\n",
      "0.4568452380952381\n"
     ]
    },
    {
     "name": "stderr",
     "output_type": "stream",
     "text": [
      "/Users/agos/Documents/Work/ColumbiaProjects/Data_NewDanFitting/Data/data_scripts/pyute.py:1069: RuntimeWarning: Mean of empty slice\n",
      "  tuning[:,itype] = np.nanmean(data[cell_criteria][:,these_trials],1)\n"
     ]
    },
    {
     "name": "stdout",
     "output_type": "stream",
     "text": [
      "<HDF5 group \"/session_190620_M10619\" (9 members)>\n",
      "decon\n",
      "0.3993055555555556\n"
     ]
    },
    {
     "name": "stderr",
     "output_type": "stream",
     "text": [
      "/Users/agos/Documents/Work/ColumbiaProjects/Data_NewDanFitting/Data/data_scripts/pyute.py:1069: RuntimeWarning: Mean of empty slice\n",
      "  tuning[:,itype] = np.nanmean(data[cell_criteria][:,these_trials],1)\n",
      "/Users/agos/Documents/Work/ColumbiaProjects/Data_NewDanFitting/Data/data_scripts/sim_utils.py:62: RuntimeWarning: invalid value encountered in less\n",
      "  rf_conditions = [ut.k_and(~np.isnan(X[:,0]),~np.isnan(y[:,0])),sqerror<0.75,sigma>3.3,pval[ikey]<0.1]\n"
     ]
    },
    {
     "name": "stdout",
     "output_type": "stream",
     "text": [
      "<HDF5 group \"/session_190624_M10615\" (8 members)>\n",
      "decon\n",
      "0.9176587301587301\n"
     ]
    },
    {
     "name": "stderr",
     "output_type": "stream",
     "text": [
      "/Users/agos/Documents/Work/ColumbiaProjects/Data_NewDanFitting/Data/data_scripts/sim_utils.py:62: RuntimeWarning: invalid value encountered in less\n",
      "  rf_conditions = [ut.k_and(~np.isnan(X[:,0]),~np.isnan(y[:,0])),sqerror<0.75,sigma>3.3,pval[ikey]<0.1]\n"
     ]
    },
    {
     "name": "stdout",
     "output_type": "stream",
     "text": [
      "<HDF5 group \"/session_190627_M10616\" (9 members)>\n",
      "decon\n",
      "0.2123015873015873\n"
     ]
    },
    {
     "name": "stderr",
     "output_type": "stream",
     "text": [
      "/Users/agos/Documents/Work/ColumbiaProjects/Data_NewDanFitting/Data/data_scripts/pyute.py:1069: RuntimeWarning: Mean of empty slice\n",
      "  tuning[:,itype] = np.nanmean(data[cell_criteria][:,these_trials],1)\n"
     ]
    },
    {
     "name": "stdout",
     "output_type": "stream",
     "text": [
      "<HDF5 group \"/session_190701_M10615\" (8 members)>\n",
      "decon\n",
      "0.3308531746031746\n"
     ]
    },
    {
     "name": "stderr",
     "output_type": "stream",
     "text": [
      "/Users/agos/Documents/Work/ColumbiaProjects/Data_NewDanFitting/Data/data_scripts/pyute.py:1069: RuntimeWarning: Mean of empty slice\n",
      "  tuning[:,itype] = np.nanmean(data[cell_criteria][:,these_trials],1)\n",
      "/Users/agos/Documents/Work/ColumbiaProjects/Data_NewDanFitting/Data/data_scripts/sim_utils.py:62: RuntimeWarning: invalid value encountered in less\n",
      "  rf_conditions = [ut.k_and(~np.isnan(X[:,0]),~np.isnan(y[:,0])),sqerror<0.75,sigma>3.3,pval[ikey]<0.1]\n"
     ]
    },
    {
     "name": "stdout",
     "output_type": "stream",
     "text": [
      "<HDF5 group \"/session_191212_M0762\" (8 members)>\n",
      "decon\n",
      "0.17807539682539683\n"
     ]
    },
    {
     "name": "stderr",
     "output_type": "stream",
     "text": [
      "/Users/agos/Documents/Work/ColumbiaProjects/Data_NewDanFitting/Data/data_scripts/pyute.py:1069: RuntimeWarning: Mean of empty slice\n",
      "  tuning[:,itype] = np.nanmean(data[cell_criteria][:,these_trials],1)\n"
     ]
    },
    {
     "name": "stdout",
     "output_type": "stream",
     "text": [
      "/Users/agos/Documents/Work/ColumbiaProjects/Data_NewDanFitting/Data/RawData/DataLatest/pyr_l23_data_struct.hdf5\n",
      "<HDF5 group \"/session_181205_M10130\" (8 members)>\n",
      "decon\n",
      "0.26785714285714285\n"
     ]
    },
    {
     "name": "stderr",
     "output_type": "stream",
     "text": [
      "/Users/agos/Documents/Work/ColumbiaProjects/Data_NewDanFitting/Data/data_scripts/pyute.py:1069: RuntimeWarning: Mean of empty slice\n",
      "  tuning[:,itype] = np.nanmean(data[cell_criteria][:,these_trials],1)\n"
     ]
    },
    {
     "name": "stdout",
     "output_type": "stream",
     "text": [
      "<HDF5 group \"/session_181209_M8536\" (9 members)>\n",
      "decon\n",
      "0.1692857142857143\n"
     ]
    },
    {
     "name": "stderr",
     "output_type": "stream",
     "text": [
      "/Users/agos/Documents/Work/ColumbiaProjects/Data_NewDanFitting/Data/data_scripts/pyute.py:1069: RuntimeWarning: Mean of empty slice\n",
      "  tuning[:,itype] = np.nanmean(data[cell_criteria][:,these_trials],1)\n",
      "/Users/agos/Documents/Work/ColumbiaProjects/Data_NewDanFitting/Data/data_scripts/sim_utils.py:62: RuntimeWarning: invalid value encountered in less\n",
      "  rf_conditions = [ut.k_and(~np.isnan(X[:,0]),~np.isnan(y[:,0])),sqerror<0.75,sigma>3.3,pval[ikey]<0.1]\n"
     ]
    },
    {
     "name": "stdout",
     "output_type": "stream",
     "text": [
      "<HDF5 group \"/session_181213_M8536\" (8 members)>\n",
      "decon\n",
      "0.9614285714285714\n",
      "<HDF5 group \"/session_181214_M10130\" (8 members)>\n",
      "decon\n",
      "0.5857142857142857\n"
     ]
    },
    {
     "name": "stderr",
     "output_type": "stream",
     "text": [
      "/Users/agos/Documents/Work/ColumbiaProjects/Data_NewDanFitting/Data/data_scripts/sim_utils.py:62: RuntimeWarning: invalid value encountered in less\n",
      "  rf_conditions = [ut.k_and(~np.isnan(X[:,0]),~np.isnan(y[:,0])),sqerror<0.75,sigma>3.3,pval[ikey]<0.1]\n"
     ]
    },
    {
     "name": "stdout",
     "output_type": "stream",
     "text": [
      "<HDF5 group \"/session_190102_M10130\" (8 members)>\n",
      "decon\n",
      "0.5508333333333333\n",
      "<HDF5 group \"/session_190128_M8982\" (9 members)>\n",
      "decon\n",
      "0.05277777777777778\n"
     ]
    },
    {
     "name": "stderr",
     "output_type": "stream",
     "text": [
      "/Users/agos/Documents/Work/ColumbiaProjects/Data_NewDanFitting/Data/data_scripts/pyute.py:1069: RuntimeWarning: Mean of empty slice\n",
      "  tuning[:,itype] = np.nanmean(data[cell_criteria][:,these_trials],1)\n",
      "/Users/agos/Documents/Work/ColumbiaProjects/Data_NewDanFitting/Data/data_scripts/sim_utils.py:62: RuntimeWarning: invalid value encountered in less\n",
      "  rf_conditions = [ut.k_and(~np.isnan(X[:,0]),~np.isnan(y[:,0])),sqerror<0.75,sigma>3.3,pval[ikey]<0.1]\n"
     ]
    },
    {
     "name": "stdout",
     "output_type": "stream",
     "text": [
      "<HDF5 group \"/session_190130_M9667\" (9 members)>\n",
      "decon\n",
      "0.8097222222222222\n"
     ]
    },
    {
     "name": "stderr",
     "output_type": "stream",
     "text": [
      "/Users/agos/Documents/Work/ColumbiaProjects/Data_NewDanFitting/Data/data_scripts/sim_utils.py:62: RuntimeWarning: invalid value encountered in less\n",
      "  rf_conditions = [ut.k_and(~np.isnan(X[:,0]),~np.isnan(y[:,0])),sqerror<0.75,sigma>3.3,pval[ikey]<0.1]\n"
     ]
    },
    {
     "name": "stdout",
     "output_type": "stream",
     "text": [
      "<HDF5 group \"/session_190131_M9355\" (9 members)>\n",
      "decon\n",
      "0.06597222222222222\n"
     ]
    },
    {
     "name": "stderr",
     "output_type": "stream",
     "text": [
      "/Users/agos/Documents/Work/ColumbiaProjects/Data_NewDanFitting/Data/data_scripts/pyute.py:1069: RuntimeWarning: Mean of empty slice\n",
      "  tuning[:,itype] = np.nanmean(data[cell_criteria][:,these_trials],1)\n",
      "/Users/agos/Documents/Work/ColumbiaProjects/Data_NewDanFitting/Data/data_scripts/sim_utils.py:62: RuntimeWarning: invalid value encountered in less\n",
      "  rf_conditions = [ut.k_and(~np.isnan(X[:,0]),~np.isnan(y[:,0])),sqerror<0.75,sigma>3.3,pval[ikey]<0.1]\n"
     ]
    },
    {
     "name": "stdout",
     "output_type": "stream",
     "text": [
      "<HDF5 group \"/session_190208_M9355\" (9 members)>\n",
      "decon\n",
      "0.049305555555555554\n"
     ]
    },
    {
     "name": "stderr",
     "output_type": "stream",
     "text": [
      "/Users/agos/Documents/Work/ColumbiaProjects/Data_NewDanFitting/Data/data_scripts/pyute.py:1069: RuntimeWarning: Mean of empty slice\n",
      "  tuning[:,itype] = np.nanmean(data[cell_criteria][:,these_trials],1)\n",
      "/Users/agos/Documents/Work/ColumbiaProjects/Data_NewDanFitting/Data/data_scripts/sim_utils.py:62: RuntimeWarning: invalid value encountered in less\n",
      "  rf_conditions = [ut.k_and(~np.isnan(X[:,0]),~np.isnan(y[:,0])),sqerror<0.75,sigma>3.3,pval[ikey]<0.1]\n"
     ]
    },
    {
     "name": "stdout",
     "output_type": "stream",
     "text": [
      "<HDF5 group \"/session_190212_M8536\" (9 members)>\n",
      "decon\n",
      "0.7534722222222222\n"
     ]
    },
    {
     "name": "stderr",
     "output_type": "stream",
     "text": [
      "/Users/agos/Documents/Work/ColumbiaProjects/Data_NewDanFitting/Data/data_scripts/pyute.py:1069: RuntimeWarning: Mean of empty slice\n",
      "  tuning[:,itype] = np.nanmean(data[cell_criteria][:,these_trials],1)\n"
     ]
    },
    {
     "name": "stdout",
     "output_type": "stream",
     "text": [
      "<HDF5 group \"/session_191002_M0293\" (8 members)>\n",
      "decon\n",
      "0.15376984126984128\n"
     ]
    },
    {
     "name": "stderr",
     "output_type": "stream",
     "text": [
      "/Users/agos/Documents/Work/ColumbiaProjects/Data_NewDanFitting/Data/data_scripts/pyute.py:1069: RuntimeWarning: Mean of empty slice\n",
      "  tuning[:,itype] = np.nanmean(data[cell_criteria][:,these_trials],1)\n",
      "/Users/agos/Documents/Work/ColumbiaProjects/Data_NewDanFitting/Data/data_scripts/sim_utils.py:62: RuntimeWarning: invalid value encountered in less\n",
      "  rf_conditions = [ut.k_and(~np.isnan(X[:,0]),~np.isnan(y[:,0])),sqerror<0.75,sigma>3.3,pval[ikey]<0.1]\n"
     ]
    },
    {
     "name": "stdout",
     "output_type": "stream",
     "text": [
      "<HDF5 group \"/session_191108_M0403\" (8 members)>\n",
      "decon\n",
      "0.002976190476190476\n"
     ]
    },
    {
     "name": "stderr",
     "output_type": "stream",
     "text": [
      "/Users/agos/Documents/Work/ColumbiaProjects/Data_NewDanFitting/Data/data_scripts/pyute.py:1069: RuntimeWarning: Mean of empty slice\n",
      "  tuning[:,itype] = np.nanmean(data[cell_criteria][:,these_trials],1)\n",
      "/Users/agos/Documents/Work/ColumbiaProjects/Data_NewDanFitting/Data/data_scripts/sim_utils.py:62: RuntimeWarning: invalid value encountered in less\n",
      "  rf_conditions = [ut.k_and(~np.isnan(X[:,0]),~np.isnan(y[:,0])),sqerror<0.75,sigma>3.3,pval[ikey]<0.1]\n"
     ]
    },
    {
     "name": "stdout",
     "output_type": "stream",
     "text": [
      "/Users/agos/Documents/Work/ColumbiaProjects/Data_NewDanFitting/Data/RawData/DataLatest/pv_l23_data_struct.hdf5\n",
      "<HDF5 group \"/session_191105_M0589\" (12 members)>\n",
      "decon\n",
      "0.0\n"
     ]
    },
    {
     "name": "stderr",
     "output_type": "stream",
     "text": [
      "/Users/agos/Documents/Work/ColumbiaProjects/Data_NewDanFitting/Data/data_scripts/pyute.py:1069: RuntimeWarning: Mean of empty slice\n",
      "  tuning[:,itype] = np.nanmean(data[cell_criteria][:,these_trials],1)\n",
      "/Users/agos/Documents/Work/ColumbiaProjects/Data_NewDanFitting/Data/data_scripts/sim_utils.py:62: RuntimeWarning: invalid value encountered in less\n",
      "  rf_conditions = [ut.k_and(~np.isnan(X[:,0]),~np.isnan(y[:,0])),sqerror<0.75,sigma>3.3,pval[ikey]<0.1]\n",
      "/Users/agos/Documents/Work/ColumbiaProjects/Data_NewDanFitting/Data/data_scripts/pyute.py:1069: RuntimeWarning: Mean of empty slice\n",
      "  tuning[:,itype] = np.nanmean(data[cell_criteria][:,these_trials],1)\n"
     ]
    },
    {
     "name": "stdout",
     "output_type": "stream",
     "text": [
      "<HDF5 group \"/session_191220_M0589\" (12 members)>\n",
      "decon\n",
      "0.000496031746031746\n",
      "<HDF5 group \"/session_191229_M0892\" (12 members)>\n",
      "decon\n",
      "0.000496031746031746\n"
     ]
    },
    {
     "name": "stderr",
     "output_type": "stream",
     "text": [
      "/Users/agos/Documents/Work/ColumbiaProjects/Data_NewDanFitting/Data/data_scripts/pyute.py:1069: RuntimeWarning: Mean of empty slice\n",
      "  tuning[:,itype] = np.nanmean(data[cell_criteria][:,these_trials],1)\n"
     ]
    },
    {
     "name": "stdout",
     "output_type": "stream",
     "text": [
      "<HDF5 group \"/session_200102_M0892\" (12 members)>\n",
      "decon\n",
      "0.06498015873015874\n"
     ]
    },
    {
     "name": "stderr",
     "output_type": "stream",
     "text": [
      "/Users/agos/Documents/Work/ColumbiaProjects/Data_NewDanFitting/Data/data_scripts/pyute.py:1069: RuntimeWarning: Mean of empty slice\n",
      "  tuning[:,itype] = np.nanmean(data[cell_criteria][:,these_trials],1)\n"
     ]
    },
    {
     "name": "stdout",
     "output_type": "stream",
     "text": [
      "<HDF5 group \"/session_200108_M0891\" (12 members)>\n",
      "decon\n",
      "0.13938492063492064\n"
     ]
    },
    {
     "name": "stderr",
     "output_type": "stream",
     "text": [
      "/Users/agos/Documents/Work/ColumbiaProjects/Data_NewDanFitting/Data/data_scripts/pyute.py:1069: RuntimeWarning: Mean of empty slice\n",
      "  tuning[:,itype] = np.nanmean(data[cell_criteria][:,these_trials],1)\n"
     ]
    },
    {
     "name": "stdout",
     "output_type": "stream",
     "text": [
      "<HDF5 group \"/session_200620_M0891\" (13 members)>\n",
      "decon\n",
      "0.5545634920634921\n"
     ]
    },
    {
     "name": "stderr",
     "output_type": "stream",
     "text": [
      "/Users/agos/Documents/Work/ColumbiaProjects/Data_NewDanFitting/Data/data_scripts/pyute.py:1069: RuntimeWarning: Mean of empty slice\n",
      "  tuning[:,itype] = np.nanmean(data[cell_criteria][:,these_trials],1)\n"
     ]
    },
    {
     "name": "stdout",
     "output_type": "stream",
     "text": [
      "<HDF5 group \"/session_200621_M0893\" (13 members)>\n",
      "decon\n",
      "0.4722222222222222\n"
     ]
    },
    {
     "name": "stderr",
     "output_type": "stream",
     "text": [
      "/Users/agos/Documents/Work/ColumbiaProjects/Data_NewDanFitting/Data/data_scripts/pyute.py:1069: RuntimeWarning: Mean of empty slice\n",
      "  tuning[:,itype] = np.nanmean(data[cell_criteria][:,these_trials],1)\n"
     ]
    },
    {
     "name": "stdout",
     "output_type": "stream",
     "text": [
      "/Users/agos/Documents/Work/ColumbiaProjects/Data_NewDanFitting/Data/RawData/DataLatest/sst_l23_data_struct.hdf5\n",
      "<HDF5 group \"/session_180713_M9053\" (9 members)>\n",
      "decon\n",
      "0.8091666666666667\n",
      "<HDF5 group \"/session_180714_M9053\" (9 members)>\n",
      "decon\n",
      "0.8441666666666666\n"
     ]
    },
    {
     "name": "stderr",
     "output_type": "stream",
     "text": [
      "/Users/agos/Documents/Work/ColumbiaProjects/Data_NewDanFitting/Data/data_scripts/sim_utils.py:62: RuntimeWarning: invalid value encountered in less\n",
      "  rf_conditions = [ut.k_and(~np.isnan(X[:,0]),~np.isnan(y[:,0])),sqerror<0.75,sigma>3.3,pval[ikey]<0.1]\n"
     ]
    },
    {
     "name": "stdout",
     "output_type": "stream",
     "text": [
      "<HDF5 group \"/session_180802_M9053\" (8 members)>\n",
      "decon\n",
      "0.5083333333333333\n"
     ]
    },
    {
     "name": "stderr",
     "output_type": "stream",
     "text": [
      "/Users/agos/Documents/Work/ColumbiaProjects/Data_NewDanFitting/Data/data_scripts/pyute.py:1069: RuntimeWarning: Mean of empty slice\n",
      "  tuning[:,itype] = np.nanmean(data[cell_criteria][:,these_trials],1)\n"
     ]
    },
    {
     "name": "stdout",
     "output_type": "stream",
     "text": [
      "<HDF5 group \"/session_180821_M9417\" (9 members)>\n",
      "decon\n",
      "0.1475\n"
     ]
    },
    {
     "name": "stderr",
     "output_type": "stream",
     "text": [
      "/Users/agos/Documents/Work/ColumbiaProjects/Data_NewDanFitting/Data/data_scripts/pyute.py:1069: RuntimeWarning: Mean of empty slice\n",
      "  tuning[:,itype] = np.nanmean(data[cell_criteria][:,these_trials],1)\n"
     ]
    },
    {
     "name": "stdout",
     "output_type": "stream",
     "text": [
      "<HDF5 group \"/session_181117_M10039\" (9 members)>\n",
      "decon\n",
      "0.21071428571428572\n"
     ]
    },
    {
     "name": "stderr",
     "output_type": "stream",
     "text": [
      "/Users/agos/Documents/Work/ColumbiaProjects/Data_NewDanFitting/Data/data_scripts/pyute.py:1069: RuntimeWarning: Mean of empty slice\n",
      "  tuning[:,itype] = np.nanmean(data[cell_criteria][:,these_trials],1)\n"
     ]
    },
    {
     "name": "stdout",
     "output_type": "stream",
     "text": [
      "<HDF5 group \"/session_181120_M10039\" (8 members)>\n",
      "decon\n",
      "0.14285714285714285\n"
     ]
    },
    {
     "name": "stderr",
     "output_type": "stream",
     "text": [
      "/Users/agos/Documents/Work/ColumbiaProjects/Data_NewDanFitting/Data/data_scripts/pyute.py:1069: RuntimeWarning: Mean of empty slice\n",
      "  tuning[:,itype] = np.nanmean(data[cell_criteria][:,these_trials],1)\n",
      "/Users/agos/Documents/Work/ColumbiaProjects/Data_NewDanFitting/Data/data_scripts/sim_utils.py:62: RuntimeWarning: invalid value encountered in less\n",
      "  rf_conditions = [ut.k_and(~np.isnan(X[:,0]),~np.isnan(y[:,0])),sqerror<0.75,sigma>3.3,pval[ikey]<0.1]\n",
      "/Users/agos/Documents/Work/ColumbiaProjects/Data_NewDanFitting/Data/data_scripts/pyute.py:1069: RuntimeWarning: Mean of empty slice\n",
      "  tuning[:,itype] = np.nanmean(data[cell_criteria][:,these_trials],1)\n"
     ]
    },
    {
     "name": "stdout",
     "output_type": "stream",
     "text": [
      "<HDF5 group \"/session_181121_M10039\" (8 members)>\n",
      "decon\n",
      "0.06142857142857143\n",
      "<HDF5 group \"/session_191224_M0390\" (11 members)>\n",
      "decon\n",
      "0.05952380952380952\n"
     ]
    },
    {
     "name": "stderr",
     "output_type": "stream",
     "text": [
      "/Users/agos/Documents/Work/ColumbiaProjects/Data_NewDanFitting/Data/data_scripts/pyute.py:1069: RuntimeWarning: Mean of empty slice\n",
      "  tuning[:,itype] = np.nanmean(data[cell_criteria][:,these_trials],1)\n"
     ]
    },
    {
     "name": "stdout",
     "output_type": "stream",
     "text": [
      "/Users/agos/Documents/Work/ColumbiaProjects/Data_NewDanFitting/Data/RawData/DataLatest/vip_l23_data_struct.hdf5\n",
      "<HDF5 group \"/session_180321_M7955\" (8 members)>\n",
      "<HDF5 group \"/session_180412_M7955\" (8 members)>\n",
      "decon\n",
      "0.989\n"
     ]
    },
    {
     "name": "stderr",
     "output_type": "stream",
     "text": [
      "/Users/agos/Documents/Work/ColumbiaProjects/Data_NewDanFitting/Data/data_scripts/sim_utils.py:62: RuntimeWarning: invalid value encountered in less\n",
      "  rf_conditions = [ut.k_and(~np.isnan(X[:,0]),~np.isnan(y[:,0])),sqerror<0.75,sigma>3.3,pval[ikey]<0.1]\n"
     ]
    },
    {
     "name": "stdout",
     "output_type": "stream",
     "text": [
      "<HDF5 group \"/session_180516_M8956\" (9 members)>\n",
      "decon\n",
      "0.725\n",
      "<HDF5 group \"/session_180519_M8959\" (8 members)>\n",
      "decon\n",
      "0.9425\n",
      "<HDF5 group \"/session_180528_M8959\" (9 members)>\n",
      "decon\n",
      "0.6616666666666666\n"
     ]
    },
    {
     "name": "stderr",
     "output_type": "stream",
     "text": [
      "/Users/agos/Documents/Work/ColumbiaProjects/Data_NewDanFitting/Data/data_scripts/pyute.py:1069: RuntimeWarning: Mean of empty slice\n",
      "  tuning[:,itype] = np.nanmean(data[cell_criteria][:,these_trials],1)\n"
     ]
    },
    {
     "name": "stdout",
     "output_type": "stream",
     "text": [
      "<HDF5 group \"/session_180531_M8961\" (9 members)>\n",
      "decon\n",
      "0.6375\n"
     ]
    },
    {
     "name": "stderr",
     "output_type": "stream",
     "text": [
      "/Users/agos/Documents/Work/ColumbiaProjects/Data_NewDanFitting/Data/data_scripts/pyute.py:1069: RuntimeWarning: Mean of empty slice\n",
      "  tuning[:,itype] = np.nanmean(data[cell_criteria][:,these_trials],1)\n"
     ]
    },
    {
     "name": "stdout",
     "output_type": "stream",
     "text": [
      "<HDF5 group \"/session_180618_M8956\" (9 members)>\n",
      "decon\n",
      "0.9958333333333333\n",
      "<HDF5 group \"/session_180719_M8961\" (8 members)>\n",
      "decon\n",
      "0.009166666666666667\n"
     ]
    },
    {
     "name": "stderr",
     "output_type": "stream",
     "text": [
      "/Users/agos/Documents/Work/ColumbiaProjects/Data_NewDanFitting/Data/data_scripts/pyute.py:1069: RuntimeWarning: Mean of empty slice\n",
      "  tuning[:,itype] = np.nanmean(data[cell_criteria][:,these_trials],1)\n"
     ]
    },
    {
     "name": "stdout",
     "output_type": "stream",
     "text": [
      "<HDF5 group \"/session_180720_M8961\" (8 members)>\n",
      "decon\n",
      "0.04583333333333333\n"
     ]
    },
    {
     "name": "stderr",
     "output_type": "stream",
     "text": [
      "/Users/agos/Documents/Work/ColumbiaProjects/Data_NewDanFitting/Data/data_scripts/pyute.py:1069: RuntimeWarning: Mean of empty slice\n",
      "  tuning[:,itype] = np.nanmean(data[cell_criteria][:,these_trials],1)\n"
     ]
    },
    {
     "name": "stdout",
     "output_type": "stream",
     "text": [
      "<HDF5 group \"/session_180903_M8961\" (9 members)>\n",
      "decon\n",
      "0.8341666666666666\n"
     ]
    },
    {
     "name": "stderr",
     "output_type": "stream",
     "text": [
      "/Users/agos/Documents/Work/ColumbiaProjects/Data_NewDanFitting/Data/data_scripts/sim_utils.py:62: RuntimeWarning: invalid value encountered in less\n",
      "  rf_conditions = [ut.k_and(~np.isnan(X[:,0]),~np.isnan(y[:,0])),sqerror<0.75,sigma>3.3,pval[ikey]<0.1]\n"
     ]
    },
    {
     "name": "stdout",
     "output_type": "stream",
     "text": [
      "<HDF5 group \"/session_190710_M0208\" (9 members)>\n",
      "decon\n",
      "0.27628968253968256\n"
     ]
    },
    {
     "name": "stderr",
     "output_type": "stream",
     "text": [
      "/Users/agos/Documents/Work/ColumbiaProjects/Data_NewDanFitting/Data/data_scripts/pyute.py:1069: RuntimeWarning: Mean of empty slice\n",
      "  tuning[:,itype] = np.nanmean(data[cell_criteria][:,these_trials],1)\n"
     ]
    },
    {
     "name": "stdout",
     "output_type": "stream",
     "text": [
      "<HDF5 group \"/session_191215_M0385\" (9 members)>\n",
      "decon\n",
      "0.18998015873015872\n"
     ]
    },
    {
     "name": "stderr",
     "output_type": "stream",
     "text": [
      "/Users/agos/Documents/Work/ColumbiaProjects/Data_NewDanFitting/Data/data_scripts/pyute.py:1069: RuntimeWarning: Mean of empty slice\n",
      "  tuning[:,itype] = np.nanmean(data[cell_criteria][:,these_trials],1)\n"
     ]
    },
    {
     "name": "stdout",
     "output_type": "stream",
     "text": [
      "<HDF5 group \"/session_200103_M0388\" (9 members)>\n",
      "decon\n",
      "0.08085317460317461\n"
     ]
    },
    {
     "name": "stderr",
     "output_type": "stream",
     "text": [
      "/Users/agos/Documents/Work/ColumbiaProjects/Data_NewDanFitting/Data/data_scripts/pyute.py:1069: RuntimeWarning: Mean of empty slice\n",
      "  tuning[:,itype] = np.nanmean(data[cell_criteria][:,these_trials],1)\n",
      "/Users/agos/Documents/Work/ColumbiaProjects/Data_NewDanFitting/Data/data_scripts/sim_utils.py:163: RuntimeWarning: invalid value encountered in less\n",
      "  return np.logical_and(criterion(displacement),pval < pcutoff)\n",
      "/Users/agos/Documents/Work/ColumbiaProjects/Data_NewDanFitting/Data/data_scripts/sim_utils.py:143: FutureWarning: Using a non-tuple sequence for multidimensional indexing is deprecated; use `arr[tuple(seq)]` instead of `arr[seq]`. In the future this will be interpreted as an array index, `arr[np.array(seq)]`, which will result either in an error or a different result.\n",
      "  return np.nanmean(np.nanmean(arr[slicer],-1),-1)\n",
      "/Users/agos/anaconda3/lib/python3.6/site-packages/autograd/tracer.py:48: RuntimeWarning: Mean of empty slice\n",
      "  return f_raw(*args, **kwargs)\n"
     ]
    },
    {
     "name": "stdout",
     "output_type": "stream",
     "text": [
      "/Users/agos/Documents/Work/ColumbiaProjects/Data_NewDanFitting/Data/RawData/DataLatest/pyr_l4_data_struct.hdf5\n",
      "<HDF5 group \"/session_181127_M10073\" (8 members)>\n",
      "decon\n",
      "0.1742857142857143\n"
     ]
    },
    {
     "name": "stderr",
     "output_type": "stream",
     "text": [
      "/Users/agos/Documents/Work/ColumbiaProjects/Data_NewDanFitting/Data/data_scripts/pyute.py:1069: RuntimeWarning: Mean of empty slice\n",
      "  tuning[:,itype] = np.nanmean(data[cell_criteria][:,these_trials],1)\n",
      "/Users/agos/Documents/Work/ColumbiaProjects/Data_NewDanFitting/Data/data_scripts/sim_utils.py:62: RuntimeWarning: invalid value encountered in less\n",
      "  rf_conditions = [ut.k_and(~np.isnan(X[:,0]),~np.isnan(y[:,0])),sqerror<0.75,sigma>3.3,pval[ikey]<0.1]\n"
     ]
    },
    {
     "name": "stdout",
     "output_type": "stream",
     "text": [
      "<HDF5 group \"/session_190202_M10075\" (9 members)>\n",
      "decon\n",
      "0.39652777777777776\n"
     ]
    },
    {
     "name": "stderr",
     "output_type": "stream",
     "text": [
      "/Users/agos/Documents/Work/ColumbiaProjects/Data_NewDanFitting/Data/data_scripts/pyute.py:1069: RuntimeWarning: Mean of empty slice\n",
      "  tuning[:,itype] = np.nanmean(data[cell_criteria][:,these_trials],1)\n",
      "/Users/agos/Documents/Work/ColumbiaProjects/Data_NewDanFitting/Data/data_scripts/sim_utils.py:62: RuntimeWarning: invalid value encountered in less\n",
      "  rf_conditions = [ut.k_and(~np.isnan(X[:,0]),~np.isnan(y[:,0])),sqerror<0.75,sigma>3.3,pval[ikey]<0.1]\n"
     ]
    },
    {
     "name": "stdout",
     "output_type": "stream",
     "text": [
      "<HDF5 group \"/session_190304_M10077\" (9 members)>\n",
      "decon\n",
      "0.44027777777777777\n"
     ]
    },
    {
     "name": "stderr",
     "output_type": "stream",
     "text": [
      "/Users/agos/Documents/Work/ColumbiaProjects/Data_NewDanFitting/Data/data_scripts/pyute.py:1069: RuntimeWarning: Mean of empty slice\n",
      "  tuning[:,itype] = np.nanmean(data[cell_criteria][:,these_trials],1)\n"
     ]
    },
    {
     "name": "stdout",
     "output_type": "stream",
     "text": [
      "<HDF5 group \"/session_190607_M10443\" (9 members)>\n",
      "decon\n",
      "0.8590277777777777\n"
     ]
    },
    {
     "name": "stderr",
     "output_type": "stream",
     "text": [
      "/Users/agos/Documents/Work/ColumbiaProjects/Data_NewDanFitting/Data/data_scripts/sim_utils.py:62: RuntimeWarning: invalid value encountered in less\n",
      "  rf_conditions = [ut.k_and(~np.isnan(X[:,0]),~np.isnan(y[:,0])),sqerror<0.75,sigma>3.3,pval[ikey]<0.1]\n"
     ]
    },
    {
     "name": "stdout",
     "output_type": "stream",
     "text": [
      "<HDF5 group \"/session_190620_M10616\" (9 members)>\n",
      "decon\n",
      "0.4568452380952381\n"
     ]
    },
    {
     "name": "stderr",
     "output_type": "stream",
     "text": [
      "/Users/agos/Documents/Work/ColumbiaProjects/Data_NewDanFitting/Data/data_scripts/pyute.py:1069: RuntimeWarning: Mean of empty slice\n",
      "  tuning[:,itype] = np.nanmean(data[cell_criteria][:,these_trials],1)\n"
     ]
    },
    {
     "name": "stdout",
     "output_type": "stream",
     "text": [
      "<HDF5 group \"/session_190620_M10619\" (9 members)>\n",
      "decon\n",
      "0.3993055555555556\n"
     ]
    },
    {
     "name": "stderr",
     "output_type": "stream",
     "text": [
      "/Users/agos/Documents/Work/ColumbiaProjects/Data_NewDanFitting/Data/data_scripts/pyute.py:1069: RuntimeWarning: Mean of empty slice\n",
      "  tuning[:,itype] = np.nanmean(data[cell_criteria][:,these_trials],1)\n",
      "/Users/agos/Documents/Work/ColumbiaProjects/Data_NewDanFitting/Data/data_scripts/sim_utils.py:62: RuntimeWarning: invalid value encountered in less\n",
      "  rf_conditions = [ut.k_and(~np.isnan(X[:,0]),~np.isnan(y[:,0])),sqerror<0.75,sigma>3.3,pval[ikey]<0.1]\n"
     ]
    },
    {
     "name": "stdout",
     "output_type": "stream",
     "text": [
      "<HDF5 group \"/session_190624_M10615\" (8 members)>\n",
      "decon\n",
      "0.9176587301587301\n"
     ]
    },
    {
     "name": "stderr",
     "output_type": "stream",
     "text": [
      "/Users/agos/Documents/Work/ColumbiaProjects/Data_NewDanFitting/Data/data_scripts/sim_utils.py:62: RuntimeWarning: invalid value encountered in less\n",
      "  rf_conditions = [ut.k_and(~np.isnan(X[:,0]),~np.isnan(y[:,0])),sqerror<0.75,sigma>3.3,pval[ikey]<0.1]\n"
     ]
    },
    {
     "name": "stdout",
     "output_type": "stream",
     "text": [
      "<HDF5 group \"/session_190627_M10616\" (9 members)>\n",
      "decon\n",
      "0.2123015873015873\n"
     ]
    },
    {
     "name": "stderr",
     "output_type": "stream",
     "text": [
      "/Users/agos/Documents/Work/ColumbiaProjects/Data_NewDanFitting/Data/data_scripts/pyute.py:1069: RuntimeWarning: Mean of empty slice\n",
      "  tuning[:,itype] = np.nanmean(data[cell_criteria][:,these_trials],1)\n"
     ]
    },
    {
     "name": "stdout",
     "output_type": "stream",
     "text": [
      "<HDF5 group \"/session_190701_M10615\" (8 members)>\n",
      "decon\n",
      "0.3308531746031746\n"
     ]
    },
    {
     "name": "stderr",
     "output_type": "stream",
     "text": [
      "/Users/agos/Documents/Work/ColumbiaProjects/Data_NewDanFitting/Data/data_scripts/pyute.py:1069: RuntimeWarning: Mean of empty slice\n",
      "  tuning[:,itype] = np.nanmean(data[cell_criteria][:,these_trials],1)\n",
      "/Users/agos/Documents/Work/ColumbiaProjects/Data_NewDanFitting/Data/data_scripts/sim_utils.py:62: RuntimeWarning: invalid value encountered in less\n",
      "  rf_conditions = [ut.k_and(~np.isnan(X[:,0]),~np.isnan(y[:,0])),sqerror<0.75,sigma>3.3,pval[ikey]<0.1]\n"
     ]
    },
    {
     "name": "stdout",
     "output_type": "stream",
     "text": [
      "<HDF5 group \"/session_191212_M0762\" (8 members)>\n",
      "decon\n",
      "0.17807539682539683\n"
     ]
    },
    {
     "name": "stderr",
     "output_type": "stream",
     "text": [
      "/Users/agos/Documents/Work/ColumbiaProjects/Data_NewDanFitting/Data/data_scripts/pyute.py:1069: RuntimeWarning: Mean of empty slice\n",
      "  tuning[:,itype] = np.nanmean(data[cell_criteria][:,these_trials],1)\n"
     ]
    },
    {
     "name": "stdout",
     "output_type": "stream",
     "text": [
      "/Users/agos/Documents/Work/ColumbiaProjects/Data_NewDanFitting/Data/RawData/DataLatest/pyr_l23_data_struct.hdf5\n",
      "<HDF5 group \"/session_181205_M10130\" (8 members)>\n",
      "decon\n",
      "0.26785714285714285\n"
     ]
    },
    {
     "name": "stderr",
     "output_type": "stream",
     "text": [
      "/Users/agos/Documents/Work/ColumbiaProjects/Data_NewDanFitting/Data/data_scripts/pyute.py:1069: RuntimeWarning: Mean of empty slice\n",
      "  tuning[:,itype] = np.nanmean(data[cell_criteria][:,these_trials],1)\n"
     ]
    },
    {
     "name": "stdout",
     "output_type": "stream",
     "text": [
      "<HDF5 group \"/session_181209_M8536\" (9 members)>\n",
      "decon\n",
      "0.1692857142857143\n"
     ]
    },
    {
     "name": "stderr",
     "output_type": "stream",
     "text": [
      "/Users/agos/Documents/Work/ColumbiaProjects/Data_NewDanFitting/Data/data_scripts/pyute.py:1069: RuntimeWarning: Mean of empty slice\n",
      "  tuning[:,itype] = np.nanmean(data[cell_criteria][:,these_trials],1)\n",
      "/Users/agos/Documents/Work/ColumbiaProjects/Data_NewDanFitting/Data/data_scripts/sim_utils.py:62: RuntimeWarning: invalid value encountered in less\n",
      "  rf_conditions = [ut.k_and(~np.isnan(X[:,0]),~np.isnan(y[:,0])),sqerror<0.75,sigma>3.3,pval[ikey]<0.1]\n"
     ]
    },
    {
     "name": "stdout",
     "output_type": "stream",
     "text": [
      "<HDF5 group \"/session_181213_M8536\" (8 members)>\n",
      "decon\n",
      "0.9614285714285714\n",
      "<HDF5 group \"/session_181214_M10130\" (8 members)>\n",
      "decon\n",
      "0.5857142857142857\n"
     ]
    },
    {
     "name": "stderr",
     "output_type": "stream",
     "text": [
      "/Users/agos/Documents/Work/ColumbiaProjects/Data_NewDanFitting/Data/data_scripts/sim_utils.py:62: RuntimeWarning: invalid value encountered in less\n",
      "  rf_conditions = [ut.k_and(~np.isnan(X[:,0]),~np.isnan(y[:,0])),sqerror<0.75,sigma>3.3,pval[ikey]<0.1]\n"
     ]
    },
    {
     "name": "stdout",
     "output_type": "stream",
     "text": [
      "<HDF5 group \"/session_190102_M10130\" (8 members)>\n",
      "decon\n",
      "0.5508333333333333\n",
      "<HDF5 group \"/session_190128_M8982\" (9 members)>\n",
      "decon\n",
      "0.05277777777777778\n"
     ]
    },
    {
     "name": "stderr",
     "output_type": "stream",
     "text": [
      "/Users/agos/Documents/Work/ColumbiaProjects/Data_NewDanFitting/Data/data_scripts/pyute.py:1069: RuntimeWarning: Mean of empty slice\n",
      "  tuning[:,itype] = np.nanmean(data[cell_criteria][:,these_trials],1)\n",
      "/Users/agos/Documents/Work/ColumbiaProjects/Data_NewDanFitting/Data/data_scripts/sim_utils.py:62: RuntimeWarning: invalid value encountered in less\n",
      "  rf_conditions = [ut.k_and(~np.isnan(X[:,0]),~np.isnan(y[:,0])),sqerror<0.75,sigma>3.3,pval[ikey]<0.1]\n"
     ]
    },
    {
     "name": "stdout",
     "output_type": "stream",
     "text": [
      "<HDF5 group \"/session_190130_M9667\" (9 members)>\n",
      "decon\n",
      "0.8097222222222222\n"
     ]
    },
    {
     "name": "stderr",
     "output_type": "stream",
     "text": [
      "/Users/agos/Documents/Work/ColumbiaProjects/Data_NewDanFitting/Data/data_scripts/sim_utils.py:62: RuntimeWarning: invalid value encountered in less\n",
      "  rf_conditions = [ut.k_and(~np.isnan(X[:,0]),~np.isnan(y[:,0])),sqerror<0.75,sigma>3.3,pval[ikey]<0.1]\n"
     ]
    },
    {
     "name": "stdout",
     "output_type": "stream",
     "text": [
      "<HDF5 group \"/session_190131_M9355\" (9 members)>\n",
      "decon\n",
      "0.06597222222222222\n"
     ]
    },
    {
     "name": "stderr",
     "output_type": "stream",
     "text": [
      "/Users/agos/Documents/Work/ColumbiaProjects/Data_NewDanFitting/Data/data_scripts/pyute.py:1069: RuntimeWarning: Mean of empty slice\n",
      "  tuning[:,itype] = np.nanmean(data[cell_criteria][:,these_trials],1)\n",
      "/Users/agos/Documents/Work/ColumbiaProjects/Data_NewDanFitting/Data/data_scripts/sim_utils.py:62: RuntimeWarning: invalid value encountered in less\n",
      "  rf_conditions = [ut.k_and(~np.isnan(X[:,0]),~np.isnan(y[:,0])),sqerror<0.75,sigma>3.3,pval[ikey]<0.1]\n"
     ]
    },
    {
     "name": "stdout",
     "output_type": "stream",
     "text": [
      "<HDF5 group \"/session_190208_M9355\" (9 members)>\n",
      "decon\n",
      "0.049305555555555554\n"
     ]
    },
    {
     "name": "stderr",
     "output_type": "stream",
     "text": [
      "/Users/agos/Documents/Work/ColumbiaProjects/Data_NewDanFitting/Data/data_scripts/pyute.py:1069: RuntimeWarning: Mean of empty slice\n",
      "  tuning[:,itype] = np.nanmean(data[cell_criteria][:,these_trials],1)\n",
      "/Users/agos/Documents/Work/ColumbiaProjects/Data_NewDanFitting/Data/data_scripts/sim_utils.py:62: RuntimeWarning: invalid value encountered in less\n",
      "  rf_conditions = [ut.k_and(~np.isnan(X[:,0]),~np.isnan(y[:,0])),sqerror<0.75,sigma>3.3,pval[ikey]<0.1]\n"
     ]
    },
    {
     "name": "stdout",
     "output_type": "stream",
     "text": [
      "<HDF5 group \"/session_190212_M8536\" (9 members)>\n",
      "decon\n",
      "0.7534722222222222\n"
     ]
    },
    {
     "name": "stderr",
     "output_type": "stream",
     "text": [
      "/Users/agos/Documents/Work/ColumbiaProjects/Data_NewDanFitting/Data/data_scripts/pyute.py:1069: RuntimeWarning: Mean of empty slice\n",
      "  tuning[:,itype] = np.nanmean(data[cell_criteria][:,these_trials],1)\n"
     ]
    },
    {
     "name": "stdout",
     "output_type": "stream",
     "text": [
      "<HDF5 group \"/session_191002_M0293\" (8 members)>\n",
      "decon\n",
      "0.15376984126984128\n"
     ]
    },
    {
     "name": "stderr",
     "output_type": "stream",
     "text": [
      "/Users/agos/Documents/Work/ColumbiaProjects/Data_NewDanFitting/Data/data_scripts/pyute.py:1069: RuntimeWarning: Mean of empty slice\n",
      "  tuning[:,itype] = np.nanmean(data[cell_criteria][:,these_trials],1)\n",
      "/Users/agos/Documents/Work/ColumbiaProjects/Data_NewDanFitting/Data/data_scripts/sim_utils.py:62: RuntimeWarning: invalid value encountered in less\n",
      "  rf_conditions = [ut.k_and(~np.isnan(X[:,0]),~np.isnan(y[:,0])),sqerror<0.75,sigma>3.3,pval[ikey]<0.1]\n"
     ]
    },
    {
     "name": "stdout",
     "output_type": "stream",
     "text": [
      "<HDF5 group \"/session_191108_M0403\" (8 members)>\n",
      "decon\n",
      "0.002976190476190476\n"
     ]
    },
    {
     "name": "stderr",
     "output_type": "stream",
     "text": [
      "/Users/agos/Documents/Work/ColumbiaProjects/Data_NewDanFitting/Data/data_scripts/pyute.py:1069: RuntimeWarning: Mean of empty slice\n",
      "  tuning[:,itype] = np.nanmean(data[cell_criteria][:,these_trials],1)\n",
      "/Users/agos/Documents/Work/ColumbiaProjects/Data_NewDanFitting/Data/data_scripts/sim_utils.py:62: RuntimeWarning: invalid value encountered in less\n",
      "  rf_conditions = [ut.k_and(~np.isnan(X[:,0]),~np.isnan(y[:,0])),sqerror<0.75,sigma>3.3,pval[ikey]<0.1]\n"
     ]
    },
    {
     "name": "stdout",
     "output_type": "stream",
     "text": [
      "/Users/agos/Documents/Work/ColumbiaProjects/Data_NewDanFitting/Data/RawData/DataLatest/pv_l23_data_struct.hdf5\n",
      "<HDF5 group \"/session_191105_M0589\" (12 members)>\n",
      "decon\n",
      "0.0\n"
     ]
    },
    {
     "name": "stderr",
     "output_type": "stream",
     "text": [
      "/Users/agos/Documents/Work/ColumbiaProjects/Data_NewDanFitting/Data/data_scripts/pyute.py:1069: RuntimeWarning: Mean of empty slice\n",
      "  tuning[:,itype] = np.nanmean(data[cell_criteria][:,these_trials],1)\n",
      "/Users/agos/Documents/Work/ColumbiaProjects/Data_NewDanFitting/Data/data_scripts/sim_utils.py:62: RuntimeWarning: invalid value encountered in less\n",
      "  rf_conditions = [ut.k_and(~np.isnan(X[:,0]),~np.isnan(y[:,0])),sqerror<0.75,sigma>3.3,pval[ikey]<0.1]\n",
      "/Users/agos/Documents/Work/ColumbiaProjects/Data_NewDanFitting/Data/data_scripts/pyute.py:1069: RuntimeWarning: Mean of empty slice\n",
      "  tuning[:,itype] = np.nanmean(data[cell_criteria][:,these_trials],1)\n"
     ]
    },
    {
     "name": "stdout",
     "output_type": "stream",
     "text": [
      "<HDF5 group \"/session_191220_M0589\" (12 members)>\n",
      "decon\n",
      "0.000496031746031746\n",
      "<HDF5 group \"/session_191229_M0892\" (12 members)>\n",
      "decon\n",
      "0.000496031746031746\n"
     ]
    },
    {
     "name": "stderr",
     "output_type": "stream",
     "text": [
      "/Users/agos/Documents/Work/ColumbiaProjects/Data_NewDanFitting/Data/data_scripts/pyute.py:1069: RuntimeWarning: Mean of empty slice\n",
      "  tuning[:,itype] = np.nanmean(data[cell_criteria][:,these_trials],1)\n"
     ]
    },
    {
     "name": "stdout",
     "output_type": "stream",
     "text": [
      "<HDF5 group \"/session_200102_M0892\" (12 members)>\n",
      "decon\n",
      "0.06498015873015874\n"
     ]
    },
    {
     "name": "stderr",
     "output_type": "stream",
     "text": [
      "/Users/agos/Documents/Work/ColumbiaProjects/Data_NewDanFitting/Data/data_scripts/pyute.py:1069: RuntimeWarning: Mean of empty slice\n",
      "  tuning[:,itype] = np.nanmean(data[cell_criteria][:,these_trials],1)\n"
     ]
    },
    {
     "name": "stdout",
     "output_type": "stream",
     "text": [
      "<HDF5 group \"/session_200108_M0891\" (12 members)>\n",
      "decon\n",
      "0.13938492063492064\n"
     ]
    },
    {
     "name": "stderr",
     "output_type": "stream",
     "text": [
      "/Users/agos/Documents/Work/ColumbiaProjects/Data_NewDanFitting/Data/data_scripts/pyute.py:1069: RuntimeWarning: Mean of empty slice\n",
      "  tuning[:,itype] = np.nanmean(data[cell_criteria][:,these_trials],1)\n"
     ]
    },
    {
     "name": "stdout",
     "output_type": "stream",
     "text": [
      "<HDF5 group \"/session_200620_M0891\" (13 members)>\n",
      "decon\n",
      "0.5545634920634921\n"
     ]
    },
    {
     "name": "stderr",
     "output_type": "stream",
     "text": [
      "/Users/agos/Documents/Work/ColumbiaProjects/Data_NewDanFitting/Data/data_scripts/pyute.py:1069: RuntimeWarning: Mean of empty slice\n",
      "  tuning[:,itype] = np.nanmean(data[cell_criteria][:,these_trials],1)\n"
     ]
    },
    {
     "name": "stdout",
     "output_type": "stream",
     "text": [
      "<HDF5 group \"/session_200621_M0893\" (13 members)>\n",
      "decon\n",
      "0.4722222222222222\n"
     ]
    },
    {
     "name": "stderr",
     "output_type": "stream",
     "text": [
      "/Users/agos/Documents/Work/ColumbiaProjects/Data_NewDanFitting/Data/data_scripts/pyute.py:1069: RuntimeWarning: Mean of empty slice\n",
      "  tuning[:,itype] = np.nanmean(data[cell_criteria][:,these_trials],1)\n"
     ]
    },
    {
     "name": "stdout",
     "output_type": "stream",
     "text": [
      "/Users/agos/Documents/Work/ColumbiaProjects/Data_NewDanFitting/Data/RawData/DataLatest/sst_l23_data_struct.hdf5\n",
      "<HDF5 group \"/session_180713_M9053\" (9 members)>\n",
      "decon\n",
      "0.8091666666666667\n",
      "<HDF5 group \"/session_180714_M9053\" (9 members)>\n",
      "decon\n",
      "0.8441666666666666\n"
     ]
    },
    {
     "name": "stderr",
     "output_type": "stream",
     "text": [
      "/Users/agos/Documents/Work/ColumbiaProjects/Data_NewDanFitting/Data/data_scripts/sim_utils.py:62: RuntimeWarning: invalid value encountered in less\n",
      "  rf_conditions = [ut.k_and(~np.isnan(X[:,0]),~np.isnan(y[:,0])),sqerror<0.75,sigma>3.3,pval[ikey]<0.1]\n"
     ]
    },
    {
     "name": "stdout",
     "output_type": "stream",
     "text": [
      "<HDF5 group \"/session_180802_M9053\" (8 members)>\n",
      "decon\n",
      "0.5083333333333333\n"
     ]
    },
    {
     "name": "stderr",
     "output_type": "stream",
     "text": [
      "/Users/agos/Documents/Work/ColumbiaProjects/Data_NewDanFitting/Data/data_scripts/pyute.py:1069: RuntimeWarning: Mean of empty slice\n",
      "  tuning[:,itype] = np.nanmean(data[cell_criteria][:,these_trials],1)\n"
     ]
    },
    {
     "name": "stdout",
     "output_type": "stream",
     "text": [
      "<HDF5 group \"/session_180821_M9417\" (9 members)>\n",
      "decon\n",
      "0.1475\n"
     ]
    },
    {
     "name": "stderr",
     "output_type": "stream",
     "text": [
      "/Users/agos/Documents/Work/ColumbiaProjects/Data_NewDanFitting/Data/data_scripts/pyute.py:1069: RuntimeWarning: Mean of empty slice\n",
      "  tuning[:,itype] = np.nanmean(data[cell_criteria][:,these_trials],1)\n"
     ]
    },
    {
     "name": "stdout",
     "output_type": "stream",
     "text": [
      "<HDF5 group \"/session_181117_M10039\" (9 members)>\n",
      "decon\n",
      "0.21071428571428572\n"
     ]
    },
    {
     "name": "stderr",
     "output_type": "stream",
     "text": [
      "/Users/agos/Documents/Work/ColumbiaProjects/Data_NewDanFitting/Data/data_scripts/pyute.py:1069: RuntimeWarning: Mean of empty slice\n",
      "  tuning[:,itype] = np.nanmean(data[cell_criteria][:,these_trials],1)\n"
     ]
    },
    {
     "name": "stdout",
     "output_type": "stream",
     "text": [
      "<HDF5 group \"/session_181120_M10039\" (8 members)>\n",
      "decon\n",
      "0.14285714285714285\n"
     ]
    },
    {
     "name": "stderr",
     "output_type": "stream",
     "text": [
      "/Users/agos/Documents/Work/ColumbiaProjects/Data_NewDanFitting/Data/data_scripts/pyute.py:1069: RuntimeWarning: Mean of empty slice\n",
      "  tuning[:,itype] = np.nanmean(data[cell_criteria][:,these_trials],1)\n",
      "/Users/agos/Documents/Work/ColumbiaProjects/Data_NewDanFitting/Data/data_scripts/sim_utils.py:62: RuntimeWarning: invalid value encountered in less\n",
      "  rf_conditions = [ut.k_and(~np.isnan(X[:,0]),~np.isnan(y[:,0])),sqerror<0.75,sigma>3.3,pval[ikey]<0.1]\n",
      "/Users/agos/Documents/Work/ColumbiaProjects/Data_NewDanFitting/Data/data_scripts/pyute.py:1069: RuntimeWarning: Mean of empty slice\n",
      "  tuning[:,itype] = np.nanmean(data[cell_criteria][:,these_trials],1)\n"
     ]
    },
    {
     "name": "stdout",
     "output_type": "stream",
     "text": [
      "<HDF5 group \"/session_181121_M10039\" (8 members)>\n",
      "decon\n",
      "0.06142857142857143\n",
      "<HDF5 group \"/session_191224_M0390\" (11 members)>\n",
      "decon\n",
      "0.05952380952380952\n"
     ]
    },
    {
     "name": "stderr",
     "output_type": "stream",
     "text": [
      "/Users/agos/Documents/Work/ColumbiaProjects/Data_NewDanFitting/Data/data_scripts/pyute.py:1069: RuntimeWarning: Mean of empty slice\n",
      "  tuning[:,itype] = np.nanmean(data[cell_criteria][:,these_trials],1)\n"
     ]
    },
    {
     "name": "stdout",
     "output_type": "stream",
     "text": [
      "/Users/agos/Documents/Work/ColumbiaProjects/Data_NewDanFitting/Data/RawData/DataLatest/vip_l23_data_struct.hdf5\n",
      "<HDF5 group \"/session_180321_M7955\" (8 members)>\n",
      "<HDF5 group \"/session_180412_M7955\" (8 members)>\n",
      "decon\n",
      "0.989\n"
     ]
    },
    {
     "name": "stderr",
     "output_type": "stream",
     "text": [
      "/Users/agos/Documents/Work/ColumbiaProjects/Data_NewDanFitting/Data/data_scripts/sim_utils.py:62: RuntimeWarning: invalid value encountered in less\n",
      "  rf_conditions = [ut.k_and(~np.isnan(X[:,0]),~np.isnan(y[:,0])),sqerror<0.75,sigma>3.3,pval[ikey]<0.1]\n"
     ]
    },
    {
     "name": "stdout",
     "output_type": "stream",
     "text": [
      "<HDF5 group \"/session_180516_M8956\" (9 members)>\n",
      "decon\n",
      "0.725\n",
      "<HDF5 group \"/session_180519_M8959\" (8 members)>\n",
      "decon\n",
      "0.9425\n",
      "<HDF5 group \"/session_180528_M8959\" (9 members)>\n",
      "decon\n",
      "0.6616666666666666\n"
     ]
    },
    {
     "name": "stderr",
     "output_type": "stream",
     "text": [
      "/Users/agos/Documents/Work/ColumbiaProjects/Data_NewDanFitting/Data/data_scripts/pyute.py:1069: RuntimeWarning: Mean of empty slice\n",
      "  tuning[:,itype] = np.nanmean(data[cell_criteria][:,these_trials],1)\n"
     ]
    },
    {
     "name": "stdout",
     "output_type": "stream",
     "text": [
      "<HDF5 group \"/session_180531_M8961\" (9 members)>\n",
      "decon\n",
      "0.6375\n"
     ]
    },
    {
     "name": "stderr",
     "output_type": "stream",
     "text": [
      "/Users/agos/Documents/Work/ColumbiaProjects/Data_NewDanFitting/Data/data_scripts/pyute.py:1069: RuntimeWarning: Mean of empty slice\n",
      "  tuning[:,itype] = np.nanmean(data[cell_criteria][:,these_trials],1)\n"
     ]
    },
    {
     "name": "stdout",
     "output_type": "stream",
     "text": [
      "<HDF5 group \"/session_180618_M8956\" (9 members)>\n",
      "decon\n",
      "0.9958333333333333\n",
      "<HDF5 group \"/session_180719_M8961\" (8 members)>\n",
      "decon\n",
      "0.009166666666666667\n"
     ]
    },
    {
     "name": "stderr",
     "output_type": "stream",
     "text": [
      "/Users/agos/Documents/Work/ColumbiaProjects/Data_NewDanFitting/Data/data_scripts/pyute.py:1069: RuntimeWarning: Mean of empty slice\n",
      "  tuning[:,itype] = np.nanmean(data[cell_criteria][:,these_trials],1)\n"
     ]
    },
    {
     "name": "stdout",
     "output_type": "stream",
     "text": [
      "<HDF5 group \"/session_180720_M8961\" (8 members)>\n",
      "decon\n",
      "0.04583333333333333\n"
     ]
    },
    {
     "name": "stderr",
     "output_type": "stream",
     "text": [
      "/Users/agos/Documents/Work/ColumbiaProjects/Data_NewDanFitting/Data/data_scripts/pyute.py:1069: RuntimeWarning: Mean of empty slice\n",
      "  tuning[:,itype] = np.nanmean(data[cell_criteria][:,these_trials],1)\n"
     ]
    },
    {
     "name": "stdout",
     "output_type": "stream",
     "text": [
      "<HDF5 group \"/session_180903_M8961\" (9 members)>\n",
      "decon\n",
      "0.8341666666666666\n"
     ]
    },
    {
     "name": "stderr",
     "output_type": "stream",
     "text": [
      "/Users/agos/Documents/Work/ColumbiaProjects/Data_NewDanFitting/Data/data_scripts/sim_utils.py:62: RuntimeWarning: invalid value encountered in less\n",
      "  rf_conditions = [ut.k_and(~np.isnan(X[:,0]),~np.isnan(y[:,0])),sqerror<0.75,sigma>3.3,pval[ikey]<0.1]\n"
     ]
    },
    {
     "name": "stdout",
     "output_type": "stream",
     "text": [
      "<HDF5 group \"/session_190710_M0208\" (9 members)>\n",
      "decon\n",
      "0.27628968253968256\n"
     ]
    },
    {
     "name": "stderr",
     "output_type": "stream",
     "text": [
      "/Users/agos/Documents/Work/ColumbiaProjects/Data_NewDanFitting/Data/data_scripts/pyute.py:1069: RuntimeWarning: Mean of empty slice\n",
      "  tuning[:,itype] = np.nanmean(data[cell_criteria][:,these_trials],1)\n"
     ]
    },
    {
     "name": "stdout",
     "output_type": "stream",
     "text": [
      "<HDF5 group \"/session_191215_M0385\" (9 members)>\n",
      "decon\n",
      "0.18998015873015872\n"
     ]
    },
    {
     "name": "stderr",
     "output_type": "stream",
     "text": [
      "/Users/agos/Documents/Work/ColumbiaProjects/Data_NewDanFitting/Data/data_scripts/pyute.py:1069: RuntimeWarning: Mean of empty slice\n",
      "  tuning[:,itype] = np.nanmean(data[cell_criteria][:,these_trials],1)\n"
     ]
    },
    {
     "name": "stdout",
     "output_type": "stream",
     "text": [
      "<HDF5 group \"/session_200103_M0388\" (9 members)>\n",
      "decon\n",
      "0.08085317460317461\n"
     ]
    },
    {
     "name": "stderr",
     "output_type": "stream",
     "text": [
      "/Users/agos/Documents/Work/ColumbiaProjects/Data_NewDanFitting/Data/data_scripts/pyute.py:1069: RuntimeWarning: Mean of empty slice\n",
      "  tuning[:,itype] = np.nanmean(data[cell_criteria][:,these_trials],1)\n",
      "/Users/agos/Documents/Work/ColumbiaProjects/Data_NewDanFitting/Data/data_scripts/sim_utils.py:163: RuntimeWarning: invalid value encountered in less\n",
      "  return np.logical_and(criterion(displacement),pval < pcutoff)\n",
      "/Users/agos/Documents/Work/ColumbiaProjects/Data_NewDanFitting/Data/data_scripts/sim_utils.py:143: FutureWarning: Using a non-tuple sequence for multidimensional indexing is deprecated; use `arr[tuple(seq)]` instead of `arr[seq]`. In the future this will be interpreted as an array index, `arr[np.array(seq)]`, which will result either in an error or a different result.\n",
      "  return np.nanmean(np.nanmean(arr[slicer],-1),-1)\n",
      "/Users/agos/anaconda3/lib/python3.6/site-packages/autograd/tracer.py:48: RuntimeWarning: Mean of empty slice\n",
      "  return f_raw(*args, **kwargs)\n"
     ]
    },
    {
     "name": "stdout",
     "output_type": "stream",
     "text": [
      "/Users/agos/Documents/Work/ColumbiaProjects/Data_NewDanFitting/Data/RawData/DataLatest/pyr_l4_data_struct.hdf5\n",
      "<HDF5 group \"/session_181127_M10073\" (8 members)>\n",
      "decon\n",
      "0.1742857142857143\n"
     ]
    },
    {
     "name": "stderr",
     "output_type": "stream",
     "text": [
      "/Users/agos/Documents/Work/ColumbiaProjects/Data_NewDanFitting/Data/data_scripts/pyute.py:1069: RuntimeWarning: Mean of empty slice\n",
      "  tuning[:,itype] = np.nanmean(data[cell_criteria][:,these_trials],1)\n",
      "/Users/agos/Documents/Work/ColumbiaProjects/Data_NewDanFitting/Data/data_scripts/sim_utils.py:62: RuntimeWarning: invalid value encountered in less\n",
      "  rf_conditions = [ut.k_and(~np.isnan(X[:,0]),~np.isnan(y[:,0])),sqerror<0.75,sigma>3.3,pval[ikey]<0.1]\n"
     ]
    },
    {
     "name": "stdout",
     "output_type": "stream",
     "text": [
      "<HDF5 group \"/session_190202_M10075\" (9 members)>\n",
      "decon\n",
      "0.39652777777777776\n"
     ]
    },
    {
     "name": "stderr",
     "output_type": "stream",
     "text": [
      "/Users/agos/Documents/Work/ColumbiaProjects/Data_NewDanFitting/Data/data_scripts/pyute.py:1069: RuntimeWarning: Mean of empty slice\n",
      "  tuning[:,itype] = np.nanmean(data[cell_criteria][:,these_trials],1)\n",
      "/Users/agos/Documents/Work/ColumbiaProjects/Data_NewDanFitting/Data/data_scripts/sim_utils.py:62: RuntimeWarning: invalid value encountered in less\n",
      "  rf_conditions = [ut.k_and(~np.isnan(X[:,0]),~np.isnan(y[:,0])),sqerror<0.75,sigma>3.3,pval[ikey]<0.1]\n"
     ]
    },
    {
     "name": "stdout",
     "output_type": "stream",
     "text": [
      "<HDF5 group \"/session_190304_M10077\" (9 members)>\n",
      "decon\n",
      "0.44027777777777777\n"
     ]
    },
    {
     "name": "stderr",
     "output_type": "stream",
     "text": [
      "/Users/agos/Documents/Work/ColumbiaProjects/Data_NewDanFitting/Data/data_scripts/pyute.py:1069: RuntimeWarning: Mean of empty slice\n",
      "  tuning[:,itype] = np.nanmean(data[cell_criteria][:,these_trials],1)\n"
     ]
    },
    {
     "name": "stdout",
     "output_type": "stream",
     "text": [
      "<HDF5 group \"/session_190607_M10443\" (9 members)>\n",
      "decon\n",
      "0.8590277777777777\n"
     ]
    },
    {
     "name": "stderr",
     "output_type": "stream",
     "text": [
      "/Users/agos/Documents/Work/ColumbiaProjects/Data_NewDanFitting/Data/data_scripts/sim_utils.py:62: RuntimeWarning: invalid value encountered in less\n",
      "  rf_conditions = [ut.k_and(~np.isnan(X[:,0]),~np.isnan(y[:,0])),sqerror<0.75,sigma>3.3,pval[ikey]<0.1]\n"
     ]
    },
    {
     "name": "stdout",
     "output_type": "stream",
     "text": [
      "<HDF5 group \"/session_190620_M10616\" (9 members)>\n",
      "decon\n",
      "0.4568452380952381\n"
     ]
    },
    {
     "name": "stderr",
     "output_type": "stream",
     "text": [
      "/Users/agos/Documents/Work/ColumbiaProjects/Data_NewDanFitting/Data/data_scripts/pyute.py:1069: RuntimeWarning: Mean of empty slice\n",
      "  tuning[:,itype] = np.nanmean(data[cell_criteria][:,these_trials],1)\n"
     ]
    },
    {
     "name": "stdout",
     "output_type": "stream",
     "text": [
      "<HDF5 group \"/session_190620_M10619\" (9 members)>\n",
      "decon\n",
      "0.3993055555555556\n"
     ]
    },
    {
     "name": "stderr",
     "output_type": "stream",
     "text": [
      "/Users/agos/Documents/Work/ColumbiaProjects/Data_NewDanFitting/Data/data_scripts/pyute.py:1069: RuntimeWarning: Mean of empty slice\n",
      "  tuning[:,itype] = np.nanmean(data[cell_criteria][:,these_trials],1)\n",
      "/Users/agos/Documents/Work/ColumbiaProjects/Data_NewDanFitting/Data/data_scripts/sim_utils.py:62: RuntimeWarning: invalid value encountered in less\n",
      "  rf_conditions = [ut.k_and(~np.isnan(X[:,0]),~np.isnan(y[:,0])),sqerror<0.75,sigma>3.3,pval[ikey]<0.1]\n"
     ]
    },
    {
     "name": "stdout",
     "output_type": "stream",
     "text": [
      "<HDF5 group \"/session_190624_M10615\" (8 members)>\n",
      "decon\n",
      "0.9176587301587301\n"
     ]
    },
    {
     "name": "stderr",
     "output_type": "stream",
     "text": [
      "/Users/agos/Documents/Work/ColumbiaProjects/Data_NewDanFitting/Data/data_scripts/sim_utils.py:62: RuntimeWarning: invalid value encountered in less\n",
      "  rf_conditions = [ut.k_and(~np.isnan(X[:,0]),~np.isnan(y[:,0])),sqerror<0.75,sigma>3.3,pval[ikey]<0.1]\n"
     ]
    },
    {
     "name": "stdout",
     "output_type": "stream",
     "text": [
      "<HDF5 group \"/session_190627_M10616\" (9 members)>\n",
      "decon\n",
      "0.2123015873015873\n"
     ]
    },
    {
     "name": "stderr",
     "output_type": "stream",
     "text": [
      "/Users/agos/Documents/Work/ColumbiaProjects/Data_NewDanFitting/Data/data_scripts/pyute.py:1069: RuntimeWarning: Mean of empty slice\n",
      "  tuning[:,itype] = np.nanmean(data[cell_criteria][:,these_trials],1)\n"
     ]
    },
    {
     "name": "stdout",
     "output_type": "stream",
     "text": [
      "<HDF5 group \"/session_190701_M10615\" (8 members)>\n",
      "decon\n",
      "0.3308531746031746\n"
     ]
    },
    {
     "name": "stderr",
     "output_type": "stream",
     "text": [
      "/Users/agos/Documents/Work/ColumbiaProjects/Data_NewDanFitting/Data/data_scripts/pyute.py:1069: RuntimeWarning: Mean of empty slice\n",
      "  tuning[:,itype] = np.nanmean(data[cell_criteria][:,these_trials],1)\n",
      "/Users/agos/Documents/Work/ColumbiaProjects/Data_NewDanFitting/Data/data_scripts/sim_utils.py:62: RuntimeWarning: invalid value encountered in less\n",
      "  rf_conditions = [ut.k_and(~np.isnan(X[:,0]),~np.isnan(y[:,0])),sqerror<0.75,sigma>3.3,pval[ikey]<0.1]\n"
     ]
    },
    {
     "name": "stdout",
     "output_type": "stream",
     "text": [
      "<HDF5 group \"/session_191212_M0762\" (8 members)>\n",
      "decon\n",
      "0.17807539682539683\n"
     ]
    },
    {
     "name": "stderr",
     "output_type": "stream",
     "text": [
      "/Users/agos/Documents/Work/ColumbiaProjects/Data_NewDanFitting/Data/data_scripts/pyute.py:1069: RuntimeWarning: Mean of empty slice\n",
      "  tuning[:,itype] = np.nanmean(data[cell_criteria][:,these_trials],1)\n"
     ]
    },
    {
     "name": "stdout",
     "output_type": "stream",
     "text": [
      "/Users/agos/Documents/Work/ColumbiaProjects/Data_NewDanFitting/Data/RawData/DataLatest/pyr_l23_data_struct.hdf5\n",
      "<HDF5 group \"/session_181205_M10130\" (8 members)>\n",
      "decon\n",
      "0.26785714285714285\n"
     ]
    },
    {
     "name": "stderr",
     "output_type": "stream",
     "text": [
      "/Users/agos/Documents/Work/ColumbiaProjects/Data_NewDanFitting/Data/data_scripts/pyute.py:1069: RuntimeWarning: Mean of empty slice\n",
      "  tuning[:,itype] = np.nanmean(data[cell_criteria][:,these_trials],1)\n"
     ]
    },
    {
     "name": "stdout",
     "output_type": "stream",
     "text": [
      "<HDF5 group \"/session_181209_M8536\" (9 members)>\n",
      "decon\n",
      "0.1692857142857143\n"
     ]
    },
    {
     "name": "stderr",
     "output_type": "stream",
     "text": [
      "/Users/agos/Documents/Work/ColumbiaProjects/Data_NewDanFitting/Data/data_scripts/pyute.py:1069: RuntimeWarning: Mean of empty slice\n",
      "  tuning[:,itype] = np.nanmean(data[cell_criteria][:,these_trials],1)\n",
      "/Users/agos/Documents/Work/ColumbiaProjects/Data_NewDanFitting/Data/data_scripts/sim_utils.py:62: RuntimeWarning: invalid value encountered in less\n",
      "  rf_conditions = [ut.k_and(~np.isnan(X[:,0]),~np.isnan(y[:,0])),sqerror<0.75,sigma>3.3,pval[ikey]<0.1]\n"
     ]
    },
    {
     "name": "stdout",
     "output_type": "stream",
     "text": [
      "<HDF5 group \"/session_181213_M8536\" (8 members)>\n",
      "decon\n",
      "0.9614285714285714\n",
      "<HDF5 group \"/session_181214_M10130\" (8 members)>\n",
      "decon\n",
      "0.5857142857142857\n"
     ]
    },
    {
     "name": "stderr",
     "output_type": "stream",
     "text": [
      "/Users/agos/Documents/Work/ColumbiaProjects/Data_NewDanFitting/Data/data_scripts/sim_utils.py:62: RuntimeWarning: invalid value encountered in less\n",
      "  rf_conditions = [ut.k_and(~np.isnan(X[:,0]),~np.isnan(y[:,0])),sqerror<0.75,sigma>3.3,pval[ikey]<0.1]\n"
     ]
    },
    {
     "name": "stdout",
     "output_type": "stream",
     "text": [
      "<HDF5 group \"/session_190102_M10130\" (8 members)>\n",
      "decon\n",
      "0.5508333333333333\n",
      "<HDF5 group \"/session_190128_M8982\" (9 members)>\n",
      "decon\n",
      "0.05277777777777778\n"
     ]
    },
    {
     "name": "stderr",
     "output_type": "stream",
     "text": [
      "/Users/agos/Documents/Work/ColumbiaProjects/Data_NewDanFitting/Data/data_scripts/pyute.py:1069: RuntimeWarning: Mean of empty slice\n",
      "  tuning[:,itype] = np.nanmean(data[cell_criteria][:,these_trials],1)\n",
      "/Users/agos/Documents/Work/ColumbiaProjects/Data_NewDanFitting/Data/data_scripts/sim_utils.py:62: RuntimeWarning: invalid value encountered in less\n",
      "  rf_conditions = [ut.k_and(~np.isnan(X[:,0]),~np.isnan(y[:,0])),sqerror<0.75,sigma>3.3,pval[ikey]<0.1]\n"
     ]
    },
    {
     "name": "stdout",
     "output_type": "stream",
     "text": [
      "<HDF5 group \"/session_190130_M9667\" (9 members)>\n",
      "decon\n",
      "0.8097222222222222\n"
     ]
    },
    {
     "name": "stderr",
     "output_type": "stream",
     "text": [
      "/Users/agos/Documents/Work/ColumbiaProjects/Data_NewDanFitting/Data/data_scripts/sim_utils.py:62: RuntimeWarning: invalid value encountered in less\n",
      "  rf_conditions = [ut.k_and(~np.isnan(X[:,0]),~np.isnan(y[:,0])),sqerror<0.75,sigma>3.3,pval[ikey]<0.1]\n"
     ]
    },
    {
     "name": "stdout",
     "output_type": "stream",
     "text": [
      "<HDF5 group \"/session_190131_M9355\" (9 members)>\n",
      "decon\n",
      "0.06597222222222222\n"
     ]
    },
    {
     "name": "stderr",
     "output_type": "stream",
     "text": [
      "/Users/agos/Documents/Work/ColumbiaProjects/Data_NewDanFitting/Data/data_scripts/pyute.py:1069: RuntimeWarning: Mean of empty slice\n",
      "  tuning[:,itype] = np.nanmean(data[cell_criteria][:,these_trials],1)\n",
      "/Users/agos/Documents/Work/ColumbiaProjects/Data_NewDanFitting/Data/data_scripts/sim_utils.py:62: RuntimeWarning: invalid value encountered in less\n",
      "  rf_conditions = [ut.k_and(~np.isnan(X[:,0]),~np.isnan(y[:,0])),sqerror<0.75,sigma>3.3,pval[ikey]<0.1]\n"
     ]
    },
    {
     "name": "stdout",
     "output_type": "stream",
     "text": [
      "<HDF5 group \"/session_190208_M9355\" (9 members)>\n",
      "decon\n",
      "0.049305555555555554\n"
     ]
    },
    {
     "name": "stderr",
     "output_type": "stream",
     "text": [
      "/Users/agos/Documents/Work/ColumbiaProjects/Data_NewDanFitting/Data/data_scripts/pyute.py:1069: RuntimeWarning: Mean of empty slice\n",
      "  tuning[:,itype] = np.nanmean(data[cell_criteria][:,these_trials],1)\n",
      "/Users/agos/Documents/Work/ColumbiaProjects/Data_NewDanFitting/Data/data_scripts/sim_utils.py:62: RuntimeWarning: invalid value encountered in less\n",
      "  rf_conditions = [ut.k_and(~np.isnan(X[:,0]),~np.isnan(y[:,0])),sqerror<0.75,sigma>3.3,pval[ikey]<0.1]\n"
     ]
    },
    {
     "name": "stdout",
     "output_type": "stream",
     "text": [
      "<HDF5 group \"/session_190212_M8536\" (9 members)>\n",
      "decon\n",
      "0.7534722222222222\n"
     ]
    },
    {
     "name": "stderr",
     "output_type": "stream",
     "text": [
      "/Users/agos/Documents/Work/ColumbiaProjects/Data_NewDanFitting/Data/data_scripts/pyute.py:1069: RuntimeWarning: Mean of empty slice\n",
      "  tuning[:,itype] = np.nanmean(data[cell_criteria][:,these_trials],1)\n"
     ]
    },
    {
     "name": "stdout",
     "output_type": "stream",
     "text": [
      "<HDF5 group \"/session_191002_M0293\" (8 members)>\n",
      "decon\n",
      "0.15376984126984128\n"
     ]
    },
    {
     "name": "stderr",
     "output_type": "stream",
     "text": [
      "/Users/agos/Documents/Work/ColumbiaProjects/Data_NewDanFitting/Data/data_scripts/pyute.py:1069: RuntimeWarning: Mean of empty slice\n",
      "  tuning[:,itype] = np.nanmean(data[cell_criteria][:,these_trials],1)\n",
      "/Users/agos/Documents/Work/ColumbiaProjects/Data_NewDanFitting/Data/data_scripts/sim_utils.py:62: RuntimeWarning: invalid value encountered in less\n",
      "  rf_conditions = [ut.k_and(~np.isnan(X[:,0]),~np.isnan(y[:,0])),sqerror<0.75,sigma>3.3,pval[ikey]<0.1]\n"
     ]
    },
    {
     "name": "stdout",
     "output_type": "stream",
     "text": [
      "<HDF5 group \"/session_191108_M0403\" (8 members)>\n",
      "decon\n",
      "0.002976190476190476\n"
     ]
    },
    {
     "name": "stderr",
     "output_type": "stream",
     "text": [
      "/Users/agos/Documents/Work/ColumbiaProjects/Data_NewDanFitting/Data/data_scripts/pyute.py:1069: RuntimeWarning: Mean of empty slice\n",
      "  tuning[:,itype] = np.nanmean(data[cell_criteria][:,these_trials],1)\n",
      "/Users/agos/Documents/Work/ColumbiaProjects/Data_NewDanFitting/Data/data_scripts/sim_utils.py:62: RuntimeWarning: invalid value encountered in less\n",
      "  rf_conditions = [ut.k_and(~np.isnan(X[:,0]),~np.isnan(y[:,0])),sqerror<0.75,sigma>3.3,pval[ikey]<0.1]\n"
     ]
    },
    {
     "name": "stdout",
     "output_type": "stream",
     "text": [
      "/Users/agos/Documents/Work/ColumbiaProjects/Data_NewDanFitting/Data/RawData/DataLatest/pv_l23_data_struct.hdf5\n",
      "<HDF5 group \"/session_191105_M0589\" (12 members)>\n",
      "decon\n",
      "0.0\n"
     ]
    },
    {
     "name": "stderr",
     "output_type": "stream",
     "text": [
      "/Users/agos/Documents/Work/ColumbiaProjects/Data_NewDanFitting/Data/data_scripts/pyute.py:1069: RuntimeWarning: Mean of empty slice\n",
      "  tuning[:,itype] = np.nanmean(data[cell_criteria][:,these_trials],1)\n",
      "/Users/agos/Documents/Work/ColumbiaProjects/Data_NewDanFitting/Data/data_scripts/sim_utils.py:62: RuntimeWarning: invalid value encountered in less\n",
      "  rf_conditions = [ut.k_and(~np.isnan(X[:,0]),~np.isnan(y[:,0])),sqerror<0.75,sigma>3.3,pval[ikey]<0.1]\n",
      "/Users/agos/Documents/Work/ColumbiaProjects/Data_NewDanFitting/Data/data_scripts/pyute.py:1069: RuntimeWarning: Mean of empty slice\n",
      "  tuning[:,itype] = np.nanmean(data[cell_criteria][:,these_trials],1)\n"
     ]
    },
    {
     "name": "stdout",
     "output_type": "stream",
     "text": [
      "<HDF5 group \"/session_191220_M0589\" (12 members)>\n",
      "decon\n",
      "0.000496031746031746\n",
      "<HDF5 group \"/session_191229_M0892\" (12 members)>\n",
      "decon\n",
      "0.000496031746031746\n"
     ]
    },
    {
     "name": "stderr",
     "output_type": "stream",
     "text": [
      "/Users/agos/Documents/Work/ColumbiaProjects/Data_NewDanFitting/Data/data_scripts/pyute.py:1069: RuntimeWarning: Mean of empty slice\n",
      "  tuning[:,itype] = np.nanmean(data[cell_criteria][:,these_trials],1)\n"
     ]
    },
    {
     "name": "stdout",
     "output_type": "stream",
     "text": [
      "<HDF5 group \"/session_200102_M0892\" (12 members)>\n",
      "decon\n",
      "0.06498015873015874\n"
     ]
    },
    {
     "name": "stderr",
     "output_type": "stream",
     "text": [
      "/Users/agos/Documents/Work/ColumbiaProjects/Data_NewDanFitting/Data/data_scripts/pyute.py:1069: RuntimeWarning: Mean of empty slice\n",
      "  tuning[:,itype] = np.nanmean(data[cell_criteria][:,these_trials],1)\n"
     ]
    },
    {
     "name": "stdout",
     "output_type": "stream",
     "text": [
      "<HDF5 group \"/session_200108_M0891\" (12 members)>\n",
      "decon\n",
      "0.13938492063492064\n"
     ]
    },
    {
     "name": "stderr",
     "output_type": "stream",
     "text": [
      "/Users/agos/Documents/Work/ColumbiaProjects/Data_NewDanFitting/Data/data_scripts/pyute.py:1069: RuntimeWarning: Mean of empty slice\n",
      "  tuning[:,itype] = np.nanmean(data[cell_criteria][:,these_trials],1)\n"
     ]
    },
    {
     "name": "stdout",
     "output_type": "stream",
     "text": [
      "<HDF5 group \"/session_200620_M0891\" (13 members)>\n",
      "decon\n",
      "0.5545634920634921\n"
     ]
    },
    {
     "name": "stderr",
     "output_type": "stream",
     "text": [
      "/Users/agos/Documents/Work/ColumbiaProjects/Data_NewDanFitting/Data/data_scripts/pyute.py:1069: RuntimeWarning: Mean of empty slice\n",
      "  tuning[:,itype] = np.nanmean(data[cell_criteria][:,these_trials],1)\n"
     ]
    },
    {
     "name": "stdout",
     "output_type": "stream",
     "text": [
      "<HDF5 group \"/session_200621_M0893\" (13 members)>\n",
      "decon\n",
      "0.4722222222222222\n"
     ]
    },
    {
     "name": "stderr",
     "output_type": "stream",
     "text": [
      "/Users/agos/Documents/Work/ColumbiaProjects/Data_NewDanFitting/Data/data_scripts/pyute.py:1069: RuntimeWarning: Mean of empty slice\n",
      "  tuning[:,itype] = np.nanmean(data[cell_criteria][:,these_trials],1)\n"
     ]
    },
    {
     "name": "stdout",
     "output_type": "stream",
     "text": [
      "/Users/agos/Documents/Work/ColumbiaProjects/Data_NewDanFitting/Data/RawData/DataLatest/sst_l23_data_struct.hdf5\n",
      "<HDF5 group \"/session_180713_M9053\" (9 members)>\n",
      "decon\n",
      "0.8091666666666667\n",
      "<HDF5 group \"/session_180714_M9053\" (9 members)>\n",
      "decon\n",
      "0.8441666666666666\n"
     ]
    },
    {
     "name": "stderr",
     "output_type": "stream",
     "text": [
      "/Users/agos/Documents/Work/ColumbiaProjects/Data_NewDanFitting/Data/data_scripts/sim_utils.py:62: RuntimeWarning: invalid value encountered in less\n",
      "  rf_conditions = [ut.k_and(~np.isnan(X[:,0]),~np.isnan(y[:,0])),sqerror<0.75,sigma>3.3,pval[ikey]<0.1]\n"
     ]
    },
    {
     "name": "stdout",
     "output_type": "stream",
     "text": [
      "<HDF5 group \"/session_180802_M9053\" (8 members)>\n",
      "decon\n",
      "0.5083333333333333\n"
     ]
    },
    {
     "name": "stderr",
     "output_type": "stream",
     "text": [
      "/Users/agos/Documents/Work/ColumbiaProjects/Data_NewDanFitting/Data/data_scripts/pyute.py:1069: RuntimeWarning: Mean of empty slice\n",
      "  tuning[:,itype] = np.nanmean(data[cell_criteria][:,these_trials],1)\n"
     ]
    },
    {
     "name": "stdout",
     "output_type": "stream",
     "text": [
      "<HDF5 group \"/session_180821_M9417\" (9 members)>\n",
      "decon\n",
      "0.1475\n"
     ]
    },
    {
     "name": "stderr",
     "output_type": "stream",
     "text": [
      "/Users/agos/Documents/Work/ColumbiaProjects/Data_NewDanFitting/Data/data_scripts/pyute.py:1069: RuntimeWarning: Mean of empty slice\n",
      "  tuning[:,itype] = np.nanmean(data[cell_criteria][:,these_trials],1)\n"
     ]
    },
    {
     "name": "stdout",
     "output_type": "stream",
     "text": [
      "<HDF5 group \"/session_181117_M10039\" (9 members)>\n",
      "decon\n",
      "0.21071428571428572\n"
     ]
    },
    {
     "name": "stderr",
     "output_type": "stream",
     "text": [
      "/Users/agos/Documents/Work/ColumbiaProjects/Data_NewDanFitting/Data/data_scripts/pyute.py:1069: RuntimeWarning: Mean of empty slice\n",
      "  tuning[:,itype] = np.nanmean(data[cell_criteria][:,these_trials],1)\n"
     ]
    },
    {
     "name": "stdout",
     "output_type": "stream",
     "text": [
      "<HDF5 group \"/session_181120_M10039\" (8 members)>\n",
      "decon\n",
      "0.14285714285714285\n"
     ]
    },
    {
     "name": "stderr",
     "output_type": "stream",
     "text": [
      "/Users/agos/Documents/Work/ColumbiaProjects/Data_NewDanFitting/Data/data_scripts/pyute.py:1069: RuntimeWarning: Mean of empty slice\n",
      "  tuning[:,itype] = np.nanmean(data[cell_criteria][:,these_trials],1)\n",
      "/Users/agos/Documents/Work/ColumbiaProjects/Data_NewDanFitting/Data/data_scripts/sim_utils.py:62: RuntimeWarning: invalid value encountered in less\n",
      "  rf_conditions = [ut.k_and(~np.isnan(X[:,0]),~np.isnan(y[:,0])),sqerror<0.75,sigma>3.3,pval[ikey]<0.1]\n",
      "/Users/agos/Documents/Work/ColumbiaProjects/Data_NewDanFitting/Data/data_scripts/pyute.py:1069: RuntimeWarning: Mean of empty slice\n",
      "  tuning[:,itype] = np.nanmean(data[cell_criteria][:,these_trials],1)\n"
     ]
    },
    {
     "name": "stdout",
     "output_type": "stream",
     "text": [
      "<HDF5 group \"/session_181121_M10039\" (8 members)>\n",
      "decon\n",
      "0.06142857142857143\n",
      "<HDF5 group \"/session_191224_M0390\" (11 members)>\n",
      "decon\n",
      "0.05952380952380952\n"
     ]
    },
    {
     "name": "stderr",
     "output_type": "stream",
     "text": [
      "/Users/agos/Documents/Work/ColumbiaProjects/Data_NewDanFitting/Data/data_scripts/pyute.py:1069: RuntimeWarning: Mean of empty slice\n",
      "  tuning[:,itype] = np.nanmean(data[cell_criteria][:,these_trials],1)\n"
     ]
    },
    {
     "name": "stdout",
     "output_type": "stream",
     "text": [
      "/Users/agos/Documents/Work/ColumbiaProjects/Data_NewDanFitting/Data/RawData/DataLatest/vip_l23_data_struct.hdf5\n",
      "<HDF5 group \"/session_180321_M7955\" (8 members)>\n",
      "<HDF5 group \"/session_180412_M7955\" (8 members)>\n",
      "decon\n",
      "0.989\n"
     ]
    },
    {
     "name": "stderr",
     "output_type": "stream",
     "text": [
      "/Users/agos/Documents/Work/ColumbiaProjects/Data_NewDanFitting/Data/data_scripts/sim_utils.py:62: RuntimeWarning: invalid value encountered in less\n",
      "  rf_conditions = [ut.k_and(~np.isnan(X[:,0]),~np.isnan(y[:,0])),sqerror<0.75,sigma>3.3,pval[ikey]<0.1]\n"
     ]
    },
    {
     "name": "stdout",
     "output_type": "stream",
     "text": [
      "<HDF5 group \"/session_180516_M8956\" (9 members)>\n",
      "decon\n",
      "0.725\n",
      "<HDF5 group \"/session_180519_M8959\" (8 members)>\n",
      "decon\n",
      "0.9425\n",
      "<HDF5 group \"/session_180528_M8959\" (9 members)>\n",
      "decon\n",
      "0.6616666666666666\n"
     ]
    },
    {
     "name": "stderr",
     "output_type": "stream",
     "text": [
      "/Users/agos/Documents/Work/ColumbiaProjects/Data_NewDanFitting/Data/data_scripts/pyute.py:1069: RuntimeWarning: Mean of empty slice\n",
      "  tuning[:,itype] = np.nanmean(data[cell_criteria][:,these_trials],1)\n"
     ]
    },
    {
     "name": "stdout",
     "output_type": "stream",
     "text": [
      "<HDF5 group \"/session_180531_M8961\" (9 members)>\n",
      "decon\n",
      "0.6375\n"
     ]
    },
    {
     "name": "stderr",
     "output_type": "stream",
     "text": [
      "/Users/agos/Documents/Work/ColumbiaProjects/Data_NewDanFitting/Data/data_scripts/pyute.py:1069: RuntimeWarning: Mean of empty slice\n",
      "  tuning[:,itype] = np.nanmean(data[cell_criteria][:,these_trials],1)\n"
     ]
    },
    {
     "name": "stdout",
     "output_type": "stream",
     "text": [
      "<HDF5 group \"/session_180618_M8956\" (9 members)>\n",
      "decon\n",
      "0.9958333333333333\n",
      "<HDF5 group \"/session_180719_M8961\" (8 members)>\n",
      "decon\n",
      "0.009166666666666667\n"
     ]
    },
    {
     "name": "stderr",
     "output_type": "stream",
     "text": [
      "/Users/agos/Documents/Work/ColumbiaProjects/Data_NewDanFitting/Data/data_scripts/pyute.py:1069: RuntimeWarning: Mean of empty slice\n",
      "  tuning[:,itype] = np.nanmean(data[cell_criteria][:,these_trials],1)\n"
     ]
    },
    {
     "name": "stdout",
     "output_type": "stream",
     "text": [
      "<HDF5 group \"/session_180720_M8961\" (8 members)>\n",
      "decon\n",
      "0.04583333333333333\n"
     ]
    },
    {
     "name": "stderr",
     "output_type": "stream",
     "text": [
      "/Users/agos/Documents/Work/ColumbiaProjects/Data_NewDanFitting/Data/data_scripts/pyute.py:1069: RuntimeWarning: Mean of empty slice\n",
      "  tuning[:,itype] = np.nanmean(data[cell_criteria][:,these_trials],1)\n"
     ]
    },
    {
     "name": "stdout",
     "output_type": "stream",
     "text": [
      "<HDF5 group \"/session_180903_M8961\" (9 members)>\n",
      "decon\n",
      "0.8341666666666666\n"
     ]
    },
    {
     "name": "stderr",
     "output_type": "stream",
     "text": [
      "/Users/agos/Documents/Work/ColumbiaProjects/Data_NewDanFitting/Data/data_scripts/sim_utils.py:62: RuntimeWarning: invalid value encountered in less\n",
      "  rf_conditions = [ut.k_and(~np.isnan(X[:,0]),~np.isnan(y[:,0])),sqerror<0.75,sigma>3.3,pval[ikey]<0.1]\n"
     ]
    },
    {
     "name": "stdout",
     "output_type": "stream",
     "text": [
      "<HDF5 group \"/session_190710_M0208\" (9 members)>\n",
      "decon\n",
      "0.27628968253968256\n"
     ]
    },
    {
     "name": "stderr",
     "output_type": "stream",
     "text": [
      "/Users/agos/Documents/Work/ColumbiaProjects/Data_NewDanFitting/Data/data_scripts/pyute.py:1069: RuntimeWarning: Mean of empty slice\n",
      "  tuning[:,itype] = np.nanmean(data[cell_criteria][:,these_trials],1)\n"
     ]
    },
    {
     "name": "stdout",
     "output_type": "stream",
     "text": [
      "<HDF5 group \"/session_191215_M0385\" (9 members)>\n",
      "decon\n",
      "0.18998015873015872\n"
     ]
    },
    {
     "name": "stderr",
     "output_type": "stream",
     "text": [
      "/Users/agos/Documents/Work/ColumbiaProjects/Data_NewDanFitting/Data/data_scripts/pyute.py:1069: RuntimeWarning: Mean of empty slice\n",
      "  tuning[:,itype] = np.nanmean(data[cell_criteria][:,these_trials],1)\n"
     ]
    },
    {
     "name": "stdout",
     "output_type": "stream",
     "text": [
      "<HDF5 group \"/session_200103_M0388\" (9 members)>\n",
      "decon\n",
      "0.08085317460317461\n"
     ]
    },
    {
     "name": "stderr",
     "output_type": "stream",
     "text": [
      "/Users/agos/Documents/Work/ColumbiaProjects/Data_NewDanFitting/Data/data_scripts/pyute.py:1069: RuntimeWarning: Mean of empty slice\n",
      "  tuning[:,itype] = np.nanmean(data[cell_criteria][:,these_trials],1)\n",
      "/Users/agos/Documents/Work/ColumbiaProjects/Data_NewDanFitting/Data/data_scripts/sim_utils.py:163: RuntimeWarning: invalid value encountered in less\n",
      "  return np.logical_and(criterion(displacement),pval < pcutoff)\n",
      "/Users/agos/Documents/Work/ColumbiaProjects/Data_NewDanFitting/Data/data_scripts/sim_utils.py:143: FutureWarning: Using a non-tuple sequence for multidimensional indexing is deprecated; use `arr[tuple(seq)]` instead of `arr[seq]`. In the future this will be interpreted as an array index, `arr[np.array(seq)]`, which will result either in an error or a different result.\n",
      "  return np.nanmean(np.nanmean(arr[slicer],-1),-1)\n",
      "/Users/agos/anaconda3/lib/python3.6/site-packages/autograd/tracer.py:48: RuntimeWarning: Mean of empty slice\n",
      "  return f_raw(*args, **kwargs)\n"
     ]
    },
    {
     "name": "stdout",
     "output_type": "stream",
     "text": [
      "/Users/agos/Documents/Work/ColumbiaProjects/Data_NewDanFitting/Data/RawData/DataLatest/pyr_l4_data_struct.hdf5\n",
      "<HDF5 group \"/session_181127_M10073\" (8 members)>\n",
      "decon\n",
      "0.1742857142857143\n"
     ]
    },
    {
     "name": "stderr",
     "output_type": "stream",
     "text": [
      "/Users/agos/Documents/Work/ColumbiaProjects/Data_NewDanFitting/Data/data_scripts/pyute.py:1069: RuntimeWarning: Mean of empty slice\n",
      "  tuning[:,itype] = np.nanmean(data[cell_criteria][:,these_trials],1)\n",
      "/Users/agos/Documents/Work/ColumbiaProjects/Data_NewDanFitting/Data/data_scripts/sim_utils.py:62: RuntimeWarning: invalid value encountered in less\n",
      "  rf_conditions = [ut.k_and(~np.isnan(X[:,0]),~np.isnan(y[:,0])),sqerror<0.75,sigma>3.3,pval[ikey]<0.1]\n"
     ]
    },
    {
     "name": "stdout",
     "output_type": "stream",
     "text": [
      "<HDF5 group \"/session_190202_M10075\" (9 members)>\n",
      "decon\n",
      "0.39652777777777776\n"
     ]
    },
    {
     "name": "stderr",
     "output_type": "stream",
     "text": [
      "/Users/agos/Documents/Work/ColumbiaProjects/Data_NewDanFitting/Data/data_scripts/pyute.py:1069: RuntimeWarning: Mean of empty slice\n",
      "  tuning[:,itype] = np.nanmean(data[cell_criteria][:,these_trials],1)\n",
      "/Users/agos/Documents/Work/ColumbiaProjects/Data_NewDanFitting/Data/data_scripts/sim_utils.py:62: RuntimeWarning: invalid value encountered in less\n",
      "  rf_conditions = [ut.k_and(~np.isnan(X[:,0]),~np.isnan(y[:,0])),sqerror<0.75,sigma>3.3,pval[ikey]<0.1]\n"
     ]
    },
    {
     "name": "stdout",
     "output_type": "stream",
     "text": [
      "<HDF5 group \"/session_190304_M10077\" (9 members)>\n",
      "decon\n",
      "0.44027777777777777\n"
     ]
    },
    {
     "name": "stderr",
     "output_type": "stream",
     "text": [
      "/Users/agos/Documents/Work/ColumbiaProjects/Data_NewDanFitting/Data/data_scripts/pyute.py:1069: RuntimeWarning: Mean of empty slice\n",
      "  tuning[:,itype] = np.nanmean(data[cell_criteria][:,these_trials],1)\n"
     ]
    },
    {
     "name": "stdout",
     "output_type": "stream",
     "text": [
      "<HDF5 group \"/session_190607_M10443\" (9 members)>\n",
      "decon\n",
      "0.8590277777777777\n"
     ]
    },
    {
     "name": "stderr",
     "output_type": "stream",
     "text": [
      "/Users/agos/Documents/Work/ColumbiaProjects/Data_NewDanFitting/Data/data_scripts/sim_utils.py:62: RuntimeWarning: invalid value encountered in less\n",
      "  rf_conditions = [ut.k_and(~np.isnan(X[:,0]),~np.isnan(y[:,0])),sqerror<0.75,sigma>3.3,pval[ikey]<0.1]\n"
     ]
    },
    {
     "name": "stdout",
     "output_type": "stream",
     "text": [
      "<HDF5 group \"/session_190620_M10616\" (9 members)>\n",
      "decon\n",
      "0.4568452380952381\n"
     ]
    },
    {
     "name": "stderr",
     "output_type": "stream",
     "text": [
      "/Users/agos/Documents/Work/ColumbiaProjects/Data_NewDanFitting/Data/data_scripts/pyute.py:1069: RuntimeWarning: Mean of empty slice\n",
      "  tuning[:,itype] = np.nanmean(data[cell_criteria][:,these_trials],1)\n"
     ]
    },
    {
     "name": "stdout",
     "output_type": "stream",
     "text": [
      "<HDF5 group \"/session_190620_M10619\" (9 members)>\n",
      "decon\n",
      "0.3993055555555556\n"
     ]
    },
    {
     "name": "stderr",
     "output_type": "stream",
     "text": [
      "/Users/agos/Documents/Work/ColumbiaProjects/Data_NewDanFitting/Data/data_scripts/pyute.py:1069: RuntimeWarning: Mean of empty slice\n",
      "  tuning[:,itype] = np.nanmean(data[cell_criteria][:,these_trials],1)\n",
      "/Users/agos/Documents/Work/ColumbiaProjects/Data_NewDanFitting/Data/data_scripts/sim_utils.py:62: RuntimeWarning: invalid value encountered in less\n",
      "  rf_conditions = [ut.k_and(~np.isnan(X[:,0]),~np.isnan(y[:,0])),sqerror<0.75,sigma>3.3,pval[ikey]<0.1]\n"
     ]
    },
    {
     "name": "stdout",
     "output_type": "stream",
     "text": [
      "<HDF5 group \"/session_190624_M10615\" (8 members)>\n",
      "decon\n",
      "0.9176587301587301\n"
     ]
    },
    {
     "name": "stderr",
     "output_type": "stream",
     "text": [
      "/Users/agos/Documents/Work/ColumbiaProjects/Data_NewDanFitting/Data/data_scripts/sim_utils.py:62: RuntimeWarning: invalid value encountered in less\n",
      "  rf_conditions = [ut.k_and(~np.isnan(X[:,0]),~np.isnan(y[:,0])),sqerror<0.75,sigma>3.3,pval[ikey]<0.1]\n"
     ]
    },
    {
     "name": "stdout",
     "output_type": "stream",
     "text": [
      "<HDF5 group \"/session_190627_M10616\" (9 members)>\n",
      "decon\n",
      "0.2123015873015873\n"
     ]
    },
    {
     "name": "stderr",
     "output_type": "stream",
     "text": [
      "/Users/agos/Documents/Work/ColumbiaProjects/Data_NewDanFitting/Data/data_scripts/pyute.py:1069: RuntimeWarning: Mean of empty slice\n",
      "  tuning[:,itype] = np.nanmean(data[cell_criteria][:,these_trials],1)\n"
     ]
    },
    {
     "name": "stdout",
     "output_type": "stream",
     "text": [
      "<HDF5 group \"/session_190701_M10615\" (8 members)>\n",
      "decon\n",
      "0.3308531746031746\n"
     ]
    },
    {
     "name": "stderr",
     "output_type": "stream",
     "text": [
      "/Users/agos/Documents/Work/ColumbiaProjects/Data_NewDanFitting/Data/data_scripts/pyute.py:1069: RuntimeWarning: Mean of empty slice\n",
      "  tuning[:,itype] = np.nanmean(data[cell_criteria][:,these_trials],1)\n",
      "/Users/agos/Documents/Work/ColumbiaProjects/Data_NewDanFitting/Data/data_scripts/sim_utils.py:62: RuntimeWarning: invalid value encountered in less\n",
      "  rf_conditions = [ut.k_and(~np.isnan(X[:,0]),~np.isnan(y[:,0])),sqerror<0.75,sigma>3.3,pval[ikey]<0.1]\n"
     ]
    },
    {
     "name": "stdout",
     "output_type": "stream",
     "text": [
      "<HDF5 group \"/session_191212_M0762\" (8 members)>\n",
      "decon\n",
      "0.17807539682539683\n"
     ]
    },
    {
     "name": "stderr",
     "output_type": "stream",
     "text": [
      "/Users/agos/Documents/Work/ColumbiaProjects/Data_NewDanFitting/Data/data_scripts/pyute.py:1069: RuntimeWarning: Mean of empty slice\n",
      "  tuning[:,itype] = np.nanmean(data[cell_criteria][:,these_trials],1)\n"
     ]
    },
    {
     "name": "stdout",
     "output_type": "stream",
     "text": [
      "/Users/agos/Documents/Work/ColumbiaProjects/Data_NewDanFitting/Data/RawData/DataLatest/pyr_l23_data_struct.hdf5\n",
      "<HDF5 group \"/session_181205_M10130\" (8 members)>\n",
      "decon\n",
      "0.26785714285714285\n"
     ]
    },
    {
     "name": "stderr",
     "output_type": "stream",
     "text": [
      "/Users/agos/Documents/Work/ColumbiaProjects/Data_NewDanFitting/Data/data_scripts/pyute.py:1069: RuntimeWarning: Mean of empty slice\n",
      "  tuning[:,itype] = np.nanmean(data[cell_criteria][:,these_trials],1)\n"
     ]
    },
    {
     "name": "stdout",
     "output_type": "stream",
     "text": [
      "<HDF5 group \"/session_181209_M8536\" (9 members)>\n",
      "decon\n",
      "0.1692857142857143\n"
     ]
    },
    {
     "name": "stderr",
     "output_type": "stream",
     "text": [
      "/Users/agos/Documents/Work/ColumbiaProjects/Data_NewDanFitting/Data/data_scripts/pyute.py:1069: RuntimeWarning: Mean of empty slice\n",
      "  tuning[:,itype] = np.nanmean(data[cell_criteria][:,these_trials],1)\n",
      "/Users/agos/Documents/Work/ColumbiaProjects/Data_NewDanFitting/Data/data_scripts/sim_utils.py:62: RuntimeWarning: invalid value encountered in less\n",
      "  rf_conditions = [ut.k_and(~np.isnan(X[:,0]),~np.isnan(y[:,0])),sqerror<0.75,sigma>3.3,pval[ikey]<0.1]\n"
     ]
    },
    {
     "name": "stdout",
     "output_type": "stream",
     "text": [
      "<HDF5 group \"/session_181213_M8536\" (8 members)>\n",
      "decon\n",
      "0.9614285714285714\n",
      "<HDF5 group \"/session_181214_M10130\" (8 members)>\n",
      "decon\n",
      "0.5857142857142857\n"
     ]
    },
    {
     "name": "stderr",
     "output_type": "stream",
     "text": [
      "/Users/agos/Documents/Work/ColumbiaProjects/Data_NewDanFitting/Data/data_scripts/sim_utils.py:62: RuntimeWarning: invalid value encountered in less\n",
      "  rf_conditions = [ut.k_and(~np.isnan(X[:,0]),~np.isnan(y[:,0])),sqerror<0.75,sigma>3.3,pval[ikey]<0.1]\n"
     ]
    },
    {
     "name": "stdout",
     "output_type": "stream",
     "text": [
      "<HDF5 group \"/session_190102_M10130\" (8 members)>\n",
      "decon\n",
      "0.5508333333333333\n",
      "<HDF5 group \"/session_190128_M8982\" (9 members)>\n",
      "decon\n",
      "0.05277777777777778\n"
     ]
    },
    {
     "name": "stderr",
     "output_type": "stream",
     "text": [
      "/Users/agos/Documents/Work/ColumbiaProjects/Data_NewDanFitting/Data/data_scripts/pyute.py:1069: RuntimeWarning: Mean of empty slice\n",
      "  tuning[:,itype] = np.nanmean(data[cell_criteria][:,these_trials],1)\n",
      "/Users/agos/Documents/Work/ColumbiaProjects/Data_NewDanFitting/Data/data_scripts/sim_utils.py:62: RuntimeWarning: invalid value encountered in less\n",
      "  rf_conditions = [ut.k_and(~np.isnan(X[:,0]),~np.isnan(y[:,0])),sqerror<0.75,sigma>3.3,pval[ikey]<0.1]\n"
     ]
    },
    {
     "name": "stdout",
     "output_type": "stream",
     "text": [
      "<HDF5 group \"/session_190130_M9667\" (9 members)>\n",
      "decon\n",
      "0.8097222222222222\n"
     ]
    },
    {
     "name": "stderr",
     "output_type": "stream",
     "text": [
      "/Users/agos/Documents/Work/ColumbiaProjects/Data_NewDanFitting/Data/data_scripts/sim_utils.py:62: RuntimeWarning: invalid value encountered in less\n",
      "  rf_conditions = [ut.k_and(~np.isnan(X[:,0]),~np.isnan(y[:,0])),sqerror<0.75,sigma>3.3,pval[ikey]<0.1]\n"
     ]
    },
    {
     "name": "stdout",
     "output_type": "stream",
     "text": [
      "<HDF5 group \"/session_190131_M9355\" (9 members)>\n",
      "decon\n",
      "0.06597222222222222\n"
     ]
    },
    {
     "name": "stderr",
     "output_type": "stream",
     "text": [
      "/Users/agos/Documents/Work/ColumbiaProjects/Data_NewDanFitting/Data/data_scripts/pyute.py:1069: RuntimeWarning: Mean of empty slice\n",
      "  tuning[:,itype] = np.nanmean(data[cell_criteria][:,these_trials],1)\n",
      "/Users/agos/Documents/Work/ColumbiaProjects/Data_NewDanFitting/Data/data_scripts/sim_utils.py:62: RuntimeWarning: invalid value encountered in less\n",
      "  rf_conditions = [ut.k_and(~np.isnan(X[:,0]),~np.isnan(y[:,0])),sqerror<0.75,sigma>3.3,pval[ikey]<0.1]\n"
     ]
    },
    {
     "name": "stdout",
     "output_type": "stream",
     "text": [
      "<HDF5 group \"/session_190208_M9355\" (9 members)>\n",
      "decon\n",
      "0.049305555555555554\n"
     ]
    },
    {
     "name": "stderr",
     "output_type": "stream",
     "text": [
      "/Users/agos/Documents/Work/ColumbiaProjects/Data_NewDanFitting/Data/data_scripts/pyute.py:1069: RuntimeWarning: Mean of empty slice\n",
      "  tuning[:,itype] = np.nanmean(data[cell_criteria][:,these_trials],1)\n",
      "/Users/agos/Documents/Work/ColumbiaProjects/Data_NewDanFitting/Data/data_scripts/sim_utils.py:62: RuntimeWarning: invalid value encountered in less\n",
      "  rf_conditions = [ut.k_and(~np.isnan(X[:,0]),~np.isnan(y[:,0])),sqerror<0.75,sigma>3.3,pval[ikey]<0.1]\n"
     ]
    },
    {
     "name": "stdout",
     "output_type": "stream",
     "text": [
      "<HDF5 group \"/session_190212_M8536\" (9 members)>\n",
      "decon\n",
      "0.7534722222222222\n"
     ]
    },
    {
     "name": "stderr",
     "output_type": "stream",
     "text": [
      "/Users/agos/Documents/Work/ColumbiaProjects/Data_NewDanFitting/Data/data_scripts/pyute.py:1069: RuntimeWarning: Mean of empty slice\n",
      "  tuning[:,itype] = np.nanmean(data[cell_criteria][:,these_trials],1)\n"
     ]
    },
    {
     "name": "stdout",
     "output_type": "stream",
     "text": [
      "<HDF5 group \"/session_191002_M0293\" (8 members)>\n",
      "decon\n",
      "0.15376984126984128\n"
     ]
    },
    {
     "name": "stderr",
     "output_type": "stream",
     "text": [
      "/Users/agos/Documents/Work/ColumbiaProjects/Data_NewDanFitting/Data/data_scripts/pyute.py:1069: RuntimeWarning: Mean of empty slice\n",
      "  tuning[:,itype] = np.nanmean(data[cell_criteria][:,these_trials],1)\n",
      "/Users/agos/Documents/Work/ColumbiaProjects/Data_NewDanFitting/Data/data_scripts/sim_utils.py:62: RuntimeWarning: invalid value encountered in less\n",
      "  rf_conditions = [ut.k_and(~np.isnan(X[:,0]),~np.isnan(y[:,0])),sqerror<0.75,sigma>3.3,pval[ikey]<0.1]\n"
     ]
    },
    {
     "name": "stdout",
     "output_type": "stream",
     "text": [
      "<HDF5 group \"/session_191108_M0403\" (8 members)>\n",
      "decon\n",
      "0.002976190476190476\n"
     ]
    },
    {
     "name": "stderr",
     "output_type": "stream",
     "text": [
      "/Users/agos/Documents/Work/ColumbiaProjects/Data_NewDanFitting/Data/data_scripts/pyute.py:1069: RuntimeWarning: Mean of empty slice\n",
      "  tuning[:,itype] = np.nanmean(data[cell_criteria][:,these_trials],1)\n",
      "/Users/agos/Documents/Work/ColumbiaProjects/Data_NewDanFitting/Data/data_scripts/sim_utils.py:62: RuntimeWarning: invalid value encountered in less\n",
      "  rf_conditions = [ut.k_and(~np.isnan(X[:,0]),~np.isnan(y[:,0])),sqerror<0.75,sigma>3.3,pval[ikey]<0.1]\n"
     ]
    },
    {
     "name": "stdout",
     "output_type": "stream",
     "text": [
      "/Users/agos/Documents/Work/ColumbiaProjects/Data_NewDanFitting/Data/RawData/DataLatest/pv_l23_data_struct.hdf5\n",
      "<HDF5 group \"/session_191105_M0589\" (12 members)>\n",
      "decon\n",
      "0.0\n"
     ]
    },
    {
     "name": "stderr",
     "output_type": "stream",
     "text": [
      "/Users/agos/Documents/Work/ColumbiaProjects/Data_NewDanFitting/Data/data_scripts/pyute.py:1069: RuntimeWarning: Mean of empty slice\n",
      "  tuning[:,itype] = np.nanmean(data[cell_criteria][:,these_trials],1)\n",
      "/Users/agos/Documents/Work/ColumbiaProjects/Data_NewDanFitting/Data/data_scripts/sim_utils.py:62: RuntimeWarning: invalid value encountered in less\n",
      "  rf_conditions = [ut.k_and(~np.isnan(X[:,0]),~np.isnan(y[:,0])),sqerror<0.75,sigma>3.3,pval[ikey]<0.1]\n",
      "/Users/agos/Documents/Work/ColumbiaProjects/Data_NewDanFitting/Data/data_scripts/pyute.py:1069: RuntimeWarning: Mean of empty slice\n",
      "  tuning[:,itype] = np.nanmean(data[cell_criteria][:,these_trials],1)\n"
     ]
    },
    {
     "name": "stdout",
     "output_type": "stream",
     "text": [
      "<HDF5 group \"/session_191220_M0589\" (12 members)>\n",
      "decon\n",
      "0.000496031746031746\n",
      "<HDF5 group \"/session_191229_M0892\" (12 members)>\n",
      "decon\n",
      "0.000496031746031746\n"
     ]
    },
    {
     "name": "stderr",
     "output_type": "stream",
     "text": [
      "/Users/agos/Documents/Work/ColumbiaProjects/Data_NewDanFitting/Data/data_scripts/pyute.py:1069: RuntimeWarning: Mean of empty slice\n",
      "  tuning[:,itype] = np.nanmean(data[cell_criteria][:,these_trials],1)\n"
     ]
    },
    {
     "name": "stdout",
     "output_type": "stream",
     "text": [
      "<HDF5 group \"/session_200102_M0892\" (12 members)>\n",
      "decon\n",
      "0.06498015873015874\n"
     ]
    },
    {
     "name": "stderr",
     "output_type": "stream",
     "text": [
      "/Users/agos/Documents/Work/ColumbiaProjects/Data_NewDanFitting/Data/data_scripts/pyute.py:1069: RuntimeWarning: Mean of empty slice\n",
      "  tuning[:,itype] = np.nanmean(data[cell_criteria][:,these_trials],1)\n"
     ]
    },
    {
     "name": "stdout",
     "output_type": "stream",
     "text": [
      "<HDF5 group \"/session_200108_M0891\" (12 members)>\n",
      "decon\n",
      "0.13938492063492064\n"
     ]
    },
    {
     "name": "stderr",
     "output_type": "stream",
     "text": [
      "/Users/agos/Documents/Work/ColumbiaProjects/Data_NewDanFitting/Data/data_scripts/pyute.py:1069: RuntimeWarning: Mean of empty slice\n",
      "  tuning[:,itype] = np.nanmean(data[cell_criteria][:,these_trials],1)\n"
     ]
    },
    {
     "name": "stdout",
     "output_type": "stream",
     "text": [
      "<HDF5 group \"/session_200620_M0891\" (13 members)>\n",
      "decon\n",
      "0.5545634920634921\n"
     ]
    },
    {
     "name": "stderr",
     "output_type": "stream",
     "text": [
      "/Users/agos/Documents/Work/ColumbiaProjects/Data_NewDanFitting/Data/data_scripts/pyute.py:1069: RuntimeWarning: Mean of empty slice\n",
      "  tuning[:,itype] = np.nanmean(data[cell_criteria][:,these_trials],1)\n"
     ]
    },
    {
     "name": "stdout",
     "output_type": "stream",
     "text": [
      "<HDF5 group \"/session_200621_M0893\" (13 members)>\n",
      "decon\n",
      "0.4722222222222222\n"
     ]
    },
    {
     "name": "stderr",
     "output_type": "stream",
     "text": [
      "/Users/agos/Documents/Work/ColumbiaProjects/Data_NewDanFitting/Data/data_scripts/pyute.py:1069: RuntimeWarning: Mean of empty slice\n",
      "  tuning[:,itype] = np.nanmean(data[cell_criteria][:,these_trials],1)\n"
     ]
    },
    {
     "name": "stdout",
     "output_type": "stream",
     "text": [
      "/Users/agos/Documents/Work/ColumbiaProjects/Data_NewDanFitting/Data/RawData/DataLatest/sst_l23_data_struct.hdf5\n",
      "<HDF5 group \"/session_180713_M9053\" (9 members)>\n",
      "decon\n",
      "0.8091666666666667\n",
      "<HDF5 group \"/session_180714_M9053\" (9 members)>\n",
      "decon\n",
      "0.8441666666666666\n"
     ]
    },
    {
     "name": "stderr",
     "output_type": "stream",
     "text": [
      "/Users/agos/Documents/Work/ColumbiaProjects/Data_NewDanFitting/Data/data_scripts/sim_utils.py:62: RuntimeWarning: invalid value encountered in less\n",
      "  rf_conditions = [ut.k_and(~np.isnan(X[:,0]),~np.isnan(y[:,0])),sqerror<0.75,sigma>3.3,pval[ikey]<0.1]\n"
     ]
    },
    {
     "name": "stdout",
     "output_type": "stream",
     "text": [
      "<HDF5 group \"/session_180802_M9053\" (8 members)>\n",
      "decon\n",
      "0.5083333333333333\n"
     ]
    },
    {
     "name": "stderr",
     "output_type": "stream",
     "text": [
      "/Users/agos/Documents/Work/ColumbiaProjects/Data_NewDanFitting/Data/data_scripts/pyute.py:1069: RuntimeWarning: Mean of empty slice\n",
      "  tuning[:,itype] = np.nanmean(data[cell_criteria][:,these_trials],1)\n"
     ]
    },
    {
     "name": "stdout",
     "output_type": "stream",
     "text": [
      "<HDF5 group \"/session_180821_M9417\" (9 members)>\n",
      "decon\n",
      "0.1475\n"
     ]
    },
    {
     "name": "stderr",
     "output_type": "stream",
     "text": [
      "/Users/agos/Documents/Work/ColumbiaProjects/Data_NewDanFitting/Data/data_scripts/pyute.py:1069: RuntimeWarning: Mean of empty slice\n",
      "  tuning[:,itype] = np.nanmean(data[cell_criteria][:,these_trials],1)\n"
     ]
    },
    {
     "name": "stdout",
     "output_type": "stream",
     "text": [
      "<HDF5 group \"/session_181117_M10039\" (9 members)>\n",
      "decon\n",
      "0.21071428571428572\n"
     ]
    },
    {
     "name": "stderr",
     "output_type": "stream",
     "text": [
      "/Users/agos/Documents/Work/ColumbiaProjects/Data_NewDanFitting/Data/data_scripts/pyute.py:1069: RuntimeWarning: Mean of empty slice\n",
      "  tuning[:,itype] = np.nanmean(data[cell_criteria][:,these_trials],1)\n"
     ]
    },
    {
     "name": "stdout",
     "output_type": "stream",
     "text": [
      "<HDF5 group \"/session_181120_M10039\" (8 members)>\n",
      "decon\n",
      "0.14285714285714285\n"
     ]
    },
    {
     "name": "stderr",
     "output_type": "stream",
     "text": [
      "/Users/agos/Documents/Work/ColumbiaProjects/Data_NewDanFitting/Data/data_scripts/pyute.py:1069: RuntimeWarning: Mean of empty slice\n",
      "  tuning[:,itype] = np.nanmean(data[cell_criteria][:,these_trials],1)\n",
      "/Users/agos/Documents/Work/ColumbiaProjects/Data_NewDanFitting/Data/data_scripts/sim_utils.py:62: RuntimeWarning: invalid value encountered in less\n",
      "  rf_conditions = [ut.k_and(~np.isnan(X[:,0]),~np.isnan(y[:,0])),sqerror<0.75,sigma>3.3,pval[ikey]<0.1]\n",
      "/Users/agos/Documents/Work/ColumbiaProjects/Data_NewDanFitting/Data/data_scripts/pyute.py:1069: RuntimeWarning: Mean of empty slice\n",
      "  tuning[:,itype] = np.nanmean(data[cell_criteria][:,these_trials],1)\n"
     ]
    },
    {
     "name": "stdout",
     "output_type": "stream",
     "text": [
      "<HDF5 group \"/session_181121_M10039\" (8 members)>\n",
      "decon\n",
      "0.06142857142857143\n",
      "<HDF5 group \"/session_191224_M0390\" (11 members)>\n",
      "decon\n",
      "0.05952380952380952\n"
     ]
    },
    {
     "name": "stderr",
     "output_type": "stream",
     "text": [
      "/Users/agos/Documents/Work/ColumbiaProjects/Data_NewDanFitting/Data/data_scripts/pyute.py:1069: RuntimeWarning: Mean of empty slice\n",
      "  tuning[:,itype] = np.nanmean(data[cell_criteria][:,these_trials],1)\n"
     ]
    },
    {
     "name": "stdout",
     "output_type": "stream",
     "text": [
      "/Users/agos/Documents/Work/ColumbiaProjects/Data_NewDanFitting/Data/RawData/DataLatest/vip_l23_data_struct.hdf5\n",
      "<HDF5 group \"/session_180321_M7955\" (8 members)>\n",
      "<HDF5 group \"/session_180412_M7955\" (8 members)>\n",
      "decon\n",
      "0.989\n"
     ]
    },
    {
     "name": "stderr",
     "output_type": "stream",
     "text": [
      "/Users/agos/Documents/Work/ColumbiaProjects/Data_NewDanFitting/Data/data_scripts/sim_utils.py:62: RuntimeWarning: invalid value encountered in less\n",
      "  rf_conditions = [ut.k_and(~np.isnan(X[:,0]),~np.isnan(y[:,0])),sqerror<0.75,sigma>3.3,pval[ikey]<0.1]\n"
     ]
    },
    {
     "name": "stdout",
     "output_type": "stream",
     "text": [
      "<HDF5 group \"/session_180516_M8956\" (9 members)>\n",
      "decon\n",
      "0.725\n",
      "<HDF5 group \"/session_180519_M8959\" (8 members)>\n",
      "decon\n",
      "0.9425\n",
      "<HDF5 group \"/session_180528_M8959\" (9 members)>\n",
      "decon\n",
      "0.6616666666666666\n"
     ]
    },
    {
     "name": "stderr",
     "output_type": "stream",
     "text": [
      "/Users/agos/Documents/Work/ColumbiaProjects/Data_NewDanFitting/Data/data_scripts/pyute.py:1069: RuntimeWarning: Mean of empty slice\n",
      "  tuning[:,itype] = np.nanmean(data[cell_criteria][:,these_trials],1)\n"
     ]
    },
    {
     "name": "stdout",
     "output_type": "stream",
     "text": [
      "<HDF5 group \"/session_180531_M8961\" (9 members)>\n",
      "decon\n",
      "0.6375\n"
     ]
    },
    {
     "name": "stderr",
     "output_type": "stream",
     "text": [
      "/Users/agos/Documents/Work/ColumbiaProjects/Data_NewDanFitting/Data/data_scripts/pyute.py:1069: RuntimeWarning: Mean of empty slice\n",
      "  tuning[:,itype] = np.nanmean(data[cell_criteria][:,these_trials],1)\n"
     ]
    },
    {
     "name": "stdout",
     "output_type": "stream",
     "text": [
      "<HDF5 group \"/session_180618_M8956\" (9 members)>\n",
      "decon\n",
      "0.9958333333333333\n",
      "<HDF5 group \"/session_180719_M8961\" (8 members)>\n",
      "decon\n",
      "0.009166666666666667\n"
     ]
    },
    {
     "name": "stderr",
     "output_type": "stream",
     "text": [
      "/Users/agos/Documents/Work/ColumbiaProjects/Data_NewDanFitting/Data/data_scripts/pyute.py:1069: RuntimeWarning: Mean of empty slice\n",
      "  tuning[:,itype] = np.nanmean(data[cell_criteria][:,these_trials],1)\n"
     ]
    },
    {
     "name": "stdout",
     "output_type": "stream",
     "text": [
      "<HDF5 group \"/session_180720_M8961\" (8 members)>\n",
      "decon\n",
      "0.04583333333333333\n"
     ]
    },
    {
     "name": "stderr",
     "output_type": "stream",
     "text": [
      "/Users/agos/Documents/Work/ColumbiaProjects/Data_NewDanFitting/Data/data_scripts/pyute.py:1069: RuntimeWarning: Mean of empty slice\n",
      "  tuning[:,itype] = np.nanmean(data[cell_criteria][:,these_trials],1)\n"
     ]
    },
    {
     "name": "stdout",
     "output_type": "stream",
     "text": [
      "<HDF5 group \"/session_180903_M8961\" (9 members)>\n",
      "decon\n",
      "0.8341666666666666\n"
     ]
    },
    {
     "name": "stderr",
     "output_type": "stream",
     "text": [
      "/Users/agos/Documents/Work/ColumbiaProjects/Data_NewDanFitting/Data/data_scripts/sim_utils.py:62: RuntimeWarning: invalid value encountered in less\n",
      "  rf_conditions = [ut.k_and(~np.isnan(X[:,0]),~np.isnan(y[:,0])),sqerror<0.75,sigma>3.3,pval[ikey]<0.1]\n"
     ]
    },
    {
     "name": "stdout",
     "output_type": "stream",
     "text": [
      "<HDF5 group \"/session_190710_M0208\" (9 members)>\n",
      "decon\n",
      "0.27628968253968256\n"
     ]
    },
    {
     "name": "stderr",
     "output_type": "stream",
     "text": [
      "/Users/agos/Documents/Work/ColumbiaProjects/Data_NewDanFitting/Data/data_scripts/pyute.py:1069: RuntimeWarning: Mean of empty slice\n",
      "  tuning[:,itype] = np.nanmean(data[cell_criteria][:,these_trials],1)\n"
     ]
    },
    {
     "name": "stdout",
     "output_type": "stream",
     "text": [
      "<HDF5 group \"/session_191215_M0385\" (9 members)>\n",
      "decon\n",
      "0.18998015873015872\n"
     ]
    },
    {
     "name": "stderr",
     "output_type": "stream",
     "text": [
      "/Users/agos/Documents/Work/ColumbiaProjects/Data_NewDanFitting/Data/data_scripts/pyute.py:1069: RuntimeWarning: Mean of empty slice\n",
      "  tuning[:,itype] = np.nanmean(data[cell_criteria][:,these_trials],1)\n"
     ]
    },
    {
     "name": "stdout",
     "output_type": "stream",
     "text": [
      "<HDF5 group \"/session_200103_M0388\" (9 members)>\n",
      "decon\n",
      "0.08085317460317461\n"
     ]
    },
    {
     "name": "stderr",
     "output_type": "stream",
     "text": [
      "/Users/agos/Documents/Work/ColumbiaProjects/Data_NewDanFitting/Data/data_scripts/pyute.py:1069: RuntimeWarning: Mean of empty slice\n",
      "  tuning[:,itype] = np.nanmean(data[cell_criteria][:,these_trials],1)\n",
      "/Users/agos/Documents/Work/ColumbiaProjects/Data_NewDanFitting/Data/data_scripts/sim_utils.py:163: RuntimeWarning: invalid value encountered in less\n",
      "  return np.logical_and(criterion(displacement),pval < pcutoff)\n",
      "/Users/agos/Documents/Work/ColumbiaProjects/Data_NewDanFitting/Data/data_scripts/sim_utils.py:143: FutureWarning: Using a non-tuple sequence for multidimensional indexing is deprecated; use `arr[tuple(seq)]` instead of `arr[seq]`. In the future this will be interpreted as an array index, `arr[np.array(seq)]`, which will result either in an error or a different result.\n",
      "  return np.nanmean(np.nanmean(arr[slicer],-1),-1)\n",
      "/Users/agos/anaconda3/lib/python3.6/site-packages/autograd/tracer.py:48: RuntimeWarning: Mean of empty slice\n",
      "  return f_raw(*args, **kwargs)\n"
     ]
    },
    {
     "name": "stdout",
     "output_type": "stream",
     "text": [
      "/Users/agos/Documents/Work/ColumbiaProjects/Data_NewDanFitting/Data/RawData/DataLatest/pyr_l4_data_struct.hdf5\n",
      "<HDF5 group \"/session_181127_M10073\" (8 members)>\n",
      "decon\n",
      "0.1742857142857143\n"
     ]
    },
    {
     "name": "stderr",
     "output_type": "stream",
     "text": [
      "/Users/agos/Documents/Work/ColumbiaProjects/Data_NewDanFitting/Data/data_scripts/pyute.py:1069: RuntimeWarning: Mean of empty slice\n",
      "  tuning[:,itype] = np.nanmean(data[cell_criteria][:,these_trials],1)\n",
      "/Users/agos/Documents/Work/ColumbiaProjects/Data_NewDanFitting/Data/data_scripts/sim_utils.py:62: RuntimeWarning: invalid value encountered in less\n",
      "  rf_conditions = [ut.k_and(~np.isnan(X[:,0]),~np.isnan(y[:,0])),sqerror<0.75,sigma>3.3,pval[ikey]<0.1]\n"
     ]
    },
    {
     "name": "stdout",
     "output_type": "stream",
     "text": [
      "<HDF5 group \"/session_190202_M10075\" (9 members)>\n",
      "decon\n",
      "0.39652777777777776\n"
     ]
    },
    {
     "name": "stderr",
     "output_type": "stream",
     "text": [
      "/Users/agos/Documents/Work/ColumbiaProjects/Data_NewDanFitting/Data/data_scripts/pyute.py:1069: RuntimeWarning: Mean of empty slice\n",
      "  tuning[:,itype] = np.nanmean(data[cell_criteria][:,these_trials],1)\n",
      "/Users/agos/Documents/Work/ColumbiaProjects/Data_NewDanFitting/Data/data_scripts/sim_utils.py:62: RuntimeWarning: invalid value encountered in less\n",
      "  rf_conditions = [ut.k_and(~np.isnan(X[:,0]),~np.isnan(y[:,0])),sqerror<0.75,sigma>3.3,pval[ikey]<0.1]\n"
     ]
    },
    {
     "name": "stdout",
     "output_type": "stream",
     "text": [
      "<HDF5 group \"/session_190304_M10077\" (9 members)>\n",
      "decon\n",
      "0.44027777777777777\n"
     ]
    },
    {
     "name": "stderr",
     "output_type": "stream",
     "text": [
      "/Users/agos/Documents/Work/ColumbiaProjects/Data_NewDanFitting/Data/data_scripts/pyute.py:1069: RuntimeWarning: Mean of empty slice\n",
      "  tuning[:,itype] = np.nanmean(data[cell_criteria][:,these_trials],1)\n"
     ]
    },
    {
     "name": "stdout",
     "output_type": "stream",
     "text": [
      "<HDF5 group \"/session_190607_M10443\" (9 members)>\n",
      "decon\n",
      "0.8590277777777777\n"
     ]
    },
    {
     "name": "stderr",
     "output_type": "stream",
     "text": [
      "/Users/agos/Documents/Work/ColumbiaProjects/Data_NewDanFitting/Data/data_scripts/sim_utils.py:62: RuntimeWarning: invalid value encountered in less\n",
      "  rf_conditions = [ut.k_and(~np.isnan(X[:,0]),~np.isnan(y[:,0])),sqerror<0.75,sigma>3.3,pval[ikey]<0.1]\n"
     ]
    },
    {
     "name": "stdout",
     "output_type": "stream",
     "text": [
      "<HDF5 group \"/session_190620_M10616\" (9 members)>\n",
      "decon\n",
      "0.4568452380952381\n"
     ]
    },
    {
     "name": "stderr",
     "output_type": "stream",
     "text": [
      "/Users/agos/Documents/Work/ColumbiaProjects/Data_NewDanFitting/Data/data_scripts/pyute.py:1069: RuntimeWarning: Mean of empty slice\n",
      "  tuning[:,itype] = np.nanmean(data[cell_criteria][:,these_trials],1)\n"
     ]
    },
    {
     "name": "stdout",
     "output_type": "stream",
     "text": [
      "<HDF5 group \"/session_190620_M10619\" (9 members)>\n",
      "decon\n",
      "0.3993055555555556\n"
     ]
    },
    {
     "name": "stderr",
     "output_type": "stream",
     "text": [
      "/Users/agos/Documents/Work/ColumbiaProjects/Data_NewDanFitting/Data/data_scripts/pyute.py:1069: RuntimeWarning: Mean of empty slice\n",
      "  tuning[:,itype] = np.nanmean(data[cell_criteria][:,these_trials],1)\n",
      "/Users/agos/Documents/Work/ColumbiaProjects/Data_NewDanFitting/Data/data_scripts/sim_utils.py:62: RuntimeWarning: invalid value encountered in less\n",
      "  rf_conditions = [ut.k_and(~np.isnan(X[:,0]),~np.isnan(y[:,0])),sqerror<0.75,sigma>3.3,pval[ikey]<0.1]\n"
     ]
    },
    {
     "name": "stdout",
     "output_type": "stream",
     "text": [
      "<HDF5 group \"/session_190624_M10615\" (8 members)>\n",
      "decon\n",
      "0.9176587301587301\n"
     ]
    },
    {
     "name": "stderr",
     "output_type": "stream",
     "text": [
      "/Users/agos/Documents/Work/ColumbiaProjects/Data_NewDanFitting/Data/data_scripts/sim_utils.py:62: RuntimeWarning: invalid value encountered in less\n",
      "  rf_conditions = [ut.k_and(~np.isnan(X[:,0]),~np.isnan(y[:,0])),sqerror<0.75,sigma>3.3,pval[ikey]<0.1]\n"
     ]
    },
    {
     "name": "stdout",
     "output_type": "stream",
     "text": [
      "<HDF5 group \"/session_190627_M10616\" (9 members)>\n",
      "decon\n",
      "0.2123015873015873\n"
     ]
    },
    {
     "name": "stderr",
     "output_type": "stream",
     "text": [
      "/Users/agos/Documents/Work/ColumbiaProjects/Data_NewDanFitting/Data/data_scripts/pyute.py:1069: RuntimeWarning: Mean of empty slice\n",
      "  tuning[:,itype] = np.nanmean(data[cell_criteria][:,these_trials],1)\n"
     ]
    },
    {
     "name": "stdout",
     "output_type": "stream",
     "text": [
      "<HDF5 group \"/session_190701_M10615\" (8 members)>\n",
      "decon\n",
      "0.3308531746031746\n"
     ]
    },
    {
     "name": "stderr",
     "output_type": "stream",
     "text": [
      "/Users/agos/Documents/Work/ColumbiaProjects/Data_NewDanFitting/Data/data_scripts/pyute.py:1069: RuntimeWarning: Mean of empty slice\n",
      "  tuning[:,itype] = np.nanmean(data[cell_criteria][:,these_trials],1)\n",
      "/Users/agos/Documents/Work/ColumbiaProjects/Data_NewDanFitting/Data/data_scripts/sim_utils.py:62: RuntimeWarning: invalid value encountered in less\n",
      "  rf_conditions = [ut.k_and(~np.isnan(X[:,0]),~np.isnan(y[:,0])),sqerror<0.75,sigma>3.3,pval[ikey]<0.1]\n"
     ]
    },
    {
     "name": "stdout",
     "output_type": "stream",
     "text": [
      "<HDF5 group \"/session_191212_M0762\" (8 members)>\n",
      "decon\n",
      "0.17807539682539683\n"
     ]
    },
    {
     "name": "stderr",
     "output_type": "stream",
     "text": [
      "/Users/agos/Documents/Work/ColumbiaProjects/Data_NewDanFitting/Data/data_scripts/pyute.py:1069: RuntimeWarning: Mean of empty slice\n",
      "  tuning[:,itype] = np.nanmean(data[cell_criteria][:,these_trials],1)\n"
     ]
    },
    {
     "name": "stdout",
     "output_type": "stream",
     "text": [
      "/Users/agos/Documents/Work/ColumbiaProjects/Data_NewDanFitting/Data/RawData/DataLatest/pyr_l23_data_struct.hdf5\n",
      "<HDF5 group \"/session_181205_M10130\" (8 members)>\n",
      "decon\n",
      "0.26785714285714285\n"
     ]
    },
    {
     "name": "stderr",
     "output_type": "stream",
     "text": [
      "/Users/agos/Documents/Work/ColumbiaProjects/Data_NewDanFitting/Data/data_scripts/pyute.py:1069: RuntimeWarning: Mean of empty slice\n",
      "  tuning[:,itype] = np.nanmean(data[cell_criteria][:,these_trials],1)\n"
     ]
    },
    {
     "name": "stdout",
     "output_type": "stream",
     "text": [
      "<HDF5 group \"/session_181209_M8536\" (9 members)>\n",
      "decon\n",
      "0.1692857142857143\n"
     ]
    },
    {
     "name": "stderr",
     "output_type": "stream",
     "text": [
      "/Users/agos/Documents/Work/ColumbiaProjects/Data_NewDanFitting/Data/data_scripts/pyute.py:1069: RuntimeWarning: Mean of empty slice\n",
      "  tuning[:,itype] = np.nanmean(data[cell_criteria][:,these_trials],1)\n",
      "/Users/agos/Documents/Work/ColumbiaProjects/Data_NewDanFitting/Data/data_scripts/sim_utils.py:62: RuntimeWarning: invalid value encountered in less\n",
      "  rf_conditions = [ut.k_and(~np.isnan(X[:,0]),~np.isnan(y[:,0])),sqerror<0.75,sigma>3.3,pval[ikey]<0.1]\n"
     ]
    },
    {
     "name": "stdout",
     "output_type": "stream",
     "text": [
      "<HDF5 group \"/session_181213_M8536\" (8 members)>\n",
      "decon\n",
      "0.9614285714285714\n",
      "<HDF5 group \"/session_181214_M10130\" (8 members)>\n",
      "decon\n",
      "0.5857142857142857\n"
     ]
    },
    {
     "name": "stderr",
     "output_type": "stream",
     "text": [
      "/Users/agos/Documents/Work/ColumbiaProjects/Data_NewDanFitting/Data/data_scripts/sim_utils.py:62: RuntimeWarning: invalid value encountered in less\n",
      "  rf_conditions = [ut.k_and(~np.isnan(X[:,0]),~np.isnan(y[:,0])),sqerror<0.75,sigma>3.3,pval[ikey]<0.1]\n"
     ]
    },
    {
     "name": "stdout",
     "output_type": "stream",
     "text": [
      "<HDF5 group \"/session_190102_M10130\" (8 members)>\n",
      "decon\n",
      "0.5508333333333333\n",
      "<HDF5 group \"/session_190128_M8982\" (9 members)>\n",
      "decon\n",
      "0.05277777777777778\n"
     ]
    },
    {
     "name": "stderr",
     "output_type": "stream",
     "text": [
      "/Users/agos/Documents/Work/ColumbiaProjects/Data_NewDanFitting/Data/data_scripts/pyute.py:1069: RuntimeWarning: Mean of empty slice\n",
      "  tuning[:,itype] = np.nanmean(data[cell_criteria][:,these_trials],1)\n",
      "/Users/agos/Documents/Work/ColumbiaProjects/Data_NewDanFitting/Data/data_scripts/sim_utils.py:62: RuntimeWarning: invalid value encountered in less\n",
      "  rf_conditions = [ut.k_and(~np.isnan(X[:,0]),~np.isnan(y[:,0])),sqerror<0.75,sigma>3.3,pval[ikey]<0.1]\n"
     ]
    },
    {
     "name": "stdout",
     "output_type": "stream",
     "text": [
      "<HDF5 group \"/session_190130_M9667\" (9 members)>\n",
      "decon\n",
      "0.8097222222222222\n"
     ]
    },
    {
     "name": "stderr",
     "output_type": "stream",
     "text": [
      "/Users/agos/Documents/Work/ColumbiaProjects/Data_NewDanFitting/Data/data_scripts/sim_utils.py:62: RuntimeWarning: invalid value encountered in less\n",
      "  rf_conditions = [ut.k_and(~np.isnan(X[:,0]),~np.isnan(y[:,0])),sqerror<0.75,sigma>3.3,pval[ikey]<0.1]\n"
     ]
    },
    {
     "name": "stdout",
     "output_type": "stream",
     "text": [
      "<HDF5 group \"/session_190131_M9355\" (9 members)>\n",
      "decon\n",
      "0.06597222222222222\n"
     ]
    },
    {
     "name": "stderr",
     "output_type": "stream",
     "text": [
      "/Users/agos/Documents/Work/ColumbiaProjects/Data_NewDanFitting/Data/data_scripts/pyute.py:1069: RuntimeWarning: Mean of empty slice\n",
      "  tuning[:,itype] = np.nanmean(data[cell_criteria][:,these_trials],1)\n",
      "/Users/agos/Documents/Work/ColumbiaProjects/Data_NewDanFitting/Data/data_scripts/sim_utils.py:62: RuntimeWarning: invalid value encountered in less\n",
      "  rf_conditions = [ut.k_and(~np.isnan(X[:,0]),~np.isnan(y[:,0])),sqerror<0.75,sigma>3.3,pval[ikey]<0.1]\n"
     ]
    },
    {
     "name": "stdout",
     "output_type": "stream",
     "text": [
      "<HDF5 group \"/session_190208_M9355\" (9 members)>\n",
      "decon\n",
      "0.049305555555555554\n"
     ]
    },
    {
     "name": "stderr",
     "output_type": "stream",
     "text": [
      "/Users/agos/Documents/Work/ColumbiaProjects/Data_NewDanFitting/Data/data_scripts/pyute.py:1069: RuntimeWarning: Mean of empty slice\n",
      "  tuning[:,itype] = np.nanmean(data[cell_criteria][:,these_trials],1)\n",
      "/Users/agos/Documents/Work/ColumbiaProjects/Data_NewDanFitting/Data/data_scripts/sim_utils.py:62: RuntimeWarning: invalid value encountered in less\n",
      "  rf_conditions = [ut.k_and(~np.isnan(X[:,0]),~np.isnan(y[:,0])),sqerror<0.75,sigma>3.3,pval[ikey]<0.1]\n"
     ]
    },
    {
     "name": "stdout",
     "output_type": "stream",
     "text": [
      "<HDF5 group \"/session_190212_M8536\" (9 members)>\n",
      "decon\n",
      "0.7534722222222222\n"
     ]
    },
    {
     "name": "stderr",
     "output_type": "stream",
     "text": [
      "/Users/agos/Documents/Work/ColumbiaProjects/Data_NewDanFitting/Data/data_scripts/pyute.py:1069: RuntimeWarning: Mean of empty slice\n",
      "  tuning[:,itype] = np.nanmean(data[cell_criteria][:,these_trials],1)\n"
     ]
    },
    {
     "name": "stdout",
     "output_type": "stream",
     "text": [
      "<HDF5 group \"/session_191002_M0293\" (8 members)>\n",
      "decon\n",
      "0.15376984126984128\n"
     ]
    },
    {
     "name": "stderr",
     "output_type": "stream",
     "text": [
      "/Users/agos/Documents/Work/ColumbiaProjects/Data_NewDanFitting/Data/data_scripts/pyute.py:1069: RuntimeWarning: Mean of empty slice\n",
      "  tuning[:,itype] = np.nanmean(data[cell_criteria][:,these_trials],1)\n",
      "/Users/agos/Documents/Work/ColumbiaProjects/Data_NewDanFitting/Data/data_scripts/sim_utils.py:62: RuntimeWarning: invalid value encountered in less\n",
      "  rf_conditions = [ut.k_and(~np.isnan(X[:,0]),~np.isnan(y[:,0])),sqerror<0.75,sigma>3.3,pval[ikey]<0.1]\n"
     ]
    },
    {
     "name": "stdout",
     "output_type": "stream",
     "text": [
      "<HDF5 group \"/session_191108_M0403\" (8 members)>\n",
      "decon\n",
      "0.002976190476190476\n"
     ]
    },
    {
     "name": "stderr",
     "output_type": "stream",
     "text": [
      "/Users/agos/Documents/Work/ColumbiaProjects/Data_NewDanFitting/Data/data_scripts/pyute.py:1069: RuntimeWarning: Mean of empty slice\n",
      "  tuning[:,itype] = np.nanmean(data[cell_criteria][:,these_trials],1)\n",
      "/Users/agos/Documents/Work/ColumbiaProjects/Data_NewDanFitting/Data/data_scripts/sim_utils.py:62: RuntimeWarning: invalid value encountered in less\n",
      "  rf_conditions = [ut.k_and(~np.isnan(X[:,0]),~np.isnan(y[:,0])),sqerror<0.75,sigma>3.3,pval[ikey]<0.1]\n"
     ]
    },
    {
     "name": "stdout",
     "output_type": "stream",
     "text": [
      "/Users/agos/Documents/Work/ColumbiaProjects/Data_NewDanFitting/Data/RawData/DataLatest/pv_l23_data_struct.hdf5\n",
      "<HDF5 group \"/session_191105_M0589\" (12 members)>\n",
      "decon\n",
      "0.0\n"
     ]
    },
    {
     "name": "stderr",
     "output_type": "stream",
     "text": [
      "/Users/agos/Documents/Work/ColumbiaProjects/Data_NewDanFitting/Data/data_scripts/pyute.py:1069: RuntimeWarning: Mean of empty slice\n",
      "  tuning[:,itype] = np.nanmean(data[cell_criteria][:,these_trials],1)\n",
      "/Users/agos/Documents/Work/ColumbiaProjects/Data_NewDanFitting/Data/data_scripts/sim_utils.py:62: RuntimeWarning: invalid value encountered in less\n",
      "  rf_conditions = [ut.k_and(~np.isnan(X[:,0]),~np.isnan(y[:,0])),sqerror<0.75,sigma>3.3,pval[ikey]<0.1]\n",
      "/Users/agos/Documents/Work/ColumbiaProjects/Data_NewDanFitting/Data/data_scripts/pyute.py:1069: RuntimeWarning: Mean of empty slice\n",
      "  tuning[:,itype] = np.nanmean(data[cell_criteria][:,these_trials],1)\n"
     ]
    },
    {
     "name": "stdout",
     "output_type": "stream",
     "text": [
      "<HDF5 group \"/session_191220_M0589\" (12 members)>\n",
      "decon\n",
      "0.000496031746031746\n",
      "<HDF5 group \"/session_191229_M0892\" (12 members)>\n",
      "decon\n",
      "0.000496031746031746\n"
     ]
    },
    {
     "name": "stderr",
     "output_type": "stream",
     "text": [
      "/Users/agos/Documents/Work/ColumbiaProjects/Data_NewDanFitting/Data/data_scripts/pyute.py:1069: RuntimeWarning: Mean of empty slice\n",
      "  tuning[:,itype] = np.nanmean(data[cell_criteria][:,these_trials],1)\n"
     ]
    },
    {
     "name": "stdout",
     "output_type": "stream",
     "text": [
      "<HDF5 group \"/session_200102_M0892\" (12 members)>\n",
      "decon\n",
      "0.06498015873015874\n"
     ]
    },
    {
     "name": "stderr",
     "output_type": "stream",
     "text": [
      "/Users/agos/Documents/Work/ColumbiaProjects/Data_NewDanFitting/Data/data_scripts/pyute.py:1069: RuntimeWarning: Mean of empty slice\n",
      "  tuning[:,itype] = np.nanmean(data[cell_criteria][:,these_trials],1)\n"
     ]
    },
    {
     "name": "stdout",
     "output_type": "stream",
     "text": [
      "<HDF5 group \"/session_200108_M0891\" (12 members)>\n",
      "decon\n",
      "0.13938492063492064\n"
     ]
    },
    {
     "name": "stderr",
     "output_type": "stream",
     "text": [
      "/Users/agos/Documents/Work/ColumbiaProjects/Data_NewDanFitting/Data/data_scripts/pyute.py:1069: RuntimeWarning: Mean of empty slice\n",
      "  tuning[:,itype] = np.nanmean(data[cell_criteria][:,these_trials],1)\n"
     ]
    },
    {
     "name": "stdout",
     "output_type": "stream",
     "text": [
      "<HDF5 group \"/session_200620_M0891\" (13 members)>\n",
      "decon\n",
      "0.5545634920634921\n"
     ]
    },
    {
     "name": "stderr",
     "output_type": "stream",
     "text": [
      "/Users/agos/Documents/Work/ColumbiaProjects/Data_NewDanFitting/Data/data_scripts/pyute.py:1069: RuntimeWarning: Mean of empty slice\n",
      "  tuning[:,itype] = np.nanmean(data[cell_criteria][:,these_trials],1)\n"
     ]
    },
    {
     "name": "stdout",
     "output_type": "stream",
     "text": [
      "<HDF5 group \"/session_200621_M0893\" (13 members)>\n",
      "decon\n",
      "0.4722222222222222\n"
     ]
    },
    {
     "name": "stderr",
     "output_type": "stream",
     "text": [
      "/Users/agos/Documents/Work/ColumbiaProjects/Data_NewDanFitting/Data/data_scripts/pyute.py:1069: RuntimeWarning: Mean of empty slice\n",
      "  tuning[:,itype] = np.nanmean(data[cell_criteria][:,these_trials],1)\n"
     ]
    },
    {
     "name": "stdout",
     "output_type": "stream",
     "text": [
      "/Users/agos/Documents/Work/ColumbiaProjects/Data_NewDanFitting/Data/RawData/DataLatest/sst_l23_data_struct.hdf5\n",
      "<HDF5 group \"/session_180713_M9053\" (9 members)>\n",
      "decon\n",
      "0.8091666666666667\n",
      "<HDF5 group \"/session_180714_M9053\" (9 members)>\n",
      "decon\n",
      "0.8441666666666666\n"
     ]
    },
    {
     "name": "stderr",
     "output_type": "stream",
     "text": [
      "/Users/agos/Documents/Work/ColumbiaProjects/Data_NewDanFitting/Data/data_scripts/sim_utils.py:62: RuntimeWarning: invalid value encountered in less\n",
      "  rf_conditions = [ut.k_and(~np.isnan(X[:,0]),~np.isnan(y[:,0])),sqerror<0.75,sigma>3.3,pval[ikey]<0.1]\n"
     ]
    },
    {
     "name": "stdout",
     "output_type": "stream",
     "text": [
      "<HDF5 group \"/session_180802_M9053\" (8 members)>\n",
      "decon\n",
      "0.5083333333333333\n"
     ]
    },
    {
     "name": "stderr",
     "output_type": "stream",
     "text": [
      "/Users/agos/Documents/Work/ColumbiaProjects/Data_NewDanFitting/Data/data_scripts/pyute.py:1069: RuntimeWarning: Mean of empty slice\n",
      "  tuning[:,itype] = np.nanmean(data[cell_criteria][:,these_trials],1)\n"
     ]
    },
    {
     "name": "stdout",
     "output_type": "stream",
     "text": [
      "<HDF5 group \"/session_180821_M9417\" (9 members)>\n",
      "decon\n",
      "0.1475\n"
     ]
    },
    {
     "name": "stderr",
     "output_type": "stream",
     "text": [
      "/Users/agos/Documents/Work/ColumbiaProjects/Data_NewDanFitting/Data/data_scripts/pyute.py:1069: RuntimeWarning: Mean of empty slice\n",
      "  tuning[:,itype] = np.nanmean(data[cell_criteria][:,these_trials],1)\n"
     ]
    },
    {
     "name": "stdout",
     "output_type": "stream",
     "text": [
      "<HDF5 group \"/session_181117_M10039\" (9 members)>\n",
      "decon\n",
      "0.21071428571428572\n"
     ]
    },
    {
     "name": "stderr",
     "output_type": "stream",
     "text": [
      "/Users/agos/Documents/Work/ColumbiaProjects/Data_NewDanFitting/Data/data_scripts/pyute.py:1069: RuntimeWarning: Mean of empty slice\n",
      "  tuning[:,itype] = np.nanmean(data[cell_criteria][:,these_trials],1)\n"
     ]
    },
    {
     "name": "stdout",
     "output_type": "stream",
     "text": [
      "<HDF5 group \"/session_181120_M10039\" (8 members)>\n",
      "decon\n",
      "0.14285714285714285\n"
     ]
    },
    {
     "name": "stderr",
     "output_type": "stream",
     "text": [
      "/Users/agos/Documents/Work/ColumbiaProjects/Data_NewDanFitting/Data/data_scripts/pyute.py:1069: RuntimeWarning: Mean of empty slice\n",
      "  tuning[:,itype] = np.nanmean(data[cell_criteria][:,these_trials],1)\n",
      "/Users/agos/Documents/Work/ColumbiaProjects/Data_NewDanFitting/Data/data_scripts/sim_utils.py:62: RuntimeWarning: invalid value encountered in less\n",
      "  rf_conditions = [ut.k_and(~np.isnan(X[:,0]),~np.isnan(y[:,0])),sqerror<0.75,sigma>3.3,pval[ikey]<0.1]\n",
      "/Users/agos/Documents/Work/ColumbiaProjects/Data_NewDanFitting/Data/data_scripts/pyute.py:1069: RuntimeWarning: Mean of empty slice\n",
      "  tuning[:,itype] = np.nanmean(data[cell_criteria][:,these_trials],1)\n"
     ]
    },
    {
     "name": "stdout",
     "output_type": "stream",
     "text": [
      "<HDF5 group \"/session_181121_M10039\" (8 members)>\n",
      "decon\n",
      "0.06142857142857143\n",
      "<HDF5 group \"/session_191224_M0390\" (11 members)>\n",
      "decon\n",
      "0.05952380952380952\n"
     ]
    },
    {
     "name": "stderr",
     "output_type": "stream",
     "text": [
      "/Users/agos/Documents/Work/ColumbiaProjects/Data_NewDanFitting/Data/data_scripts/pyute.py:1069: RuntimeWarning: Mean of empty slice\n",
      "  tuning[:,itype] = np.nanmean(data[cell_criteria][:,these_trials],1)\n"
     ]
    },
    {
     "name": "stdout",
     "output_type": "stream",
     "text": [
      "/Users/agos/Documents/Work/ColumbiaProjects/Data_NewDanFitting/Data/RawData/DataLatest/vip_l23_data_struct.hdf5\n",
      "<HDF5 group \"/session_180321_M7955\" (8 members)>\n",
      "<HDF5 group \"/session_180412_M7955\" (8 members)>\n",
      "decon\n",
      "0.989\n"
     ]
    },
    {
     "name": "stderr",
     "output_type": "stream",
     "text": [
      "/Users/agos/Documents/Work/ColumbiaProjects/Data_NewDanFitting/Data/data_scripts/sim_utils.py:62: RuntimeWarning: invalid value encountered in less\n",
      "  rf_conditions = [ut.k_and(~np.isnan(X[:,0]),~np.isnan(y[:,0])),sqerror<0.75,sigma>3.3,pval[ikey]<0.1]\n"
     ]
    },
    {
     "name": "stdout",
     "output_type": "stream",
     "text": [
      "<HDF5 group \"/session_180516_M8956\" (9 members)>\n",
      "decon\n",
      "0.725\n",
      "<HDF5 group \"/session_180519_M8959\" (8 members)>\n",
      "decon\n",
      "0.9425\n",
      "<HDF5 group \"/session_180528_M8959\" (9 members)>\n",
      "decon\n",
      "0.6616666666666666\n"
     ]
    },
    {
     "name": "stderr",
     "output_type": "stream",
     "text": [
      "/Users/agos/Documents/Work/ColumbiaProjects/Data_NewDanFitting/Data/data_scripts/pyute.py:1069: RuntimeWarning: Mean of empty slice\n",
      "  tuning[:,itype] = np.nanmean(data[cell_criteria][:,these_trials],1)\n"
     ]
    },
    {
     "name": "stdout",
     "output_type": "stream",
     "text": [
      "<HDF5 group \"/session_180531_M8961\" (9 members)>\n",
      "decon\n",
      "0.6375\n"
     ]
    },
    {
     "name": "stderr",
     "output_type": "stream",
     "text": [
      "/Users/agos/Documents/Work/ColumbiaProjects/Data_NewDanFitting/Data/data_scripts/pyute.py:1069: RuntimeWarning: Mean of empty slice\n",
      "  tuning[:,itype] = np.nanmean(data[cell_criteria][:,these_trials],1)\n"
     ]
    },
    {
     "name": "stdout",
     "output_type": "stream",
     "text": [
      "<HDF5 group \"/session_180618_M8956\" (9 members)>\n",
      "decon\n",
      "0.9958333333333333\n",
      "<HDF5 group \"/session_180719_M8961\" (8 members)>\n",
      "decon\n",
      "0.009166666666666667\n"
     ]
    },
    {
     "name": "stderr",
     "output_type": "stream",
     "text": [
      "/Users/agos/Documents/Work/ColumbiaProjects/Data_NewDanFitting/Data/data_scripts/pyute.py:1069: RuntimeWarning: Mean of empty slice\n",
      "  tuning[:,itype] = np.nanmean(data[cell_criteria][:,these_trials],1)\n"
     ]
    },
    {
     "name": "stdout",
     "output_type": "stream",
     "text": [
      "<HDF5 group \"/session_180720_M8961\" (8 members)>\n",
      "decon\n",
      "0.04583333333333333\n"
     ]
    },
    {
     "name": "stderr",
     "output_type": "stream",
     "text": [
      "/Users/agos/Documents/Work/ColumbiaProjects/Data_NewDanFitting/Data/data_scripts/pyute.py:1069: RuntimeWarning: Mean of empty slice\n",
      "  tuning[:,itype] = np.nanmean(data[cell_criteria][:,these_trials],1)\n"
     ]
    },
    {
     "name": "stdout",
     "output_type": "stream",
     "text": [
      "<HDF5 group \"/session_180903_M8961\" (9 members)>\n",
      "decon\n",
      "0.8341666666666666\n"
     ]
    },
    {
     "name": "stderr",
     "output_type": "stream",
     "text": [
      "/Users/agos/Documents/Work/ColumbiaProjects/Data_NewDanFitting/Data/data_scripts/sim_utils.py:62: RuntimeWarning: invalid value encountered in less\n",
      "  rf_conditions = [ut.k_and(~np.isnan(X[:,0]),~np.isnan(y[:,0])),sqerror<0.75,sigma>3.3,pval[ikey]<0.1]\n"
     ]
    },
    {
     "name": "stdout",
     "output_type": "stream",
     "text": [
      "<HDF5 group \"/session_190710_M0208\" (9 members)>\n",
      "decon\n",
      "0.27628968253968256\n"
     ]
    },
    {
     "name": "stderr",
     "output_type": "stream",
     "text": [
      "/Users/agos/Documents/Work/ColumbiaProjects/Data_NewDanFitting/Data/data_scripts/pyute.py:1069: RuntimeWarning: Mean of empty slice\n",
      "  tuning[:,itype] = np.nanmean(data[cell_criteria][:,these_trials],1)\n"
     ]
    },
    {
     "name": "stdout",
     "output_type": "stream",
     "text": [
      "<HDF5 group \"/session_191215_M0385\" (9 members)>\n",
      "decon\n",
      "0.18998015873015872\n"
     ]
    },
    {
     "name": "stderr",
     "output_type": "stream",
     "text": [
      "/Users/agos/Documents/Work/ColumbiaProjects/Data_NewDanFitting/Data/data_scripts/pyute.py:1069: RuntimeWarning: Mean of empty slice\n",
      "  tuning[:,itype] = np.nanmean(data[cell_criteria][:,these_trials],1)\n"
     ]
    },
    {
     "name": "stdout",
     "output_type": "stream",
     "text": [
      "<HDF5 group \"/session_200103_M0388\" (9 members)>\n",
      "decon\n",
      "0.08085317460317461\n"
     ]
    },
    {
     "name": "stderr",
     "output_type": "stream",
     "text": [
      "/Users/agos/Documents/Work/ColumbiaProjects/Data_NewDanFitting/Data/data_scripts/pyute.py:1069: RuntimeWarning: Mean of empty slice\n",
      "  tuning[:,itype] = np.nanmean(data[cell_criteria][:,these_trials],1)\n",
      "/Users/agos/Documents/Work/ColumbiaProjects/Data_NewDanFitting/Data/data_scripts/sim_utils.py:163: RuntimeWarning: invalid value encountered in less\n",
      "  return np.logical_and(criterion(displacement),pval < pcutoff)\n",
      "/Users/agos/Documents/Work/ColumbiaProjects/Data_NewDanFitting/Data/data_scripts/sim_utils.py:143: FutureWarning: Using a non-tuple sequence for multidimensional indexing is deprecated; use `arr[tuple(seq)]` instead of `arr[seq]`. In the future this will be interpreted as an array index, `arr[np.array(seq)]`, which will result either in an error or a different result.\n",
      "  return np.nanmean(np.nanmean(arr[slicer],-1),-1)\n",
      "/Users/agos/anaconda3/lib/python3.6/site-packages/autograd/tracer.py:48: RuntimeWarning: Mean of empty slice\n",
      "  return f_raw(*args, **kwargs)\n"
     ]
    },
    {
     "data": {
      "image/png": "[encoded data removed]",
      "text/plain": [
       "<Figure size 432x288 with 1 Axes>"
      ]
     },
     "metadata": {
      "needs_background": "light"
     },
     "output_type": "display_data"
    }
   ],
   "source": [
    "rs_new_pval_5pct =gen_rs(dsnames=dsnames,selection=selection,dcutoff=ctr_cutoff,pval_cutoff=0.05,slices=None,running=lt)\n",
    "rs_new_pval_10pct =gen_rs(dsnames=dsnames,selection=selection,dcutoff=ctr_cutoff,pval_cutoff=0.1,slices=None,running=lt)\n",
    "rs_new_pval_30pct =gen_rs(dsnames=dsnames,selection=selection,dcutoff=ctr_cutoff,pval_cutoff=0.3,slices=None,running=lt)\n",
    "rs_new_pval_50pct =gen_rs(dsnames=dsnames,selection=selection,dcutoff=ctr_cutoff,pval_cutoff=0.5,slices=None,running=lt)\n",
    "rs_new_pval_100pct =gen_rs(dsnames=dsnames,selection=selection,dcutoff=ctr_cutoff,pval_cutoff=1,slices=None,running=lt)\n",
    "\n",
    "\n",
    "\n",
    "\n",
    "plt.plot([0,5,8,13,22,36],np.transpose(np.mean(rs_new_pval_5pct[0][0][:,2,:],axis=0)),'r');\n",
    "plt.plot([0,5,8,13,22,36],np.transpose(np.mean(rs_new_pval_10pct[0][0][:,2,:],axis=0)),'b');\n",
    "plt.plot([0,5,8,13,22,36],np.transpose(np.mean(rs_new_pval_30pct[0][0][:,2,:],axis=0)),'g');\n",
    "plt.plot([0,5,8,13,22,36],np.transpose(np.mean(rs_new_pval_50pct[0][0][:,2,:],axis=0)),'m');\n",
    "plt.plot([0,5,8,13,22,36],np.transpose(np.mean(rs_new_pval_100pct[0][0][:,2,:],axis=0)),'k');\n",
    "\n",
    "\n",
    "\n",
    "\n"
   ]
  },
  {
   "cell_type": "code",
   "execution_count": null,
   "metadata": {},
   "outputs": [],
   "source": []
  }
 ],
 "metadata": {
  "kernelspec": {
   "display_name": "Python 3",
   "language": "python",
   "name": "python3"
  },
  "language_info": {
   "codemirror_mode": {
    "name": "ipython",
    "version": 3
   },
   "file_extension": ".py",
   "mimetype": "text/x-python",
   "name": "python",
   "nbconvert_exporter": "python",
   "pygments_lexer": "ipython3",
   "version": "3.6.13"
  }
 },
 "nbformat": 4,
 "nbformat_minor": 2
}
