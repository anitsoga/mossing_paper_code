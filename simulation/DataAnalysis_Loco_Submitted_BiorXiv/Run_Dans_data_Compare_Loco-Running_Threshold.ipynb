{
 "cells": [
  {
   "cell_type": "code",
   "execution_count": 6,
   "metadata": {},
   "outputs": [
    {
     "data": {
      "text/html": [
       "<style>.container { width:90% !important; }</style>"
      ],
      "text/plain": [
       "<IPython.core.display.HTML object>"
      ]
     },
     "metadata": {},
     "output_type": "display_data"
    }
   ],
   "source": [
    "##################################\n",
    "#The notebook needed\n",
    "%matplotlib inline \n",
    "from IPython.core.display import display, HTML\n",
    "display(HTML(\"<style>.container { width:90% !important; }</style>\"))\n",
    "\n",
    "#!/usr/bin/env python\n",
    "# coding: utf-8\n",
    "import os\n",
    "import sys\n",
    "sys.path.append(\"./OASIS-master/\")\n",
    "from oasis.functions import deconvolve\n",
    "\n",
    "import numpy as np\n",
    "import matplotlib.pyplot as plt\n",
    "import sklearn\n",
    "import h5py\n",
    "import pdb\n",
    "from importlib import reload  # Python 3.4+ only.\n",
    "        \n",
    "import pickle\n",
    "import numpy, scipy.io\n",
    "\n",
    "import size_contrast_analysis as sca\n",
    "import scipy.stats as sst\n",
    "import sim_utils\n",
    "reload(sim_utils)\n",
    "import pyute as ut\n",
    "\n",
    "outputDir='./Output'\n",
    "if not os.path.exists(outputDir):\n",
    "    os.makedirs(outputDir)\n",
    "    \n",
    "    \n",
    "# paths\n",
    "dsbase = '/Users/dan/Documents/notebooks/mossing-PC/shared_data/'\n",
    "\n",
    "# dsnames = [dsbase+x+'_data_struct.hdf5' for x in ['pyr_l23','sst_l23','vip_l23']]\n"
   ]
  },
  {
   "cell_type": "code",
   "execution_count": 17,
   "metadata": {
    "scrolled": true
   },
   "outputs": [
    {
     "name": "stdout",
     "output_type": "stream",
     "text": [
      "/Users/dan/Documents/notebooks/mossing-PC/shared_data/pyr_l4_data_struct.hdf5\n",
      "<HDF5 group \"/session_181127_M10073\" (8 members)>\n",
      "decon\n",
      "0.8257142857142857\n",
      "<HDF5 group \"/session_190202_M10075\" (9 members)>\n",
      "decon\n",
      "0.6034722222222222\n",
      "<HDF5 group \"/session_190304_M10077\" (9 members)>\n",
      "decon\n",
      "0.5597222222222222\n"
     ]
    },
    {
     "name": "stderr",
     "output_type": "stream",
     "text": [
      "/Users/dan/Documents/code/adesnal/pyute.py:1204: RuntimeWarning: Mean of empty slice\n",
      "  tuning[:,itype] = np.nanmean(data[cell_criteria][:,these_trials],1)\n"
     ]
    },
    {
     "name": "stdout",
     "output_type": "stream",
     "text": [
      "<HDF5 group \"/session_190607_M10443\" (9 members)>\n",
      "decon\n",
      "0.14097222222222222\n"
     ]
    },
    {
     "name": "stderr",
     "output_type": "stream",
     "text": [
      "/Users/dan/Documents/code/adesnal/pyute.py:1204: RuntimeWarning: Mean of empty slice\n",
      "  tuning[:,itype] = np.nanmean(data[cell_criteria][:,these_trials],1)\n"
     ]
    },
    {
     "name": "stdout",
     "output_type": "stream",
     "text": [
      "<HDF5 group \"/session_190620_M10616\" (9 members)>\n",
      "decon\n",
      "0.5431547619047619\n"
     ]
    },
    {
     "name": "stderr",
     "output_type": "stream",
     "text": [
      "/Users/dan/Documents/code/adesnal/pyute.py:1204: RuntimeWarning: Mean of empty slice\n",
      "  tuning[:,itype] = np.nanmean(data[cell_criteria][:,these_trials],1)\n"
     ]
    },
    {
     "name": "stdout",
     "output_type": "stream",
     "text": [
      "<HDF5 group \"/session_190620_M10619\" (9 members)>\n",
      "decon\n",
      "0.6006944444444444\n"
     ]
    },
    {
     "name": "stderr",
     "output_type": "stream",
     "text": [
      "/Users/dan/Documents/code/adesnal/pyute.py:1204: RuntimeWarning: Mean of empty slice\n",
      "  tuning[:,itype] = np.nanmean(data[cell_criteria][:,these_trials],1)\n"
     ]
    },
    {
     "name": "stdout",
     "output_type": "stream",
     "text": [
      "<HDF5 group \"/session_190624_M10615\" (8 members)>\n",
      "decon\n",
      "0.08234126984126984\n"
     ]
    },
    {
     "name": "stderr",
     "output_type": "stream",
     "text": [
      "/Users/dan/Documents/code/adesnal/pyute.py:1204: RuntimeWarning: Mean of empty slice\n",
      "  tuning[:,itype] = np.nanmean(data[cell_criteria][:,these_trials],1)\n"
     ]
    },
    {
     "name": "stdout",
     "output_type": "stream",
     "text": [
      "<HDF5 group \"/session_190627_M10616\" (9 members)>\n",
      "decon\n",
      "0.7876984126984127\n",
      "<HDF5 group \"/session_190701_M10615\" (9 members)>\n",
      "decon\n",
      "0.6691468253968254\n",
      "<HDF5 group \"/session_191212_M0762\" (12 members)>\n",
      "decon\n",
      "0.8219246031746031\n",
      "/Users/dan/Documents/notebooks/mossing-PC/shared_data/pyr_l23_data_struct.hdf5\n",
      "<HDF5 group \"/session_181205_M10130\" (8 members)>\n",
      "decon\n",
      "0.7321428571428571\n",
      "<HDF5 group \"/session_181209_M8536\" (9 members)>\n",
      "decon\n",
      "0.8307142857142857\n",
      "<HDF5 group \"/session_181213_M8536\" (8 members)>\n",
      "decon\n",
      "0.03857142857142857\n"
     ]
    },
    {
     "name": "stderr",
     "output_type": "stream",
     "text": [
      "/Users/dan/Documents/code/adesnal/pyute.py:1204: RuntimeWarning: Mean of empty slice\n",
      "  tuning[:,itype] = np.nanmean(data[cell_criteria][:,these_trials],1)\n"
     ]
    },
    {
     "name": "stdout",
     "output_type": "stream",
     "text": [
      "<HDF5 group \"/session_181214_M10130\" (8 members)>\n",
      "decon\n",
      "0.4142857142857143\n"
     ]
    },
    {
     "name": "stderr",
     "output_type": "stream",
     "text": [
      "/Users/dan/Documents/code/adesnal/pyute.py:1204: RuntimeWarning: Mean of empty slice\n",
      "  tuning[:,itype] = np.nanmean(data[cell_criteria][:,these_trials],1)\n"
     ]
    },
    {
     "name": "stdout",
     "output_type": "stream",
     "text": [
      "<HDF5 group \"/session_190102_M10130\" (8 members)>\n",
      "decon\n",
      "0.44916666666666666\n",
      "<HDF5 group \"/session_190128_M8982\" (9 members)>\n",
      "decon\n",
      "0.9472222222222222\n",
      "<HDF5 group \"/session_190130_M9667\" (9 members)>\n",
      "decon\n",
      "0.19027777777777777\n"
     ]
    },
    {
     "name": "stderr",
     "output_type": "stream",
     "text": [
      "/Users/dan/Documents/code/adesnal/pyute.py:1204: RuntimeWarning: Mean of empty slice\n",
      "  tuning[:,itype] = np.nanmean(data[cell_criteria][:,these_trials],1)\n"
     ]
    },
    {
     "name": "stdout",
     "output_type": "stream",
     "text": [
      "<HDF5 group \"/session_190131_M9355\" (9 members)>\n",
      "decon\n",
      "0.9340277777777778\n",
      "<HDF5 group \"/session_190208_M9355\" (9 members)>\n",
      "decon\n",
      "0.9506944444444444\n",
      "<HDF5 group \"/session_190212_M8536\" (9 members)>\n",
      "decon\n",
      "0.2465277777777778\n"
     ]
    },
    {
     "name": "stderr",
     "output_type": "stream",
     "text": [
      "/Users/dan/Documents/code/adesnal/pyute.py:1204: RuntimeWarning: Mean of empty slice\n",
      "  tuning[:,itype] = np.nanmean(data[cell_criteria][:,these_trials],1)\n"
     ]
    },
    {
     "name": "stdout",
     "output_type": "stream",
     "text": [
      "<HDF5 group \"/session_191002_M0293\" (12 members)>\n",
      "decon\n",
      "0.8462301587301587\n",
      "<HDF5 group \"/session_191108_M0403\" (12 members)>\n",
      "decon\n",
      "0.9970238095238095\n",
      "<HDF5 group \"/session_200822_M0771\" (13 members)>\n",
      "decon\n",
      "0.9151785714285714\n",
      "/Users/dan/Documents/notebooks/mossing-PC/shared_data/pv_l23_data_struct.hdf5\n",
      "<HDF5 group \"/session_191105_M0589\" (12 members)>\n",
      "decon\n",
      "1.0\n",
      "<HDF5 group \"/session_191220_M0589\" (12 members)>\n",
      "decon\n",
      "0.9995039682539683\n",
      "<HDF5 group \"/session_191229_M0892\" (12 members)>\n",
      "decon\n",
      "0.9995039682539683\n",
      "<HDF5 group \"/session_200102_M0892\" (12 members)>\n",
      "decon\n",
      "0.9350198412698413\n",
      "<HDF5 group \"/session_200108_M0891\" (12 members)>\n",
      "decon\n",
      "0.8606150793650794\n",
      "<HDF5 group \"/session_200620_M0891\" (13 members)>\n",
      "decon\n",
      "0.44543650793650796\n"
     ]
    },
    {
     "name": "stderr",
     "output_type": "stream",
     "text": [
      "/Users/dan/Documents/code/adesnal/pyute.py:1204: RuntimeWarning: Mean of empty slice\n",
      "  tuning[:,itype] = np.nanmean(data[cell_criteria][:,these_trials],1)\n"
     ]
    },
    {
     "name": "stdout",
     "output_type": "stream",
     "text": [
      "<HDF5 group \"/session_200621_M0893\" (13 members)>\n",
      "decon\n",
      "0.5277777777777778\n"
     ]
    },
    {
     "name": "stderr",
     "output_type": "stream",
     "text": [
      "/Users/dan/Documents/code/adesnal/pyute.py:1204: RuntimeWarning: Mean of empty slice\n",
      "  tuning[:,itype] = np.nanmean(data[cell_criteria][:,these_trials],1)\n"
     ]
    },
    {
     "name": "stdout",
     "output_type": "stream",
     "text": [
      "/Users/dan/Documents/notebooks/mossing-PC/shared_data/sst_l23_data_struct.hdf5\n",
      "<HDF5 group \"/session_180713_M9053\" (9 members)>\n",
      "decon\n",
      "0.19083333333333333\n"
     ]
    },
    {
     "name": "stderr",
     "output_type": "stream",
     "text": [
      "/Users/dan/Documents/code/adesnal/pyute.py:1204: RuntimeWarning: Mean of empty slice\n",
      "  tuning[:,itype] = np.nanmean(data[cell_criteria][:,these_trials],1)\n"
     ]
    },
    {
     "name": "stdout",
     "output_type": "stream",
     "text": [
      "<HDF5 group \"/session_180714_M9053\" (9 members)>\n",
      "decon\n",
      "0.15583333333333332\n"
     ]
    },
    {
     "name": "stderr",
     "output_type": "stream",
     "text": [
      "/Users/dan/Documents/code/adesnal/pyute.py:1204: RuntimeWarning: Mean of empty slice\n",
      "  tuning[:,itype] = np.nanmean(data[cell_criteria][:,these_trials],1)\n"
     ]
    },
    {
     "name": "stdout",
     "output_type": "stream",
     "text": [
      "<HDF5 group \"/session_180802_M9053\" (8 members)>\n",
      "decon\n",
      "0.49166666666666664\n"
     ]
    },
    {
     "name": "stderr",
     "output_type": "stream",
     "text": [
      "/Users/dan/Documents/code/adesnal/pyute.py:1204: RuntimeWarning: Mean of empty slice\n",
      "  tuning[:,itype] = np.nanmean(data[cell_criteria][:,these_trials],1)\n"
     ]
    },
    {
     "name": "stdout",
     "output_type": "stream",
     "text": [
      "<HDF5 group \"/session_180821_M9417\" (9 members)>\n",
      "decon\n",
      "0.8525\n",
      "<HDF5 group \"/session_181117_M10039\" (9 members)>\n",
      "decon\n",
      "0.7892857142857143\n",
      "<HDF5 group \"/session_181120_M10039\" (8 members)>\n",
      "decon\n",
      "0.8571428571428571\n",
      "<HDF5 group \"/session_181121_M10039\" (8 members)>\n",
      "decon\n",
      "0.9385714285714286\n",
      "<HDF5 group \"/session_191224_M0390\" (13 members)>\n",
      "decon\n",
      "0.9404761904761905\n",
      "<HDF5 group \"/session_200109_M0755\" (13 members)>\n",
      "decon\n",
      "0.9692460317460317\n",
      "<HDF5 group \"/session_200819_M0638\" (13 members)>\n",
      "decon\n",
      "0.7549603174603174\n",
      "/Users/dan/Documents/notebooks/mossing-PC/shared_data/vip_l23_data_struct.hdf5\n",
      "<HDF5 group \"/session_180321_M7955\" (8 members)>\n",
      "<HDF5 group \"/session_180412_M7955\" (8 members)>\n",
      "decon\n",
      "0.011\n"
     ]
    },
    {
     "name": "stderr",
     "output_type": "stream",
     "text": [
      "/Users/dan/Documents/code/adesnal/pyute.py:1204: RuntimeWarning: Mean of empty slice\n",
      "  tuning[:,itype] = np.nanmean(data[cell_criteria][:,these_trials],1)\n"
     ]
    },
    {
     "name": "stdout",
     "output_type": "stream",
     "text": [
      "<HDF5 group \"/session_180516_M8956\" (9 members)>\n",
      "decon\n",
      "0.275\n"
     ]
    },
    {
     "name": "stderr",
     "output_type": "stream",
     "text": [
      "/Users/dan/Documents/code/adesnal/pyute.py:1204: RuntimeWarning: Mean of empty slice\n",
      "  tuning[:,itype] = np.nanmean(data[cell_criteria][:,these_trials],1)\n"
     ]
    },
    {
     "name": "stdout",
     "output_type": "stream",
     "text": [
      "<HDF5 group \"/session_180519_M8959\" (9 members)>\n",
      "decon\n",
      "0.0575\n"
     ]
    },
    {
     "name": "stderr",
     "output_type": "stream",
     "text": [
      "/Users/dan/Documents/code/adesnal/pyute.py:1204: RuntimeWarning: Mean of empty slice\n",
      "  tuning[:,itype] = np.nanmean(data[cell_criteria][:,these_trials],1)\n"
     ]
    },
    {
     "name": "stdout",
     "output_type": "stream",
     "text": [
      "<HDF5 group \"/session_180528_M8959\" (9 members)>\n",
      "decon\n",
      "0.3383333333333333\n"
     ]
    },
    {
     "name": "stderr",
     "output_type": "stream",
     "text": [
      "/Users/dan/Documents/code/adesnal/pyute.py:1204: RuntimeWarning: Mean of empty slice\n",
      "  tuning[:,itype] = np.nanmean(data[cell_criteria][:,these_trials],1)\n"
     ]
    },
    {
     "name": "stdout",
     "output_type": "stream",
     "text": [
      "<HDF5 group \"/session_180531_M8961\" (9 members)>\n",
      "decon\n",
      "0.3625\n"
     ]
    },
    {
     "name": "stderr",
     "output_type": "stream",
     "text": [
      "/Users/dan/Documents/code/adesnal/pyute.py:1204: RuntimeWarning: Mean of empty slice\n",
      "  tuning[:,itype] = np.nanmean(data[cell_criteria][:,these_trials],1)\n"
     ]
    },
    {
     "name": "stdout",
     "output_type": "stream",
     "text": [
      "<HDF5 group \"/session_180618_M8956\" (9 members)>\n",
      "decon\n",
      "0.004166666666666667\n"
     ]
    },
    {
     "name": "stderr",
     "output_type": "stream",
     "text": [
      "/Users/dan/Documents/code/adesnal/pyute.py:1204: RuntimeWarning: Mean of empty slice\n",
      "  tuning[:,itype] = np.nanmean(data[cell_criteria][:,these_trials],1)\n"
     ]
    },
    {
     "name": "stdout",
     "output_type": "stream",
     "text": [
      "<HDF5 group \"/session_180719_M8961\" (8 members)>\n",
      "decon\n",
      "0.9908333333333333\n",
      "<HDF5 group \"/session_180720_M8961\" (8 members)>\n",
      "decon\n",
      "0.9541666666666667\n",
      "<HDF5 group \"/session_180903_M8961\" (9 members)>\n",
      "decon\n",
      "0.16583333333333333\n"
     ]
    },
    {
     "name": "stderr",
     "output_type": "stream",
     "text": [
      "/Users/dan/Documents/code/adesnal/pyute.py:1204: RuntimeWarning: Mean of empty slice\n",
      "  tuning[:,itype] = np.nanmean(data[cell_criteria][:,these_trials],1)\n"
     ]
    },
    {
     "name": "stdout",
     "output_type": "stream",
     "text": [
      "<HDF5 group \"/session_190710_M0208\" (13 members)>\n",
      "decon\n",
      "0.7237103174603174\n",
      "<HDF5 group \"/session_191215_M0385\" (13 members)>\n",
      "decon\n",
      "0.8100198412698413\n",
      "<HDF5 group \"/session_200103_M0388\" (13 members)>\n",
      "decon\n",
      "0.9191468253968254\n"
     ]
    },
    {
     "name": "stderr",
     "output_type": "stream",
     "text": [
      "/Users/dan/Documents/code/adesnal/sim_utils.py:183: FutureWarning: Using a non-tuple sequence for multidimensional indexing is deprecated; use `arr[tuple(seq)]` instead of `arr[seq]`. In the future this will be interpreted as an array index, `arr[np.array(seq)]`, which will result either in an error or a different result.\n",
      "  \n",
      "/opt/anaconda3/envs/py3/lib/python3.6/site-packages/autograd/tracer.py:48: RuntimeWarning: Mean of empty slice\n",
      "  return f_raw(*args, **kwargs)\n",
      "/opt/anaconda3/envs/py3/lib/python3.6/site-packages/numpy/core/_asarray.py:136: VisibleDeprecationWarning: Creating an ndarray from ragged nested sequences (which is a list-or-tuple of lists-or-tuples-or ndarrays with different lengths or shapes) is deprecated. If you meant to do this, you must specify 'dtype=object' when creating the ndarray\n",
      "  return array(a, dtype, copy=False, order=order, subok=True)\n"
     ]
    },
    {
     "name": "stdout",
     "output_type": "stream",
     "text": [
      "/Users/dan/Documents/notebooks/mossing-PC/shared_data/pyr_l4_data_struct.hdf5\n",
      "<HDF5 group \"/session_181127_M10073\" (8 members)>\n",
      "decon\n",
      "0.1742857142857143\n"
     ]
    },
    {
     "name": "stderr",
     "output_type": "stream",
     "text": [
      "/Users/dan/Documents/code/adesnal/pyute.py:1204: RuntimeWarning: Mean of empty slice\n",
      "  tuning[:,itype] = np.nanmean(data[cell_criteria][:,these_trials],1)\n"
     ]
    },
    {
     "name": "stdout",
     "output_type": "stream",
     "text": [
      "<HDF5 group \"/session_190202_M10075\" (9 members)>\n",
      "decon\n",
      "0.39652777777777776\n"
     ]
    },
    {
     "name": "stderr",
     "output_type": "stream",
     "text": [
      "/Users/dan/Documents/code/adesnal/pyute.py:1204: RuntimeWarning: Mean of empty slice\n",
      "  tuning[:,itype] = np.nanmean(data[cell_criteria][:,these_trials],1)\n"
     ]
    },
    {
     "name": "stdout",
     "output_type": "stream",
     "text": [
      "<HDF5 group \"/session_190304_M10077\" (9 members)>\n",
      "decon\n",
      "0.44027777777777777\n"
     ]
    },
    {
     "name": "stderr",
     "output_type": "stream",
     "text": [
      "/Users/dan/Documents/code/adesnal/pyute.py:1204: RuntimeWarning: Mean of empty slice\n",
      "  tuning[:,itype] = np.nanmean(data[cell_criteria][:,these_trials],1)\n"
     ]
    },
    {
     "name": "stdout",
     "output_type": "stream",
     "text": [
      "<HDF5 group \"/session_190607_M10443\" (9 members)>\n",
      "decon\n",
      "0.8590277777777777\n",
      "<HDF5 group \"/session_190620_M10616\" (9 members)>\n",
      "decon\n",
      "0.4568452380952381\n"
     ]
    },
    {
     "name": "stderr",
     "output_type": "stream",
     "text": [
      "/Users/dan/Documents/code/adesnal/pyute.py:1204: RuntimeWarning: Mean of empty slice\n",
      "  tuning[:,itype] = np.nanmean(data[cell_criteria][:,these_trials],1)\n"
     ]
    },
    {
     "name": "stdout",
     "output_type": "stream",
     "text": [
      "<HDF5 group \"/session_190620_M10619\" (9 members)>\n",
      "decon\n",
      "0.3993055555555556\n"
     ]
    },
    {
     "name": "stderr",
     "output_type": "stream",
     "text": [
      "/Users/dan/Documents/code/adesnal/pyute.py:1204: RuntimeWarning: Mean of empty slice\n",
      "  tuning[:,itype] = np.nanmean(data[cell_criteria][:,these_trials],1)\n"
     ]
    },
    {
     "name": "stdout",
     "output_type": "stream",
     "text": [
      "<HDF5 group \"/session_190624_M10615\" (8 members)>\n",
      "decon\n",
      "0.9176587301587301\n",
      "<HDF5 group \"/session_190627_M10616\" (9 members)>\n",
      "decon\n",
      "0.2123015873015873\n"
     ]
    },
    {
     "name": "stderr",
     "output_type": "stream",
     "text": [
      "/Users/dan/Documents/code/adesnal/pyute.py:1204: RuntimeWarning: Mean of empty slice\n",
      "  tuning[:,itype] = np.nanmean(data[cell_criteria][:,these_trials],1)\n"
     ]
    },
    {
     "name": "stdout",
     "output_type": "stream",
     "text": [
      "<HDF5 group \"/session_190701_M10615\" (9 members)>\n",
      "decon\n",
      "0.3308531746031746\n"
     ]
    },
    {
     "name": "stderr",
     "output_type": "stream",
     "text": [
      "/Users/dan/Documents/code/adesnal/pyute.py:1204: RuntimeWarning: Mean of empty slice\n",
      "  tuning[:,itype] = np.nanmean(data[cell_criteria][:,these_trials],1)\n"
     ]
    },
    {
     "name": "stdout",
     "output_type": "stream",
     "text": [
      "<HDF5 group \"/session_191212_M0762\" (12 members)>\n",
      "decon\n",
      "0.17807539682539683\n"
     ]
    },
    {
     "name": "stderr",
     "output_type": "stream",
     "text": [
      "/Users/dan/Documents/code/adesnal/pyute.py:1204: RuntimeWarning: Mean of empty slice\n",
      "  tuning[:,itype] = np.nanmean(data[cell_criteria][:,these_trials],1)\n"
     ]
    },
    {
     "name": "stdout",
     "output_type": "stream",
     "text": [
      "/Users/dan/Documents/notebooks/mossing-PC/shared_data/pyr_l23_data_struct.hdf5\n",
      "<HDF5 group \"/session_181205_M10130\" (8 members)>\n",
      "decon\n",
      "0.26785714285714285\n"
     ]
    },
    {
     "name": "stderr",
     "output_type": "stream",
     "text": [
      "/Users/dan/Documents/code/adesnal/pyute.py:1204: RuntimeWarning: Mean of empty slice\n",
      "  tuning[:,itype] = np.nanmean(data[cell_criteria][:,these_trials],1)\n"
     ]
    },
    {
     "name": "stdout",
     "output_type": "stream",
     "text": [
      "<HDF5 group \"/session_181209_M8536\" (9 members)>\n",
      "decon\n",
      "0.1692857142857143\n"
     ]
    },
    {
     "name": "stderr",
     "output_type": "stream",
     "text": [
      "/Users/dan/Documents/code/adesnal/pyute.py:1204: RuntimeWarning: Mean of empty slice\n",
      "  tuning[:,itype] = np.nanmean(data[cell_criteria][:,these_trials],1)\n"
     ]
    },
    {
     "name": "stdout",
     "output_type": "stream",
     "text": [
      "<HDF5 group \"/session_181213_M8536\" (8 members)>\n",
      "decon\n",
      "0.9614285714285714\n",
      "<HDF5 group \"/session_181214_M10130\" (8 members)>\n",
      "decon\n",
      "0.5857142857142857\n",
      "<HDF5 group \"/session_190102_M10130\" (8 members)>\n",
      "decon\n",
      "0.5508333333333333\n",
      "<HDF5 group \"/session_190128_M8982\" (9 members)>\n",
      "decon\n",
      "0.05277777777777778\n"
     ]
    },
    {
     "name": "stderr",
     "output_type": "stream",
     "text": [
      "/Users/dan/Documents/code/adesnal/pyute.py:1204: RuntimeWarning: Mean of empty slice\n",
      "  tuning[:,itype] = np.nanmean(data[cell_criteria][:,these_trials],1)\n"
     ]
    },
    {
     "name": "stdout",
     "output_type": "stream",
     "text": [
      "<HDF5 group \"/session_190130_M9667\" (9 members)>\n",
      "decon\n",
      "0.8097222222222222\n",
      "<HDF5 group \"/session_190131_M9355\" (9 members)>\n",
      "decon\n",
      "0.06597222222222222\n"
     ]
    },
    {
     "name": "stderr",
     "output_type": "stream",
     "text": [
      "/Users/dan/Documents/code/adesnal/pyute.py:1204: RuntimeWarning: Mean of empty slice\n",
      "  tuning[:,itype] = np.nanmean(data[cell_criteria][:,these_trials],1)\n"
     ]
    },
    {
     "name": "stdout",
     "output_type": "stream",
     "text": [
      "<HDF5 group \"/session_190208_M9355\" (9 members)>\n",
      "decon\n",
      "0.049305555555555554\n"
     ]
    },
    {
     "name": "stderr",
     "output_type": "stream",
     "text": [
      "/Users/dan/Documents/code/adesnal/pyute.py:1204: RuntimeWarning: Mean of empty slice\n",
      "  tuning[:,itype] = np.nanmean(data[cell_criteria][:,these_trials],1)\n"
     ]
    },
    {
     "name": "stdout",
     "output_type": "stream",
     "text": [
      "<HDF5 group \"/session_190212_M8536\" (9 members)>\n",
      "decon\n",
      "0.7534722222222222\n"
     ]
    },
    {
     "name": "stderr",
     "output_type": "stream",
     "text": [
      "/Users/dan/Documents/code/adesnal/pyute.py:1204: RuntimeWarning: Mean of empty slice\n",
      "  tuning[:,itype] = np.nanmean(data[cell_criteria][:,these_trials],1)\n"
     ]
    },
    {
     "name": "stdout",
     "output_type": "stream",
     "text": [
      "<HDF5 group \"/session_191002_M0293\" (12 members)>\n",
      "decon\n",
      "0.15376984126984128\n"
     ]
    },
    {
     "name": "stderr",
     "output_type": "stream",
     "text": [
      "/Users/dan/Documents/code/adesnal/pyute.py:1204: RuntimeWarning: Mean of empty slice\n",
      "  tuning[:,itype] = np.nanmean(data[cell_criteria][:,these_trials],1)\n"
     ]
    },
    {
     "name": "stdout",
     "output_type": "stream",
     "text": [
      "<HDF5 group \"/session_191108_M0403\" (12 members)>\n",
      "decon\n",
      "0.002976190476190476\n"
     ]
    },
    {
     "name": "stderr",
     "output_type": "stream",
     "text": [
      "/Users/dan/Documents/code/adesnal/pyute.py:1204: RuntimeWarning: Mean of empty slice\n",
      "  tuning[:,itype] = np.nanmean(data[cell_criteria][:,these_trials],1)\n"
     ]
    },
    {
     "name": "stdout",
     "output_type": "stream",
     "text": [
      "<HDF5 group \"/session_200822_M0771\" (13 members)>\n",
      "decon\n",
      "0.08482142857142858\n"
     ]
    },
    {
     "name": "stderr",
     "output_type": "stream",
     "text": [
      "/Users/dan/Documents/code/adesnal/pyute.py:1204: RuntimeWarning: Mean of empty slice\n",
      "  tuning[:,itype] = np.nanmean(data[cell_criteria][:,these_trials],1)\n"
     ]
    },
    {
     "name": "stdout",
     "output_type": "stream",
     "text": [
      "/Users/dan/Documents/notebooks/mossing-PC/shared_data/pv_l23_data_struct.hdf5\n",
      "<HDF5 group \"/session_191105_M0589\" (12 members)>\n",
      "decon\n",
      "0.0\n"
     ]
    },
    {
     "name": "stderr",
     "output_type": "stream",
     "text": [
      "/Users/dan/Documents/code/adesnal/pyute.py:1204: RuntimeWarning: Mean of empty slice\n",
      "  tuning[:,itype] = np.nanmean(data[cell_criteria][:,these_trials],1)\n"
     ]
    },
    {
     "name": "stdout",
     "output_type": "stream",
     "text": [
      "<HDF5 group \"/session_191220_M0589\" (12 members)>\n",
      "decon\n",
      "0.000496031746031746\n"
     ]
    },
    {
     "name": "stderr",
     "output_type": "stream",
     "text": [
      "/Users/dan/Documents/code/adesnal/pyute.py:1204: RuntimeWarning: Mean of empty slice\n",
      "  tuning[:,itype] = np.nanmean(data[cell_criteria][:,these_trials],1)\n"
     ]
    },
    {
     "name": "stdout",
     "output_type": "stream",
     "text": [
      "<HDF5 group \"/session_191229_M0892\" (12 members)>\n",
      "decon\n",
      "0.000496031746031746\n"
     ]
    },
    {
     "name": "stderr",
     "output_type": "stream",
     "text": [
      "/Users/dan/Documents/code/adesnal/pyute.py:1204: RuntimeWarning: Mean of empty slice\n",
      "  tuning[:,itype] = np.nanmean(data[cell_criteria][:,these_trials],1)\n"
     ]
    },
    {
     "name": "stdout",
     "output_type": "stream",
     "text": [
      "<HDF5 group \"/session_200102_M0892\" (12 members)>\n",
      "decon\n",
      "0.06498015873015874\n"
     ]
    },
    {
     "name": "stderr",
     "output_type": "stream",
     "text": [
      "/Users/dan/Documents/code/adesnal/pyute.py:1204: RuntimeWarning: Mean of empty slice\n",
      "  tuning[:,itype] = np.nanmean(data[cell_criteria][:,these_trials],1)\n"
     ]
    },
    {
     "name": "stdout",
     "output_type": "stream",
     "text": [
      "<HDF5 group \"/session_200108_M0891\" (12 members)>\n",
      "decon\n",
      "0.13938492063492064\n"
     ]
    },
    {
     "name": "stderr",
     "output_type": "stream",
     "text": [
      "/Users/dan/Documents/code/adesnal/pyute.py:1204: RuntimeWarning: Mean of empty slice\n",
      "  tuning[:,itype] = np.nanmean(data[cell_criteria][:,these_trials],1)\n"
     ]
    },
    {
     "name": "stdout",
     "output_type": "stream",
     "text": [
      "<HDF5 group \"/session_200620_M0891\" (13 members)>\n",
      "decon\n",
      "0.5545634920634921\n"
     ]
    },
    {
     "name": "stderr",
     "output_type": "stream",
     "text": [
      "/Users/dan/Documents/code/adesnal/pyute.py:1204: RuntimeWarning: Mean of empty slice\n",
      "  tuning[:,itype] = np.nanmean(data[cell_criteria][:,these_trials],1)\n"
     ]
    },
    {
     "name": "stdout",
     "output_type": "stream",
     "text": [
      "<HDF5 group \"/session_200621_M0893\" (13 members)>\n",
      "decon\n",
      "0.4722222222222222\n"
     ]
    },
    {
     "name": "stderr",
     "output_type": "stream",
     "text": [
      "/Users/dan/Documents/code/adesnal/pyute.py:1204: RuntimeWarning: Mean of empty slice\n",
      "  tuning[:,itype] = np.nanmean(data[cell_criteria][:,these_trials],1)\n"
     ]
    },
    {
     "name": "stdout",
     "output_type": "stream",
     "text": [
      "/Users/dan/Documents/notebooks/mossing-PC/shared_data/sst_l23_data_struct.hdf5\n",
      "<HDF5 group \"/session_180713_M9053\" (9 members)>\n",
      "decon\n",
      "0.8091666666666667\n",
      "<HDF5 group \"/session_180714_M9053\" (9 members)>\n",
      "decon\n",
      "0.8441666666666666\n",
      "<HDF5 group \"/session_180802_M9053\" (8 members)>\n",
      "decon\n",
      "0.5083333333333333\n"
     ]
    },
    {
     "name": "stderr",
     "output_type": "stream",
     "text": [
      "/Users/dan/Documents/code/adesnal/pyute.py:1204: RuntimeWarning: Mean of empty slice\n",
      "  tuning[:,itype] = np.nanmean(data[cell_criteria][:,these_trials],1)\n"
     ]
    },
    {
     "name": "stdout",
     "output_type": "stream",
     "text": [
      "<HDF5 group \"/session_180821_M9417\" (9 members)>\n",
      "decon\n",
      "0.1475\n"
     ]
    },
    {
     "name": "stderr",
     "output_type": "stream",
     "text": [
      "/Users/dan/Documents/code/adesnal/pyute.py:1204: RuntimeWarning: Mean of empty slice\n",
      "  tuning[:,itype] = np.nanmean(data[cell_criteria][:,these_trials],1)\n"
     ]
    },
    {
     "name": "stdout",
     "output_type": "stream",
     "text": [
      "<HDF5 group \"/session_181117_M10039\" (9 members)>\n",
      "decon\n",
      "0.21071428571428572\n"
     ]
    },
    {
     "name": "stderr",
     "output_type": "stream",
     "text": [
      "/Users/dan/Documents/code/adesnal/pyute.py:1204: RuntimeWarning: Mean of empty slice\n",
      "  tuning[:,itype] = np.nanmean(data[cell_criteria][:,these_trials],1)\n"
     ]
    },
    {
     "name": "stdout",
     "output_type": "stream",
     "text": [
      "<HDF5 group \"/session_181120_M10039\" (8 members)>\n",
      "decon\n",
      "0.14285714285714285\n"
     ]
    },
    {
     "name": "stderr",
     "output_type": "stream",
     "text": [
      "/Users/dan/Documents/code/adesnal/pyute.py:1204: RuntimeWarning: Mean of empty slice\n",
      "  tuning[:,itype] = np.nanmean(data[cell_criteria][:,these_trials],1)\n"
     ]
    },
    {
     "name": "stdout",
     "output_type": "stream",
     "text": [
      "<HDF5 group \"/session_181121_M10039\" (8 members)>\n",
      "decon\n",
      "0.06142857142857143\n"
     ]
    },
    {
     "name": "stderr",
     "output_type": "stream",
     "text": [
      "/Users/dan/Documents/code/adesnal/pyute.py:1204: RuntimeWarning: Mean of empty slice\n",
      "  tuning[:,itype] = np.nanmean(data[cell_criteria][:,these_trials],1)\n"
     ]
    },
    {
     "name": "stdout",
     "output_type": "stream",
     "text": [
      "<HDF5 group \"/session_191224_M0390\" (13 members)>\n",
      "decon\n",
      "0.05952380952380952\n"
     ]
    },
    {
     "name": "stderr",
     "output_type": "stream",
     "text": [
      "/Users/dan/Documents/code/adesnal/pyute.py:1204: RuntimeWarning: Mean of empty slice\n",
      "  tuning[:,itype] = np.nanmean(data[cell_criteria][:,these_trials],1)\n"
     ]
    },
    {
     "name": "stdout",
     "output_type": "stream",
     "text": [
      "<HDF5 group \"/session_200109_M0755\" (13 members)>\n",
      "decon\n",
      "0.030753968253968252\n"
     ]
    },
    {
     "name": "stderr",
     "output_type": "stream",
     "text": [
      "/Users/dan/Documents/code/adesnal/pyute.py:1204: RuntimeWarning: Mean of empty slice\n",
      "  tuning[:,itype] = np.nanmean(data[cell_criteria][:,these_trials],1)\n"
     ]
    },
    {
     "name": "stdout",
     "output_type": "stream",
     "text": [
      "<HDF5 group \"/session_200819_M0638\" (13 members)>\n",
      "decon\n",
      "0.24503968253968253\n"
     ]
    },
    {
     "name": "stderr",
     "output_type": "stream",
     "text": [
      "/Users/dan/Documents/code/adesnal/pyute.py:1204: RuntimeWarning: Mean of empty slice\n",
      "  tuning[:,itype] = np.nanmean(data[cell_criteria][:,these_trials],1)\n"
     ]
    },
    {
     "name": "stdout",
     "output_type": "stream",
     "text": [
      "/Users/dan/Documents/notebooks/mossing-PC/shared_data/vip_l23_data_struct.hdf5\n",
      "<HDF5 group \"/session_180321_M7955\" (8 members)>\n",
      "<HDF5 group \"/session_180412_M7955\" (8 members)>\n",
      "decon\n",
      "0.989\n",
      "<HDF5 group \"/session_180516_M8956\" (9 members)>\n",
      "decon\n",
      "0.725\n",
      "<HDF5 group \"/session_180519_M8959\" (9 members)>\n",
      "decon\n",
      "0.9425\n",
      "<HDF5 group \"/session_180528_M8959\" (9 members)>\n",
      "decon\n",
      "0.6616666666666666\n"
     ]
    },
    {
     "name": "stderr",
     "output_type": "stream",
     "text": [
      "/Users/dan/Documents/code/adesnal/pyute.py:1204: RuntimeWarning: Mean of empty slice\n",
      "  tuning[:,itype] = np.nanmean(data[cell_criteria][:,these_trials],1)\n"
     ]
    },
    {
     "name": "stdout",
     "output_type": "stream",
     "text": [
      "<HDF5 group \"/session_180531_M8961\" (9 members)>\n",
      "decon\n",
      "0.6375\n"
     ]
    },
    {
     "name": "stderr",
     "output_type": "stream",
     "text": [
      "/Users/dan/Documents/code/adesnal/pyute.py:1204: RuntimeWarning: Mean of empty slice\n",
      "  tuning[:,itype] = np.nanmean(data[cell_criteria][:,these_trials],1)\n"
     ]
    },
    {
     "name": "stdout",
     "output_type": "stream",
     "text": [
      "<HDF5 group \"/session_180618_M8956\" (9 members)>\n",
      "decon\n",
      "0.9958333333333333\n",
      "<HDF5 group \"/session_180719_M8961\" (8 members)>\n",
      "decon\n",
      "0.009166666666666667\n"
     ]
    },
    {
     "name": "stderr",
     "output_type": "stream",
     "text": [
      "/Users/dan/Documents/code/adesnal/pyute.py:1204: RuntimeWarning: Mean of empty slice\n",
      "  tuning[:,itype] = np.nanmean(data[cell_criteria][:,these_trials],1)\n"
     ]
    },
    {
     "name": "stdout",
     "output_type": "stream",
     "text": [
      "<HDF5 group \"/session_180720_M8961\" (8 members)>\n",
      "decon\n",
      "0.04583333333333333\n"
     ]
    },
    {
     "name": "stderr",
     "output_type": "stream",
     "text": [
      "/Users/dan/Documents/code/adesnal/pyute.py:1204: RuntimeWarning: Mean of empty slice\n",
      "  tuning[:,itype] = np.nanmean(data[cell_criteria][:,these_trials],1)\n"
     ]
    },
    {
     "name": "stdout",
     "output_type": "stream",
     "text": [
      "<HDF5 group \"/session_180903_M8961\" (9 members)>\n",
      "decon\n",
      "0.8341666666666666\n",
      "<HDF5 group \"/session_190710_M0208\" (13 members)>\n",
      "decon\n",
      "0.27628968253968256\n"
     ]
    },
    {
     "name": "stderr",
     "output_type": "stream",
     "text": [
      "/Users/dan/Documents/code/adesnal/pyute.py:1204: RuntimeWarning: Mean of empty slice\n",
      "  tuning[:,itype] = np.nanmean(data[cell_criteria][:,these_trials],1)\n"
     ]
    },
    {
     "name": "stdout",
     "output_type": "stream",
     "text": [
      "<HDF5 group \"/session_191215_M0385\" (13 members)>\n",
      "decon\n",
      "0.18998015873015872\n"
     ]
    },
    {
     "name": "stderr",
     "output_type": "stream",
     "text": [
      "/Users/dan/Documents/code/adesnal/pyute.py:1204: RuntimeWarning: Mean of empty slice\n",
      "  tuning[:,itype] = np.nanmean(data[cell_criteria][:,these_trials],1)\n"
     ]
    },
    {
     "name": "stdout",
     "output_type": "stream",
     "text": [
      "<HDF5 group \"/session_200103_M0388\" (13 members)>\n",
      "decon\n",
      "0.08085317460317461\n"
     ]
    },
    {
     "name": "stderr",
     "output_type": "stream",
     "text": [
      "/Users/dan/Documents/code/adesnal/pyute.py:1204: RuntimeWarning: Mean of empty slice\n",
      "  tuning[:,itype] = np.nanmean(data[cell_criteria][:,these_trials],1)\n",
      "/Users/dan/Documents/code/adesnal/sim_utils.py:183: FutureWarning: Using a non-tuple sequence for multidimensional indexing is deprecated; use `arr[tuple(seq)]` instead of `arr[seq]`. In the future this will be interpreted as an array index, `arr[np.array(seq)]`, which will result either in an error or a different result.\n",
      "  \n",
      "/opt/anaconda3/envs/py3/lib/python3.6/site-packages/autograd/tracer.py:48: RuntimeWarning: Mean of empty slice\n",
      "  return f_raw(*args, **kwargs)\n",
      "/opt/anaconda3/envs/py3/lib/python3.6/site-packages/numpy/core/_asarray.py:136: VisibleDeprecationWarning: Creating an ndarray from ragged nested sequences (which is a list-or-tuple of lists-or-tuples-or ndarrays with different lengths or shapes) is deprecated. If you meant to do this, you must specify 'dtype=object' when creating the ndarray\n",
      "  return array(a, dtype, copy=False, order=order, subok=True)\n"
     ]
    }
   ],
   "source": [
    "#######################\n",
    "#parameters\n",
    "\n",
    "nsize,ncontrast = 5,6\n",
    "to_exclude = ['session_'+exptname for exptname in ['180714_M9053','180321_M7955', '180519_M8959', '180531_M8961',\\\n",
    "                                                 '180618_M8956','190202_M10075', '190620_M10619','200103_M0388']]\n",
    "\n",
    "#######################\n",
    "#Files to analyze\n",
    "\n",
    "reload(sim_utils)\n",
    "run_speed_cutoff = 1\n",
    "\n",
    "for ctr_cutoff in [11]: #\n",
    "\n",
    "    for pval_cutoff in [0.05]: #\n",
    "\n",
    "        for running_pct_cutoff in [0.1]: #\n",
    "\n",
    "\n",
    "            for lt in [False,True]:\n",
    "\n",
    "                dsnames = [dsbase+x+'_data_struct.hdf5' for x in ['pyr_l4','pyr_l23','pv_l23','sst_l23','vip_l23']]\n",
    "\n",
    "\n",
    "\n",
    "                ncelltypes = len(dsnames)\n",
    "                selection = [None for itype in range(ncelltypes)]\n",
    "                for itype in range(ncelltypes):\n",
    "                    with ut.hdf5read(dsnames[itype]) as ds:\n",
    "                        keylist = list(ds.keys())\n",
    "                        nexpt = len(keylist)\n",
    "                        to_keep = np.array([k not in to_exclude for k in keylist])\n",
    "                        selection[itype] = np.arange(nexpt)[to_keep]\n",
    "\n",
    "\n",
    "\n",
    "                #########################################################\n",
    "                #########################################################\n",
    "                # Run\n",
    "\n",
    "                rs = sim_utils.gen_rs(dsnames=dsnames,selection=selection,dcutoff=ctr_cutoff,pval_cutoff=pval_cutoff,slices=None,running=lt,fill_nans_under_cutoff=True,running_pct_cutoff=running_pct_cutoff,run_speed_cutoff=run_speed_cutoff)\n",
    "                #r_spatial=gen_rspatial(dsnames=dsnames,selection=selection,dcutoffs=[0,5,10,15],pval_cutoff=pval_cutoff,slices=None,datafield='decon')\n",
    "                #########################################################\n",
    "                paramstring='-running_'+str(lt)+'-pval_cutoff_'+str(pval_cutoff)+'-ctrcutoff_'+str(ctr_cutoff)+'-running_pct_cutoff_'+str(running_pct_cutoff)\n",
    "\n",
    "\n",
    "                #Save rs\n",
    "\n",
    "                with open(outputDir+'rs'+paramstring+'.pickle', 'wb') as handle:\n",
    "                    pickle.dump(rs, handle, protocol=pickle.HIGHEST_PROTOCOL)\n",
    "\n",
    "                scipy.io.savemat(outputDir+'rs'+paramstring+'.mat', mdict={'rs': rs})    \n",
    "\n",
    "\n"
   ]
  },
  {
   "cell_type": "markdown",
   "metadata": {},
   "source": [
    "# Locomotion modulation"
   ]
  },
  {
   "cell_type": "code",
   "execution_count": 11,
   "metadata": {},
   "outputs": [
    {
     "data": {
      "image/png": "[encoded data removed]",
      "text/plain": [
       "<Figure size 1200x1200 with 24 Axes>"
      ]
     },
     "metadata": {},
     "output_type": "display_data"
    }
   ],
   "source": [
    "pval_cutoff = 0.05\n",
    "ctr_cutoff = 11\n",
    "running_pct_cutoff = 0.1\n",
    "\n",
    "paramstring_loco='-running_'+str(True)+'-pval_cutoff_'+str(pval_cutoff)+'-ctrcutoff_'+str(ctr_cutoff)    +'-running_pct_cutoff_'+str(running_pct_cutoff)\n",
    "with open(outputDir+'rs'+paramstring_loco+'.pickle', 'rb') as handle_loco:\n",
    "    rs_locomotion=pickle.load(handle_loco)\n",
    "\n",
    "\n",
    "paramstring_stat='-running_'+str(False)+'-pval_cutoff_'+str(pval_cutoff)+'-ctrcutoff_'+str(ctr_cutoff)     +'-running_pct_cutoff_'+str(running_pct_cutoff)\n",
    "with open(outputDir+'rs'+paramstring_stat+'.pickle', 'rb') as handle_stat:\n",
    "    rs_stationay=pickle.load(handle_stat)\n",
    "    \n",
    "    \n",
    "\n",
    "this_pops={'E','P','S','V'};\n",
    "modal_ucontrast=[0, 6, 12, 25 ,50, 100];\n",
    "\n",
    "c_l=len(modal_ucontrast);\n",
    "n_l=4;\n",
    "s_l=0\n",
    "fig, axs = plt.subplots(n_l,len(modal_ucontrast), figsize=(12, 12),dpi= 100, facecolor='w', edgecolor='k')\n",
    "fig.subplots_adjust(hspace = .5, wspace=.3)\n",
    "\n",
    "\n",
    "for k in range(n_l):\n",
    "    for i in range(c_l):\n",
    "\n",
    "\n",
    "        runing=rs_locomotion[k+1][0][:,s_l,i]\n",
    "        stationary=rs_stationay[k+1][0][:,s_l,i]\n",
    "\n",
    "        diffs=runing-stationary;\n",
    "        diffs=diffs[~np.isnan(diffs)]\n",
    "\n",
    "\n",
    "        bins=np.linspace(np.percentile(diffs,5),np.percentile(diffs,95),15);\n",
    "        axs[k,i].hist(diffs,bins)\n",
    "        axs[k,i].set_xlim([-0.1, 0.1])\n",
    "\n",
    "        axs[k,i].axvline(0,c='k',linestyle='dashed')\n",
    "        axs[k,i].axvline(np.nanmean(diffs),c='k')\n",
    "\n"
   ]
  },
  {
   "cell_type": "code",
   "execution_count": 15,
   "metadata": {},
   "outputs": [
    {
     "data": {
      "image/png": "[encoded data removed]",
      "text/plain": [
       "<Figure size 432x288 with 1 Axes>"
      ]
     },
     "metadata": {
      "needs_background": "light"
     },
     "output_type": "display_data"
    }
   ],
   "source": [
    "ucontrast=[0,6,12,25,50,100]\n",
    "\n",
    "for k in range(n_l):\n",
    "    plt.plot(ucontrast,np.nanmean(rs_stationay[k+1][0][:,0,:],0).transpose())"
   ]
  },
  {
   "cell_type": "code",
   "execution_count": 14,
   "metadata": {},
   "outputs": [
    {
     "data": {
      "text/plain": [
       "(532, 5, 6)"
      ]
     },
     "execution_count": 14,
     "metadata": {},
     "output_type": "execute_result"
    }
   ],
   "source": [
    "rs_stationay[k+1][0].shape"
   ]
  },
  {
   "cell_type": "code",
   "execution_count": null,
   "metadata": {},
   "outputs": [],
   "source": []
  }
 ],
 "metadata": {
  "kernelspec": {
   "display_name": "Python 3",
   "language": "python",
   "name": "python3"
  },
  "language_info": {
   "codemirror_mode": {
    "name": "ipython",
    "version": 3
   },
   "file_extension": ".py",
   "mimetype": "text/x-python",
   "name": "python",
   "nbconvert_exporter": "python",
   "pygments_lexer": "ipython3",
   "version": "3.6.13"
  }
 },
 "nbformat": 4,
 "nbformat_minor": 2
}
