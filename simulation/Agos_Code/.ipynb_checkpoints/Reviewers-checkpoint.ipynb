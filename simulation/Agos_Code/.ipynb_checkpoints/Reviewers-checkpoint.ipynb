{
 "cells": [
  {
   "cell_type": "code",
   "execution_count": 1,
   "metadata": {
    "scrolled": true
   },
   "outputs": [
    {
     "data": {
      "text/plain": [
       "<module 'calnet.utils' from '/Users/agos/Dropbox/ColumbiaProjects/Dans_Data_Package/analysis_dan/calnet/utils.py'>"
      ]
     },
     "execution_count": 1,
     "metadata": {},
     "output_type": "execute_result"
    }
   ],
   "source": [
    "\n",
    "import sys\n",
    "sys.path\n",
    "sys.path.append('/Users/agos/Dropbox/ColumbiaProjects/Dans_Data_Package/analysis_dan')\n",
    "sys.path.append('/Users/agos/Dropbox/ColumbiaProjects/Dans_Data_Package/OASIS-master')\n",
    "\n",
    "import warnings\n",
    "warnings.filterwarnings('ignore')\n",
    "\n",
    "import calnet.calnet as cc\n",
    "import calnet.dynamics as dyn\n",
    "import numpy as np\n",
    "from importlib import reload\n",
    "import pdb\n",
    "import matplotlib.pyplot as plt\n",
    "import glob\n",
    "import calnet.utils as utils\n",
    "import pyute as ut\n",
    "import size_contrast_analysis as sca\n",
    "import size_contrast_figures as scf\n",
    "import size_contrast_opto_figures as scof\n",
    "import opto_utils\n",
    "import os\n",
    "import scipy.stats as sst\n",
    "reload(cc)\n",
    "reload(utils)"
   ]
  },
  {
   "cell_type": "code",
   "execution_count": 2,
   "metadata": {},
   "outputs": [
    {
     "ename": "SyntaxError",
     "evalue": "invalid syntax (<ipython-input-2-be6f2d53a33a>, line 2)",
     "output_type": "error",
     "traceback": [
      "\u001b[0;36m  File \u001b[0;32m\"<ipython-input-2-be6f2d53a33a>\"\u001b[0;36m, line \u001b[0;32m2\u001b[0m\n\u001b[0;31m    u=mu/np.sqrt(2*sigma^^2)\u001b[0m\n\u001b[0m                         ^\u001b[0m\n\u001b[0;31mSyntaxError\u001b[0m\u001b[0;31m:\u001b[0m invalid syntax\n"
     ]
    }
   ],
   "source": [
    "def F_millertroyer(mu,sigma):\n",
    "    u=mu/np.sqrt(2*sigma^^2)\n",
    "    x=mu/2*(1+np.erf(u))+sigma/np.sqrt(2*np.pi)*(np.exp(u**2)) +\n",
    "    return x"
   ]
  },
  {
   "cell_type": "code",
   "execution_count": null,
   "metadata": {},
   "outputs": [],
   "source": []
  }
 ],
 "metadata": {
  "kernelspec": {
   "display_name": "Python 3",
   "language": "python",
   "name": "python3"
  },
  "language_info": {
   "codemirror_mode": {
    "name": "ipython",
    "version": 3
   },
   "file_extension": ".py",
   "mimetype": "text/x-python",
   "name": "python",
   "nbconvert_exporter": "python",
   "pygments_lexer": "ipython3",
   "version": "3.6.13"
  },
  "vscode": {
   "interpreter": {
    "hash": "d7b89e158b719c02a21186c9646700ecf5a8cc5b1b6f738df9b6ffa75e5e74e4"
   }
  }
 },
 "nbformat": 4,
 "nbformat_minor": 4
}
