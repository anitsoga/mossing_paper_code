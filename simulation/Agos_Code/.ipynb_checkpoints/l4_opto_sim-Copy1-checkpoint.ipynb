{
 "cells": [
  {
   "cell_type": "code",
   "execution_count": 1,
   "metadata": {},
   "outputs": [
    {
     "name": "stderr",
     "output_type": "stream",
     "text": [
      "In /Users/agos/anaconda3/lib/python3.6/site-packages/matplotlib/mpl-data/stylelib/_classic_test.mplstyle: \n",
      "The text.latex.preview rcparam was deprecated in Matplotlib 3.3 and will be removed two minor releases later.\n",
      "In /Users/agos/anaconda3/lib/python3.6/site-packages/matplotlib/mpl-data/stylelib/_classic_test.mplstyle: \n",
      "The mathtext.fallback_to_cm rcparam was deprecated in Matplotlib 3.3 and will be removed two minor releases later.\n",
      "In /Users/agos/anaconda3/lib/python3.6/site-packages/matplotlib/mpl-data/stylelib/_classic_test.mplstyle: Support for setting the 'mathtext.fallback_to_cm' rcParam is deprecated since 3.3 and will be removed two minor releases later; use 'mathtext.fallback : 'cm' instead.\n",
      "In /Users/agos/anaconda3/lib/python3.6/site-packages/matplotlib/mpl-data/stylelib/_classic_test.mplstyle: \n",
      "The validate_bool_maybe_none function was deprecated in Matplotlib 3.3 and will be removed two minor releases later.\n",
      "In /Users/agos/anaconda3/lib/python3.6/site-packages/matplotlib/mpl-data/stylelib/_classic_test.mplstyle: \n",
      "The savefig.jpeg_quality rcparam was deprecated in Matplotlib 3.3 and will be removed two minor releases later.\n",
      "In /Users/agos/anaconda3/lib/python3.6/site-packages/matplotlib/mpl-data/stylelib/_classic_test.mplstyle: \n",
      "The keymap.all_axes rcparam was deprecated in Matplotlib 3.3 and will be removed two minor releases later.\n",
      "In /Users/agos/anaconda3/lib/python3.6/site-packages/matplotlib/mpl-data/stylelib/_classic_test.mplstyle: \n",
      "The animation.avconv_path rcparam was deprecated in Matplotlib 3.3 and will be removed two minor releases later.\n",
      "In /Users/agos/anaconda3/lib/python3.6/site-packages/matplotlib/mpl-data/stylelib/_classic_test.mplstyle: \n",
      "The animation.avconv_args rcparam was deprecated in Matplotlib 3.3 and will be removed two minor releases later.\n",
      "/Users/agos/Dropbox/ColumbiaProjects/Dans_Data_Package/OASIS-master/oasis/functions.py:14: UserWarning: Could not find cvxpy. Don't worry, you can still use OASIS, just not the slower interior point methods we compared to in the papers.\n",
      "  \"just not the slower interior point methods we compared to in the papers.\")\n"
     ]
    },
    {
     "data": {
      "text/plain": [
       "<module 'calnet.utils' from '/Users/agos/Dropbox/ColumbiaProjects/Dans_Data_Package/analysis_dan/calnet/utils.py'>"
      ]
     },
     "execution_count": 1,
     "metadata": {},
     "output_type": "execute_result"
    }
   ],
   "source": [
    "import sys\n",
    "sys.path\n",
    "sys.path.append('/Users/agos/Dropbox/ColumbiaProjects/Dans_Data_Package/analysis_dan')\n",
    "sys.path.append('/Users/agos/Dropbox/ColumbiaProjects/Dans_Data_Package/OASIS-master')\n",
    "\n",
    "import calnet.calnet as cc\n",
    "import calnet.dynamics as dyn\n",
    "import numpy as np\n",
    "from importlib import reload\n",
    "import pdb\n",
    "import matplotlib.pyplot as plt\n",
    "import glob\n",
    "import calnet.utils as utils\n",
    "import pyute as ut\n",
    "import size_contrast_analysis as sca\n",
    "reload(cc)\n",
    "reload(utils)"
   ]
  },
  {
   "cell_type": "code",
   "execution_count": 2,
   "metadata": {},
   "outputs": [],
   "source": [
    "path2calnet_data='/Users/agos/Dropbox/ColumbiaProjects/Project_DansPaper'\n",
    "\n",
    "npyfile_no_wpcvip = np.load(path2calnet_data+'/calnet_data/dynamics/l4_opto_tavg_w_and_wo_wpcvip_201203g.npy',allow_pickle=True)[()]"
   ]
  },
  {
   "cell_type": "code",
   "execution_count": 3,
   "metadata": {},
   "outputs": [],
   "source": [
    "# npyfile = np.load('../shared_data/calnet_data/dynamics/pc_small_opto_tavg_201203g.npy',allow_pickle=True)[()]\n",
    "# npyfile = np.load('../shared_data/calnet_data/dynamics/l4_opto_tavg_201203g.npy',allow_pickle=True)[()]\n",
    "npyfile_vip_sil = np.load(path2calnet_data+'/calnet_data/dynamics/l4_opto_tavg_vip_silencing_201203g.npy',allow_pickle=True)[()]"
   ]
  },
  {
   "cell_type": "code",
   "execution_count": 4,
   "metadata": {},
   "outputs": [],
   "source": [
    "# npyfile = np.load('../shared_data/calnet_data/dynamics/pc_small_opto_tavg_201203g.npy',allow_pickle=True)[()]\n",
    "npyfile = np.load(path2calnet_data+'/calnet_data/dynamics/l4_opto_tavg_201203g.npy',allow_pickle=True)[()]\n",
    "# npyfile = np.load('../shared_data/calnet_data/dynamics/l4_opto_tavg_vip_silencing_201203g.npy',allow_pickle=True)[()]"
   ]
  },
  {
   "cell_type": "code",
   "execution_count": 5,
   "metadata": {},
   "outputs": [],
   "source": [
    "opto_levels = 1*np.linspace(-1,1,21)\n",
    "# opto_levels = np.array((-0.3,0,0.3))"
   ]
  },
  {
   "cell_type": "code",
   "execution_count": 6,
   "metadata": {},
   "outputs": [],
   "source": [
    "YY_opto = npyfile['YY_opto'][:,:,:,np.newaxis,:]\n",
    "YY_opto_no_pcpc = npyfile['YY_opto_no_pcpc'][:,:,:,np.newaxis,:]\n",
    "YY_opto_no_pcpv = npyfile['YY_opto_no_pcpv'][:,:,:,np.newaxis,:]"
   ]
  },
  {
   "cell_type": "code",
   "execution_count": 7,
   "metadata": {},
   "outputs": [
    {
     "data": {
      "text/plain": [
       "(372, 21, 36, 1, 8)"
      ]
     },
     "execution_count": 7,
     "metadata": {},
     "output_type": "execute_result"
    }
   ],
   "source": [
    "YY_opto.shape"
   ]
  },
  {
   "cell_type": "code",
   "execution_count": 83,
   "metadata": {},
   "outputs": [],
   "source": [
    "weights_files = glob.glob(path2calnet_data+'/calnet_data/weights/weights_201203g/*.npy')\n",
    "\n",
    "weights_files.sort()\n",
    "\n",
    "reload(cc)\n",
    "nwt = len(weights_files)\n",
    "mdls = [None for iwt in range(nwt)]\n",
    "losses = np.zeros((nwt,))\n",
    "for iwt in range(nwt):\n",
    "#     wtfile = 'weights_'+good_fits[iwt]+'.npy'\n",
    "#     wtdict = np.load(wtbase+wtfile,allow_pickle=True)[()]\n",
    "    wtdict = np.load(weights_files[iwt],allow_pickle=True)[()]\n",
    "    mdls[iwt] = cc.ModelOri(wtdict,nT=1)\n",
    "    losses[iwt] = mdls[iwt].loss\n",
    "    \n",
    "mdls_no_pcpv = [None for iwt in range(nwt)]\n",
    "for iwt in range(nwt):\n",
    "    wtdict = np.load(weights_files[iwt],allow_pickle=True)[()]\n",
    "    wtdict['Wmy'][[0,0,3,3],[0,3,0,3]] = 0\n",
    "    mdls_no_pcpv[iwt] = cc.ModelOri(wtdict,nT=1)\n",
    "    \n",
    "mdls_no_pcpc = [None for iwt in range(nwt)]\n",
    "for iwt in range(nwt):\n",
    "    wtdict = np.load(weights_files[iwt],allow_pickle=True)[()]\n",
    "    wtdict['Wmy'][0,0] = 0\n",
    "    mdls_no_pcpc[iwt] = cc.ModelOri(wtdict,nT=1)\n",
    "    \n",
    "mdls_no_pcvip = [None for iwt in range(nwt)]\n",
    "for iwt in range(nwt):\n",
    "    wtdict = np.load(weights_files[iwt],allow_pickle=True)[()]\n",
    "    wtdict['Wmy'][0,2] = 0\n",
    "    wtdict['Wmx'][0,2] = 0\n",
    "    mdls_no_pcvip[iwt] = cc.ModelOri(wtdict,nT=1)"
   ]
  },
  {
   "cell_type": "code",
   "execution_count": 85,
   "metadata": {},
   "outputs": [],
   "source": [
    "weights_files;"
   ]
  },
  {
   "cell_type": "code",
   "execution_count": 86,
   "metadata": {},
   "outputs": [],
   "source": [
    "iwt = 0\n",
    "nQ,nS,nT = mdls[iwt].nQ,mdls[iwt].nS,mdls[iwt].nT\n",
    "bltiles = np.zeros((nwt,nQ*nS*nT))\n",
    "amps = np.ones((nwt,nQ*nS*nT))\n",
    "for iwt in range(nwt):\n",
    "    wtdict = np.load(weights_files[iwt],allow_pickle=True)[()]\n",
    "    if 'bl' in wtdict:\n",
    "        bl = wtdict['bl']\n",
    "        bltiles[iwt] = np.tile(bl,nS*nT)\n",
    "    if 'amp' in wtdict:\n",
    "        amp = wtdict['amp']\n",
    "        amps[iwt] = amp"
   ]
  },
  {
   "cell_type": "code",
   "execution_count": 87,
   "metadata": {},
   "outputs": [],
   "source": [
    "    low_loss = (losses<np.nanpercentile(losses,10))\n",
    "    \n",
    "    mdls = [mdl for (mdl,ll) in zip(mdls,low_loss) if ll]\n",
    "    mdls_no_pcpv = [mdl for (mdl,ll) in zip(mdls_no_pcpv,low_loss) if ll]\n",
    "    mdls_no_pcpc = [mdl for (mdl,ll) in zip(mdls_no_pcpc,low_loss) if ll]\n",
    "    mdls_no_pcvip = [mdl for (mdl,ll) in zip(mdls_no_pcpc,low_loss) if ll]\n",
    "    \n",
    "    YY_opto = npyfile['YY_opto'][low_loss,:,:,np.newaxis,:]\n",
    "    YY_opto_no_pcpc = npyfile['YY_opto_no_pcpc'][low_loss,:,:,np.newaxis,:]\n",
    "    YY_opto_no_pcpv = npyfile['YY_opto_no_pcpv'][low_loss,:,:,np.newaxis,:]\n",
    "    YY_opto_vip_sil = npyfile_vip_sil['YY_opto'][low_loss,:,:,np.newaxis,:]\n",
    "    YY_opto_no_pcvip = npyfile_no_wpcvip['YY_opto_no_pcvip'][low_loss,:,:,np.newaxis,:]\n",
    "\n",
    "    losses = losses[low_loss]\n",
    "    \n",
    "    nwt = len(mdls)\n",
    "    iwt = 0\n",
    "    itype = 0\n",
    "\n",
    "    nN = mdls[iwt].nN\n",
    "    ntypes = mdls[iwt].nQ*mdls[iwt].nS*mdls[iwt].nT\n",
    "    this_mdl,this_YY = mdls_no_pcpc.copy(),YY_opto_no_pcpc.copy()\n",
    "    # this_mdl,this_YY = mdls_no_pcpv.copy(),YY_opto_no_pcpv.copy()\n",
    "    # this_mdl,this_YY = mdls.copy(),YY_opto.copy()\n",
    "    network_resp = np.zeros((nwt,opto_levels.shape[0],nN,ntypes))\n",
    "    network_resp_no_pcpc = np.zeros((nwt,opto_levels.shape[0],nN,ntypes))\n",
    "    network_resp_no_pcpv = np.zeros((nwt,opto_levels.shape[0],nN,ntypes))\n",
    "    network_resp_vip_sil = np.zeros((nwt,3,nN,ntypes))\n",
    "    network_resp_no_pcvip = np.zeros((nwt,3,nN,ntypes))\n",
    "    cell_intrinsic_resp = np.zeros((nwt,opto_levels.shape[0],nN,ntypes))\n",
    "    for iwt in range(nwt):\n",
    "        network_resp[iwt] = np.nanmean(YY_opto[iwt],2) # time avg\n",
    "        network_resp_no_pcpc[iwt] = np.nanmean(YY_opto_no_pcpc[iwt],2)\n",
    "        network_resp_no_pcpv[iwt] = np.nanmean(YY_opto_no_pcpv[iwt],2)\n",
    "        network_resp_vip_sil[iwt] = np.nanmean(YY_opto_vip_sil[iwt],2) # time avg\n",
    "        network_resp_no_pcvip[iwt] = np.nanmean(YY_opto_no_pcvip[iwt],2)\n",
    "\n",
    "        for ilevel in range(opto_levels.shape[0]):\n",
    "            cell_intrinsic_resp[iwt,ilevel] = this_mdl[iwt].compute_f_(opto_levels[ilevel]+this_mdl[iwt].Eta,this_mdl[iwt].Xi,this_mdl[iwt].s02)\n",
    "            "
   ]
  },
  {
   "cell_type": "code",
   "execution_count": 88,
   "metadata": {},
   "outputs": [
    {
     "data": {
      "image/png": "[encoded data removed]",
      "text/plain": [
       "<Figure size 180x180 with 1 Axes>"
      ]
     },
     "metadata": {
      "needs_background": "light"
     },
     "output_type": "display_data"
    },
    {
     "data": {
      "image/png": "[encoded data removed]",
      "text/plain": [
       "<Figure size 180x180 with 1 Axes>"
      ]
     },
     "metadata": {
      "needs_background": "light"
     },
     "output_type": "display_data"
    }
   ],
   "source": [
    "pct_l,pct_u = 16,84\n",
    "for istim,title in zip([0,5],['0% contrast','5$^o$ size, 100% contrast']):\n",
    "    plt.figure(figsize=(2.5,2.5))\n",
    "#     plt.plot(opto_levels,np.nanmean(cell_intrinsic_resp,0)[:,istim,itype],c='k',linestyle='dashed',label='cell-intrinsic nonlinearity')\n",
    "#     plt.fill_between(opto_levels,np.nanpercentile(cell_intrinsic_resp,pct_l,axis=0)[:,istim,itype],np.nanpercentile(cell_intrinsic_resp,pct_u,axis=0)[:,istim,itype],facecolor='k',alpha=0.5)\n",
    "    \n",
    "    plt.plot(opto_levels,np.nanmean(network_resp,0)[:,istim,itype],c='k',label='baseline')\n",
    "    plt.fill_between(opto_levels,np.nanpercentile(network_resp,pct_l,axis=0)[:,istim,itype],np.nanpercentile(network_resp,pct_u,axis=0)[:,istim,itype],facecolor='k',alpha=0.5)\n",
    "    \n",
    "    plt.plot(opto_levels,np.nanmean(network_resp_no_pcpc,0)[:,istim,itype],c=np.array((0.5,0.5,0.5)),label='PC$\\leftrightarrow$PC weights deleted')\n",
    "    plt.fill_between(opto_levels,np.nanpercentile(network_resp_no_pcpc,pct_l,axis=0)[:,istim,itype],np.nanpercentile(network_resp_no_pcpc,pct_u,axis=0)[:,istim,itype],facecolor=np.array((0.5,0.5,0.5)),label='PC$\\leftrightarrow$PC weights deleted',alpha=0.5)\n",
    "    \n",
    "    plt.plot(opto_levels,np.nanmean(network_resp_no_pcpv,0)[:,istim,itype],c=np.array((0,0,1)),label='PC$\\leftrightarrow$PC weights deleted')\n",
    "    plt.fill_between(opto_levels,np.nanpercentile(network_resp_no_pcpv,pct_l,axis=0)[:,istim,itype],np.nanpercentile(network_resp_no_pcpv,pct_u,axis=0)[:,istim,itype],facecolor=np.array((0,0,1)),label='PC$\\leftrightarrow$PC weights deleted',alpha=0.5)\n",
    "    \n",
    "    # plt.legend()\n",
    "    plt.xlim((-1,1))\n",
    "    plt.ylim((-0.1,2))\n",
    "    ut.erase_top_right()\n",
    "    plt.xlabel('simulated current injection')\n",
    "    plt.ylabel('simulated firing rate')\n",
    "    # plt.title('PC$\\leftrightarrow$PC weights deleted')\n",
    "    plt.tight_layout()\n",
    "#     plt.savefig('figures/network_nonlinearity_w_and_wo_wpcpc_stim_%d_no_title.jpg'%istim,dpi=300)\n",
    "#     plt.title(title)\n",
    "    plt.tight_layout()\n",
    "#     plt.savefig('figures/network_nonlinearity_w_and_wo_wpcpc_stim_%d.jpg'%istim,dpi=300)\n"
   ]
  },
  {
   "cell_type": "code",
   "execution_count": 93,
   "metadata": {},
   "outputs": [
    {
     "name": "stderr",
     "output_type": "stream",
     "text": [
      "/Users/agos/anaconda3/lib/python3.6/site-packages/ipykernel_launcher.py:27: UserWarning: Tight layout not applied. The left and right margins cannot be made large enough to accommodate all axes decorations. \n",
      "/Users/agos/anaconda3/lib/python3.6/site-packages/ipykernel_launcher.py:30: UserWarning: Tight layout not applied. The left and right margins cannot be made large enough to accommodate all axes decorations. \n",
      "/Users/agos/anaconda3/lib/python3.6/site-packages/ipykernel_launcher.py:27: UserWarning: Tight layout not applied. The left and right margins cannot be made large enough to accommodate all axes decorations. \n",
      "/Users/agos/anaconda3/lib/python3.6/site-packages/ipykernel_launcher.py:30: UserWarning: Tight layout not applied. The left and right margins cannot be made large enough to accommodate all axes decorations. \n"
     ]
    },
    {
     "data": {
      "image/png": "[encoded data removed]",
      "text/plain": [
       "<Figure size 180x180 with 1 Axes>"
      ]
     },
     "metadata": {
      "needs_background": "light"
     },
     "output_type": "display_data"
    },
    {
     "data": {
      "image/png": "[encoded data removed]",
      "text/plain": [
       "<Figure size 180x180 with 1 Axes>"
      ]
     },
     "metadata": {
      "needs_background": "light"
     },
     "output_type": "display_data"
    }
   ],
   "source": [
    "pct_l,pct_u = 16,84\n",
    "xlims = [(0.3,0.7),(0.7,1.3)]\n",
    "ylims = [(0.2,0.6),(0.6,1.3)]\n",
    "for istim,title,xlim,ylim in zip([0,5],['0% contrast','5$^o$ size, 100% contrast'],xlims,ylims):\n",
    "    plt.figure(figsize=(2.5,2.5))\n",
    "#     plt.plot(opto_levels,np.nanmean(cell_intrinsic_resp,0)[:,istim,itype],c='k',linestyle='dashed',label='cell-intrinsic nonlinearity')\n",
    "#     plt.fill_between(opto_levels,np.nanpercentile(cell_intrinsic_resp,pct_l,axis=0)[:,istim,itype],np.nanpercentile(cell_intrinsic_resp,pct_u,axis=0)[:,istim,itype],facecolor='k',alpha=0.5)\n",
    "    \n",
    "    plt.plot(opto_levels,np.nanmean(network_resp,0)[:,istim,itype],c='k',label='baseline')\n",
    "    plt.fill_between(opto_levels,np.nanpercentile(network_resp,pct_l,axis=0)[:,istim,itype],np.nanpercentile(network_resp,pct_u,axis=0)[:,istim,itype],facecolor='k',alpha=0.5)\n",
    "    \n",
    "    plt.plot(opto_levels,np.nanmean(network_resp_no_pcpc,0)[:,istim,itype],c=np.array((0.5,0.5,0.5)),label='PC$\\leftrightarrow$PC weights deleted')\n",
    "    plt.fill_between(opto_levels,np.nanpercentile(network_resp_no_pcpc,pct_l,axis=0)[:,istim,itype],np.nanpercentile(network_resp_no_pcpc,pct_u,axis=0)[:,istim,itype],facecolor=np.array((0.5,0.5,0.5)),label='PC$\\leftrightarrow$PC weights deleted',alpha=0.5)\n",
    "    \n",
    "    plt.plot(opto_levels,np.nanmean(network_resp_no_pcpv,0)[:,istim,itype],c=np.array((0,0,1)),label='PC$\\leftrightarrow$PV weights deleted')\n",
    "    plt.fill_between(opto_levels,np.nanpercentile(network_resp_no_pcpv,pct_l,axis=0)[:,istim,itype],np.nanpercentile(network_resp_no_pcpv,pct_u,axis=0)[:,istim,itype],facecolor=np.array((0,0,1)),label='PC$\\leftrightarrow$PV weights deleted',alpha=0.5)\n",
    "    \n",
    "    plt.legend(loc='center left', bbox_to_anchor=(1, 0.5))\n",
    "#     plt.xlim(xlim)\n",
    "#     plt.ylim(ylim)\n",
    "    plt.xlim((-1,1))\n",
    "    plt.ylim((-0.1,1.5))\n",
    "    ut.erase_top_right()\n",
    "    plt.xlabel('simulated current injection')\n",
    "    plt.ylabel('simulated firing rate')\n",
    "    # plt.title('PC$\\leftrightarrow$PC weights deleted')\n",
    "    plt.tight_layout()\n",
    "#     plt.savefig('figures/network_nonlinearity_w_and_wo_wpcpv_stim_%d_no_title.jpg'%istim,dpi=300)\n",
    "    plt.title(title)\n",
    "    plt.tight_layout()\n",
    "#     plt.savefig('figures/network_nonlinearity_w_and_wo_wpcpv_stim_%d.jpg'%istim,dpi=300)\n"
   ]
  },
  {
   "cell_type": "code",
   "execution_count": 90,
   "metadata": {},
   "outputs": [
    {
     "data": {
      "text/plain": [
       "array([13, 14, 14, 14, 15, 15, 13, 13, 14, 14, 14, 15, 13, 13, 14, 14, 15,\n",
       "       15, 13, 14, 14, 14, 15, 15, 13, 14, 14, 14, 14, 14, 13, 14, 14, 14,\n",
       "       14, 14])"
      ]
     },
     "execution_count": 90,
     "metadata": {},
     "output_type": "execute_result"
    }
   ],
   "source": [
    "np.digitize(mdls[0].XX[:,0],opto_levels)"
   ]
  },
  {
   "cell_type": "code",
   "execution_count": 91,
   "metadata": {},
   "outputs": [
    {
     "data": {
      "image/png": "[encoded data removed]",
      "text/plain": [
       "<Figure size 432x288 with 36 Axes>"
      ]
     },
     "metadata": {
      "needs_background": "light"
     },
     "output_type": "display_data"
    }
   ],
   "source": [
    "ibaseline = 15\n",
    "ilow = 10#12\n",
    "ihigh = 20#18\n",
    "itype = 0\n",
    "dr,dr_intrinsic,dr_up,dr_down = [np.zeros((nwt,6,6)) for ivar in range(4)]\n",
    "\n",
    "def compute_dr(network_resp,iopto,ibaseline,itype=0):\n",
    "    dr = np.reshape(network_resp[:,iopto,:,itype] - network_resp[:,ibaseline,:,itype],(nwt,6,6))\n",
    "    return dr\n",
    "\n",
    "dr = compute_dr(network_resp,ibaseline+1,ibaseline-1)#np.reshape(network_resp[:,ibaseline+1,:,itype]-network_resp[:,ibaseline-1,:,itype],(nwt,6,6))\n",
    "dr_intrinsic = compute_dr(cell_intrinsic_resp,ibaseline+1,ibaseline-1)#np.reshape(cell_intrinsic_resp[:,ibaseline+1,:,itype]-cell_intrinsic_resp[:,ibaseline-1,:,itype],(nwt,6,6))\n",
    "dr_up = compute_dr(network_resp,ihigh,ibaseline)# np.reshape(network_resp[:,ihigh,:,itype] - network_resp[:,ibaseline,:,itype],(nwt,6,6))\n",
    "dr_down = compute_dr(network_resp,ilow,ibaseline)# np.reshape(network_resp[:,ilow,:,itype] - network_resp[:,ibaseline,:,itype],(nwt,6,6))\n",
    "\n",
    "plt.figure()\n",
    "for istim in range(this_mdl[iwt].nN):\n",
    "    plt.subplot(6,6,istim+1)\n",
    "\n",
    "    plt.plot(opto_levels,np.nanmean(cell_intrinsic_resp[:,:,istim,itype],0),c=np.array((0.5,0.5,0.5)))\n",
    "    plt.plot(opto_levels,np.nanmean(network_resp[:,:,istim,itype],0),c='k')\n",
    "    plt.xlim((-1.5,1.5))\n",
    "    plt.ylim((-0.1,2))\n",
    "#     plt.axvline(0,c='k',linestyle='dashed')\n",
    "    ut.erase_top_right()\n",
    "    plt.axis('off')\n",
    "#     plt.xlabel('simulated current injection')\n",
    "#     plt.ylabel('simulated firing rate')\n",
    "#     plt.title('PC$\\leftrightarrow$PC weights deleted')\n",
    "#     plt.tight_layout()\n",
    "# plt.savefig('figures/intrinsic_vs_network_nonlinearity_no_wpcpc.eps')"
   ]
  },
  {
   "cell_type": "code",
   "execution_count": null,
   "metadata": {},
   "outputs": [],
   "source": [
    "import sim_utils\n",
    "def this_gen_size_tuning(flsc):\n",
    "    shp = flsc.shape\n",
    "    rflsc = flsc.reshape((shp[0]*shp[1],shp[2],shp[3]))\n",
    "    size_tuning = sim_utils.gen_size_tuning(rflsc).reshape((shp[0],shp[1],shp[2]+1,shp[3]))\n",
    "    return size_tuning"
   ]
  },
  {
   "cell_type": "code",
   "execution_count": null,
   "metadata": {},
   "outputs": [],
   "source": [
    "usize = np.array((5,8,13,22,36,60))\n",
    "usize0 = np.array((0,5,8,13,22,36,60))\n",
    "ilights = [ibaseline,ibaseline-5]\n",
    "nlights = len(ilights)\n",
    "plt.figure(figsize=(5,2.5))\n",
    "for iicontrast,icontrast in enumerate([1,5]):\n",
    "    plt.subplot(1,2,iicontrast+1)\n",
    "    ydata = this_gen_size_tuning(network_resp[:,ilights][:,:,:,itype].reshape((nwt,nlights,6,6)))[:,:,:,icontrast]\n",
    "    ut.plot_pct_errorbars_hillel(usize0,ydata)\n",
    "    plt.ylim((0,1.1))\n"
   ]
  },
  {
   "cell_type": "code",
   "execution_count": null,
   "metadata": {},
   "outputs": [],
   "source": [
    "ibaseline = 10\n",
    "ilow = 5\n",
    "ihigh = 15\n",
    "plt.figure(figsize=(2.5,2.5))\n",
    "xdata = network_resp[:,ibaseline,:,itype].reshape((-1,6,6))\n",
    "ydata = network_resp[:,ilow,:,itype].reshape((-1,6,6))\n",
    "sca.scatter_size_contrast_errorbar(xdata,ydata)\n",
    "\n",
    "plt.figure(figsize=(2.5,2.5))\n",
    "xdata = network_resp[:,ibaseline,:,itype].reshape((-1,6,6))\n",
    "ydata = network_resp[:,ihigh,:,itype].reshape((-1,6,6))\n",
    "sca.scatter_size_contrast_errorbar(xdata,ydata)"
   ]
  },
  {
   "cell_type": "code",
   "execution_count": null,
   "metadata": {},
   "outputs": [],
   "source": [
    "opto_levels[[7,10,13]]"
   ]
  },
  {
   "cell_type": "code",
   "execution_count": null,
   "metadata": {},
   "outputs": [],
   "source": [
    "ibaseline = 10\n",
    "ilow = 7\n",
    "ihigh = 13\n",
    "# ibaseline = 1\n",
    "# ilow = 0\n",
    "# ihigh = 2\n",
    "\n",
    "ucontrast = np.array((0,6,12,25,50,100))\n",
    "usize = np.array((5,8,13,25,36,60))\n",
    "this_nsize = len(usize)\n",
    "this_ncontrast = len(ucontrast)\n",
    "cfrac = np.linspace(1,0,this_nsize+1)[:-1]\n",
    "c_l23 = cfrac[:,np.newaxis]*np.array(((0.5,0.5,0.5)))\n",
    "\n",
    "import scipy.stats as sst\n",
    "\n",
    "light_lbls = ['suppression','facilitation']\n",
    "\n",
    "cs = [np.array((1,0.8,0)),np.array((1,0,0))]\n",
    "\n",
    "ylims = [np.array((-0.58,0.02)),np.array((-0.02,0.55))]\n",
    "\n",
    "xdata = network_resp[:,ibaseline,:,itype].reshape((-1,6,6))\n",
    "xdata_norm = xdata/xdata.mean(1).mean(1)[:,np.newaxis,np.newaxis]\n",
    "for ilight,light_lbl,c,ylim in zip([ilow,ihigh],light_lbls,cs,ylims):\n",
    "\n",
    "    plt.figure(figsize=(2.5,2.5))\n",
    "    ydata = network_resp[:,ilight,:,itype].reshape((-1,6,6))\n",
    "    ydata_norm = ydata/xdata.mean(1).mean(1)[:,np.newaxis,np.newaxis]\n",
    "    sca.scatter_size_contrast_errorbar(xdata_norm,ydata_norm-xdata_norm,equality_line=False,square=False)\n",
    "    plt.axhline(0,c='k',linestyle='dashed')\n",
    "#     ut.zero_origin('x')\n",
    "    plt.xlabel('baseline firing rate/mean')\n",
    "    plt.ylabel('$\\Delta$firing rate/mean, \\n PC %s'%light_lbl)\n",
    "    slope, intercept, r_value, p_value, std_err = sst.linregress(xdata_norm.flatten(), (ydata_norm-xdata_norm).flatten())\n",
    "    xs = np.array((xdata_norm.min(),xdata_norm.max()))\n",
    "    plt.plot(xs,slope*xs+intercept,c=c,linestyle='dashed')\n",
    "    plt.ylim(ylim)\n",
    "    ut.erase_top_right()\n",
    "    plt.tight_layout()\n",
    "    plt.savefig('figures/delta_rate_vs_rate_l4_%s.eps'%light_lbl)\n",
    "    \n",
    "    plt.figure(figsize=(2.5,2.5))\n",
    "    pred = slope*xdata_norm + intercept\n",
    "    actual = (ydata_norm-xdata_norm)\n",
    "    residual = actual - pred\n",
    "    these_sizes = [0,5]\n",
    "    ut.plot_bootstrapped_errorbars_hillel(np.arange(6),actual[:,these_sizes]-pred[:,these_sizes],colors=c_l23[these_sizes],pct=(16,84))\n",
    "    plt.axhline(0,c='k',linestyle='dashed')\n",
    "    plt.xticks(np.arange(this_ncontrast),ucontrast)\n",
    "    ut.erase_top_right()\n",
    "    plt.xlabel('contrast (%)')\n",
    "    plt.ylabel('residual \\n $\\Delta$ event rate/mean')\n",
    "    plt.ylim((-0.1,0.15))\n",
    "    plt.tight_layout()\n",
    "    plt.savefig('figures/residual_delta_rate_vs_contrast_l4_%s.eps'%light_lbl)\n",
    "\n",
    "# plt.figure(figsize=(2.5,2.5))\n",
    "# xdata = network_resp[:,ibaseline,:,itype].reshape((-1,6,6))\n",
    "# ydata = network_resp[:,ihigh,:,itype].reshape((-1,6,6))\n",
    "# sca.scatter_size_contrast_errorbar(xdata,ydata-xdata,equality_line=False,square=False)\n",
    "# plt.axhline(0,c='k',linestyle='dashed')\n",
    "# ut.zero_origin('x')\n"
   ]
  },
  {
   "cell_type": "code",
   "execution_count": null,
   "metadata": {},
   "outputs": [],
   "source": [
    "ibaseline = 10\n",
    "ilow = 7\n",
    "ihigh = 13\n",
    "# ibaseline = 1\n",
    "# ilow = 0\n",
    "# ihigh = 2\n",
    "\n",
    "ucontrast = np.array((0,6,12,25,50,100))\n",
    "usize = np.array((5,8,13,25,36,60))\n",
    "this_nsize = len(usize)\n",
    "this_ncontrast = len(ucontrast)\n",
    "cfrac = np.linspace(1,0,this_nsize+1)[:-1]\n",
    "c_l23 = cfrac[:,np.newaxis]*np.array(((0.5,0.5,0.5)))\n",
    "\n",
    "import scipy.stats as sst\n",
    "import opto_utils\n",
    "reload(opto_utils)\n",
    "reload(sca)\n",
    "\n",
    "light_lbls = ['suppression','facilitation']\n",
    "\n",
    "cs = [np.array((1,0.8,0)),np.array((1,0,0))]\n",
    "\n",
    "ylims = [np.array((-0.58,0.02)),np.array((-0.02,0.55))]\n",
    "\n",
    "xdata = network_resp[:,ibaseline,:,itype].reshape((-1,6,6))\n",
    "xdata_norm = xdata/xdata.mean(1).mean(1)[:,np.newaxis,np.newaxis]\n",
    "for ilight,light_lbl,c,ylim in zip([ilow,ihigh],light_lbls,cs,ylims):\n",
    "\n",
    "    plt.figure(figsize=(2.5,2.5))\n",
    "    ydata = network_resp[:,ilight,:,itype].reshape((-1,6,6))\n",
    "    ydata_norm = ydata/xdata.mean(1).mean(1)[:,np.newaxis,np.newaxis]\n",
    "    opto_utils.scatter_size_contrast_x_dx_errorbar(np.concatenate((xdata_norm[:,:,:,np.newaxis],ydata_norm[:,:,:,np.newaxis]),axis=-1),opto_color=c)\n",
    "    plt.axhline(0,c='k',linestyle='dashed')\n",
    "#     ut.zero_origin('x')\n",
    "    plt.xlabel('baseline firing rate/mean')\n",
    "    plt.ylabel('$\\Delta$firing rate/mean, \\n PC %s'%light_lbl)\n",
    "    slope, intercept, r_value, p_value, std_err = sst.linregress(xdata_norm.flatten(), (ydata_norm-xdata_norm).flatten())\n",
    "    xs = np.array((xdata_norm.min(),xdata_norm.max()))\n",
    "    plt.plot(xs,slope*xs+intercept,c=c,linestyle='dashed')\n",
    "    plt.ylim(ylim)\n",
    "    ut.erase_top_right()\n",
    "    plt.tight_layout()\n",
    "    plt.savefig('figures/delta_rate_vs_rate_l4_%s.jpg'%light_lbl,dpi=300)\n",
    "    \n",
    "    plt.figure(figsize=(2.5,2.5))\n",
    "    pred = slope*xdata_norm + intercept\n",
    "    actual = (ydata_norm-xdata_norm)\n",
    "    residual = actual - pred\n",
    "    these_sizes = [0,5]\n",
    "    ut.plot_bootstrapped_errorbars_hillel(np.arange(6),actual[:,these_sizes]-pred[:,these_sizes],colors=c_l23[these_sizes],pct=(16,84))\n",
    "    plt.axhline(0,c='k',linestyle='dashed')\n",
    "    plt.xticks(np.arange(this_ncontrast),ucontrast)\n",
    "    ut.erase_top_right()\n",
    "    plt.xlabel('contrast (%)')\n",
    "    plt.ylabel('residual \\n $\\Delta$ event rate/mean')\n",
    "    plt.ylim((-0.1,0.15))\n",
    "    plt.tight_layout()\n",
    "#     plt.savefig('figures/residual_delta_rate_vs_contrast_l4_%s.eps'%light_lbl)\n",
    "\n",
    "# plt.figure(figsize=(2.5,2.5))\n",
    "# xdata = network_resp[:,ibaseline,:,itype].reshape((-1,6,6))\n",
    "# ydata = network_resp[:,ihigh,:,itype].reshape((-1,6,6))\n",
    "# sca.scatter_size_contrast_errorbar(xdata,ydata-xdata,equality_line=False,square=False)\n",
    "# plt.axhline(0,c='k',linestyle='dashed')\n",
    "# ut.zero_origin('x')\n"
   ]
  },
  {
   "cell_type": "code",
   "execution_count": null,
   "metadata": {},
   "outputs": [],
   "source": [
    "xdata_norm.shape"
   ]
  },
  {
   "cell_type": "code",
   "execution_count": null,
   "metadata": {},
   "outputs": [],
   "source": [
    "actual.shape"
   ]
  },
  {
   "cell_type": "code",
   "execution_count": null,
   "metadata": {},
   "outputs": [],
   "source": [
    "network_resp_no_pcvip.shape"
   ]
  },
  {
   "cell_type": "code",
   "execution_count": null,
   "metadata": {},
   "outputs": [],
   "source": [
    "ibaseline = 1\n",
    "ilow = 0\n",
    "ihigh = 2\n",
    "# ibaseline = 1\n",
    "# ilow = 0\n",
    "# ihigh = 2\n",
    "\n",
    "import scipy.stats as sst\n",
    "\n",
    "light_lbls = ['suppression','facilitation']\n",
    "\n",
    "cs = [np.array((1,0.8,0)),np.array((1,0,0))]\n",
    "\n",
    "ylims = [np.array((-0.58,0.02)),np.array((-0.02,0.55))]\n",
    "\n",
    "xdata = network_resp_no_pcvip[:,ibaseline,:,itype].reshape((-1,6,6))\n",
    "xdata_norm = xdata/xdata.mean(1).mean(1)[:,np.newaxis,np.newaxis]\n",
    "for ilight,light_lbl,c,ylim in zip([ilow,ihigh],light_lbls,cs,ylims):\n",
    "\n",
    "    plt.figure(figsize=(2.5,2.5))\n",
    "    ydata = network_resp_no_pcvip[:,ilight,:,itype].reshape((-1,6,6))\n",
    "    ydata_norm = ydata/xdata.mean(1).mean(1)[:,np.newaxis,np.newaxis]\n",
    "#     sca.scatter_size_contrast_errorbar(xdata_norm,ydata_norm-xdata_norm,equality_line=False,square=False)\n",
    "    opto_utils.scatter_size_contrast_x_dx_errorbar(np.concatenate((xdata_norm[:,:,:,np.newaxis],ydata_norm[:,:,:,np.newaxis]),axis=-1),opto_color=c)\n",
    "    plt.axhline(0,c='k',linestyle='dashed')\n",
    "#     ut.zero_origin('x')\n",
    "    plt.xlabel('baseline firing rate/mean')\n",
    "    plt.ylabel('$\\Delta$firing rate/mean, \\n PC %s'%light_lbl)\n",
    "    slope, intercept, r_value, p_value, std_err = sst.linregress(xdata_norm.flatten(), (ydata_norm-xdata_norm).flatten())\n",
    "    xs = np.array((xdata_norm.min(),xdata_norm.max()))\n",
    "    plt.plot(xs,slope*xs+intercept,c=c,linestyle='dashed')\n",
    "    plt.ylim(ylim)\n",
    "    ut.erase_top_right()\n",
    "    plt.tight_layout()\n",
    "#     plt.savefig('figures/delta_rate_vs_rate_l4_no_wpcvip_%s.eps'%light_lbl)\n",
    "    plt.savefig('figures/delta_rate_vs_rate_l4_no_wpcvip_%s.jpg'%light_lbl,dpi=300)\n",
    "    \n",
    "    plt.figure(figsize=(2.5,2.5))\n",
    "    pred = slope*xdata_norm + intercept\n",
    "    actual = (ydata_norm-xdata_norm)\n",
    "    residual = actual - pred\n",
    "    these_sizes = [0,5]\n",
    "    ut.plot_bootstrapped_errorbars_hillel(np.arange(6),actual[:,these_sizes]-pred[:,these_sizes],colors=c_l23[these_sizes],pct=(16,84))\n",
    "    plt.axhline(0,c='k',linestyle='dashed')\n",
    "    plt.xticks(np.arange(this_ncontrast),ucontrast)\n",
    "    ut.erase_top_right()\n",
    "    plt.xlabel('contrast (%)')\n",
    "    plt.ylabel('residual \\n $\\Delta$ event rate/mean')\n",
    "    plt.ylim((-0.1,0.15))\n",
    "    plt.tight_layout()\n",
    "#     plt.savefig('figures/residual_delta_rate_vs_contrast_no_wpcvip_l4_%s.eps'%light_lbl)\n",
    "    \n",
    "\n",
    "# plt.figure(figsize=(2.5,2.5))\n",
    "# xdata = network_resp[:,ibaseline,:,itype].reshape((-1,6,6))\n",
    "# ydata = network_resp[:,ihigh,:,itype].reshape((-1,6,6))\n",
    "# sca.scatter_size_contrast_errorbar(xdata,ydata-xdata,equality_line=False,square=False)\n",
    "# plt.axhline(0,c='k',linestyle='dashed')\n",
    "# ut.zero_origin('x')\n"
   ]
  },
  {
   "cell_type": "code",
   "execution_count": null,
   "metadata": {},
   "outputs": [],
   "source": [
    "ibaseline = 1\n",
    "ilow = 0\n",
    "ihigh = 2\n",
    "# ibaseline = 1\n",
    "# ilow = 0\n",
    "# ihigh = 2\n",
    "\n",
    "import scipy.stats as sst\n",
    "\n",
    "light_lbls = ['suppression','facilitation']\n",
    "\n",
    "cs = [np.array((1,0.8,0)),np.array((1,0,0))]\n",
    "\n",
    "xdata = network_resp_vip_sil[:,ibaseline,:,itype].reshape((-1,6,6))\n",
    "xdata_norm = xdata/xdata.mean(1).mean(1)[:,np.newaxis,np.newaxis]\n",
    "for ilight,light_lbl,c in zip([ilow,ihigh],light_lbls,cs):\n",
    "\n",
    "    plt.figure(figsize=(2.5,2.5))\n",
    "    ydata = network_resp_vip_sil[:,ilight,:,itype].reshape((-1,6,6))\n",
    "    ydata_norm = ydata/xdata.mean(1).mean(1)[:,np.newaxis,np.newaxis]\n",
    "    sca.scatter_size_contrast_errorbar(xdata_norm,ydata_norm-xdata_norm,equality_line=False,square=False)\n",
    "    plt.axhline(0,c='k',linestyle='dashed')\n",
    "#     ut.zero_origin('x')\n",
    "    plt.xlabel('baseline firing rate/mean')\n",
    "    plt.ylabel('$\\Delta$firing rate/mean, \\n PC %s'%light_lbl)\n",
    "    slope, intercept, r_value, p_value, std_err = sst.linregress(xdata_norm.flatten(), (ydata_norm-xdata_norm).flatten())\n",
    "    xs = np.array((xdata_norm.min(),xdata_norm.max()))\n",
    "    plt.plot(xs,slope*xs+intercept,c=c,linestyle='dashed')\n",
    "    ut.erase_top_right()\n",
    "    plt.tight_layout()\n",
    "#     plt.savefig('figures/delta_rate_vs_rate_l4_%s.eps'%light_lbl)\n",
    "    \n",
    "\n",
    "# plt.figure(figsize=(2.5,2.5))\n",
    "# xdata = network_resp[:,ibaseline,:,itype].reshape((-1,6,6))\n",
    "# ydata = network_resp[:,ihigh,:,itype].reshape((-1,6,6))\n",
    "# sca.scatter_size_contrast_errorbar(xdata,ydata-xdata,equality_line=False,square=False)\n",
    "# plt.axhline(0,c='k',linestyle='dashed')\n",
    "# ut.zero_origin('x')\n"
   ]
  },
  {
   "cell_type": "code",
   "execution_count": null,
   "metadata": {},
   "outputs": [],
   "source": [
    "ibaseline = 15\n",
    "ilow = 14\n",
    "ihigh = 16\n",
    "\n",
    "import scipy.stats as sst\n",
    "\n",
    "light_lbls = ['suppression','facilitation']\n",
    "\n",
    "cs = [np.array((1,0.8,0)),np.array((1,0,0))]\n",
    "\n",
    "xdata = network_resp_no_pcpc[:,ibaseline,:,itype].reshape((-1,6,6))\n",
    "for ilight,light_lbl,c in zip([ilow,ihigh],light_lbls,cs):\n",
    "\n",
    "    plt.figure(figsize=(2.5,2.5))\n",
    "    ydata = network_resp_no_pcpc[:,ilight,:,itype].reshape((-1,6,6))\n",
    "    sca.scatter_size_contrast_errorbar(xdata,ydata-xdata,equality_line=False,square=False)\n",
    "    plt.axhline(0,c='k',linestyle='dashed')\n",
    "    ut.zero_origin('x')\n",
    "    plt.xlabel('baseline firing rate')\n",
    "    plt.ylabel('$\\Delta$firing rate, \\n PC %s'%light_lbl)\n",
    "    slope, intercept, r_value, p_value, std_err = sst.linregress(xdata.flatten(), (ydata-xdata).flatten())\n",
    "    xs = np.array((xdata.min(),xdata.max()))\n",
    "    plt.plot(xs,slope*xs+intercept,c=c,linestyle='dashed')\n",
    "    ut.erase_top_right()\n",
    "#     plt.savefig('figures/delta_rate_vs_rate_pc_%s.eps')\n",
    "    \n",
    "\n",
    "# plt.figure(figsize=(2.5,2.5))\n",
    "# xdata = network_resp[:,ibaseline,:,itype].reshape((-1,6,6))\n",
    "# ydata = network_resp[:,ihigh,:,itype].reshape((-1,6,6))\n",
    "# sca.scatter_size_contrast_errorbar(xdata,ydata-xdata,equality_line=False,square=False)\n",
    "# plt.axhline(0,c='k',linestyle='dashed')\n",
    "# ut.zero_origin('x')\n"
   ]
  },
  {
   "cell_type": "code",
   "execution_count": null,
   "metadata": {},
   "outputs": [],
   "source": [
    "for istim,title in zip([0,5],['0% contrast','5$^o$ size, 100% contrast']):\n",
    "    plt.figure(figsize=(2.5,2.5))\n",
    "#     plt.plot(opto_levels,np.nanmean(cell_intrinsic_resp,0)[:,istim,itype],c='k',linestyle='dashed',label='cell-intrinsic nonlinearity')\n",
    "    plt.plot(opto_levels,np.nanmean(network_resp,0)[:,istim,itype],c='k',label='baseline')\n",
    "    lb,ub = [np.nanpercentile(network_resp[:,:,istim,itype],pct,axis=0) for pct in [pct_l,pct_u]]\n",
    "    plt.fill_between(opto_levels,lb,ub,facecolor='k',alpha=0.5)\n",
    "#     plt.fill_between(opto_levels[ilow:ibaseline+1],lb[ilow:ibaseline+1],ub[ilow:ibaseline+1],facecolor=np.array((1,0.8,0)))\n",
    "    plt.plot(opto_levels[ilow:ibaseline+1],np.nanmean(network_resp,0)[:,istim,itype][ilow:ibaseline+1],c=np.array((1,0.8,0)),label='baseline',linewidth=4)\n",
    "    plt.plot(opto_levels[ibaseline:ihigh+1],np.nanmean(network_resp,0)[:,istim,itype][ibaseline:ihigh+1],c=np.array((1,0,0)),label='baseline',linewidth=4)\n",
    "#     plt.axvline(0,c='k',linestyle='dashed')\n",
    "#     plt.axhline(0,c='k',linestyle='dashed')\n",
    "    plt.axhline(np.nanmean(network_resp,0)[:,istim,itype][ibaseline],c='k',linestyle='dashed')\n",
    "    plt.axhline(np.nanmean(network_resp,0)[:,istim,itype][ilow],c=np.array((1,0.8,0)),linestyle='dashed')\n",
    "    plt.axhline(np.nanmean(network_resp,0)[:,istim,itype][ihigh],c=np.array((1,0,0)),linestyle='dashed')\n",
    "#     plt.axvline(opto_levels[ilow],c=np.array((1,0.8,0)))\n",
    "#     plt.axvline(opto_levels[ihigh],c=np.array((1,0,0)))\n",
    "\n",
    "    #     plt.plot(opto_levels,np.nanmean(network_resp_no_pcpc,0)[:,istim,itype],c=np.array((0.5,0.5,0.5)),label='PC$\\leftrightarrow$PC weights deleted')\n",
    "    # plt.legend()\n",
    "    plt.xlim((-1,1))\n",
    "    plt.ylim((-0.1,1.8))\n",
    "    ut.erase_top_right()\n",
    "    plt.xlabel('simulated PC current injection')\n",
    "    plt.ylabel('simulated PC firing rate')\n",
    "    # plt.title('PC$\\leftrightarrow$PC weights deleted')\n",
    "    plt.title(title)\n",
    "    plt.tight_layout()\n",
    "    plt.savefig('figures/network_nonlinearity_l4_%d_opto_colors.jpg'%istim,dpi=300)"
   ]
  },
  {
   "cell_type": "code",
   "execution_count": null,
   "metadata": {},
   "outputs": [],
   "source": [
    "network_resp.shape"
   ]
  },
  {
   "cell_type": "code",
   "execution_count": null,
   "metadata": {},
   "outputs": [],
   "source": [
    "ub"
   ]
  },
  {
   "cell_type": "code",
   "execution_count": null,
   "metadata": {},
   "outputs": [],
   "source": [
    "dr_up = compute_dr(network_resp_no_pcpv,ihigh,ibaseline)\n",
    "dr_down = compute_dr(network_resp_no_pcpv,ilow,ibaseline)\n",
    "\n",
    "dr_up = compute_dr(network_resp,ihigh,ibaseline)\n",
    "dr_down = compute_dr(network_resp,ilow,ibaseline)\n",
    "\n",
    "isizes = [0,2,4]\n",
    "this_nsize = len(isizes)\n",
    "cfrac = np.linspace(1,0,this_nsize+1)[:-1]\n",
    "c_l23 = cfrac[:,np.newaxis]*np.array(((0.5,0.5,0.5)))\n",
    "ucontrast = np.array((0,6,12,25,50,100))\n",
    "\n",
    "plt.figure(figsize=(2.5,2.5))\n",
    "ut.plot_pct_errorbars_hillel(np.arange(6),dr_up[:,isizes],pct=(16,84),colors=c_l23)\n",
    "ut.erase_top_right()\n",
    "plt.xticks(np.arange(6),ucontrast)\n",
    "plt.axhline(0,c='k',linestyle='dashed')\n",
    "plt.xlabel('contrast (%)')\n",
    "plt.ylabel('simulated $\\Delta$firing rate, \\n PC activation')\n",
    "plt.tight_layout()\n",
    "# plt.savefig('figures/sim_pc_activation_size_contrast.eps')\n",
    "\n",
    "plt.figure(figsize=(2.5,2.5))\n",
    "ut.plot_pct_errorbars_hillel(np.arange(6),dr_down[:,isizes],pct=(16,84),colors=c_l23)\n",
    "ut.erase_top_right()\n",
    "plt.xticks(np.arange(6),ucontrast)\n",
    "plt.axhline(0,c='k',linestyle='dashed')\n",
    "plt.xlabel('contrast (%)')\n",
    "plt.ylabel('simulated $\\Delta$firing rate, \\n PC suppression')\n",
    "plt.tight_layout()\n",
    "# plt.savefig('figures/sim_pc_suppression_size_contrast.eps')"
   ]
  },
  {
   "cell_type": "code",
   "execution_count": null,
   "metadata": {},
   "outputs": [],
   "source": [
    "ilight_halo = 5\n",
    "ilight_chrimson = 25\n",
    "ilight_off = 15\n",
    "\n",
    "itype = 0\n",
    "for ilight_light in [ilight_halo,ilight_chrimson]:\n",
    "    plt.figure(figsize=(2.5,2.5))\n",
    "    xdata = network_resp[:,ilight_off,:,itype].reshape((-1,6,6))\n",
    "    ydata = network_resp[:,ilight_light,:,itype].reshape((-1,6,6))\n",
    "    sca.scatter_size_contrast_errorbar(xdata,ydata-xdata,equality_line=False,square=False)\n",
    "    plt.axhline(0,c='k',linestyle='dashed')"
   ]
  },
  {
   "cell_type": "code",
   "execution_count": null,
   "metadata": {},
   "outputs": [],
   "source": [
    "mx = np.maximum(np.max(np.abs(np.nanmean(dr_up,0))),np.max(np.abs(np.nanmean(dr_down,0))))\n",
    "plt.figure()\n",
    "ut.imshow_hot_cold(np.nanmean(dr_up,0),mx=mx)\n",
    "plt.colorbar()\n",
    "plt.figure()\n",
    "ut.imshow_hot_cold(np.nanmean(dr_down,0),mx=mx)\n",
    "plt.colorbar()"
   ]
  },
  {
   "cell_type": "code",
   "execution_count": null,
   "metadata": {},
   "outputs": [],
   "source": [
    "network_resp.shape"
   ]
  },
  {
   "cell_type": "code",
   "execution_count": null,
   "metadata": {},
   "outputs": [],
   "source": [
    "iwt = 0\n",
    "istim = 0\n",
    "itype = 0\n",
    "this_mdl,this_YY = mdls_no_pcpc.copy(),YY_opto_no_pcpc.copy()\n",
    "# this_mdl,this_YY = mdls_no_pcpv.copy(),YY_opto_no_pcpv.copy()\n",
    "# this_mdl,this_YY = mdls.copy(),YY_opto.copy()\n",
    "network_resp = np.nanmean(YY_opto[iwt][:,istim,:,itype],1)\n",
    "network_resp_no_pcpc = np.nanmean(YY_opto_no_pcpc[iwt][:,istim,:,itype],1)\n",
    "\n",
    "cell_intrinsic_resp = np.zeros_like(opto_levels)\n",
    "for ilevel in range(opto_levels.shape[0]):\n",
    "    cell_intrinsic_resp[ilevel] = this_mdl[iwt].compute_f_(opto_levels[ilevel]+this_mdl[iwt].Eta,this_mdl[iwt].Xi,this_mdl[iwt].s02)[istim,itype]\n",
    "\n",
    "plt.figure(figsize=(2.5,2.5))\n",
    "plt.plot(opto_levels,cell_intrinsic_resp,c='k',linestyle='dashed',label='cell-intrinsic nonlinearity')\n",
    "plt.plot(opto_levels,network_resp,c='k',label='baseline')\n",
    "plt.plot(opto_levels,network_resp_no_pcpc,c=np.array((0.5,0.5,0.5)),label='PC$\\leftrightarrow$PC weights deleted')\n",
    "# plt.legend()\n",
    "plt.xlim((-1.5,1.5))\n",
    "plt.ylim((-0.1,1.25))\n",
    "ut.erase_top_right()\n",
    "plt.xlabel('simulated current injection')\n",
    "plt.ylabel('simulated firing rate')\n",
    "# plt.title('PC$\\leftrightarrow$PC weights deleted')\n",
    "plt.tight_layout()\n",
    "# plt.savefig('figures/network_nonlinearity_w_and_wo_wpcpc.eps')"
   ]
  },
  {
   "cell_type": "code",
   "execution_count": null,
   "metadata": {},
   "outputs": [],
   "source": [
    "iwt = 0\n",
    "istim = 0\n",
    "itype = 0\n",
    "ibaseline = 15\n",
    "ilow = 10\n",
    "ihigh = 20\n",
    "# this_mdl,this_YY = mdls_no_pcpc.copy(),YY_opto_no_pcpc.copy()\n",
    "# this_mdl,this_YY = mdls_no_pcpv.copy(),YY_opto_no_pcpv.copy()\n",
    "this_mdl,this_YY = mdls.copy(),YY_opto.copy()\n",
    "dr,dr_intrinsic,dr_up,dr_down = [np.zeros((6,6)) for ivar in range(4)]\n",
    "plt.figure()\n",
    "for istim in range(this_mdl[iwt].nN):\n",
    "    network_resp = np.nanmean(this_YY[iwt][:,istim,:,itype],1)\n",
    "\n",
    "    cell_intrinsic_resp = np.zeros_like(opto_levels)\n",
    "    for ilevel in range(opto_levels.shape[0]):\n",
    "        cell_intrinsic_resp[ilevel] = this_mdl[iwt].compute_f_(opto_levels[ilevel]+this_mdl[iwt].Eta,this_mdl[iwt].Xi,this_mdl[iwt].s02)[istim,itype]\n",
    "\n",
    "    # plt.figure(figsize=(2.5,2.5))\n",
    "        plt.subplot(6,6,istim+1)\n",
    "    dr[np.unravel_index(istim,(6,6))] = (network_resp[ibaseline+1]-network_resp[ibaseline-1])\n",
    "    dr_intrinsic[np.unravel_index(istim,(6,6))] = (cell_intrinsic_resp[ibaseline+1]-cell_intrinsic_resp[ibaseline-1])\n",
    "    dr_up[np.unravel_index(istim,(6,6))] = network_resp[ihigh] - network_resp[ibaseline]\n",
    "    dr_down[np.unravel_index(istim,(6,6))] = network_resp[ilow] - network_resp[ibaseline]\n",
    "\n",
    "    plt.plot(opto_levels,cell_intrinsic_resp,c=np.array((0.5,0.5,0.5)))\n",
    "    plt.plot(opto_levels,network_resp,c='k')\n",
    "    plt.xlim((-1.5,1.5))\n",
    "    plt.ylim((-0.1,2))\n",
    "#     plt.axvline(0,c='k',linestyle='dashed')\n",
    "    ut.erase_top_right()\n",
    "    plt.axis('off')\n",
    "#     plt.xlabel('simulated current injection')\n",
    "#     plt.ylabel('simulated firing rate')\n",
    "#     plt.title('PC$\\leftrightarrow$PC weights deleted')\n",
    "#     plt.tight_layout()\n",
    "# plt.savefig('figures/intrinsic_vs_network_nonlinearity_no_wpcpc.eps')"
   ]
  },
  {
   "cell_type": "code",
   "execution_count": null,
   "metadata": {},
   "outputs": [],
   "source": [
    "dr_up.shape"
   ]
  },
  {
   "cell_type": "code",
   "execution_count": null,
   "metadata": {},
   "outputs": [],
   "source": [
    "mx = np.maximum(np.max(np.abs(np.nanmean(dr_up,0))),np.max(np.abs(np.nanmean(dr_down,0))))\n",
    "plt.figure()\n",
    "ut.imshow_hot_cold(np.nanmean(dr_up,0),mx=mx)\n",
    "plt.colorbar()\n",
    "plt.figure()\n",
    "ut.imshow_hot_cold(np.nanmean(dr_down,0),mx=mx)\n",
    "plt.colorbar()"
   ]
  },
  {
   "cell_type": "code",
   "execution_count": null,
   "metadata": {},
   "outputs": [],
   "source": [
    "np.max(dr.flatten())/np.min(dr.flatten())"
   ]
  },
  {
   "cell_type": "code",
   "execution_count": null,
   "metadata": {},
   "outputs": [],
   "source": [
    "np.max(dr_intrinsic.flatten())/np.min(dr_intrinsic.flatten())"
   ]
  },
  {
   "cell_type": "code",
   "execution_count": null,
   "metadata": {},
   "outputs": [],
   "source": [
    "# nwt = 20\n",
    "# YY_opto = YY_opto[:nwt]\n",
    "# YY_ss = YY_ss[:nwt]"
   ]
  },
  {
   "cell_type": "code",
   "execution_count": null,
   "metadata": {},
   "outputs": [],
   "source": [
    "# ut.mkdir('../shared_data/calnet_data/dynamics/')\n",
    "# np.save('../shared_data/calnet_data/dynamics/200724a.npy',YY_opto)\n",
    "# YY_opto = np.load('../shared_data/calnet_data/dynamics/200724a.npy',allow_pickle=True)[()]"
   ]
  },
  {
   "cell_type": "code",
   "execution_count": null,
   "metadata": {},
   "outputs": [],
   "source": [
    "shp = YY_opto[0].shape\n",
    "YY_opto_small = np.nan*np.ones((nwt,shp[0],shp[1],shp[3]))\n",
    "tlast = 3000\n",
    "for iwt in range(nwt):\n",
    "    if not YY_opto[iwt] is None:\n",
    "        YY_opto_small[iwt] = np.nanmean(YY_opto[iwt][:,:,-tlast:,:],2)\n",
    "    "
   ]
  },
  {
   "cell_type": "code",
   "execution_count": null,
   "metadata": {},
   "outputs": [],
   "source": [
    "Niter = 1001"
   ]
  },
  {
   "cell_type": "code",
   "execution_count": null,
   "metadata": {},
   "outputs": [],
   "source": [
    "shp = YY_opto[0].shape\n",
    "Niter = 101\n",
    "YY_opto_medium = np.nan*np.ones((nwt,shp[0],shp[1],Niter,shp[3]))\n",
    "for iwt in range(nwt):\n",
    "    if not YY_opto[iwt] is None:\n",
    "        YY_opto_medium[iwt] = YY_opto[iwt][:,:,::10,:]\n",
    "        \n",
    "# Niter = 1001\n",
    "# YY_opto_medium = YY_opto.copy()\n",
    "    "
   ]
  },
  {
   "cell_type": "code",
   "execution_count": null,
   "metadata": {},
   "outputs": [],
   "source": [
    "# del YY_opto"
   ]
  },
  {
   "cell_type": "code",
   "execution_count": null,
   "metadata": {},
   "outputs": [],
   "source": [
    "# np.save('YY_opto_medium_200921a.npy',YY_opto_medium)\n",
    "# YY_opto_medium = np.load('YY_opto_medium_200921a.npy')[()]"
   ]
  },
  {
   "cell_type": "code",
   "execution_count": null,
   "metadata": {},
   "outputs": [],
   "source": [
    "YY_opto_medium.shape"
   ]
  },
  {
   "cell_type": "code",
   "execution_count": null,
   "metadata": {},
   "outputs": [],
   "source": [
    "sc_opto = np.zeros((nwt,YY_opto_medium.shape[1],6,6))\n",
    "for iwt in range(nwt):\n",
    "    mag = 2\n",
    "    for itype in range(1):\n",
    "        plt.figure(figsize=(5*mag,mag))\n",
    "        data = YY_opto_medium[iwt][:,:,:,itype].reshape((-1,6,6,Niter))\n",
    "        data = np.nanmean(data[:,:,:,:],-1)\n",
    "        slc = slice(2,-2)\n",
    "        data = data[slc] #- data[5:6]\n",
    "        sc_opto[iwt,slc] = data\n",
    "        nopto = data.shape[0]\n",
    "        for iopto in range(nopto):\n",
    "            plt.subplot(1,nopto,iopto+1)\n",
    "            plt.imshow(data[iopto],vmin=data.min(),vmax=data.max())\n",
    "            plt.axis('off')"
   ]
  },
  {
   "cell_type": "code",
   "execution_count": null,
   "metadata": {},
   "outputs": [],
   "source": [
    "plt.figure()\n",
    "plt.plot(YY_opto[0][:,18,:,2].T)"
   ]
  },
  {
   "cell_type": "code",
   "execution_count": null,
   "metadata": {},
   "outputs": [],
   "source": [
    "sc_opto = np.zeros((nwt,YY_opto_medium.shape[1],6,6))\n",
    "for iwt in range(nwt):\n",
    "    mag = 2\n",
    "    for itype in range(2,3):\n",
    "        plt.figure(figsize=(5*mag,mag))\n",
    "        data = YY_opto_medium[iwt][:,:,:,itype].reshape((-1,6,6,Niter))\n",
    "        data = np.nanmean(data[:,:,:,:],-1)\n",
    "        data = data #- data[5:6]\n",
    "        sc_opto[iwt] = data\n",
    "        nopto = data.shape[0]\n",
    "        for iopto in range(nopto):\n",
    "            plt.subplot(1,nopto,iopto+1)\n",
    "            plt.imshow(data[iopto],vmin=data.min(),vmax=data.max())\n",
    "            plt.axis('off')"
   ]
  },
  {
   "cell_type": "code",
   "execution_count": null,
   "metadata": {},
   "outputs": [],
   "source": [
    "plt.figure()\n",
    "plt.imshow(YY_opto_tavg[0,8,:,:,0])\n",
    "plt.figure()\n",
    "plt.imshow(YY_opto_tavg[0,16,:,:,0])"
   ]
  },
  {
   "cell_type": "code",
   "execution_count": null,
   "metadata": {},
   "outputs": [],
   "source": [
    "opto_levels[8]"
   ]
  },
  {
   "cell_type": "code",
   "execution_count": null,
   "metadata": {},
   "outputs": [],
   "source": [
    "reload(ut)\n",
    "reload(sca)\n",
    "lbls = ['PC','SST','VIP','PV']\n",
    "opto_lbls = ['halo','chrimson']\n",
    "average_last = int(np.floor(Niter/5))\n",
    "nopto = len(opto_levels)\n",
    "ncelltypes = YY_opto_medium[0].shape[-1]\n",
    "YY_opto_tavg = amps[:,np.newaxis,np.newaxis,np.newaxis,:]*np.nanmean(YY_opto_medium[:,:,:,-average_last:,:],3).reshape((nwt,nopto,6,6,ncelltypes)) + bltiles[:,np.newaxis,np.newaxis,np.newaxis,:]\n",
    "# YY_opto_tavg = np.zeros((nwt,nopto,6,6,ncelltypes))\n",
    "# for iwt in range(nwt):\n",
    "#     YY_opto_tavg[iwt] = amps[iwt]*np.nanmean(YY_opto_medium[iwt][:,:,:,:],2).reshape((nopto,6,6,ncelltypes)) + bltiles[iwt]\n",
    "iwt = -1\n",
    "ilight1 = 5\n",
    "for iilight2,ilight2 in enumerate([2,10]):\n",
    "    for itype in range(3):\n",
    "        plt.figure(figsize=(2.5,2.5))\n",
    "        xdata = YY_opto_tavg[:,ilight1,:,:,itype]\n",
    "        ydata = YY_opto_tavg[:,ilight2,:,:,itype]\n",
    "        sca.scatter_size_contrast_errorbar(xdata,ydata-xdata,mn=0,equality_line=False,square=False)\n",
    "        ut.erase_top_right()\n",
    "#         ut.zero_origin('xy')\n",
    "        plt.xlabel('%s event rate, \\n light off'%lbls[itype])\n",
    "        plt.ylabel('%s event rate, \\n light on'%lbls[itype])\n",
    "        plt.tight_layout()\n",
    "#         plt.savefig('figures/finite_%s_%s_scatter_light_on_light_off.eps'%(opto_lbls[iilight2],lbls[itype]))"
   ]
  },
  {
   "cell_type": "code",
   "execution_count": 11,
   "metadata": {},
   "outputs": [
    {
     "ename": "FileNotFoundError",
     "evalue": "[Errno 2] No such file or directory: '../shared_data/calnet_data/dynamics/opto_tavg_201128b.npy'",
     "output_type": "error",
     "traceback": [
      "\u001b[0;31m---------------------------------------------------------------------------\u001b[0m",
      "\u001b[0;31mFileNotFoundError\u001b[0m                         Traceback (most recent call last)",
      "\u001b[0;32m<ipython-input-11-c0ca45c10b97>\u001b[0m in \u001b[0;36m<module>\u001b[0;34m\u001b[0m\n\u001b[1;32m      1\u001b[0m \u001b[0mfit_lbl\u001b[0m \u001b[0;34m=\u001b[0m \u001b[0;34m'201128b'\u001b[0m\u001b[0;34m\u001b[0m\u001b[0;34m\u001b[0m\u001b[0m\n\u001b[0;32m----> 2\u001b[0;31m \u001b[0mnpyfile\u001b[0m \u001b[0;34m=\u001b[0m \u001b[0mnp\u001b[0m\u001b[0;34m.\u001b[0m\u001b[0mload\u001b[0m\u001b[0;34m(\u001b[0m\u001b[0;34m'../shared_data/calnet_data/dynamics/opto_tavg_%s.npy'\u001b[0m\u001b[0;34m%\u001b[0m\u001b[0mfit_lbl\u001b[0m\u001b[0;34m,\u001b[0m\u001b[0mallow_pickle\u001b[0m\u001b[0;34m=\u001b[0m\u001b[0;32mTrue\u001b[0m\u001b[0;34m)\u001b[0m\u001b[0;34m[\u001b[0m\u001b[0;34m(\u001b[0m\u001b[0;34m)\u001b[0m\u001b[0;34m]\u001b[0m\u001b[0;34m\u001b[0m\u001b[0;34m\u001b[0m\u001b[0m\n\u001b[0m\u001b[1;32m      3\u001b[0m \u001b[0mshp\u001b[0m \u001b[0;34m=\u001b[0m \u001b[0mnpyfile\u001b[0m\u001b[0;34m[\u001b[0m\u001b[0;34m'YY_opto'\u001b[0m\u001b[0;34m]\u001b[0m\u001b[0;34m.\u001b[0m\u001b[0mshape\u001b[0m\u001b[0;34m\u001b[0m\u001b[0;34m\u001b[0m\u001b[0m\n\u001b[1;32m      4\u001b[0m \u001b[0mYY_opto_tavg\u001b[0m \u001b[0;34m=\u001b[0m \u001b[0mnpyfile\u001b[0m\u001b[0;34m[\u001b[0m\u001b[0;34m'YY_opto'\u001b[0m\u001b[0;34m]\u001b[0m\u001b[0;34m.\u001b[0m\u001b[0mreshape\u001b[0m\u001b[0;34m(\u001b[0m\u001b[0mshp\u001b[0m\u001b[0;34m[\u001b[0m\u001b[0;34m:\u001b[0m\u001b[0;36m2\u001b[0m\u001b[0;34m]\u001b[0m\u001b[0;34m+\u001b[0m\u001b[0;34m(\u001b[0m\u001b[0;36m6\u001b[0m\u001b[0;34m,\u001b[0m\u001b[0;36m6\u001b[0m\u001b[0;34m)\u001b[0m\u001b[0;34m+\u001b[0m\u001b[0mshp\u001b[0m\u001b[0;34m[\u001b[0m\u001b[0;36m3\u001b[0m\u001b[0;34m:\u001b[0m\u001b[0;34m]\u001b[0m\u001b[0;34m)\u001b[0m\u001b[0;34m\u001b[0m\u001b[0;34m\u001b[0m\u001b[0m\n\u001b[1;32m      5\u001b[0m \u001b[0mweights_files\u001b[0m \u001b[0;34m=\u001b[0m \u001b[0mglob\u001b[0m\u001b[0;34m.\u001b[0m\u001b[0mglob\u001b[0m\u001b[0;34m(\u001b[0m\u001b[0;34m'../shared_data/calnet_data/weights/weights_%s/*.npy'\u001b[0m\u001b[0;34m%\u001b[0m\u001b[0mfit_lbl\u001b[0m\u001b[0;34m)\u001b[0m\u001b[0;34m\u001b[0m\u001b[0;34m\u001b[0m\u001b[0m\n",
      "\u001b[0;32m~/anaconda3/lib/python3.6/site-packages/numpy/lib/npyio.py\u001b[0m in \u001b[0;36mload\u001b[0;34m(file, mmap_mode, allow_pickle, fix_imports, encoding)\u001b[0m\n\u001b[1;32m    426\u001b[0m         \u001b[0mown_fid\u001b[0m \u001b[0;34m=\u001b[0m \u001b[0;32mFalse\u001b[0m\u001b[0;34m\u001b[0m\u001b[0;34m\u001b[0m\u001b[0m\n\u001b[1;32m    427\u001b[0m     \u001b[0;32melse\u001b[0m\u001b[0;34m:\u001b[0m\u001b[0;34m\u001b[0m\u001b[0;34m\u001b[0m\u001b[0m\n\u001b[0;32m--> 428\u001b[0;31m         \u001b[0mfid\u001b[0m \u001b[0;34m=\u001b[0m \u001b[0mopen\u001b[0m\u001b[0;34m(\u001b[0m\u001b[0mos_fspath\u001b[0m\u001b[0;34m(\u001b[0m\u001b[0mfile\u001b[0m\u001b[0;34m)\u001b[0m\u001b[0;34m,\u001b[0m \u001b[0;34m\"rb\"\u001b[0m\u001b[0;34m)\u001b[0m\u001b[0;34m\u001b[0m\u001b[0;34m\u001b[0m\u001b[0m\n\u001b[0m\u001b[1;32m    429\u001b[0m         \u001b[0mown_fid\u001b[0m \u001b[0;34m=\u001b[0m \u001b[0;32mTrue\u001b[0m\u001b[0;34m\u001b[0m\u001b[0;34m\u001b[0m\u001b[0m\n\u001b[1;32m    430\u001b[0m \u001b[0;34m\u001b[0m\u001b[0m\n",
      "\u001b[0;31mFileNotFoundError\u001b[0m: [Errno 2] No such file or directory: '../shared_data/calnet_data/dynamics/opto_tavg_201128b.npy'"
     ]
    }
   ],
   "source": [
    "fit_lbl = '201128b'\n",
    "npyfile = np.load('../shared_data/calnet_data/dynamics/opto_tavg_%s.npy'%fit_lbl,allow_pickle=True)[()]\n",
    "shp = npyfile['YY_opto'].shape\n",
    "YY_opto_tavg = npyfile['YY_opto'].reshape(shp[:2]+(6,6)+shp[3:])\n",
    "weights_files = glob.glob('../shared_data/calnet_data/weights/weights_%s/*.npy'%fit_lbl)\n",
    "weights_files.sort()"
   ]
  },
  {
   "cell_type": "code",
   "execution_count": null,
   "metadata": {},
   "outputs": [],
   "source": [
    "npyfile['YY_opto'].shape"
   ]
  },
  {
   "cell_type": "code",
   "execution_count": 12,
   "metadata": {},
   "outputs": [],
   "source": [
    "nwt = len(weights_files)\n",
    "mdls = [None for iwt in range(nwt)]\n",
    "for iwt in range(nwt):\n",
    "    wtdict = np.load(weights_files[iwt],allow_pickle=True)[()]\n",
    "    mdls[iwt] = cc.ModelOri(wtdict,nT=1)"
   ]
  },
  {
   "cell_type": "code",
   "execution_count": 13,
   "metadata": {},
   "outputs": [],
   "source": [
    "opto_levels = np.linspace(-2,2,21)\n",
    "nopto = opto_levels.size"
   ]
  },
  {
   "cell_type": "code",
   "execution_count": 14,
   "metadata": {},
   "outputs": [
    {
     "ename": "IndexError",
     "evalue": "list index out of range",
     "output_type": "error",
     "traceback": [
      "\u001b[0;31m---------------------------------------------------------------------------\u001b[0m",
      "\u001b[0;31mIndexError\u001b[0m                                Traceback (most recent call last)",
      "\u001b[0;32m<ipython-input-14-b46114a3990e>\u001b[0m in \u001b[0;36m<module>\u001b[0;34m\u001b[0m\n\u001b[1;32m      4\u001b[0m \u001b[0;31m# Ts = np.zeros((nfiles,nQ))\u001b[0m\u001b[0;34m\u001b[0m\u001b[0;34m\u001b[0m\u001b[0;34m\u001b[0m\u001b[0m\n\u001b[1;32m      5\u001b[0m \u001b[0miwt\u001b[0m \u001b[0;34m=\u001b[0m \u001b[0;36m0\u001b[0m\u001b[0;34m\u001b[0m\u001b[0;34m\u001b[0m\u001b[0m\n\u001b[0;32m----> 6\u001b[0;31m \u001b[0mnN\u001b[0m\u001b[0;34m,\u001b[0m\u001b[0mnP\u001b[0m\u001b[0;34m,\u001b[0m\u001b[0mnQ\u001b[0m\u001b[0;34m,\u001b[0m\u001b[0mnS\u001b[0m\u001b[0;34m,\u001b[0m\u001b[0mnT\u001b[0m \u001b[0;34m=\u001b[0m \u001b[0mmdls\u001b[0m\u001b[0;34m[\u001b[0m\u001b[0miwt\u001b[0m\u001b[0;34m]\u001b[0m\u001b[0;34m.\u001b[0m\u001b[0mnN\u001b[0m\u001b[0;34m,\u001b[0m\u001b[0mmdls\u001b[0m\u001b[0;34m[\u001b[0m\u001b[0miwt\u001b[0m\u001b[0;34m]\u001b[0m\u001b[0;34m.\u001b[0m\u001b[0mnP\u001b[0m\u001b[0;34m,\u001b[0m\u001b[0mmdls\u001b[0m\u001b[0;34m[\u001b[0m\u001b[0miwt\u001b[0m\u001b[0;34m]\u001b[0m\u001b[0;34m.\u001b[0m\u001b[0mnQ\u001b[0m\u001b[0;34m,\u001b[0m\u001b[0mmdls\u001b[0m\u001b[0;34m[\u001b[0m\u001b[0miwt\u001b[0m\u001b[0;34m]\u001b[0m\u001b[0;34m.\u001b[0m\u001b[0mnS\u001b[0m\u001b[0;34m,\u001b[0m\u001b[0mmdls\u001b[0m\u001b[0;34m[\u001b[0m\u001b[0miwt\u001b[0m\u001b[0;34m]\u001b[0m\u001b[0;34m.\u001b[0m\u001b[0mnT\u001b[0m\u001b[0;34m\u001b[0m\u001b[0;34m\u001b[0m\u001b[0m\n\u001b[0m\u001b[1;32m      7\u001b[0m \u001b[0mKs\u001b[0m \u001b[0;34m=\u001b[0m \u001b[0mnp\u001b[0m\u001b[0;34m.\u001b[0m\u001b[0mzeros\u001b[0m\u001b[0;34m(\u001b[0m\u001b[0;34m(\u001b[0m\u001b[0mnfiles\u001b[0m\u001b[0;34m,\u001b[0m\u001b[0mnQ\u001b[0m\u001b[0;34m)\u001b[0m\u001b[0;34m)\u001b[0m\u001b[0;34m\u001b[0m\u001b[0;34m\u001b[0m\u001b[0m\n\u001b[1;32m      8\u001b[0m \u001b[0mWmys\u001b[0m \u001b[0;34m=\u001b[0m \u001b[0mnp\u001b[0m\u001b[0;34m.\u001b[0m\u001b[0mzeros\u001b[0m\u001b[0;34m(\u001b[0m\u001b[0;34m(\u001b[0m\u001b[0mnfiles\u001b[0m\u001b[0;34m,\u001b[0m\u001b[0mnQ\u001b[0m\u001b[0;34m,\u001b[0m\u001b[0mnQ\u001b[0m\u001b[0;34m)\u001b[0m\u001b[0;34m)\u001b[0m\u001b[0;34m\u001b[0m\u001b[0;34m\u001b[0m\u001b[0m\n",
      "\u001b[0;31mIndexError\u001b[0m: list index out of range"
     ]
    }
   ],
   "source": [
    "import calnet.utils\n",
    "import sim_utils\n",
    "nfiles = len(weights_files)\n",
    "# Ts = np.zeros((nfiles,nQ))\n",
    "iwt = 0\n",
    "nN,nP,nQ,nS,nT = mdls[iwt].nN,mdls[iwt].nP,mdls[iwt].nQ,mdls[iwt].nS,mdls[iwt].nT\n",
    "Ks = np.zeros((nfiles,nQ))\n",
    "Wmys = np.zeros((nfiles,nQ,nQ))\n",
    "Wmxs = np.zeros((nfiles,nP,nQ))\n",
    "s02s = np.zeros((nfiles,nQ))\n",
    "YYs = np.zeros((nfiles,6,6,nQ*nS*nT))\n",
    "XXs = np.zeros((nfiles,6,6,nP*nS*nT))\n",
    "Etas = np.zeros((nfiles,6,6,nQ*nS*nT))\n",
    "# Eta1s = np.zeros((nfiles,6,6,nQ*nS*nT))\n",
    "# Eta2s = np.zeros((nfiles,6,6,nQ*nS*nT))\n",
    "h1s = np.zeros((nfiles,))\n",
    "h2s = np.zeros((nfiles,))\n",
    "losses = np.zeros((nfiles,))\n",
    "couplings = np.zeros((nfiles,nopto,6,6,nQ*nS*nT,nQ*nS*nT))\n",
    "phis = np.zeros((nfiles,nopto,6,6,nQ*nS*nT))\n",
    "for iwt,weights_file in enumerate(weights_files):\n",
    "    Wstar_dict = np.load(weights_file,allow_pickle=True)[()]\n",
    "#     Wmx,Wmy,Wsx,Wsy,s02,K,kappa,T,XX,XXp,Eta,Xi,h = Wstar_dict['as_list']\n",
    "    try:\n",
    "        Wmx,Wmy,Wsx,Wsy,s02,K,kappa,T,XX,XXp,Eta,Xi,h1,h2,bl = Wstar_dict['as_list']\n",
    "        amp = np.ones((nQ*nS*nT,))\n",
    "    except:\n",
    "        Wmx,Wmy,Wsx,Wsy,s02,K,kappa,T,XX,XXp,Eta,Xi,h1,h2,bl,amp = Wstar_dict['as_list']\n",
    "    losses[iwt] = Wstar_dict['loss']\n",
    "#     Wmx,Wmy,Wsx,Wsy,s02,K,kappa,T,XX,XXp,Eta,Xi,h1,h2,h3,Eta1,Eta2,Eta3 = Wstar_dict['as_list']\n",
    "    WWmy = calnet.utils.gen_Weight_k_kappa_t(Wmy,K,kappa,T,nS=nS,nT=nT)\n",
    "    WWmx = calnet.utils.gen_Weight_k_kappa_t(Wmx,K,kappa,T,nS=nS,nT=nT)\n",
    "    tiled_s02 = np.tile(s02,nS*nT)\n",
    "#     Ts[iwt] = T\n",
    "    Ks[iwt] = K\n",
    "    Wmys[iwt] = Wmy\n",
    "    Wmxs[iwt] = Wmx\n",
    "    s02s[iwt] = s02\n",
    "    YY0 = sim_utils.f_miller_troyer(Eta,Xi**2+tiled_s02)\n",
    "    YYs[iwt] = amp*YY0.reshape((6,6,nQ*nS*nT)) + np.tile(bl,nS*nT)[np.newaxis]\n",
    "    XXs[iwt] = XX.reshape((6,6,nP*nS*nT))\n",
    "    Etas[iwt] = Eta.reshape((6,6,nQ*nS*nT))\n",
    "    h1s[iwt] = h1\n",
    "    h2s[iwt] = h2\n",
    "    bltile = np.tile(bl,nS*nT)\n",
    "    for ilight in range(YY_opto_tavg.shape[1]):\n",
    "        this_YY = 1/amp[np.newaxis,:]*(YY_opto_tavg[iwt,ilight].reshape((nN,nQ*nS*nT)) - bltile[np.newaxis,:])\n",
    "#         this_YY = YY_opto_tavg[iwt,ilight].reshape((nN,nQ*nS*nT))\n",
    "        phis[iwt,ilight] = mdls[iwt].fprimeXY(mdls[iwt].XX,this_YY).reshape((6,6,nQ*nS*nT))\n",
    "    for istim in range(nN):\n",
    "        iistim,jjstim = np.unravel_index(istim,(6,6))\n",
    "#         phis[iwt,iistim,jjstim] = calnet.utils.fprime_miller_troyer(Eta[istim],Xi[istim]**2+tiled_s02)\n",
    "        for ilight in range(nopto):\n",
    "            Phi = np.diag(phis[iwt,ilight,iistim,jjstim])\n",
    "            couplings[iwt,ilight,iistim,jjstim] = Phi @ np.linalg.inv(np.eye(nQ*nS*nT) - WWmy @ Phi)"
   ]
  },
  {
   "cell_type": "code",
   "execution_count": 15,
   "metadata": {},
   "outputs": [
    {
     "data": {
      "image/png": "[encoded data removed]",
      "text/plain": [
       "<Figure size 432x288 with 1 Axes>"
      ]
     },
     "metadata": {
      "needs_background": "light"
     },
     "output_type": "display_data"
    }
   ],
   "source": [
    "plt.figure()\n",
    "plt.hist(losses[losses<100])\n",
    "low_loss = (losses<60)"
   ]
  },
  {
   "cell_type": "code",
   "execution_count": 16,
   "metadata": {},
   "outputs": [],
   "source": [
    "ilight_halo = 8\n",
    "ilight_chrimson = 16\n",
    "ilight_off = 10"
   ]
  },
  {
   "cell_type": "code",
   "execution_count": 17,
   "metadata": {},
   "outputs": [],
   "source": [
    "# top_smimi = np.array([73])\n",
    "# top_smimi = np.array([79, 60, 73])\n",
    "# top_smimi = np.array([34, 60, 73, 78, 79])\n",
    "# top_smimi = np.array([ 5, 19, 34, 60, 73, 78, 79, 87, 88])"
   ]
  },
  {
   "cell_type": "code",
   "execution_count": 18,
   "metadata": {},
   "outputs": [
    {
     "data": {
      "text/plain": [
       "<Figure size 432x288 with 0 Axes>"
      ]
     },
     "metadata": {},
     "output_type": "display_data"
    }
   ],
   "source": [
    "reload(ut)\n",
    "plt.figure()\n",
    "for iwt in range(nwt):\n",
    "    if iwt in top_smimi:\n",
    "        plt.subplot(10,10,iwt+1)\n",
    "        mx = np.max(np.abs(couplings[iwt,:,:,:,4,0]))\n",
    "        ut.imshow_hot_cold(couplings[iwt,ilight_off,:,:,4,0],mx=mx)\n",
    "        plt.axis('off')\n",
    "# plt.colorbar()"
   ]
  },
  {
   "cell_type": "code",
   "execution_count": 19,
   "metadata": {},
   "outputs": [
    {
     "data": {
      "text/plain": [
       "<Figure size 432x288 with 0 Axes>"
      ]
     },
     "metadata": {},
     "output_type": "display_data"
    }
   ],
   "source": [
    "plt.figure()\n",
    "for iwt in range(np.minimum(low_loss.sum(),100)):\n",
    "    plt.subplot(10,10,iwt+1)\n",
    "    mx = np.max(np.abs(couplings[low_loss][iwt,:,:,:,4,0]))\n",
    "    ut.imshow_hot_cold(couplings[low_loss][iwt,ilight_off,:,:,4,0],mx=mx)\n",
    "    plt.axis('off')\n",
    "# plt.colorbar()"
   ]
  },
  {
   "cell_type": "code",
   "execution_count": 20,
   "metadata": {},
   "outputs": [
    {
     "data": {
      "text/plain": [
       "<Figure size 432x288 with 0 Axes>"
      ]
     },
     "metadata": {},
     "output_type": "display_data"
    }
   ],
   "source": [
    "plt.figure()\n",
    "for iwt in range(np.minimum(low_loss.sum(),100)):\n",
    "    plt.subplot(10,10,iwt+1)\n",
    "    mx = np.max(np.abs(couplings[low_loss][iwt,:,:,:,4,0]))\n",
    "    ut.imshow_hot_cold(couplings[low_loss][iwt,ilight_chrimson,:,:,4,0],mx=mx)\n",
    "    plt.axis('off')\n",
    "# plt.colorbar()"
   ]
  },
  {
   "cell_type": "code",
   "execution_count": 21,
   "metadata": {},
   "outputs": [
    {
     "ename": "NameError",
     "evalue": "name 'couplings' is not defined",
     "output_type": "error",
     "traceback": [
      "\u001b[0;31m---------------------------------------------------------------------------\u001b[0m",
      "\u001b[0;31mNameError\u001b[0m                                 Traceback (most recent call last)",
      "\u001b[0;32m<ipython-input-21-217566b1306b>\u001b[0m in \u001b[0;36m<module>\u001b[0;34m\u001b[0m\n\u001b[1;32m      4\u001b[0m \u001b[0misize\u001b[0m \u001b[0;34m=\u001b[0m \u001b[0;36m3\u001b[0m\u001b[0;34m\u001b[0m\u001b[0;34m\u001b[0m\u001b[0m\n\u001b[1;32m      5\u001b[0m \u001b[0mcolors\u001b[0m \u001b[0;34m=\u001b[0m \u001b[0mnp\u001b[0m\u001b[0;34m.\u001b[0m\u001b[0marray\u001b[0m\u001b[0;34m(\u001b[0m\u001b[0;34m(\u001b[0m\u001b[0;34m(\u001b[0m\u001b[0;36m1\u001b[0m\u001b[0;34m,\u001b[0m\u001b[0;36m0.8\u001b[0m\u001b[0;34m,\u001b[0m\u001b[0;36m0\u001b[0m\u001b[0;34m)\u001b[0m\u001b[0;34m,\u001b[0m\u001b[0;34m(\u001b[0m\u001b[0;36m0\u001b[0m\u001b[0;34m,\u001b[0m\u001b[0;36m0\u001b[0m\u001b[0;34m,\u001b[0m\u001b[0;36m0\u001b[0m\u001b[0;34m)\u001b[0m\u001b[0;34m,\u001b[0m\u001b[0;34m(\u001b[0m\u001b[0;36m1\u001b[0m\u001b[0;34m,\u001b[0m\u001b[0;36m0\u001b[0m\u001b[0;34m,\u001b[0m\u001b[0;36m0\u001b[0m\u001b[0;34m)\u001b[0m\u001b[0;34m)\u001b[0m\u001b[0;34m)\u001b[0m\u001b[0;34m\u001b[0m\u001b[0;34m\u001b[0m\u001b[0m\n\u001b[0;32m----> 6\u001b[0;31m \u001b[0mut\u001b[0m\u001b[0;34m.\u001b[0m\u001b[0mplot_pct_errorbars_hillel\u001b[0m\u001b[0;34m(\u001b[0m\u001b[0mnp\u001b[0m\u001b[0;34m.\u001b[0m\u001b[0marange\u001b[0m\u001b[0;34m(\u001b[0m\u001b[0;36m6\u001b[0m\u001b[0;34m)\u001b[0m\u001b[0;34m,\u001b[0m\u001b[0mcouplings\u001b[0m\u001b[0;34m[\u001b[0m\u001b[0mlow_loss\u001b[0m\u001b[0;34m]\u001b[0m\u001b[0;34m[\u001b[0m\u001b[0;34m:\u001b[0m\u001b[0;34m,\u001b[0m\u001b[0;34m[\u001b[0m\u001b[0milight_halo\u001b[0m\u001b[0;34m,\u001b[0m\u001b[0milight_off\u001b[0m\u001b[0;34m,\u001b[0m\u001b[0milight_chrimson\u001b[0m\u001b[0;34m]\u001b[0m\u001b[0;34m]\u001b[0m\u001b[0;34m[\u001b[0m\u001b[0;34m:\u001b[0m\u001b[0;34m,\u001b[0m\u001b[0;34m:\u001b[0m\u001b[0;34m,\u001b[0m\u001b[0misize\u001b[0m\u001b[0;34m,\u001b[0m\u001b[0;34m:\u001b[0m\u001b[0;34m,\u001b[0m\u001b[0mi\u001b[0m\u001b[0;34m,\u001b[0m\u001b[0mj\u001b[0m\u001b[0;34m]\u001b[0m\u001b[0;34m,\u001b[0m\u001b[0mpct\u001b[0m\u001b[0;34m=\u001b[0m\u001b[0;34m(\u001b[0m\u001b[0;36m16\u001b[0m\u001b[0;34m,\u001b[0m\u001b[0;36m84\u001b[0m\u001b[0;34m)\u001b[0m\u001b[0;34m,\u001b[0m\u001b[0mcolors\u001b[0m\u001b[0;34m=\u001b[0m\u001b[0mcolors\u001b[0m\u001b[0;34m)\u001b[0m\u001b[0;34m\u001b[0m\u001b[0;34m\u001b[0m\u001b[0m\n\u001b[0m\u001b[1;32m      7\u001b[0m \u001b[0mut\u001b[0m\u001b[0;34m.\u001b[0m\u001b[0merase_top_right\u001b[0m\u001b[0;34m(\u001b[0m\u001b[0;34m)\u001b[0m\u001b[0;34m\u001b[0m\u001b[0;34m\u001b[0m\u001b[0m\n\u001b[1;32m      8\u001b[0m \u001b[0mplt\u001b[0m\u001b[0;34m.\u001b[0m\u001b[0maxhline\u001b[0m\u001b[0;34m(\u001b[0m\u001b[0mc\u001b[0m\u001b[0;34m=\u001b[0m\u001b[0;34m'k'\u001b[0m\u001b[0;34m,\u001b[0m\u001b[0mlinestyle\u001b[0m\u001b[0;34m=\u001b[0m\u001b[0;34m'dashed'\u001b[0m\u001b[0;34m)\u001b[0m\u001b[0;34m\u001b[0m\u001b[0;34m\u001b[0m\u001b[0m\n",
      "\u001b[0;31mNameError\u001b[0m: name 'couplings' is not defined"
     ]
    },
    {
     "data": {
      "text/plain": [
       "<Figure size 180x180 with 0 Axes>"
      ]
     },
     "metadata": {},
     "output_type": "display_data"
    }
   ],
   "source": [
    "i,j = 4,0\n",
    "plt.figure(figsize=(2.5,2.5))\n",
    "ucontrast = np.array((0,6,12,25,50,100))\n",
    "isize = 3\n",
    "colors = np.array(((1,0.8,0),(0,0,0),(1,0,0)))\n",
    "ut.plot_pct_errorbars_hillel(np.arange(6),couplings[low_loss][:,[ilight_halo,ilight_off,ilight_chrimson]][:,:,isize,:,i,j],pct=(16,84),colors=colors)\n",
    "ut.erase_top_right()\n",
    "plt.axhline(c='k',linestyle='dashed')\n",
    "plt.ylabel(r'near PC response'+'\\n to driving far PC')\n",
    "plt.title('22$^o$ size')\n",
    "plt.xticks(np.arange(6),ucontrast)\n",
    "plt.tight_layout()\n",
    "# plt.savefig('figures/far_pc_near_pc_coupling_sim_vip_opto.eps')\n"
   ]
  },
  {
   "cell_type": "code",
   "execution_count": 22,
   "metadata": {},
   "outputs": [
    {
     "ename": "NameError",
     "evalue": "name 'couplings' is not defined",
     "output_type": "error",
     "traceback": [
      "\u001b[0;31m---------------------------------------------------------------------------\u001b[0m",
      "\u001b[0;31mNameError\u001b[0m                                 Traceback (most recent call last)",
      "\u001b[0;32m<ipython-input-22-ba9b8885d47f>\u001b[0m in \u001b[0;36m<module>\u001b[0;34m\u001b[0m\n\u001b[1;32m      4\u001b[0m \u001b[0misize\u001b[0m \u001b[0;34m=\u001b[0m \u001b[0;36m0\u001b[0m\u001b[0;34m\u001b[0m\u001b[0;34m\u001b[0m\u001b[0m\n\u001b[1;32m      5\u001b[0m \u001b[0mcolors\u001b[0m \u001b[0;34m=\u001b[0m \u001b[0mnp\u001b[0m\u001b[0;34m.\u001b[0m\u001b[0marray\u001b[0m\u001b[0;34m(\u001b[0m\u001b[0;34m(\u001b[0m\u001b[0;34m(\u001b[0m\u001b[0;36m1\u001b[0m\u001b[0;34m,\u001b[0m\u001b[0;36m0.8\u001b[0m\u001b[0;34m,\u001b[0m\u001b[0;36m0\u001b[0m\u001b[0;34m)\u001b[0m\u001b[0;34m,\u001b[0m\u001b[0;34m(\u001b[0m\u001b[0;36m0\u001b[0m\u001b[0;34m,\u001b[0m\u001b[0;36m0\u001b[0m\u001b[0;34m,\u001b[0m\u001b[0;36m0\u001b[0m\u001b[0;34m)\u001b[0m\u001b[0;34m,\u001b[0m\u001b[0;34m(\u001b[0m\u001b[0;36m1\u001b[0m\u001b[0;34m,\u001b[0m\u001b[0;36m0\u001b[0m\u001b[0;34m,\u001b[0m\u001b[0;36m0\u001b[0m\u001b[0;34m)\u001b[0m\u001b[0;34m)\u001b[0m\u001b[0;34m)\u001b[0m\u001b[0;34m\u001b[0m\u001b[0;34m\u001b[0m\u001b[0m\n\u001b[0;32m----> 6\u001b[0;31m \u001b[0mut\u001b[0m\u001b[0;34m.\u001b[0m\u001b[0mplot_bootstrapped_errorbars_hillel\u001b[0m\u001b[0;34m(\u001b[0m\u001b[0mnp\u001b[0m\u001b[0;34m.\u001b[0m\u001b[0marange\u001b[0m\u001b[0;34m(\u001b[0m\u001b[0;36m6\u001b[0m\u001b[0;34m)\u001b[0m\u001b[0;34m,\u001b[0m\u001b[0mcouplings\u001b[0m\u001b[0;34m[\u001b[0m\u001b[0mlow_loss\u001b[0m\u001b[0;34m]\u001b[0m\u001b[0;34m[\u001b[0m\u001b[0;34m:\u001b[0m\u001b[0;34m,\u001b[0m\u001b[0;34m[\u001b[0m\u001b[0milight_off\u001b[0m\u001b[0;34m]\u001b[0m\u001b[0;34m]\u001b[0m\u001b[0;34m[\u001b[0m\u001b[0;34m:\u001b[0m\u001b[0;34m,\u001b[0m\u001b[0;34m:\u001b[0m\u001b[0;34m,\u001b[0m\u001b[0misize\u001b[0m\u001b[0;34m,\u001b[0m\u001b[0;34m:\u001b[0m\u001b[0;34m,\u001b[0m\u001b[0mi\u001b[0m\u001b[0;34m,\u001b[0m\u001b[0mj\u001b[0m\u001b[0;34m]\u001b[0m\u001b[0;34m,\u001b[0m\u001b[0mpct\u001b[0m\u001b[0;34m=\u001b[0m\u001b[0;34m(\u001b[0m\u001b[0;36m16\u001b[0m\u001b[0;34m,\u001b[0m\u001b[0;36m84\u001b[0m\u001b[0;34m)\u001b[0m\u001b[0;34m,\u001b[0m\u001b[0mcolors\u001b[0m\u001b[0;34m=\u001b[0m\u001b[0mcolors\u001b[0m\u001b[0;34m[\u001b[0m\u001b[0;36m1\u001b[0m\u001b[0;34m:\u001b[0m\u001b[0;36m2\u001b[0m\u001b[0;34m]\u001b[0m\u001b[0;34m)\u001b[0m\u001b[0;34m\u001b[0m\u001b[0;34m\u001b[0m\u001b[0m\n\u001b[0m\u001b[1;32m      7\u001b[0m \u001b[0mut\u001b[0m\u001b[0;34m.\u001b[0m\u001b[0merase_top_right\u001b[0m\u001b[0;34m(\u001b[0m\u001b[0;34m)\u001b[0m\u001b[0;34m\u001b[0m\u001b[0;34m\u001b[0m\u001b[0m\n\u001b[1;32m      8\u001b[0m \u001b[0mplt\u001b[0m\u001b[0;34m.\u001b[0m\u001b[0maxhline\u001b[0m\u001b[0;34m(\u001b[0m\u001b[0mc\u001b[0m\u001b[0;34m=\u001b[0m\u001b[0;34m'k'\u001b[0m\u001b[0;34m,\u001b[0m\u001b[0mlinestyle\u001b[0m\u001b[0;34m=\u001b[0m\u001b[0;34m'dashed'\u001b[0m\u001b[0;34m)\u001b[0m\u001b[0;34m\u001b[0m\u001b[0;34m\u001b[0m\u001b[0m\n",
      "\u001b[0;31mNameError\u001b[0m: name 'couplings' is not defined"
     ]
    },
    {
     "data": {
      "text/plain": [
       "<Figure size 180x180 with 0 Axes>"
      ]
     },
     "metadata": {},
     "output_type": "display_data"
    }
   ],
   "source": [
    "i,j = 0,0\n",
    "plt.figure(figsize=(2.5,2.5))\n",
    "ucontrast = np.array((0,6,12,25,50,100))\n",
    "isize = 0\n",
    "colors = np.array(((1,0.8,0),(0,0,0),(1,0,0)))\n",
    "ut.plot_bootstrapped_errorbars_hillel(np.arange(6),couplings[low_loss][:,[ilight_off]][:,:,isize,:,i,j],pct=(16,84),colors=colors[1:2])\n",
    "ut.erase_top_right()\n",
    "plt.axhline(c='k',linestyle='dashed')\n",
    "plt.ylabel(r'near PC response'+'\\n to driving near PC')\n",
    "plt.title('5$^o$ size')\n",
    "plt.xticks(np.arange(6),ucontrast)\n",
    "plt.tight_layout()\n",
    "# plt.savefig('figures/near_pc_near_pc_coupling_sim_vip_opto.eps')\n"
   ]
  },
  {
   "cell_type": "code",
   "execution_count": 23,
   "metadata": {},
   "outputs": [
    {
     "ename": "NameError",
     "evalue": "name 'couplings' is not defined",
     "output_type": "error",
     "traceback": [
      "\u001b[0;31m---------------------------------------------------------------------------\u001b[0m",
      "\u001b[0;31mNameError\u001b[0m                                 Traceback (most recent call last)",
      "\u001b[0;32m<ipython-input-23-6db6d661d832>\u001b[0m in \u001b[0;36m<module>\u001b[0;34m\u001b[0m\n\u001b[0;32m----> 1\u001b[0;31m \u001b[0mcouplings\u001b[0m\u001b[0;34m[\u001b[0m\u001b[0mlow_loss\u001b[0m\u001b[0;34m]\u001b[0m\u001b[0;34m.\u001b[0m\u001b[0mshape\u001b[0m\u001b[0;34m\u001b[0m\u001b[0;34m\u001b[0m\u001b[0m\n\u001b[0m",
      "\u001b[0;31mNameError\u001b[0m: name 'couplings' is not defined"
     ]
    }
   ],
   "source": [
    "couplings[low_loss].shape"
   ]
  },
  {
   "cell_type": "code",
   "execution_count": 24,
   "metadata": {},
   "outputs": [
    {
     "ename": "NameError",
     "evalue": "name 'couplings' is not defined",
     "output_type": "error",
     "traceback": [
      "\u001b[0;31m---------------------------------------------------------------------------\u001b[0m",
      "\u001b[0;31mNameError\u001b[0m                                 Traceback (most recent call last)",
      "\u001b[0;32m<ipython-input-24-fe1ce9da72f5>\u001b[0m in \u001b[0;36m<module>\u001b[0;34m\u001b[0m\n\u001b[1;32m      3\u001b[0m \u001b[0misize\u001b[0m \u001b[0;34m=\u001b[0m \u001b[0;36m3\u001b[0m\u001b[0;34m\u001b[0m\u001b[0;34m\u001b[0m\u001b[0m\n\u001b[1;32m      4\u001b[0m \u001b[0mcolors\u001b[0m \u001b[0;34m=\u001b[0m \u001b[0mnp\u001b[0m\u001b[0;34m.\u001b[0m\u001b[0marray\u001b[0m\u001b[0;34m(\u001b[0m\u001b[0;34m(\u001b[0m\u001b[0;34m(\u001b[0m\u001b[0;36m1\u001b[0m\u001b[0;34m,\u001b[0m\u001b[0;36m0.8\u001b[0m\u001b[0;34m,\u001b[0m\u001b[0;36m0\u001b[0m\u001b[0;34m)\u001b[0m\u001b[0;34m,\u001b[0m\u001b[0;34m(\u001b[0m\u001b[0;36m0\u001b[0m\u001b[0;34m,\u001b[0m\u001b[0;36m0\u001b[0m\u001b[0;34m,\u001b[0m\u001b[0;36m0\u001b[0m\u001b[0;34m)\u001b[0m\u001b[0;34m,\u001b[0m\u001b[0;34m(\u001b[0m\u001b[0;36m1\u001b[0m\u001b[0;34m,\u001b[0m\u001b[0;36m0\u001b[0m\u001b[0;34m,\u001b[0m\u001b[0;36m0\u001b[0m\u001b[0;34m)\u001b[0m\u001b[0;34m)\u001b[0m\u001b[0;34m)\u001b[0m\u001b[0;34m\u001b[0m\u001b[0;34m\u001b[0m\u001b[0m\n\u001b[0;32m----> 5\u001b[0;31m \u001b[0mut\u001b[0m\u001b[0;34m.\u001b[0m\u001b[0mplot_bootstrapped_errorbars_hillel\u001b[0m\u001b[0;34m(\u001b[0m\u001b[0mnp\u001b[0m\u001b[0;34m.\u001b[0m\u001b[0marange\u001b[0m\u001b[0;34m(\u001b[0m\u001b[0;36m6\u001b[0m\u001b[0;34m)\u001b[0m\u001b[0;34m,\u001b[0m\u001b[0mcouplings\u001b[0m\u001b[0;34m[\u001b[0m\u001b[0mlow_loss\u001b[0m\u001b[0;34m]\u001b[0m\u001b[0;34m[\u001b[0m\u001b[0;34m:\u001b[0m\u001b[0;34m,\u001b[0m\u001b[0;34m[\u001b[0m\u001b[0milight_off\u001b[0m\u001b[0;34m]\u001b[0m\u001b[0;34m]\u001b[0m\u001b[0;34m[\u001b[0m\u001b[0;34m:\u001b[0m\u001b[0;34m,\u001b[0m\u001b[0;34m:\u001b[0m\u001b[0;34m,\u001b[0m\u001b[0misize\u001b[0m\u001b[0;34m,\u001b[0m\u001b[0;34m:\u001b[0m\u001b[0;34m,\u001b[0m\u001b[0mi\u001b[0m\u001b[0;34m,\u001b[0m\u001b[0mj\u001b[0m\u001b[0;34m]\u001b[0m\u001b[0;34m,\u001b[0m\u001b[0mpct\u001b[0m\u001b[0;34m=\u001b[0m\u001b[0;34m(\u001b[0m\u001b[0;36m16\u001b[0m\u001b[0;34m,\u001b[0m\u001b[0;36m84\u001b[0m\u001b[0;34m)\u001b[0m\u001b[0;34m,\u001b[0m\u001b[0mcolors\u001b[0m\u001b[0;34m=\u001b[0m\u001b[0mcolors\u001b[0m\u001b[0;34m[\u001b[0m\u001b[0;36m1\u001b[0m\u001b[0;34m:\u001b[0m\u001b[0;36m2\u001b[0m\u001b[0;34m]\u001b[0m\u001b[0;34m)\u001b[0m\u001b[0;34m\u001b[0m\u001b[0;34m\u001b[0m\u001b[0m\n\u001b[0m\u001b[1;32m      6\u001b[0m \u001b[0mut\u001b[0m\u001b[0;34m.\u001b[0m\u001b[0merase_top_right\u001b[0m\u001b[0;34m(\u001b[0m\u001b[0;34m)\u001b[0m\u001b[0;34m\u001b[0m\u001b[0;34m\u001b[0m\u001b[0m\n\u001b[1;32m      7\u001b[0m \u001b[0mplt\u001b[0m\u001b[0;34m.\u001b[0m\u001b[0maxhline\u001b[0m\u001b[0;34m(\u001b[0m\u001b[0mc\u001b[0m\u001b[0;34m=\u001b[0m\u001b[0;34m'k'\u001b[0m\u001b[0;34m,\u001b[0m\u001b[0mlinestyle\u001b[0m\u001b[0;34m=\u001b[0m\u001b[0;34m'dashed'\u001b[0m\u001b[0;34m)\u001b[0m\u001b[0;34m\u001b[0m\u001b[0;34m\u001b[0m\u001b[0m\n",
      "\u001b[0;31mNameError\u001b[0m: name 'couplings' is not defined"
     ]
    },
    {
     "data": {
      "text/plain": [
       "<Figure size 180x180 with 0 Axes>"
      ]
     },
     "metadata": {},
     "output_type": "display_data"
    }
   ],
   "source": [
    "i,j = 4,0\n",
    "plt.figure(figsize=(2.5,2.5))\n",
    "isize = 3\n",
    "colors = np.array(((1,0.8,0),(0,0,0),(1,0,0)))\n",
    "ut.plot_bootstrapped_errorbars_hillel(np.arange(6),couplings[low_loss][:,[ilight_off]][:,:,isize,:,i,j],pct=(16,84),colors=colors[1:2])\n",
    "ut.erase_top_right()\n",
    "plt.axhline(c='k',linestyle='dashed')\n",
    "plt.ylabel(r'near PC response'+'\\n to driving far PC')\n",
    "plt.title('22$^o$ size')\n",
    "plt.xticks(np.arange(6),ucontrast)\n",
    "plt.tight_layout()\n",
    "# plt.savefig('figures/far_pc_near_pc_coupling.eps')\n"
   ]
  },
  {
   "cell_type": "code",
   "execution_count": 25,
   "metadata": {},
   "outputs": [
    {
     "ename": "NameError",
     "evalue": "name 'couplings' is not defined",
     "output_type": "error",
     "traceback": [
      "\u001b[0;31m---------------------------------------------------------------------------\u001b[0m",
      "\u001b[0;31mNameError\u001b[0m                                 Traceback (most recent call last)",
      "\u001b[0;32m<ipython-input-25-8ed28081953f>\u001b[0m in \u001b[0;36m<module>\u001b[0;34m\u001b[0m\n\u001b[1;32m      3\u001b[0m \u001b[0misize\u001b[0m \u001b[0;34m=\u001b[0m \u001b[0;36m3\u001b[0m\u001b[0;34m\u001b[0m\u001b[0;34m\u001b[0m\u001b[0m\n\u001b[1;32m      4\u001b[0m \u001b[0mcolors\u001b[0m \u001b[0;34m=\u001b[0m \u001b[0mnp\u001b[0m\u001b[0;34m.\u001b[0m\u001b[0marray\u001b[0m\u001b[0;34m(\u001b[0m\u001b[0;34m(\u001b[0m\u001b[0;34m(\u001b[0m\u001b[0;36m1\u001b[0m\u001b[0;34m,\u001b[0m\u001b[0;36m0.8\u001b[0m\u001b[0;34m,\u001b[0m\u001b[0;36m0\u001b[0m\u001b[0;34m)\u001b[0m\u001b[0;34m,\u001b[0m\u001b[0;34m(\u001b[0m\u001b[0;36m0\u001b[0m\u001b[0;34m,\u001b[0m\u001b[0;36m0\u001b[0m\u001b[0;34m,\u001b[0m\u001b[0;36m0\u001b[0m\u001b[0;34m)\u001b[0m\u001b[0;34m,\u001b[0m\u001b[0;34m(\u001b[0m\u001b[0;36m1\u001b[0m\u001b[0;34m,\u001b[0m\u001b[0;36m0\u001b[0m\u001b[0;34m,\u001b[0m\u001b[0;36m0\u001b[0m\u001b[0;34m)\u001b[0m\u001b[0;34m)\u001b[0m\u001b[0;34m)\u001b[0m\u001b[0;34m\u001b[0m\u001b[0;34m\u001b[0m\u001b[0m\n\u001b[0;32m----> 5\u001b[0;31m \u001b[0;32mfor\u001b[0m \u001b[0miwt\u001b[0m \u001b[0;32min\u001b[0m \u001b[0mrange\u001b[0m\u001b[0;34m(\u001b[0m\u001b[0mcouplings\u001b[0m\u001b[0;34m.\u001b[0m\u001b[0mshape\u001b[0m\u001b[0;34m[\u001b[0m\u001b[0;36m0\u001b[0m\u001b[0;34m]\u001b[0m\u001b[0;34m)\u001b[0m\u001b[0;34m:\u001b[0m\u001b[0;34m\u001b[0m\u001b[0;34m\u001b[0m\u001b[0m\n\u001b[0m\u001b[1;32m      6\u001b[0m     \u001b[0mut\u001b[0m\u001b[0;34m.\u001b[0m\u001b[0mplot_bootstrapped_errorbars_hillel\u001b[0m\u001b[0;34m(\u001b[0m\u001b[0mnp\u001b[0m\u001b[0;34m.\u001b[0m\u001b[0marange\u001b[0m\u001b[0;34m(\u001b[0m\u001b[0;36m6\u001b[0m\u001b[0;34m)\u001b[0m\u001b[0;34m,\u001b[0m\u001b[0mcouplings\u001b[0m\u001b[0;34m[\u001b[0m\u001b[0miwt\u001b[0m\u001b[0;34m:\u001b[0m\u001b[0miwt\u001b[0m\u001b[0;34m+\u001b[0m\u001b[0;36m1\u001b[0m\u001b[0;34m,\u001b[0m\u001b[0;34m[\u001b[0m\u001b[0milight_off\u001b[0m\u001b[0;34m]\u001b[0m\u001b[0;34m]\u001b[0m\u001b[0;34m[\u001b[0m\u001b[0;34m:\u001b[0m\u001b[0;34m,\u001b[0m\u001b[0;34m:\u001b[0m\u001b[0;34m,\u001b[0m\u001b[0misize\u001b[0m\u001b[0;34m,\u001b[0m\u001b[0;34m:\u001b[0m\u001b[0;34m,\u001b[0m\u001b[0mi\u001b[0m\u001b[0;34m,\u001b[0m\u001b[0mj\u001b[0m\u001b[0;34m]\u001b[0m\u001b[0;34m,\u001b[0m\u001b[0mpct\u001b[0m\u001b[0;34m=\u001b[0m\u001b[0;34m(\u001b[0m\u001b[0;36m16\u001b[0m\u001b[0;34m,\u001b[0m\u001b[0;36m84\u001b[0m\u001b[0;34m)\u001b[0m\u001b[0;34m,\u001b[0m\u001b[0mcolors\u001b[0m\u001b[0;34m=\u001b[0m\u001b[0mcolors\u001b[0m\u001b[0;34m[\u001b[0m\u001b[0;36m1\u001b[0m\u001b[0;34m:\u001b[0m\u001b[0;36m2\u001b[0m\u001b[0;34m]\u001b[0m\u001b[0;34m)\u001b[0m\u001b[0;34m\u001b[0m\u001b[0;34m\u001b[0m\u001b[0m\n\u001b[1;32m      7\u001b[0m \u001b[0mut\u001b[0m\u001b[0;34m.\u001b[0m\u001b[0merase_top_right\u001b[0m\u001b[0;34m(\u001b[0m\u001b[0;34m)\u001b[0m\u001b[0;34m\u001b[0m\u001b[0;34m\u001b[0m\u001b[0m\n",
      "\u001b[0;31mNameError\u001b[0m: name 'couplings' is not defined"
     ]
    },
    {
     "data": {
      "text/plain": [
       "<Figure size 180x180 with 0 Axes>"
      ]
     },
     "metadata": {},
     "output_type": "display_data"
    }
   ],
   "source": [
    "i,j = 4,0\n",
    "plt.figure(figsize=(2.5,2.5))\n",
    "isize = 3\n",
    "colors = np.array(((1,0.8,0),(0,0,0),(1,0,0)))\n",
    "for iwt in range(couplings.shape[0]):\n",
    "    ut.plot_bootstrapped_errorbars_hillel(np.arange(6),couplings[iwt:iwt+1,[ilight_off]][:,:,isize,:,i,j],pct=(16,84),colors=colors[1:2])\n",
    "ut.erase_top_right()\n",
    "plt.axhline(c='k',linestyle='dashed')\n",
    "plt.ylabel(r'near PC response'+'\\n to driving far PC')\n",
    "plt.title('22$^o$ size')\n",
    "plt.xticks(np.arange(6),ucontrast)\n",
    "plt.tight_layout()\n",
    "# plt.savefig('figures/far_pc_near_pc_coupling.eps')\n"
   ]
  },
  {
   "cell_type": "code",
   "execution_count": 26,
   "metadata": {},
   "outputs": [
    {
     "ename": "NameError",
     "evalue": "name 'couplings' is not defined",
     "output_type": "error",
     "traceback": [
      "\u001b[0;31m---------------------------------------------------------------------------\u001b[0m",
      "\u001b[0;31mNameError\u001b[0m                                 Traceback (most recent call last)",
      "\u001b[0;32m<ipython-input-26-57143fd2006d>\u001b[0m in \u001b[0;36m<module>\u001b[0;34m\u001b[0m\n\u001b[1;32m      3\u001b[0m \u001b[0misize\u001b[0m \u001b[0;34m=\u001b[0m \u001b[0;36m3\u001b[0m\u001b[0;34m\u001b[0m\u001b[0;34m\u001b[0m\u001b[0m\n\u001b[1;32m      4\u001b[0m \u001b[0mcolors\u001b[0m \u001b[0;34m=\u001b[0m \u001b[0mnp\u001b[0m\u001b[0;34m.\u001b[0m\u001b[0marray\u001b[0m\u001b[0;34m(\u001b[0m\u001b[0;34m(\u001b[0m\u001b[0;34m(\u001b[0m\u001b[0;36m1\u001b[0m\u001b[0;34m,\u001b[0m\u001b[0;36m0.8\u001b[0m\u001b[0;34m,\u001b[0m\u001b[0;36m0\u001b[0m\u001b[0;34m)\u001b[0m\u001b[0;34m,\u001b[0m\u001b[0;34m(\u001b[0m\u001b[0;36m0\u001b[0m\u001b[0;34m,\u001b[0m\u001b[0;36m0\u001b[0m\u001b[0;34m,\u001b[0m\u001b[0;36m0\u001b[0m\u001b[0;34m)\u001b[0m\u001b[0;34m,\u001b[0m\u001b[0;34m(\u001b[0m\u001b[0;36m1\u001b[0m\u001b[0;34m,\u001b[0m\u001b[0;36m0\u001b[0m\u001b[0;34m,\u001b[0m\u001b[0;36m0\u001b[0m\u001b[0;34m)\u001b[0m\u001b[0;34m)\u001b[0m\u001b[0;34m)\u001b[0m\u001b[0;34m\u001b[0m\u001b[0;34m\u001b[0m\u001b[0m\n\u001b[0;32m----> 5\u001b[0;31m \u001b[0mut\u001b[0m\u001b[0;34m.\u001b[0m\u001b[0mplot_bootstrapped_errorbars_hillel\u001b[0m\u001b[0;34m(\u001b[0m\u001b[0mnp\u001b[0m\u001b[0;34m.\u001b[0m\u001b[0marange\u001b[0m\u001b[0;34m(\u001b[0m\u001b[0;36m6\u001b[0m\u001b[0;34m)\u001b[0m\u001b[0;34m,\u001b[0m\u001b[0mcouplings\u001b[0m\u001b[0;34m[\u001b[0m\u001b[0;34m:\u001b[0m\u001b[0;34m,\u001b[0m\u001b[0;34m[\u001b[0m\u001b[0milight_halo\u001b[0m\u001b[0;34m,\u001b[0m\u001b[0milight_off\u001b[0m\u001b[0;34m,\u001b[0m\u001b[0milight_chrimson\u001b[0m\u001b[0;34m]\u001b[0m\u001b[0;34m]\u001b[0m\u001b[0;34m[\u001b[0m\u001b[0;34m:\u001b[0m\u001b[0;34m,\u001b[0m\u001b[0;34m:\u001b[0m\u001b[0;34m,\u001b[0m\u001b[0misize\u001b[0m\u001b[0;34m,\u001b[0m\u001b[0;34m:\u001b[0m\u001b[0;34m,\u001b[0m\u001b[0mi\u001b[0m\u001b[0;34m,\u001b[0m\u001b[0mj\u001b[0m\u001b[0;34m]\u001b[0m\u001b[0;34m,\u001b[0m\u001b[0mpct\u001b[0m\u001b[0;34m=\u001b[0m\u001b[0;34m(\u001b[0m\u001b[0;36m16\u001b[0m\u001b[0;34m,\u001b[0m\u001b[0;36m84\u001b[0m\u001b[0;34m)\u001b[0m\u001b[0;34m,\u001b[0m\u001b[0mcolors\u001b[0m\u001b[0;34m=\u001b[0m\u001b[0mcolors\u001b[0m\u001b[0;34m)\u001b[0m\u001b[0;34m\u001b[0m\u001b[0;34m\u001b[0m\u001b[0m\n\u001b[0m\u001b[1;32m      6\u001b[0m \u001b[0mut\u001b[0m\u001b[0;34m.\u001b[0m\u001b[0merase_top_right\u001b[0m\u001b[0;34m(\u001b[0m\u001b[0;34m)\u001b[0m\u001b[0;34m\u001b[0m\u001b[0;34m\u001b[0m\u001b[0m\n\u001b[1;32m      7\u001b[0m \u001b[0mplt\u001b[0m\u001b[0;34m.\u001b[0m\u001b[0maxhline\u001b[0m\u001b[0;34m(\u001b[0m\u001b[0mc\u001b[0m\u001b[0;34m=\u001b[0m\u001b[0;34m'k'\u001b[0m\u001b[0;34m,\u001b[0m\u001b[0mlinestyle\u001b[0m\u001b[0;34m=\u001b[0m\u001b[0;34m'dashed'\u001b[0m\u001b[0;34m)\u001b[0m\u001b[0;34m\u001b[0m\u001b[0;34m\u001b[0m\u001b[0m\n",
      "\u001b[0;31mNameError\u001b[0m: name 'couplings' is not defined"
     ]
    },
    {
     "data": {
      "text/plain": [
       "<Figure size 180x180 with 0 Axes>"
      ]
     },
     "metadata": {},
     "output_type": "display_data"
    }
   ],
   "source": [
    "i,j = 0,0\n",
    "plt.figure(figsize=(2.5,2.5))\n",
    "isize = 3\n",
    "colors = np.array(((1,0.8,0),(0,0,0),(1,0,0)))\n",
    "ut.plot_bootstrapped_errorbars_hillel(np.arange(6),couplings[:,[ilight_halo,ilight_off,ilight_chrimson]][:,:,isize,:,i,j],pct=(16,84),colors=colors)\n",
    "ut.erase_top_right()\n",
    "plt.axhline(c='k',linestyle='dashed')\n",
    "plt.ylabel(r'near PC response'+'\\n to driving near PC')\n",
    "plt.title('22$^o$ size')\n"
   ]
  },
  {
   "cell_type": "code",
   "execution_count": 27,
   "metadata": {},
   "outputs": [
    {
     "ename": "NameError",
     "evalue": "name 'couplings' is not defined",
     "output_type": "error",
     "traceback": [
      "\u001b[0;31m---------------------------------------------------------------------------\u001b[0m",
      "\u001b[0;31mNameError\u001b[0m                                 Traceback (most recent call last)",
      "\u001b[0;32m<ipython-input-27-91c57e34f84a>\u001b[0m in \u001b[0;36m<module>\u001b[0;34m\u001b[0m\n\u001b[1;32m      4\u001b[0m \u001b[0misize\u001b[0m \u001b[0;34m=\u001b[0m \u001b[0;36m3\u001b[0m\u001b[0;34m\u001b[0m\u001b[0;34m\u001b[0m\u001b[0m\n\u001b[1;32m      5\u001b[0m \u001b[0mcolors\u001b[0m \u001b[0;34m=\u001b[0m \u001b[0mnp\u001b[0m\u001b[0;34m.\u001b[0m\u001b[0marray\u001b[0m\u001b[0;34m(\u001b[0m\u001b[0;34m(\u001b[0m\u001b[0;34m(\u001b[0m\u001b[0;36m1\u001b[0m\u001b[0;34m,\u001b[0m\u001b[0;36m0.8\u001b[0m\u001b[0;34m,\u001b[0m\u001b[0;36m0\u001b[0m\u001b[0;34m)\u001b[0m\u001b[0;34m,\u001b[0m\u001b[0;34m(\u001b[0m\u001b[0;36m0\u001b[0m\u001b[0;34m,\u001b[0m\u001b[0;36m0\u001b[0m\u001b[0;34m,\u001b[0m\u001b[0;36m0\u001b[0m\u001b[0;34m)\u001b[0m\u001b[0;34m,\u001b[0m\u001b[0;34m(\u001b[0m\u001b[0;36m1\u001b[0m\u001b[0;34m,\u001b[0m\u001b[0;36m0\u001b[0m\u001b[0;34m,\u001b[0m\u001b[0;36m0\u001b[0m\u001b[0;34m)\u001b[0m\u001b[0;34m)\u001b[0m\u001b[0;34m)\u001b[0m\u001b[0;34m\u001b[0m\u001b[0;34m\u001b[0m\u001b[0m\n\u001b[0;32m----> 6\u001b[0;31m \u001b[0mthis_data\u001b[0m \u001b[0;34m=\u001b[0m \u001b[0mcouplings\u001b[0m\u001b[0;34m[\u001b[0m\u001b[0;34m:\u001b[0m\u001b[0;34m,\u001b[0m\u001b[0;34m[\u001b[0m\u001b[0milight_halo\u001b[0m\u001b[0;34m,\u001b[0m\u001b[0milight_off\u001b[0m\u001b[0;34m,\u001b[0m\u001b[0milight_chrimson\u001b[0m\u001b[0;34m]\u001b[0m\u001b[0;34m]\u001b[0m\u001b[0;34m[\u001b[0m\u001b[0;34m:\u001b[0m\u001b[0;34m,\u001b[0m\u001b[0;34m:\u001b[0m\u001b[0;34m,\u001b[0m\u001b[0misize\u001b[0m\u001b[0;34m,\u001b[0m\u001b[0;34m:\u001b[0m\u001b[0;34m,\u001b[0m\u001b[0mi\u001b[0m\u001b[0;34m,\u001b[0m\u001b[0mj\u001b[0m\u001b[0;34m]\u001b[0m\u001b[0;34m/\u001b[0m\u001b[0mphis\u001b[0m\u001b[0;34m[\u001b[0m\u001b[0;34m:\u001b[0m\u001b[0;34m,\u001b[0m\u001b[0;34m[\u001b[0m\u001b[0milight_halo\u001b[0m\u001b[0;34m,\u001b[0m\u001b[0milight_off\u001b[0m\u001b[0;34m,\u001b[0m\u001b[0milight_chrimson\u001b[0m\u001b[0;34m]\u001b[0m\u001b[0;34m]\u001b[0m\u001b[0;34m[\u001b[0m\u001b[0;34m:\u001b[0m\u001b[0;34m,\u001b[0m\u001b[0;34m:\u001b[0m\u001b[0;34m,\u001b[0m\u001b[0misize\u001b[0m\u001b[0;34m,\u001b[0m\u001b[0;34m:\u001b[0m\u001b[0;34m,\u001b[0m\u001b[0mi\u001b[0m\u001b[0;34m]\u001b[0m\u001b[0;34m\u001b[0m\u001b[0;34m\u001b[0m\u001b[0m\n\u001b[0m\u001b[1;32m      7\u001b[0m \u001b[0mut\u001b[0m\u001b[0;34m.\u001b[0m\u001b[0mplot_bootstrapped_errorbars_hillel\u001b[0m\u001b[0;34m(\u001b[0m\u001b[0mnp\u001b[0m\u001b[0;34m.\u001b[0m\u001b[0marange\u001b[0m\u001b[0;34m(\u001b[0m\u001b[0;36m6\u001b[0m\u001b[0;34m)\u001b[0m\u001b[0;34m,\u001b[0m\u001b[0mthis_data\u001b[0m\u001b[0;34m,\u001b[0m\u001b[0mpct\u001b[0m\u001b[0;34m=\u001b[0m\u001b[0;34m(\u001b[0m\u001b[0;36m16\u001b[0m\u001b[0;34m,\u001b[0m\u001b[0;36m84\u001b[0m\u001b[0;34m)\u001b[0m\u001b[0;34m,\u001b[0m\u001b[0mcolors\u001b[0m\u001b[0;34m=\u001b[0m\u001b[0mcolors\u001b[0m\u001b[0;34m)\u001b[0m\u001b[0;34m\u001b[0m\u001b[0;34m\u001b[0m\u001b[0m\n\u001b[1;32m      8\u001b[0m \u001b[0mut\u001b[0m\u001b[0;34m.\u001b[0m\u001b[0merase_top_right\u001b[0m\u001b[0;34m(\u001b[0m\u001b[0;34m)\u001b[0m\u001b[0;34m\u001b[0m\u001b[0;34m\u001b[0m\u001b[0m\n",
      "\u001b[0;31mNameError\u001b[0m: name 'couplings' is not defined"
     ]
    },
    {
     "data": {
      "text/plain": [
       "<Figure size 180x180 with 0 Axes>"
      ]
     },
     "metadata": {},
     "output_type": "display_data"
    }
   ],
   "source": [
    "i,j = 0,0\n",
    "plt.figure(figsize=(2.5,2.5))\n",
    "iwt = 3\n",
    "isize = 3\n",
    "colors = np.array(((1,0.8,0),(0,0,0),(1,0,0)))\n",
    "this_data = couplings[:,[ilight_halo,ilight_off,ilight_chrimson]][:,:,isize,:,i,j]/phis[:,[ilight_halo,ilight_off,ilight_chrimson]][:,:,isize,:,i]\n",
    "ut.plot_bootstrapped_errorbars_hillel(np.arange(6),this_data,pct=(16,84),colors=colors)\n",
    "ut.erase_top_right()\n",
    "plt.axhline(c='k',linestyle='dashed')"
   ]
  },
  {
   "cell_type": "code",
   "execution_count": 28,
   "metadata": {},
   "outputs": [
    {
     "ename": "NameError",
     "evalue": "name 'couplings' is not defined",
     "output_type": "error",
     "traceback": [
      "\u001b[0;31m---------------------------------------------------------------------------\u001b[0m",
      "\u001b[0;31mNameError\u001b[0m                                 Traceback (most recent call last)",
      "\u001b[0;32m<ipython-input-28-d5a35eb0498a>\u001b[0m in \u001b[0;36m<module>\u001b[0;34m\u001b[0m\n\u001b[1;32m      4\u001b[0m \u001b[0misize\u001b[0m \u001b[0;34m=\u001b[0m \u001b[0;36m3\u001b[0m\u001b[0;34m\u001b[0m\u001b[0;34m\u001b[0m\u001b[0m\n\u001b[1;32m      5\u001b[0m \u001b[0mcolors\u001b[0m \u001b[0;34m=\u001b[0m \u001b[0mnp\u001b[0m\u001b[0;34m.\u001b[0m\u001b[0marray\u001b[0m\u001b[0;34m(\u001b[0m\u001b[0;34m(\u001b[0m\u001b[0;34m(\u001b[0m\u001b[0;36m1\u001b[0m\u001b[0;34m,\u001b[0m\u001b[0;36m0.8\u001b[0m\u001b[0;34m,\u001b[0m\u001b[0;36m0\u001b[0m\u001b[0;34m)\u001b[0m\u001b[0;34m,\u001b[0m\u001b[0;34m(\u001b[0m\u001b[0;36m0\u001b[0m\u001b[0;34m,\u001b[0m\u001b[0;36m0\u001b[0m\u001b[0;34m,\u001b[0m\u001b[0;36m0\u001b[0m\u001b[0;34m)\u001b[0m\u001b[0;34m,\u001b[0m\u001b[0;34m(\u001b[0m\u001b[0;36m1\u001b[0m\u001b[0;34m,\u001b[0m\u001b[0;36m0\u001b[0m\u001b[0;34m,\u001b[0m\u001b[0;36m0\u001b[0m\u001b[0;34m)\u001b[0m\u001b[0;34m)\u001b[0m\u001b[0;34m)\u001b[0m\u001b[0;34m\u001b[0m\u001b[0;34m\u001b[0m\u001b[0m\n\u001b[0;32m----> 6\u001b[0;31m \u001b[0mthis_data\u001b[0m \u001b[0;34m=\u001b[0m \u001b[0mcouplings\u001b[0m\u001b[0;34m[\u001b[0m\u001b[0;34m:\u001b[0m\u001b[0;34m,\u001b[0m\u001b[0;34m[\u001b[0m\u001b[0milight_halo\u001b[0m\u001b[0;34m,\u001b[0m\u001b[0milight_off\u001b[0m\u001b[0;34m,\u001b[0m\u001b[0milight_chrimson\u001b[0m\u001b[0;34m]\u001b[0m\u001b[0;34m]\u001b[0m\u001b[0;34m[\u001b[0m\u001b[0;34m:\u001b[0m\u001b[0;34m,\u001b[0m\u001b[0;34m:\u001b[0m\u001b[0;34m,\u001b[0m\u001b[0misize\u001b[0m\u001b[0;34m,\u001b[0m\u001b[0;34m:\u001b[0m\u001b[0;34m,\u001b[0m\u001b[0mi\u001b[0m\u001b[0;34m,\u001b[0m\u001b[0mj\u001b[0m\u001b[0;34m]\u001b[0m\u001b[0;34m/\u001b[0m\u001b[0mphis\u001b[0m\u001b[0;34m[\u001b[0m\u001b[0;34m:\u001b[0m\u001b[0;34m,\u001b[0m\u001b[0;34m[\u001b[0m\u001b[0milight_halo\u001b[0m\u001b[0;34m,\u001b[0m\u001b[0milight_off\u001b[0m\u001b[0;34m,\u001b[0m\u001b[0milight_chrimson\u001b[0m\u001b[0;34m]\u001b[0m\u001b[0;34m]\u001b[0m\u001b[0;34m[\u001b[0m\u001b[0;34m:\u001b[0m\u001b[0;34m,\u001b[0m\u001b[0;34m:\u001b[0m\u001b[0;34m,\u001b[0m\u001b[0misize\u001b[0m\u001b[0;34m,\u001b[0m\u001b[0;34m:\u001b[0m\u001b[0;34m,\u001b[0m\u001b[0mi\u001b[0m\u001b[0;34m]\u001b[0m\u001b[0;34m/\u001b[0m\u001b[0mphis\u001b[0m\u001b[0;34m[\u001b[0m\u001b[0;34m:\u001b[0m\u001b[0;34m,\u001b[0m\u001b[0;34m[\u001b[0m\u001b[0milight_halo\u001b[0m\u001b[0;34m,\u001b[0m\u001b[0milight_off\u001b[0m\u001b[0;34m,\u001b[0m\u001b[0milight_chrimson\u001b[0m\u001b[0;34m]\u001b[0m\u001b[0;34m]\u001b[0m\u001b[0;34m[\u001b[0m\u001b[0;34m:\u001b[0m\u001b[0;34m,\u001b[0m\u001b[0;34m:\u001b[0m\u001b[0;34m,\u001b[0m\u001b[0misize\u001b[0m\u001b[0;34m,\u001b[0m\u001b[0;34m:\u001b[0m\u001b[0;34m,\u001b[0m\u001b[0mj\u001b[0m\u001b[0;34m]\u001b[0m\u001b[0;34m\u001b[0m\u001b[0;34m\u001b[0m\u001b[0m\n\u001b[0m\u001b[1;32m      7\u001b[0m \u001b[0mut\u001b[0m\u001b[0;34m.\u001b[0m\u001b[0mplot_bootstrapped_errorbars_hillel\u001b[0m\u001b[0;34m(\u001b[0m\u001b[0mnp\u001b[0m\u001b[0;34m.\u001b[0m\u001b[0marange\u001b[0m\u001b[0;34m(\u001b[0m\u001b[0;36m6\u001b[0m\u001b[0;34m)\u001b[0m\u001b[0;34m,\u001b[0m\u001b[0mthis_data\u001b[0m\u001b[0;34m,\u001b[0m\u001b[0mpct\u001b[0m\u001b[0;34m=\u001b[0m\u001b[0;34m(\u001b[0m\u001b[0;36m16\u001b[0m\u001b[0;34m,\u001b[0m\u001b[0;36m84\u001b[0m\u001b[0;34m)\u001b[0m\u001b[0;34m,\u001b[0m\u001b[0mcolors\u001b[0m\u001b[0;34m=\u001b[0m\u001b[0mcolors\u001b[0m\u001b[0;34m)\u001b[0m\u001b[0;34m\u001b[0m\u001b[0;34m\u001b[0m\u001b[0m\n\u001b[1;32m      8\u001b[0m \u001b[0mut\u001b[0m\u001b[0;34m.\u001b[0m\u001b[0merase_top_right\u001b[0m\u001b[0;34m(\u001b[0m\u001b[0;34m)\u001b[0m\u001b[0;34m\u001b[0m\u001b[0;34m\u001b[0m\u001b[0m\n",
      "\u001b[0;31mNameError\u001b[0m: name 'couplings' is not defined"
     ]
    },
    {
     "data": {
      "text/plain": [
       "<Figure size 180x180 with 0 Axes>"
      ]
     },
     "metadata": {},
     "output_type": "display_data"
    }
   ],
   "source": [
    "i,j = 2,0\n",
    "plt.figure(figsize=(2.5,2.5))\n",
    "iwt = 3\n",
    "isize = 3\n",
    "colors = np.array(((1,0.8,0),(0,0,0),(1,0,0)))\n",
    "this_data = couplings[:,[ilight_halo,ilight_off,ilight_chrimson]][:,:,isize,:,i,j]/phis[:,[ilight_halo,ilight_off,ilight_chrimson]][:,:,isize,:,i]/phis[:,[ilight_halo,ilight_off,ilight_chrimson]][:,:,isize,:,j]\n",
    "ut.plot_bootstrapped_errorbars_hillel(np.arange(6),this_data,pct=(16,84),colors=colors)\n",
    "ut.erase_top_right()\n",
    "plt.axhline(c='k',linestyle='dashed')"
   ]
  },
  {
   "cell_type": "code",
   "execution_count": 29,
   "metadata": {},
   "outputs": [
    {
     "ename": "NameError",
     "evalue": "name 'couplings' is not defined",
     "output_type": "error",
     "traceback": [
      "\u001b[0;31m---------------------------------------------------------------------------\u001b[0m",
      "\u001b[0;31mNameError\u001b[0m                                 Traceback (most recent call last)",
      "\u001b[0;32m<ipython-input-29-f9d23aa86b93>\u001b[0m in \u001b[0;36m<module>\u001b[0;34m\u001b[0m\n\u001b[1;32m      4\u001b[0m \u001b[0misize\u001b[0m \u001b[0;34m=\u001b[0m \u001b[0;36m3\u001b[0m\u001b[0;34m\u001b[0m\u001b[0;34m\u001b[0m\u001b[0m\n\u001b[1;32m      5\u001b[0m \u001b[0mcolors\u001b[0m \u001b[0;34m=\u001b[0m \u001b[0mnp\u001b[0m\u001b[0;34m.\u001b[0m\u001b[0marray\u001b[0m\u001b[0;34m(\u001b[0m\u001b[0;34m(\u001b[0m\u001b[0;34m(\u001b[0m\u001b[0;36m1\u001b[0m\u001b[0;34m,\u001b[0m\u001b[0;36m0.8\u001b[0m\u001b[0;34m,\u001b[0m\u001b[0;36m0\u001b[0m\u001b[0;34m)\u001b[0m\u001b[0;34m,\u001b[0m\u001b[0;34m(\u001b[0m\u001b[0;36m0\u001b[0m\u001b[0;34m,\u001b[0m\u001b[0;36m0\u001b[0m\u001b[0;34m,\u001b[0m\u001b[0;36m0\u001b[0m\u001b[0;34m)\u001b[0m\u001b[0;34m,\u001b[0m\u001b[0;34m(\u001b[0m\u001b[0;36m1\u001b[0m\u001b[0;34m,\u001b[0m\u001b[0;36m0\u001b[0m\u001b[0;34m,\u001b[0m\u001b[0;36m0\u001b[0m\u001b[0;34m)\u001b[0m\u001b[0;34m)\u001b[0m\u001b[0;34m)\u001b[0m\u001b[0;34m\u001b[0m\u001b[0;34m\u001b[0m\u001b[0m\n\u001b[0;32m----> 6\u001b[0;31m \u001b[0mthis_data\u001b[0m \u001b[0;34m=\u001b[0m \u001b[0mcouplings\u001b[0m\u001b[0;34m[\u001b[0m\u001b[0;34m:\u001b[0m\u001b[0;34m,\u001b[0m\u001b[0;34m[\u001b[0m\u001b[0milight_halo\u001b[0m\u001b[0;34m,\u001b[0m\u001b[0milight_off\u001b[0m\u001b[0;34m,\u001b[0m\u001b[0milight_chrimson\u001b[0m\u001b[0;34m]\u001b[0m\u001b[0;34m]\u001b[0m\u001b[0;34m[\u001b[0m\u001b[0;34m:\u001b[0m\u001b[0;34m,\u001b[0m\u001b[0;34m:\u001b[0m\u001b[0;34m,\u001b[0m\u001b[0misize\u001b[0m\u001b[0;34m,\u001b[0m\u001b[0;34m:\u001b[0m\u001b[0;34m,\u001b[0m\u001b[0mi\u001b[0m\u001b[0;34m,\u001b[0m\u001b[0mj\u001b[0m\u001b[0;34m]\u001b[0m\u001b[0;34m\u001b[0m\u001b[0;34m\u001b[0m\u001b[0m\n\u001b[0m\u001b[1;32m      7\u001b[0m \u001b[0mut\u001b[0m\u001b[0;34m.\u001b[0m\u001b[0mplot_bootstrapped_errorbars_hillel\u001b[0m\u001b[0;34m(\u001b[0m\u001b[0mnp\u001b[0m\u001b[0;34m.\u001b[0m\u001b[0marange\u001b[0m\u001b[0;34m(\u001b[0m\u001b[0;36m6\u001b[0m\u001b[0;34m)\u001b[0m\u001b[0;34m,\u001b[0m\u001b[0mthis_data\u001b[0m\u001b[0;34m,\u001b[0m\u001b[0mpct\u001b[0m\u001b[0;34m=\u001b[0m\u001b[0;34m(\u001b[0m\u001b[0;36m16\u001b[0m\u001b[0;34m,\u001b[0m\u001b[0;36m84\u001b[0m\u001b[0;34m)\u001b[0m\u001b[0;34m,\u001b[0m\u001b[0mcolors\u001b[0m\u001b[0;34m=\u001b[0m\u001b[0mcolors\u001b[0m\u001b[0;34m)\u001b[0m\u001b[0;34m\u001b[0m\u001b[0;34m\u001b[0m\u001b[0m\n\u001b[1;32m      8\u001b[0m \u001b[0mut\u001b[0m\u001b[0;34m.\u001b[0m\u001b[0merase_top_right\u001b[0m\u001b[0;34m(\u001b[0m\u001b[0;34m)\u001b[0m\u001b[0;34m\u001b[0m\u001b[0;34m\u001b[0m\u001b[0m\n",
      "\u001b[0;31mNameError\u001b[0m: name 'couplings' is not defined"
     ]
    },
    {
     "data": {
      "text/plain": [
       "<Figure size 180x180 with 0 Axes>"
      ]
     },
     "metadata": {},
     "output_type": "display_data"
    }
   ],
   "source": [
    "i,j = 2,0\n",
    "plt.figure(figsize=(2.5,2.5))\n",
    "iwt = 3\n",
    "isize = 3\n",
    "colors = np.array(((1,0.8,0),(0,0,0),(1,0,0)))\n",
    "this_data = couplings[:,[ilight_halo,ilight_off,ilight_chrimson]][:,:,isize,:,i,j]\n",
    "ut.plot_bootstrapped_errorbars_hillel(np.arange(6),this_data,pct=(16,84),colors=colors)\n",
    "ut.erase_top_right()\n",
    "plt.axhline(c='k',linestyle='dashed')"
   ]
  },
  {
   "cell_type": "code",
   "execution_count": 30,
   "metadata": {},
   "outputs": [
    {
     "ename": "NameError",
     "evalue": "name 'couplings' is not defined",
     "output_type": "error",
     "traceback": [
      "\u001b[0;31m---------------------------------------------------------------------------\u001b[0m",
      "\u001b[0;31mNameError\u001b[0m                                 Traceback (most recent call last)",
      "\u001b[0;32m<ipython-input-30-bd5a843acefb>\u001b[0m in \u001b[0;36m<module>\u001b[0;34m\u001b[0m\n\u001b[1;32m      4\u001b[0m \u001b[0misize\u001b[0m \u001b[0;34m=\u001b[0m \u001b[0;36m3\u001b[0m\u001b[0;34m\u001b[0m\u001b[0;34m\u001b[0m\u001b[0m\n\u001b[1;32m      5\u001b[0m \u001b[0mcolors\u001b[0m \u001b[0;34m=\u001b[0m \u001b[0mnp\u001b[0m\u001b[0;34m.\u001b[0m\u001b[0marray\u001b[0m\u001b[0;34m(\u001b[0m\u001b[0;34m(\u001b[0m\u001b[0;34m(\u001b[0m\u001b[0;36m1\u001b[0m\u001b[0;34m,\u001b[0m\u001b[0;36m0.8\u001b[0m\u001b[0;34m,\u001b[0m\u001b[0;36m0\u001b[0m\u001b[0;34m)\u001b[0m\u001b[0;34m,\u001b[0m\u001b[0;34m(\u001b[0m\u001b[0;36m0\u001b[0m\u001b[0;34m,\u001b[0m\u001b[0;36m0\u001b[0m\u001b[0;34m,\u001b[0m\u001b[0;36m0\u001b[0m\u001b[0;34m)\u001b[0m\u001b[0;34m,\u001b[0m\u001b[0;34m(\u001b[0m\u001b[0;36m1\u001b[0m\u001b[0;34m,\u001b[0m\u001b[0;36m0\u001b[0m\u001b[0;34m,\u001b[0m\u001b[0;36m0\u001b[0m\u001b[0;34m)\u001b[0m\u001b[0;34m)\u001b[0m\u001b[0;34m)\u001b[0m\u001b[0;34m\u001b[0m\u001b[0;34m\u001b[0m\u001b[0m\n\u001b[0;32m----> 6\u001b[0;31m \u001b[0mthis_data\u001b[0m \u001b[0;34m=\u001b[0m \u001b[0mcouplings\u001b[0m\u001b[0;34m[\u001b[0m\u001b[0;34m:\u001b[0m\u001b[0;34m,\u001b[0m\u001b[0;34m[\u001b[0m\u001b[0milight_halo\u001b[0m\u001b[0;34m,\u001b[0m\u001b[0milight_off\u001b[0m\u001b[0;34m,\u001b[0m\u001b[0milight_chrimson\u001b[0m\u001b[0;34m]\u001b[0m\u001b[0;34m]\u001b[0m\u001b[0;34m[\u001b[0m\u001b[0;34m:\u001b[0m\u001b[0;34m,\u001b[0m\u001b[0;34m:\u001b[0m\u001b[0;34m,\u001b[0m\u001b[0misize\u001b[0m\u001b[0;34m,\u001b[0m\u001b[0;34m:\u001b[0m\u001b[0;34m,\u001b[0m\u001b[0mi\u001b[0m\u001b[0;34m,\u001b[0m\u001b[0mj\u001b[0m\u001b[0;34m]\u001b[0m\u001b[0;34m\u001b[0m\u001b[0;34m\u001b[0m\u001b[0m\n\u001b[0m\u001b[1;32m      7\u001b[0m \u001b[0mut\u001b[0m\u001b[0;34m.\u001b[0m\u001b[0mplot_pct_errorbars_hillel\u001b[0m\u001b[0;34m(\u001b[0m\u001b[0mnp\u001b[0m\u001b[0;34m.\u001b[0m\u001b[0marange\u001b[0m\u001b[0;34m(\u001b[0m\u001b[0;36m6\u001b[0m\u001b[0;34m)\u001b[0m\u001b[0;34m,\u001b[0m\u001b[0mthis_data\u001b[0m\u001b[0;34m,\u001b[0m\u001b[0mpct\u001b[0m\u001b[0;34m=\u001b[0m\u001b[0;34m(\u001b[0m\u001b[0;36m16\u001b[0m\u001b[0;34m,\u001b[0m\u001b[0;36m84\u001b[0m\u001b[0;34m)\u001b[0m\u001b[0;34m,\u001b[0m\u001b[0mcolors\u001b[0m\u001b[0;34m=\u001b[0m\u001b[0mcolors\u001b[0m\u001b[0;34m)\u001b[0m\u001b[0;34m\u001b[0m\u001b[0;34m\u001b[0m\u001b[0m\n\u001b[1;32m      8\u001b[0m \u001b[0mut\u001b[0m\u001b[0;34m.\u001b[0m\u001b[0merase_top_right\u001b[0m\u001b[0;34m(\u001b[0m\u001b[0;34m)\u001b[0m\u001b[0;34m\u001b[0m\u001b[0;34m\u001b[0m\u001b[0m\n",
      "\u001b[0;31mNameError\u001b[0m: name 'couplings' is not defined"
     ]
    },
    {
     "data": {
      "text/plain": [
       "<Figure size 180x180 with 0 Axes>"
      ]
     },
     "metadata": {},
     "output_type": "display_data"
    }
   ],
   "source": [
    "i,j = 1,0\n",
    "plt.figure(figsize=(2.5,2.5))\n",
    "iwt = 3\n",
    "isize = 3\n",
    "colors = np.array(((1,0.8,0),(0,0,0),(1,0,0)))\n",
    "this_data = couplings[:,[ilight_halo,ilight_off,ilight_chrimson]][:,:,isize,:,i,j]\n",
    "ut.plot_pct_errorbars_hillel(np.arange(6),this_data,pct=(16,84),colors=colors)\n",
    "ut.erase_top_right()\n",
    "plt.axhline(c='k',linestyle='dashed')"
   ]
  },
  {
   "cell_type": "code",
   "execution_count": 31,
   "metadata": {},
   "outputs": [
    {
     "ename": "NameError",
     "evalue": "name 'phis' is not defined",
     "output_type": "error",
     "traceback": [
      "\u001b[0;31m---------------------------------------------------------------------------\u001b[0m",
      "\u001b[0;31mNameError\u001b[0m                                 Traceback (most recent call last)",
      "\u001b[0;32m<ipython-input-31-d3d66bc03098>\u001b[0m in \u001b[0;36m<module>\u001b[0;34m\u001b[0m\n\u001b[1;32m      4\u001b[0m \u001b[0misize\u001b[0m \u001b[0;34m=\u001b[0m \u001b[0;36m3\u001b[0m\u001b[0;34m\u001b[0m\u001b[0;34m\u001b[0m\u001b[0m\n\u001b[1;32m      5\u001b[0m \u001b[0mcolors\u001b[0m \u001b[0;34m=\u001b[0m \u001b[0mnp\u001b[0m\u001b[0;34m.\u001b[0m\u001b[0marray\u001b[0m\u001b[0;34m(\u001b[0m\u001b[0;34m(\u001b[0m\u001b[0;34m(\u001b[0m\u001b[0;36m1\u001b[0m\u001b[0;34m,\u001b[0m\u001b[0;36m0.8\u001b[0m\u001b[0;34m,\u001b[0m\u001b[0;36m0\u001b[0m\u001b[0;34m)\u001b[0m\u001b[0;34m,\u001b[0m\u001b[0;34m(\u001b[0m\u001b[0;36m0\u001b[0m\u001b[0;34m,\u001b[0m\u001b[0;36m0\u001b[0m\u001b[0;34m,\u001b[0m\u001b[0;36m0\u001b[0m\u001b[0;34m)\u001b[0m\u001b[0;34m,\u001b[0m\u001b[0;34m(\u001b[0m\u001b[0;36m1\u001b[0m\u001b[0;34m,\u001b[0m\u001b[0;36m0\u001b[0m\u001b[0;34m,\u001b[0m\u001b[0;36m0\u001b[0m\u001b[0;34m)\u001b[0m\u001b[0;34m)\u001b[0m\u001b[0;34m)\u001b[0m\u001b[0;34m\u001b[0m\u001b[0;34m\u001b[0m\u001b[0m\n\u001b[0;32m----> 6\u001b[0;31m \u001b[0mut\u001b[0m\u001b[0;34m.\u001b[0m\u001b[0mplot_bootstrapped_errorbars_hillel\u001b[0m\u001b[0;34m(\u001b[0m\u001b[0mnp\u001b[0m\u001b[0;34m.\u001b[0m\u001b[0marange\u001b[0m\u001b[0;34m(\u001b[0m\u001b[0;36m6\u001b[0m\u001b[0;34m)\u001b[0m\u001b[0;34m,\u001b[0m\u001b[0mphis\u001b[0m\u001b[0;34m[\u001b[0m\u001b[0;34m:\u001b[0m\u001b[0;34m,\u001b[0m\u001b[0;34m[\u001b[0m\u001b[0milight_halo\u001b[0m\u001b[0;34m,\u001b[0m\u001b[0milight_off\u001b[0m\u001b[0;34m,\u001b[0m\u001b[0milight_chrimson\u001b[0m\u001b[0;34m]\u001b[0m\u001b[0;34m]\u001b[0m\u001b[0;34m[\u001b[0m\u001b[0;34m:\u001b[0m\u001b[0;34m,\u001b[0m\u001b[0;34m:\u001b[0m\u001b[0;34m,\u001b[0m\u001b[0misize\u001b[0m\u001b[0;34m,\u001b[0m\u001b[0;34m:\u001b[0m\u001b[0;34m,\u001b[0m\u001b[0mi\u001b[0m\u001b[0;34m]\u001b[0m\u001b[0;34m,\u001b[0m\u001b[0mpct\u001b[0m\u001b[0;34m=\u001b[0m\u001b[0;34m(\u001b[0m\u001b[0;36m16\u001b[0m\u001b[0;34m,\u001b[0m\u001b[0;36m84\u001b[0m\u001b[0;34m)\u001b[0m\u001b[0;34m,\u001b[0m\u001b[0mcolors\u001b[0m\u001b[0;34m=\u001b[0m\u001b[0mcolors\u001b[0m\u001b[0;34m)\u001b[0m\u001b[0;34m\u001b[0m\u001b[0;34m\u001b[0m\u001b[0m\n\u001b[0m\u001b[1;32m      7\u001b[0m \u001b[0mut\u001b[0m\u001b[0;34m.\u001b[0m\u001b[0merase_top_right\u001b[0m\u001b[0;34m(\u001b[0m\u001b[0;34m)\u001b[0m\u001b[0;34m\u001b[0m\u001b[0;34m\u001b[0m\u001b[0m\n\u001b[1;32m      8\u001b[0m \u001b[0mplt\u001b[0m\u001b[0;34m.\u001b[0m\u001b[0maxhline\u001b[0m\u001b[0;34m(\u001b[0m\u001b[0mc\u001b[0m\u001b[0;34m=\u001b[0m\u001b[0;34m'k'\u001b[0m\u001b[0;34m,\u001b[0m\u001b[0mlinestyle\u001b[0m\u001b[0;34m=\u001b[0m\u001b[0;34m'dashed'\u001b[0m\u001b[0;34m)\u001b[0m\u001b[0;34m\u001b[0m\u001b[0;34m\u001b[0m\u001b[0m\n",
      "\u001b[0;31mNameError\u001b[0m: name 'phis' is not defined"
     ]
    },
    {
     "data": {
      "text/plain": [
       "<Figure size 180x180 with 0 Axes>"
      ]
     },
     "metadata": {},
     "output_type": "display_data"
    }
   ],
   "source": [
    "i = 0\n",
    "plt.figure(figsize=(2.5,2.5))\n",
    "iwt = 3\n",
    "isize = 3\n",
    "colors = np.array(((1,0.8,0),(0,0,0),(1,0,0)))\n",
    "ut.plot_bootstrapped_errorbars_hillel(np.arange(6),phis[:,[ilight_halo,ilight_off,ilight_chrimson]][:,:,isize,:,i],pct=(16,84),colors=colors)\n",
    "ut.erase_top_right()\n",
    "plt.axhline(c='k',linestyle='dashed')"
   ]
  },
  {
   "cell_type": "code",
   "execution_count": 32,
   "metadata": {},
   "outputs": [
    {
     "ename": "NameError",
     "evalue": "name 'phis' is not defined",
     "output_type": "error",
     "traceback": [
      "\u001b[0;31m---------------------------------------------------------------------------\u001b[0m",
      "\u001b[0;31mNameError\u001b[0m                                 Traceback (most recent call last)",
      "\u001b[0;32m<ipython-input-32-dd383d76f2c3>\u001b[0m in \u001b[0;36m<module>\u001b[0;34m\u001b[0m\n\u001b[1;32m      4\u001b[0m \u001b[0misize\u001b[0m \u001b[0;34m=\u001b[0m \u001b[0;36m3\u001b[0m\u001b[0;34m\u001b[0m\u001b[0;34m\u001b[0m\u001b[0m\n\u001b[1;32m      5\u001b[0m \u001b[0mcolors\u001b[0m \u001b[0;34m=\u001b[0m \u001b[0mnp\u001b[0m\u001b[0;34m.\u001b[0m\u001b[0marray\u001b[0m\u001b[0;34m(\u001b[0m\u001b[0;34m(\u001b[0m\u001b[0;34m(\u001b[0m\u001b[0;36m1\u001b[0m\u001b[0;34m,\u001b[0m\u001b[0;36m0.8\u001b[0m\u001b[0;34m,\u001b[0m\u001b[0;36m0\u001b[0m\u001b[0;34m)\u001b[0m\u001b[0;34m,\u001b[0m\u001b[0;34m(\u001b[0m\u001b[0;36m0\u001b[0m\u001b[0;34m,\u001b[0m\u001b[0;36m0\u001b[0m\u001b[0;34m,\u001b[0m\u001b[0;36m0\u001b[0m\u001b[0;34m)\u001b[0m\u001b[0;34m,\u001b[0m\u001b[0;34m(\u001b[0m\u001b[0;36m1\u001b[0m\u001b[0;34m,\u001b[0m\u001b[0;36m0\u001b[0m\u001b[0;34m,\u001b[0m\u001b[0;36m0\u001b[0m\u001b[0;34m)\u001b[0m\u001b[0;34m)\u001b[0m\u001b[0;34m)\u001b[0m\u001b[0;34m\u001b[0m\u001b[0;34m\u001b[0m\u001b[0m\n\u001b[0;32m----> 6\u001b[0;31m \u001b[0mut\u001b[0m\u001b[0;34m.\u001b[0m\u001b[0mplot_bootstrapped_errorbars_hillel\u001b[0m\u001b[0;34m(\u001b[0m\u001b[0mnp\u001b[0m\u001b[0;34m.\u001b[0m\u001b[0marange\u001b[0m\u001b[0;34m(\u001b[0m\u001b[0;36m6\u001b[0m\u001b[0;34m)\u001b[0m\u001b[0;34m,\u001b[0m\u001b[0mphis\u001b[0m\u001b[0;34m[\u001b[0m\u001b[0;34m:\u001b[0m\u001b[0;34m,\u001b[0m\u001b[0;34m[\u001b[0m\u001b[0milight_halo\u001b[0m\u001b[0;34m,\u001b[0m\u001b[0milight_off\u001b[0m\u001b[0;34m,\u001b[0m\u001b[0milight_chrimson\u001b[0m\u001b[0;34m]\u001b[0m\u001b[0;34m]\u001b[0m\u001b[0;34m[\u001b[0m\u001b[0;34m:\u001b[0m\u001b[0;34m,\u001b[0m\u001b[0;34m:\u001b[0m\u001b[0;34m,\u001b[0m\u001b[0misize\u001b[0m\u001b[0;34m,\u001b[0m\u001b[0;34m:\u001b[0m\u001b[0;34m,\u001b[0m\u001b[0mi\u001b[0m\u001b[0;34m]\u001b[0m\u001b[0;34m,\u001b[0m\u001b[0mpct\u001b[0m\u001b[0;34m=\u001b[0m\u001b[0;34m(\u001b[0m\u001b[0;36m16\u001b[0m\u001b[0;34m,\u001b[0m\u001b[0;36m84\u001b[0m\u001b[0;34m)\u001b[0m\u001b[0;34m,\u001b[0m\u001b[0mcolors\u001b[0m\u001b[0;34m=\u001b[0m\u001b[0mcolors\u001b[0m\u001b[0;34m)\u001b[0m\u001b[0;34m\u001b[0m\u001b[0;34m\u001b[0m\u001b[0m\n\u001b[0m\u001b[1;32m      7\u001b[0m \u001b[0mut\u001b[0m\u001b[0;34m.\u001b[0m\u001b[0merase_top_right\u001b[0m\u001b[0;34m(\u001b[0m\u001b[0;34m)\u001b[0m\u001b[0;34m\u001b[0m\u001b[0;34m\u001b[0m\u001b[0m\n\u001b[1;32m      8\u001b[0m \u001b[0mplt\u001b[0m\u001b[0;34m.\u001b[0m\u001b[0maxhline\u001b[0m\u001b[0;34m(\u001b[0m\u001b[0mc\u001b[0m\u001b[0;34m=\u001b[0m\u001b[0;34m'k'\u001b[0m\u001b[0;34m,\u001b[0m\u001b[0mlinestyle\u001b[0m\u001b[0;34m=\u001b[0m\u001b[0;34m'dashed'\u001b[0m\u001b[0;34m)\u001b[0m\u001b[0;34m\u001b[0m\u001b[0;34m\u001b[0m\u001b[0m\n",
      "\u001b[0;31mNameError\u001b[0m: name 'phis' is not defined"
     ]
    },
    {
     "data": {
      "text/plain": [
       "<Figure size 180x180 with 0 Axes>"
      ]
     },
     "metadata": {},
     "output_type": "display_data"
    }
   ],
   "source": [
    "i = 2\n",
    "plt.figure(figsize=(2.5,2.5))\n",
    "iwt = 3\n",
    "isize = 3\n",
    "colors = np.array(((1,0.8,0),(0,0,0),(1,0,0)))\n",
    "ut.plot_bootstrapped_errorbars_hillel(np.arange(6),phis[:,[ilight_halo,ilight_off,ilight_chrimson]][:,:,isize,:,i],pct=(16,84),colors=colors)\n",
    "ut.erase_top_right()\n",
    "plt.axhline(c='k',linestyle='dashed')"
   ]
  },
  {
   "cell_type": "code",
   "execution_count": 33,
   "metadata": {},
   "outputs": [
    {
     "data": {
      "text/plain": [
       "<Figure size 576x576 with 0 Axes>"
      ]
     },
     "metadata": {},
     "output_type": "display_data"
    }
   ],
   "source": [
    "i,j = 0,0\n",
    "plt.figure(figsize=(8,8))\n",
    "iwt = 3\n",
    "isize = 3\n",
    "colors = np.array(((1,0.8,0),(0,0,0),(1,0,0)))\n",
    "for iwt in range(nwt):\n",
    "    plt.subplot(10,10,iwt+1)\n",
    "    for iilight,ilight in enumerate([ilight_halo,ilight_off,ilight_chrimson]):\n",
    "        plt.plot(np.arange(6),couplings[iwt,ilight,isize,:,i,j],c=colors[iilight])\n",
    "    ut.erase_top_right()\n",
    "    plt.axhline(c='k',linestyle='dashed')\n",
    "    plt.axis('off')"
   ]
  },
  {
   "cell_type": "code",
   "execution_count": null,
   "metadata": {},
   "outputs": [],
   "source": []
  },
  {
   "cell_type": "code",
   "execution_count": 34,
   "metadata": {},
   "outputs": [
    {
     "data": {
      "text/plain": [
       "<Figure size 576x576 with 0 Axes>"
      ]
     },
     "metadata": {},
     "output_type": "display_data"
    }
   ],
   "source": [
    "i = 0\n",
    "plt.figure(figsize=(8,8))\n",
    "iwt = 3\n",
    "isize = 3\n",
    "colors = np.array(((1,0.8,0),(0,0,0),(1,0,0)))\n",
    "for iwt in range(nwt):\n",
    "    plt.subplot(10,10,iwt+1)\n",
    "    for iilight,ilight in enumerate([ilight_halo,ilight_off,ilight_chrimson]):\n",
    "        plt.plot(np.arange(6),phis[iwt,ilight,isize,:,i],c=colors[iilight])\n",
    "    ut.erase_top_right()\n",
    "    plt.axhline(c='k',linestyle='dashed')\n",
    "    plt.axis('off')"
   ]
  },
  {
   "cell_type": "code",
   "execution_count": 35,
   "metadata": {},
   "outputs": [
    {
     "ename": "NameError",
     "evalue": "name 'YY_opto_medium' is not defined",
     "output_type": "error",
     "traceback": [
      "\u001b[0;31m---------------------------------------------------------------------------\u001b[0m",
      "\u001b[0;31mNameError\u001b[0m                                 Traceback (most recent call last)",
      "\u001b[0;32m<ipython-input-35-ffbfc227be07>\u001b[0m in \u001b[0;36m<module>\u001b[0;34m\u001b[0m\n\u001b[0;32m----> 1\u001b[0;31m \u001b[0mYY_opto_medium\u001b[0m\u001b[0;34m.\u001b[0m\u001b[0mshape\u001b[0m\u001b[0;34m\u001b[0m\u001b[0;34m\u001b[0m\u001b[0m\n\u001b[0m",
      "\u001b[0;31mNameError\u001b[0m: name 'YY_opto_medium' is not defined"
     ]
    }
   ],
   "source": [
    "YY_opto_medium.shape"
   ]
  },
  {
   "cell_type": "code",
   "execution_count": null,
   "metadata": {},
   "outputs": [],
   "source": [
    "reload(ut)\n",
    "reload(sca)\n",
    "average_last = int(np.floor(Niter/5))\n",
    "lbls = ['PC','SST','VIP','PV']\n",
    "opto_lbls = ['halo','chrimson']\n",
    "nopto = len(opto_levels)\n",
    "ncelltypes = YY_opto_medium[0].shape[-1]\n",
    "YY_opto_tavg = np.zeros((nwt,nopto,6,6,ncelltypes))\n",
    "for iwt in range(nwt):\n",
    "    YY_opto_tavg[iwt] = np.nanmean(YY_opto_medium[iwt][:,:,-average_last:,:],2).reshape((nopto,6,6,ncelltypes))\n",
    "iwt = -1\n",
    "ilight1 = 5\n",
    "for iilight2,ilight2 in enumerate([2,6]):\n",
    "    for itype in range(3):\n",
    "        plt.figure(figsize=(12,2))\n",
    "        for iwt in range(6):#nwt):\n",
    "            plt.subplot(1,6,iwt+1)\n",
    "            xdata = YY_opto_tavg[iwt,ilight1,:,:,itype]\n",
    "            ydata = YY_opto_tavg[iwt,ilight2,:,:,itype]\n",
    "            sca.scatter_size_contrast(xdata,ydata,mn=0)\n",
    "            ut.erase_top_right()\n",
    "#         ut.zero_origin('xy')\n",
    "            plt.xlabel('%s event rate, \\n light off'%lbls[itype])\n",
    "            plt.ylabel('%s event rate, \\n light on'%lbls[itype])\n",
    "        plt.tight_layout()\n",
    "#         plt.savefig('figures/finite_%s_%s_scatter_light_on_light_off.eps'%(opto_lbls[iilight2],lbls[itype]))"
   ]
  },
  {
   "cell_type": "code",
   "execution_count": 36,
   "metadata": {},
   "outputs": [
    {
     "ename": "NameError",
     "evalue": "name 'YY_opto_tavg' is not defined",
     "output_type": "error",
     "traceback": [
      "\u001b[0;31m---------------------------------------------------------------------------\u001b[0m",
      "\u001b[0;31mNameError\u001b[0m                                 Traceback (most recent call last)",
      "\u001b[0;32m<ipython-input-36-5907348c56ea>\u001b[0m in \u001b[0;36m<module>\u001b[0;34m\u001b[0m\n\u001b[0;32m----> 1\u001b[0;31m \u001b[0mYY_opto_tavg\u001b[0m\u001b[0;34m.\u001b[0m\u001b[0mshape\u001b[0m\u001b[0;34m\u001b[0m\u001b[0;34m\u001b[0m\u001b[0m\n\u001b[0m",
      "\u001b[0;31mNameError\u001b[0m: name 'YY_opto_tavg' is not defined"
     ]
    }
   ],
   "source": [
    "YY_opto_tavg.shape"
   ]
  },
  {
   "cell_type": "code",
   "execution_count": 37,
   "metadata": {},
   "outputs": [
    {
     "ename": "NameError",
     "evalue": "name 'YY_opto_tavg' is not defined",
     "output_type": "error",
     "traceback": [
      "\u001b[0;31m---------------------------------------------------------------------------\u001b[0m",
      "\u001b[0;31mNameError\u001b[0m                                 Traceback (most recent call last)",
      "\u001b[0;32m<ipython-input-37-accbd1bea969>\u001b[0m in \u001b[0;36m<module>\u001b[0;34m\u001b[0m\n\u001b[0;32m----> 1\u001b[0;31m \u001b[0mnp\u001b[0m\u001b[0;34m.\u001b[0m\u001b[0msave\u001b[0m\u001b[0;34m(\u001b[0m\u001b[0;34m'../shared_data/opto_sim_data.npy'\u001b[0m\u001b[0;34m,\u001b[0m\u001b[0;34m{\u001b[0m\u001b[0;34m'YY_opto'\u001b[0m\u001b[0;34m:\u001b[0m\u001b[0mYY_opto_tavg\u001b[0m\u001b[0;34m[\u001b[0m\u001b[0mlow_loss\u001b[0m\u001b[0;34m]\u001b[0m\u001b[0;34m}\u001b[0m\u001b[0;34m)\u001b[0m\u001b[0;34m\u001b[0m\u001b[0;34m\u001b[0m\u001b[0m\n\u001b[0m",
      "\u001b[0;31mNameError\u001b[0m: name 'YY_opto_tavg' is not defined"
     ]
    }
   ],
   "source": [
    "np.save('../shared_data/opto_sim_data.npy',{'YY_opto':YY_opto_tavg[low_loss]})"
   ]
  },
  {
   "cell_type": "code",
   "execution_count": null,
   "metadata": {},
   "outputs": [],
   "source": [
    "plt.figure()\n",
    "plt.hist(bltiles[:,0])"
   ]
  },
  {
   "cell_type": "code",
   "execution_count": null,
   "metadata": {},
   "outputs": [],
   "source": []
  },
  {
   "cell_type": "code",
   "execution_count": null,
   "metadata": {},
   "outputs": [],
   "source": []
  },
  {
   "cell_type": "code",
   "execution_count": null,
   "metadata": {},
   "outputs": [],
   "source": []
  },
  {
   "cell_type": "code",
   "execution_count": 38,
   "metadata": {},
   "outputs": [
    {
     "ename": "NameError",
     "evalue": "name 'YY_opto_medium' is not defined",
     "output_type": "error",
     "traceback": [
      "\u001b[0;31m---------------------------------------------------------------------------\u001b[0m",
      "\u001b[0;31mNameError\u001b[0m                                 Traceback (most recent call last)",
      "\u001b[0;32m<ipython-input-38-5185a71dbfe3>\u001b[0m in \u001b[0;36m<module>\u001b[0;34m\u001b[0m\n\u001b[1;32m      1\u001b[0m \u001b[0mplt\u001b[0m\u001b[0;34m.\u001b[0m\u001b[0mfigure\u001b[0m\u001b[0;34m(\u001b[0m\u001b[0;34m)\u001b[0m\u001b[0;34m\u001b[0m\u001b[0;34m\u001b[0m\u001b[0m\n\u001b[0;32m----> 2\u001b[0;31m \u001b[0msca\u001b[0m\u001b[0;34m.\u001b[0m\u001b[0mscatter_size_contrast\u001b[0m\u001b[0;34m(\u001b[0m\u001b[0mYY_opto_medium\u001b[0m\u001b[0;34m[\u001b[0m\u001b[0;34m-\u001b[0m\u001b[0;36m1\u001b[0m\u001b[0;34m]\u001b[0m\u001b[0;34m[\u001b[0m\u001b[0;34m:\u001b[0m\u001b[0;34m,\u001b[0m\u001b[0;34m:\u001b[0m\u001b[0;34m,\u001b[0m\u001b[0;34m:\u001b[0m\u001b[0;34m,\u001b[0m\u001b[0;34m]\u001b[0m\u001b[0;34m)\u001b[0m\u001b[0;34m\u001b[0m\u001b[0;34m\u001b[0m\u001b[0m\n\u001b[0m",
      "\u001b[0;31mNameError\u001b[0m: name 'YY_opto_medium' is not defined"
     ]
    },
    {
     "data": {
      "text/plain": [
       "<Figure size 432x288 with 0 Axes>"
      ]
     },
     "metadata": {},
     "output_type": "display_data"
    }
   ],
   "source": [
    "plt.figure()\n",
    "sca.scatter_size_contrast(YY_opto_medium[-1][:,:,:,])"
   ]
  },
  {
   "cell_type": "code",
   "execution_count": null,
   "metadata": {},
   "outputs": [],
   "source": [
    "usize = np.array([5,8,13,22,36,60])\n",
    "ucontrast = np.array([0,6,12,25,50,100])"
   ]
  },
  {
   "cell_type": "code",
   "execution_count": null,
   "metadata": {},
   "outputs": [],
   "source": [
    "ilights = [5,10]\n",
    "colors = ['k','r']\n",
    "isize = -1\n",
    "plt.figure()\n",
    "for ilight,color in zip(ilights,colors):\n",
    "    data = np.nanmean(YY_opto_medium[:,ilight,:,:,0],2).reshape((-1,6,6))\n",
    "    this_data = data[:,isize,:]/data[:,isize,:].max(1)[:,np.newaxis]\n",
    "    plt.plot(ucontrast,this_data.T,c=color,alpha=0.1)\n",
    "    plt.plot(ucontrast,np.mean(this_data,0),c=color)"
   ]
  },
  {
   "cell_type": "code",
   "execution_count": 39,
   "metadata": {},
   "outputs": [
    {
     "ename": "NameError",
     "evalue": "name 'YY_opto_medium' is not defined",
     "output_type": "error",
     "traceback": [
      "\u001b[0;31m---------------------------------------------------------------------------\u001b[0m",
      "\u001b[0;31mNameError\u001b[0m                                 Traceback (most recent call last)",
      "\u001b[0;32m<ipython-input-39-a9506e5c59bc>\u001b[0m in \u001b[0;36m<module>\u001b[0;34m\u001b[0m\n\u001b[1;32m      2\u001b[0m \u001b[0mcolors\u001b[0m \u001b[0;34m=\u001b[0m \u001b[0;34m[\u001b[0m\u001b[0mnp\u001b[0m\u001b[0;34m.\u001b[0m\u001b[0marray\u001b[0m\u001b[0;34m(\u001b[0m\u001b[0;34m(\u001b[0m\u001b[0;36m1\u001b[0m\u001b[0;34m,\u001b[0m\u001b[0;36m0.8\u001b[0m\u001b[0;34m,\u001b[0m\u001b[0;36m0\u001b[0m\u001b[0;34m)\u001b[0m\u001b[0;34m)\u001b[0m\u001b[0;34m,\u001b[0m\u001b[0;34m'k'\u001b[0m\u001b[0;34m,\u001b[0m\u001b[0;34m'r'\u001b[0m\u001b[0;34m]\u001b[0m\u001b[0;34m\u001b[0m\u001b[0;34m\u001b[0m\u001b[0m\n\u001b[1;32m      3\u001b[0m \u001b[0mnlights\u001b[0m \u001b[0;34m=\u001b[0m \u001b[0mlen\u001b[0m\u001b[0;34m(\u001b[0m\u001b[0milights\u001b[0m\u001b[0;34m)\u001b[0m\u001b[0;34m\u001b[0m\u001b[0;34m\u001b[0m\u001b[0m\n\u001b[0;32m----> 4\u001b[0;31m \u001b[0msmi\u001b[0m \u001b[0;34m=\u001b[0m \u001b[0mnp\u001b[0m\u001b[0;34m.\u001b[0m\u001b[0mzeros\u001b[0m\u001b[0;34m(\u001b[0m\u001b[0;34m(\u001b[0m\u001b[0mYY_opto_medium\u001b[0m\u001b[0;34m.\u001b[0m\u001b[0mshape\u001b[0m\u001b[0;34m[\u001b[0m\u001b[0;36m0\u001b[0m\u001b[0;34m]\u001b[0m\u001b[0;34m,\u001b[0m\u001b[0mnlights\u001b[0m\u001b[0;34m,\u001b[0m\u001b[0;36m6\u001b[0m\u001b[0;34m)\u001b[0m\u001b[0;34m)\u001b[0m\u001b[0;34m\u001b[0m\u001b[0;34m\u001b[0m\u001b[0m\n\u001b[0m\u001b[1;32m      5\u001b[0m \u001b[0mitype\u001b[0m \u001b[0;34m=\u001b[0m \u001b[0;36m0\u001b[0m\u001b[0;34m\u001b[0m\u001b[0;34m\u001b[0m\u001b[0m\n\u001b[1;32m      6\u001b[0m \u001b[0;32mfor\u001b[0m \u001b[0miilight\u001b[0m\u001b[0;34m,\u001b[0m\u001b[0milight\u001b[0m \u001b[0;32min\u001b[0m \u001b[0menumerate\u001b[0m\u001b[0;34m(\u001b[0m\u001b[0milights\u001b[0m\u001b[0;34m)\u001b[0m\u001b[0;34m:\u001b[0m\u001b[0;34m\u001b[0m\u001b[0;34m\u001b[0m\u001b[0m\n",
      "\u001b[0;31mNameError\u001b[0m: name 'YY_opto_medium' is not defined"
     ]
    }
   ],
   "source": [
    "ilights = [1,5,9]\n",
    "colors = [np.array((1,0.8,0)),'k','r']\n",
    "nlights = len(ilights)\n",
    "smi = np.zeros((YY_opto_medium.shape[0],nlights,6))\n",
    "itype = 0\n",
    "for iilight,ilight in enumerate(ilights):\n",
    "    data = np.nanmean(YY_opto_medium[:,ilight,:,:,itype],2).reshape((-1,6,6))\n",
    "    smi[:,iilight] = data[:,-1,:]/np.max(data,axis=1)\n",
    "    \n",
    "for icontrast in [1,5]:\n",
    "    plt.figure()\n",
    "    for ilight,color in zip(ilights,colors):\n",
    "        data = np.nanmean(YY_opto_medium[:,ilight,:,:,itype],2).reshape((-1,6,6))\n",
    "        this_data = data[:,:,icontrast]#/data[:,:,icontrast].max(1)[:,np.newaxis]\n",
    "#         plt.plot(usize,this_data.T,c=color,alpha=0.1)\n",
    "        plt.plot(usize,np.mean(this_data,0),c=color)"
   ]
  },
  {
   "cell_type": "code",
   "execution_count": 40,
   "metadata": {},
   "outputs": [
    {
     "data": {
      "text/plain": [
       "<Figure size 540x540 with 0 Axes>"
      ]
     },
     "metadata": {},
     "output_type": "display_data"
    }
   ],
   "source": [
    "plt.figure(figsize=(7.5,7.5))\n",
    "for iwt in range(nwt):\n",
    "    plt.subplot(10,10,iwt+1)\n",
    "    plt.plot(ucontrast,smi[iwt,:,:].T)\n",
    "    plt.ylim((0.5,1))\n",
    "    plt.axis('off')"
   ]
  },
  {
   "cell_type": "code",
   "execution_count": null,
   "metadata": {},
   "outputs": [],
   "source": []
  },
  {
   "cell_type": "code",
   "execution_count": 41,
   "metadata": {},
   "outputs": [
    {
     "ename": "NameError",
     "evalue": "name 'smi' is not defined",
     "output_type": "error",
     "traceback": [
      "\u001b[0;31m---------------------------------------------------------------------------\u001b[0m",
      "\u001b[0;31mNameError\u001b[0m                                 Traceback (most recent call last)",
      "\u001b[0;32m<ipython-input-41-55845f157685>\u001b[0m in \u001b[0;36m<module>\u001b[0;34m\u001b[0m\n\u001b[1;32m      1\u001b[0m \u001b[0mplt\u001b[0m\u001b[0;34m.\u001b[0m\u001b[0mfigure\u001b[0m\u001b[0;34m(\u001b[0m\u001b[0;34m)\u001b[0m\u001b[0;34m\u001b[0m\u001b[0;34m\u001b[0m\u001b[0m\n\u001b[0;32m----> 2\u001b[0;31m \u001b[0mplt\u001b[0m\u001b[0;34m.\u001b[0m\u001b[0mplot\u001b[0m\u001b[0;34m(\u001b[0m\u001b[0mucontrast\u001b[0m\u001b[0;34m,\u001b[0m\u001b[0msmi\u001b[0m\u001b[0;34m[\u001b[0m\u001b[0;36m68\u001b[0m\u001b[0;34m]\u001b[0m\u001b[0;34m.\u001b[0m\u001b[0mT\u001b[0m\u001b[0;34m)\u001b[0m\u001b[0;34m\u001b[0m\u001b[0;34m\u001b[0m\u001b[0m\n\u001b[0m",
      "\u001b[0;31mNameError\u001b[0m: name 'smi' is not defined"
     ]
    },
    {
     "data": {
      "text/plain": [
       "<Figure size 432x288 with 0 Axes>"
      ]
     },
     "metadata": {},
     "output_type": "display_data"
    }
   ],
   "source": [
    "plt.figure()\n",
    "plt.plot(ucontrast,smi[68].T)"
   ]
  },
  {
   "cell_type": "code",
   "execution_count": 42,
   "metadata": {},
   "outputs": [],
   "source": [
    "for iwt in range(nwt):\n",
    "    ilights = [3,5,7]\n",
    "    colors = [np.array((1,0.8,0)),'k','r']\n",
    "    nlights = len(ilights)\n",
    "\n",
    "    plt.figure(figsize=(5,2.5))\n",
    "    for iicontrast,icontrast in enumerate([1,5]):\n",
    "        plt.subplot(1,2,iicontrast+1)\n",
    "        for ilight,color in zip(ilights,colors):\n",
    "            data = np.nanmean(YY_opto_medium[iwt,ilight,:,:,itype],1).reshape((-1,6,6))\n",
    "            this_data = data[:,:,icontrast]#/data[:,:,icontrast].max(1)[:,np.newaxis]\n",
    "    #         plt.plot(usize,this_data.T,c=color,alpha=0.1)\n",
    "            plt.plot(usize,np.nanmean(this_data,0),c=color)"
   ]
  },
  {
   "cell_type": "code",
   "execution_count": 43,
   "metadata": {},
   "outputs": [
    {
     "ename": "NameError",
     "evalue": "name 'YY_opto_medium' is not defined",
     "output_type": "error",
     "traceback": [
      "\u001b[0;31m---------------------------------------------------------------------------\u001b[0m",
      "\u001b[0;31mNameError\u001b[0m                                 Traceback (most recent call last)",
      "\u001b[0;32m<ipython-input-43-b3725ef39447>\u001b[0m in \u001b[0;36m<module>\u001b[0;34m\u001b[0m\n\u001b[0;32m----> 1\u001b[0;31m \u001b[0mnp\u001b[0m\u001b[0;34m.\u001b[0m\u001b[0mnanmean\u001b[0m\u001b[0;34m(\u001b[0m\u001b[0mYY_opto_medium\u001b[0m\u001b[0;34m[\u001b[0m\u001b[0;34m:\u001b[0m\u001b[0;34m,\u001b[0m\u001b[0;34m:\u001b[0m\u001b[0;34m,\u001b[0m\u001b[0;34m:\u001b[0m\u001b[0;34m,\u001b[0m\u001b[0;34m:\u001b[0m\u001b[0;34m,\u001b[0m\u001b[0mitype\u001b[0m\u001b[0;34m]\u001b[0m\u001b[0;34m,\u001b[0m\u001b[0;36m3\u001b[0m\u001b[0;34m)\u001b[0m\u001b[0;34m.\u001b[0m\u001b[0mreshape\u001b[0m\u001b[0;34m(\u001b[0m\u001b[0;34m(\u001b[0m\u001b[0mnwt\u001b[0m\u001b[0;34m,\u001b[0m\u001b[0;34m-\u001b[0m\u001b[0;36m1\u001b[0m\u001b[0;34m,\u001b[0m\u001b[0;36m6\u001b[0m\u001b[0;34m,\u001b[0m\u001b[0;36m6\u001b[0m\u001b[0;34m)\u001b[0m\u001b[0;34m)\u001b[0m\u001b[0;34m[\u001b[0m\u001b[0;34m:\u001b[0m\u001b[0;34m,\u001b[0m\u001b[0;34m:\u001b[0m\u001b[0;34m,\u001b[0m\u001b[0;34m[\u001b[0m\u001b[0;36m0\u001b[0m\u001b[0;34m,\u001b[0m\u001b[0;36m2\u001b[0m\u001b[0;34m,\u001b[0m\u001b[0;36m3\u001b[0m\u001b[0;34m,\u001b[0m\u001b[0;36m5\u001b[0m\u001b[0;34m]\u001b[0m\u001b[0;34m,\u001b[0m\u001b[0;34m:\u001b[0m\u001b[0;34m]\u001b[0m\u001b[0;34m.\u001b[0m\u001b[0mshape\u001b[0m\u001b[0;34m\u001b[0m\u001b[0;34m\u001b[0m\u001b[0m\n\u001b[0m",
      "\u001b[0;31mNameError\u001b[0m: name 'YY_opto_medium' is not defined"
     ]
    }
   ],
   "source": [
    "np.nanmean(YY_opto_medium[:,:,:,:,itype],3).reshape((nwt,-1,6,6))[:,:,[0,2,3,5],:].shape"
   ]
  },
  {
   "cell_type": "code",
   "execution_count": 44,
   "metadata": {},
   "outputs": [
    {
     "ename": "NameError",
     "evalue": "name 'YY_opto_medium' is not defined",
     "output_type": "error",
     "traceback": [
      "\u001b[0;31m---------------------------------------------------------------------------\u001b[0m",
      "\u001b[0;31mNameError\u001b[0m                                 Traceback (most recent call last)",
      "\u001b[0;32m<ipython-input-44-33e5ce78c961>\u001b[0m in \u001b[0;36m<module>\u001b[0;34m\u001b[0m\n\u001b[0;32m----> 1\u001b[0;31m \u001b[0mdata\u001b[0m \u001b[0;34m=\u001b[0m \u001b[0mnp\u001b[0m\u001b[0;34m.\u001b[0m\u001b[0mnanmean\u001b[0m\u001b[0;34m(\u001b[0m\u001b[0mYY_opto_medium\u001b[0m\u001b[0;34m[\u001b[0m\u001b[0;34m:\u001b[0m\u001b[0;34m,\u001b[0m\u001b[0;36m2\u001b[0m\u001b[0;34m:\u001b[0m\u001b[0;36m8\u001b[0m\u001b[0;34m,\u001b[0m\u001b[0;34m:\u001b[0m\u001b[0;34m,\u001b[0m\u001b[0;34m:\u001b[0m\u001b[0;34m,\u001b[0m\u001b[0mitype\u001b[0m\u001b[0;34m]\u001b[0m\u001b[0;34m,\u001b[0m\u001b[0;36m3\u001b[0m\u001b[0;34m)\u001b[0m\u001b[0;34m.\u001b[0m\u001b[0mreshape\u001b[0m\u001b[0;34m(\u001b[0m\u001b[0;34m(\u001b[0m\u001b[0mnwt\u001b[0m\u001b[0;34m,\u001b[0m\u001b[0;34m-\u001b[0m\u001b[0;36m1\u001b[0m\u001b[0;34m,\u001b[0m\u001b[0;36m6\u001b[0m\u001b[0;34m,\u001b[0m\u001b[0;36m6\u001b[0m\u001b[0;34m)\u001b[0m\u001b[0;34m)\u001b[0m\u001b[0;34m[\u001b[0m\u001b[0;34m:\u001b[0m\u001b[0;34m,\u001b[0m\u001b[0;34m:\u001b[0m\u001b[0;34m,\u001b[0m\u001b[0;34m[\u001b[0m\u001b[0;36m0\u001b[0m\u001b[0;34m,\u001b[0m\u001b[0;36m2\u001b[0m\u001b[0;34m,\u001b[0m\u001b[0;36m3\u001b[0m\u001b[0;34m,\u001b[0m\u001b[0;36m5\u001b[0m\u001b[0;34m]\u001b[0m\u001b[0;34m,\u001b[0m\u001b[0;34m:\u001b[0m\u001b[0;34m]\u001b[0m\u001b[0;34m\u001b[0m\u001b[0;34m\u001b[0m\u001b[0m\n\u001b[0m\u001b[1;32m      2\u001b[0m \u001b[0mnsize\u001b[0m\u001b[0;34m,\u001b[0m\u001b[0mncontrast\u001b[0m \u001b[0;34m=\u001b[0m \u001b[0;36m4\u001b[0m\u001b[0;34m,\u001b[0m\u001b[0;36m6\u001b[0m\u001b[0;34m\u001b[0m\u001b[0;34m\u001b[0m\u001b[0m\n\u001b[1;32m      3\u001b[0m \u001b[0mmn\u001b[0m \u001b[0;34m=\u001b[0m \u001b[0mnp\u001b[0m\u001b[0;34m.\u001b[0m\u001b[0mnanmean\u001b[0m\u001b[0;34m(\u001b[0m\u001b[0mdata\u001b[0m\u001b[0;34m,\u001b[0m\u001b[0;36m0\u001b[0m\u001b[0;34m)\u001b[0m\u001b[0;34m.\u001b[0m\u001b[0mmin\u001b[0m\u001b[0;34m(\u001b[0m\u001b[0;34m)\u001b[0m\u001b[0;34m\u001b[0m\u001b[0;34m\u001b[0m\u001b[0m\n\u001b[1;32m      4\u001b[0m \u001b[0mmx\u001b[0m \u001b[0;34m=\u001b[0m \u001b[0mnp\u001b[0m\u001b[0;34m.\u001b[0m\u001b[0mnanmean\u001b[0m\u001b[0;34m(\u001b[0m\u001b[0mdata\u001b[0m\u001b[0;34m,\u001b[0m\u001b[0;36m0\u001b[0m\u001b[0;34m)\u001b[0m\u001b[0;34m.\u001b[0m\u001b[0mmax\u001b[0m\u001b[0;34m(\u001b[0m\u001b[0;34m)\u001b[0m\u001b[0;34m\u001b[0m\u001b[0;34m\u001b[0m\u001b[0m\n\u001b[1;32m      5\u001b[0m \u001b[0mplt\u001b[0m\u001b[0;34m.\u001b[0m\u001b[0mfigure\u001b[0m\u001b[0;34m(\u001b[0m\u001b[0;34m)\u001b[0m\u001b[0;34m\u001b[0m\u001b[0;34m\u001b[0m\u001b[0m\n",
      "\u001b[0;31mNameError\u001b[0m: name 'YY_opto_medium' is not defined"
     ]
    }
   ],
   "source": [
    "data = np.nanmean(YY_opto_medium[:,2:8,:,:,itype],3).reshape((nwt,-1,6,6))[:,:,[0,2,3,5],:]\n",
    "nsize,ncontrast = 4,6\n",
    "mn = np.nanmean(data,0).min()\n",
    "mx = np.nanmean(data,0).max()\n",
    "plt.figure()\n",
    "for isize in range(nsize):\n",
    "    for icontrast in range(ncontrast):\n",
    "        plt.subplot(nsize,ncontrast,(nsize-isize-1)*ncontrast+icontrast+1)\n",
    "        plt.plot(data[:,:,isize,icontrast].T,c='k',alpha=0.02)\n",
    "        plt.plot(np.nanmean(data[:,:,isize,icontrast],0),c='k')\n",
    "        plt.ylim((mn,mx))\n",
    "        plt.axis('off')\n",
    "plt.savefig('figures/vip_sim_master_plot.jpg',dpi=300)"
   ]
  },
  {
   "cell_type": "code",
   "execution_count": 45,
   "metadata": {},
   "outputs": [
    {
     "ename": "NameError",
     "evalue": "name 'YY_opto_medium' is not defined",
     "output_type": "error",
     "traceback": [
      "\u001b[0;31m---------------------------------------------------------------------------\u001b[0m",
      "\u001b[0;31mNameError\u001b[0m                                 Traceback (most recent call last)",
      "\u001b[0;32m<ipython-input-45-8c1017ba0ba4>\u001b[0m in \u001b[0;36m<module>\u001b[0;34m\u001b[0m\n\u001b[0;32m----> 1\u001b[0;31m \u001b[0mYY_opto_medium\u001b[0m\u001b[0;34m[\u001b[0m\u001b[0;36m0\u001b[0m\u001b[0;34m,\u001b[0m\u001b[0;36m7\u001b[0m\u001b[0;34m,\u001b[0m\u001b[0;34m:\u001b[0m\u001b[0;34m,\u001b[0m\u001b[0;34m:\u001b[0m\u001b[0;34m,\u001b[0m\u001b[0mitype\u001b[0m\u001b[0;34m]\u001b[0m\u001b[0;34m\u001b[0m\u001b[0;34m\u001b[0m\u001b[0m\n\u001b[0m",
      "\u001b[0;31mNameError\u001b[0m: name 'YY_opto_medium' is not defined"
     ]
    }
   ],
   "source": [
    "YY_opto_medium[0,7,:,:,itype]"
   ]
  },
  {
   "cell_type": "code",
   "execution_count": 46,
   "metadata": {},
   "outputs": [],
   "source": [
    "# for iwt in range(nwt):\n",
    "#     plt.figure()\n",
    "#     for ilight,isize,icontrast in zip([0,5,10],[4,4,4],[5,5,5]):\n",
    "#         tmax = Niter\n",
    "#         t = np.arange(tmax)*dt\n",
    "#         iflat = np.ravel_multi_index((isize,icontrast),(nsize,ncontrast))\n",
    "#         plt.plot(t,YY_opto[iwt][ilight,iflat,:tmax,0].T)"
   ]
  },
  {
   "cell_type": "code",
   "execution_count": 47,
   "metadata": {},
   "outputs": [
    {
     "ename": "NameError",
     "evalue": "name 'data' is not defined",
     "output_type": "error",
     "traceback": [
      "\u001b[0;31m---------------------------------------------------------------------------\u001b[0m",
      "\u001b[0;31mNameError\u001b[0m                                 Traceback (most recent call last)",
      "\u001b[0;32m<ipython-input-47-7ccd4acddc7b>\u001b[0m in \u001b[0;36m<module>\u001b[0;34m\u001b[0m\n\u001b[0;32m----> 1\u001b[0;31m \u001b[0mnp\u001b[0m\u001b[0;34m.\u001b[0m\u001b[0mnanmax\u001b[0m\u001b[0;34m(\u001b[0m\u001b[0mdata\u001b[0m\u001b[0;34m)\u001b[0m\u001b[0;34m\u001b[0m\u001b[0;34m\u001b[0m\u001b[0m\n\u001b[0m",
      "\u001b[0;31mNameError\u001b[0m: name 'data' is not defined"
     ]
    }
   ],
   "source": [
    "np.nanmax(data)"
   ]
  },
  {
   "cell_type": "code",
   "execution_count": 48,
   "metadata": {},
   "outputs": [
    {
     "ename": "NameError",
     "evalue": "name 'YY_opto_medium' is not defined",
     "output_type": "error",
     "traceback": [
      "\u001b[0;31m---------------------------------------------------------------------------\u001b[0m",
      "\u001b[0;31mNameError\u001b[0m                                 Traceback (most recent call last)",
      "\u001b[0;32m<ipython-input-48-24ec84621095>\u001b[0m in \u001b[0;36m<module>\u001b[0;34m\u001b[0m\n\u001b[1;32m      1\u001b[0m \u001b[0miwt\u001b[0m \u001b[0;34m=\u001b[0m \u001b[0;36m0\u001b[0m\u001b[0;34m\u001b[0m\u001b[0;34m\u001b[0m\u001b[0m\n\u001b[0;32m----> 2\u001b[0;31m \u001b[0mdata\u001b[0m \u001b[0;34m=\u001b[0m \u001b[0mnp\u001b[0m\u001b[0;34m.\u001b[0m\u001b[0mzeros\u001b[0m\u001b[0;34m(\u001b[0m\u001b[0;34m(\u001b[0m\u001b[0mnwt\u001b[0m\u001b[0;34m,\u001b[0m\u001b[0mYY_opto_medium\u001b[0m\u001b[0;34m[\u001b[0m\u001b[0;36m0\u001b[0m\u001b[0;34m]\u001b[0m\u001b[0;34m.\u001b[0m\u001b[0mshape\u001b[0m\u001b[0;34m[\u001b[0m\u001b[0;36m0\u001b[0m\u001b[0;34m]\u001b[0m\u001b[0;34m,\u001b[0m\u001b[0;36m6\u001b[0m\u001b[0;34m,\u001b[0m\u001b[0;36m6\u001b[0m\u001b[0;34m)\u001b[0m\u001b[0;34m)\u001b[0m\u001b[0;34m\u001b[0m\u001b[0;34m\u001b[0m\u001b[0m\n\u001b[0m\u001b[1;32m      3\u001b[0m \u001b[0mthese_lvls\u001b[0m \u001b[0;34m=\u001b[0m \u001b[0mslice\u001b[0m\u001b[0;34m(\u001b[0m\u001b[0;32mNone\u001b[0m\u001b[0;34m)\u001b[0m\u001b[0;34m\u001b[0m\u001b[0;34m\u001b[0m\u001b[0m\n\u001b[1;32m      4\u001b[0m \u001b[0;32mfor\u001b[0m \u001b[0mitype\u001b[0m \u001b[0;32min\u001b[0m \u001b[0;34m[\u001b[0m\u001b[0;36m0\u001b[0m\u001b[0;34m,\u001b[0m\u001b[0;36m1\u001b[0m\u001b[0;34m,\u001b[0m\u001b[0;36m2\u001b[0m\u001b[0;34m,\u001b[0m\u001b[0;36m3\u001b[0m\u001b[0;34m]\u001b[0m\u001b[0;34m:\u001b[0m\u001b[0;34m\u001b[0m\u001b[0;34m\u001b[0m\u001b[0m\n\u001b[1;32m      5\u001b[0m     \u001b[0mplt\u001b[0m\u001b[0;34m.\u001b[0m\u001b[0mfigure\u001b[0m\u001b[0;34m(\u001b[0m\u001b[0mfigsize\u001b[0m\u001b[0;34m=\u001b[0m\u001b[0;34m(\u001b[0m\u001b[0;36m7.5\u001b[0m\u001b[0;34m,\u001b[0m\u001b[0;36m2.5\u001b[0m\u001b[0;34m)\u001b[0m\u001b[0;34m)\u001b[0m\u001b[0;34m\u001b[0m\u001b[0;34m\u001b[0m\u001b[0m\n",
      "\u001b[0;31mNameError\u001b[0m: name 'YY_opto_medium' is not defined"
     ]
    }
   ],
   "source": [
    "iwt = 0\n",
    "data = np.zeros((nwt,YY_opto_medium[0].shape[0],6,6))\n",
    "these_lvls = slice(None)\n",
    "for itype in [0,1,2,3]:\n",
    "    plt.figure(figsize=(7.5,2.5))\n",
    "    isize = 3\n",
    "    tlast = 1000\n",
    "    icontrasts = [1,5]\n",
    "    for iwt in range(nwt):\n",
    "        data[iwt] = np.nanmean(YY_opto_medium[iwt][:,:,:,itype],2).reshape((-1,6,6)) # light, stim, time, type\n",
    "        data[iwt] = (data[iwt] - data[iwt,5])/(data[iwt] + data[iwt,5])\n",
    "    for iicontrast,icontrast in enumerate(icontrasts):\n",
    "        this_data = data[:,:,isize,icontrast]\n",
    "        plt.subplot(1,3,iicontrast+1)\n",
    "        for iwt in range(nwt):\n",
    "            plt.plot(opto_levels[these_lvls],this_data[iwt][these_lvls],c='k',alpha=1)\n",
    "        plt.plot(opto_levels[these_lvls],np.mean(this_data,0)[these_lvls],c='k')\n",
    "        plt.ylim((np.nanmin(data[:,:,isize,icontrasts]),np.nanmax(data[:,:,isize,icontrasts])))\n",
    "        plt.axhline(0,c='k',linestyle='dashed')\n",
    "        plt.ylim(-1,1)\n",
    "        plt.subplot(1,3,3)\n",
    "        mn = np.mean(this_data,0)[these_lvls]\n",
    "        sem = np.std(this_data,0)[these_lvls]/np.sqrt(this_data.shape[0])\n",
    "        plt.plot(opto_levels[these_lvls],mn)\n",
    "        plt.fill_between(opto_levels[these_lvls],mn-sem,mn+sem,alpha=0.5)\n",
    "        plt.ylim((np.nanmin(data[:,:,isize,icontrasts]),np.nanmax(data[:,:,isize,icontrasts])))\n",
    "        plt.axhline(0,c='k',linestyle='dashed')\n",
    "        plt.ylim(-1,1)\n",
    "    plt.tight_layout()"
   ]
  },
  {
   "cell_type": "code",
   "execution_count": 49,
   "metadata": {},
   "outputs": [
    {
     "ename": "NameError",
     "evalue": "name 'YY_opto_small' is not defined",
     "output_type": "error",
     "traceback": [
      "\u001b[0;31m---------------------------------------------------------------------------\u001b[0m",
      "\u001b[0;31mNameError\u001b[0m                                 Traceback (most recent call last)",
      "\u001b[0;32m<ipython-input-49-4facd8ce34a6>\u001b[0m in \u001b[0;36m<module>\u001b[0;34m\u001b[0m\n\u001b[0;32m----> 1\u001b[0;31m \u001b[0mnon_paradoxical\u001b[0m \u001b[0;34m=\u001b[0m \u001b[0;34m(\u001b[0m\u001b[0mYY_opto_small\u001b[0m\u001b[0;34m[\u001b[0m\u001b[0;34m:\u001b[0m\u001b[0;34m,\u001b[0m\u001b[0;36m10\u001b[0m\u001b[0;34m,\u001b[0m\u001b[0;34m:\u001b[0m\u001b[0;34m,\u001b[0m\u001b[0;36m1\u001b[0m\u001b[0;34m]\u001b[0m \u001b[0;34m-\u001b[0m \u001b[0mYY_opto_small\u001b[0m\u001b[0;34m[\u001b[0m\u001b[0;34m:\u001b[0m\u001b[0;34m,\u001b[0m\u001b[0;36m5\u001b[0m\u001b[0;34m,\u001b[0m\u001b[0;34m:\u001b[0m\u001b[0;34m,\u001b[0m\u001b[0;36m1\u001b[0m\u001b[0;34m]\u001b[0m\u001b[0;34m>\u001b[0m\u001b[0;36m0\u001b[0m\u001b[0;34m)\u001b[0m\u001b[0;34m.\u001b[0m\u001b[0msum\u001b[0m\u001b[0;34m(\u001b[0m\u001b[0;36m1\u001b[0m\u001b[0;34m)\u001b[0m \u001b[0;34m==\u001b[0m \u001b[0;36m0\u001b[0m\u001b[0;34m\u001b[0m\u001b[0;34m\u001b[0m\u001b[0m\n\u001b[0m",
      "\u001b[0;31mNameError\u001b[0m: name 'YY_opto_small' is not defined"
     ]
    }
   ],
   "source": [
    "non_paradoxical = (YY_opto_small[:,10,:,1] - YY_opto_small[:,5,:,1]>0).sum(1) == 0"
   ]
  },
  {
   "cell_type": "code",
   "execution_count": null,
   "metadata": {},
   "outputs": [],
   "source": [
    "iwt,ilight = 0,-1\n",
    "thisYY = np.nanmean(YY_opto[iwt,:,:,:],2)\n",
    "mdls[0].fprimeY(thisYY).shap"
   ]
  },
  {
   "cell_type": "code",
   "execution_count": null,
   "metadata": {},
   "outputs": [],
   "source": [
    "YY_opto.shape"
   ]
  },
  {
   "cell_type": "code",
   "execution_count": 50,
   "metadata": {},
   "outputs": [
    {
     "ename": "IndexError",
     "evalue": "list index out of range",
     "output_type": "error",
     "traceback": [
      "\u001b[0;31m---------------------------------------------------------------------------\u001b[0m",
      "\u001b[0;31mIndexError\u001b[0m                                Traceback (most recent call last)",
      "\u001b[0;32m<ipython-input-50-a30ef40fce91>\u001b[0m in \u001b[0;36m<module>\u001b[0;34m\u001b[0m\n\u001b[0;32m----> 1\u001b[0;31m \u001b[0mthis_fprime\u001b[0m \u001b[0;34m=\u001b[0m \u001b[0mmdls\u001b[0m\u001b[0;34m[\u001b[0m\u001b[0;36m0\u001b[0m\u001b[0;34m]\u001b[0m\u001b[0;34m.\u001b[0m\u001b[0mfprimeY\u001b[0m\u001b[0;34m(\u001b[0m\u001b[0mnp\u001b[0m\u001b[0;34m.\u001b[0m\u001b[0mnanmean\u001b[0m\u001b[0;34m(\u001b[0m\u001b[0mYY_opto\u001b[0m\u001b[0;34m[\u001b[0m\u001b[0miwt\u001b[0m\u001b[0;34m]\u001b[0m\u001b[0;34m,\u001b[0m\u001b[0;36m2\u001b[0m\u001b[0;34m)\u001b[0m\u001b[0;34m)\u001b[0m\u001b[0;34m\u001b[0m\u001b[0;34m\u001b[0m\u001b[0m\n\u001b[0m\u001b[1;32m      2\u001b[0m \u001b[0mthis_fprime\u001b[0m\u001b[0;34m.\u001b[0m\u001b[0mshape\u001b[0m\u001b[0;34m\u001b[0m\u001b[0;34m\u001b[0m\u001b[0m\n",
      "\u001b[0;31mIndexError\u001b[0m: list index out of range"
     ]
    }
   ],
   "source": [
    "this_fprime = mdls[0].fprimeY(np.nanmean(YY_opto[iwt],2))\n",
    "this_fprime.shape"
   ]
  },
  {
   "cell_type": "code",
   "execution_count": 51,
   "metadata": {},
   "outputs": [
    {
     "ename": "NameError",
     "evalue": "name 'YY_opto_medium' is not defined",
     "output_type": "error",
     "traceback": [
      "\u001b[0;31m---------------------------------------------------------------------------\u001b[0m",
      "\u001b[0;31mNameError\u001b[0m                                 Traceback (most recent call last)",
      "\u001b[0;32m<ipython-input-51-92dc8490db0d>\u001b[0m in \u001b[0;36m<module>\u001b[0;34m\u001b[0m\n\u001b[0;32m----> 1\u001b[0;31m \u001b[0mnlight\u001b[0m \u001b[0;34m=\u001b[0m \u001b[0mYY_opto_medium\u001b[0m\u001b[0;34m.\u001b[0m\u001b[0mshape\u001b[0m\u001b[0;34m[\u001b[0m\u001b[0;36m1\u001b[0m\u001b[0;34m]\u001b[0m\u001b[0;34m\u001b[0m\u001b[0;34m\u001b[0m\u001b[0m\n\u001b[0m\u001b[1;32m      2\u001b[0m \u001b[0mnN\u001b[0m\u001b[0;34m,\u001b[0m\u001b[0mnP\u001b[0m\u001b[0;34m,\u001b[0m\u001b[0mnQ\u001b[0m\u001b[0;34m,\u001b[0m\u001b[0mnS\u001b[0m\u001b[0;34m,\u001b[0m\u001b[0mnT\u001b[0m \u001b[0;34m=\u001b[0m \u001b[0;34m[\u001b[0m\u001b[0mgetattr\u001b[0m\u001b[0;34m(\u001b[0m\u001b[0mmdls\u001b[0m\u001b[0;34m[\u001b[0m\u001b[0;36m0\u001b[0m\u001b[0;34m]\u001b[0m\u001b[0;34m,\u001b[0m\u001b[0mx\u001b[0m\u001b[0;34m)\u001b[0m \u001b[0;32mfor\u001b[0m \u001b[0mx\u001b[0m \u001b[0;32min\u001b[0m \u001b[0;34m[\u001b[0m\u001b[0;34m'nN'\u001b[0m\u001b[0;34m,\u001b[0m\u001b[0;34m'nP'\u001b[0m\u001b[0;34m,\u001b[0m\u001b[0;34m'nQ'\u001b[0m\u001b[0;34m,\u001b[0m\u001b[0;34m'nS'\u001b[0m\u001b[0;34m,\u001b[0m\u001b[0;34m'nT'\u001b[0m\u001b[0;34m]\u001b[0m\u001b[0;34m]\u001b[0m\u001b[0;34m\u001b[0m\u001b[0;34m\u001b[0m\u001b[0m\n\u001b[1;32m      3\u001b[0m \u001b[0mphis\u001b[0m \u001b[0;34m=\u001b[0m \u001b[0mnp\u001b[0m\u001b[0;34m.\u001b[0m\u001b[0mzeros\u001b[0m\u001b[0;34m(\u001b[0m\u001b[0;34m(\u001b[0m\u001b[0mnwt\u001b[0m\u001b[0;34m,\u001b[0m\u001b[0mnlight\u001b[0m\u001b[0;34m,\u001b[0m\u001b[0;36m6\u001b[0m\u001b[0;34m,\u001b[0m\u001b[0;36m6\u001b[0m\u001b[0;34m,\u001b[0m\u001b[0mnQ\u001b[0m\u001b[0;34m*\u001b[0m\u001b[0mnS\u001b[0m\u001b[0;34m*\u001b[0m\u001b[0mnT\u001b[0m\u001b[0;34m)\u001b[0m\u001b[0;34m)\u001b[0m\u001b[0;34m\u001b[0m\u001b[0;34m\u001b[0m\u001b[0m\n\u001b[1;32m      4\u001b[0m \u001b[0mcouplings\u001b[0m \u001b[0;34m=\u001b[0m \u001b[0mnp\u001b[0m\u001b[0;34m.\u001b[0m\u001b[0mzeros\u001b[0m\u001b[0;34m(\u001b[0m\u001b[0;34m(\u001b[0m\u001b[0mnwt\u001b[0m\u001b[0;34m,\u001b[0m\u001b[0mnlight\u001b[0m\u001b[0;34m,\u001b[0m\u001b[0;36m6\u001b[0m\u001b[0;34m,\u001b[0m\u001b[0;36m6\u001b[0m\u001b[0;34m,\u001b[0m\u001b[0mnQ\u001b[0m\u001b[0;34m*\u001b[0m\u001b[0mnS\u001b[0m\u001b[0;34m*\u001b[0m\u001b[0mnT\u001b[0m\u001b[0;34m,\u001b[0m\u001b[0mnQ\u001b[0m\u001b[0;34m*\u001b[0m\u001b[0mnS\u001b[0m\u001b[0;34m*\u001b[0m\u001b[0mnT\u001b[0m\u001b[0;34m)\u001b[0m\u001b[0;34m)\u001b[0m\u001b[0;34m\u001b[0m\u001b[0;34m\u001b[0m\u001b[0m\n\u001b[1;32m      5\u001b[0m \u001b[0mXcouplings\u001b[0m \u001b[0;34m=\u001b[0m \u001b[0mnp\u001b[0m\u001b[0;34m.\u001b[0m\u001b[0mzeros\u001b[0m\u001b[0;34m(\u001b[0m\u001b[0;34m(\u001b[0m\u001b[0mnwt\u001b[0m\u001b[0;34m,\u001b[0m\u001b[0mnlight\u001b[0m\u001b[0;34m,\u001b[0m\u001b[0;36m6\u001b[0m\u001b[0;34m,\u001b[0m\u001b[0;36m6\u001b[0m\u001b[0;34m,\u001b[0m\u001b[0mnP\u001b[0m\u001b[0;34m*\u001b[0m\u001b[0mnS\u001b[0m\u001b[0;34m*\u001b[0m\u001b[0mnT\u001b[0m\u001b[0;34m,\u001b[0m\u001b[0mnQ\u001b[0m\u001b[0;34m*\u001b[0m\u001b[0mnS\u001b[0m\u001b[0;34m*\u001b[0m\u001b[0mnT\u001b[0m\u001b[0;34m)\u001b[0m\u001b[0;34m)\u001b[0m\u001b[0;34m\u001b[0m\u001b[0;34m\u001b[0m\u001b[0m\n",
      "\u001b[0;31mNameError\u001b[0m: name 'YY_opto_medium' is not defined"
     ]
    }
   ],
   "source": [
    "nlight = YY_opto_medium.shape[1]\n",
    "nN,nP,nQ,nS,nT = [getattr(mdls[0],x) for x in ['nN','nP','nQ','nS','nT']]\n",
    "phis = np.zeros((nwt,nlight,6,6,nQ*nS*nT))\n",
    "couplings = np.zeros((nwt,nlight,6,6,nQ*nS*nT,nQ*nS*nT))\n",
    "Xcouplings = np.zeros((nwt,nlight,6,6,nP*nS*nT,nQ*nS*nT))\n",
    "for iwt,mdl in enumerate(mdls[:nwt]):\n",
    "    print('model #%d'%iwt)\n",
    "    this_fprime = mdl.fprimeY(np.nanmean(YY_opto_medium[iwt],2))\n",
    "    WWmx,WWmy = [getattr(mdls[iwt],x) for x in ['WWmx','WWmy']]\n",
    "    for ilight in range(nlight):\n",
    "        for istim in range(nN):\n",
    "            iistim,jjstim = np.unravel_index(istim,(6,6))\n",
    "            phis[iwt,ilight,iistim,jjstim] = this_fprime[ilight,istim]\n",
    "            Phi = np.diag(phis[iwt,ilight,iistim,jjstim])\n",
    "            couplings[iwt,ilight,iistim,jjstim] = Phi @ np.linalg.inv(np.eye(nQ*nS*nT) - WWmy @ Phi)\n",
    "            Xcouplings[iwt,ilight,iistim,jjstim] = WWmx @ Phi @ np.linalg.inv(np.eye(nQ*nS*nT) - WWmy @ Phi)\n",
    "# couplings = np.reshape(couplings,(couplings.shape[0],6,6,couplings.shape[2],couplings.shape[3]))\n",
    "# Xcouplings = np.reshape(Xcouplings,(Xcouplings.shape[0],6,6,Xcouplings.shape[2],Xcouplings.shape[3]))\n"
   ]
  },
  {
   "cell_type": "code",
   "execution_count": 52,
   "metadata": {},
   "outputs": [],
   "source": [
    "lbls = ['PC','SST','VIP','PV']"
   ]
  },
  {
   "cell_type": "code",
   "execution_count": 53,
   "metadata": {},
   "outputs": [],
   "source": [
    "iwt = 1"
   ]
  },
  {
   "cell_type": "code",
   "execution_count": 54,
   "metadata": {},
   "outputs": [
    {
     "ename": "NameError",
     "evalue": "name 'couplings' is not defined",
     "output_type": "error",
     "traceback": [
      "\u001b[0;31m---------------------------------------------------------------------------\u001b[0m",
      "\u001b[0;31mNameError\u001b[0m                                 Traceback (most recent call last)",
      "\u001b[0;32m<ipython-input-54-9d2358871bba>\u001b[0m in \u001b[0;36m<module>\u001b[0;34m\u001b[0m\n\u001b[1;32m      2\u001b[0m \u001b[0;32mfor\u001b[0m \u001b[0milight\u001b[0m \u001b[0;32min\u001b[0m \u001b[0mrange\u001b[0m\u001b[0;34m(\u001b[0m\u001b[0;36m3\u001b[0m\u001b[0;34m)\u001b[0m\u001b[0;34m:\u001b[0m\u001b[0;34m\u001b[0m\u001b[0;34m\u001b[0m\u001b[0m\n\u001b[1;32m      3\u001b[0m     \u001b[0mplt\u001b[0m\u001b[0;34m.\u001b[0m\u001b[0msubplot\u001b[0m\u001b[0;34m(\u001b[0m\u001b[0;36m1\u001b[0m\u001b[0;34m,\u001b[0m\u001b[0;36m3\u001b[0m\u001b[0;34m,\u001b[0m\u001b[0milight\u001b[0m\u001b[0;34m+\u001b[0m\u001b[0;36m1\u001b[0m\u001b[0;34m)\u001b[0m\u001b[0;34m\u001b[0m\u001b[0;34m\u001b[0m\u001b[0m\n\u001b[0;32m----> 4\u001b[0;31m     \u001b[0mdata\u001b[0m \u001b[0;34m=\u001b[0m \u001b[0mcouplings\u001b[0m\u001b[0;34m[\u001b[0m\u001b[0miwt\u001b[0m\u001b[0;34m,\u001b[0m\u001b[0;36m5\u001b[0m\u001b[0;34m*\u001b[0m\u001b[0milight\u001b[0m\u001b[0;34m,\u001b[0m\u001b[0;34m:\u001b[0m\u001b[0;34m,\u001b[0m\u001b[0;34m:\u001b[0m\u001b[0;34m,\u001b[0m\u001b[0;36m1\u001b[0m\u001b[0;34m,\u001b[0m\u001b[0;36m1\u001b[0m\u001b[0;34m]\u001b[0m\u001b[0;34m\u001b[0m\u001b[0;34m\u001b[0m\u001b[0m\n\u001b[0m\u001b[1;32m      5\u001b[0m     \u001b[0mmx\u001b[0m \u001b[0;34m=\u001b[0m \u001b[0mnp\u001b[0m\u001b[0;34m.\u001b[0m\u001b[0mmax\u001b[0m\u001b[0;34m(\u001b[0m\u001b[0mnp\u001b[0m\u001b[0;34m.\u001b[0m\u001b[0mabs\u001b[0m\u001b[0;34m(\u001b[0m\u001b[0mdata\u001b[0m\u001b[0;34m)\u001b[0m\u001b[0;34m)\u001b[0m\u001b[0;34m\u001b[0m\u001b[0;34m\u001b[0m\u001b[0m\n\u001b[1;32m      6\u001b[0m     \u001b[0mplt\u001b[0m\u001b[0;34m.\u001b[0m\u001b[0mimshow\u001b[0m\u001b[0;34m(\u001b[0m\u001b[0mdata\u001b[0m\u001b[0;34m,\u001b[0m\u001b[0mvmin\u001b[0m\u001b[0;34m=\u001b[0m\u001b[0;34m-\u001b[0m\u001b[0mmx\u001b[0m\u001b[0;34m,\u001b[0m\u001b[0mvmax\u001b[0m\u001b[0;34m=\u001b[0m\u001b[0mmx\u001b[0m\u001b[0;34m,\u001b[0m\u001b[0mcmap\u001b[0m\u001b[0;34m=\u001b[0m\u001b[0;34m'bwr'\u001b[0m\u001b[0;34m)\u001b[0m\u001b[0;34m\u001b[0m\u001b[0;34m\u001b[0m\u001b[0m\n",
      "\u001b[0;31mNameError\u001b[0m: name 'couplings' is not defined"
     ]
    },
    {
     "data": {
      "image/png": "[encoded data removed]",
      "text/plain": [
       "<Figure size 432x288 with 1 Axes>"
      ]
     },
     "metadata": {
      "needs_background": "light"
     },
     "output_type": "display_data"
    }
   ],
   "source": [
    "plt.figure()\n",
    "for ilight in range(3):\n",
    "    plt.subplot(1,3,ilight+1)\n",
    "    data = couplings[iwt,5*ilight,:,:,1,1]\n",
    "    mx = np.max(np.abs(data))\n",
    "    plt.imshow(data,vmin=-mx,vmax=mx,cmap='bwr')"
   ]
  },
  {
   "cell_type": "code",
   "execution_count": null,
   "metadata": {},
   "outputs": [],
   "source": [
    "plt.figure()\n",
    "for ilight in range(3):\n",
    "    plt.subplot(1,3,ilight+1)\n",
    "    data = couplings[iwt,5*ilight,:,:,2,1]\n",
    "    mx = np.max(np.abs(data))\n",
    "    plt.imshow(data,vmin=-mx,vmax=mx,cmap='bwr')"
   ]
  },
  {
   "cell_type": "code",
   "execution_count": null,
   "metadata": {},
   "outputs": [],
   "source": [
    "plt.figure()\n",
    "for ilight in range(3):\n",
    "    plt.subplot(1,3,ilight+1)\n",
    "    data = couplings[iwt,5*ilight,:,:,2,0]\n",
    "    mx = np.max(np.abs(data))\n",
    "    plt.imshow(data,vmin=-mx,vmax=mx,cmap='bwr')"
   ]
  },
  {
   "cell_type": "code",
   "execution_count": 55,
   "metadata": {},
   "outputs": [
    {
     "ename": "NameError",
     "evalue": "name 'couplings' is not defined",
     "output_type": "error",
     "traceback": [
      "\u001b[0;31m---------------------------------------------------------------------------\u001b[0m",
      "\u001b[0;31mNameError\u001b[0m                                 Traceback (most recent call last)",
      "\u001b[0;32m<ipython-input-55-cd2f28d50071>\u001b[0m in \u001b[0;36m<module>\u001b[0;34m\u001b[0m\n\u001b[1;32m      2\u001b[0m \u001b[0;32mfor\u001b[0m \u001b[0milight\u001b[0m \u001b[0;32min\u001b[0m \u001b[0mrange\u001b[0m\u001b[0;34m(\u001b[0m\u001b[0;36m3\u001b[0m\u001b[0;34m)\u001b[0m\u001b[0;34m:\u001b[0m\u001b[0;34m\u001b[0m\u001b[0;34m\u001b[0m\u001b[0m\n\u001b[1;32m      3\u001b[0m     \u001b[0mplt\u001b[0m\u001b[0;34m.\u001b[0m\u001b[0msubplot\u001b[0m\u001b[0;34m(\u001b[0m\u001b[0;36m1\u001b[0m\u001b[0;34m,\u001b[0m\u001b[0;36m3\u001b[0m\u001b[0;34m,\u001b[0m\u001b[0milight\u001b[0m\u001b[0;34m+\u001b[0m\u001b[0;36m1\u001b[0m\u001b[0;34m)\u001b[0m\u001b[0;34m\u001b[0m\u001b[0;34m\u001b[0m\u001b[0m\n\u001b[0;32m----> 4\u001b[0;31m     \u001b[0mdata\u001b[0m \u001b[0;34m=\u001b[0m \u001b[0mcouplings\u001b[0m\u001b[0;34m[\u001b[0m\u001b[0;36m1\u001b[0m\u001b[0;34m,\u001b[0m\u001b[0;36m5\u001b[0m\u001b[0;34m*\u001b[0m\u001b[0milight\u001b[0m\u001b[0;34m,\u001b[0m\u001b[0;34m:\u001b[0m\u001b[0;34m,\u001b[0m\u001b[0;34m:\u001b[0m\u001b[0;34m,\u001b[0m\u001b[0;36m8\u001b[0m\u001b[0;34m,\u001b[0m\u001b[0;36m0\u001b[0m\u001b[0;34m]\u001b[0m\u001b[0;34m\u001b[0m\u001b[0;34m\u001b[0m\u001b[0m\n\u001b[0m\u001b[1;32m      5\u001b[0m     \u001b[0mmx\u001b[0m \u001b[0;34m=\u001b[0m \u001b[0mnp\u001b[0m\u001b[0;34m.\u001b[0m\u001b[0mmax\u001b[0m\u001b[0;34m(\u001b[0m\u001b[0mnp\u001b[0m\u001b[0;34m.\u001b[0m\u001b[0mabs\u001b[0m\u001b[0;34m(\u001b[0m\u001b[0mdata\u001b[0m\u001b[0;34m)\u001b[0m\u001b[0;34m)\u001b[0m\u001b[0;34m\u001b[0m\u001b[0;34m\u001b[0m\u001b[0m\n\u001b[1;32m      6\u001b[0m     \u001b[0mplt\u001b[0m\u001b[0;34m.\u001b[0m\u001b[0mimshow\u001b[0m\u001b[0;34m(\u001b[0m\u001b[0mdata\u001b[0m\u001b[0;34m,\u001b[0m\u001b[0mvmin\u001b[0m\u001b[0;34m=\u001b[0m\u001b[0;34m-\u001b[0m\u001b[0mmx\u001b[0m\u001b[0;34m,\u001b[0m\u001b[0mvmax\u001b[0m\u001b[0;34m=\u001b[0m\u001b[0mmx\u001b[0m\u001b[0;34m,\u001b[0m\u001b[0mcmap\u001b[0m\u001b[0;34m=\u001b[0m\u001b[0;34m'bwr'\u001b[0m\u001b[0;34m)\u001b[0m\u001b[0;34m\u001b[0m\u001b[0;34m\u001b[0m\u001b[0m\n",
      "\u001b[0;31mNameError\u001b[0m: name 'couplings' is not defined"
     ]
    },
    {
     "data": {
      "image/png": "[encoded data removed]",
      "text/plain": [
       "<Figure size 432x288 with 1 Axes>"
      ]
     },
     "metadata": {
      "needs_background": "light"
     },
     "output_type": "display_data"
    }
   ],
   "source": [
    "plt.figure()\n",
    "for ilight in range(3):\n",
    "    plt.subplot(1,3,ilight+1)\n",
    "    data = couplings[1,5*ilight,:,:,8,0]\n",
    "    mx = np.max(np.abs(data))\n",
    "    plt.imshow(data,vmin=-mx,vmax=mx,cmap='bwr')"
   ]
  },
  {
   "cell_type": "code",
   "execution_count": null,
   "metadata": {},
   "outputs": [],
   "source": [
    "for itype1 in range(nQ):\n",
    "    for itype2 in range(nQ):\n",
    "        plt.figure()\n",
    "        data = np.nanmedian(couplings[:,:,:,:,itype1,itype2],0)\n",
    "        mx = np.max(np.abs(data))\n",
    "        for ilight in range(3):\n",
    "            plt.subplot(1,3,ilight+1)\n",
    "            this_data = data[5*ilight]\n",
    "            plt.imshow(this_data,vmin=-mx,vmax=mx,cmap='bwr')\n",
    "        plt.subplot(1,3,2)\n",
    "        plt.title('%s->%s'%(lbls[itype1],lbls[itype2]))"
   ]
  },
  {
   "cell_type": "code",
   "execution_count": null,
   "metadata": {},
   "outputs": [],
   "source": [
    "for itype1 in range(nQ):\n",
    "    for itype2 in range(nQ):\n",
    "        plt.figure()\n",
    "        data = np.nanmedian(couplings[:,:,:,:,8+itype1,itype2],0)\n",
    "        mx = np.max(np.abs(data))\n",
    "        for ilight in range(3):\n",
    "            plt.subplot(1,3,ilight+1)\n",
    "            this_data = data[5*ilight]\n",
    "            plt.imshow(this_data,vmin=-mx,vmax=mx,cmap='bwr')\n",
    "        plt.subplot(1,3,2)\n",
    "        plt.title('far %s->%s'%(lbls[itype1],lbls[itype2]))"
   ]
  },
  {
   "cell_type": "code",
   "execution_count": 56,
   "metadata": {},
   "outputs": [
    {
     "ename": "NameError",
     "evalue": "name 'nQ' is not defined",
     "output_type": "error",
     "traceback": [
      "\u001b[0;31m---------------------------------------------------------------------------\u001b[0m",
      "\u001b[0;31mNameError\u001b[0m                                 Traceback (most recent call last)",
      "\u001b[0;32m<ipython-input-56-fba52972216c>\u001b[0m in \u001b[0;36m<module>\u001b[0;34m\u001b[0m\n\u001b[0;32m----> 1\u001b[0;31m \u001b[0;32mfor\u001b[0m \u001b[0mitype1\u001b[0m \u001b[0;32min\u001b[0m \u001b[0mrange\u001b[0m\u001b[0;34m(\u001b[0m\u001b[0mnQ\u001b[0m\u001b[0;34m)\u001b[0m\u001b[0;34m:\u001b[0m\u001b[0;34m\u001b[0m\u001b[0;34m\u001b[0m\u001b[0m\n\u001b[0m\u001b[1;32m      2\u001b[0m     \u001b[0;32mfor\u001b[0m \u001b[0mitype2\u001b[0m \u001b[0;32min\u001b[0m \u001b[0mrange\u001b[0m\u001b[0;34m(\u001b[0m\u001b[0mnQ\u001b[0m\u001b[0;34m)\u001b[0m\u001b[0;34m:\u001b[0m\u001b[0;34m\u001b[0m\u001b[0;34m\u001b[0m\u001b[0m\n\u001b[1;32m      3\u001b[0m         \u001b[0mplt\u001b[0m\u001b[0;34m.\u001b[0m\u001b[0mfigure\u001b[0m\u001b[0;34m(\u001b[0m\u001b[0;34m)\u001b[0m\u001b[0;34m\u001b[0m\u001b[0;34m\u001b[0m\u001b[0m\n\u001b[1;32m      4\u001b[0m         \u001b[0mdata\u001b[0m \u001b[0;34m=\u001b[0m \u001b[0mnp\u001b[0m\u001b[0;34m.\u001b[0m\u001b[0mnanmedian\u001b[0m\u001b[0;34m(\u001b[0m\u001b[0mcouplings\u001b[0m\u001b[0;34m[\u001b[0m\u001b[0;34m:\u001b[0m\u001b[0;34m,\u001b[0m\u001b[0;34m:\u001b[0m\u001b[0;34m,\u001b[0m\u001b[0;34m:\u001b[0m\u001b[0;34m,\u001b[0m\u001b[0;34m:\u001b[0m\u001b[0;34m,\u001b[0m\u001b[0;36m8\u001b[0m\u001b[0;34m+\u001b[0m\u001b[0mitype1\u001b[0m\u001b[0;34m,\u001b[0m\u001b[0mitype2\u001b[0m\u001b[0;34m]\u001b[0m\u001b[0;34m,\u001b[0m\u001b[0;36m0\u001b[0m\u001b[0;34m)\u001b[0m\u001b[0;34m\u001b[0m\u001b[0;34m\u001b[0m\u001b[0m\n\u001b[1;32m      5\u001b[0m         \u001b[0mmx\u001b[0m \u001b[0;34m=\u001b[0m \u001b[0mnp\u001b[0m\u001b[0;34m.\u001b[0m\u001b[0mmax\u001b[0m\u001b[0;34m(\u001b[0m\u001b[0mnp\u001b[0m\u001b[0;34m.\u001b[0m\u001b[0mabs\u001b[0m\u001b[0;34m(\u001b[0m\u001b[0mdata\u001b[0m\u001b[0;34m)\u001b[0m\u001b[0;34m)\u001b[0m\u001b[0;34m\u001b[0m\u001b[0;34m\u001b[0m\u001b[0m\n",
      "\u001b[0;31mNameError\u001b[0m: name 'nQ' is not defined"
     ]
    }
   ],
   "source": [
    "for itype1 in range(nQ):\n",
    "    for itype2 in range(nQ):\n",
    "        plt.figure()\n",
    "        data = np.nanmedian(couplings[:,:,:,:,8+itype1,itype2],0)\n",
    "        mx = np.max(np.abs(data))\n",
    "        for ilight in range(3):\n",
    "            plt.subplot(1,3,ilight+1)\n",
    "            this_data = data[5+2*(ilight-1)]\n",
    "            plt.imshow(this_data,vmin=-mx,vmax=mx,cmap='bwr')\n",
    "        plt.subplot(1,3,2)\n",
    "        plt.title('far %s->%s'%(lbls[itype1],lbls[itype2]))"
   ]
  },
  {
   "cell_type": "code",
   "execution_count": 57,
   "metadata": {},
   "outputs": [
    {
     "ename": "NameError",
     "evalue": "name 'couplings' is not defined",
     "output_type": "error",
     "traceback": [
      "\u001b[0;31m---------------------------------------------------------------------------\u001b[0m",
      "\u001b[0;31mNameError\u001b[0m                                 Traceback (most recent call last)",
      "\u001b[0;32m<ipython-input-57-379666e13d0e>\u001b[0m in \u001b[0;36m<module>\u001b[0;34m\u001b[0m\n\u001b[1;32m      2\u001b[0m \u001b[0misize\u001b[0m \u001b[0;34m=\u001b[0m \u001b[0;36m4\u001b[0m\u001b[0;34m\u001b[0m\u001b[0;34m\u001b[0m\u001b[0m\n\u001b[1;32m      3\u001b[0m \u001b[0mx\u001b[0m \u001b[0;34m=\u001b[0m \u001b[0mnp\u001b[0m\u001b[0;34m.\u001b[0m\u001b[0marange\u001b[0m\u001b[0;34m(\u001b[0m\u001b[0;36m6\u001b[0m\u001b[0;34m)\u001b[0m\u001b[0;34m\u001b[0m\u001b[0;34m\u001b[0m\u001b[0m\n\u001b[0;32m----> 4\u001b[0;31m \u001b[0mut\u001b[0m\u001b[0;34m.\u001b[0m\u001b[0mplot_bootstrapped_errorbars_hillel\u001b[0m\u001b[0;34m(\u001b[0m\u001b[0mx\u001b[0m\u001b[0;34m,\u001b[0m\u001b[0mcouplings\u001b[0m\u001b[0;34m[\u001b[0m\u001b[0;34m:\u001b[0m\u001b[0;34m,\u001b[0m\u001b[0;34m[\u001b[0m\u001b[0;36m3\u001b[0m\u001b[0;34m,\u001b[0m\u001b[0;36m5\u001b[0m\u001b[0;34m,\u001b[0m\u001b[0;36m7\u001b[0m\u001b[0;34m]\u001b[0m\u001b[0;34m,\u001b[0m\u001b[0misize\u001b[0m\u001b[0;34m,\u001b[0m\u001b[0;34m:\u001b[0m\u001b[0;34m,\u001b[0m\u001b[0;36m8\u001b[0m\u001b[0;34m,\u001b[0m\u001b[0;36m0\u001b[0m\u001b[0;34m]\u001b[0m\u001b[0;34m.\u001b[0m\u001b[0mtranspose\u001b[0m\u001b[0;34m(\u001b[0m\u001b[0;34m(\u001b[0m\u001b[0;36m1\u001b[0m\u001b[0;34m,\u001b[0m\u001b[0;36m0\u001b[0m\u001b[0;34m,\u001b[0m\u001b[0;36m2\u001b[0m\u001b[0;34m)\u001b[0m\u001b[0;34m)\u001b[0m\u001b[0;34m)\u001b[0m\u001b[0;34m\u001b[0m\u001b[0;34m\u001b[0m\u001b[0m\n\u001b[0m",
      "\u001b[0;31mNameError\u001b[0m: name 'couplings' is not defined"
     ]
    },
    {
     "data": {
      "text/plain": [
       "<Figure size 432x288 with 0 Axes>"
      ]
     },
     "metadata": {},
     "output_type": "display_data"
    }
   ],
   "source": [
    "plt.figure()\n",
    "isize = 4\n",
    "x = np.arange(6)\n",
    "ut.plot_bootstrapped_errorbars_hillel(x,couplings[:,[3,5,7],isize,:,8,0].transpose((1,0,2)))"
   ]
  },
  {
   "cell_type": "code",
   "execution_count": 58,
   "metadata": {},
   "outputs": [
    {
     "ename": "NameError",
     "evalue": "name 'YY_opto_medium' is not defined",
     "output_type": "error",
     "traceback": [
      "\u001b[0;31m---------------------------------------------------------------------------\u001b[0m",
      "\u001b[0;31mNameError\u001b[0m                                 Traceback (most recent call last)",
      "\u001b[0;32m<ipython-input-58-0efccaf3375a>\u001b[0m in \u001b[0;36m<module>\u001b[0;34m\u001b[0m\n\u001b[0;32m----> 1\u001b[0;31m \u001b[0mnlight\u001b[0m \u001b[0;34m=\u001b[0m \u001b[0mYY_opto_medium\u001b[0m\u001b[0;34m.\u001b[0m\u001b[0mshape\u001b[0m\u001b[0;34m[\u001b[0m\u001b[0;36m1\u001b[0m\u001b[0;34m]\u001b[0m\u001b[0;34m\u001b[0m\u001b[0;34m\u001b[0m\u001b[0m\n\u001b[0m\u001b[1;32m      2\u001b[0m \u001b[0mnsize\u001b[0m\u001b[0;34m,\u001b[0m\u001b[0mncontrast\u001b[0m \u001b[0;34m=\u001b[0m \u001b[0;36m6\u001b[0m\u001b[0;34m,\u001b[0m\u001b[0;36m6\u001b[0m\u001b[0;34m\u001b[0m\u001b[0;34m\u001b[0m\u001b[0m\n\u001b[1;32m      3\u001b[0m \u001b[0mnN\u001b[0m\u001b[0;34m,\u001b[0m\u001b[0mnP\u001b[0m\u001b[0;34m,\u001b[0m\u001b[0mnQ\u001b[0m\u001b[0;34m,\u001b[0m\u001b[0mnS\u001b[0m\u001b[0;34m,\u001b[0m\u001b[0mnT\u001b[0m \u001b[0;34m=\u001b[0m \u001b[0;34m[\u001b[0m\u001b[0mgetattr\u001b[0m\u001b[0;34m(\u001b[0m\u001b[0mmdls\u001b[0m\u001b[0;34m[\u001b[0m\u001b[0;36m0\u001b[0m\u001b[0;34m]\u001b[0m\u001b[0;34m,\u001b[0m\u001b[0mx\u001b[0m\u001b[0;34m)\u001b[0m \u001b[0;32mfor\u001b[0m \u001b[0mx\u001b[0m \u001b[0;32min\u001b[0m \u001b[0;34m[\u001b[0m\u001b[0;34m'nN'\u001b[0m\u001b[0;34m,\u001b[0m\u001b[0;34m'nP'\u001b[0m\u001b[0;34m,\u001b[0m\u001b[0;34m'nQ'\u001b[0m\u001b[0;34m,\u001b[0m\u001b[0;34m'nS'\u001b[0m\u001b[0;34m,\u001b[0m\u001b[0;34m'nT'\u001b[0m\u001b[0;34m]\u001b[0m\u001b[0;34m]\u001b[0m\u001b[0;34m\u001b[0m\u001b[0;34m\u001b[0m\u001b[0m\n\u001b[1;32m      4\u001b[0m \u001b[0mmax_eig\u001b[0m \u001b[0;34m=\u001b[0m \u001b[0mnp\u001b[0m\u001b[0;34m.\u001b[0m\u001b[0mzeros\u001b[0m\u001b[0;34m(\u001b[0m\u001b[0;34m(\u001b[0m\u001b[0mlen\u001b[0m\u001b[0;34m(\u001b[0m\u001b[0mweights_files\u001b[0m\u001b[0;34m)\u001b[0m\u001b[0;34m,\u001b[0m\u001b[0mnlight\u001b[0m\u001b[0;34m,\u001b[0m\u001b[0mnsize\u001b[0m\u001b[0;34m,\u001b[0m\u001b[0mncontrast\u001b[0m\u001b[0;34m)\u001b[0m\u001b[0;34m)\u001b[0m\u001b[0;34m\u001b[0m\u001b[0;34m\u001b[0m\u001b[0m\n\u001b[1;32m      5\u001b[0m \u001b[0mmin_eig\u001b[0m \u001b[0;34m=\u001b[0m \u001b[0mnp\u001b[0m\u001b[0;34m.\u001b[0m\u001b[0mzeros\u001b[0m\u001b[0;34m(\u001b[0m\u001b[0;34m(\u001b[0m\u001b[0mlen\u001b[0m\u001b[0;34m(\u001b[0m\u001b[0mweights_files\u001b[0m\u001b[0;34m)\u001b[0m\u001b[0;34m,\u001b[0m\u001b[0mnlight\u001b[0m\u001b[0;34m,\u001b[0m\u001b[0mnsize\u001b[0m\u001b[0;34m,\u001b[0m\u001b[0mncontrast\u001b[0m\u001b[0;34m)\u001b[0m\u001b[0;34m)\u001b[0m\u001b[0;34m\u001b[0m\u001b[0;34m\u001b[0m\u001b[0m\n",
      "\u001b[0;31mNameError\u001b[0m: name 'YY_opto_medium' is not defined"
     ]
    }
   ],
   "source": [
    "nlight = YY_opto_medium.shape[1]\n",
    "nsize,ncontrast = 6,6\n",
    "nN,nP,nQ,nS,nT = [getattr(mdls[0],x) for x in ['nN','nP','nQ','nS','nT']]\n",
    "max_eig = np.zeros((len(weights_files),nlight,nsize,ncontrast))\n",
    "min_eig = np.zeros((len(weights_files),nlight,nsize,ncontrast))\n",
    "vs = np.zeros((len(weights_files),nlight,nsize,ncontrast,2,2))\n",
    "for iwt,mdl in enumerate(mdls[:nwt]):\n",
    "    print('model #%d'%iwt)\n",
    "    this_fprime = mdl.fprimeY(np.nanmean(YY_opto_medium[iwt],2))\n",
    "    Wmy = getattr(mdls[iwt],'Wmy')\n",
    "    for ilight in range(nlight):\n",
    "        Weff = np.zeros((nsize,ncontrast,2,2))\n",
    "        for istim in range(nN):\n",
    "            iistim,jjstim = np.unravel_index(istim,(nsize,ncontrast))\n",
    "            these_phis = this_fprime[ilight,istim]\n",
    "            Phi = np.diag(these_phis)\n",
    "            Weff[iistim,jjstim] = Wmy[[0,3]][:,[0,3]] @ Phi[[0,3]][:,[0,3]]\n",
    "        for istim in range(nN):\n",
    "            iistim,jjstim = np.unravel_index(istim,(nsize,ncontrast))\n",
    "    #         plt.subplot(nsize,ncontrast,istim+1)\n",
    "    #         plt.imshow(Weff[iistim,jjstim],vmin=Weff.min(),vmax=Weff.max())\n",
    "            w,v = np.linalg.eig(Weff[iistim,jjstim].T)\n",
    "            vs[iwt,ilight,iistim,jjstim] = v[:,np.argsort(w)]\n",
    "            max_eig[iwt,ilight,iistim,jjstim] = np.max(w)\n",
    "            min_eig[iwt,ilight,iistim,jjstim] = np.min(w)"
   ]
  },
  {
   "cell_type": "code",
   "execution_count": 59,
   "metadata": {},
   "outputs": [
    {
     "ename": "NameError",
     "evalue": "name 'max_eig' is not defined",
     "output_type": "error",
     "traceback": [
      "\u001b[0;31m---------------------------------------------------------------------------\u001b[0m",
      "\u001b[0;31mNameError\u001b[0m                                 Traceback (most recent call last)",
      "\u001b[0;32m<ipython-input-59-9f03d30ec0e7>\u001b[0m in \u001b[0;36m<module>\u001b[0;34m\u001b[0m\n\u001b[1;32m      4\u001b[0m \u001b[0;32mfor\u001b[0m \u001b[0misize\u001b[0m \u001b[0;32min\u001b[0m \u001b[0mrange\u001b[0m\u001b[0;34m(\u001b[0m\u001b[0;36m3\u001b[0m\u001b[0;34m)\u001b[0m\u001b[0;34m:\u001b[0m\u001b[0;34m\u001b[0m\u001b[0;34m\u001b[0m\u001b[0m\n\u001b[1;32m      5\u001b[0m     \u001b[0mplt\u001b[0m\u001b[0;34m.\u001b[0m\u001b[0msubplot\u001b[0m\u001b[0;34m(\u001b[0m\u001b[0;36m1\u001b[0m\u001b[0;34m,\u001b[0m\u001b[0;36m3\u001b[0m\u001b[0;34m,\u001b[0m\u001b[0misize\u001b[0m\u001b[0;34m+\u001b[0m\u001b[0;36m1\u001b[0m\u001b[0;34m)\u001b[0m\u001b[0;34m\u001b[0m\u001b[0;34m\u001b[0m\u001b[0m\n\u001b[0;32m----> 6\u001b[0;31m     \u001b[0mplt\u001b[0m\u001b[0;34m.\u001b[0m\u001b[0mplot\u001b[0m\u001b[0;34m(\u001b[0m\u001b[0musize\u001b[0m\u001b[0;34m,\u001b[0m\u001b[0mnp\u001b[0m\u001b[0;34m.\u001b[0m\u001b[0mnanmean\u001b[0m\u001b[0;34m(\u001b[0m\u001b[0mmax_eig\u001b[0m\u001b[0;34m[\u001b[0m\u001b[0;34m:\u001b[0m\u001b[0;34m,\u001b[0m\u001b[0;36m1\u001b[0m\u001b[0;34m+\u001b[0m\u001b[0;36m4\u001b[0m\u001b[0;34m*\u001b[0m\u001b[0misize\u001b[0m\u001b[0;34m]\u001b[0m\u001b[0;34m[\u001b[0m\u001b[0;34m:\u001b[0m\u001b[0;34m,\u001b[0m\u001b[0;34m:\u001b[0m\u001b[0;34m,\u001b[0m\u001b[0;34m[\u001b[0m\u001b[0;36m1\u001b[0m\u001b[0;34m,\u001b[0m\u001b[0;36m3\u001b[0m\u001b[0;34m,\u001b[0m\u001b[0;36m5\u001b[0m\u001b[0;34m]\u001b[0m\u001b[0;34m]\u001b[0m\u001b[0;34m,\u001b[0m\u001b[0;36m0\u001b[0m\u001b[0;34m)\u001b[0m\u001b[0;34m)\u001b[0m\u001b[0;34m\u001b[0m\u001b[0;34m\u001b[0m\u001b[0m\n\u001b[0m\u001b[1;32m      7\u001b[0m     \u001b[0mplt\u001b[0m\u001b[0;34m.\u001b[0m\u001b[0mylim\u001b[0m\u001b[0;34m(\u001b[0m\u001b[0;34m(\u001b[0m\u001b[0mmax_eig\u001b[0m\u001b[0;34m[\u001b[0m\u001b[0miwt\u001b[0m\u001b[0;34m]\u001b[0m\u001b[0;34m.\u001b[0m\u001b[0mmin\u001b[0m\u001b[0;34m(\u001b[0m\u001b[0;34m)\u001b[0m\u001b[0;34m,\u001b[0m\u001b[0mmax_eig\u001b[0m\u001b[0;34m[\u001b[0m\u001b[0miwt\u001b[0m\u001b[0;34m]\u001b[0m\u001b[0;34m.\u001b[0m\u001b[0mmax\u001b[0m\u001b[0;34m(\u001b[0m\u001b[0;34m)\u001b[0m\u001b[0;34m)\u001b[0m\u001b[0;34m)\u001b[0m\u001b[0;34m\u001b[0m\u001b[0;34m\u001b[0m\u001b[0m\n",
      "\u001b[0;31mNameError\u001b[0m: name 'max_eig' is not defined"
     ]
    },
    {
     "data": {
      "image/png": "[encoded data removed]",
      "text/plain": [
       "<Figure size 540x180 with 1 Axes>"
      ]
     },
     "metadata": {
      "needs_background": "light"
     },
     "output_type": "display_data"
    }
   ],
   "source": [
    "iwt = 0\n",
    "usize = np.array([5,8,13,22,36,60])\n",
    "plt.figure(figsize=(7.5,2.5))\n",
    "for isize in range(3):\n",
    "    plt.subplot(1,3,isize+1)\n",
    "    plt.plot(usize,np.nanmean(max_eig[:,1+4*isize][:,:,[1,3,5]],0))\n",
    "    plt.ylim((max_eig[iwt].min(),max_eig[iwt].max()))"
   ]
  },
  {
   "cell_type": "code",
   "execution_count": null,
   "metadata": {},
   "outputs": [],
   "source": [
    "plt.figure(figsize=(7.5,2.5))\n",
    "usize = [5,8,13,22,36,60]\n",
    "c_l23 = np.array(((0.5,0.5,0.5),(0.25,0.25,0.25),(0.,0.,0.)))\n",
    "for iilight,ilight in enumerate([5,3,7]):\n",
    "    plt.subplot(1,3,iilight+1)\n",
    "    ut.plot_bootstrapped_errorbars_hillel(usize,max_eig[:,ilight][:,:,[1,3,5]].transpose((0,2,1)),pct=(2.5,97.5),colors=c_l23)\n",
    "    plt.axhline(1,linestyle='dashed',c='k')\n",
    "    plt.xlabel('size ($^o$)')\n",
    "    # plt.legend(['6%','25%','100%'])\n",
    "    plt.gca().spines['right'].set_visible(False)\n",
    "    plt.gca().spines['top'].set_visible(False)\n",
    "#     plt.ylim((0.4,1.3))\n",
    "plt.subplot(1,3,1)\n",
    "plt.ylabel('max. PC-PV eigenvalue')\n",
    "\n",
    "plt.tight_layout()\n",
    "# plt.savefig('figures/pc_pv_stability_size_by_3_contrasts_by_vip_opto.eps')"
   ]
  },
  {
   "cell_type": "code",
   "execution_count": null,
   "metadata": {},
   "outputs": [],
   "source": [
    "plt.figure(figsize=(2.5,2.5))\n",
    "isize = 3\n",
    "ilight = 5\n",
    "datas = [couplings[:,ilight,isize,:,1,0],couplings[:,ilight,isize,:,3,0]]\n",
    "colors = [np.array((1,0.65,0)),np.array((0,0,1))]\n",
    "for data,color in zip(datas,colors):\n",
    "    mx = np.max(np.abs(data),axis=1)[:,np.newaxis]\n",
    "    ut.plot_bootstrapped_errorbars_hillel(ucontrast,(data/mx)[:,np.newaxis],pct=(2.5,97.5),colors=color[np.newaxis])\n",
    "plt.legend([r'SST$\\rightarrow$PC',r'PV$\\rightarrow$PC'])\n",
    "for data,color in zip(datas,colors):\n",
    "    mx = np.max(np.abs(data),axis=1)[:,np.newaxis]\n",
    "    plt.plot(ucontrast,(data/mx).T,alpha=0.1,c=color)\n",
    "plt.xlabel('contrast (%)')\n",
    "plt.ylabel('norm. coupling strength')\n",
    "plt.title('%d$^o$ size'%usize[isize])\n",
    "plt.axhline(0,linestyle='dashed',c='k')\n",
    "ut.erase_top_right()\n",
    "plt.tight_layout()\n",
    "# plt.savefig('figures/sst_pc_coupling_traces.jpg',dpi=300)"
   ]
  },
  {
   "cell_type": "code",
   "execution_count": 60,
   "metadata": {},
   "outputs": [
    {
     "ename": "NameError",
     "evalue": "name 'max_eig' is not defined",
     "output_type": "error",
     "traceback": [
      "\u001b[0;31m---------------------------------------------------------------------------\u001b[0m",
      "\u001b[0;31mNameError\u001b[0m                                 Traceback (most recent call last)",
      "\u001b[0;32m<ipython-input-60-3bd2986fb5d9>\u001b[0m in \u001b[0;36m<module>\u001b[0;34m\u001b[0m\n\u001b[0;32m----> 1\u001b[0;31m \u001b[0mmax_eig\u001b[0m\u001b[0;34m[\u001b[0m\u001b[0;34m:\u001b[0m\u001b[0;34m,\u001b[0m\u001b[0;36m3\u001b[0m\u001b[0;34m+\u001b[0m\u001b[0;36m2\u001b[0m\u001b[0;34m*\u001b[0m\u001b[0misize\u001b[0m\u001b[0;34m,\u001b[0m\u001b[0;34m:\u001b[0m\u001b[0;34m,\u001b[0m\u001b[0;34m[\u001b[0m\u001b[0;36m1\u001b[0m\u001b[0;34m,\u001b[0m\u001b[0;36m3\u001b[0m\u001b[0;34m,\u001b[0m\u001b[0;36m5\u001b[0m\u001b[0;34m]\u001b[0m\u001b[0;34m]\u001b[0m\u001b[0;34m.\u001b[0m\u001b[0mshape\u001b[0m\u001b[0;34m\u001b[0m\u001b[0;34m\u001b[0m\u001b[0m\n\u001b[0m",
      "\u001b[0;31mNameError\u001b[0m: name 'max_eig' is not defined"
     ]
    }
   ],
   "source": [
    "max_eig[:,3+2*isize,:,[1,3,5]].shape"
   ]
  },
  {
   "cell_type": "code",
   "execution_count": 61,
   "metadata": {},
   "outputs": [
    {
     "ename": "NameError",
     "evalue": "name 'nP' is not defined",
     "output_type": "error",
     "traceback": [
      "\u001b[0;31m---------------------------------------------------------------------------\u001b[0m",
      "\u001b[0;31mNameError\u001b[0m                                 Traceback (most recent call last)",
      "\u001b[0;32m<ipython-input-61-cc494fff75da>\u001b[0m in \u001b[0;36m<module>\u001b[0;34m\u001b[0m\n\u001b[0;32m----> 1\u001b[0;31m \u001b[0;32mfor\u001b[0m \u001b[0mitype1\u001b[0m \u001b[0;32min\u001b[0m \u001b[0mrange\u001b[0m\u001b[0;34m(\u001b[0m\u001b[0mnP\u001b[0m\u001b[0;34m)\u001b[0m\u001b[0;34m:\u001b[0m\u001b[0;34m\u001b[0m\u001b[0;34m\u001b[0m\u001b[0m\n\u001b[0m\u001b[1;32m      2\u001b[0m     \u001b[0;32mfor\u001b[0m \u001b[0mitype2\u001b[0m \u001b[0;32min\u001b[0m \u001b[0mrange\u001b[0m\u001b[0;34m(\u001b[0m\u001b[0mnQ\u001b[0m\u001b[0;34m)\u001b[0m\u001b[0;34m:\u001b[0m\u001b[0;34m\u001b[0m\u001b[0;34m\u001b[0m\u001b[0m\n\u001b[1;32m      3\u001b[0m         \u001b[0mplt\u001b[0m\u001b[0;34m.\u001b[0m\u001b[0mfigure\u001b[0m\u001b[0;34m(\u001b[0m\u001b[0;34m)\u001b[0m\u001b[0;34m\u001b[0m\u001b[0;34m\u001b[0m\u001b[0m\n\u001b[1;32m      4\u001b[0m         \u001b[0mdata\u001b[0m \u001b[0;34m=\u001b[0m \u001b[0mnp\u001b[0m\u001b[0;34m.\u001b[0m\u001b[0mnanmedian\u001b[0m\u001b[0;34m(\u001b[0m\u001b[0mXcouplings\u001b[0m\u001b[0;34m[\u001b[0m\u001b[0;34m:\u001b[0m\u001b[0;34m,\u001b[0m\u001b[0;34m:\u001b[0m\u001b[0;34m,\u001b[0m\u001b[0;34m:\u001b[0m\u001b[0;34m,\u001b[0m\u001b[0;34m:\u001b[0m\u001b[0;34m,\u001b[0m\u001b[0;36m4\u001b[0m\u001b[0;34m+\u001b[0m\u001b[0mitype1\u001b[0m\u001b[0;34m,\u001b[0m\u001b[0mitype2\u001b[0m\u001b[0;34m]\u001b[0m\u001b[0;34m,\u001b[0m\u001b[0;36m0\u001b[0m\u001b[0;34m)\u001b[0m\u001b[0;34m\u001b[0m\u001b[0;34m\u001b[0m\u001b[0m\n\u001b[1;32m      5\u001b[0m         \u001b[0mmx\u001b[0m \u001b[0;34m=\u001b[0m \u001b[0mnp\u001b[0m\u001b[0;34m.\u001b[0m\u001b[0mmax\u001b[0m\u001b[0;34m(\u001b[0m\u001b[0mnp\u001b[0m\u001b[0;34m.\u001b[0m\u001b[0mabs\u001b[0m\u001b[0;34m(\u001b[0m\u001b[0mdata\u001b[0m\u001b[0;34m)\u001b[0m\u001b[0;34m)\u001b[0m\u001b[0;34m\u001b[0m\u001b[0;34m\u001b[0m\u001b[0m\n",
      "\u001b[0;31mNameError\u001b[0m: name 'nP' is not defined"
     ]
    }
   ],
   "source": [
    "for itype1 in range(nP):\n",
    "    for itype2 in range(nQ):\n",
    "        plt.figure()\n",
    "        data = np.nanmedian(Xcouplings[:,:,:,:,4+itype1,itype2],0)\n",
    "        mx = np.max(np.abs(data))\n",
    "        for ilight in range(3):\n",
    "            plt.subplot(1,3,ilight+1)\n",
    "            this_data = data[5*ilight]\n",
    "            plt.imshow(this_data,vmin=-mx,vmax=mx,cmap='bwr')\n",
    "        plt.subplot(1,3,2)\n",
    "        plt.title('far %s->%s'%(lbls[itype1],lbls[itype2]))"
   ]
  },
  {
   "cell_type": "code",
   "execution_count": 62,
   "metadata": {},
   "outputs": [
    {
     "ename": "NameError",
     "evalue": "name 'couplings' is not defined",
     "output_type": "error",
     "traceback": [
      "\u001b[0;31m---------------------------------------------------------------------------\u001b[0m",
      "\u001b[0;31mNameError\u001b[0m                                 Traceback (most recent call last)",
      "\u001b[0;32m<ipython-input-62-4a277dbab041>\u001b[0m in \u001b[0;36m<module>\u001b[0;34m\u001b[0m\n\u001b[1;32m      1\u001b[0m \u001b[0mplt\u001b[0m\u001b[0;34m.\u001b[0m\u001b[0mfigure\u001b[0m\u001b[0;34m(\u001b[0m\u001b[0;34m)\u001b[0m\u001b[0;34m\u001b[0m\u001b[0;34m\u001b[0m\u001b[0m\n\u001b[0;32m----> 2\u001b[0;31m \u001b[0mmx\u001b[0m \u001b[0;34m=\u001b[0m \u001b[0mnp\u001b[0m\u001b[0;34m.\u001b[0m\u001b[0mmax\u001b[0m\u001b[0;34m(\u001b[0m\u001b[0mnp\u001b[0m\u001b[0;34m.\u001b[0m\u001b[0mabs\u001b[0m\u001b[0;34m(\u001b[0m\u001b[0mcouplings\u001b[0m\u001b[0;34m[\u001b[0m\u001b[0;34m:\u001b[0m\u001b[0;34m,\u001b[0m\u001b[0;36m10\u001b[0m\u001b[0;34m,\u001b[0m\u001b[0;34m:\u001b[0m\u001b[0;34m,\u001b[0m\u001b[0;34m:\u001b[0m\u001b[0;34m,\u001b[0m\u001b[0;36m1\u001b[0m\u001b[0;34m,\u001b[0m\u001b[0;36m1\u001b[0m\u001b[0;34m]\u001b[0m\u001b[0;34m)\u001b[0m\u001b[0;34m)\u001b[0m\u001b[0;34m\u001b[0m\u001b[0;34m\u001b[0m\u001b[0m\n\u001b[0m\u001b[1;32m      3\u001b[0m \u001b[0;32mfor\u001b[0m \u001b[0miwt\u001b[0m \u001b[0;32min\u001b[0m \u001b[0mrange\u001b[0m\u001b[0;34m(\u001b[0m\u001b[0mnwt\u001b[0m\u001b[0;34m)\u001b[0m\u001b[0;34m:\u001b[0m\u001b[0;34m\u001b[0m\u001b[0;34m\u001b[0m\u001b[0m\n\u001b[1;32m      4\u001b[0m     \u001b[0mplt\u001b[0m\u001b[0;34m.\u001b[0m\u001b[0msubplot\u001b[0m\u001b[0;34m(\u001b[0m\u001b[0;36m10\u001b[0m\u001b[0;34m,\u001b[0m\u001b[0;36m10\u001b[0m\u001b[0;34m,\u001b[0m\u001b[0miwt\u001b[0m\u001b[0;34m+\u001b[0m\u001b[0;36m1\u001b[0m\u001b[0;34m)\u001b[0m\u001b[0;34m\u001b[0m\u001b[0;34m\u001b[0m\u001b[0m\n\u001b[1;32m      5\u001b[0m     \u001b[0mplt\u001b[0m\u001b[0;34m.\u001b[0m\u001b[0mimshow\u001b[0m\u001b[0;34m(\u001b[0m\u001b[0mcouplings\u001b[0m\u001b[0;34m[\u001b[0m\u001b[0miwt\u001b[0m\u001b[0;34m,\u001b[0m\u001b[0;36m10\u001b[0m\u001b[0;34m,\u001b[0m\u001b[0;34m:\u001b[0m\u001b[0;34m,\u001b[0m\u001b[0;34m:\u001b[0m\u001b[0;34m,\u001b[0m\u001b[0;36m1\u001b[0m\u001b[0;34m,\u001b[0m\u001b[0;36m1\u001b[0m\u001b[0;34m]\u001b[0m\u001b[0;34m,\u001b[0m\u001b[0mvmin\u001b[0m\u001b[0;34m=\u001b[0m\u001b[0;34m-\u001b[0m\u001b[0mmx\u001b[0m\u001b[0;34m,\u001b[0m\u001b[0mvmax\u001b[0m\u001b[0;34m=\u001b[0m\u001b[0mmx\u001b[0m\u001b[0;34m,\u001b[0m\u001b[0mcmap\u001b[0m\u001b[0;34m=\u001b[0m\u001b[0;34m'bwr'\u001b[0m\u001b[0;34m)\u001b[0m\u001b[0;34m\u001b[0m\u001b[0;34m\u001b[0m\u001b[0m\n",
      "\u001b[0;31mNameError\u001b[0m: name 'couplings' is not defined"
     ]
    },
    {
     "data": {
      "text/plain": [
       "<Figure size 432x288 with 0 Axes>"
      ]
     },
     "metadata": {},
     "output_type": "display_data"
    }
   ],
   "source": [
    "plt.figure()\n",
    "mx = np.max(np.abs(couplings[:,10,:,:,1,1]))\n",
    "for iwt in range(nwt):\n",
    "    plt.subplot(10,10,iwt+1)\n",
    "    plt.imshow(couplings[iwt,10,:,:,1,1],vmin=-mx,vmax=mx,cmap='bwr')\n",
    "#     plt.axis('off')\n",
    "cp = couplings.reshape((nwt,-1))\n",
    "lkat = np.ones((nwt,),dtype='bool')\n",
    "# lkat = np.max(np.abs(cp),axis=1)<50"
   ]
  },
  {
   "cell_type": "code",
   "execution_count": 63,
   "metadata": {},
   "outputs": [
    {
     "ename": "NameError",
     "evalue": "name 'couplings' is not defined",
     "output_type": "error",
     "traceback": [
      "\u001b[0;31m---------------------------------------------------------------------------\u001b[0m",
      "\u001b[0;31mNameError\u001b[0m                                 Traceback (most recent call last)",
      "\u001b[0;32m<ipython-input-63-2fb2fe14ab59>\u001b[0m in \u001b[0;36m<module>\u001b[0;34m\u001b[0m\n\u001b[1;32m      4\u001b[0m \u001b[0;32mfor\u001b[0m \u001b[0milight\u001b[0m \u001b[0;32min\u001b[0m \u001b[0mrange\u001b[0m\u001b[0;34m(\u001b[0m\u001b[0;36m3\u001b[0m\u001b[0;34m)\u001b[0m\u001b[0;34m:\u001b[0m\u001b[0;34m\u001b[0m\u001b[0;34m\u001b[0m\u001b[0m\n\u001b[1;32m      5\u001b[0m     \u001b[0mplt\u001b[0m\u001b[0;34m.\u001b[0m\u001b[0msubplot\u001b[0m\u001b[0;34m(\u001b[0m\u001b[0;36m1\u001b[0m\u001b[0;34m,\u001b[0m\u001b[0;36m3\u001b[0m\u001b[0;34m,\u001b[0m\u001b[0milight\u001b[0m\u001b[0;34m+\u001b[0m\u001b[0;36m1\u001b[0m\u001b[0;34m)\u001b[0m\u001b[0;34m\u001b[0m\u001b[0;34m\u001b[0m\u001b[0m\n\u001b[0;32m----> 6\u001b[0;31m     \u001b[0mut\u001b[0m\u001b[0;34m.\u001b[0m\u001b[0mplot_bootstrapped_errorbars_hillel\u001b[0m\u001b[0;34m(\u001b[0m\u001b[0musize\u001b[0m\u001b[0;34m,\u001b[0m\u001b[0mcouplings\u001b[0m\u001b[0;34m[\u001b[0m\u001b[0;34m:\u001b[0m\u001b[0;34m,\u001b[0m\u001b[0;36m1\u001b[0m\u001b[0;34m+\u001b[0m\u001b[0;36m4\u001b[0m\u001b[0;34m*\u001b[0m\u001b[0milight\u001b[0m\u001b[0;34m,\u001b[0m\u001b[0;34m:\u001b[0m\u001b[0;34m,\u001b[0m\u001b[0;34m:\u001b[0m\u001b[0;34m,\u001b[0m\u001b[0;36m1\u001b[0m\u001b[0;34m,\u001b[0m\u001b[0;36m1\u001b[0m\u001b[0;34m]\u001b[0m\u001b[0;34m[\u001b[0m\u001b[0;34m:\u001b[0m\u001b[0;34m,\u001b[0m\u001b[0;34m:\u001b[0m\u001b[0;34m,\u001b[0m\u001b[0;34m[\u001b[0m\u001b[0;36m1\u001b[0m\u001b[0;34m,\u001b[0m\u001b[0;36m3\u001b[0m\u001b[0;34m,\u001b[0m\u001b[0;36m5\u001b[0m\u001b[0;34m]\u001b[0m\u001b[0;34m]\u001b[0m\u001b[0;34m.\u001b[0m\u001b[0mtranspose\u001b[0m\u001b[0;34m(\u001b[0m\u001b[0;34m(\u001b[0m\u001b[0;36m0\u001b[0m\u001b[0;34m,\u001b[0m\u001b[0;36m2\u001b[0m\u001b[0;34m,\u001b[0m\u001b[0;36m1\u001b[0m\u001b[0;34m)\u001b[0m\u001b[0;34m)\u001b[0m\u001b[0;34m,\u001b[0m\u001b[0mpct\u001b[0m\u001b[0;34m=\u001b[0m\u001b[0;34m(\u001b[0m\u001b[0;36m2.5\u001b[0m\u001b[0;34m,\u001b[0m\u001b[0;36m97.5\u001b[0m\u001b[0;34m)\u001b[0m\u001b[0;34m,\u001b[0m\u001b[0mcolors\u001b[0m\u001b[0;34m=\u001b[0m\u001b[0mc_sst\u001b[0m\u001b[0;34m)\u001b[0m\u001b[0;34m\u001b[0m\u001b[0;34m\u001b[0m\u001b[0m\n\u001b[0m\u001b[1;32m      7\u001b[0m     \u001b[0mplt\u001b[0m\u001b[0;34m.\u001b[0m\u001b[0maxhline\u001b[0m\u001b[0;34m(\u001b[0m\u001b[0;36m0\u001b[0m\u001b[0;34m,\u001b[0m\u001b[0mlinestyle\u001b[0m\u001b[0;34m=\u001b[0m\u001b[0;34m'dashed'\u001b[0m\u001b[0;34m,\u001b[0m\u001b[0mc\u001b[0m\u001b[0;34m=\u001b[0m\u001b[0;34m'k'\u001b[0m\u001b[0;34m)\u001b[0m\u001b[0;34m\u001b[0m\u001b[0;34m\u001b[0m\u001b[0m\n\u001b[1;32m      8\u001b[0m     \u001b[0mplt\u001b[0m\u001b[0;34m.\u001b[0m\u001b[0mxlabel\u001b[0m\u001b[0;34m(\u001b[0m\u001b[0;34m'size ($^o$)'\u001b[0m\u001b[0;34m)\u001b[0m\u001b[0;34m\u001b[0m\u001b[0;34m\u001b[0m\u001b[0m\n",
      "\u001b[0;31mNameError\u001b[0m: name 'couplings' is not defined"
     ]
    },
    {
     "data": {
      "image/png": "[encoded data removed]",
      "text/plain": [
       "<Figure size 540x180 with 1 Axes>"
      ]
     },
     "metadata": {
      "needs_background": "light"
     },
     "output_type": "display_data"
    }
   ],
   "source": [
    "plt.figure(figsize=(7.5,2.5))\n",
    "usize = [5,8,13,22,36,60]\n",
    "c_sst = np.array(((0.3,0.2,0),(0.6,0.4,0),(1,0.65,0)))\n",
    "for ilight in range(3):\n",
    "    plt.subplot(1,3,ilight+1)\n",
    "    ut.plot_bootstrapped_errorbars_hillel(usize,couplings[:,1+4*ilight,:,:,1,1][:,:,[1,3,5]].transpose((0,2,1)),pct=(2.5,97.5),colors=c_sst)\n",
    "    plt.axhline(0,linestyle='dashed',c='k')\n",
    "    plt.xlabel('size ($^o$)')\n",
    "    plt.ylabel('SST-SST coupling')\n",
    "    plt.legend(['6%','25%','100%'])\n",
    "    plt.tight_layout()\n",
    "# plt.savefig('figures/sst_sst_coupling_size_by_3_contrasts_by_3_light_levels.eps')"
   ]
  },
  {
   "cell_type": "code",
   "execution_count": null,
   "metadata": {},
   "outputs": [],
   "source": [
    "plt.figure(figsize=(7.5,2.5))\n",
    "usize = [5,8,13,22,36,60]\n",
    "c_sst = np.array(((0.3,0.2,0),(0.6,0.4,0),(1,0.65,0)))\n",
    "for ilight in range(3):\n",
    "    plt.subplot(1,3,ilight+1)\n",
    "    ut.plot_bootstrapped_errorbars_hillel(usize,couplings[lkat,3+2*ilight,:,:,2,2][:,:,[1,3,5]].transpose((0,2,1)),pct=(2.5,97.5),colors=c_vip)\n",
    "    plt.axhline(0,linestyle='dashed',c='k')\n",
    "    plt.xlabel('size ($^o$)')\n",
    "    plt.ylabel('VIP-VIP coupling')\n",
    "    plt.legend(['6%','25%','100%'])\n",
    "    plt.tight_layout()\n",
    "# plt.savefig('figures/vip_sst_coupling_size_by_3_contrasts_by_3_light_levels.eps')"
   ]
  },
  {
   "cell_type": "code",
   "execution_count": null,
   "metadata": {},
   "outputs": [],
   "source": [
    "plt.figure(figsize=(7.5,2.5))\n",
    "usize = [5,8,13,22,36,60]\n",
    "c_sst = np.array(((0.3,0.2,0),(0.6,0.4,0),(1,0.65,0)))\n",
    "for ilight in range(3):\n",
    "    plt.subplot(1,3,ilight+1)\n",
    "    ut.plot_bootstrapped_errorbars_hillel(usize,couplings[lkat,1+4*ilight,:,:,2,1][:,:,[1,3,5]].transpose((0,2,1)),pct=(2.5,97.5),colors=c_vip)\n",
    "    plt.axhline(0,linestyle='dashed',c='k')\n",
    "    plt.xlabel('size ($^o$)')\n",
    "    plt.ylabel('VIP-SST coupling')\n",
    "    plt.legend(['6%','25%','100%'])\n",
    "    plt.tight_layout()\n",
    "# plt.savefig('figures/vip_sst_coupling_size_by_3_contrasts_by_3_light_levels.eps')"
   ]
  },
  {
   "cell_type": "code",
   "execution_count": 64,
   "metadata": {},
   "outputs": [
    {
     "ename": "NameError",
     "evalue": "name 'couplings' is not defined",
     "output_type": "error",
     "traceback": [
      "\u001b[0;31m---------------------------------------------------------------------------\u001b[0m",
      "\u001b[0;31mNameError\u001b[0m                                 Traceback (most recent call last)",
      "\u001b[0;32m<ipython-input-64-f13fda84eb30>\u001b[0m in \u001b[0;36m<module>\u001b[0;34m\u001b[0m\n\u001b[1;32m      5\u001b[0m \u001b[0;32mfor\u001b[0m \u001b[0miilight\u001b[0m\u001b[0;34m,\u001b[0m\u001b[0milight\u001b[0m \u001b[0;32min\u001b[0m \u001b[0menumerate\u001b[0m\u001b[0;34m(\u001b[0m\u001b[0;34m[\u001b[0m\u001b[0;36m5\u001b[0m\u001b[0;34m,\u001b[0m\u001b[0;36m1\u001b[0m\u001b[0;34m,\u001b[0m\u001b[0;36m9\u001b[0m\u001b[0;34m]\u001b[0m\u001b[0;34m)\u001b[0m\u001b[0;34m:\u001b[0m\u001b[0;34m\u001b[0m\u001b[0;34m\u001b[0m\u001b[0m\n\u001b[1;32m      6\u001b[0m     \u001b[0mplt\u001b[0m\u001b[0;34m.\u001b[0m\u001b[0msubplot\u001b[0m\u001b[0;34m(\u001b[0m\u001b[0;36m1\u001b[0m\u001b[0;34m,\u001b[0m\u001b[0;36m3\u001b[0m\u001b[0;34m,\u001b[0m\u001b[0miilight\u001b[0m\u001b[0;34m+\u001b[0m\u001b[0;36m1\u001b[0m\u001b[0;34m)\u001b[0m\u001b[0;34m\u001b[0m\u001b[0;34m\u001b[0m\u001b[0m\n\u001b[0;32m----> 7\u001b[0;31m     \u001b[0mut\u001b[0m\u001b[0;34m.\u001b[0m\u001b[0mplot_pct_errorbars_hillel\u001b[0m\u001b[0;34m(\u001b[0m\u001b[0musize\u001b[0m\u001b[0;34m,\u001b[0m\u001b[0mcouplings\u001b[0m\u001b[0;34m[\u001b[0m\u001b[0;34m:\u001b[0m\u001b[0;34m,\u001b[0m\u001b[0milight\u001b[0m\u001b[0;34m,\u001b[0m\u001b[0;34m:\u001b[0m\u001b[0;34m,\u001b[0m\u001b[0;34m:\u001b[0m\u001b[0;34m,\u001b[0m\u001b[0;36m2\u001b[0m\u001b[0;34m,\u001b[0m\u001b[0;36m0\u001b[0m\u001b[0;34m]\u001b[0m\u001b[0;34m[\u001b[0m\u001b[0;34m:\u001b[0m\u001b[0;34m,\u001b[0m\u001b[0;34m:\u001b[0m\u001b[0;34m,\u001b[0m\u001b[0;34m[\u001b[0m\u001b[0;36m1\u001b[0m\u001b[0;34m,\u001b[0m\u001b[0;36m3\u001b[0m\u001b[0;34m,\u001b[0m\u001b[0;36m5\u001b[0m\u001b[0;34m]\u001b[0m\u001b[0;34m]\u001b[0m\u001b[0;34m.\u001b[0m\u001b[0mtranspose\u001b[0m\u001b[0;34m(\u001b[0m\u001b[0;34m(\u001b[0m\u001b[0;36m0\u001b[0m\u001b[0;34m,\u001b[0m\u001b[0;36m2\u001b[0m\u001b[0;34m,\u001b[0m\u001b[0;36m1\u001b[0m\u001b[0;34m)\u001b[0m\u001b[0;34m)\u001b[0m\u001b[0;34m,\u001b[0m\u001b[0mpct\u001b[0m\u001b[0;34m=\u001b[0m\u001b[0;34m(\u001b[0m\u001b[0;36m16\u001b[0m\u001b[0;34m,\u001b[0m\u001b[0;36m84\u001b[0m\u001b[0;34m)\u001b[0m\u001b[0;34m,\u001b[0m\u001b[0mcolors\u001b[0m\u001b[0;34m=\u001b[0m\u001b[0mc_vip\u001b[0m\u001b[0;34m)\u001b[0m\u001b[0;34m\u001b[0m\u001b[0;34m\u001b[0m\u001b[0m\n\u001b[0m\u001b[1;32m      8\u001b[0m     \u001b[0mplt\u001b[0m\u001b[0;34m.\u001b[0m\u001b[0maxhline\u001b[0m\u001b[0;34m(\u001b[0m\u001b[0;36m0\u001b[0m\u001b[0;34m,\u001b[0m\u001b[0mlinestyle\u001b[0m\u001b[0;34m=\u001b[0m\u001b[0;34m'dashed'\u001b[0m\u001b[0;34m,\u001b[0m\u001b[0mc\u001b[0m\u001b[0;34m=\u001b[0m\u001b[0;34m'k'\u001b[0m\u001b[0;34m)\u001b[0m\u001b[0;34m\u001b[0m\u001b[0;34m\u001b[0m\u001b[0m\n\u001b[1;32m      9\u001b[0m     \u001b[0mplt\u001b[0m\u001b[0;34m.\u001b[0m\u001b[0mxlabel\u001b[0m\u001b[0;34m(\u001b[0m\u001b[0;34m'size ($^o$)'\u001b[0m\u001b[0;34m)\u001b[0m\u001b[0;34m\u001b[0m\u001b[0;34m\u001b[0m\u001b[0m\n",
      "\u001b[0;31mNameError\u001b[0m: name 'couplings' is not defined"
     ]
    },
    {
     "data": {
      "image/png": "[encoded data removed]",
      "text/plain": [
       "<Figure size 540x180 with 1 Axes>"
      ]
     },
     "metadata": {
      "needs_background": "light"
     },
     "output_type": "display_data"
    }
   ],
   "source": [
    "reload(ut)\n",
    "plt.figure(figsize=(7.5,2.5))\n",
    "usize = [5,8,13,22,36,60]\n",
    "c_sst = np.array(((0.3,0.2,0),(0.6,0.4,0),(1,0.65,0)))\n",
    "for iilight,ilight in enumerate([5,1,9]):\n",
    "    plt.subplot(1,3,iilight+1)\n",
    "    ut.plot_pct_errorbars_hillel(usize,couplings[:,ilight,:,:,2,0][:,:,[1,3,5]].transpose((0,2,1)),pct=(16,84),colors=c_vip)\n",
    "    plt.axhline(0,linestyle='dashed',c='k')\n",
    "    plt.xlabel('size ($^o$)')\n",
    "    plt.ylabel('VIP-PC coupling')\n",
    "    plt.legend(['6%','25%','100%'])\n",
    "    ut.erase_top_right()\n",
    "    plt.tight_layout()\n",
    "    plt.ylim(-0.05,0.5)\n",
    "# plt.savefig('figures/vip_pc_coupling_size_by_3_contrasts_by_3_light_levels.eps')"
   ]
  },
  {
   "cell_type": "code",
   "execution_count": null,
   "metadata": {},
   "outputs": [],
   "source": [
    "reload(ut)\n",
    "plt.figure(figsize=(7.5,2.5))\n",
    "usize = [5,8,13,22,36,60]\n",
    "c_sst = np.array(((0.3,0.2,0),(0.6,0.4,0),(1,0.65,0)))\n",
    "for iilight,ilight in enumerate([5,1,9]):\n",
    "    plt.subplot(1,3,iilight+1)\n",
    "    ut.plot_pct_errorbars_hillel(usize,couplings[:,ilight,:,:,8,0][:,:,[1,3,5]].transpose((0,2,1)),pct=(16,84),colors=c_l23)\n",
    "    plt.axhline(0,linestyle='dashed',c='k')\n",
    "    plt.xlabel('size ($^o$)')\n",
    "    plt.ylabel('VIP-PC coupling')\n",
    "#     plt.legend(['6%','25%','100%'])\n",
    "    ut.erase_top_right()\n",
    "    plt.tight_layout()\n",
    "    plt.ylim(-7.5,1)\n",
    "# plt.savefig('figures/vip_pc_coupling_size_by_3_contrasts_by_3_light_levels.eps')"
   ]
  },
  {
   "cell_type": "code",
   "execution_count": null,
   "metadata": {},
   "outputs": [],
   "source": [
    "sc = YY_opto_small.reshape(YY_opto_small.shape[:2]+(6,6,-1))"
   ]
  },
  {
   "cell_type": "code",
   "execution_count": null,
   "metadata": {},
   "outputs": [],
   "source": [
    "smi = sc[:,:,-1,1:,0]/np.max(sc[:,:,:,1:,0],axis=2)"
   ]
  },
  {
   "cell_type": "code",
   "execution_count": null,
   "metadata": {},
   "outputs": [],
   "source": [
    "plt.figure()\n",
    "for ilight in [5,1,9]:\n",
    "    plt.plot(np.nanmean(smi[:,ilight,:],0))"
   ]
  },
  {
   "cell_type": "code",
   "execution_count": 65,
   "metadata": {},
   "outputs": [
    {
     "ename": "NameError",
     "evalue": "name 'YY_opto_small' is not defined",
     "output_type": "error",
     "traceback": [
      "\u001b[0;31m---------------------------------------------------------------------------\u001b[0m",
      "\u001b[0;31mNameError\u001b[0m                                 Traceback (most recent call last)",
      "\u001b[0;32m<ipython-input-65-9e4baa6571e0>\u001b[0m in \u001b[0;36m<module>\u001b[0;34m\u001b[0m\n\u001b[1;32m      4\u001b[0m \u001b[0;32mfor\u001b[0m \u001b[0miilight\u001b[0m\u001b[0;34m,\u001b[0m\u001b[0milight\u001b[0m \u001b[0;32min\u001b[0m \u001b[0menumerate\u001b[0m\u001b[0;34m(\u001b[0m\u001b[0;34m[\u001b[0m\u001b[0;36m5\u001b[0m\u001b[0;34m,\u001b[0m\u001b[0;36m1\u001b[0m\u001b[0;34m,\u001b[0m\u001b[0;36m9\u001b[0m\u001b[0;34m]\u001b[0m\u001b[0;34m)\u001b[0m\u001b[0;34m:\u001b[0m\u001b[0;34m\u001b[0m\u001b[0;34m\u001b[0m\u001b[0m\n\u001b[1;32m      5\u001b[0m     \u001b[0mplt\u001b[0m\u001b[0;34m.\u001b[0m\u001b[0msubplot\u001b[0m\u001b[0;34m(\u001b[0m\u001b[0;36m1\u001b[0m\u001b[0;34m,\u001b[0m\u001b[0;36m3\u001b[0m\u001b[0;34m,\u001b[0m\u001b[0miilight\u001b[0m\u001b[0;34m+\u001b[0m\u001b[0;36m1\u001b[0m\u001b[0;34m)\u001b[0m\u001b[0;34m\u001b[0m\u001b[0;34m\u001b[0m\u001b[0m\n\u001b[0;32m----> 6\u001b[0;31m     \u001b[0mut\u001b[0m\u001b[0;34m.\u001b[0m\u001b[0mplot_bootstrapped_errorbars_hillel\u001b[0m\u001b[0;34m(\u001b[0m\u001b[0musize\u001b[0m\u001b[0;34m,\u001b[0m\u001b[0mYY_opto_small\u001b[0m\u001b[0;34m[\u001b[0m\u001b[0;34m:\u001b[0m\u001b[0;34m,\u001b[0m\u001b[0milight\u001b[0m\u001b[0;34m,\u001b[0m\u001b[0;34m:\u001b[0m\u001b[0;34m,\u001b[0m\u001b[0;36m0\u001b[0m\u001b[0;34m]\u001b[0m\u001b[0;34m.\u001b[0m\u001b[0mreshape\u001b[0m\u001b[0;34m(\u001b[0m\u001b[0;34m(\u001b[0m\u001b[0;34m-\u001b[0m\u001b[0;36m1\u001b[0m\u001b[0;34m,\u001b[0m\u001b[0;36m6\u001b[0m\u001b[0;34m,\u001b[0m\u001b[0;36m6\u001b[0m\u001b[0;34m)\u001b[0m\u001b[0;34m)\u001b[0m\u001b[0;34m[\u001b[0m\u001b[0;34m:\u001b[0m\u001b[0;34m,\u001b[0m\u001b[0;34m:\u001b[0m\u001b[0;34m,\u001b[0m\u001b[0;34m[\u001b[0m\u001b[0;36m1\u001b[0m\u001b[0;34m,\u001b[0m\u001b[0;36m3\u001b[0m\u001b[0;34m,\u001b[0m\u001b[0;36m5\u001b[0m\u001b[0;34m]\u001b[0m\u001b[0;34m]\u001b[0m\u001b[0;34m.\u001b[0m\u001b[0mtranspose\u001b[0m\u001b[0;34m(\u001b[0m\u001b[0;34m(\u001b[0m\u001b[0;36m0\u001b[0m\u001b[0;34m,\u001b[0m\u001b[0;36m2\u001b[0m\u001b[0;34m,\u001b[0m\u001b[0;36m1\u001b[0m\u001b[0;34m)\u001b[0m\u001b[0;34m)\u001b[0m\u001b[0;34m,\u001b[0m\u001b[0mpct\u001b[0m\u001b[0;34m=\u001b[0m\u001b[0;34m(\u001b[0m\u001b[0;36m2.5\u001b[0m\u001b[0;34m,\u001b[0m\u001b[0;36m97.5\u001b[0m\u001b[0;34m)\u001b[0m\u001b[0;34m,\u001b[0m\u001b[0mcolors\u001b[0m\u001b[0;34m=\u001b[0m\u001b[0mc_l23\u001b[0m\u001b[0;34m)\u001b[0m\u001b[0;34m\u001b[0m\u001b[0;34m\u001b[0m\u001b[0m\n\u001b[0m\u001b[1;32m      7\u001b[0m \u001b[0;31m#     plt.axhline(0,linestyle='dashed',c='k')\u001b[0m\u001b[0;34m\u001b[0m\u001b[0;34m\u001b[0m\u001b[0;34m\u001b[0m\u001b[0m\n\u001b[1;32m      8\u001b[0m     \u001b[0mplt\u001b[0m\u001b[0;34m.\u001b[0m\u001b[0mxlabel\u001b[0m\u001b[0;34m(\u001b[0m\u001b[0;34m'size ($^o$)'\u001b[0m\u001b[0;34m)\u001b[0m\u001b[0;34m\u001b[0m\u001b[0;34m\u001b[0m\u001b[0m\n",
      "\u001b[0;31mNameError\u001b[0m: name 'YY_opto_small' is not defined"
     ]
    },
    {
     "data": {
      "image/png": "[encoded data removed]",
      "text/plain": [
       "<Figure size 540x180 with 1 Axes>"
      ]
     },
     "metadata": {
      "needs_background": "light"
     },
     "output_type": "display_data"
    }
   ],
   "source": [
    "plt.figure(figsize=(7.5,2.5))\n",
    "usize = [5,8,13,22,36,60]\n",
    "c_sst = np.array(((0.3,0.2,0),(0.6,0.4,0),(1,0.65,0)))\n",
    "for iilight,ilight in enumerate([5,1,9]):\n",
    "    plt.subplot(1,3,iilight+1)\n",
    "    ut.plot_bootstrapped_errorbars_hillel(usize,YY_opto_small[:,ilight,:,0].reshape((-1,6,6))[:,:,[1,3,5]].transpose((0,2,1)),pct=(2.5,97.5),colors=c_l23)\n",
    "#     plt.axhline(0,linestyle='dashed',c='k')\n",
    "    plt.xlabel('size ($^o$)')\n",
    "    plt.ylabel('modeled PC FR (a.u.)')\n",
    "    plt.legend(['6%','25%','100%'])\n",
    "    ut.erase_top_right()\n",
    "    plt.ylim(0.2,1.5)\n",
    "plt.tight_layout()\n",
    "# plt.savefig('figures/modeled_pc_size_by_3_contrasts_by_3_light_levels.eps')"
   ]
  },
  {
   "cell_type": "code",
   "execution_count": null,
   "metadata": {},
   "outputs": [],
   "source": [
    "plt.figure(figsize=(7.5,2.5))\n",
    "usize = [5,8,13,22,36,60]\n",
    "c_sst = np.array(((0.3,0.2,0),(0.6,0.4,0),(1,0.65,0)))\n",
    "for iilight,ilight in enumerate([5,1,9]):\n",
    "    plt.subplot(1,3,iilight+1)\n",
    "    ut.plot_bootstrapped_errorbars_hillel(usize,YY_opto_small[:,ilight,:,2].reshape((-1,6,6))[:,:,[1,3,5]].transpose((0,2,1)),pct=(2.5,97.5),colors=c_vip)\n",
    "#     plt.axhline(0,linestyle='dashed',c='k')\n",
    "    plt.xlabel('size ($^o$)')\n",
    "    plt.ylabel('modeled VIP FR (a.u.)')\n",
    "    plt.legend(['6%','25%','100%'])\n",
    "    ut.erase_top_right()\n",
    "    plt.tight_layout()\n",
    "    plt.ylim(0.,1.8)\n",
    "# plt.savefig('figures/modeled_vip_size_by_3_contrasts_by_3_light_levels.eps')"
   ]
  },
  {
   "cell_type": "code",
   "execution_count": null,
   "metadata": {},
   "outputs": [],
   "source": [
    "plt.figure(figsize=(7.5,2.5))\n",
    "usize = [5,8,13,22,36,60]\n",
    "c_sst = np.array(((0.3,0.2,0),(0.6,0.4,0),(1,0.65,0)))\n",
    "for iilight,ilight in enumerate([5,1,9]):\n",
    "    plt.subplot(1,3,iilight+1)\n",
    "    ut.plot_bootstrapped_errorbars_hillel(usize,phis[:,ilight,:,:,0][:,:,[1,3,5]].transpose((0,2,1)),pct=(2.5,97.5),colors=c_l23)\n",
    "#     plt.axhline(0,linestyle='dashed',c='k')\n",
    "    plt.xlabel('size ($^o$)')\n",
    "    plt.ylabel('modeled PC FR (a.u.)')\n",
    "    plt.legend(['6%','25%','100%'])\n",
    "    plt.tight_layout()\n",
    "    plt.ylim(0.2,1.5)\n",
    "# plt.savefig('figures/modeled_pc_size_by_3_contrasts_by_3_light_levels.eps')"
   ]
  },
  {
   "cell_type": "code",
   "execution_count": 66,
   "metadata": {},
   "outputs": [
    {
     "ename": "NameError",
     "evalue": "name 'phis' is not defined",
     "output_type": "error",
     "traceback": [
      "\u001b[0;31m---------------------------------------------------------------------------\u001b[0m",
      "\u001b[0;31mNameError\u001b[0m                                 Traceback (most recent call last)",
      "\u001b[0;32m<ipython-input-66-fdf833a8701f>\u001b[0m in \u001b[0;36m<module>\u001b[0;34m\u001b[0m\n\u001b[0;32m----> 1\u001b[0;31m \u001b[0mphis\u001b[0m\u001b[0;34m.\u001b[0m\u001b[0mshape\u001b[0m\u001b[0;34m\u001b[0m\u001b[0;34m\u001b[0m\u001b[0m\n\u001b[0m",
      "\u001b[0;31mNameError\u001b[0m: name 'phis' is not defined"
     ]
    }
   ],
   "source": [
    "phis.shape"
   ]
  },
  {
   "cell_type": "code",
   "execution_count": 67,
   "metadata": {},
   "outputs": [
    {
     "ename": "NameError",
     "evalue": "name 'couplings' is not defined",
     "output_type": "error",
     "traceback": [
      "\u001b[0;31m---------------------------------------------------------------------------\u001b[0m",
      "\u001b[0;31mNameError\u001b[0m                                 Traceback (most recent call last)",
      "\u001b[0;32m<ipython-input-67-2a075002907d>\u001b[0m in \u001b[0;36m<module>\u001b[0;34m\u001b[0m\n\u001b[0;32m----> 1\u001b[0;31m \u001b[0mcouplings\u001b[0m\u001b[0;34m.\u001b[0m\u001b[0mshape\u001b[0m\u001b[0;34m\u001b[0m\u001b[0;34m\u001b[0m\u001b[0m\n\u001b[0m",
      "\u001b[0;31mNameError\u001b[0m: name 'couplings' is not defined"
     ]
    }
   ],
   "source": [
    "couplings.shape"
   ]
  },
  {
   "cell_type": "code",
   "execution_count": 68,
   "metadata": {},
   "outputs": [],
   "source": [
    "c_l4 = np.array(((0,0.3,0),(0,0.6,0),(0,1,0)))\n",
    "c_l23 = np.array(((0.5,0.5,0.5),(0.25,0.25,0.25),(0.,0.,0.)))\n",
    "c_sst = np.array(((0.3,0.2,0),(0.6,0.4,0),(1,0.65,0)))\n",
    "c_vip = np.array(((0.3,0,0.3),(0.6,0,0.6),(1,0,1)))\n",
    "c_pv = np.array(((0,0,0.3),(0,0,0.6),(0,0,1)))\n",
    "colors = [c_l4,c_l23,c_sst,c_vip,c_pv]"
   ]
  },
  {
   "cell_type": "code",
   "execution_count": 69,
   "metadata": {},
   "outputs": [
    {
     "ename": "NameError",
     "evalue": "name 'couplings' is not defined",
     "output_type": "error",
     "traceback": [
      "\u001b[0;31m---------------------------------------------------------------------------\u001b[0m",
      "\u001b[0;31mNameError\u001b[0m                                 Traceback (most recent call last)",
      "\u001b[0;32m<ipython-input-69-bd24c4261e0d>\u001b[0m in \u001b[0;36m<module>\u001b[0;34m\u001b[0m\n\u001b[1;32m      4\u001b[0m \u001b[0;32mfor\u001b[0m \u001b[0milight\u001b[0m \u001b[0;32min\u001b[0m \u001b[0mrange\u001b[0m\u001b[0;34m(\u001b[0m\u001b[0;36m3\u001b[0m\u001b[0;34m)\u001b[0m\u001b[0;34m:\u001b[0m\u001b[0;34m\u001b[0m\u001b[0;34m\u001b[0m\u001b[0m\n\u001b[1;32m      5\u001b[0m     \u001b[0mplt\u001b[0m\u001b[0;34m.\u001b[0m\u001b[0msubplot\u001b[0m\u001b[0;34m(\u001b[0m\u001b[0;36m1\u001b[0m\u001b[0;34m,\u001b[0m\u001b[0;36m3\u001b[0m\u001b[0;34m,\u001b[0m\u001b[0milight\u001b[0m\u001b[0;34m+\u001b[0m\u001b[0;36m1\u001b[0m\u001b[0;34m)\u001b[0m\u001b[0;34m\u001b[0m\u001b[0;34m\u001b[0m\u001b[0m\n\u001b[0;32m----> 6\u001b[0;31m     \u001b[0mut\u001b[0m\u001b[0;34m.\u001b[0m\u001b[0mplot_bootstrapped_errorbars_hillel\u001b[0m\u001b[0;34m(\u001b[0m\u001b[0musize\u001b[0m\u001b[0;34m,\u001b[0m\u001b[0mcouplings\u001b[0m\u001b[0;34m[\u001b[0m\u001b[0mlkat\u001b[0m\u001b[0;34m,\u001b[0m\u001b[0;36m5\u001b[0m\u001b[0;34m*\u001b[0m\u001b[0milight\u001b[0m\u001b[0;34m,\u001b[0m\u001b[0;34m:\u001b[0m\u001b[0;34m,\u001b[0m\u001b[0;34m:\u001b[0m\u001b[0;34m,\u001b[0m\u001b[0;36m1\u001b[0m\u001b[0;34m,\u001b[0m\u001b[0;36m0\u001b[0m\u001b[0;34m]\u001b[0m\u001b[0;34m[\u001b[0m\u001b[0;34m:\u001b[0m\u001b[0;34m,\u001b[0m\u001b[0;34m:\u001b[0m\u001b[0;34m,\u001b[0m\u001b[0;34m[\u001b[0m\u001b[0;36m1\u001b[0m\u001b[0;34m,\u001b[0m\u001b[0;36m3\u001b[0m\u001b[0;34m,\u001b[0m\u001b[0;36m5\u001b[0m\u001b[0;34m]\u001b[0m\u001b[0;34m]\u001b[0m\u001b[0;34m.\u001b[0m\u001b[0mtranspose\u001b[0m\u001b[0;34m(\u001b[0m\u001b[0;34m(\u001b[0m\u001b[0;36m0\u001b[0m\u001b[0;34m,\u001b[0m\u001b[0;36m2\u001b[0m\u001b[0;34m,\u001b[0m\u001b[0;36m1\u001b[0m\u001b[0;34m)\u001b[0m\u001b[0;34m)\u001b[0m\u001b[0;34m,\u001b[0m\u001b[0mpct\u001b[0m\u001b[0;34m=\u001b[0m\u001b[0;34m(\u001b[0m\u001b[0;36m2.5\u001b[0m\u001b[0;34m,\u001b[0m\u001b[0;36m97.5\u001b[0m\u001b[0;34m)\u001b[0m\u001b[0;34m,\u001b[0m\u001b[0mcolors\u001b[0m\u001b[0;34m=\u001b[0m\u001b[0mc_sst\u001b[0m\u001b[0;34m)\u001b[0m\u001b[0;34m\u001b[0m\u001b[0;34m\u001b[0m\u001b[0m\n\u001b[0m\u001b[1;32m      7\u001b[0m     \u001b[0mplt\u001b[0m\u001b[0;34m.\u001b[0m\u001b[0maxhline\u001b[0m\u001b[0;34m(\u001b[0m\u001b[0;36m0\u001b[0m\u001b[0;34m,\u001b[0m\u001b[0mlinestyle\u001b[0m\u001b[0;34m=\u001b[0m\u001b[0;34m'dashed'\u001b[0m\u001b[0;34m,\u001b[0m\u001b[0mc\u001b[0m\u001b[0;34m=\u001b[0m\u001b[0;34m'k'\u001b[0m\u001b[0;34m)\u001b[0m\u001b[0;34m\u001b[0m\u001b[0;34m\u001b[0m\u001b[0m\n\u001b[1;32m      8\u001b[0m     \u001b[0mplt\u001b[0m\u001b[0;34m.\u001b[0m\u001b[0mxlabel\u001b[0m\u001b[0;34m(\u001b[0m\u001b[0;34m'size ($^o$)'\u001b[0m\u001b[0;34m)\u001b[0m\u001b[0;34m\u001b[0m\u001b[0;34m\u001b[0m\u001b[0m\n",
      "\u001b[0;31mNameError\u001b[0m: name 'couplings' is not defined"
     ]
    },
    {
     "data": {
      "image/png": "[encoded data removed]",
      "text/plain": [
       "<Figure size 540x180 with 1 Axes>"
      ]
     },
     "metadata": {
      "needs_background": "light"
     },
     "output_type": "display_data"
    }
   ],
   "source": [
    "plt.figure(figsize=(7.5,2.5))\n",
    "usize = [5,8,13,22,36,60]\n",
    "c_sst = np.array(((0.3,0.2,0),(0.6,0.4,0),(1,0.65,0)))\n",
    "for ilight in range(3):\n",
    "    plt.subplot(1,3,ilight+1)\n",
    "    ut.plot_bootstrapped_errorbars_hillel(usize,couplings[lkat,5*ilight,:,:,1,0][:,:,[1,3,5]].transpose((0,2,1)),pct=(2.5,97.5),colors=c_sst)\n",
    "    plt.axhline(0,linestyle='dashed',c='k')\n",
    "    plt.xlabel('size ($^o$)')\n",
    "    plt.ylabel('SST-PC coupling')\n",
    "    plt.legend(['6%','25%','100%'])\n",
    "    plt.tight_layout()\n",
    "# plt.savefig('figures/sst_sst_coupling_size_by_3_contrasts.eps')"
   ]
  },
  {
   "cell_type": "code",
   "execution_count": null,
   "metadata": {},
   "outputs": [],
   "source": [
    "for itype1 in range(8,9):\n",
    "    for itype2 in range(0,1):\n",
    "        plt.figure()\n",
    "        for ilight in range(3):\n",
    "            plt.subplot(1,3,ilight+1)\n",
    "            data = np.nanmedian(couplings[:,5*ilight,:,:,itype1,itype2],0)\n",
    "            mx = np.max(np.abs(data))\n",
    "            plt.imshow(data,vmin=-mx,vmax=mx,cmap='bwr')\n",
    "        plt.subplot(1,3,2)\n",
    "        plt.title('%s->%s'%('far PC',lbls[itype2]))"
   ]
  },
  {
   "cell_type": "code",
   "execution_count": null,
   "metadata": {},
   "outputs": [],
   "source": [
    "ucontrast = np.array([0,6,12,25,50,100])"
   ]
  },
  {
   "cell_type": "code",
   "execution_count": null,
   "metadata": {},
   "outputs": [],
   "source": [
    "iwt = 0\n",
    "data = np.zeros((nwt,YY_opto_medium[0].shape[0],6,6))\n",
    "yoffset = 0.1\n",
    "opto_range = slice(1,10)\n",
    "these_opto_levels = opto_levels[opto_range]\n",
    "for itype in [0,1,2,3]:\n",
    "    plt.figure(figsize=(2.5,2.5))\n",
    "    isize = 3\n",
    "    tlast = 200\n",
    "    icontrasts = [1,3,5]\n",
    "    these_colors = colors[itype+1]\n",
    "    for iwt in range(nwt):\n",
    "        data[iwt] = np.nanmean(YY_opto_medium[iwt][:,:,-tlast:,itype],2).reshape((-1,6,6)) # light, stim, time, type\n",
    "        data[iwt] = (data[iwt] - data[iwt,5])#/(data[iwt] + data[iwt,5])\n",
    "    for iicontrast,icontrast in enumerate(icontrasts):\n",
    "        this_data = data[:,:,isize,icontrast]\n",
    "        this_color = these_colors[iicontrast]\n",
    "        mn = np.mean(this_data,0)[opto_range]\n",
    "        sem = np.std(this_data,0)[opto_range]/np.sqrt(this_data.shape[0])\n",
    "        plt.plot(these_opto_levels,mn,c=this_color)\n",
    "        plt.fill_between(these_opto_levels,mn-sem,mn+sem,alpha=0.5,color=this_color)\n",
    "        plt.ylim(((mn-sem-yoffset).min(),(mn+sem+yoffset).max()))\n",
    "#     plt.legend(['%d%% contrast'%uc for uc in ucontrast[icontrasts]])\n",
    "    plt.title('%d$^o$ size'%usize[isize])\n",
    "    plt.axhline(0,c='k',linestyle='dashed')\n",
    "    plt.xlabel('VIP current injection')\n",
    "    plt.ylabel('$\\Delta$%s firing rate'%lbls[itype])\n",
    "    ut.erase_top_right()\n",
    "    plt.tight_layout()\n",
    "    plt.savefig('figures/%s_vip_current_injection.jpg'%lbls[itype],dpi=300)"
   ]
  },
  {
   "cell_type": "code",
   "execution_count": 70,
   "metadata": {},
   "outputs": [],
   "source": [
    "import calnet.utils\n",
    "import sim_utils"
   ]
  },
  {
   "cell_type": "code",
   "execution_count": 71,
   "metadata": {},
   "outputs": [
    {
     "ename": "NameError",
     "evalue": "name 'nQ' is not defined",
     "output_type": "error",
     "traceback": [
      "\u001b[0;31m---------------------------------------------------------------------------\u001b[0m",
      "\u001b[0;31mNameError\u001b[0m                                 Traceback (most recent call last)",
      "\u001b[0;32m<ipython-input-71-b48392cd29a2>\u001b[0m in \u001b[0;36m<module>\u001b[0;34m\u001b[0m\n\u001b[1;32m      1\u001b[0m \u001b[0mnfiles\u001b[0m \u001b[0;34m=\u001b[0m \u001b[0mnwt\u001b[0m\u001b[0;31m#len(weights_files)\u001b[0m\u001b[0;34m\u001b[0m\u001b[0;34m\u001b[0m\u001b[0m\n\u001b[0;32m----> 2\u001b[0;31m \u001b[0mTs\u001b[0m \u001b[0;34m=\u001b[0m \u001b[0mnp\u001b[0m\u001b[0;34m.\u001b[0m\u001b[0mzeros\u001b[0m\u001b[0;34m(\u001b[0m\u001b[0;34m(\u001b[0m\u001b[0mnfiles\u001b[0m\u001b[0;34m,\u001b[0m\u001b[0mnQ\u001b[0m\u001b[0;34m)\u001b[0m\u001b[0;34m)\u001b[0m\u001b[0;34m\u001b[0m\u001b[0;34m\u001b[0m\u001b[0m\n\u001b[0m\u001b[1;32m      3\u001b[0m \u001b[0mKs\u001b[0m \u001b[0;34m=\u001b[0m \u001b[0mnp\u001b[0m\u001b[0;34m.\u001b[0m\u001b[0mzeros\u001b[0m\u001b[0;34m(\u001b[0m\u001b[0;34m(\u001b[0m\u001b[0mnfiles\u001b[0m\u001b[0;34m,\u001b[0m\u001b[0mnQ\u001b[0m\u001b[0;34m)\u001b[0m\u001b[0;34m)\u001b[0m\u001b[0;34m\u001b[0m\u001b[0;34m\u001b[0m\u001b[0m\n\u001b[1;32m      4\u001b[0m \u001b[0mWmys\u001b[0m \u001b[0;34m=\u001b[0m \u001b[0mnp\u001b[0m\u001b[0;34m.\u001b[0m\u001b[0mzeros\u001b[0m\u001b[0;34m(\u001b[0m\u001b[0;34m(\u001b[0m\u001b[0mnfiles\u001b[0m\u001b[0;34m,\u001b[0m\u001b[0mnQ\u001b[0m\u001b[0;34m,\u001b[0m\u001b[0mnQ\u001b[0m\u001b[0;34m)\u001b[0m\u001b[0;34m)\u001b[0m\u001b[0;34m\u001b[0m\u001b[0;34m\u001b[0m\u001b[0m\n\u001b[1;32m      5\u001b[0m \u001b[0mWmxs\u001b[0m \u001b[0;34m=\u001b[0m \u001b[0mnp\u001b[0m\u001b[0;34m.\u001b[0m\u001b[0mzeros\u001b[0m\u001b[0;34m(\u001b[0m\u001b[0;34m(\u001b[0m\u001b[0mnfiles\u001b[0m\u001b[0;34m,\u001b[0m\u001b[0mnP\u001b[0m\u001b[0;34m,\u001b[0m\u001b[0mnQ\u001b[0m\u001b[0;34m)\u001b[0m\u001b[0;34m)\u001b[0m\u001b[0;34m\u001b[0m\u001b[0;34m\u001b[0m\u001b[0m\n",
      "\u001b[0;31mNameError\u001b[0m: name 'nQ' is not defined"
     ]
    }
   ],
   "source": [
    "nfiles = nwt#len(weights_files)\n",
    "Ts = np.zeros((nfiles,nQ))\n",
    "Ks = np.zeros((nfiles,nQ))\n",
    "Wmys = np.zeros((nfiles,nQ,nQ))\n",
    "Wmxs = np.zeros((nfiles,nP,nQ))\n",
    "s02s = np.zeros((nfiles,nQ))\n",
    "YYs = np.zeros((nfiles,6,6,nQ*nS*nT))\n",
    "XXs = np.zeros((nfiles,6,6,nP*nS*nT))\n",
    "couplings = np.zeros((nfiles,6,6,nQ*nS*nT,nQ*nS*nT))\n",
    "Xcouplings = np.zeros((nfiles,6,6,nP*nS*nT,nQ*nS*nT))\n",
    "for iwt,weights_file in enumerate(weights_files):\n",
    "    Wstar_dict = np.load(weights_file,allow_pickle=True)[()]\n",
    "    Wmx,Wmy,Wsx,Wsy,s02,K,kappa,T,XX,XXp,Eta,Xi,h = Wstar_dict['as_list']\n",
    "    WWmy = calnet.utils.gen_Weight_k_kappa_t(Wmy,K,kappa,T)\n",
    "    WWmx = calnet.utils.gen_Weight_k_kappa_t(Wmx,K,kappa,T)\n",
    "    tiled_s02 = np.tile(s02,nS*nT)\n",
    "    Ts[iwt] = T\n",
    "    Ks[iwt] = K\n",
    "    Wmys[iwt] = Wmy\n",
    "    Wmxs[iwt] = Wmx\n",
    "    s02s[iwt] = s02\n",
    "    YYs[iwt] = sim_utils.f_miller_troyer(Eta,Xi**2+tiled_s02).reshape((6,6,nQ*nS*nT))\n",
    "    XXs[iwt] = XX.reshape((6,6,nP*nS*nT))\n",
    "    for istim in range(nN):\n",
    "        iistim,jjstim = np.unravel_index(istim,(6,6))\n",
    "        Phi = np.diag(calnet.utils.fprime_miller_troyer(Eta[istim],Xi[istim]**2+tiled_s02))\n",
    "        couplings[iwt,iistim,jjstim] = Phi @ np.linalg.inv(np.eye(nQ*nS*nT) - WWmy @ Phi)\n",
    "        Xcouplings[iwt,iistim,jjstim] = WWmx @ Phi @ np.linalg.inv(np.eye(nQ*nS*nT) - WWmy @ Phi)\n",
    "# couplings = np.reshape(couplings,(couplings.shape[0],6,6,couplings.shape[2],couplings.shape[3]))\n",
    "# Xcouplings = np.reshape(Xcouplings,(Xcouplings.shape[0],6,6,Xcouplings.shape[2],Xcouplings.shape[3]))"
   ]
  },
  {
   "cell_type": "code",
   "execution_count": 72,
   "metadata": {},
   "outputs": [
    {
     "ename": "ValueError",
     "evalue": "x and y must have same first dimension, but have shapes (21,) and (1736,)",
     "output_type": "error",
     "traceback": [
      "\u001b[0;31m---------------------------------------------------------------------------\u001b[0m",
      "\u001b[0;31mValueError\u001b[0m                                Traceback (most recent call last)",
      "\u001b[0;32m<ipython-input-72-77b2016a94cf>\u001b[0m in \u001b[0;36m<module>\u001b[0;34m\u001b[0m\n\u001b[1;32m      5\u001b[0m     \u001b[0mdata\u001b[0m \u001b[0;34m=\u001b[0m \u001b[0mnp\u001b[0m\u001b[0;34m.\u001b[0m\u001b[0mnanmean\u001b[0m\u001b[0;34m(\u001b[0m\u001b[0mYY_opto\u001b[0m\u001b[0;34m[\u001b[0m\u001b[0;34m:\u001b[0m\u001b[0;34m,\u001b[0m\u001b[0;34m:\u001b[0m\u001b[0;34m,\u001b[0m\u001b[0;34m-\u001b[0m\u001b[0mtlast\u001b[0m\u001b[0;34m:\u001b[0m\u001b[0;34m,\u001b[0m\u001b[0mitype\u001b[0m\u001b[0;34m]\u001b[0m\u001b[0;34m,\u001b[0m\u001b[0;36m2\u001b[0m\u001b[0;34m)\u001b[0m\u001b[0;34m.\u001b[0m\u001b[0mreshape\u001b[0m\u001b[0;34m(\u001b[0m\u001b[0;34m(\u001b[0m\u001b[0;34m-\u001b[0m\u001b[0;36m1\u001b[0m\u001b[0;34m,\u001b[0m\u001b[0;36m6\u001b[0m\u001b[0;34m,\u001b[0m\u001b[0;36m6\u001b[0m\u001b[0;34m)\u001b[0m\u001b[0;34m)\u001b[0m \u001b[0;31m# light, stim, time, type\u001b[0m\u001b[0;34m\u001b[0m\u001b[0;34m\u001b[0m\u001b[0m\n\u001b[1;32m      6\u001b[0m     \u001b[0;32mfor\u001b[0m \u001b[0micontrast\u001b[0m \u001b[0;32min\u001b[0m \u001b[0;34m[\u001b[0m\u001b[0;36m1\u001b[0m\u001b[0;34m,\u001b[0m\u001b[0;36m3\u001b[0m\u001b[0;34m,\u001b[0m\u001b[0;36m5\u001b[0m\u001b[0;34m]\u001b[0m\u001b[0;34m:\u001b[0m\u001b[0;34m\u001b[0m\u001b[0;34m\u001b[0m\u001b[0m\n\u001b[0;32m----> 7\u001b[0;31m         \u001b[0mplt\u001b[0m\u001b[0;34m.\u001b[0m\u001b[0mplot\u001b[0m\u001b[0;34m(\u001b[0m\u001b[0mopto_levels\u001b[0m\u001b[0;34m,\u001b[0m\u001b[0mdata\u001b[0m\u001b[0;34m[\u001b[0m\u001b[0;34m:\u001b[0m\u001b[0;34m,\u001b[0m\u001b[0misize\u001b[0m\u001b[0;34m,\u001b[0m\u001b[0micontrast\u001b[0m\u001b[0;34m]\u001b[0m\u001b[0;34m-\u001b[0m\u001b[0mdata\u001b[0m\u001b[0;34m[\u001b[0m\u001b[0;36m10\u001b[0m\u001b[0;34m,\u001b[0m\u001b[0misize\u001b[0m\u001b[0;34m,\u001b[0m\u001b[0micontrast\u001b[0m\u001b[0;34m]\u001b[0m\u001b[0;34m)\u001b[0m\u001b[0;34m\u001b[0m\u001b[0;34m\u001b[0m\u001b[0m\n\u001b[0m",
      "\u001b[0;32m~/anaconda3/lib/python3.6/site-packages/matplotlib/pyplot.py\u001b[0m in \u001b[0;36mplot\u001b[0;34m(scalex, scaley, data, *args, **kwargs)\u001b[0m\n\u001b[1;32m   2840\u001b[0m     return gca().plot(\n\u001b[1;32m   2841\u001b[0m         \u001b[0;34m*\u001b[0m\u001b[0margs\u001b[0m\u001b[0;34m,\u001b[0m \u001b[0mscalex\u001b[0m\u001b[0;34m=\u001b[0m\u001b[0mscalex\u001b[0m\u001b[0;34m,\u001b[0m \u001b[0mscaley\u001b[0m\u001b[0;34m=\u001b[0m\u001b[0mscaley\u001b[0m\u001b[0;34m,\u001b[0m\u001b[0;34m\u001b[0m\u001b[0;34m\u001b[0m\u001b[0m\n\u001b[0;32m-> 2842\u001b[0;31m         **({\"data\": data} if data is not None else {}), **kwargs)\n\u001b[0m\u001b[1;32m   2843\u001b[0m \u001b[0;34m\u001b[0m\u001b[0m\n\u001b[1;32m   2844\u001b[0m \u001b[0;34m\u001b[0m\u001b[0m\n",
      "\u001b[0;32m~/anaconda3/lib/python3.6/site-packages/matplotlib/axes/_axes.py\u001b[0m in \u001b[0;36mplot\u001b[0;34m(self, scalex, scaley, data, *args, **kwargs)\u001b[0m\n\u001b[1;32m   1741\u001b[0m         \"\"\"\n\u001b[1;32m   1742\u001b[0m         \u001b[0mkwargs\u001b[0m \u001b[0;34m=\u001b[0m \u001b[0mcbook\u001b[0m\u001b[0;34m.\u001b[0m\u001b[0mnormalize_kwargs\u001b[0m\u001b[0;34m(\u001b[0m\u001b[0mkwargs\u001b[0m\u001b[0;34m,\u001b[0m \u001b[0mmlines\u001b[0m\u001b[0;34m.\u001b[0m\u001b[0mLine2D\u001b[0m\u001b[0;34m)\u001b[0m\u001b[0;34m\u001b[0m\u001b[0;34m\u001b[0m\u001b[0m\n\u001b[0;32m-> 1743\u001b[0;31m         \u001b[0mlines\u001b[0m \u001b[0;34m=\u001b[0m \u001b[0;34m[\u001b[0m\u001b[0;34m*\u001b[0m\u001b[0mself\u001b[0m\u001b[0;34m.\u001b[0m\u001b[0m_get_lines\u001b[0m\u001b[0;34m(\u001b[0m\u001b[0;34m*\u001b[0m\u001b[0margs\u001b[0m\u001b[0;34m,\u001b[0m \u001b[0mdata\u001b[0m\u001b[0;34m=\u001b[0m\u001b[0mdata\u001b[0m\u001b[0;34m,\u001b[0m \u001b[0;34m**\u001b[0m\u001b[0mkwargs\u001b[0m\u001b[0;34m)\u001b[0m\u001b[0;34m]\u001b[0m\u001b[0;34m\u001b[0m\u001b[0;34m\u001b[0m\u001b[0m\n\u001b[0m\u001b[1;32m   1744\u001b[0m         \u001b[0;32mfor\u001b[0m \u001b[0mline\u001b[0m \u001b[0;32min\u001b[0m \u001b[0mlines\u001b[0m\u001b[0;34m:\u001b[0m\u001b[0;34m\u001b[0m\u001b[0;34m\u001b[0m\u001b[0m\n\u001b[1;32m   1745\u001b[0m             \u001b[0mself\u001b[0m\u001b[0;34m.\u001b[0m\u001b[0madd_line\u001b[0m\u001b[0;34m(\u001b[0m\u001b[0mline\u001b[0m\u001b[0;34m)\u001b[0m\u001b[0;34m\u001b[0m\u001b[0;34m\u001b[0m\u001b[0m\n",
      "\u001b[0;32m~/anaconda3/lib/python3.6/site-packages/matplotlib/axes/_base.py\u001b[0m in \u001b[0;36m__call__\u001b[0;34m(self, data, *args, **kwargs)\u001b[0m\n\u001b[1;32m    271\u001b[0m                 \u001b[0mthis\u001b[0m \u001b[0;34m+=\u001b[0m \u001b[0margs\u001b[0m\u001b[0;34m[\u001b[0m\u001b[0;36m0\u001b[0m\u001b[0;34m]\u001b[0m\u001b[0;34m,\u001b[0m\u001b[0;34m\u001b[0m\u001b[0;34m\u001b[0m\u001b[0m\n\u001b[1;32m    272\u001b[0m                 \u001b[0margs\u001b[0m \u001b[0;34m=\u001b[0m \u001b[0margs\u001b[0m\u001b[0;34m[\u001b[0m\u001b[0;36m1\u001b[0m\u001b[0;34m:\u001b[0m\u001b[0;34m]\u001b[0m\u001b[0;34m\u001b[0m\u001b[0;34m\u001b[0m\u001b[0m\n\u001b[0;32m--> 273\u001b[0;31m             \u001b[0;32myield\u001b[0m \u001b[0;32mfrom\u001b[0m \u001b[0mself\u001b[0m\u001b[0;34m.\u001b[0m\u001b[0m_plot_args\u001b[0m\u001b[0;34m(\u001b[0m\u001b[0mthis\u001b[0m\u001b[0;34m,\u001b[0m \u001b[0mkwargs\u001b[0m\u001b[0;34m)\u001b[0m\u001b[0;34m\u001b[0m\u001b[0;34m\u001b[0m\u001b[0m\n\u001b[0m\u001b[1;32m    274\u001b[0m \u001b[0;34m\u001b[0m\u001b[0m\n\u001b[1;32m    275\u001b[0m     \u001b[0;32mdef\u001b[0m \u001b[0mget_next_color\u001b[0m\u001b[0;34m(\u001b[0m\u001b[0mself\u001b[0m\u001b[0;34m)\u001b[0m\u001b[0;34m:\u001b[0m\u001b[0;34m\u001b[0m\u001b[0;34m\u001b[0m\u001b[0m\n",
      "\u001b[0;32m~/anaconda3/lib/python3.6/site-packages/matplotlib/axes/_base.py\u001b[0m in \u001b[0;36m_plot_args\u001b[0;34m(self, tup, kwargs)\u001b[0m\n\u001b[1;32m    397\u001b[0m \u001b[0;34m\u001b[0m\u001b[0m\n\u001b[1;32m    398\u001b[0m         \u001b[0;32mif\u001b[0m \u001b[0mx\u001b[0m\u001b[0;34m.\u001b[0m\u001b[0mshape\u001b[0m\u001b[0;34m[\u001b[0m\u001b[0;36m0\u001b[0m\u001b[0;34m]\u001b[0m \u001b[0;34m!=\u001b[0m \u001b[0my\u001b[0m\u001b[0;34m.\u001b[0m\u001b[0mshape\u001b[0m\u001b[0;34m[\u001b[0m\u001b[0;36m0\u001b[0m\u001b[0;34m]\u001b[0m\u001b[0;34m:\u001b[0m\u001b[0;34m\u001b[0m\u001b[0;34m\u001b[0m\u001b[0m\n\u001b[0;32m--> 399\u001b[0;31m             raise ValueError(f\"x and y must have same first dimension, but \"\n\u001b[0m\u001b[1;32m    400\u001b[0m                              f\"have shapes {x.shape} and {y.shape}\")\n\u001b[1;32m    401\u001b[0m         \u001b[0;32mif\u001b[0m \u001b[0mx\u001b[0m\u001b[0;34m.\u001b[0m\u001b[0mndim\u001b[0m \u001b[0;34m>\u001b[0m \u001b[0;36m2\u001b[0m \u001b[0;32mor\u001b[0m \u001b[0my\u001b[0m\u001b[0;34m.\u001b[0m\u001b[0mndim\u001b[0m \u001b[0;34m>\u001b[0m \u001b[0;36m2\u001b[0m\u001b[0;34m:\u001b[0m\u001b[0;34m\u001b[0m\u001b[0;34m\u001b[0m\u001b[0m\n",
      "\u001b[0;31mValueError\u001b[0m: x and y must have same first dimension, but have shapes (21,) and (1736,)"
     ]
    },
    {
     "data": {
      "image/png": "[encoded data removed]",
      "text/plain": [
       "<Figure size 432x288 with 1 Axes>"
      ]
     },
     "metadata": {
      "needs_background": "light"
     },
     "output_type": "display_data"
    }
   ],
   "source": [
    "for itype in [0,1,2]:\n",
    "    plt.figure()\n",
    "    isize = 5\n",
    "    tlast = 1000\n",
    "    data = np.nanmean(YY_opto[:,:,-tlast:,itype],2).reshape((-1,6,6)) # light, stim, time, type\n",
    "    for icontrast in [1,3,5]:\n",
    "        plt.plot(opto_levels,data[:,isize,icontrast]-data[10,isize,icontrast])"
   ]
  },
  {
   "cell_type": "code",
   "execution_count": null,
   "metadata": {},
   "outputs": [],
   "source": [
    "plt.figure()\n",
    "itype = 0\n",
    "isize = 2\n",
    "tlast = 1000\n",
    "data = np.nanmean(YY_opto[:,:,-tlast:,itype],2).reshape((-1,6,6)) # light, stim, time, type\n",
    "for icontrast in [1,3,5]:\n",
    "    plt.plot(opto_levels,data[:,isize,icontrast]-data[10,isize,icontrast])"
   ]
  },
  {
   "cell_type": "code",
   "execution_count": null,
   "metadata": {},
   "outputs": [],
   "source": [
    "plt.figure()\n",
    "itype = 0\n",
    "isize = 5\n",
    "tlast = 1000\n",
    "data = np.nanmean(YY_opto[:,:,-tlast:,itype],2).reshape((-1,6,6)) # light, stim, time, type\n",
    "for icontrast in [1,3,5]:\n",
    "    plt.plot(opto_levels,data[:,isize,icontrast]-data[10,isize,icontrast])"
   ]
  },
  {
   "cell_type": "code",
   "execution_count": null,
   "metadata": {},
   "outputs": [],
   "source": [
    "pdb.pm()\n"
   ]
  },
  {
   "cell_type": "code",
   "execution_count": 73,
   "metadata": {},
   "outputs": [
    {
     "ename": "NameError",
     "evalue": "name 'mdl' is not defined",
     "output_type": "error",
     "traceback": [
      "\u001b[0;31m---------------------------------------------------------------------------\u001b[0m",
      "\u001b[0;31mNameError\u001b[0m                                 Traceback (most recent call last)",
      "\u001b[0;32m<ipython-input-73-93e3215c8332>\u001b[0m in \u001b[0;36m<module>\u001b[0;34m\u001b[0m\n\u001b[1;32m      1\u001b[0m \u001b[0mreload\u001b[0m\u001b[0;34m(\u001b[0m\u001b[0mdyn\u001b[0m\u001b[0;34m)\u001b[0m\u001b[0;34m\u001b[0m\u001b[0;34m\u001b[0m\u001b[0m\n\u001b[0;32m----> 2\u001b[0;31m \u001b[0mYY_fix\u001b[0m \u001b[0;34m=\u001b[0m \u001b[0mdyn\u001b[0m\u001b[0;34m.\u001b[0m\u001b[0mcompute_steady_state_Model\u001b[0m\u001b[0;34m(\u001b[0m\u001b[0mmdl\u001b[0m\u001b[0;34m,\u001b[0m\u001b[0mNiter\u001b[0m\u001b[0;34m=\u001b[0m\u001b[0mint\u001b[0m\u001b[0;34m(\u001b[0m\u001b[0;36m1.5e3\u001b[0m\u001b[0;34m)\u001b[0m\u001b[0;34m,\u001b[0m\u001b[0mfix_dim\u001b[0m\u001b[0;34m=\u001b[0m\u001b[0mnp\u001b[0m\u001b[0;34m.\u001b[0m\u001b[0marange\u001b[0m\u001b[0;34m(\u001b[0m\u001b[0mmdl\u001b[0m\u001b[0;34m.\u001b[0m\u001b[0mnQ\u001b[0m\u001b[0;34m)\u001b[0m\u001b[0;34m,\u001b[0m\u001b[0mNy\u001b[0m\u001b[0;34m=\u001b[0m\u001b[0;36m25\u001b[0m\u001b[0;34m,\u001b[0m\u001b[0mdt\u001b[0m\u001b[0;34m=\u001b[0m\u001b[0;36m1e-1\u001b[0m\u001b[0;34m)\u001b[0m\u001b[0;34m\u001b[0m\u001b[0;34m\u001b[0m\u001b[0m\n\u001b[0m",
      "\u001b[0;31mNameError\u001b[0m: name 'mdl' is not defined"
     ]
    }
   ],
   "source": [
    "reload(dyn)\n",
    "YY_fix = dyn.compute_steady_state_Model(mdl,Niter=int(1.5e3),fix_dim=np.arange(mdl.nQ),Ny=25,dt=1e-1)"
   ]
  },
  {
   "cell_type": "code",
   "execution_count": 74,
   "metadata": {},
   "outputs": [],
   "source": [
    "import pyute as ut\n",
    "# ut.mkdir('figures/dynamics_simulations/200724a/')\n",
    "for iwt in range(nwt):\n",
    "    mag = 1.5\n",
    "    plt.figure(figsize=(6*mag,6*mag))\n",
    "    for icelltype in range(4):\n",
    "        for istim in range(36):\n",
    "            plt.subplot(6,6,istim+1)\n",
    "            plt.plot(YY_ss[iwt][istim,:,icelltype]) #-YY_ss[imodel][istim,-1,icelltype])\n",
    "            plt.ylim((0,1.5))\n",
    "#     plt.savefig('figures/dynamics_simulations/200724a/%d.jpg'%iwt)"
   ]
  },
  {
   "cell_type": "code",
   "execution_count": 75,
   "metadata": {},
   "outputs": [
    {
     "ename": "FileNotFoundError",
     "evalue": "[Errno 2] No such file or directory: 'figures/dynamics_simulations_inset'",
     "output_type": "error",
     "traceback": [
      "\u001b[0;31m---------------------------------------------------------------------------\u001b[0m",
      "\u001b[0;31mFileNotFoundError\u001b[0m                         Traceback (most recent call last)",
      "\u001b[0;32m<ipython-input-75-b5edde600e06>\u001b[0m in \u001b[0;36m<module>\u001b[0;34m\u001b[0m\n\u001b[1;32m      1\u001b[0m \u001b[0mcolors\u001b[0m \u001b[0;34m=\u001b[0m \u001b[0mplt\u001b[0m\u001b[0;34m.\u001b[0m\u001b[0mcm\u001b[0m\u001b[0;34m.\u001b[0m\u001b[0mviridis\u001b[0m\u001b[0;34m(\u001b[0m\u001b[0mnp\u001b[0m\u001b[0;34m.\u001b[0m\u001b[0mlinspace\u001b[0m\u001b[0;34m(\u001b[0m\u001b[0;36m0\u001b[0m\u001b[0;34m,\u001b[0m\u001b[0;36m1\u001b[0m\u001b[0;34m,\u001b[0m\u001b[0;36m6\u001b[0m\u001b[0;34m)\u001b[0m\u001b[0;34m)\u001b[0m\u001b[0;34m\u001b[0m\u001b[0;34m\u001b[0m\u001b[0m\n\u001b[0;32m----> 2\u001b[0;31m \u001b[0mut\u001b[0m\u001b[0;34m.\u001b[0m\u001b[0mmkdir\u001b[0m\u001b[0;34m(\u001b[0m\u001b[0;34m'figures/dynamics_simulations_inset'\u001b[0m\u001b[0;34m)\u001b[0m\u001b[0;34m\u001b[0m\u001b[0;34m\u001b[0m\u001b[0m\n\u001b[0m\u001b[1;32m      3\u001b[0m \u001b[0;32mfor\u001b[0m \u001b[0miwt\u001b[0m \u001b[0;32min\u001b[0m \u001b[0mrange\u001b[0m\u001b[0;34m(\u001b[0m\u001b[0mnwt\u001b[0m\u001b[0;34m)\u001b[0m\u001b[0;34m:\u001b[0m\u001b[0;34m\u001b[0m\u001b[0;34m\u001b[0m\u001b[0m\n\u001b[1;32m      4\u001b[0m     \u001b[0mplt\u001b[0m\u001b[0;34m.\u001b[0m\u001b[0mfigure\u001b[0m\u001b[0;34m(\u001b[0m\u001b[0;34m)\u001b[0m\u001b[0;34m\u001b[0m\u001b[0;34m\u001b[0m\u001b[0m\n\u001b[1;32m      5\u001b[0m     \u001b[0mtlim\u001b[0m \u001b[0;34m=\u001b[0m \u001b[0;36m1001\u001b[0m\u001b[0;34m\u001b[0m\u001b[0;34m\u001b[0m\u001b[0m\n",
      "\u001b[0;32m~/Dropbox/ColumbiaProjects/Dans_Data_Package/analysis_dan/pyute.py\u001b[0m in \u001b[0;36mmkdir\u001b[0;34m(d)\u001b[0m\n\u001b[1;32m   1247\u001b[0m \u001b[0;32mdef\u001b[0m \u001b[0mmkdir\u001b[0m\u001b[0;34m(\u001b[0m\u001b[0md\u001b[0m\u001b[0;34m)\u001b[0m\u001b[0;34m:\u001b[0m\u001b[0;34m\u001b[0m\u001b[0;34m\u001b[0m\u001b[0m\n\u001b[1;32m   1248\u001b[0m     \u001b[0;32mif\u001b[0m \u001b[0;32mnot\u001b[0m \u001b[0mos\u001b[0m\u001b[0;34m.\u001b[0m\u001b[0mpath\u001b[0m\u001b[0;34m.\u001b[0m\u001b[0mexists\u001b[0m\u001b[0;34m(\u001b[0m\u001b[0md\u001b[0m\u001b[0;34m)\u001b[0m\u001b[0;34m:\u001b[0m\u001b[0;34m\u001b[0m\u001b[0;34m\u001b[0m\u001b[0m\n\u001b[0;32m-> 1249\u001b[0;31m         \u001b[0mos\u001b[0m\u001b[0;34m.\u001b[0m\u001b[0mmkdir\u001b[0m\u001b[0;34m(\u001b[0m\u001b[0md\u001b[0m\u001b[0;34m)\u001b[0m\u001b[0;34m\u001b[0m\u001b[0;34m\u001b[0m\u001b[0m\n\u001b[0m\u001b[1;32m   1250\u001b[0m \u001b[0;34m\u001b[0m\u001b[0m\n\u001b[1;32m   1251\u001b[0m \u001b[0;32mdef\u001b[0m \u001b[0mcopy_directory_structure\u001b[0m\u001b[0;34m(\u001b[0m\u001b[0msource\u001b[0m\u001b[0;34m,\u001b[0m\u001b[0mtarget\u001b[0m\u001b[0;34m)\u001b[0m\u001b[0;34m:\u001b[0m\u001b[0;34m\u001b[0m\u001b[0;34m\u001b[0m\u001b[0m\n",
      "\u001b[0;31mFileNotFoundError\u001b[0m: [Errno 2] No such file or directory: 'figures/dynamics_simulations_inset'"
     ]
    }
   ],
   "source": [
    "colors = plt.cm.viridis(np.linspace(0,1,6))\n",
    "ut.mkdir('figures/dynamics_simulations_inset')\n",
    "for iwt in range(nwt):\n",
    "    plt.figure()\n",
    "    tlim = 1001\n",
    "    t = np.arange(tlim)*dt\n",
    "    data = YY_ss[iwt].reshape((6,6)+YY_ss[iwt].shape[1:])\n",
    "    itype = 0\n",
    "    icontrast = 5\n",
    "    for isize in np.arange(6):\n",
    "        plt.plot(t,data[isize,icontrast,:tlim,itype],c=colors[isize])\n",
    "    plt.xlabel('t (membrane time constants)')\n",
    "    plt.ylabel('firing rate (a.u.)')\n",
    "#     plt.savefig('figures/dynamics_simulations_inset/%d.jpg'%iwt)"
   ]
  },
  {
   "cell_type": "code",
   "execution_count": 76,
   "metadata": {},
   "outputs": [
    {
     "data": {
      "image/png": "[encoded data removed]",
      "text/plain": [
       "<Figure size 432x288 with 1 Axes>"
      ]
     },
     "metadata": {
      "needs_background": "light"
     },
     "output_type": "display_data"
    }
   ],
   "source": [
    "plt.figure()\n",
    "for ilight in [0,5,10]:\n",
    "    plt.plot(YY_opto[0,ilight,-1,:,0])"
   ]
  },
  {
   "cell_type": "code",
   "execution_count": 77,
   "metadata": {},
   "outputs": [
    {
     "ename": "NameError",
     "evalue": "name 'YY_ss' is not defined",
     "output_type": "error",
     "traceback": [
      "\u001b[0;31m---------------------------------------------------------------------------\u001b[0m",
      "\u001b[0;31mNameError\u001b[0m                                 Traceback (most recent call last)",
      "\u001b[0;32m<ipython-input-77-f10d08757aa1>\u001b[0m in \u001b[0;36m<module>\u001b[0;34m\u001b[0m\n\u001b[1;32m      1\u001b[0m \u001b[0;32mfor\u001b[0m \u001b[0mitype\u001b[0m \u001b[0;32min\u001b[0m \u001b[0mrange\u001b[0m\u001b[0;34m(\u001b[0m\u001b[0;36m4\u001b[0m\u001b[0;34m)\u001b[0m\u001b[0;34m:\u001b[0m\u001b[0;34m\u001b[0m\u001b[0;34m\u001b[0m\u001b[0m\n\u001b[1;32m      2\u001b[0m     \u001b[0mplt\u001b[0m\u001b[0;34m.\u001b[0m\u001b[0msubplot\u001b[0m\u001b[0;34m(\u001b[0m\u001b[0;36m1\u001b[0m\u001b[0;34m,\u001b[0m\u001b[0;36m4\u001b[0m\u001b[0;34m,\u001b[0m\u001b[0mitype\u001b[0m\u001b[0;34m+\u001b[0m\u001b[0;36m1\u001b[0m\u001b[0;34m)\u001b[0m\u001b[0;34m\u001b[0m\u001b[0;34m\u001b[0m\u001b[0m\n\u001b[0;32m----> 3\u001b[0;31m     \u001b[0mplt\u001b[0m\u001b[0;34m.\u001b[0m\u001b[0mimshow\u001b[0m\u001b[0;34m(\u001b[0m\u001b[0mYY_ss\u001b[0m\u001b[0;34m[\u001b[0m\u001b[0;34m:\u001b[0m\u001b[0;34m,\u001b[0m\u001b[0;34m-\u001b[0m\u001b[0;36m1\u001b[0m\u001b[0;34m,\u001b[0m\u001b[0mitype\u001b[0m\u001b[0;34m]\u001b[0m\u001b[0;34m.\u001b[0m\u001b[0mreshape\u001b[0m\u001b[0;34m(\u001b[0m\u001b[0;34m(\u001b[0m\u001b[0;36m6\u001b[0m\u001b[0;34m,\u001b[0m\u001b[0;36m6\u001b[0m\u001b[0;34m)\u001b[0m\u001b[0;34m)\u001b[0m\u001b[0;34m)\u001b[0m\u001b[0;34m\u001b[0m\u001b[0;34m\u001b[0m\u001b[0m\n\u001b[0m",
      "\u001b[0;31mNameError\u001b[0m: name 'YY_ss' is not defined"
     ]
    },
    {
     "data": {
      "image/png": "[encoded data removed]",
      "text/plain": [
       "<Figure size 432x288 with 1 Axes>"
      ]
     },
     "metadata": {
      "needs_background": "light"
     },
     "output_type": "display_data"
    }
   ],
   "source": [
    "for itype in range(4):\n",
    "    plt.subplot(1,4,itype+1)\n",
    "    plt.imshow(YY_ss[:,-1,itype].reshape((6,6)))"
   ]
  },
  {
   "cell_type": "code",
   "execution_count": null,
   "metadata": {},
   "outputs": [],
   "source": [
    "mag = 2\n",
    "ix = 0\n",
    "iy = 1\n",
    "max_val = 2.5\n",
    "Ny = 25\n",
    "xvals = np.linspace(0,max_val,Ny)\n",
    "plt.figure(figsize=(6*mag,6*mag))\n",
    "for istim in range(YY_fix.shape[1]):\n",
    "    plt.subplot(6,6,istim+1)\n",
    "    for it in [-400,-300,-200,-100,-1]:\n",
    "        plt.plot(YY_fix[iy,istim,:,it,ix],xvals,c='C0')\n",
    "        plt.plot(xvals,YY_fix[ix,istim,:,it,iy],c='C1')\n",
    "        plt.xlim((0,1.25))\n",
    "        plt.ylim((0,1.25))\n",
    "plt.tight_layout()"
   ]
  },
  {
   "cell_type": "code",
   "execution_count": null,
   "metadata": {},
   "outputs": [],
   "source": []
  },
  {
   "cell_type": "code",
   "execution_count": null,
   "metadata": {},
   "outputs": [],
   "source": [
    "def f_basic(mu,sigma=1):\n",
    "    return utils.f_miller_troyer(mu,sigma)\n",
    "def run_small_sim(W,h,r0,f=f_basic,Niter=int(1e3),dt=1e-1):\n",
    "    def drdt(r):\n",
    "        return -r + f(r @ W + h)\n",
    "    r = r0\n",
    "    for t in range(Niter):\n",
    "        r = r + dt*drdt(r)\n",
    "    return r\n",
    "    "
   ]
  },
  {
   "cell_type": "code",
   "execution_count": null,
   "metadata": {},
   "outputs": [],
   "source": [
    "# W = np.array(((1,2),(-3,-2)))\n",
    "W = 2*np.array(((1,1),(-2,-1)))\n",
    "# hs = [np.array((1,0.99)),np.array((1,1)),np.array((1,1.01))]\n",
    "hs = [np.array((1,0.49)),np.array((1,0.75)),np.array((1,0.51))]\n",
    "# h2 = np.array((1,1.25))\n",
    "r0 = np.array((1,1))\n",
    "nstim = 100\n",
    "inputs = np.linspace(-2,2,nstim)\n",
    "rs = [np.zeros((nstim,2)) for h in hs]\n",
    "for iinp in range(len(hs)):\n",
    "    for istim in range(nstim):\n",
    "        rs[iinp][istim] = run_small_sim(W,hs[iinp]*inputs[istim],r0,f=lambda mu: utils.f_miller_troyer(mu,0.05))\n",
    "        r0 = rs[iinp][istim].copy()"
   ]
  },
  {
   "cell_type": "code",
   "execution_count": null,
   "metadata": {},
   "outputs": [],
   "source": [
    "ww,vv = np.linalg.eig(W.T)"
   ]
  },
  {
   "cell_type": "code",
   "execution_count": null,
   "metadata": {},
   "outputs": [],
   "source": [
    "-h2 @ np.linalg.inv(W-1)"
   ]
  },
  {
   "cell_type": "code",
   "execution_count": null,
   "metadata": {},
   "outputs": [],
   "source": [
    "for iinp in (1,): #range(len(hs)):\n",
    "    plt.figure()\n",
    "    plt.plot(inputs,rs[iinp]/rs[iinp].max(0)[np.newaxis,:])\n",
    "    plt.legend(['model PC','model PV'])\n",
    "    plt.xlabel('input strength')\n",
    "    plt.ylabel('firing rate / max firing rate')\n",
    "plt.savefig('figures/toy_model_pc_pv.jpg',dpi=300)"
   ]
  },
  {
   "cell_type": "code",
   "execution_count": 78,
   "metadata": {},
   "outputs": [
    {
     "ename": "NameError",
     "evalue": "name 'hs' is not defined",
     "output_type": "error",
     "traceback": [
      "\u001b[0;31m---------------------------------------------------------------------------\u001b[0m",
      "\u001b[0;31mNameError\u001b[0m                                 Traceback (most recent call last)",
      "\u001b[0;32m<ipython-input-78-8df9babc8e12>\u001b[0m in \u001b[0;36m<module>\u001b[0;34m\u001b[0m\n\u001b[0;32m----> 1\u001b[0;31m \u001b[0;32mfor\u001b[0m \u001b[0miinp\u001b[0m \u001b[0;32min\u001b[0m \u001b[0mrange\u001b[0m\u001b[0;34m(\u001b[0m\u001b[0mlen\u001b[0m\u001b[0;34m(\u001b[0m\u001b[0mhs\u001b[0m\u001b[0;34m)\u001b[0m\u001b[0;34m)\u001b[0m\u001b[0;34m:\u001b[0m\u001b[0;34m\u001b[0m\u001b[0;34m\u001b[0m\u001b[0m\n\u001b[0m\u001b[1;32m      2\u001b[0m     \u001b[0mplt\u001b[0m\u001b[0;34m.\u001b[0m\u001b[0mfigure\u001b[0m\u001b[0;34m(\u001b[0m\u001b[0;34m)\u001b[0m\u001b[0;34m\u001b[0m\u001b[0;34m\u001b[0m\u001b[0m\n\u001b[1;32m      3\u001b[0m     \u001b[0mplt\u001b[0m\u001b[0;34m.\u001b[0m\u001b[0mplot\u001b[0m\u001b[0;34m(\u001b[0m\u001b[0minputs\u001b[0m\u001b[0;34m,\u001b[0m\u001b[0mrs\u001b[0m\u001b[0;34m[\u001b[0m\u001b[0miinp\u001b[0m\u001b[0;34m]\u001b[0m\u001b[0;34m/\u001b[0m\u001b[0mrs\u001b[0m\u001b[0;34m[\u001b[0m\u001b[0miinp\u001b[0m\u001b[0;34m]\u001b[0m\u001b[0;34m.\u001b[0m\u001b[0mmax\u001b[0m\u001b[0;34m(\u001b[0m\u001b[0;36m0\u001b[0m\u001b[0;34m)\u001b[0m\u001b[0;34m[\u001b[0m\u001b[0mnp\u001b[0m\u001b[0;34m.\u001b[0m\u001b[0mnewaxis\u001b[0m\u001b[0;34m,\u001b[0m\u001b[0;34m:\u001b[0m\u001b[0;34m]\u001b[0m\u001b[0;34m)\u001b[0m\u001b[0;34m\u001b[0m\u001b[0;34m\u001b[0m\u001b[0m\n\u001b[1;32m      4\u001b[0m \u001b[0;31m# plt.plot(inputs,r2)\u001b[0m\u001b[0;34m\u001b[0m\u001b[0;34m\u001b[0m\u001b[0;34m\u001b[0m\u001b[0m\n",
      "\u001b[0;31mNameError\u001b[0m: name 'hs' is not defined"
     ]
    }
   ],
   "source": [
    "for iinp in range(len(hs)):\n",
    "    plt.figure()\n",
    "    plt.plot(inputs,rs[iinp]/rs[iinp].max(0)[np.newaxis,:])\n",
    "# plt.plot(inputs,r2)"
   ]
  },
  {
   "cell_type": "code",
   "execution_count": 79,
   "metadata": {},
   "outputs": [
    {
     "ename": "NameError",
     "evalue": "name 'inputs' is not defined",
     "output_type": "error",
     "traceback": [
      "\u001b[0;31m---------------------------------------------------------------------------\u001b[0m",
      "\u001b[0;31mNameError\u001b[0m                                 Traceback (most recent call last)",
      "\u001b[0;32m<ipython-input-79-8c0f1b8ac64d>\u001b[0m in \u001b[0;36m<module>\u001b[0;34m\u001b[0m\n\u001b[1;32m      1\u001b[0m \u001b[0mplt\u001b[0m\u001b[0;34m.\u001b[0m\u001b[0mfigure\u001b[0m\u001b[0;34m(\u001b[0m\u001b[0;34m)\u001b[0m\u001b[0;34m\u001b[0m\u001b[0;34m\u001b[0m\u001b[0m\n\u001b[0;32m----> 2\u001b[0;31m \u001b[0mplt\u001b[0m\u001b[0;34m.\u001b[0m\u001b[0mplot\u001b[0m\u001b[0;34m(\u001b[0m\u001b[0minputs\u001b[0m\u001b[0;34m,\u001b[0m\u001b[0mr2\u001b[0m\u001b[0;34m/\u001b[0m\u001b[0mr2\u001b[0m\u001b[0;34m.\u001b[0m\u001b[0mmax\u001b[0m\u001b[0;34m(\u001b[0m\u001b[0;36m0\u001b[0m\u001b[0;34m)\u001b[0m\u001b[0;34m[\u001b[0m\u001b[0mnp\u001b[0m\u001b[0;34m.\u001b[0m\u001b[0mnewaxis\u001b[0m\u001b[0;34m,\u001b[0m\u001b[0;34m:\u001b[0m\u001b[0;34m]\u001b[0m\u001b[0;34m)\u001b[0m\u001b[0;34m\u001b[0m\u001b[0;34m\u001b[0m\u001b[0m\n\u001b[0m",
      "\u001b[0;31mNameError\u001b[0m: name 'inputs' is not defined"
     ]
    },
    {
     "data": {
      "text/plain": [
       "<Figure size 432x288 with 0 Axes>"
      ]
     },
     "metadata": {},
     "output_type": "display_data"
    }
   ],
   "source": [
    "plt.figure()\n",
    "plt.plot(inputs,r2/r2.max(0)[np.newaxis,:])"
   ]
  },
  {
   "cell_type": "code",
   "execution_count": 80,
   "metadata": {},
   "outputs": [
    {
     "ename": "NameError",
     "evalue": "name 'r' is not defined",
     "output_type": "error",
     "traceback": [
      "\u001b[0;31m---------------------------------------------------------------------------\u001b[0m",
      "\u001b[0;31mNameError\u001b[0m                                 Traceback (most recent call last)",
      "\u001b[0;32m<ipython-input-80-053d9c1f8024>\u001b[0m in \u001b[0;36m<module>\u001b[0;34m\u001b[0m\n\u001b[1;32m      1\u001b[0m \u001b[0mplt\u001b[0m\u001b[0;34m.\u001b[0m\u001b[0mfigure\u001b[0m\u001b[0;34m(\u001b[0m\u001b[0;34m)\u001b[0m\u001b[0;34m\u001b[0m\u001b[0;34m\u001b[0m\u001b[0m\n\u001b[0;32m----> 2\u001b[0;31m \u001b[0mplt\u001b[0m\u001b[0;34m.\u001b[0m\u001b[0mplot\u001b[0m\u001b[0;34m(\u001b[0m\u001b[0mr\u001b[0m\u001b[0;34m[\u001b[0m\u001b[0;34m:\u001b[0m\u001b[0;34m,\u001b[0m\u001b[0;36m0\u001b[0m\u001b[0;34m]\u001b[0m\u001b[0;34m,\u001b[0m\u001b[0;34m-\u001b[0m\u001b[0minputs\u001b[0m\u001b[0;34m,\u001b[0m\u001b[0mc\u001b[0m\u001b[0;34m=\u001b[0m\u001b[0;34m'k'\u001b[0m\u001b[0;34m)\u001b[0m\u001b[0;34m\u001b[0m\u001b[0;34m\u001b[0m\u001b[0m\n\u001b[0m\u001b[1;32m      3\u001b[0m \u001b[0mplt\u001b[0m\u001b[0;34m.\u001b[0m\u001b[0mplot\u001b[0m\u001b[0;34m(\u001b[0m\u001b[0mr\u001b[0m\u001b[0;34m[\u001b[0m\u001b[0;34m:\u001b[0m\u001b[0;34m,\u001b[0m\u001b[0;36m1\u001b[0m\u001b[0;34m]\u001b[0m\u001b[0;34m,\u001b[0m\u001b[0;34m-\u001b[0m\u001b[0minputs\u001b[0m\u001b[0;34m,\u001b[0m\u001b[0mc\u001b[0m\u001b[0;34m=\u001b[0m\u001b[0;34m'b'\u001b[0m\u001b[0;34m)\u001b[0m\u001b[0;34m\u001b[0m\u001b[0;34m\u001b[0m\u001b[0m\n\u001b[1;32m      4\u001b[0m \u001b[0mplt\u001b[0m\u001b[0;34m.\u001b[0m\u001b[0mxlim\u001b[0m\u001b[0;34m(\u001b[0m\u001b[0;34m(\u001b[0m\u001b[0;36m0\u001b[0m\u001b[0;34m,\u001b[0m\u001b[0;36m0.04\u001b[0m\u001b[0;34m)\u001b[0m\u001b[0;34m)\u001b[0m\u001b[0;34m\u001b[0m\u001b[0;34m\u001b[0m\u001b[0m\n",
      "\u001b[0;31mNameError\u001b[0m: name 'r' is not defined"
     ]
    },
    {
     "data": {
      "text/plain": [
       "<Figure size 432x288 with 0 Axes>"
      ]
     },
     "metadata": {},
     "output_type": "display_data"
    }
   ],
   "source": [
    "plt.figure()\n",
    "plt.plot(r[:,0],-inputs,c='k')\n",
    "plt.plot(r[:,1],-inputs,c='b')\n",
    "plt.xlim((0,0.04))"
   ]
  },
  {
   "cell_type": "code",
   "execution_count": null,
   "metadata": {},
   "outputs": [],
   "source": []
  }
 ],
 "metadata": {
  "kernelspec": {
   "display_name": "Python 3",
   "language": "python",
   "name": "python3"
  },
  "language_info": {
   "codemirror_mode": {
    "name": "ipython",
    "version": 3
   },
   "file_extension": ".py",
   "mimetype": "text/x-python",
   "name": "python",
   "nbconvert_exporter": "python",
   "pygments_lexer": "ipython3",
   "version": "3.6.13"
  }
 },
 "nbformat": 4,
 "nbformat_minor": 4
}
