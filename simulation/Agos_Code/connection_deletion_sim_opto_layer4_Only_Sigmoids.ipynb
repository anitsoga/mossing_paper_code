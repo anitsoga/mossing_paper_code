{
 "cells": [
  {
   "cell_type": "code",
   "execution_count": 72,
   "metadata": {},
   "outputs": [
    {
     "data": {
      "text/plain": [
       "<module 'calnet.utils' from '/Users/agos/Dropbox/ColumbiaProjects/Dans_Data_Package/analysis_dan/calnet/utils.py'>"
      ]
     },
     "execution_count": 72,
     "metadata": {},
     "output_type": "execute_result"
    }
   ],
   "source": [
    "\n",
    "import sys\n",
    "sys.path\n",
    "sys.path.append('/Users/agos/Dropbox/ColumbiaProjects/Dans_Data_Package/analysis_dan')\n",
    "sys.path.append('/Users/agos/Dropbox/ColumbiaProjects/Dans_Data_Package/OASIS-master')\n",
    "\n",
    "import warnings\n",
    "warnings.filterwarnings('ignore')\n",
    "\n",
    "import calnet.calnet as cc\n",
    "import calnet.dynamics as dyn\n",
    "import numpy as np\n",
    "from importlib import reload\n",
    "import pdb\n",
    "import matplotlib.pyplot as plt\n",
    "import glob\n",
    "import calnet.utils as utils\n",
    "import pyute as ut\n",
    "import size_contrast_analysis as sca\n",
    "import size_contrast_figures as scf\n",
    "import size_contrast_opto_figures as scof\n",
    "import opto_utils\n",
    "import os\n",
    "import scipy.stats as sst\n",
    "reload(cc)\n",
    "reload(utils)"
   ]
  },
  {
   "cell_type": "code",
   "execution_count": 73,
   "metadata": {},
   "outputs": [],
   "source": [
    "cache_base = os.path.expanduser('/Users/agos/Dropbox/ColumbiaProjects/Project_DansPaper/mossing_paper_code/cached/')\n",
    "if not os.path.exists(cache_base):\n",
    "    os.makedirs(cache_base)\n",
    "cache_base = os.path.join(cache_base, \"connection_deletion_sim_opto_layer4_\")"
   ]
  },
  {
   "cell_type": "code",
   "execution_count": 74,
   "metadata": {},
   "outputs": [],
   "source": [
    "calnet_base = os.path.expanduser('/Users/agos/Dropbox/ColumbiaProjects/Project_DansPaper/')\n",
    "notebook_base = os.path.expanduser('/Users/agos/Dropbox/ColumbiaProjects/Project_DansPaper/mossing_paper_code/simulation/Agos_Code/')"
   ]
  },
  {
   "cell_type": "code",
   "execution_count": 75,
   "metadata": {},
   "outputs": [],
   "source": [
    "npyfile = np.load(f'{calnet_base}/calnet_data/dynamics/vip_both_pixels_opto_tavg_210513c.npy',allow_pickle=True)[()]\n",
    "npyfile_halo = np.load(f'{calnet_base}/calnet_data/dynamics/vip_halo_l4_opto_tavg_connection_deletion_210513c.npy',allow_pickle=True)[()]\n",
    "npyfile_chrimson = np.load(f'{calnet_base}/calnet_data/dynamics/vip_chrimson_l4_opto_tavg_connection_deletion_210513c.npy',allow_pickle=True)[()]\n",
    "\n",
    "wtfile = '210513c'\n"
   ]
  },
  {
   "cell_type": "code",
   "execution_count": 76,
   "metadata": {},
   "outputs": [
    {
     "data": {
      "text/plain": [
       "dict_keys(['YY_opto', 'YY_opto_no_pcpc', 'YY_opto_no_pcpv', 'YY_opto_tavg_no_pcvip', 'YY_opto_tavg_no_pcsst', 'YY_opto_tavg_no_vipbias', 'YY_opto_tavg_no_sstvip'])"
      ]
     },
     "execution_count": 76,
     "metadata": {},
     "output_type": "execute_result"
    }
   ],
   "source": [
    "npyfile.keys()"
   ]
  },
  {
   "cell_type": "code",
   "execution_count": 77,
   "metadata": {},
   "outputs": [],
   "source": [
    "# note: these simulations keep resEta, resXi fixed. Not Eta, Xi!\n",
    "YY_opto = npyfile['YY_opto'][:,:,:,np.newaxis,:]\n",
    "YY_opto_no_pcpc = npyfile['YY_opto_no_pcpc'][:,:,:,np.newaxis,:]\n",
    "YY_opto_no_pcpv = npyfile['YY_opto_no_pcpv'][:,:,:,np.newaxis,:]\n",
    "YY_opto_no_pcvip = npyfile['YY_opto_tavg_no_pcvip'][:,:,:,np.newaxis,:]\n",
    "YY_opto_no_pcsst = npyfile['YY_opto_tavg_no_pcsst'][:,:,:,np.newaxis,:]\n",
    "YY_opto_no_vipbias = npyfile['YY_opto_tavg_no_vipbias'][:,:,:,np.newaxis,:]"
   ]
  },
  {
   "cell_type": "code",
   "execution_count": 78,
   "metadata": {},
   "outputs": [],
   "source": [
    "# weights_files = glob.glob(f'{notebook_base}/shared_data/calnet_data/weights/weights_201203g/*.npy')\n",
    "weights_files = glob.glob(f'{calnet_base}/calnet_data/weights/weights_201215b/*.npy')\n",
    "weights_files = glob.glob(f'{calnet_base}/calnet_data/weights/weights_210513c/*.npy')\n",
    "weights_files.sort()\n",
    "\n",
    "reload(cc)\n",
    "nwt = len(weights_files)\n",
    "mdls = [None for iwt in range(nwt)]\n",
    "losses = np.zeros((nwt,))\n",
    "for iwt in range(nwt):\n",
    "#     wtfile = 'weights_'+good_fits[iwt]+'.npy'\n",
    "#     wtdict = np.load(wtbase+wtfile,allow_pickle=True)[()]\n",
    "    wtdict = np.load(weights_files[iwt],allow_pickle=True)[()]\n",
    "    mdls[iwt] = cc.ModelOri(wtdict,nT=1)\n",
    "    losses[iwt] = mdls[iwt].loss\n",
    "    \n",
    "mdls_no_pcpv = [None for iwt in range(nwt)]\n",
    "for iwt in range(nwt):\n",
    "    wtdict = np.load(weights_files[iwt],allow_pickle=True)[()]\n",
    "    wtdict['Wmy'][[0,0,3,3],[0,3,0,3]] = 0\n",
    "    mdls_no_pcpv[iwt] = cc.ModelOri(wtdict,nT=1)\n",
    "    \n",
    "mdls_no_pcpc = [None for iwt in range(nwt)]\n",
    "for iwt in range(nwt):\n",
    "    wtdict = np.load(weights_files[iwt],allow_pickle=True)[()]\n",
    "    wtdict['Wmy'][0,0] = 0\n",
    "    mdls_no_pcpc[iwt] = cc.ModelOri(wtdict,nT=1)\n",
    "    \n",
    "mdls_no_pcvip = [None for iwt in range(nwt)]\n",
    "for iwt in range(nwt):\n",
    "    wtdict = np.load(weights_files[iwt],allow_pickle=True)[()]\n",
    "    wtdict['Wmy'][0,2] = 0\n",
    "    wtdict['Wmx'][0,2] = 0\n",
    "    mdls_no_pcvip[iwt] = cc.ModelOri(wtdict,nT=1)\n",
    "    \n",
    "mdls_no_pcsst = [None for iwt in range(nwt)]\n",
    "for iwt in range(nwt):\n",
    "    wtdict = np.load(weights_files[iwt],allow_pickle=True)[()]\n",
    "    wtdict['Wmy'][0,1] = 0\n",
    "    wtdict['Wmx'][0,1] = 0\n",
    "    mdls_no_pcsst[iwt] = cc.ModelOri(wtdict,nT=1)\n",
    "        \n",
    "mdls_no_vipbias = [None for iwt in range(nwt)]\n",
    "for iwt in range(nwt):\n",
    "    wtdict = np.load(weights_files[iwt],allow_pickle=True)[()]\n",
    "    wtdict['Wmx'][1,2] = 0\n",
    "    mdls_no_vipbias[iwt] = cc.ModelOri(wtdict,nT=1)\n",
    "    \n",
    "low_loss = (losses<np.nanpercentile(losses,10))\n",
    "\n",
    "mdls = [mdl for (mdl,ll) in zip(mdls,low_loss) if ll]\n",
    "mdls_no_pcpv = [mdl for (mdl,ll) in zip(mdls_no_pcpv,low_loss) if ll]\n",
    "mdls_no_pcpc = [mdl for (mdl,ll) in zip(mdls_no_pcpc,low_loss) if ll]\n",
    "mdls_no_pcvip = [mdl for (mdl,ll) in zip(mdls_no_pcvip,low_loss) if ll]\n",
    "mdls_no_pcsst = [mdl for (mdl,ll) in zip(mdls_no_pcsst,low_loss) if ll]\n",
    "mdls_no_vipbias = [mdl for (mdl,ll) in zip(mdls_no_vipbias,low_loss) if ll]"
   ]
  },
  {
   "cell_type": "code",
   "execution_count": 79,
   "metadata": {},
   "outputs": [],
   "source": [
    "iwt = 0\n",
    "nQ,nS,nT = mdls[iwt].nQ,mdls[iwt].nS,mdls[iwt].nT\n",
    "bltiles = np.zeros((nwt,nQ*nS*nT))\n",
    "amps = np.ones((nwt,nQ*nS*nT))\n",
    "for iwt in range(nwt):\n",
    "    wtdict = np.load(weights_files[iwt],allow_pickle=True)[()]\n",
    "    if 'bl' in wtdict:\n",
    "        bl = wtdict['bl']\n",
    "        bltiles[iwt] = np.tile(bl,nS*nT)\n",
    "    if 'amp' in wtdict:\n",
    "        amp = wtdict['amp']\n",
    "        amps[iwt] = amp"
   ]
  },
  {
   "cell_type": "code",
   "execution_count": 102,
   "metadata": {},
   "outputs": [
    {
     "data": {
      "text/plain": [
       "(94, 21, 36, 8)"
      ]
     },
     "execution_count": 102,
     "metadata": {},
     "output_type": "execute_result"
    }
   ],
   "source": [
    "this_npyfile['YY_opto'].shape"
   ]
  },
  {
   "cell_type": "code",
   "execution_count": 81,
   "metadata": {},
   "outputs": [],
   "source": [
    "opto_levels = 1*np.linspace(0,1,21)\n",
    "# opto_levels = 1*np.linspace(-0.3,0.3,31)\n",
    "# opto_levels = 1*np.linspace(-1.5,1.5,31)\n",
    "\n",
    "network_resps = [None for idir in range(3)]\n",
    "for idir,this_npyfile in enumerate([npyfile,npyfile_halo,npyfile_chrimson]):\n",
    "# for idir,npyfile in enumerate([npyfile_coupled,npyfile_coupled,npyfile_coupled]):\n",
    "    \n",
    "#     YY_opto = npyfile['YY_opto'][low_loss,:,:,np.newaxis,:]\n",
    "#     YY_opto_no_pcpc = npyfile['YY_opto_no_pcpc'][low_loss,:,:,np.newaxis,:]\n",
    "#     YY_opto_no_pcpv = npyfile['YY_opto_no_pcpv'][low_loss,:,:,np.newaxis,:]\n",
    "#     YY_opto_no_pcvip = npyfile['YY_opto_tavg_no_pcvip'][low_loss,:,:,np.newaxis,:]\n",
    "#     YY_opto_no_pcsst = npyfile['YY_opto_tavg_no_pcsst'][low_loss,:,:,np.newaxis,:]\n",
    "#     YY_opto_no_vipbias = npyfile['YY_opto_tavg_no_vipbias'][low_loss,:,:,np.newaxis,:]\n",
    "    YY_opto = this_npyfile['YY_opto'][:,:,:,np.newaxis,:]\n",
    "    YY_opto_no_pcpc = this_npyfile['YY_opto_no_pcpc'][:,:,:,np.newaxis,:]\n",
    "    YY_opto_no_pcpv = this_npyfile['YY_opto_no_pcpv'][:,:,:,np.newaxis,:]\n",
    "    YY_opto_no_pcvip = this_npyfile['YY_opto_tavg_no_pcvip'][:,:,:,np.newaxis,:]\n",
    "    YY_opto_no_pcsst = this_npyfile['YY_opto_tavg_no_pcsst'][:,:,:,np.newaxis,:]\n",
    "    YY_opto_no_vipbias = this_npyfile['YY_opto_tavg_no_vipbias'][:,:,:,np.newaxis,:]\n",
    "\n",
    "    these_losses = losses[low_loss]\n",
    "    \n",
    "    nwt = len(mdls)\n",
    "    iwt = 0\n",
    "    itype = 0\n",
    "\n",
    "    nN = mdls[iwt].nN\n",
    "    ntypes = mdls[iwt].nQ*mdls[iwt].nS*mdls[iwt].nT\n",
    "    this_mdl,this_YY = mdls_no_pcpc.copy(),YY_opto_no_pcpc.copy()\n",
    "    # this_mdl,this_YY = mdls_no_pcpv.copy(),YY_opto_no_pcpv.copy()\n",
    "    # this_mdl,this_YY = mdls.copy(),YY_opto.copy()\n",
    "    YYs = [YY_opto,YY_opto_no_pcpc,YY_opto_no_pcpv,YY_opto_no_pcvip,YY_opto_no_pcsst,YY_opto_no_vipbias]\n",
    "    if idir>0:\n",
    "        network_resps[idir] = [np.zeros((nwt,opto_levels.shape[0],nN,ntypes)) for YY in YYs]\n",
    "    else:\n",
    "        network_resps[idir] = [np.zeros((nwt,31,nN,ntypes)) for YY in YYs]\n",
    "    mdlses = [mdls,mdls_no_pcpc,mdls_no_pcpv,mdls_no_pcvip,mdls_no_pcsst,mdls_no_vipbias]\n",
    "#     mdlses = [[m for m,l in zip(mm,low_loss) if l] for mm in mdlses]\n",
    "#     network_resp = np.zeros((nwt,opto_levels.shape[0],nN,ntypes))\n",
    "#     network_resp_no_pcpc = np.zeros((nwt,opto_levels.shape[0],nN,ntypes))\n",
    "#     network_resp_no_pcpv = np.zeros((nwt,opto_levels.shape[0],nN,ntypes))\n",
    "#     network_resp_no_pcvip = np.zeros((nwt,3,nN,ntypes))\n",
    "#     cell_intrinsic_resp = np.zeros((nwt,opto_levels.shape[0],nN,ntypes))\n",
    "    for network_resp,YY in zip(network_resps[idir],YYs):\n",
    "        for iwt in range(nwt):\n",
    "            network_resp[iwt] = np.nanmean(YY[iwt],2)#[:opto_levels.shape[0]]\n",
    "#     for iwt in range(nwt):\n",
    "#         network_resp[iwt] = np.nanmean(YY_opto[iwt],2) # time avg\n",
    "#         network_resp_no_pcpc[iwt] = np.nanmean(YY_opto_no_pcpc[iwt],2)\n",
    "#         network_resp_no_pcpv[iwt] = np.nanmean(YY_opto_no_pcpv[iwt],2)\n",
    "#         network_resp_no_pcvip[iwt] = np.nanmean(YY_opto_no_pcvip[iwt],2)\n",
    "\n",
    "#         for ilevel in range(opto_levels.shape[0]):\n",
    "#             cell_intrinsic_resp[iwt,ilevel] = this_mdl[iwt].compute_f_(opto_levels[ilevel]+this_mdl[iwt].Eta,this_mdl[iwt].Xi,this_mdl[iwt].s02)\n",
    "            "
   ]
  },
  {
   "cell_type": "code",
   "execution_count": 107,
   "metadata": {},
   "outputs": [
    {
     "data": {
      "text/plain": [
       "6"
      ]
     },
     "execution_count": 107,
     "metadata": {},
     "output_type": "execute_result"
    }
   ],
   "source": [
    "len(network_resps[0])"
   ]
  },
  {
   "cell_type": "code",
   "execution_count": 82,
   "metadata": {
    "scrolled": true
   },
   "outputs": [
    {
     "name": "stdout",
     "output_type": "stream",
     "text": [
      "/Users/agos/Dropbox/ColumbiaProjects/Project_DansPaper/mossing_paper_code/cached/connection_deletion_sim_opto_layer4_cached_fit_opt_params_two_asymptote_fn.npy\n",
      "True\n",
      "loading from cache...\n"
     ]
    }
   ],
   "source": [
    "idir = 2 # response to activation\n",
    "iconn = 0 # baseline connectivity pattern\n",
    "x = opto_levels\n",
    "nr = network_resps[idir][iconn]\n",
    "\n",
    "import naka_rushton_analysis as nra\n",
    "\n",
    "def compute_two_asymptote_fit(x=None, nr=None):\n",
    "    # 3 cell types: pc, sst, vip\n",
    "    # 6 parameters: x0,a1,b1,a2,b2,lam; crossing over x-value, slope+intercepts at \n",
    "    # left and right asymptotes, and x-value scaling factor\n",
    "    params = np.zeros((nr.shape[0],nr.shape[2],3,6))\n",
    "    for istim in range(nr.shape[2]):\n",
    "        for itype in range(3):\n",
    "            print((istim,itype)) # fit a sigmoid to the positive VIP current response\n",
    "            params[:,istim,itype,:],_ = nra.fit_opt_params_two_asymptote_fn(x,nr[:,:,istim,itype])\n",
    "    return params\n",
    "\n",
    "cache_file = cache_base + \"cached_fit_opt_params_two_asymptote_fn.npy\"\n",
    "print(cache_file)\n",
    "print(os.path.exists(cache_file))\n",
    "params = ut.compute_or_load_cached(cache_file=cache_file, compute_fn=compute_two_asymptote_fit, \n",
    "    x=x, nr=nr)\n",
    "\n",
    "# reload(nra)\n",
    "# x = opto_levels#-opto_levels.min()#+1\n",
    "\n",
    "# if os.path.exists(cache_file):\n",
    "#     params = np.load(cache_file)\n",
    "# else:\n",
    "#     params = np.zeros((nr.shape[0],nr.shape[2],3,6))\n",
    "#     for istim in range(nr.shape[2]):\n",
    "#         for itype in range(3):\n",
    "#             print((istim,itype))\n",
    "#             params[:,istim,itype,:],_ = nra.fit_opt_params_two_asymptote_fn(x,nr[:,:,istim,itype])\n",
    "#     np.save(cache_file, params)"
   ]
  },
  {
   "cell_type": "code",
   "execution_count": 83,
   "metadata": {},
   "outputs": [],
   "source": [
    "idir = 2\n",
    "iconn = 0\n",
    "nr = network_resps[idir][iconn]\n",
    "\n",
    "import naka_rushton_analysis as nra\n",
    "reload(nra)\n",
    "x = opto_levels#-opto_levels.min()#+1\n",
    "\n",
    "cache_file = cache_base + \"cached_fit_opt_params_two_asymptote_fn_cpl.npy\"\n",
    "\n",
    "# if os.path.exists(cache_file):\n",
    "#     params_cpl = np.load(cache_file)\n",
    "# else:\n",
    "#     params_cpl = np.zeros((nr.shape[0],nr.shape[2],3,6))\n",
    "#     for istim in range(nr.shape[2]):\n",
    "#         print(istim)\n",
    "#         for itype in range(3):\n",
    "#             params_cpl[:,istim,itype,:],_ = nra.fit_opt_params_two_asymptote_fn(x,nr[:,:,istim,itype])\n",
    "#     np.save(cache_file, params_cpl)\n",
    "\n",
    "def compute_params_cpl(x=None, nr=None):\n",
    "    params_cpl = np.zeros((nr.shape[0],nr.shape[2],3,6))\n",
    "    for istim in range(nr.shape[2]):\n",
    "        print(istim)\n",
    "        for itype in range(3):\n",
    "            params_cpl[:,istim,itype,:],_ = nra.fit_opt_params_two_asymptote_fn(x,nr[:,:,istim,itype])\n",
    "    return params_cpl\n"
   ]
  },
  {
   "cell_type": "code",
   "execution_count": 84,
   "metadata": {},
   "outputs": [],
   "source": [
    "pct_l,pct_u = 16,84\n",
    "#YY_opto,YY_opto_no_pcpc,YY_opto_no_pcpv,YY_opto_no_pcvip,YY_opto_no_pcsst,YY_opto_no_vipbias\n",
    "these_opto_levels = np.linspace(-1.5, 1.5, 31)\n",
    "# these_opto_levels = opto_levels.copy() # the shape of network_resp, etc., is no longer consistent with opto_levels\n",
    "idir = 0\n",
    "network_resp, network_resp_no_pcpc, network_resp_no_pcpv,\\\n",
    "network_resp_no_pcvip,network_resp_no_pcsst,network_resp_no_vipbias = network_resps[idir]\n",
    "\n"
   ]
  },
  {
   "cell_type": "code",
   "execution_count": 85,
   "metadata": {},
   "outputs": [],
   "source": [
    "import sim_utils\n",
    "def this_gen_size_tuning(flsc):\n",
    "    shp = flsc.shape\n",
    "    rflsc = flsc.reshape((shp[0]*shp[1],shp[2],shp[3]))\n",
    "    size_tuning = sim_utils.gen_size_tuning(rflsc).reshape((shp[0],shp[1],shp[2]+1,shp[3]))\n",
    "    return size_tuning"
   ]
  },
  {
   "cell_type": "code",
   "execution_count": 86,
   "metadata": {},
   "outputs": [
    {
     "name": "stdout",
     "output_type": "stream",
     "text": [
      "loading from cache...\n"
     ]
    }
   ],
   "source": [
    "# import calnet.utils\n",
    "# from importlib import reload\n",
    "# reload(calnet.utils)\n",
    "cache_file = cache_base + 'couplingses_Xcouplingses.pkl'\n",
    "def compute_couplingses_Xcouplingses(**kwargs):\n",
    "    network_resps = kwargs['network_resps']\n",
    "    mdlses = kwargs['mdlses']\n",
    "    couplingses = [[None for _ in network_resps[idir]] for idir in range(3)]\n",
    "    for idir in range(3):\n",
    "        for iconn in range(len(network_resps[idir])):\n",
    "            couplingses[idir][iconn] = utils.compute_couplings(network_resps[idir][iconn],mdlses[iconn])\n",
    "            \n",
    "    Xcouplingses = [[None for _ in network_resps[idir]] for idir in range(3)]\n",
    "    for idir in range(3):\n",
    "        for iconn in range(len(network_resps[idir])):\n",
    "            Xcouplingses[idir][iconn] = utils.compute_Xcouplings(network_resps[idir][iconn],mdlses[iconn])\n",
    "    result = {}\n",
    "    result['couplingses'] = couplingses\n",
    "    result['Xcouplingses'] = Xcouplingses\n",
    "    return result\n",
    "result = ut.compute_or_load_cached(\n",
    "    cache_file=cache_file,\n",
    "    compute_fn=compute_couplingses_Xcouplingses,\n",
    "    network_resps=network_resps,\n",
    "    mdlses=mdlses,\n",
    "    )\n",
    "couplingses = result['couplingses']\n",
    "Xcouplingses = result['Xcouplingses']\n"
   ]
  },
  {
   "cell_type": "code",
   "execution_count": null,
   "metadata": {},
   "outputs": [],
   "source": []
  },
  {
   "cell_type": "code",
   "execution_count": 87,
   "metadata": {},
   "outputs": [
    {
     "name": "stdout",
     "output_type": "stream",
     "text": [
      "loading from cache...\n"
     ]
    }
   ],
   "source": [
    "# reload(calnet.utils)\n",
    "this_nopto = 61\n",
    "opto_mag = np.linspace(-3,3,this_nopto)\n",
    "def compute_opto_coupling(mdlses, opto_mag):\n",
    "    this_nopto = 61\n",
    "    opto_coupling = np.zeros((nwt,this_nopto,6,6))\n",
    "    for iwt in range(nwt):\n",
    "        idir,iconn,ilight = 0,0,0\n",
    "        i,j = 4,0\n",
    "        tgt = couplingses[idir][iconn][iwt][ilight][0,0,i,j]\n",
    "        for iopto in range(this_nopto):\n",
    "            opto_coupling[iwt,iopto] = utils.compute_coupling_perturb_WW(mdlses[0][iwt],4,0,opto_mag[iopto])\n",
    "    return opto_coupling\n",
    "    \n",
    "opto_coupling = ut.compute_or_load_cached(\n",
    "    cache_file=cache_base + 'opto_coupling.npy',\n",
    "    compute_fn=compute_opto_coupling,\n",
    "    mdlses=mdlses,\n",
    "    opto_mag=opto_mag,\n",
    ")\n"
   ]
  },
  {
   "cell_type": "code",
   "execution_count": 88,
   "metadata": {},
   "outputs": [
    {
     "name": "stdout",
     "output_type": "stream",
     "text": [
      "loading from cache...\n"
     ]
    }
   ],
   "source": [
    "def compute_dw_to_zero(mdlses=None, couplingses=None):\n",
    "    iconn = 0\n",
    "    idir = 0\n",
    "    ilight = 0\n",
    "    i,j = 4,0\n",
    "    nsize,ncontrast = 6,6\n",
    "    dw_to_zero,cpl = [np.zeros((nwt,nsize,ncontrast)) for _ in range(2)]\n",
    "    for iwt in range(nwt):\n",
    "        tgt = couplingses[idir][iconn][iwt][ilight][0,0,i,j]\n",
    "        print(iwt)\n",
    "        for isize in range(nsize):\n",
    "            for icontrast in range(ncontrast):\n",
    "    #             istim = np.ravel_multi_index((isize,icontrast),(nsize,ncontrast))\n",
    "                dw_to_zero[iwt,isize,icontrast],cpl[iwt,isize,icontrast] = utils.zero_coupling_optimize_dWW(mdlses[iconn][iwt],isize,icontrast,i,j,tgt=tgt)\n",
    "    return dw_to_zero,cpl\n",
    "cache_file = (cache_base + 'connection_deletion_sim_opto_layer4_dw_to_zero.pkl')\n",
    "dw_to_zero,cpl = ut.compute_or_load_cached(\n",
    "    cache_file=cache_file,\n",
    "    compute_fn=compute_dw_to_zero,\n",
    "    mdlses=mdlses,\n",
    "    couplingses=couplingses,\n",
    "    )"
   ]
  },
  {
   "cell_type": "code",
   "execution_count": 89,
   "metadata": {},
   "outputs": [
    {
     "name": "stdout",
     "output_type": "stream",
     "text": [
      "loading from cache...\n"
     ]
    }
   ],
   "source": [
    "def compute_ilight_drmax(couplingses=None):\n",
    "    ilight_drmax = [[None for _ in couplingses[idir]] for idir in range(3)]\n",
    "    i,j = 4,0\n",
    "    for idir in range(3):\n",
    "        ilight_drmax[idir] = [None for _ in couplingses[idir]]\n",
    "        for iconn in range(len(network_resps[idir])):\n",
    "            # shape: (94, 31, 6, 6, 8, 8)\n",
    "            zero_contrast = couplingses[idir][iconn][:,:,:,0,i,j].max(2)\n",
    "            full_contrast = couplingses[idir][iconn][:,:,:,-1,i,j].min(2)\n",
    "            ilight_drmax[idir][iconn] = np.argmax(zero_contrast - full_contrast,axis=1)\n",
    "    return ilight_drmax\n",
    "cache_file = (cache_base + 'ilight_drmax.pkl')\n",
    "ilight_drmax = ut.compute_or_load_cached(\n",
    "    cache_file=cache_file,\n",
    "    compute_fn=compute_ilight_drmax,\n",
    "    couplingses=couplingses,\n",
    "    )"
   ]
  },
  {
   "cell_type": "code",
   "execution_count": 90,
   "metadata": {},
   "outputs": [
    {
     "name": "stdout",
     "output_type": "stream",
     "text": [
      "loading from cache...\n"
     ]
    }
   ],
   "source": [
    "def compute_YY_opto(mdlses=None, dw_to_zero=None):\n",
    "    YY_opto = np.zeros((nwt,2,nN,nQ*nS*nT))\n",
    "    for iwt in range(nwt):\n",
    "        print(iwt)\n",
    "        for ilight in range(2):\n",
    "            YY_opto[iwt,ilight] = utils.compute_YY_dw_mdl(mdlses[0][iwt],4,0,ilight*dw_to_zero[iwt].flatten())\n",
    "    return YY_opto\n",
    "cache_file = cache_base + 'YY_opto.npy'\n",
    "YY_opto = ut.compute_or_load_cached(\n",
    "    cache_file=cache_file,\n",
    "    compute_fn=compute_YY_opto,\n",
    "    mdlses=mdlses,\n",
    "    dw_to_zero=dw_to_zero,\n",
    "    )"
   ]
  },
  {
   "cell_type": "code",
   "execution_count": 91,
   "metadata": {},
   "outputs": [
    {
     "data": {
      "text/plain": [
       "0"
      ]
     },
     "execution_count": 91,
     "metadata": {},
     "output_type": "execute_result"
    }
   ],
   "source": [
    "iconn"
   ]
  },
  {
   "cell_type": "code",
   "execution_count": 92,
   "metadata": {},
   "outputs": [
    {
     "name": "stdout",
     "output_type": "stream",
     "text": [
      "loading from cache...\n"
     ]
    }
   ],
   "source": [
    "nsize, ncontrast = 6, 6\n",
    "ibaseline=15\n",
    "\n",
    "def compute_slope_intercept_res(xdata,ydata):\n",
    "    xdata_norm = xdata/xdata.mean()[np.newaxis,np.newaxis]\n",
    "    ydata_norm = ydata/xdata.mean()[np.newaxis,np.newaxis]\n",
    "    slope, intercept, r_value, p_value, std_err = sst.linregress(xdata_norm.flatten(), (ydata_norm-xdata_norm).flatten())\n",
    "    pred = slope*xdata_norm + intercept\n",
    "    actual = (ydata_norm-xdata_norm)\n",
    "    residual = actual - pred\n",
    "    return slope,intercept,residual\n",
    "\n",
    "def compute_slope_intercept_res_reshape(xdata,ydata):\n",
    "    slope, intercept, residual = compute_slope_intercept_res(xdata,ydata)\n",
    "    residual = residual.reshape((nsize, ncontrast))\n",
    "    return slope,intercept,residual\n",
    "\n",
    "def reshape_resps(network_resps, iconn=0):\n",
    "    nopto = network_resps[1][0].shape[1]\n",
    "    baseline = network_resps[0][iconn][:,ibaseline,:,:].reshape((-1, 1, nsize, ncontrast, ntypes))\n",
    "    down = network_resps[1][iconn][:,:,:,:].reshape((-1, nopto, nsize, ncontrast, ntypes))\n",
    "    up = network_resps[2][iconn][:,:,:,:].reshape((-1, nopto, nsize, ncontrast, ntypes))\n",
    "    return baseline, down, up\n",
    "\n",
    "def compute_slope_intercept_res_arr(network_resps):\n",
    "    nconn = 6\n",
    "    ndir = 2\n",
    "    nopto = network_resps[1][0].shape[1]\n",
    "    slope,intercept,res = [[[None for idir in range(ndir)] for iconn in range(nconn)] for _ in range(3)]\n",
    "    for iconn in range(6):\n",
    "        # (nfiles,nopto,nsize,ncontrast,ntypes)\n",
    "        # xdata = network_resps[1][iconn][:,:,:,:].reshape((-1,nopto,nsize,ncontrast,ntypes)) # halo\n",
    "        # ydata = network_resps[2][iconn][:,:,:,:].reshape((-1,nopto,nsize,ncontrast,ntypes)) # chrimson\n",
    "        # # (nfiles,1,nsize,ncontrast,ntypes)\n",
    "        # zdata = network_resps[0][iconn][:,:,:,:].reshape((-1,1,nsize,ncontrast,ntypes)) # ctrl\n",
    "        zdata, xdata, ydata = reshape_resps(network_resps, iconn=iconn) # zdata: ctrl, xdata: halo, ydata: chrimson\n",
    "        nfits = xdata.shape[0]\n",
    "        for idir in range(2):\n",
    "            slope[iconn][idir] = np.zeros(ydata.shape[:2]+ydata.shape[-1:])\n",
    "            intercept[iconn][idir] = np.zeros(ydata.shape[:2]+ydata.shape[-1:])\n",
    "            res[iconn][idir] = np.zeros(ydata.shape)\n",
    "            for itype in range(ntypes):\n",
    "                for ifit in range(nfits):\n",
    "                    for iopto in range(nopto):\n",
    "                        if idir==0:\n",
    "                            (\n",
    "                                slope[iconn][idir][ifit,iopto,itype],\n",
    "                                intercept[iconn][idir][ifit,iopto,itype],\n",
    "                                res[iconn][idir][ifit,iopto,:,:,itype]\n",
    "                            ) = compute_slope_intercept_res_reshape(zdata[ifit,0,:,:,itype],xdata[ifit,iopto,:,:,itype])\n",
    "                        if idir==1:\n",
    "                            (\n",
    "                                slope[iconn][idir][ifit,iopto,itype],\n",
    "                                intercept[iconn][idir][ifit,iopto,itype],\n",
    "                                res[iconn][idir][ifit,iopto,:,:,itype]\n",
    "                            ) = compute_slope_intercept_res_reshape(zdata[ifit,0,:,:,itype],ydata[ifit,iopto,:,:,itype])\n",
    "                        # res[iconn][idir][ifit,iopto,:,:,itype] = this_res.reshape((6,6))\n",
    "    return slope, intercept, res\n",
    "\n",
    "def compute_slope_intercept_res_dict(network_resps=None):\n",
    "    slope, intercept, res = compute_slope_intercept_res_arr(network_resps)\n",
    "    output_dict = {\n",
    "        'slope': slope,\n",
    "        'intercept': intercept,\n",
    "        'res': res,\n",
    "    }\n",
    "    return output_dict\n",
    "\n",
    "def compute_ilight_resmax(network_resps=None):\n",
    "    nopto = network_resps[1][0].shape[1]#11 # number of opto stimuli; 11 seems out of date\n",
    "    slope,intercept,res = [[[None for idir in range(2)] for iconn in range(6)] for _ in range(3)]\n",
    "    ilight_resmax = [None for idir in range(3)]\n",
    "    ndir = 3\n",
    "    for idir in range(ndir):\n",
    "        ilight_resmax[idir] = [None for iconn in range(6)]\n",
    "    slope, intercept, res = compute_slope_intercept_res_arr(network_resps)\n",
    "    sir_dict = ut.compute_or_load_cached(\n",
    "        cache_file=cache_base + 'sir_dict.pkl',\n",
    "        compute_fn=compute_slope_intercept_res_dict,\n",
    "        network_resps=network_resps,\n",
    "        # invalidate_caches=True,\n",
    "    )\n",
    "    slope, intercept, res = sir_dict['slope'], sir_dict['intercept'], sir_dict['res']\n",
    "    nconn = len(slope)\n",
    "    itype = 0\n",
    "    for iconn in range(nconn):\n",
    "        for idir in range(ndir-1):\n",
    "            ilight_resmax[idir+1][iconn] = np.argmax(np.abs(res[iconn][idir]).sum(2).sum(2),axis=1)[:,itype]\n",
    "        ilight_resmax[0][iconn] = np.zeros_like(ilight_resmax[1][iconn])\n",
    "    result = {'slope':slope,'intercept':intercept,'res':res,'ilight_resmax':ilight_resmax}\n",
    "    return result\n",
    "cache_file = (cache_base + 'ilight_resmax.pkl')\n",
    "result = ut.compute_or_load_cached(\n",
    "    cache_file=cache_file,\n",
    "    compute_fn=compute_ilight_resmax,\n",
    "    network_resps=network_resps,\n",
    "    )\n",
    "slope = result['slope']\n",
    "intercept = result['intercept']\n",
    "res = result['res']\n",
    "ilight_resmax = result['ilight_resmax']"
   ]
  },
  {
   "cell_type": "code",
   "execution_count": 93,
   "metadata": {},
   "outputs": [
    {
     "name": "stdout",
     "output_type": "stream",
     "text": [
      "loading from cache...\n"
     ]
    }
   ],
   "source": [
    "cache_file = (cache_base + 'ilight_resmax.pkl')\n",
    "result = ut.compute_or_load_cached(\n",
    "    cache_file=cache_file,\n",
    "    compute_fn=compute_ilight_resmax,\n",
    "    network_resps=network_resps,\n",
    "    )\n",
    "slope = result['slope']\n",
    "intercept = result['intercept']\n",
    "res = result['res']"
   ]
  },
  {
   "cell_type": "code",
   "execution_count": 94,
   "metadata": {},
   "outputs": [
    {
     "data": {
      "text/plain": [
       "(94,)"
      ]
     },
     "execution_count": 94,
     "metadata": {},
     "output_type": "execute_result"
    }
   ],
   "source": [
    "lkat.shape"
   ]
  },
  {
   "cell_type": "code",
   "execution_count": 95,
   "metadata": {},
   "outputs": [],
   "source": [
    "lkat = ut.k_and(*[network_resps[idir][iconn].max(1).max(1).max(1) < 10 for iconn in [0,2,3,4]])\n",
    "# lkat: non-divergent responses to positive VIP current"
   ]
  },
  {
   "cell_type": "code",
   "execution_count": 96,
   "metadata": {},
   "outputs": [],
   "source": [
    "slope, intercept, res = compute_slope_intercept_res_arr(network_resps)\n",
    "\n"
   ]
  },
  {
   "cell_type": "code",
   "execution_count": 97,
   "metadata": {},
   "outputs": [
    {
     "name": "stdout",
     "output_type": "stream",
     "text": [
      "The autoreload extension is already loaded. To reload it, use:\n",
      "  %reload_ext autoreload\n"
     ]
    }
   ],
   "source": [
    "%load_ext autoreload\n",
    "%autoreload 2\n",
    "\n",
    "alpha = 0.5\n",
    "\n",
    "izero = 15\n",
    "zero_subtracted = True\n",
    "\n",
    "norm_to_mean = True\n",
    "\n",
    "# lkat = ut.k_and(*[network_resps[iconn].max(1).max(1).max(1) < 10 for iconn in [0,2,3,4]])\n",
    "lkat = ut.k_and(*[network_resps[idir][iconn].max(1).max(1).max(1) < 10 for iconn in [0,2,3,4]])\n",
    "\n",
    "reload(ut)\n",
    "\n",
    "def plot_nonlinearity(opto_levels, network_resp,color,label,zero_subtracted=zero_subtracted):\n",
    "    if zero_subtracted:\n",
    "        to_plot = network_resp - network_resp[:,izero:izero+1]\n",
    "    else:\n",
    "        to_plot = network_resp - 0\n",
    "    plt.plot(opto_levels,np.nanmean(to_plot,0),c=color,label=label)\n",
    "    plt.fill_between(opto_levels,np.nanpercentile(to_plot,pct_l,axis=0),np.nanpercentile(to_plot,pct_u,axis=0),facecolor=color,alpha=alpha)\n",
    "\n",
    "def plot_cell_intrinsic_resp(cell_intrinsic_resp,label,zero_subtracted=zero_subtracted):\n",
    "    if zero_subtracted:\n",
    "        to_plot = cell_intrinsic_resp - cell_intrinsic_resp[:,izero:izero+1]\n",
    "    else:\n",
    "        to_plot = cell_intrinsic_resp - 0\n",
    "    plt.plot(opto_levels,np.nanmean(to_plot,0),c='k',linestyle='dashed',label=label)\n",
    "    \n",
    "np.random.seed(0)\n",
    "this_lkat = np.random.randint(lkat.sum())\n",
    "this_lkat = slice(this_lkat, this_lkat+1)\n",
    "    \n",
    "# itype = 2\n",
    "pct_l,pct_u = 16,84\n",
    "cs = [None,np.array((1,0.65,0)),np.array((1,0,1)),None]\n",
    "# for istim, title in zip(\n",
    "#     [0,5,35,18,20,23],\n",
    "#     ['0% contrast','5$^o$ size, 100% contrast','60$^o$ size, 100% contrast','0% contrast','22$^o$ size, 12% contrast','22$^o$ size, 100% contrast']\n",
    "#     ):\n",
    "iconn = 0\n",
    "nrs_list = [\n",
    "    ([network_resps[idir][iconn] for idir in [1, 2]], False, 3),\n",
    "    (\n",
    "        [res[iconn][idir-1].reshape(res[iconn][idir-1].shape[:2] + (nsize*ncontrast, ntypes)) for idir in [1, 2]], \n",
    "        True,\n",
    "        1\n",
    "    )\n",
    "]\n"
   ]
  },
  {
   "cell_type": "code",
   "execution_count": 98,
   "metadata": {},
   "outputs": [],
   "source": [
    "res[iconn][idir-1];"
   ]
  },
  {
   "cell_type": "code",
   "execution_count": 99,
   "metadata": {},
   "outputs": [
    {
     "data": {
      "image/png": "[encoded data removed]",
      "text/plain": [
       "<Figure size 720x180 with 4 Axes>"
      ]
     },
     "metadata": {
      "needs_background": "light"
     },
     "output_type": "display_data"
    },
    {
     "data": {
      "image/png": "[encoded data removed]",
      "text/plain": [
       "<Figure size 720x180 with 4 Axes>"
      ]
     },
     "metadata": {
      "needs_background": "light"
     },
     "output_type": "display_data"
    },
    {
     "data": {
      "image/png": "[encoded data removed]",
      "text/plain": [
       "<Figure size 720x180 with 4 Axes>"
      ]
     },
     "metadata": {
      "needs_background": "light"
     },
     "output_type": "display_data"
    },
    {
     "data": {
      "image/png": "[encoded data removed]",
      "text/plain": [
       "<Figure size 720x180 with 4 Axes>"
      ]
     },
     "metadata": {
      "needs_background": "light"
     },
     "output_type": "display_data"
    }
   ],
   "source": [
    "\n",
    "# nr_baselines_list = [\n",
    "#     nr_baseline = network_resps[0][iconn],\n",
    "\n",
    "# ]\n",
    "nr_baseline = network_resps[0][iconn]\n",
    "for nrs, is_res, this_ntype in nrs_list:\n",
    "    for zero_subtracted in [False, True]:\n",
    "        plt.figure(figsize=(10,2.5))\n",
    "        for iistim, (istim,title) in enumerate([\n",
    "            # (0, '0% contrast'),\n",
    "            # (5, '5$^o$ size, 100% contrast'),\n",
    "            # (35, '60$^o$ size, 100% contrast'),\n",
    "            # (18, '0% contrast'),\n",
    "            # (20, '22$^o$ size, 12% contrast'),\n",
    "            # (23, '22$^o$ size, 100% contrast')\n",
    "            (20, '22$^o$ size, 12% contrast'),\n",
    "            (23, '22$^o$ size, 100% contrast'),\n",
    "            (5, '5$^o$ size, 100% contrast'),\n",
    "            (35, '60$^o$ size, 100% contrast'),\n",
    "        ]):\n",
    "            plt.subplot(1, 4, iistim+1)\n",
    "            # plt.figure(figsize=(2.5,2.5))\n",
    "        #     plot_cell_intrinsic_resp(cell_intrinsic_resp[:,:,istim,itype],'cell-intrinsic nonlinearity')\n",
    "        #     plt.plot(opto_levels,np.nanmean(cell_intrinsic_resp,0)[:,istim,itype],c='k',linestyle='dashed',label='cell-intrinsic nonlinearity')\n",
    "        #     plt.fill_between(opto_levels,np.nanpercentile(cell_intrinsic_resp,pct_l,axis=0)[:,istim,itype],np.nanpercentile(cell_intrinsic_resp,pct_u,axis=0)[:,istim,itype],facecolor='k',alpha=0.5)\n",
    "            \n",
    "            iconn = 0\n",
    "            \n",
    "            # nrs = [network_resps[idir][iconn] for idir in [1, 2]] + [res[iconn][idir-1] for idir in [1, 2]]\n",
    "            pos_neg_opto_levels = [-opto_levels, opto_levels] + [-opto_levels, opto_levels]\n",
    "            \n",
    "        #     cs = ['k',np.array((1,0.65,0)),np.array((1,0,1)),np.array((0,0,1))]\n",
    "            cs = [np.array((0.5,0.5,0.5)),np.array((1,0.5,0)),np.array((236, 0, 140))/255,np.array((0,0,1))]\n",
    "            lbls = ['baseline','PC$\\rightarrow$SST weights deleted','PC$\\rightarrow$VIP weights deleted','PC$\\leftrightarrow$PV weights deleted']\n",
    "            for iplot,(nr, these_opto_levels, c, lbl) in enumerate(zip(nrs, pos_neg_opto_levels, cs, lbls)):\n",
    "                if norm_to_mean and not is_res:\n",
    "                    nr = ut.norm_middle_axes_to_mean(nr[:,:,:,:],nr_baseline[:,15,:,:])\n",
    "                # plt.subplot(1,4,iplot+1)\n",
    "                for itype in range(this_ntype):\n",
    "                    plot_nonlinearity(these_opto_levels, nr[lkat][:,:,istim,itype],\n",
    "                        cs[itype], lbl, zero_subtracted=zero_subtracted)\n",
    "        #             plot_nonlinearity(nr[lkat][this_lkat][:,:,istim,itype],cs[itype],lbl)\n",
    "                plt.axvline(0,c='k',linestyle='dashed')\n",
    "                plt.axhline(0,c='k',linestyle='dashed')\n",
    "        #         plt.xlim((-1.5,1.5))\n",
    "                plt.xlim((-0.5,0.5))\n",
    "        #         plt.xlim((-0.25,0.25))\n",
    "        #         plt.ylim((-1,3.5))\n",
    "                if norm_to_mean and not is_res:\n",
    "                    plt.ylim((-2,6))\n",
    "                else:\n",
    "                    # plt.ylim((-1,3))\n",
    "                    plt.ylim((-1.5,1.5))\n",
    "        #         plt.ylim((-0.75,2.5))\n",
    "                ut.erase_top_right()\n",
    "\n",
    "#                 plt.plot(opto_levels,np.nanmean(network_resp,0)[:,istim,itype],c='k',label='baseline')\n",
    "#                 plt.fill_between(opto_levels,np.nanpercentile(network_resp,pct_l,axis=0)[:,istim,itype],np.nanpercentile(network_resp,pct_u,axis=0)[:,istim,itype],facecolor='k',alpha=0.5)\n",
    "\n",
    "#                 plt.plot(opto_levels,np.nanmean(network_resp_no_pcvip,0)[:,istim,itype],c=cs[2],label='PC$\\rightarrow$VIP weights deleted')\n",
    "#                 plt.fill_between(opto_levels,np.nanpercentile(network_resp_no_pcvip,pct_l,axis=0)[:,istim,itype],np.nanpercentile(network_resp_no_pcvip,pct_u,axis=0)[:,istim,itype],facecolor=cs[2],label='PC$\\leftrightarrow$PC weights deleted',alpha=0.5)\n",
    "\n",
    "#                 plt.plot(opto_levels,np.nanmean(network_resp_no_pcsst,0)[:,istim,itype],c=cs[1],label='PC$\\rightarrow$SST weights deleted')\n",
    "#                 plt.fill_between(opto_levels,np.nanpercentile(network_resp_no_pcsst,pct_l,axis=0)[:,istim,itype],np.nanpercentile(network_resp_no_pcsst,pct_u,axis=0)[:,istim,itype],facecolor=cs[1],label='PC$\\leftrightarrow$PV weights deleted',alpha=0.5)\n",
    "\n",
    "            # plt.legend()\n",
    "        #         plt.xlim((-1.5,1.5))\n",
    "                    \n",
    "                plt.xlabel('VIP current injection')\n",
    "                if zero_subtracted:\n",
    "                    plt.ylabel(r'$\\Delta$firing rate'+'\\n(baseline=0 VIP current)')\n",
    "                else:\n",
    "                    plt.ylabel('firing rate')\n",
    "                if is_res:\n",
    "                    plt.ylabel(r'residual $\\Delta$firing rate')\n",
    "            # plt.title('PC$\\leftrightarrow$PC weights deleted')\n",
    "            plt.tight_layout()\n",
    "        #     plt.savefig('figures/network_nonlinearity_w_and_wo_ws_stim_%d_no_title.jpg'%istim,dpi=300)\n",
    "        #     plt.savefig('figures/sst_network_nonlinearity_w_and_wo_ws_stim_%d_no_title.jpg'%istim,dpi=300)\n",
    "            plt.title(title)\n",
    "        plt.tight_layout()\n",
    "        if not is_res:\n",
    "            plt.savefig(notebook_base+f'/figures/network_nonlinearity_with_l4_baselined_{zero_subtracted}_by_stim.jpg',dpi=300)\n",
    "        else:\n",
    "            plt.savefig(notebook_base+f'/figures/network_nonlinearity_with_l4_baselined_{zero_subtracted}_by_stim_res_{is_res}.jpg',dpi=300)\n",
    "            # plt.savefig(f'../figures/network_nonlinearity_with_l4_baselined_{zero_subtracted}_by_stim_{istim}.eps')"
   ]
  },
  {
   "cell_type": "code",
   "execution_count": 101,
   "metadata": {},
   "outputs": [],
   "source": [
    "network_resp_no_pcpc;"
   ]
  },
  {
   "cell_type": "code",
   "execution_count": null,
   "metadata": {},
   "outputs": [],
   "source": []
  }
 ],
 "metadata": {
  "kernelspec": {
   "display_name": "Python 3",
   "language": "python",
   "name": "python3"
  },
  "language_info": {
   "codemirror_mode": {
    "name": "ipython",
    "version": 3
   },
   "file_extension": ".py",
   "mimetype": "text/x-python",
   "name": "python",
   "nbconvert_exporter": "python",
   "pygments_lexer": "ipython3",
   "version": "3.6.13"
  },
  "vscode": {
   "interpreter": {
    "hash": "d7b89e158b719c02a21186c9646700ecf5a8cc5b1b6f738df9b6ffa75e5e74e4"
   }
  }
 },
 "nbformat": 4,
 "nbformat_minor": 4
}
