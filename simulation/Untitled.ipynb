{
 "cells": [
  {
   "cell_type": "code",
   "execution_count": 2,
   "id": "e2c7b926",
   "metadata": {},
   "outputs": [
    {
     "name": "stderr",
     "output_type": "stream",
     "text": [
      "/Users/dan/Documents/code/downloads/OASIS/oasis/functions.py:14: UserWarning: Could not find cvxpy. Don't worry, you can still use OASIS, just not the slower interior point methods we compared to in the papers.\n",
      "  \"just not the slower interior point methods we compared to in the papers.\")\n"
     ]
    }
   ],
   "source": [
    "import h5py\n",
    "import pyute as ut"
   ]
  },
  {
   "cell_type": "code",
   "execution_count": 8,
   "id": "58d4f9ef",
   "metadata": {},
   "outputs": [
    {
     "name": "stdout",
     "output_type": "stream",
     "text": [
      "[ 0  1  2  3  4  5  6  7  8  9 10 11 12 13 14 15 16 17 18 19 20 21 22 23\n",
      " 24 25 26 27 28 29 30 31]\n"
     ]
    }
   ],
   "source": [
    "with ut.hdf5read('/Users/dan/Downloads/doi_10.6078_D1370M__v3/s1_l4_data_struct.hdf5') as f:\n",
    "    print(f['session_evan_7734_308']['nub_0']['stimulus_nubs_active'][:])"
   ]
  },
  {
   "cell_type": "code",
   "execution_count": 13,
   "id": "6e8d78c0",
   "metadata": {},
   "outputs": [
    {
     "name": "stdout",
     "output_type": "stream",
     "text": [
      "[ 0  1  2  3  4  5  6  7  8  9 10 11 12 13 14 15 16 17 18 19 20 21 22 23\n",
      " 24 25 26 27 28 29 30 31]\n"
     ]
    }
   ],
   "source": [
    "with ut.hdf5read('/Users/dan/Downloads/doi_10.6078_D1370M__v3/v1_l4_data_struct.hdf5') as f:\n",
    "    print(f['session_190827_M10077']['nub_0']['stimulus_nubs_active'][:])#['session_evan_7734_308']['nub_0']['stimulus_nubs_active'][:])"
   ]
  },
  {
   "cell_type": "code",
   "execution_count": null,
   "id": "fdf7e1e8",
   "metadata": {},
   "outputs": [],
   "source": []
  }
 ],
 "metadata": {
  "kernelspec": {
   "display_name": "Python 3",
   "language": "python",
   "name": "python3"
  },
  "language_info": {
   "codemirror_mode": {
    "name": "ipython",
    "version": 3
   },
   "file_extension": ".py",
   "mimetype": "text/x-python",
   "name": "python",
   "nbconvert_exporter": "python",
   "pygments_lexer": "ipython3",
   "version": "3.6.13"
  }
 },
 "nbformat": 4,
 "nbformat_minor": 5
}
